{
  "nbformat": 4,
  "nbformat_minor": 0,
  "metadata": {
    "colab": {
      "provenance": [],
      "mount_file_id": "1SAvyQvpJMma-k_-ALG_pw65dBhJeg7bl",
      "authorship_tag": "ABX9TyPWPpEen9vcnkCxIYw6+54/",
      "include_colab_link": true
    },
    "kernelspec": {
      "name": "python3",
      "display_name": "Python 3"
    },
    "language_info": {
      "name": "python"
    }
  },
  "cells": [
    {
      "cell_type": "markdown",
      "metadata": {
        "id": "view-in-github",
        "colab_type": "text"
      },
      "source": [
        "<a href=\"https://colab.research.google.com/github/mahmud841/stroke_prediction_using_python/blob/main/stroke_prediction_using_python.ipynb\" target=\"_parent\"><img src=\"https://colab.research.google.com/assets/colab-badge.svg\" alt=\"Open In Colab\"/></a>"
      ]
    },
    {
      "cell_type": "code",
      "source": [
        "from google.colab import drive\n",
        "drive.mount('/content/drive')"
      ],
      "metadata": {
        "colab": {
          "base_uri": "https://localhost:8080/"
        },
        "id": "-xukjCD2RroN",
        "outputId": "d2977cfd-af72-43a9-de3d-b82a38a50e21"
      },
      "execution_count": 1,
      "outputs": [
        {
          "output_type": "stream",
          "name": "stdout",
          "text": [
            "Drive already mounted at /content/drive; to attempt to forcibly remount, call drive.mount(\"/content/drive\", force_remount=True).\n"
          ]
        }
      ]
    },
    {
      "cell_type": "code",
      "execution_count": null,
      "metadata": {
        "id": "V8jteItpP6VZ"
      },
      "outputs": [],
      "source": [
        "import pandas as pd\n",
        "import numpy as np"
      ]
    },
    {
      "cell_type": "code",
      "source": [
        "train_df = pd.read_csv('/content/drive/MyDrive/Colab Notebooks/projects_data/train.csv')\n",
        "test_df = pd.read_csv('/content/drive/MyDrive/Colab Notebooks/projects_data/test.csv')\n",
        "sub_df = pd.read_csv('/content/drive/MyDrive/Colab Notebooks/projects_data/sample_submission.csv')"
      ],
      "metadata": {
        "id": "fw63nuzmQEhr"
      },
      "execution_count": null,
      "outputs": []
    },
    {
      "cell_type": "markdown",
      "source": [
        "# New Section"
      ],
      "metadata": {
        "id": "_zpdNaCIQM0z"
      }
    },
    {
      "cell_type": "code",
      "source": [
        "train_df.head()"
      ],
      "metadata": {
        "colab": {
          "base_uri": "https://localhost:8080/",
          "height": 206
        },
        "id": "ma5cdi5oSC1h",
        "outputId": "f4cbdaab-17f6-40a4-d5a3-d85fcff650d9"
      },
      "execution_count": null,
      "outputs": [
        {
          "output_type": "execute_result",
          "data": {
            "text/plain": [
              "   id  gender   age  hypertension  heart_disease ever_married work_type  \\\n",
              "0   0    Male  28.0             0              0          Yes   Private   \n",
              "1   1    Male  33.0             0              0          Yes   Private   \n",
              "2   2  Female  42.0             0              0          Yes   Private   \n",
              "3   3    Male  56.0             0              0          Yes   Private   \n",
              "4   4  Female  24.0             0              0           No   Private   \n",
              "\n",
              "  Residence_type  avg_glucose_level   bmi   smoking_status  stroke  \n",
              "0          Urban              79.53  31.1     never smoked       0  \n",
              "1          Rural              78.44  23.9  formerly smoked       0  \n",
              "2          Rural             103.00  40.3          Unknown       0  \n",
              "3          Urban              64.87  28.8     never smoked       0  \n",
              "4          Rural              73.36  28.8     never smoked       0  "
            ],
            "text/html": [
              "\n",
              "  <div id=\"df-c49bd901-f426-4005-878c-298bf0fe1f05\" class=\"colab-df-container\">\n",
              "    <div>\n",
              "<style scoped>\n",
              "    .dataframe tbody tr th:only-of-type {\n",
              "        vertical-align: middle;\n",
              "    }\n",
              "\n",
              "    .dataframe tbody tr th {\n",
              "        vertical-align: top;\n",
              "    }\n",
              "\n",
              "    .dataframe thead th {\n",
              "        text-align: right;\n",
              "    }\n",
              "</style>\n",
              "<table border=\"1\" class=\"dataframe\">\n",
              "  <thead>\n",
              "    <tr style=\"text-align: right;\">\n",
              "      <th></th>\n",
              "      <th>id</th>\n",
              "      <th>gender</th>\n",
              "      <th>age</th>\n",
              "      <th>hypertension</th>\n",
              "      <th>heart_disease</th>\n",
              "      <th>ever_married</th>\n",
              "      <th>work_type</th>\n",
              "      <th>Residence_type</th>\n",
              "      <th>avg_glucose_level</th>\n",
              "      <th>bmi</th>\n",
              "      <th>smoking_status</th>\n",
              "      <th>stroke</th>\n",
              "    </tr>\n",
              "  </thead>\n",
              "  <tbody>\n",
              "    <tr>\n",
              "      <th>0</th>\n",
              "      <td>0</td>\n",
              "      <td>Male</td>\n",
              "      <td>28.0</td>\n",
              "      <td>0</td>\n",
              "      <td>0</td>\n",
              "      <td>Yes</td>\n",
              "      <td>Private</td>\n",
              "      <td>Urban</td>\n",
              "      <td>79.53</td>\n",
              "      <td>31.1</td>\n",
              "      <td>never smoked</td>\n",
              "      <td>0</td>\n",
              "    </tr>\n",
              "    <tr>\n",
              "      <th>1</th>\n",
              "      <td>1</td>\n",
              "      <td>Male</td>\n",
              "      <td>33.0</td>\n",
              "      <td>0</td>\n",
              "      <td>0</td>\n",
              "      <td>Yes</td>\n",
              "      <td>Private</td>\n",
              "      <td>Rural</td>\n",
              "      <td>78.44</td>\n",
              "      <td>23.9</td>\n",
              "      <td>formerly smoked</td>\n",
              "      <td>0</td>\n",
              "    </tr>\n",
              "    <tr>\n",
              "      <th>2</th>\n",
              "      <td>2</td>\n",
              "      <td>Female</td>\n",
              "      <td>42.0</td>\n",
              "      <td>0</td>\n",
              "      <td>0</td>\n",
              "      <td>Yes</td>\n",
              "      <td>Private</td>\n",
              "      <td>Rural</td>\n",
              "      <td>103.00</td>\n",
              "      <td>40.3</td>\n",
              "      <td>Unknown</td>\n",
              "      <td>0</td>\n",
              "    </tr>\n",
              "    <tr>\n",
              "      <th>3</th>\n",
              "      <td>3</td>\n",
              "      <td>Male</td>\n",
              "      <td>56.0</td>\n",
              "      <td>0</td>\n",
              "      <td>0</td>\n",
              "      <td>Yes</td>\n",
              "      <td>Private</td>\n",
              "      <td>Urban</td>\n",
              "      <td>64.87</td>\n",
              "      <td>28.8</td>\n",
              "      <td>never smoked</td>\n",
              "      <td>0</td>\n",
              "    </tr>\n",
              "    <tr>\n",
              "      <th>4</th>\n",
              "      <td>4</td>\n",
              "      <td>Female</td>\n",
              "      <td>24.0</td>\n",
              "      <td>0</td>\n",
              "      <td>0</td>\n",
              "      <td>No</td>\n",
              "      <td>Private</td>\n",
              "      <td>Rural</td>\n",
              "      <td>73.36</td>\n",
              "      <td>28.8</td>\n",
              "      <td>never smoked</td>\n",
              "      <td>0</td>\n",
              "    </tr>\n",
              "  </tbody>\n",
              "</table>\n",
              "</div>\n",
              "    <div class=\"colab-df-buttons\">\n",
              "\n",
              "  <div class=\"colab-df-container\">\n",
              "    <button class=\"colab-df-convert\" onclick=\"convertToInteractive('df-c49bd901-f426-4005-878c-298bf0fe1f05')\"\n",
              "            title=\"Convert this dataframe to an interactive table.\"\n",
              "            style=\"display:none;\">\n",
              "\n",
              "  <svg xmlns=\"http://www.w3.org/2000/svg\" height=\"24px\" viewBox=\"0 -960 960 960\">\n",
              "    <path d=\"M120-120v-720h720v720H120Zm60-500h600v-160H180v160Zm220 220h160v-160H400v160Zm0 220h160v-160H400v160ZM180-400h160v-160H180v160Zm440 0h160v-160H620v160ZM180-180h160v-160H180v160Zm440 0h160v-160H620v160Z\"/>\n",
              "  </svg>\n",
              "    </button>\n",
              "\n",
              "  <style>\n",
              "    .colab-df-container {\n",
              "      display:flex;\n",
              "      gap: 12px;\n",
              "    }\n",
              "\n",
              "    .colab-df-convert {\n",
              "      background-color: #E8F0FE;\n",
              "      border: none;\n",
              "      border-radius: 50%;\n",
              "      cursor: pointer;\n",
              "      display: none;\n",
              "      fill: #1967D2;\n",
              "      height: 32px;\n",
              "      padding: 0 0 0 0;\n",
              "      width: 32px;\n",
              "    }\n",
              "\n",
              "    .colab-df-convert:hover {\n",
              "      background-color: #E2EBFA;\n",
              "      box-shadow: 0px 1px 2px rgba(60, 64, 67, 0.3), 0px 1px 3px 1px rgba(60, 64, 67, 0.15);\n",
              "      fill: #174EA6;\n",
              "    }\n",
              "\n",
              "    .colab-df-buttons div {\n",
              "      margin-bottom: 4px;\n",
              "    }\n",
              "\n",
              "    [theme=dark] .colab-df-convert {\n",
              "      background-color: #3B4455;\n",
              "      fill: #D2E3FC;\n",
              "    }\n",
              "\n",
              "    [theme=dark] .colab-df-convert:hover {\n",
              "      background-color: #434B5C;\n",
              "      box-shadow: 0px 1px 3px 1px rgba(0, 0, 0, 0.15);\n",
              "      filter: drop-shadow(0px 1px 2px rgba(0, 0, 0, 0.3));\n",
              "      fill: #FFFFFF;\n",
              "    }\n",
              "  </style>\n",
              "\n",
              "    <script>\n",
              "      const buttonEl =\n",
              "        document.querySelector('#df-c49bd901-f426-4005-878c-298bf0fe1f05 button.colab-df-convert');\n",
              "      buttonEl.style.display =\n",
              "        google.colab.kernel.accessAllowed ? 'block' : 'none';\n",
              "\n",
              "      async function convertToInteractive(key) {\n",
              "        const element = document.querySelector('#df-c49bd901-f426-4005-878c-298bf0fe1f05');\n",
              "        const dataTable =\n",
              "          await google.colab.kernel.invokeFunction('convertToInteractive',\n",
              "                                                    [key], {});\n",
              "        if (!dataTable) return;\n",
              "\n",
              "        const docLinkHtml = 'Like what you see? Visit the ' +\n",
              "          '<a target=\"_blank\" href=https://colab.research.google.com/notebooks/data_table.ipynb>data table notebook</a>'\n",
              "          + ' to learn more about interactive tables.';\n",
              "        element.innerHTML = '';\n",
              "        dataTable['output_type'] = 'display_data';\n",
              "        await google.colab.output.renderOutput(dataTable, element);\n",
              "        const docLink = document.createElement('div');\n",
              "        docLink.innerHTML = docLinkHtml;\n",
              "        element.appendChild(docLink);\n",
              "      }\n",
              "    </script>\n",
              "  </div>\n",
              "\n",
              "\n",
              "<div id=\"df-2ced8d33-08bc-4aee-8284-b7788bd53e57\">\n",
              "  <button class=\"colab-df-quickchart\" onclick=\"quickchart('df-2ced8d33-08bc-4aee-8284-b7788bd53e57')\"\n",
              "            title=\"Suggest charts\"\n",
              "            style=\"display:none;\">\n",
              "\n",
              "<svg xmlns=\"http://www.w3.org/2000/svg\" height=\"24px\"viewBox=\"0 0 24 24\"\n",
              "     width=\"24px\">\n",
              "    <g>\n",
              "        <path d=\"M19 3H5c-1.1 0-2 .9-2 2v14c0 1.1.9 2 2 2h14c1.1 0 2-.9 2-2V5c0-1.1-.9-2-2-2zM9 17H7v-7h2v7zm4 0h-2V7h2v10zm4 0h-2v-4h2v4z\"/>\n",
              "    </g>\n",
              "</svg>\n",
              "  </button>\n",
              "\n",
              "<style>\n",
              "  .colab-df-quickchart {\n",
              "      --bg-color: #E8F0FE;\n",
              "      --fill-color: #1967D2;\n",
              "      --hover-bg-color: #E2EBFA;\n",
              "      --hover-fill-color: #174EA6;\n",
              "      --disabled-fill-color: #AAA;\n",
              "      --disabled-bg-color: #DDD;\n",
              "  }\n",
              "\n",
              "  [theme=dark] .colab-df-quickchart {\n",
              "      --bg-color: #3B4455;\n",
              "      --fill-color: #D2E3FC;\n",
              "      --hover-bg-color: #434B5C;\n",
              "      --hover-fill-color: #FFFFFF;\n",
              "      --disabled-bg-color: #3B4455;\n",
              "      --disabled-fill-color: #666;\n",
              "  }\n",
              "\n",
              "  .colab-df-quickchart {\n",
              "    background-color: var(--bg-color);\n",
              "    border: none;\n",
              "    border-radius: 50%;\n",
              "    cursor: pointer;\n",
              "    display: none;\n",
              "    fill: var(--fill-color);\n",
              "    height: 32px;\n",
              "    padding: 0;\n",
              "    width: 32px;\n",
              "  }\n",
              "\n",
              "  .colab-df-quickchart:hover {\n",
              "    background-color: var(--hover-bg-color);\n",
              "    box-shadow: 0 1px 2px rgba(60, 64, 67, 0.3), 0 1px 3px 1px rgba(60, 64, 67, 0.15);\n",
              "    fill: var(--button-hover-fill-color);\n",
              "  }\n",
              "\n",
              "  .colab-df-quickchart-complete:disabled,\n",
              "  .colab-df-quickchart-complete:disabled:hover {\n",
              "    background-color: var(--disabled-bg-color);\n",
              "    fill: var(--disabled-fill-color);\n",
              "    box-shadow: none;\n",
              "  }\n",
              "\n",
              "  .colab-df-spinner {\n",
              "    border: 2px solid var(--fill-color);\n",
              "    border-color: transparent;\n",
              "    border-bottom-color: var(--fill-color);\n",
              "    animation:\n",
              "      spin 1s steps(1) infinite;\n",
              "  }\n",
              "\n",
              "  @keyframes spin {\n",
              "    0% {\n",
              "      border-color: transparent;\n",
              "      border-bottom-color: var(--fill-color);\n",
              "      border-left-color: var(--fill-color);\n",
              "    }\n",
              "    20% {\n",
              "      border-color: transparent;\n",
              "      border-left-color: var(--fill-color);\n",
              "      border-top-color: var(--fill-color);\n",
              "    }\n",
              "    30% {\n",
              "      border-color: transparent;\n",
              "      border-left-color: var(--fill-color);\n",
              "      border-top-color: var(--fill-color);\n",
              "      border-right-color: var(--fill-color);\n",
              "    }\n",
              "    40% {\n",
              "      border-color: transparent;\n",
              "      border-right-color: var(--fill-color);\n",
              "      border-top-color: var(--fill-color);\n",
              "    }\n",
              "    60% {\n",
              "      border-color: transparent;\n",
              "      border-right-color: var(--fill-color);\n",
              "    }\n",
              "    80% {\n",
              "      border-color: transparent;\n",
              "      border-right-color: var(--fill-color);\n",
              "      border-bottom-color: var(--fill-color);\n",
              "    }\n",
              "    90% {\n",
              "      border-color: transparent;\n",
              "      border-bottom-color: var(--fill-color);\n",
              "    }\n",
              "  }\n",
              "</style>\n",
              "\n",
              "  <script>\n",
              "    async function quickchart(key) {\n",
              "      const quickchartButtonEl =\n",
              "        document.querySelector('#' + key + ' button');\n",
              "      quickchartButtonEl.disabled = true;  // To prevent multiple clicks.\n",
              "      quickchartButtonEl.classList.add('colab-df-spinner');\n",
              "      try {\n",
              "        const charts = await google.colab.kernel.invokeFunction(\n",
              "            'suggestCharts', [key], {});\n",
              "      } catch (error) {\n",
              "        console.error('Error during call to suggestCharts:', error);\n",
              "      }\n",
              "      quickchartButtonEl.classList.remove('colab-df-spinner');\n",
              "      quickchartButtonEl.classList.add('colab-df-quickchart-complete');\n",
              "    }\n",
              "    (() => {\n",
              "      let quickchartButtonEl =\n",
              "        document.querySelector('#df-2ced8d33-08bc-4aee-8284-b7788bd53e57 button');\n",
              "      quickchartButtonEl.style.display =\n",
              "        google.colab.kernel.accessAllowed ? 'block' : 'none';\n",
              "    })();\n",
              "  </script>\n",
              "</div>\n",
              "\n",
              "    </div>\n",
              "  </div>\n"
            ],
            "application/vnd.google.colaboratory.intrinsic+json": {
              "type": "dataframe",
              "variable_name": "train_df",
              "summary": "{\n  \"name\": \"train_df\",\n  \"rows\": 15304,\n  \"fields\": [\n    {\n      \"column\": \"id\",\n      \"properties\": {\n        \"dtype\": \"number\",\n        \"std\": 4418,\n        \"min\": 0,\n        \"max\": 15303,\n        \"num_unique_values\": 15304,\n        \"samples\": [\n          12100,\n          10072,\n          4397\n        ],\n        \"semantic_type\": \"\",\n        \"description\": \"\"\n      }\n    },\n    {\n      \"column\": \"gender\",\n      \"properties\": {\n        \"dtype\": \"category\",\n        \"num_unique_values\": 3,\n        \"samples\": [\n          \"Male\",\n          \"Female\",\n          \"Other\"\n        ],\n        \"semantic_type\": \"\",\n        \"description\": \"\"\n      }\n    },\n    {\n      \"column\": \"age\",\n      \"properties\": {\n        \"dtype\": \"number\",\n        \"std\": 21.44467331631995,\n        \"min\": 0.08,\n        \"max\": 82.0,\n        \"num_unique_values\": 106,\n        \"samples\": [\n          1.56,\n          51.0,\n          24.0\n        ],\n        \"semantic_type\": \"\",\n        \"description\": \"\"\n      }\n    },\n    {\n      \"column\": \"hypertension\",\n      \"properties\": {\n        \"dtype\": \"number\",\n        \"std\": 0,\n        \"min\": 0,\n        \"max\": 1,\n        \"num_unique_values\": 2,\n        \"samples\": [\n          1,\n          0\n        ],\n        \"semantic_type\": \"\",\n        \"description\": \"\"\n      }\n    },\n    {\n      \"column\": \"heart_disease\",\n      \"properties\": {\n        \"dtype\": \"number\",\n        \"std\": 0,\n        \"min\": 0,\n        \"max\": 1,\n        \"num_unique_values\": 2,\n        \"samples\": [\n          1,\n          0\n        ],\n        \"semantic_type\": \"\",\n        \"description\": \"\"\n      }\n    },\n    {\n      \"column\": \"ever_married\",\n      \"properties\": {\n        \"dtype\": \"category\",\n        \"num_unique_values\": 2,\n        \"samples\": [\n          \"No\",\n          \"Yes\"\n        ],\n        \"semantic_type\": \"\",\n        \"description\": \"\"\n      }\n    },\n    {\n      \"column\": \"work_type\",\n      \"properties\": {\n        \"dtype\": \"category\",\n        \"num_unique_values\": 5,\n        \"samples\": [\n          \"Self-employed\",\n          \"Never_worked\"\n        ],\n        \"semantic_type\": \"\",\n        \"description\": \"\"\n      }\n    },\n    {\n      \"column\": \"Residence_type\",\n      \"properties\": {\n        \"dtype\": \"category\",\n        \"num_unique_values\": 2,\n        \"samples\": [\n          \"Rural\",\n          \"Urban\"\n        ],\n        \"semantic_type\": \"\",\n        \"description\": \"\"\n      }\n    },\n    {\n      \"column\": \"avg_glucose_level\",\n      \"properties\": {\n        \"dtype\": \"number\",\n        \"std\": 25.476101984609272,\n        \"min\": 55.22,\n        \"max\": 267.6,\n        \"num_unique_values\": 3740,\n        \"samples\": [\n          123.21,\n          99.3\n        ],\n        \"semantic_type\": \"\",\n        \"description\": \"\"\n      }\n    },\n    {\n      \"column\": \"bmi\",\n      \"properties\": {\n        \"dtype\": \"number\",\n        \"std\": 6.722315422227781,\n        \"min\": 10.3,\n        \"max\": 80.1,\n        \"num_unique_values\": 407,\n        \"samples\": [\n          31.3,\n          44.4\n        ],\n        \"semantic_type\": \"\",\n        \"description\": \"\"\n      }\n    },\n    {\n      \"column\": \"smoking_status\",\n      \"properties\": {\n        \"dtype\": \"category\",\n        \"num_unique_values\": 4,\n        \"samples\": [\n          \"formerly smoked\",\n          \"smokes\"\n        ],\n        \"semantic_type\": \"\",\n        \"description\": \"\"\n      }\n    },\n    {\n      \"column\": \"stroke\",\n      \"properties\": {\n        \"dtype\": \"number\",\n        \"std\": 0,\n        \"min\": 0,\n        \"max\": 1,\n        \"num_unique_values\": 2,\n        \"samples\": [\n          1,\n          0\n        ],\n        \"semantic_type\": \"\",\n        \"description\": \"\"\n      }\n    }\n  ]\n}"
            }
          },
          "metadata": {},
          "execution_count": 52
        }
      ]
    },
    {
      "cell_type": "code",
      "source": [
        "train_df['stroke'].unique()"
      ],
      "metadata": {
        "colab": {
          "base_uri": "https://localhost:8080/"
        },
        "id": "_PHEOo9YSH8z",
        "outputId": "13b5e4c8-2990-4eba-9adb-8c20734b558c"
      },
      "execution_count": null,
      "outputs": [
        {
          "output_type": "execute_result",
          "data": {
            "text/plain": [
              "array([0, 1])"
            ]
          },
          "metadata": {},
          "execution_count": 53
        }
      ]
    },
    {
      "cell_type": "code",
      "source": [
        "train_df.info()"
      ],
      "metadata": {
        "colab": {
          "base_uri": "https://localhost:8080/"
        },
        "id": "mKsXmt43SVEh",
        "outputId": "ec7bcfb1-4849-4eea-b48b-43b36693746d"
      },
      "execution_count": null,
      "outputs": [
        {
          "output_type": "stream",
          "name": "stdout",
          "text": [
            "<class 'pandas.core.frame.DataFrame'>\n",
            "RangeIndex: 15304 entries, 0 to 15303\n",
            "Data columns (total 12 columns):\n",
            " #   Column             Non-Null Count  Dtype  \n",
            "---  ------             --------------  -----  \n",
            " 0   id                 15304 non-null  int64  \n",
            " 1   gender             15304 non-null  object \n",
            " 2   age                15304 non-null  float64\n",
            " 3   hypertension       15304 non-null  int64  \n",
            " 4   heart_disease      15304 non-null  int64  \n",
            " 5   ever_married       15304 non-null  object \n",
            " 6   work_type          15304 non-null  object \n",
            " 7   Residence_type     15304 non-null  object \n",
            " 8   avg_glucose_level  15304 non-null  float64\n",
            " 9   bmi                15304 non-null  float64\n",
            " 10  smoking_status     15304 non-null  object \n",
            " 11  stroke             15304 non-null  int64  \n",
            "dtypes: float64(3), int64(4), object(5)\n",
            "memory usage: 1.4+ MB\n"
          ]
        }
      ]
    },
    {
      "cell_type": "code",
      "source": [
        "train_df.describe()"
      ],
      "metadata": {
        "colab": {
          "base_uri": "https://localhost:8080/",
          "height": 300
        },
        "id": "r9l5v44rSgYQ",
        "outputId": "b413a5a7-8cbe-4f06-fa72-5425a016cc9e"
      },
      "execution_count": null,
      "outputs": [
        {
          "output_type": "execute_result",
          "data": {
            "text/plain": [
              "                 id           age  hypertension  heart_disease  \\\n",
              "count  15304.000000  15304.000000  15304.000000   15304.000000   \n",
              "mean    7651.500000     41.417708      0.049726       0.023327   \n",
              "std     4418.028595     21.444673      0.217384       0.150946   \n",
              "min        0.000000      0.080000      0.000000       0.000000   \n",
              "25%     3825.750000     26.000000      0.000000       0.000000   \n",
              "50%     7651.500000     43.000000      0.000000       0.000000   \n",
              "75%    11477.250000     57.000000      0.000000       0.000000   \n",
              "max    15303.000000     82.000000      1.000000       1.000000   \n",
              "\n",
              "       avg_glucose_level           bmi        stroke  \n",
              "count       15304.000000  15304.000000  15304.000000  \n",
              "mean           89.039853     28.112721      0.041296  \n",
              "std            25.476102      6.722315      0.198981  \n",
              "min            55.220000     10.300000      0.000000  \n",
              "25%            74.900000     23.500000      0.000000  \n",
              "50%            85.120000     27.600000      0.000000  \n",
              "75%            96.980000     32.000000      0.000000  \n",
              "max           267.600000     80.100000      1.000000  "
            ],
            "text/html": [
              "\n",
              "  <div id=\"df-cb0a0c2a-a4b3-4df1-b427-2d66c99e5846\" class=\"colab-df-container\">\n",
              "    <div>\n",
              "<style scoped>\n",
              "    .dataframe tbody tr th:only-of-type {\n",
              "        vertical-align: middle;\n",
              "    }\n",
              "\n",
              "    .dataframe tbody tr th {\n",
              "        vertical-align: top;\n",
              "    }\n",
              "\n",
              "    .dataframe thead th {\n",
              "        text-align: right;\n",
              "    }\n",
              "</style>\n",
              "<table border=\"1\" class=\"dataframe\">\n",
              "  <thead>\n",
              "    <tr style=\"text-align: right;\">\n",
              "      <th></th>\n",
              "      <th>id</th>\n",
              "      <th>age</th>\n",
              "      <th>hypertension</th>\n",
              "      <th>heart_disease</th>\n",
              "      <th>avg_glucose_level</th>\n",
              "      <th>bmi</th>\n",
              "      <th>stroke</th>\n",
              "    </tr>\n",
              "  </thead>\n",
              "  <tbody>\n",
              "    <tr>\n",
              "      <th>count</th>\n",
              "      <td>15304.000000</td>\n",
              "      <td>15304.000000</td>\n",
              "      <td>15304.000000</td>\n",
              "      <td>15304.000000</td>\n",
              "      <td>15304.000000</td>\n",
              "      <td>15304.000000</td>\n",
              "      <td>15304.000000</td>\n",
              "    </tr>\n",
              "    <tr>\n",
              "      <th>mean</th>\n",
              "      <td>7651.500000</td>\n",
              "      <td>41.417708</td>\n",
              "      <td>0.049726</td>\n",
              "      <td>0.023327</td>\n",
              "      <td>89.039853</td>\n",
              "      <td>28.112721</td>\n",
              "      <td>0.041296</td>\n",
              "    </tr>\n",
              "    <tr>\n",
              "      <th>std</th>\n",
              "      <td>4418.028595</td>\n",
              "      <td>21.444673</td>\n",
              "      <td>0.217384</td>\n",
              "      <td>0.150946</td>\n",
              "      <td>25.476102</td>\n",
              "      <td>6.722315</td>\n",
              "      <td>0.198981</td>\n",
              "    </tr>\n",
              "    <tr>\n",
              "      <th>min</th>\n",
              "      <td>0.000000</td>\n",
              "      <td>0.080000</td>\n",
              "      <td>0.000000</td>\n",
              "      <td>0.000000</td>\n",
              "      <td>55.220000</td>\n",
              "      <td>10.300000</td>\n",
              "      <td>0.000000</td>\n",
              "    </tr>\n",
              "    <tr>\n",
              "      <th>25%</th>\n",
              "      <td>3825.750000</td>\n",
              "      <td>26.000000</td>\n",
              "      <td>0.000000</td>\n",
              "      <td>0.000000</td>\n",
              "      <td>74.900000</td>\n",
              "      <td>23.500000</td>\n",
              "      <td>0.000000</td>\n",
              "    </tr>\n",
              "    <tr>\n",
              "      <th>50%</th>\n",
              "      <td>7651.500000</td>\n",
              "      <td>43.000000</td>\n",
              "      <td>0.000000</td>\n",
              "      <td>0.000000</td>\n",
              "      <td>85.120000</td>\n",
              "      <td>27.600000</td>\n",
              "      <td>0.000000</td>\n",
              "    </tr>\n",
              "    <tr>\n",
              "      <th>75%</th>\n",
              "      <td>11477.250000</td>\n",
              "      <td>57.000000</td>\n",
              "      <td>0.000000</td>\n",
              "      <td>0.000000</td>\n",
              "      <td>96.980000</td>\n",
              "      <td>32.000000</td>\n",
              "      <td>0.000000</td>\n",
              "    </tr>\n",
              "    <tr>\n",
              "      <th>max</th>\n",
              "      <td>15303.000000</td>\n",
              "      <td>82.000000</td>\n",
              "      <td>1.000000</td>\n",
              "      <td>1.000000</td>\n",
              "      <td>267.600000</td>\n",
              "      <td>80.100000</td>\n",
              "      <td>1.000000</td>\n",
              "    </tr>\n",
              "  </tbody>\n",
              "</table>\n",
              "</div>\n",
              "    <div class=\"colab-df-buttons\">\n",
              "\n",
              "  <div class=\"colab-df-container\">\n",
              "    <button class=\"colab-df-convert\" onclick=\"convertToInteractive('df-cb0a0c2a-a4b3-4df1-b427-2d66c99e5846')\"\n",
              "            title=\"Convert this dataframe to an interactive table.\"\n",
              "            style=\"display:none;\">\n",
              "\n",
              "  <svg xmlns=\"http://www.w3.org/2000/svg\" height=\"24px\" viewBox=\"0 -960 960 960\">\n",
              "    <path d=\"M120-120v-720h720v720H120Zm60-500h600v-160H180v160Zm220 220h160v-160H400v160Zm0 220h160v-160H400v160ZM180-400h160v-160H180v160Zm440 0h160v-160H620v160ZM180-180h160v-160H180v160Zm440 0h160v-160H620v160Z\"/>\n",
              "  </svg>\n",
              "    </button>\n",
              "\n",
              "  <style>\n",
              "    .colab-df-container {\n",
              "      display:flex;\n",
              "      gap: 12px;\n",
              "    }\n",
              "\n",
              "    .colab-df-convert {\n",
              "      background-color: #E8F0FE;\n",
              "      border: none;\n",
              "      border-radius: 50%;\n",
              "      cursor: pointer;\n",
              "      display: none;\n",
              "      fill: #1967D2;\n",
              "      height: 32px;\n",
              "      padding: 0 0 0 0;\n",
              "      width: 32px;\n",
              "    }\n",
              "\n",
              "    .colab-df-convert:hover {\n",
              "      background-color: #E2EBFA;\n",
              "      box-shadow: 0px 1px 2px rgba(60, 64, 67, 0.3), 0px 1px 3px 1px rgba(60, 64, 67, 0.15);\n",
              "      fill: #174EA6;\n",
              "    }\n",
              "\n",
              "    .colab-df-buttons div {\n",
              "      margin-bottom: 4px;\n",
              "    }\n",
              "\n",
              "    [theme=dark] .colab-df-convert {\n",
              "      background-color: #3B4455;\n",
              "      fill: #D2E3FC;\n",
              "    }\n",
              "\n",
              "    [theme=dark] .colab-df-convert:hover {\n",
              "      background-color: #434B5C;\n",
              "      box-shadow: 0px 1px 3px 1px rgba(0, 0, 0, 0.15);\n",
              "      filter: drop-shadow(0px 1px 2px rgba(0, 0, 0, 0.3));\n",
              "      fill: #FFFFFF;\n",
              "    }\n",
              "  </style>\n",
              "\n",
              "    <script>\n",
              "      const buttonEl =\n",
              "        document.querySelector('#df-cb0a0c2a-a4b3-4df1-b427-2d66c99e5846 button.colab-df-convert');\n",
              "      buttonEl.style.display =\n",
              "        google.colab.kernel.accessAllowed ? 'block' : 'none';\n",
              "\n",
              "      async function convertToInteractive(key) {\n",
              "        const element = document.querySelector('#df-cb0a0c2a-a4b3-4df1-b427-2d66c99e5846');\n",
              "        const dataTable =\n",
              "          await google.colab.kernel.invokeFunction('convertToInteractive',\n",
              "                                                    [key], {});\n",
              "        if (!dataTable) return;\n",
              "\n",
              "        const docLinkHtml = 'Like what you see? Visit the ' +\n",
              "          '<a target=\"_blank\" href=https://colab.research.google.com/notebooks/data_table.ipynb>data table notebook</a>'\n",
              "          + ' to learn more about interactive tables.';\n",
              "        element.innerHTML = '';\n",
              "        dataTable['output_type'] = 'display_data';\n",
              "        await google.colab.output.renderOutput(dataTable, element);\n",
              "        const docLink = document.createElement('div');\n",
              "        docLink.innerHTML = docLinkHtml;\n",
              "        element.appendChild(docLink);\n",
              "      }\n",
              "    </script>\n",
              "  </div>\n",
              "\n",
              "\n",
              "<div id=\"df-b5fcc5dc-6924-42ed-975f-06cdb957190c\">\n",
              "  <button class=\"colab-df-quickchart\" onclick=\"quickchart('df-b5fcc5dc-6924-42ed-975f-06cdb957190c')\"\n",
              "            title=\"Suggest charts\"\n",
              "            style=\"display:none;\">\n",
              "\n",
              "<svg xmlns=\"http://www.w3.org/2000/svg\" height=\"24px\"viewBox=\"0 0 24 24\"\n",
              "     width=\"24px\">\n",
              "    <g>\n",
              "        <path d=\"M19 3H5c-1.1 0-2 .9-2 2v14c0 1.1.9 2 2 2h14c1.1 0 2-.9 2-2V5c0-1.1-.9-2-2-2zM9 17H7v-7h2v7zm4 0h-2V7h2v10zm4 0h-2v-4h2v4z\"/>\n",
              "    </g>\n",
              "</svg>\n",
              "  </button>\n",
              "\n",
              "<style>\n",
              "  .colab-df-quickchart {\n",
              "      --bg-color: #E8F0FE;\n",
              "      --fill-color: #1967D2;\n",
              "      --hover-bg-color: #E2EBFA;\n",
              "      --hover-fill-color: #174EA6;\n",
              "      --disabled-fill-color: #AAA;\n",
              "      --disabled-bg-color: #DDD;\n",
              "  }\n",
              "\n",
              "  [theme=dark] .colab-df-quickchart {\n",
              "      --bg-color: #3B4455;\n",
              "      --fill-color: #D2E3FC;\n",
              "      --hover-bg-color: #434B5C;\n",
              "      --hover-fill-color: #FFFFFF;\n",
              "      --disabled-bg-color: #3B4455;\n",
              "      --disabled-fill-color: #666;\n",
              "  }\n",
              "\n",
              "  .colab-df-quickchart {\n",
              "    background-color: var(--bg-color);\n",
              "    border: none;\n",
              "    border-radius: 50%;\n",
              "    cursor: pointer;\n",
              "    display: none;\n",
              "    fill: var(--fill-color);\n",
              "    height: 32px;\n",
              "    padding: 0;\n",
              "    width: 32px;\n",
              "  }\n",
              "\n",
              "  .colab-df-quickchart:hover {\n",
              "    background-color: var(--hover-bg-color);\n",
              "    box-shadow: 0 1px 2px rgba(60, 64, 67, 0.3), 0 1px 3px 1px rgba(60, 64, 67, 0.15);\n",
              "    fill: var(--button-hover-fill-color);\n",
              "  }\n",
              "\n",
              "  .colab-df-quickchart-complete:disabled,\n",
              "  .colab-df-quickchart-complete:disabled:hover {\n",
              "    background-color: var(--disabled-bg-color);\n",
              "    fill: var(--disabled-fill-color);\n",
              "    box-shadow: none;\n",
              "  }\n",
              "\n",
              "  .colab-df-spinner {\n",
              "    border: 2px solid var(--fill-color);\n",
              "    border-color: transparent;\n",
              "    border-bottom-color: var(--fill-color);\n",
              "    animation:\n",
              "      spin 1s steps(1) infinite;\n",
              "  }\n",
              "\n",
              "  @keyframes spin {\n",
              "    0% {\n",
              "      border-color: transparent;\n",
              "      border-bottom-color: var(--fill-color);\n",
              "      border-left-color: var(--fill-color);\n",
              "    }\n",
              "    20% {\n",
              "      border-color: transparent;\n",
              "      border-left-color: var(--fill-color);\n",
              "      border-top-color: var(--fill-color);\n",
              "    }\n",
              "    30% {\n",
              "      border-color: transparent;\n",
              "      border-left-color: var(--fill-color);\n",
              "      border-top-color: var(--fill-color);\n",
              "      border-right-color: var(--fill-color);\n",
              "    }\n",
              "    40% {\n",
              "      border-color: transparent;\n",
              "      border-right-color: var(--fill-color);\n",
              "      border-top-color: var(--fill-color);\n",
              "    }\n",
              "    60% {\n",
              "      border-color: transparent;\n",
              "      border-right-color: var(--fill-color);\n",
              "    }\n",
              "    80% {\n",
              "      border-color: transparent;\n",
              "      border-right-color: var(--fill-color);\n",
              "      border-bottom-color: var(--fill-color);\n",
              "    }\n",
              "    90% {\n",
              "      border-color: transparent;\n",
              "      border-bottom-color: var(--fill-color);\n",
              "    }\n",
              "  }\n",
              "</style>\n",
              "\n",
              "  <script>\n",
              "    async function quickchart(key) {\n",
              "      const quickchartButtonEl =\n",
              "        document.querySelector('#' + key + ' button');\n",
              "      quickchartButtonEl.disabled = true;  // To prevent multiple clicks.\n",
              "      quickchartButtonEl.classList.add('colab-df-spinner');\n",
              "      try {\n",
              "        const charts = await google.colab.kernel.invokeFunction(\n",
              "            'suggestCharts', [key], {});\n",
              "      } catch (error) {\n",
              "        console.error('Error during call to suggestCharts:', error);\n",
              "      }\n",
              "      quickchartButtonEl.classList.remove('colab-df-spinner');\n",
              "      quickchartButtonEl.classList.add('colab-df-quickchart-complete');\n",
              "    }\n",
              "    (() => {\n",
              "      let quickchartButtonEl =\n",
              "        document.querySelector('#df-b5fcc5dc-6924-42ed-975f-06cdb957190c button');\n",
              "      quickchartButtonEl.style.display =\n",
              "        google.colab.kernel.accessAllowed ? 'block' : 'none';\n",
              "    })();\n",
              "  </script>\n",
              "</div>\n",
              "\n",
              "    </div>\n",
              "  </div>\n"
            ],
            "application/vnd.google.colaboratory.intrinsic+json": {
              "type": "dataframe",
              "summary": "{\n  \"name\": \"train_df\",\n  \"rows\": 8,\n  \"fields\": [\n    {\n      \"column\": \"id\",\n      \"properties\": {\n        \"dtype\": \"number\",\n        \"std\": 5515.416672333192,\n        \"min\": 0.0,\n        \"max\": 15304.0,\n        \"num_unique_values\": 7,\n        \"samples\": [\n          15304.0,\n          7651.5,\n          11477.25\n        ],\n        \"semantic_type\": \"\",\n        \"description\": \"\"\n      }\n    },\n    {\n      \"column\": \"age\",\n      \"properties\": {\n        \"dtype\": \"number\",\n        \"std\": 5397.151835327976,\n        \"min\": 0.08,\n        \"max\": 15304.0,\n        \"num_unique_values\": 8,\n        \"samples\": [\n          41.41770778881339,\n          43.0,\n          15304.0\n        ],\n        \"semantic_type\": \"\",\n        \"description\": \"\"\n      }\n    },\n    {\n      \"column\": \"hypertension\",\n      \"properties\": {\n        \"dtype\": \"number\",\n        \"std\": 5410.71710174695,\n        \"min\": 0.0,\n        \"max\": 15304.0,\n        \"num_unique_values\": 5,\n        \"samples\": [\n          0.04972556194458965,\n          1.0,\n          0.21738449405435362\n        ],\n        \"semantic_type\": \"\",\n        \"description\": \"\"\n      }\n    },\n    {\n      \"column\": \"heart_disease\",\n      \"properties\": {\n        \"dtype\": \"number\",\n        \"std\": 5410.721790815395,\n        \"min\": 0.0,\n        \"max\": 15304.0,\n        \"num_unique_values\": 5,\n        \"samples\": [\n          0.02332723470987977,\n          1.0,\n          0.15094556511739107\n        ],\n        \"semantic_type\": \"\",\n        \"description\": \"\"\n      }\n    },\n    {\n      \"column\": \"avg_glucose_level\",\n      \"properties\": {\n        \"dtype\": \"number\",\n        \"std\": 5376.198451301059,\n        \"min\": 25.476101984609272,\n        \"max\": 15304.0,\n        \"num_unique_values\": 8,\n        \"samples\": [\n          89.03985297961317,\n          85.12,\n          15304.0\n        ],\n        \"semantic_type\": \"\",\n        \"description\": \"\"\n      }\n    },\n    {\n      \"column\": \"bmi\",\n      \"properties\": {\n        \"dtype\": \"number\",\n        \"std\": 5400.304810707785,\n        \"min\": 6.722315422227781,\n        \"max\": 15304.0,\n        \"num_unique_values\": 8,\n        \"samples\": [\n          28.112720857292214,\n          27.6,\n          15304.0\n        ],\n        \"semantic_type\": \"\",\n        \"description\": \"\"\n      }\n    },\n    {\n      \"column\": \"stroke\",\n      \"properties\": {\n        \"dtype\": \"number\",\n        \"std\": 5410.718456997671,\n        \"min\": 0.0,\n        \"max\": 15304.0,\n        \"num_unique_values\": 5,\n        \"samples\": [\n          0.041296393099843176,\n          1.0,\n          0.19898137640652971\n        ],\n        \"semantic_type\": \"\",\n        \"description\": \"\"\n      }\n    }\n  ]\n}"
            }
          },
          "metadata": {},
          "execution_count": 55
        }
      ]
    },
    {
      "cell_type": "code",
      "source": [
        "train_df.describe().T"
      ],
      "metadata": {
        "colab": {
          "base_uri": "https://localhost:8080/",
          "height": 269
        },
        "id": "XzJDVV1MSp3B",
        "outputId": "6a2b3817-89e0-4580-a918-41d0071f1b7f"
      },
      "execution_count": null,
      "outputs": [
        {
          "output_type": "execute_result",
          "data": {
            "text/plain": [
              "                     count         mean          std    min      25%      50%  \\\n",
              "id                 15304.0  7651.500000  4418.028595   0.00  3825.75  7651.50   \n",
              "age                15304.0    41.417708    21.444673   0.08    26.00    43.00   \n",
              "hypertension       15304.0     0.049726     0.217384   0.00     0.00     0.00   \n",
              "heart_disease      15304.0     0.023327     0.150946   0.00     0.00     0.00   \n",
              "avg_glucose_level  15304.0    89.039853    25.476102  55.22    74.90    85.12   \n",
              "bmi                15304.0    28.112721     6.722315  10.30    23.50    27.60   \n",
              "stroke             15304.0     0.041296     0.198981   0.00     0.00     0.00   \n",
              "\n",
              "                        75%      max  \n",
              "id                 11477.25  15303.0  \n",
              "age                   57.00     82.0  \n",
              "hypertension           0.00      1.0  \n",
              "heart_disease          0.00      1.0  \n",
              "avg_glucose_level     96.98    267.6  \n",
              "bmi                   32.00     80.1  \n",
              "stroke                 0.00      1.0  "
            ],
            "text/html": [
              "\n",
              "  <div id=\"df-69cae42c-9b1e-4fe9-9682-50468a72ed4b\" class=\"colab-df-container\">\n",
              "    <div>\n",
              "<style scoped>\n",
              "    .dataframe tbody tr th:only-of-type {\n",
              "        vertical-align: middle;\n",
              "    }\n",
              "\n",
              "    .dataframe tbody tr th {\n",
              "        vertical-align: top;\n",
              "    }\n",
              "\n",
              "    .dataframe thead th {\n",
              "        text-align: right;\n",
              "    }\n",
              "</style>\n",
              "<table border=\"1\" class=\"dataframe\">\n",
              "  <thead>\n",
              "    <tr style=\"text-align: right;\">\n",
              "      <th></th>\n",
              "      <th>count</th>\n",
              "      <th>mean</th>\n",
              "      <th>std</th>\n",
              "      <th>min</th>\n",
              "      <th>25%</th>\n",
              "      <th>50%</th>\n",
              "      <th>75%</th>\n",
              "      <th>max</th>\n",
              "    </tr>\n",
              "  </thead>\n",
              "  <tbody>\n",
              "    <tr>\n",
              "      <th>id</th>\n",
              "      <td>15304.0</td>\n",
              "      <td>7651.500000</td>\n",
              "      <td>4418.028595</td>\n",
              "      <td>0.00</td>\n",
              "      <td>3825.75</td>\n",
              "      <td>7651.50</td>\n",
              "      <td>11477.25</td>\n",
              "      <td>15303.0</td>\n",
              "    </tr>\n",
              "    <tr>\n",
              "      <th>age</th>\n",
              "      <td>15304.0</td>\n",
              "      <td>41.417708</td>\n",
              "      <td>21.444673</td>\n",
              "      <td>0.08</td>\n",
              "      <td>26.00</td>\n",
              "      <td>43.00</td>\n",
              "      <td>57.00</td>\n",
              "      <td>82.0</td>\n",
              "    </tr>\n",
              "    <tr>\n",
              "      <th>hypertension</th>\n",
              "      <td>15304.0</td>\n",
              "      <td>0.049726</td>\n",
              "      <td>0.217384</td>\n",
              "      <td>0.00</td>\n",
              "      <td>0.00</td>\n",
              "      <td>0.00</td>\n",
              "      <td>0.00</td>\n",
              "      <td>1.0</td>\n",
              "    </tr>\n",
              "    <tr>\n",
              "      <th>heart_disease</th>\n",
              "      <td>15304.0</td>\n",
              "      <td>0.023327</td>\n",
              "      <td>0.150946</td>\n",
              "      <td>0.00</td>\n",
              "      <td>0.00</td>\n",
              "      <td>0.00</td>\n",
              "      <td>0.00</td>\n",
              "      <td>1.0</td>\n",
              "    </tr>\n",
              "    <tr>\n",
              "      <th>avg_glucose_level</th>\n",
              "      <td>15304.0</td>\n",
              "      <td>89.039853</td>\n",
              "      <td>25.476102</td>\n",
              "      <td>55.22</td>\n",
              "      <td>74.90</td>\n",
              "      <td>85.12</td>\n",
              "      <td>96.98</td>\n",
              "      <td>267.6</td>\n",
              "    </tr>\n",
              "    <tr>\n",
              "      <th>bmi</th>\n",
              "      <td>15304.0</td>\n",
              "      <td>28.112721</td>\n",
              "      <td>6.722315</td>\n",
              "      <td>10.30</td>\n",
              "      <td>23.50</td>\n",
              "      <td>27.60</td>\n",
              "      <td>32.00</td>\n",
              "      <td>80.1</td>\n",
              "    </tr>\n",
              "    <tr>\n",
              "      <th>stroke</th>\n",
              "      <td>15304.0</td>\n",
              "      <td>0.041296</td>\n",
              "      <td>0.198981</td>\n",
              "      <td>0.00</td>\n",
              "      <td>0.00</td>\n",
              "      <td>0.00</td>\n",
              "      <td>0.00</td>\n",
              "      <td>1.0</td>\n",
              "    </tr>\n",
              "  </tbody>\n",
              "</table>\n",
              "</div>\n",
              "    <div class=\"colab-df-buttons\">\n",
              "\n",
              "  <div class=\"colab-df-container\">\n",
              "    <button class=\"colab-df-convert\" onclick=\"convertToInteractive('df-69cae42c-9b1e-4fe9-9682-50468a72ed4b')\"\n",
              "            title=\"Convert this dataframe to an interactive table.\"\n",
              "            style=\"display:none;\">\n",
              "\n",
              "  <svg xmlns=\"http://www.w3.org/2000/svg\" height=\"24px\" viewBox=\"0 -960 960 960\">\n",
              "    <path d=\"M120-120v-720h720v720H120Zm60-500h600v-160H180v160Zm220 220h160v-160H400v160Zm0 220h160v-160H400v160ZM180-400h160v-160H180v160Zm440 0h160v-160H620v160ZM180-180h160v-160H180v160Zm440 0h160v-160H620v160Z\"/>\n",
              "  </svg>\n",
              "    </button>\n",
              "\n",
              "  <style>\n",
              "    .colab-df-container {\n",
              "      display:flex;\n",
              "      gap: 12px;\n",
              "    }\n",
              "\n",
              "    .colab-df-convert {\n",
              "      background-color: #E8F0FE;\n",
              "      border: none;\n",
              "      border-radius: 50%;\n",
              "      cursor: pointer;\n",
              "      display: none;\n",
              "      fill: #1967D2;\n",
              "      height: 32px;\n",
              "      padding: 0 0 0 0;\n",
              "      width: 32px;\n",
              "    }\n",
              "\n",
              "    .colab-df-convert:hover {\n",
              "      background-color: #E2EBFA;\n",
              "      box-shadow: 0px 1px 2px rgba(60, 64, 67, 0.3), 0px 1px 3px 1px rgba(60, 64, 67, 0.15);\n",
              "      fill: #174EA6;\n",
              "    }\n",
              "\n",
              "    .colab-df-buttons div {\n",
              "      margin-bottom: 4px;\n",
              "    }\n",
              "\n",
              "    [theme=dark] .colab-df-convert {\n",
              "      background-color: #3B4455;\n",
              "      fill: #D2E3FC;\n",
              "    }\n",
              "\n",
              "    [theme=dark] .colab-df-convert:hover {\n",
              "      background-color: #434B5C;\n",
              "      box-shadow: 0px 1px 3px 1px rgba(0, 0, 0, 0.15);\n",
              "      filter: drop-shadow(0px 1px 2px rgba(0, 0, 0, 0.3));\n",
              "      fill: #FFFFFF;\n",
              "    }\n",
              "  </style>\n",
              "\n",
              "    <script>\n",
              "      const buttonEl =\n",
              "        document.querySelector('#df-69cae42c-9b1e-4fe9-9682-50468a72ed4b button.colab-df-convert');\n",
              "      buttonEl.style.display =\n",
              "        google.colab.kernel.accessAllowed ? 'block' : 'none';\n",
              "\n",
              "      async function convertToInteractive(key) {\n",
              "        const element = document.querySelector('#df-69cae42c-9b1e-4fe9-9682-50468a72ed4b');\n",
              "        const dataTable =\n",
              "          await google.colab.kernel.invokeFunction('convertToInteractive',\n",
              "                                                    [key], {});\n",
              "        if (!dataTable) return;\n",
              "\n",
              "        const docLinkHtml = 'Like what you see? Visit the ' +\n",
              "          '<a target=\"_blank\" href=https://colab.research.google.com/notebooks/data_table.ipynb>data table notebook</a>'\n",
              "          + ' to learn more about interactive tables.';\n",
              "        element.innerHTML = '';\n",
              "        dataTable['output_type'] = 'display_data';\n",
              "        await google.colab.output.renderOutput(dataTable, element);\n",
              "        const docLink = document.createElement('div');\n",
              "        docLink.innerHTML = docLinkHtml;\n",
              "        element.appendChild(docLink);\n",
              "      }\n",
              "    </script>\n",
              "  </div>\n",
              "\n",
              "\n",
              "<div id=\"df-cfe39eb2-13e1-4506-93aa-a0f0e9d9409c\">\n",
              "  <button class=\"colab-df-quickchart\" onclick=\"quickchart('df-cfe39eb2-13e1-4506-93aa-a0f0e9d9409c')\"\n",
              "            title=\"Suggest charts\"\n",
              "            style=\"display:none;\">\n",
              "\n",
              "<svg xmlns=\"http://www.w3.org/2000/svg\" height=\"24px\"viewBox=\"0 0 24 24\"\n",
              "     width=\"24px\">\n",
              "    <g>\n",
              "        <path d=\"M19 3H5c-1.1 0-2 .9-2 2v14c0 1.1.9 2 2 2h14c1.1 0 2-.9 2-2V5c0-1.1-.9-2-2-2zM9 17H7v-7h2v7zm4 0h-2V7h2v10zm4 0h-2v-4h2v4z\"/>\n",
              "    </g>\n",
              "</svg>\n",
              "  </button>\n",
              "\n",
              "<style>\n",
              "  .colab-df-quickchart {\n",
              "      --bg-color: #E8F0FE;\n",
              "      --fill-color: #1967D2;\n",
              "      --hover-bg-color: #E2EBFA;\n",
              "      --hover-fill-color: #174EA6;\n",
              "      --disabled-fill-color: #AAA;\n",
              "      --disabled-bg-color: #DDD;\n",
              "  }\n",
              "\n",
              "  [theme=dark] .colab-df-quickchart {\n",
              "      --bg-color: #3B4455;\n",
              "      --fill-color: #D2E3FC;\n",
              "      --hover-bg-color: #434B5C;\n",
              "      --hover-fill-color: #FFFFFF;\n",
              "      --disabled-bg-color: #3B4455;\n",
              "      --disabled-fill-color: #666;\n",
              "  }\n",
              "\n",
              "  .colab-df-quickchart {\n",
              "    background-color: var(--bg-color);\n",
              "    border: none;\n",
              "    border-radius: 50%;\n",
              "    cursor: pointer;\n",
              "    display: none;\n",
              "    fill: var(--fill-color);\n",
              "    height: 32px;\n",
              "    padding: 0;\n",
              "    width: 32px;\n",
              "  }\n",
              "\n",
              "  .colab-df-quickchart:hover {\n",
              "    background-color: var(--hover-bg-color);\n",
              "    box-shadow: 0 1px 2px rgba(60, 64, 67, 0.3), 0 1px 3px 1px rgba(60, 64, 67, 0.15);\n",
              "    fill: var(--button-hover-fill-color);\n",
              "  }\n",
              "\n",
              "  .colab-df-quickchart-complete:disabled,\n",
              "  .colab-df-quickchart-complete:disabled:hover {\n",
              "    background-color: var(--disabled-bg-color);\n",
              "    fill: var(--disabled-fill-color);\n",
              "    box-shadow: none;\n",
              "  }\n",
              "\n",
              "  .colab-df-spinner {\n",
              "    border: 2px solid var(--fill-color);\n",
              "    border-color: transparent;\n",
              "    border-bottom-color: var(--fill-color);\n",
              "    animation:\n",
              "      spin 1s steps(1) infinite;\n",
              "  }\n",
              "\n",
              "  @keyframes spin {\n",
              "    0% {\n",
              "      border-color: transparent;\n",
              "      border-bottom-color: var(--fill-color);\n",
              "      border-left-color: var(--fill-color);\n",
              "    }\n",
              "    20% {\n",
              "      border-color: transparent;\n",
              "      border-left-color: var(--fill-color);\n",
              "      border-top-color: var(--fill-color);\n",
              "    }\n",
              "    30% {\n",
              "      border-color: transparent;\n",
              "      border-left-color: var(--fill-color);\n",
              "      border-top-color: var(--fill-color);\n",
              "      border-right-color: var(--fill-color);\n",
              "    }\n",
              "    40% {\n",
              "      border-color: transparent;\n",
              "      border-right-color: var(--fill-color);\n",
              "      border-top-color: var(--fill-color);\n",
              "    }\n",
              "    60% {\n",
              "      border-color: transparent;\n",
              "      border-right-color: var(--fill-color);\n",
              "    }\n",
              "    80% {\n",
              "      border-color: transparent;\n",
              "      border-right-color: var(--fill-color);\n",
              "      border-bottom-color: var(--fill-color);\n",
              "    }\n",
              "    90% {\n",
              "      border-color: transparent;\n",
              "      border-bottom-color: var(--fill-color);\n",
              "    }\n",
              "  }\n",
              "</style>\n",
              "\n",
              "  <script>\n",
              "    async function quickchart(key) {\n",
              "      const quickchartButtonEl =\n",
              "        document.querySelector('#' + key + ' button');\n",
              "      quickchartButtonEl.disabled = true;  // To prevent multiple clicks.\n",
              "      quickchartButtonEl.classList.add('colab-df-spinner');\n",
              "      try {\n",
              "        const charts = await google.colab.kernel.invokeFunction(\n",
              "            'suggestCharts', [key], {});\n",
              "      } catch (error) {\n",
              "        console.error('Error during call to suggestCharts:', error);\n",
              "      }\n",
              "      quickchartButtonEl.classList.remove('colab-df-spinner');\n",
              "      quickchartButtonEl.classList.add('colab-df-quickchart-complete');\n",
              "    }\n",
              "    (() => {\n",
              "      let quickchartButtonEl =\n",
              "        document.querySelector('#df-cfe39eb2-13e1-4506-93aa-a0f0e9d9409c button');\n",
              "      quickchartButtonEl.style.display =\n",
              "        google.colab.kernel.accessAllowed ? 'block' : 'none';\n",
              "    })();\n",
              "  </script>\n",
              "</div>\n",
              "\n",
              "    </div>\n",
              "  </div>\n"
            ],
            "application/vnd.google.colaboratory.intrinsic+json": {
              "type": "dataframe",
              "summary": "{\n  \"name\": \"train_df\",\n  \"rows\": 7,\n  \"fields\": [\n    {\n      \"column\": \"count\",\n      \"properties\": {\n        \"dtype\": \"number\",\n        \"std\": 0.0,\n        \"min\": 15304.0,\n        \"max\": 15304.0,\n        \"num_unique_values\": 1,\n        \"samples\": [\n          15304.0\n        ],\n        \"semantic_type\": \"\",\n        \"description\": \"\"\n      }\n    },\n    {\n      \"column\": \"mean\",\n      \"properties\": {\n        \"dtype\": \"number\",\n        \"std\": 2882.179312457795,\n        \"min\": 0.02332723470987977,\n        \"max\": 7651.5,\n        \"num_unique_values\": 7,\n        \"samples\": [\n          7651.5\n        ],\n        \"semantic_type\": \"\",\n        \"description\": \"\"\n      }\n    },\n    {\n      \"column\": \"std\",\n      \"properties\": {\n        \"dtype\": \"number\",\n        \"std\": 1666.4761399656243,\n        \"min\": 0.15094556511739107,\n        \"max\": 4418.02859504855,\n        \"num_unique_values\": 7,\n        \"samples\": [\n          4418.02859504855\n        ],\n        \"semantic_type\": \"\",\n        \"description\": \"\"\n      }\n    },\n    {\n      \"column\": \"min\",\n      \"properties\": {\n        \"dtype\": \"number\",\n        \"std\": 20.577411100987597,\n        \"min\": 0.0,\n        \"max\": 55.22,\n        \"num_unique_values\": 4,\n        \"samples\": [\n          0.08\n        ],\n        \"semantic_type\": \"\",\n        \"description\": \"\"\n      }\n    },\n    {\n      \"column\": \"25%\",\n      \"properties\": {\n        \"dtype\": \"number\",\n        \"std\": 1438.4078850209614,\n        \"min\": 0.0,\n        \"max\": 3825.75,\n        \"num_unique_values\": 5,\n        \"samples\": [\n          26.0\n        ],\n        \"semantic_type\": \"\",\n        \"description\": \"\"\n      }\n    },\n    {\n      \"column\": \"50%\",\n      \"properties\": {\n        \"dtype\": \"number\",\n        \"std\": 2882.3538448156933,\n        \"min\": 0.0,\n        \"max\": 7651.5,\n        \"num_unique_values\": 5,\n        \"samples\": [\n          43.0\n        ],\n        \"semantic_type\": \"\",\n        \"description\": \"\"\n      }\n    },\n    {\n      \"column\": \"75%\",\n      \"properties\": {\n        \"dtype\": \"number\",\n        \"std\": 4326.429534592611,\n        \"min\": 0.0,\n        \"max\": 11477.25,\n        \"num_unique_values\": 5,\n        \"samples\": [\n          57.0\n        ],\n        \"semantic_type\": \"\",\n        \"description\": \"\"\n      }\n    },\n    {\n      \"column\": \"max\",\n      \"properties\": {\n        \"dtype\": \"number\",\n        \"std\": 5757.507889083361,\n        \"min\": 1.0,\n        \"max\": 15303.0,\n        \"num_unique_values\": 5,\n        \"samples\": [\n          82.0\n        ],\n        \"semantic_type\": \"\",\n        \"description\": \"\"\n      }\n    }\n  ]\n}"
            }
          },
          "metadata": {},
          "execution_count": 56
        }
      ]
    },
    {
      "cell_type": "code",
      "source": [
        "train_df.duplicated().sum()"
      ],
      "metadata": {
        "colab": {
          "base_uri": "https://localhost:8080/"
        },
        "id": "aGIT4OwPSui4",
        "outputId": "6bfb3c06-7bb1-4453-d0d4-fa021ea75c66"
      },
      "execution_count": null,
      "outputs": [
        {
          "output_type": "execute_result",
          "data": {
            "text/plain": [
              "0"
            ]
          },
          "metadata": {},
          "execution_count": 57
        }
      ]
    },
    {
      "cell_type": "code",
      "source": [
        "train_df.nunique()"
      ],
      "metadata": {
        "colab": {
          "base_uri": "https://localhost:8080/",
          "height": 460
        },
        "id": "yyg1fBDeTBmx",
        "outputId": "ead24e17-d587-4b34-83b4-7739708e4c38"
      },
      "execution_count": null,
      "outputs": [
        {
          "output_type": "execute_result",
          "data": {
            "text/plain": [
              "id                   15304\n",
              "gender                   3\n",
              "age                    106\n",
              "hypertension             2\n",
              "heart_disease            2\n",
              "ever_married             2\n",
              "work_type                5\n",
              "Residence_type           2\n",
              "avg_glucose_level     3740\n",
              "bmi                    407\n",
              "smoking_status           4\n",
              "stroke                   2\n",
              "dtype: int64"
            ],
            "text/html": [
              "<div>\n",
              "<style scoped>\n",
              "    .dataframe tbody tr th:only-of-type {\n",
              "        vertical-align: middle;\n",
              "    }\n",
              "\n",
              "    .dataframe tbody tr th {\n",
              "        vertical-align: top;\n",
              "    }\n",
              "\n",
              "    .dataframe thead th {\n",
              "        text-align: right;\n",
              "    }\n",
              "</style>\n",
              "<table border=\"1\" class=\"dataframe\">\n",
              "  <thead>\n",
              "    <tr style=\"text-align: right;\">\n",
              "      <th></th>\n",
              "      <th>0</th>\n",
              "    </tr>\n",
              "  </thead>\n",
              "  <tbody>\n",
              "    <tr>\n",
              "      <th>id</th>\n",
              "      <td>15304</td>\n",
              "    </tr>\n",
              "    <tr>\n",
              "      <th>gender</th>\n",
              "      <td>3</td>\n",
              "    </tr>\n",
              "    <tr>\n",
              "      <th>age</th>\n",
              "      <td>106</td>\n",
              "    </tr>\n",
              "    <tr>\n",
              "      <th>hypertension</th>\n",
              "      <td>2</td>\n",
              "    </tr>\n",
              "    <tr>\n",
              "      <th>heart_disease</th>\n",
              "      <td>2</td>\n",
              "    </tr>\n",
              "    <tr>\n",
              "      <th>ever_married</th>\n",
              "      <td>2</td>\n",
              "    </tr>\n",
              "    <tr>\n",
              "      <th>work_type</th>\n",
              "      <td>5</td>\n",
              "    </tr>\n",
              "    <tr>\n",
              "      <th>Residence_type</th>\n",
              "      <td>2</td>\n",
              "    </tr>\n",
              "    <tr>\n",
              "      <th>avg_glucose_level</th>\n",
              "      <td>3740</td>\n",
              "    </tr>\n",
              "    <tr>\n",
              "      <th>bmi</th>\n",
              "      <td>407</td>\n",
              "    </tr>\n",
              "    <tr>\n",
              "      <th>smoking_status</th>\n",
              "      <td>4</td>\n",
              "    </tr>\n",
              "    <tr>\n",
              "      <th>stroke</th>\n",
              "      <td>2</td>\n",
              "    </tr>\n",
              "  </tbody>\n",
              "</table>\n",
              "</div><br><label><b>dtype:</b> int64</label>"
            ]
          },
          "metadata": {},
          "execution_count": 58
        }
      ]
    },
    {
      "cell_type": "code",
      "source": [
        "train_df.duplicated().sum()"
      ],
      "metadata": {
        "colab": {
          "base_uri": "https://localhost:8080/"
        },
        "id": "XzZEED3gTnJI",
        "outputId": "4473b73f-33d7-4639-ff30-6153ea864776"
      },
      "execution_count": null,
      "outputs": [
        {
          "output_type": "execute_result",
          "data": {
            "text/plain": [
              "0"
            ]
          },
          "metadata": {},
          "execution_count": 59
        }
      ]
    },
    {
      "cell_type": "code",
      "source": [
        "# Data Cleaning\n",
        "\n",
        "sorted(train_df['age'].unique().tolist())[0:12]"
      ],
      "metadata": {
        "colab": {
          "base_uri": "https://localhost:8080/"
        },
        "id": "VG1h_ZJeTpWp",
        "outputId": "376e2029-882a-4042-a8e7-fd3f0cec4c99"
      },
      "execution_count": null,
      "outputs": [
        {
          "output_type": "execute_result",
          "data": {
            "text/plain": [
              "[0.08, 0.16, 0.24, 0.32, 0.4, 0.48, 0.56, 0.64, 0.68, 0.72, 0.8, 0.88]"
            ]
          },
          "metadata": {},
          "execution_count": 60
        }
      ]
    },
    {
      "cell_type": "code",
      "source": [
        "train_df['age'] = np.ceil(train_df['age'])\n",
        "test_df['age'] = np.ceil(test_df['age'])"
      ],
      "metadata": {
        "id": "6MX_TkX_Trow"
      },
      "execution_count": null,
      "outputs": []
    },
    {
      "cell_type": "code",
      "source": [
        "train_df['gender'].value_counts()"
      ],
      "metadata": {
        "colab": {
          "base_uri": "https://localhost:8080/",
          "height": 210
        },
        "id": "_q4Ld3oVTu7P",
        "outputId": "9d1af68b-7369-41b0-df0d-724dbc955c15"
      },
      "execution_count": null,
      "outputs": [
        {
          "output_type": "execute_result",
          "data": {
            "text/plain": [
              "gender\n",
              "Female    9446\n",
              "Male      5857\n",
              "Other        1\n",
              "Name: count, dtype: int64"
            ],
            "text/html": [
              "<div>\n",
              "<style scoped>\n",
              "    .dataframe tbody tr th:only-of-type {\n",
              "        vertical-align: middle;\n",
              "    }\n",
              "\n",
              "    .dataframe tbody tr th {\n",
              "        vertical-align: top;\n",
              "    }\n",
              "\n",
              "    .dataframe thead th {\n",
              "        text-align: right;\n",
              "    }\n",
              "</style>\n",
              "<table border=\"1\" class=\"dataframe\">\n",
              "  <thead>\n",
              "    <tr style=\"text-align: right;\">\n",
              "      <th></th>\n",
              "      <th>count</th>\n",
              "    </tr>\n",
              "    <tr>\n",
              "      <th>gender</th>\n",
              "      <th></th>\n",
              "    </tr>\n",
              "  </thead>\n",
              "  <tbody>\n",
              "    <tr>\n",
              "      <th>Female</th>\n",
              "      <td>9446</td>\n",
              "    </tr>\n",
              "    <tr>\n",
              "      <th>Male</th>\n",
              "      <td>5857</td>\n",
              "    </tr>\n",
              "    <tr>\n",
              "      <th>Other</th>\n",
              "      <td>1</td>\n",
              "    </tr>\n",
              "  </tbody>\n",
              "</table>\n",
              "</div><br><label><b>dtype:</b> int64</label>"
            ]
          },
          "metadata": {},
          "execution_count": 62
        }
      ]
    },
    {
      "cell_type": "code",
      "source": [
        "train_df.drop(train_df[train_df['gender']=='Other'].index, inplace=True)\n",
        "test_df.drop(test_df[test_df['gender']=='Other'].index, inplace=True)"
      ],
      "metadata": {
        "id": "JQQ9XOurTxMZ"
      },
      "execution_count": null,
      "outputs": []
    },
    {
      "cell_type": "code",
      "source": [
        "# Exploratory Data Analysis(EDA)\n",
        "import matplotlib.pyplot as plt\n",
        "import seaborn as sns\n",
        "import plotly.express as px\n",
        "import plotly.graph_objects as go\n",
        "import plotly.subplots as sp\n",
        "\n",
        "sns.set_style(\"darkgrid\")"
      ],
      "metadata": {
        "id": "HFxL7nAkTzSw"
      },
      "execution_count": null,
      "outputs": []
    },
    {
      "cell_type": "code",
      "source": [
        "plot_color = ['#008080', 'black']\n",
        "sns.set_palette(['#008080', 'black'])"
      ],
      "metadata": {
        "id": "jk3JY1uQT8hB"
      },
      "execution_count": null,
      "outputs": []
    },
    {
      "cell_type": "code",
      "source": [
        "# Filter data for stroke & Non Stroke\n",
        "no_stroke_data = train_df[train_df['stroke'] == 0 ]\n",
        "stroke_data = train_df[train_df['stroke'] == 1 ]"
      ],
      "metadata": {
        "id": "m_I2s9mYT_nQ"
      },
      "execution_count": null,
      "outputs": []
    },
    {
      "cell_type": "code",
      "source": [
        "# Univariate Analysis\n",
        "\n",
        "stroke_count = train_df['stroke'].value_counts()"
      ],
      "metadata": {
        "id": "xdvGhbg8UBdQ"
      },
      "execution_count": null,
      "outputs": []
    },
    {
      "cell_type": "code",
      "source": [
        "stroke_count"
      ],
      "metadata": {
        "colab": {
          "base_uri": "https://localhost:8080/",
          "height": 178
        },
        "id": "46P7YCryUDj4",
        "outputId": "833da3bc-6545-4358-9664-5681968b819c"
      },
      "execution_count": null,
      "outputs": [
        {
          "output_type": "execute_result",
          "data": {
            "text/plain": [
              "stroke\n",
              "0    14671\n",
              "1      632\n",
              "Name: count, dtype: int64"
            ],
            "text/html": [
              "<div>\n",
              "<style scoped>\n",
              "    .dataframe tbody tr th:only-of-type {\n",
              "        vertical-align: middle;\n",
              "    }\n",
              "\n",
              "    .dataframe tbody tr th {\n",
              "        vertical-align: top;\n",
              "    }\n",
              "\n",
              "    .dataframe thead th {\n",
              "        text-align: right;\n",
              "    }\n",
              "</style>\n",
              "<table border=\"1\" class=\"dataframe\">\n",
              "  <thead>\n",
              "    <tr style=\"text-align: right;\">\n",
              "      <th></th>\n",
              "      <th>count</th>\n",
              "    </tr>\n",
              "    <tr>\n",
              "      <th>stroke</th>\n",
              "      <th></th>\n",
              "    </tr>\n",
              "  </thead>\n",
              "  <tbody>\n",
              "    <tr>\n",
              "      <th>0</th>\n",
              "      <td>14671</td>\n",
              "    </tr>\n",
              "    <tr>\n",
              "      <th>1</th>\n",
              "      <td>632</td>\n",
              "    </tr>\n",
              "  </tbody>\n",
              "</table>\n",
              "</div><br><label><b>dtype:</b> int64</label>"
            ]
          },
          "metadata": {},
          "execution_count": 80
        }
      ]
    },
    {
      "cell_type": "code",
      "source": [
        "fig = px.pie(\n",
        "    stroke_count, values=stroke_count.values, names=['No', 'Yes'],\n",
        "    title = 'Proportion of Stroke Cases',\n",
        "    color_discrete_sequence=plot_color)\n",
        "\n",
        "fig.update_layout(legend_title_text = 'Stroke Status', title_x=0.3, title_y = 0.95)\n",
        "fig.show('svg')"
      ],
      "metadata": {
        "colab": {
          "base_uri": "https://localhost:8080/",
          "height": 373
        },
        "id": "p9nLbwm5Vipq",
        "outputId": "2d814100-9d9e-4d52-9b78-2ebdf83d6bc6"
      },
      "execution_count": null,
      "outputs": [
        {
          "output_type": "error",
          "ename": "ValueError",
          "evalue": "\nImage export using the \"kaleido\" engine requires the kaleido package,\nwhich can be installed using pip:\n    $ pip install -U kaleido\n",
          "traceback": [
            "\u001b[0;31m---------------------------------------------------------------------------\u001b[0m",
            "\u001b[0;31mValueError\u001b[0m                                Traceback (most recent call last)",
            "\u001b[0;32m<ipython-input-81-db625357843c>\u001b[0m in \u001b[0;36m<cell line: 7>\u001b[0;34m()\u001b[0m\n\u001b[1;32m      5\u001b[0m \u001b[0;34m\u001b[0m\u001b[0m\n\u001b[1;32m      6\u001b[0m \u001b[0mfig\u001b[0m\u001b[0;34m.\u001b[0m\u001b[0mupdate_layout\u001b[0m\u001b[0;34m(\u001b[0m\u001b[0mlegend_title_text\u001b[0m \u001b[0;34m=\u001b[0m \u001b[0;34m'Stroke Status'\u001b[0m\u001b[0;34m,\u001b[0m \u001b[0mtitle_x\u001b[0m\u001b[0;34m=\u001b[0m\u001b[0;36m0.3\u001b[0m\u001b[0;34m,\u001b[0m \u001b[0mtitle_y\u001b[0m \u001b[0;34m=\u001b[0m \u001b[0;36m0.95\u001b[0m\u001b[0;34m)\u001b[0m\u001b[0;34m\u001b[0m\u001b[0;34m\u001b[0m\u001b[0m\n\u001b[0;32m----> 7\u001b[0;31m \u001b[0mfig\u001b[0m\u001b[0;34m.\u001b[0m\u001b[0mshow\u001b[0m\u001b[0;34m(\u001b[0m\u001b[0;34m'svg'\u001b[0m\u001b[0;34m)\u001b[0m\u001b[0;34m\u001b[0m\u001b[0;34m\u001b[0m\u001b[0m\n\u001b[0m",
            "\u001b[0;32m/usr/local/lib/python3.10/dist-packages/plotly/basedatatypes.py\u001b[0m in \u001b[0;36mshow\u001b[0;34m(self, *args, **kwargs)\u001b[0m\n\u001b[1;32m   3408\u001b[0m         \u001b[0;32mimport\u001b[0m \u001b[0mplotly\u001b[0m\u001b[0;34m.\u001b[0m\u001b[0mio\u001b[0m \u001b[0;32mas\u001b[0m \u001b[0mpio\u001b[0m\u001b[0;34m\u001b[0m\u001b[0;34m\u001b[0m\u001b[0m\n\u001b[1;32m   3409\u001b[0m \u001b[0;34m\u001b[0m\u001b[0m\n\u001b[0;32m-> 3410\u001b[0;31m         \u001b[0;32mreturn\u001b[0m \u001b[0mpio\u001b[0m\u001b[0;34m.\u001b[0m\u001b[0mshow\u001b[0m\u001b[0;34m(\u001b[0m\u001b[0mself\u001b[0m\u001b[0;34m,\u001b[0m \u001b[0;34m*\u001b[0m\u001b[0margs\u001b[0m\u001b[0;34m,\u001b[0m \u001b[0;34m**\u001b[0m\u001b[0mkwargs\u001b[0m\u001b[0;34m)\u001b[0m\u001b[0;34m\u001b[0m\u001b[0;34m\u001b[0m\u001b[0m\n\u001b[0m\u001b[1;32m   3411\u001b[0m \u001b[0;34m\u001b[0m\u001b[0m\n\u001b[1;32m   3412\u001b[0m     \u001b[0;32mdef\u001b[0m \u001b[0mto_json\u001b[0m\u001b[0;34m(\u001b[0m\u001b[0mself\u001b[0m\u001b[0;34m,\u001b[0m \u001b[0;34m*\u001b[0m\u001b[0margs\u001b[0m\u001b[0;34m,\u001b[0m \u001b[0;34m**\u001b[0m\u001b[0mkwargs\u001b[0m\u001b[0;34m)\u001b[0m\u001b[0;34m:\u001b[0m\u001b[0;34m\u001b[0m\u001b[0;34m\u001b[0m\u001b[0m\n",
            "\u001b[0;32m/usr/local/lib/python3.10/dist-packages/plotly/io/_renderers.py\u001b[0m in \u001b[0;36mshow\u001b[0;34m(fig, renderer, validate, **kwargs)\u001b[0m\n\u001b[1;32m    384\u001b[0m \u001b[0;34m\u001b[0m\u001b[0m\n\u001b[1;32m    385\u001b[0m     \u001b[0;31m# Mimetype renderers\u001b[0m\u001b[0;34m\u001b[0m\u001b[0;34m\u001b[0m\u001b[0m\n\u001b[0;32m--> 386\u001b[0;31m     \u001b[0mbundle\u001b[0m \u001b[0;34m=\u001b[0m \u001b[0mrenderers\u001b[0m\u001b[0;34m.\u001b[0m\u001b[0m_build_mime_bundle\u001b[0m\u001b[0;34m(\u001b[0m\u001b[0mfig_dict\u001b[0m\u001b[0;34m,\u001b[0m \u001b[0mrenderers_string\u001b[0m\u001b[0;34m=\u001b[0m\u001b[0mrenderer\u001b[0m\u001b[0;34m,\u001b[0m \u001b[0;34m**\u001b[0m\u001b[0mkwargs\u001b[0m\u001b[0;34m)\u001b[0m\u001b[0;34m\u001b[0m\u001b[0;34m\u001b[0m\u001b[0m\n\u001b[0m\u001b[1;32m    387\u001b[0m     \u001b[0;32mif\u001b[0m \u001b[0mbundle\u001b[0m\u001b[0;34m:\u001b[0m\u001b[0;34m\u001b[0m\u001b[0;34m\u001b[0m\u001b[0m\n\u001b[1;32m    388\u001b[0m         \u001b[0;32mif\u001b[0m \u001b[0;32mnot\u001b[0m \u001b[0mipython_display\u001b[0m\u001b[0;34m:\u001b[0m\u001b[0;34m\u001b[0m\u001b[0;34m\u001b[0m\u001b[0m\n",
            "\u001b[0;32m/usr/local/lib/python3.10/dist-packages/plotly/io/_renderers.py\u001b[0m in \u001b[0;36m_build_mime_bundle\u001b[0;34m(self, fig_dict, renderers_string, **kwargs)\u001b[0m\n\u001b[1;32m    292\u001b[0m                         \u001b[0msetattr\u001b[0m\u001b[0;34m(\u001b[0m\u001b[0mrenderer\u001b[0m\u001b[0;34m,\u001b[0m \u001b[0mk\u001b[0m\u001b[0;34m,\u001b[0m \u001b[0mv\u001b[0m\u001b[0;34m)\u001b[0m\u001b[0;34m\u001b[0m\u001b[0;34m\u001b[0m\u001b[0m\n\u001b[1;32m    293\u001b[0m \u001b[0;34m\u001b[0m\u001b[0m\n\u001b[0;32m--> 294\u001b[0;31m                 \u001b[0mbundle\u001b[0m\u001b[0;34m.\u001b[0m\u001b[0mupdate\u001b[0m\u001b[0;34m(\u001b[0m\u001b[0mrenderer\u001b[0m\u001b[0;34m.\u001b[0m\u001b[0mto_mimebundle\u001b[0m\u001b[0;34m(\u001b[0m\u001b[0mfig_dict\u001b[0m\u001b[0;34m)\u001b[0m\u001b[0;34m)\u001b[0m\u001b[0;34m\u001b[0m\u001b[0;34m\u001b[0m\u001b[0m\n\u001b[0m\u001b[1;32m    295\u001b[0m \u001b[0;34m\u001b[0m\u001b[0m\n\u001b[1;32m    296\u001b[0m         \u001b[0;32mreturn\u001b[0m \u001b[0mbundle\u001b[0m\u001b[0;34m\u001b[0m\u001b[0;34m\u001b[0m\u001b[0m\n",
            "\u001b[0;32m/usr/local/lib/python3.10/dist-packages/plotly/io/_base_renderers.py\u001b[0m in \u001b[0;36mto_mimebundle\u001b[0;34m(self, fig_dict)\u001b[0m\n\u001b[1;32m    124\u001b[0m \u001b[0;34m\u001b[0m\u001b[0m\n\u001b[1;32m    125\u001b[0m     \u001b[0;32mdef\u001b[0m \u001b[0mto_mimebundle\u001b[0m\u001b[0;34m(\u001b[0m\u001b[0mself\u001b[0m\u001b[0;34m,\u001b[0m \u001b[0mfig_dict\u001b[0m\u001b[0;34m)\u001b[0m\u001b[0;34m:\u001b[0m\u001b[0;34m\u001b[0m\u001b[0;34m\u001b[0m\u001b[0m\n\u001b[0;32m--> 126\u001b[0;31m         image_bytes = to_image(\n\u001b[0m\u001b[1;32m    127\u001b[0m             \u001b[0mfig_dict\u001b[0m\u001b[0;34m,\u001b[0m\u001b[0;34m\u001b[0m\u001b[0;34m\u001b[0m\u001b[0m\n\u001b[1;32m    128\u001b[0m             \u001b[0mformat\u001b[0m\u001b[0;34m=\u001b[0m\u001b[0mself\u001b[0m\u001b[0;34m.\u001b[0m\u001b[0mformat\u001b[0m\u001b[0;34m,\u001b[0m\u001b[0;34m\u001b[0m\u001b[0;34m\u001b[0m\u001b[0m\n",
            "\u001b[0;32m/usr/local/lib/python3.10/dist-packages/plotly/io/_kaleido.py\u001b[0m in \u001b[0;36mto_image\u001b[0;34m(fig, format, width, height, scale, validate, engine)\u001b[0m\n\u001b[1;32m    130\u001b[0m     \u001b[0;31m# Raise informative error message if Kaleido is not installed\u001b[0m\u001b[0;34m\u001b[0m\u001b[0;34m\u001b[0m\u001b[0m\n\u001b[1;32m    131\u001b[0m     \u001b[0;32mif\u001b[0m \u001b[0mscope\u001b[0m \u001b[0;32mis\u001b[0m \u001b[0;32mNone\u001b[0m\u001b[0;34m:\u001b[0m\u001b[0;34m\u001b[0m\u001b[0;34m\u001b[0m\u001b[0m\n\u001b[0;32m--> 132\u001b[0;31m         raise ValueError(\n\u001b[0m\u001b[1;32m    133\u001b[0m             \"\"\"\n\u001b[1;32m    134\u001b[0m \u001b[0mImage\u001b[0m \u001b[0mexport\u001b[0m \u001b[0musing\u001b[0m \u001b[0mthe\u001b[0m \u001b[0;34m\"kaleido\"\u001b[0m \u001b[0mengine\u001b[0m \u001b[0mrequires\u001b[0m \u001b[0mthe\u001b[0m \u001b[0mkaleido\u001b[0m \u001b[0mpackage\u001b[0m\u001b[0;34m,\u001b[0m\u001b[0;34m\u001b[0m\u001b[0;34m\u001b[0m\u001b[0m\n",
            "\u001b[0;31mValueError\u001b[0m: \nImage export using the \"kaleido\" engine requires the kaleido package,\nwhich can be installed using pip:\n    $ pip install -U kaleido\n"
          ]
        }
      ]
    },
    {
      "cell_type": "code",
      "source": [
        "pip install -U kaleido"
      ],
      "metadata": {
        "colab": {
          "base_uri": "https://localhost:8080/"
        },
        "id": "8_5A2cz1WcvP",
        "outputId": "683b9071-84c7-4576-b9ed-c677e83fa277"
      },
      "execution_count": null,
      "outputs": [
        {
          "output_type": "stream",
          "name": "stdout",
          "text": [
            "Requirement already satisfied: kaleido in /usr/local/lib/python3.10/dist-packages (0.2.1)\n"
          ]
        }
      ]
    },
    {
      "cell_type": "code",
      "source": [
        "fig = px.pie(\n",
        "    stroke_count, values=stroke_count.values, names=['No', 'Yes'],\n",
        "    title = 'Proportion of Stroke Cases',\n",
        "    color_discrete_sequence=plot_color)\n",
        "\n",
        "fig.update_layout(legend_title_text = 'Stroke Status', title_x=0.3, title_y = 0.95)\n",
        "# fig.show('svg')\n",
        "fig.show()"
      ],
      "metadata": {
        "colab": {
          "base_uri": "https://localhost:8080/",
          "height": 542
        },
        "id": "W7LKaJDDWi-J",
        "outputId": "81c71777-574e-406d-cb9a-a62a2944567c"
      },
      "execution_count": null,
      "outputs": [
        {
          "output_type": "display_data",
          "data": {
            "text/html": [
              "<html>\n",
              "<head><meta charset=\"utf-8\" /></head>\n",
              "<body>\n",
              "    <div>            <script src=\"https://cdnjs.cloudflare.com/ajax/libs/mathjax/2.7.5/MathJax.js?config=TeX-AMS-MML_SVG\"></script><script type=\"text/javascript\">if (window.MathJax && window.MathJax.Hub && window.MathJax.Hub.Config) {window.MathJax.Hub.Config({SVG: {font: \"STIX-Web\"}});}</script>                <script type=\"text/javascript\">window.PlotlyConfig = {MathJaxConfig: 'local'};</script>\n",
              "        <script charset=\"utf-8\" src=\"https://cdn.plot.ly/plotly-2.35.2.min.js\"></script>                <div id=\"e7b11359-bad2-4b54-96e0-5e71bfd7fd29\" class=\"plotly-graph-div\" style=\"height:525px; width:100%;\"></div>            <script type=\"text/javascript\">                                    window.PLOTLYENV=window.PLOTLYENV || {};                                    if (document.getElementById(\"e7b11359-bad2-4b54-96e0-5e71bfd7fd29\")) {                    Plotly.newPlot(                        \"e7b11359-bad2-4b54-96e0-5e71bfd7fd29\",                        [{\"domain\":{\"x\":[0.0,1.0],\"y\":[0.0,1.0]},\"hovertemplate\":\"label=%{label}\\u003cbr\\u003evalue=%{value}\\u003cextra\\u003e\\u003c\\u002fextra\\u003e\",\"labels\":[\"No\",\"Yes\"],\"legendgroup\":\"\",\"name\":\"\",\"showlegend\":true,\"values\":[14671,632],\"type\":\"pie\"}],                        {\"template\":{\"data\":{\"histogram2dcontour\":[{\"type\":\"histogram2dcontour\",\"colorbar\":{\"outlinewidth\":0,\"ticks\":\"\"},\"colorscale\":[[0.0,\"#0d0887\"],[0.1111111111111111,\"#46039f\"],[0.2222222222222222,\"#7201a8\"],[0.3333333333333333,\"#9c179e\"],[0.4444444444444444,\"#bd3786\"],[0.5555555555555556,\"#d8576b\"],[0.6666666666666666,\"#ed7953\"],[0.7777777777777778,\"#fb9f3a\"],[0.8888888888888888,\"#fdca26\"],[1.0,\"#f0f921\"]]}],\"choropleth\":[{\"type\":\"choropleth\",\"colorbar\":{\"outlinewidth\":0,\"ticks\":\"\"}}],\"histogram2d\":[{\"type\":\"histogram2d\",\"colorbar\":{\"outlinewidth\":0,\"ticks\":\"\"},\"colorscale\":[[0.0,\"#0d0887\"],[0.1111111111111111,\"#46039f\"],[0.2222222222222222,\"#7201a8\"],[0.3333333333333333,\"#9c179e\"],[0.4444444444444444,\"#bd3786\"],[0.5555555555555556,\"#d8576b\"],[0.6666666666666666,\"#ed7953\"],[0.7777777777777778,\"#fb9f3a\"],[0.8888888888888888,\"#fdca26\"],[1.0,\"#f0f921\"]]}],\"heatmap\":[{\"type\":\"heatmap\",\"colorbar\":{\"outlinewidth\":0,\"ticks\":\"\"},\"colorscale\":[[0.0,\"#0d0887\"],[0.1111111111111111,\"#46039f\"],[0.2222222222222222,\"#7201a8\"],[0.3333333333333333,\"#9c179e\"],[0.4444444444444444,\"#bd3786\"],[0.5555555555555556,\"#d8576b\"],[0.6666666666666666,\"#ed7953\"],[0.7777777777777778,\"#fb9f3a\"],[0.8888888888888888,\"#fdca26\"],[1.0,\"#f0f921\"]]}],\"heatmapgl\":[{\"type\":\"heatmapgl\",\"colorbar\":{\"outlinewidth\":0,\"ticks\":\"\"},\"colorscale\":[[0.0,\"#0d0887\"],[0.1111111111111111,\"#46039f\"],[0.2222222222222222,\"#7201a8\"],[0.3333333333333333,\"#9c179e\"],[0.4444444444444444,\"#bd3786\"],[0.5555555555555556,\"#d8576b\"],[0.6666666666666666,\"#ed7953\"],[0.7777777777777778,\"#fb9f3a\"],[0.8888888888888888,\"#fdca26\"],[1.0,\"#f0f921\"]]}],\"contourcarpet\":[{\"type\":\"contourcarpet\",\"colorbar\":{\"outlinewidth\":0,\"ticks\":\"\"}}],\"contour\":[{\"type\":\"contour\",\"colorbar\":{\"outlinewidth\":0,\"ticks\":\"\"},\"colorscale\":[[0.0,\"#0d0887\"],[0.1111111111111111,\"#46039f\"],[0.2222222222222222,\"#7201a8\"],[0.3333333333333333,\"#9c179e\"],[0.4444444444444444,\"#bd3786\"],[0.5555555555555556,\"#d8576b\"],[0.6666666666666666,\"#ed7953\"],[0.7777777777777778,\"#fb9f3a\"],[0.8888888888888888,\"#fdca26\"],[1.0,\"#f0f921\"]]}],\"surface\":[{\"type\":\"surface\",\"colorbar\":{\"outlinewidth\":0,\"ticks\":\"\"},\"colorscale\":[[0.0,\"#0d0887\"],[0.1111111111111111,\"#46039f\"],[0.2222222222222222,\"#7201a8\"],[0.3333333333333333,\"#9c179e\"],[0.4444444444444444,\"#bd3786\"],[0.5555555555555556,\"#d8576b\"],[0.6666666666666666,\"#ed7953\"],[0.7777777777777778,\"#fb9f3a\"],[0.8888888888888888,\"#fdca26\"],[1.0,\"#f0f921\"]]}],\"mesh3d\":[{\"type\":\"mesh3d\",\"colorbar\":{\"outlinewidth\":0,\"ticks\":\"\"}}],\"scatter\":[{\"fillpattern\":{\"fillmode\":\"overlay\",\"size\":10,\"solidity\":0.2},\"type\":\"scatter\"}],\"parcoords\":[{\"type\":\"parcoords\",\"line\":{\"colorbar\":{\"outlinewidth\":0,\"ticks\":\"\"}}}],\"scatterpolargl\":[{\"type\":\"scatterpolargl\",\"marker\":{\"colorbar\":{\"outlinewidth\":0,\"ticks\":\"\"}}}],\"bar\":[{\"error_x\":{\"color\":\"#2a3f5f\"},\"error_y\":{\"color\":\"#2a3f5f\"},\"marker\":{\"line\":{\"color\":\"#E5ECF6\",\"width\":0.5},\"pattern\":{\"fillmode\":\"overlay\",\"size\":10,\"solidity\":0.2}},\"type\":\"bar\"}],\"scattergeo\":[{\"type\":\"scattergeo\",\"marker\":{\"colorbar\":{\"outlinewidth\":0,\"ticks\":\"\"}}}],\"scatterpolar\":[{\"type\":\"scatterpolar\",\"marker\":{\"colorbar\":{\"outlinewidth\":0,\"ticks\":\"\"}}}],\"histogram\":[{\"marker\":{\"pattern\":{\"fillmode\":\"overlay\",\"size\":10,\"solidity\":0.2}},\"type\":\"histogram\"}],\"scattergl\":[{\"type\":\"scattergl\",\"marker\":{\"colorbar\":{\"outlinewidth\":0,\"ticks\":\"\"}}}],\"scatter3d\":[{\"type\":\"scatter3d\",\"line\":{\"colorbar\":{\"outlinewidth\":0,\"ticks\":\"\"}},\"marker\":{\"colorbar\":{\"outlinewidth\":0,\"ticks\":\"\"}}}],\"scattermapbox\":[{\"type\":\"scattermapbox\",\"marker\":{\"colorbar\":{\"outlinewidth\":0,\"ticks\":\"\"}}}],\"scatterternary\":[{\"type\":\"scatterternary\",\"marker\":{\"colorbar\":{\"outlinewidth\":0,\"ticks\":\"\"}}}],\"scattercarpet\":[{\"type\":\"scattercarpet\",\"marker\":{\"colorbar\":{\"outlinewidth\":0,\"ticks\":\"\"}}}],\"carpet\":[{\"aaxis\":{\"endlinecolor\":\"#2a3f5f\",\"gridcolor\":\"white\",\"linecolor\":\"white\",\"minorgridcolor\":\"white\",\"startlinecolor\":\"#2a3f5f\"},\"baxis\":{\"endlinecolor\":\"#2a3f5f\",\"gridcolor\":\"white\",\"linecolor\":\"white\",\"minorgridcolor\":\"white\",\"startlinecolor\":\"#2a3f5f\"},\"type\":\"carpet\"}],\"table\":[{\"cells\":{\"fill\":{\"color\":\"#EBF0F8\"},\"line\":{\"color\":\"white\"}},\"header\":{\"fill\":{\"color\":\"#C8D4E3\"},\"line\":{\"color\":\"white\"}},\"type\":\"table\"}],\"barpolar\":[{\"marker\":{\"line\":{\"color\":\"#E5ECF6\",\"width\":0.5},\"pattern\":{\"fillmode\":\"overlay\",\"size\":10,\"solidity\":0.2}},\"type\":\"barpolar\"}],\"pie\":[{\"automargin\":true,\"type\":\"pie\"}]},\"layout\":{\"autotypenumbers\":\"strict\",\"colorway\":[\"#636efa\",\"#EF553B\",\"#00cc96\",\"#ab63fa\",\"#FFA15A\",\"#19d3f3\",\"#FF6692\",\"#B6E880\",\"#FF97FF\",\"#FECB52\"],\"font\":{\"color\":\"#2a3f5f\"},\"hovermode\":\"closest\",\"hoverlabel\":{\"align\":\"left\"},\"paper_bgcolor\":\"white\",\"plot_bgcolor\":\"#E5ECF6\",\"polar\":{\"bgcolor\":\"#E5ECF6\",\"angularaxis\":{\"gridcolor\":\"white\",\"linecolor\":\"white\",\"ticks\":\"\"},\"radialaxis\":{\"gridcolor\":\"white\",\"linecolor\":\"white\",\"ticks\":\"\"}},\"ternary\":{\"bgcolor\":\"#E5ECF6\",\"aaxis\":{\"gridcolor\":\"white\",\"linecolor\":\"white\",\"ticks\":\"\"},\"baxis\":{\"gridcolor\":\"white\",\"linecolor\":\"white\",\"ticks\":\"\"},\"caxis\":{\"gridcolor\":\"white\",\"linecolor\":\"white\",\"ticks\":\"\"}},\"coloraxis\":{\"colorbar\":{\"outlinewidth\":0,\"ticks\":\"\"}},\"colorscale\":{\"sequential\":[[0.0,\"#0d0887\"],[0.1111111111111111,\"#46039f\"],[0.2222222222222222,\"#7201a8\"],[0.3333333333333333,\"#9c179e\"],[0.4444444444444444,\"#bd3786\"],[0.5555555555555556,\"#d8576b\"],[0.6666666666666666,\"#ed7953\"],[0.7777777777777778,\"#fb9f3a\"],[0.8888888888888888,\"#fdca26\"],[1.0,\"#f0f921\"]],\"sequentialminus\":[[0.0,\"#0d0887\"],[0.1111111111111111,\"#46039f\"],[0.2222222222222222,\"#7201a8\"],[0.3333333333333333,\"#9c179e\"],[0.4444444444444444,\"#bd3786\"],[0.5555555555555556,\"#d8576b\"],[0.6666666666666666,\"#ed7953\"],[0.7777777777777778,\"#fb9f3a\"],[0.8888888888888888,\"#fdca26\"],[1.0,\"#f0f921\"]],\"diverging\":[[0,\"#8e0152\"],[0.1,\"#c51b7d\"],[0.2,\"#de77ae\"],[0.3,\"#f1b6da\"],[0.4,\"#fde0ef\"],[0.5,\"#f7f7f7\"],[0.6,\"#e6f5d0\"],[0.7,\"#b8e186\"],[0.8,\"#7fbc41\"],[0.9,\"#4d9221\"],[1,\"#276419\"]]},\"xaxis\":{\"gridcolor\":\"white\",\"linecolor\":\"white\",\"ticks\":\"\",\"title\":{\"standoff\":15},\"zerolinecolor\":\"white\",\"automargin\":true,\"zerolinewidth\":2},\"yaxis\":{\"gridcolor\":\"white\",\"linecolor\":\"white\",\"ticks\":\"\",\"title\":{\"standoff\":15},\"zerolinecolor\":\"white\",\"automargin\":true,\"zerolinewidth\":2},\"scene\":{\"xaxis\":{\"backgroundcolor\":\"#E5ECF6\",\"gridcolor\":\"white\",\"linecolor\":\"white\",\"showbackground\":true,\"ticks\":\"\",\"zerolinecolor\":\"white\",\"gridwidth\":2},\"yaxis\":{\"backgroundcolor\":\"#E5ECF6\",\"gridcolor\":\"white\",\"linecolor\":\"white\",\"showbackground\":true,\"ticks\":\"\",\"zerolinecolor\":\"white\",\"gridwidth\":2},\"zaxis\":{\"backgroundcolor\":\"#E5ECF6\",\"gridcolor\":\"white\",\"linecolor\":\"white\",\"showbackground\":true,\"ticks\":\"\",\"zerolinecolor\":\"white\",\"gridwidth\":2}},\"shapedefaults\":{\"line\":{\"color\":\"#2a3f5f\"}},\"annotationdefaults\":{\"arrowcolor\":\"#2a3f5f\",\"arrowhead\":0,\"arrowwidth\":1},\"geo\":{\"bgcolor\":\"white\",\"landcolor\":\"#E5ECF6\",\"subunitcolor\":\"white\",\"showland\":true,\"showlakes\":true,\"lakecolor\":\"white\"},\"title\":{\"x\":0.05},\"mapbox\":{\"style\":\"light\"}}},\"legend\":{\"tracegroupgap\":0,\"title\":{\"text\":\"Stroke Status\"}},\"title\":{\"text\":\"Proportion of Stroke Cases\",\"x\":0.3,\"y\":0.95},\"piecolorway\":[\"#008080\",\"black\"]},                        {\"responsive\": true}                    ).then(function(){\n",
              "                            \n",
              "var gd = document.getElementById('e7b11359-bad2-4b54-96e0-5e71bfd7fd29');\n",
              "var x = new MutationObserver(function (mutations, observer) {{\n",
              "        var display = window.getComputedStyle(gd).display;\n",
              "        if (!display || display === 'none') {{\n",
              "            console.log([gd, 'removed!']);\n",
              "            Plotly.purge(gd);\n",
              "            observer.disconnect();\n",
              "        }}\n",
              "}});\n",
              "\n",
              "// Listen for the removal of the full notebook cells\n",
              "var notebookContainer = gd.closest('#notebook-container');\n",
              "if (notebookContainer) {{\n",
              "    x.observe(notebookContainer, {childList: true});\n",
              "}}\n",
              "\n",
              "// Listen for the clearing of the current output cell\n",
              "var outputEl = gd.closest('.output');\n",
              "if (outputEl) {{\n",
              "    x.observe(outputEl, {childList: true});\n",
              "}}\n",
              "\n",
              "                        })                };                            </script>        </div>\n",
              "</body>\n",
              "</html>"
            ]
          },
          "metadata": {}
        }
      ]
    },
    {
      "cell_type": "code",
      "source": [
        "# Bivariate Analysis\n",
        "def custom_historgram(columns:str, titles:list)->go.Figure:\n",
        "    fig = sp.make_subplots(rows=1, cols=2, subplot_titles = ['No Stroke', 'Yes Stroke'])\n",
        "    histogram_no_stroke = px.histogram(no_stroke_data, x = columns, color_discrete_sequence=['#008080'])\n",
        "    histogram_stroke = px.histogram(stroke_data, x = columns, color_discrete_sequence=['black'])\n",
        "    fig.add_trace(histogram_no_stroke['data'][0], row=1, col=1)\n",
        "    fig.add_trace(histogram_stroke['data'][0], row=1, col=2)\n",
        "    fig.update_layout(title = titles[0], title_x = 0.5)\n",
        "    fig.update_xaxes(title_text = titles[1])\n",
        "    fig.update_yaxes(title_text = 'Count')\n",
        "    return fig"
      ],
      "metadata": {
        "id": "i4K-a1GXWnm6"
      },
      "execution_count": null,
      "outputs": []
    },
    {
      "cell_type": "code",
      "source": [
        "fig = custom_historgram('avg_glucose_level', ['Average Glucose Level Distribution by Stroke', 'Average Glucose Level'])\n",
        "# fig.show('svg')\n",
        "fig.show()"
      ],
      "metadata": {
        "colab": {
          "base_uri": "https://localhost:8080/",
          "height": 542
        },
        "id": "KjBKFyz4W8G2",
        "outputId": "75125d1a-7f03-4784-827c-3262969997b0"
      },
      "execution_count": null,
      "outputs": [
        {
          "output_type": "display_data",
          "data": {
            "text/html": [
              "<html>\n",
              "<head><meta charset=\"utf-8\" /></head>\n",
              "<body>\n",
              "    <div>            <script src=\"https://cdnjs.cloudflare.com/ajax/libs/mathjax/2.7.5/MathJax.js?config=TeX-AMS-MML_SVG\"></script><script type=\"text/javascript\">if (window.MathJax && window.MathJax.Hub && window.MathJax.Hub.Config) {window.MathJax.Hub.Config({SVG: {font: \"STIX-Web\"}});}</script>                <script type=\"text/javascript\">window.PlotlyConfig = {MathJaxConfig: 'local'};</script>\n",
              "        <script charset=\"utf-8\" src=\"https://cdn.plot.ly/plotly-2.35.2.min.js\"></script>                <div id=\"e4180b25-0c6e-47a1-9bd0-17dfbf64382a\" class=\"plotly-graph-div\" style=\"height:525px; width:100%;\"></div>            <script type=\"text/javascript\">                                    window.PLOTLYENV=window.PLOTLYENV || {};                                    if (document.getElementById(\"e4180b25-0c6e-47a1-9bd0-17dfbf64382a\")) {                    Plotly.newPlot(                        \"e4180b25-0c6e-47a1-9bd0-17dfbf64382a\",                        [{\"alignmentgroup\":\"True\",\"bingroup\":\"x\",\"hovertemplate\":\"avg_glucose_level=%{x}\\u003cbr\\u003ecount=%{y}\\u003cextra\\u003e\\u003c\\u002fextra\\u003e\",\"legendgroup\":\"\",\"marker\":{\"color\":\"#008080\",\"pattern\":{\"shape\":\"\"}},\"name\":\"\",\"offsetgroup\":\"\",\"orientation\":\"v\",\"showlegend\":false,\"x\":[79.53,78.44,103.0,64.87,73.36,84.35,88.97,75.32,107.22,62.68,114.89,69.94,84.1,112.09,73.78,100.54,79.81,76.42,65.34,100.09,106.68,94.12,196.61,80.57,77.86,89.21,92.82,84.11,75.03,60.73,65.61,95.37,223.36,64.68,84.11,73.87,108.38,85.79,80.28,94.78,96.69,77.74,129.19,87.1,74.62,78.29,84.88,59.52,90.37,116.21,71.81,96.03,75.11,80.28,73.94,82.28,73.19,104.12,96.35,89.96,58.61,80.72,58.57,85.12,65.21,85.15,196.58,84.99,103.72,135.74,62.13,110.25,89.14,83.14,84.88,94.12,97.05,81.25,140.28,74.63,86.25,89.32,85.0,85.87,74.98,85.28,88.81,81.38,111.36,77.96,62.18,84.12,123.04,76.51,87.87,84.1,74.12,94.77,106.74,96.1,111.65,75.93,103.0,61.68,110.28,82.24,99.44,65.77,102.97,72.49,99.76,112.19,68.72,98.92,87.62,79.66,98.56,82.11,86.78,81.28,79.33,84.02,74.36,78.3,65.36,66.06,93.73,82.44,93.52,90.42,87.42,87.96,85.83,102.34,86.91,89.43,74.05,75.07,84.79,83.93,91.65,100.39,95.08,90.41,77.92,84.6,69.24,103.12,67.99,68.24,104.36,76.93,87.85,57.38,68.66,90.28,96.69,88.02,75.08,59.82,80.96,70.19,86.0,78.98,77.57,97.53,95.4,56.08,56.11,85.62,62.6,56.84,57.2,70.05,91.96,79.35,90.9,92.76,101.57,93.88,82.64,90.78,77.92,111.81,77.55,123.49,79.56,75.08,83.44,105.76,98.75,72.76,92.59,68.96,106.41,72.67,72.99,110.63,107.82,64.94,89.28,57.26,107.45,75.06,113.41,63.98,80.57,89.68,92.08,96.02,56.63,83.26,70.07,58.42,98.07,86.11,67.99,96.02,84.18,89.85,82.26,84.37,91.3,84.6,103.25,101.32,68.24,100.19,62.68,108.8,65.67,86.98,87.39,65.66,65.98,70.87,85.96,68.96,103.08,58.99,82.39,81.26,58.35,74.16,71.2,65.36,98.92,60.98,84.1,111.61,73.5,127.4,88.97,59.74,80.42,76.57,106.12,113.1,81.21,76.68,83.91,111.33,80.08,98.91,73.92,74.44,226.93,94.67,97.23,61.49,80.42,88.27,64.6,90.07,90.97,92.95,92.67,120.77,62.61,87.74,69.88,89.63,108.08,61.37,112.25,65.41,99.87,73.62,104.55,65.91,96.85,96.92,95.37,85.0,111.36,78.06,59.26,72.56,97.24,75.82,88.29,91.65,72.18,107.4,89.11,77.07,82.88,80.57,76.7,93.67,112.66,91.05,90.91,77.59,86.85,68.35,100.52,103.78,79.53,88.68,95.44,87.72,107.52,108.56,100.63,111.73,92.3,96.73,69.24,74.86,71.7,65.79,96.93,56.42,86.0,65.87,103.18,70.56,200.8,75.77,140.96,86.11,84.03,77.02,106.24,83.15,103.06,82.27,70.83,73.89,59.62,90.31,86.21,77.96,121.14,76.35,87.79,81.42,80.75,84.66,57.89,70.13,111.31,75.73,77.12,111.33,70.18,78.18,88.02,84.43,74.35,87.17,77.88,72.79,76.34,118.93,78.85,105.68,66.16,111.32,69.96,77.74,58.87,90.43,103.29,56.67,121.4,77.91,86.35,100.61,55.84,87.71,83.55,97.08,73.81,115.47,73.62,105.52,79.33,206.4,61.42,73.74,118.93,112.46,83.52,67.97,79.15,93.93,83.41,76.55,107.98,78.34,88.7,87.88,72.0,100.39,89.58,144.33,87.81,85.68,57.96,84.86,100.65,89.11,81.13,63.8,90.18,57.26,103.51,82.38,96.04,65.98,59.98,91.61,79.79,112.46,95.57,73.48,90.42,78.98,99.69,85.79,171.23,98.54,87.77,91.44,83.06,76.44,87.51,106.56,94.44,73.36,87.62,87.93,68.28,93.3,114.53,88.65,77.12,90.4,73.2,58.66,129.97,68.48,73.18,62.49,75.77,99.44,115.93,87.77,106.22,67.67,97.05,83.16,88.89,82.06,76.78,114.71,90.22,74.44,63.78,90.78,73.28,57.26,72.5,67.79,90.7,90.47,80.55,76.55,94.34,104.08,86.91,77.08,92.06,82.53,100.61,83.56,100.61,80.72,110.76,90.36,68.34,96.06,84.48,65.12,80.86,82.88,84.47,57.46,78.05,81.73,69.92,99.07,63.62,77.42,86.35,90.69,99.6,74.63,85.59,96.99,88.49,100.47,76.62,75.5,127.42,80.63,102.34,80.84,99.96,89.73,73.48,111.37,77.89,79.64,103.76,65.77,78.04,123.99,87.86,77.29,114.32,94.09,72.49,89.95,100.1,83.15,99.94,78.05,75.52,63.01,56.87,101.25,193.8,111.64,84.1,88.97,79.89,67.76,67.1,73.27,92.22,86.24,118.61,84.13,90.44,85.81,88.18,89.08,102.58,111.43,84.18,110.68,81.73,64.44,95.44,75.77,96.96,79.9,67.1,73.27,82.46,69.37,56.3,91.85,83.8,86.05,69.34,82.85,101.61,69.38,69.12,80.08,73.0,81.73,62.62,74.49,72.37,103.44,85.82,86.6,82.32,74.29,77.56,83.02,57.02,73.27,109.3,60.6,99.29,64.55,74.81,68.52,67.73,82.83,88.85,80.79,62.66,71.27,72.1,219.82,71.38,101.5,80.44,102.07,97.34,69.06,97.24,63.89,60.03,122.43,73.0,82.13,90.54,62.63,83.15,77.75,62.6,91.68,77.08,71.12,72.96,61.29,100.12,79.8,93.98,57.59,82.39,76.09,95.06,99.7,100.59,101.35,87.06,98.24,93.04,78.93,72.36,63.86,100.03,112.16,147.26,101.3,223.85,59.36,94.49,83.5,78.79,56.64,91.96,111.81,82.48,107.47,81.92,112.19,68.12,112.66,90.49,60.98,91.34,83.51,100.54,87.93,99.0,90.55,93.58,109.69,85.87,62.13,82.13,107.02,101.05,223.58,107.27,70.93,63.27,72.79,94.29,107.46,87.41,98.65,72.49,96.42,91.96,91.53,70.54,85.38,101.3,65.32,61.53,73.0,98.55,74.51,79.82,71.07,83.55,82.68,80.08,71.63,82.47,85.52,93.04,125.33,58.65,83.53,87.54,99.23,112.19,96.86,65.41,102.91,77.29,101.22,103.45,68.37,81.76,92.78,84.44,95.1,103.25,81.71,80.84,58.48,75.78,76.19,82.18,90.52,76.36,82.4,85.03,84.03,90.54,72.44,59.87,86.0,61.29,94.12,63.63,79.51,90.9,82.56,133.19,94.63,65.22,70.93,98.73,227.23,76.34,107.22,64.87,86.25,82.91,80.0,70.54,90.22,77.79,65.21,82.43,84.79,65.91,111.04,76.08,111.81,95.16,86.09,88.34,103.78,96.02,83.27,96.04,77.91,91.88,75.87,90.19,89.11,59.74,92.65,90.07,110.73,86.03,112.08,72.52,95.12,102.37,89.03,121.04,103.72,77.06,70.66,57.93,90.44,80.94,75.74,74.63,77.66,78.35,87.1,80.98,68.68,74.61,69.92,64.29,66.2,73.92,67.87,78.85,78.18,91.24,100.54,87.54,87.16,91.71,161.28,96.86,89.53,82.26,64.17,70.55,66.12,75.78,70.01,57.38,71.06,56.75,63.42,75.53,103.08,90.78,198.3,62.94,70.93,73.37,76.29,75.29,67.07,83.56,89.43,75.06,65.41,94.38,73.28,109.56,141.16,61.47,82.26,87.62,60.55,65.43,95.6,100.85,108.37,217.4,94.32,59.0,79.15,69.24,111.48,94.64,101.34,85.52,202.66,87.43,76.72,111.08,59.74,98.46,101.6,95.62,65.36,82.57,108.64,91.24,69.87,82.0,88.2,200.49,73.66,73.94,82.1,76.74,89.86,65.38,79.82,77.04,74.99,187.87,92.25,65.48,112.69,77.55,77.12,90.35,83.89,60.98,97.78,70.51,96.84,125.68,74.29,90.37,108.07,86.9,65.21,105.58,89.57,89.68,99.12,98.48,56.12,89.53,70.42,111.96,81.0,203.36,73.51,86.23,78.98,69.88,111.48,77.93,80.07,56.79,113.74,79.17,56.33,124.37,94.09,63.47,114.15,183.43,86.78,86.36,114.01,81.25,78.93,78.96,73.34,55.39,95.01,90.11,120.94,81.68,92.82,96.26,73.81,79.8,163.82,92.75,69.26,87.51,65.12,83.3,82.95,93.51,91.02,74.85,92.04,85.96,79.2,99.47,71.81,92.23,68.07,92.39,111.96,88.83,91.21,79.0,127.21,73.54,67.5,81.94,78.58,57.63,98.47,107.06,97.37,104.24,68.09,120.58,97.23,91.35,120.58,99.0,61.94,75.86,74.54,59.28,90.0,88.78,77.44,83.07,101.52,69.88,104.7,71.37,85.07,93.52,69.52,70.09,68.34,83.83,84.59,203.81,82.47,83.06,82.56,107.57,89.21,105.59,104.6,74.01,89.42,84.3,74.35,95.16,81.43,87.77,100.22,68.53,78.48,81.25,85.15,102.04,80.17,81.51,110.7,96.85,85.1,117.34,56.63,71.5,103.31,95.57,82.31,127.13,60.99,113.28,74.0,80.86,90.55,101.22,82.94,80.81,57.79,82.93,101.52,80.0,106.68,91.85,82.39,85.12,96.84,91.3,80.93,126.68,102.97,93.3,62.67,79.34,89.52,86.28,73.48,83.03,74.35,79.8,103.86,91.85,110.87,93.6,68.35,65.36,104.02,74.36,57.02,56.33,62.6,88.79,82.44,99.91,57.1,91.82,80.57,125.68,84.1,95.19,197.09,88.32,103.45,89.68,96.23,84.1,94.69,82.26,106.51,68.35,73.71,102.0,103.08,98.41,84.7,59.2,91.93,68.27,75.84,69.87,78.57,79.09,88.65,75.77,92.87,96.01,56.07,97.96,65.42,65.77,87.74,106.95,92.56,93.51,69.54,80.86,83.56,101.54,101.43,97.55,85.08,96.95,105.28,68.7,73.6,84.85,106.03,77.94,73.2,105.6,73.74,143.33,78.93,65.08,94.63,84.86,90.22,80.21,231.61,97.89,99.01,88.63,59.98,84.85,60.17,80.85,79.33,73.81,96.69,85.23,82.89,75.23,91.96,57.46,74.01,77.1,95.86,74.63,98.02,110.38,58.42,65.08,77.43,94.92,69.84,83.16,76.77,62.81,82.58,87.26,62.47,95.23,81.2,76.88,80.72,113.85,78.52,110.27,77.37,105.28,73.18,71.8,76.08,82.9,57.6,79.44,79.7,57.27,78.34,61.94,99.47,94.67,100.54,111.94,112.17,76.21,87.5,79.15,91.63,103.85,92.97,97.84,90.37,79.63,74.98,91.88,98.99,83.83,70.15,96.79,187.52,99.36,81.94,87.79,153.34,83.6,99.65,88.47,86.53,95.01,60.77,91.01,64.66,82.38,71.6,68.94,101.08,73.29,85.03,96.02,88.97,110.69,72.09,84.04,58.01,106.03,58.68,81.73,79.59,56.11,93.68,83.88,92.86,76.88,74.81,112.02,221.24,61.88,81.26,82.35,74.32,86.3,93.48,81.94,59.85,96.47,100.61,87.06,89.66,93.2,84.1,96.86,70.92,94.15,79.47,69.3,85.11,87.1,74.43,79.32,77.67,94.65,99.29,57.52,74.36,65.33,92.78,69.38,98.92,92.2,77.49,57.52,90.3,94.14,88.06,111.48,100.66,74.8,95.33,81.64,89.88,82.48,116.99,84.66,65.07,109.1,88.89,77.06,84.19,67.06,121.19,92.65,100.8,79.89,93.72,92.32,75.09,101.34,82.68,67.5,95.08,106.74,79.88,98.05,124.38,77.83,85.88,63.73,87.32,109.52,62.62,72.39,114.54,103.43,90.61,103.76,92.73,96.98,111.84,81.44,70.87,85.84,87.72,83.88,73.71,78.28,89.58,83.44,69.52,93.85,92.82,103.06,100.41,70.91,99.16,81.51,65.24,88.53,68.72,109.85,74.39,62.13,69.25,80.63,92.86,85.07,70.01,97.58,82.89,110.32,90.42,72.88,92.65,81.54,58.17,103.62,104.23,95.46,69.71,88.88,80.07,107.91,98.04,112.95,89.66,70.59,94.96,85.79,78.26,76.36,60.22,90.6,64.45,99.3,105.36,84.1,89.23,102.35,59.57,92.24,84.14,91.04,86.6,112.08,79.92,86.49,80.85,72.65,74.85,85.23,59.43,108.61,75.92,81.71,97.39,97.06,92.3,88.53,83.84,97.89,98.3,97.95,71.38,60.32,65.66,91.54,107.29,95.01,82.99,90.34,75.05,83.91,82.38,86.0,97.87,91.65,72.49,96.01,82.41,97.37,88.62,70.55,96.82,110.7,72.96,65.92,62.89,84.12,65.95,82.39,86.43,77.08,93.82,68.91,75.25,94.89,65.01,79.89,112.09,83.26,78.24,61.88,79.63,86.6,79.79,104.34,84.03,74.88,68.35,103.78,90.43,88.3,87.39,65.33,62.44,70.51,102.1,107.74,79.73,85.16,112.19,111.73,85.62,97.37,78.48,79.6,57.08,82.32,92.48,81.74,89.86,90.42,102.42,108.35,69.87,87.17,102.73,100.02,65.45,65.36,106.73,92.34,83.83,89.28,80.57,85.81,89.68,113.3,63.71,111.94,71.38,112.94,65.48,80.96,77.16,82.18,93.3,138.02,81.21,68.84,99.83,70.3,63.57,93.74,101.57,75.28,88.75,63.18,82.62,92.35,65.07,96.14,85.12,65.34,68.35,93.88,77.98,67.06,68.18,68.38,73.92,73.75,221.58,112.72,111.15,94.04,69.81,56.08,86.21,157.01,93.85,86.21,101.93,89.68,86.07,73.04,103.37,70.91,69.82,71.32,82.42,79.17,99.75,90.92,60.22,65.42,93.88,73.71,93.0,57.42,77.72,94.68,105.49,110.85,100.12,95.42,74.96,92.82,95.01,104.77,90.43,91.54,80.63,67.1,87.54,81.18,101.06,102.15,78.99,86.85,85.57,67.38,228.69,89.06,92.85,69.37,62.66,78.0,67.68,62.47,66.55,57.3,113.05,68.98,90.11,80.98,95.36,101.75,68.8,85.08,69.17,97.52,65.67,110.68,78.93,102.97,84.6,68.24,82.57,111.19,68.19,76.19,82.84,89.59,83.07,94.89,88.05,145.46,67.68,69.88,72.65,73.5,103.08,60.61,59.67,108.51,85.28,66.25,90.07,92.37,95.89,91.13,90.11,67.87,84.13,111.96,90.58,94.63,83.14,104.12,74.32,60.61,88.2,68.66,126.85,62.48,77.06,80.13,74.05,65.21,100.33,95.3,110.42,104.64,92.65,74.35,88.27,79.79,67.08,94.14,118.66,97.4,104.12,101.87,58.96,84.06,101.57,85.82,111.08,73.36,65.47,98.07,71.94,69.04,90.01,81.26,106.03,97.78,105.61,71.94,59.93,90.22,108.14,88.97,65.67,77.6,82.38,80.0,99.49,120.46,84.86,90.4,94.18,95.16,82.4,93.52,83.13,68.12,107.49,67.07,69.17,108.47,202.05,121.14,77.93,60.98,83.14,71.63,78.32,67.06,73.75,106.27,111.84,86.7,83.68,64.66,91.65,93.72,84.2,62.0,86.98,93.29,100.85,89.96,97.46,62.47,77.92,78.57,82.1,65.77,104.21,60.22,89.44,104.05,96.01,92.71,96.18,56.64,95.62,135.19,107.79,70.23,145.46,101.41,103.44,71.2,93.13,71.93,77.92,64.68,56.95,102.77,130.61,114.82,91.0,95.69,81.53,61.94,107.53,91.95,62.99,85.18,72.81,93.62,84.86,67.29,232.79,78.93,85.84,85.17,144.2,84.3,101.98,99.79,58.43,70.98,88.68,80.08,79.35,73.65,78.46,100.54,73.48,69.72,138.07,65.77,90.51,86.37,101.34,74.5,110.22,83.12,78.05,62.2,112.44,99.87,56.7,112.54,99.0,102.37,76.55,216.9,67.5,86.36,92.65,81.73,65.29,68.48,69.15,105.18,89.0,62.13,74.4,82.33,97.43,69.16,86.55,75.19,98.12,89.85,58.68,71.13,100.31,72.49,80.92,82.68,87.53,76.19,93.88,76.19,91.96,56.11,65.91,71.3,95.87,79.93,86.07,112.97,104.11,102.39,73.72,85.79,62.27,113.4,72.71,103.58,74.98,87.15,79.3,122.44,92.39,70.16,88.83,83.43,97.23,82.41,72.76,106.13,56.69,82.38,90.98,92.65,93.55,88.1,93.11,97.94,81.58,104.56,81.05,93.71,82.62,77.54,92.72,81.0,90.57,82.46,101.06,107.47,101.87,83.62,82.33,112.08,94.14,81.13,73.39,82.32,82.94,111.1,86.0,57.26,113.4,75.29,85.38,87.4,79.94,79.73,56.48,90.38,81.38,80.55,75.94,145.37,105.28,65.6,111.64,107.74,79.18,84.43,69.99,123.91,74.29,88.33,94.63,81.6,68.35,90.23,99.76,90.77,85.62,97.95,94.96,106.97,62.08,67.27,97.73,83.24,78.92,93.0,158.48,88.04,74.98,93.58,121.04,85.0,97.37,115.16,69.34,68.48,87.74,57.96,77.79,82.08,56.33,88.83,103.46,105.49,69.28,76.55,93.88,67.0,86.05,75.0,101.43,195.25,79.73,85.52,77.47,191.15,77.93,62.69,78.79,58.72,82.95,95.36,96.35,193.58,72.76,121.46,185.49,80.05,71.43,70.51,112.06,203.44,68.84,58.42,79.98,62.62,115.22,63.95,87.15,107.11,95.08,84.6,87.69,57.43,99.07,59.49,65.36,74.9,68.37,67.07,103.78,92.75,99.49,78.93,68.94,102.08,73.81,86.06,99.72,82.35,86.06,70.59,94.62,95.36,86.86,122.83,103.76,109.56,81.68,65.51,78.3,87.0,69.61,81.0,58.37,79.2,87.16,79.89,90.43,85.84,70.57,91.82,72.49,83.17,94.39,96.42,227.91,80.96,98.43,88.51,107.49,76.53,65.84,77.55,67.29,92.32,99.73,81.51,98.84,87.62,93.24,89.68,62.08,107.49,101.02,112.96,92.62,100.16,73.02,60.29,101.81,82.44,57.27,78.99,92.04,63.28,82.85,214.73,82.39,96.34,146.1,82.91,93.97,103.76,111.37,211.78,76.03,216.92,89.73,81.26,94.29,57.12,83.86,82.81,99.64,71.32,81.28,65.66,111.99,88.38,59.28,104.45,104.48,72.07,89.03,80.98,79.08,91.21,68.94,107.98,77.49,100.8,71.88,78.11,69.28,65.98,88.65,80.83,56.63,64.94,80.63,87.52,67.5,102.42,60.73,65.77,208.17,68.53,105.63,62.28,84.85,97.37,109.3,103.45,104.55,92.95,73.02,83.83,101.93,95.88,99.96,60.98,71.93,88.57,75.12,68.88,75.04,80.84,92.59,90.43,91.58,106.4,99.84,82.21,101.81,91.98,86.91,81.25,106.24,211.12,61.54,76.45,97.46,88.39,69.68,77.79,87.21,65.84,102.91,83.43,60.61,58.01,78.46,92.32,68.66,81.21,80.72,70.51,95.1,85.65,81.05,208.3,92.22,97.25,77.01,106.68,87.06,65.12,91.05,86.05,79.11,97.05,76.82,84.91,80.98,81.51,78.79,80.57,76.31,73.29,77.12,77.63,97.95,84.2,59.26,101.41,85.51,82.88,63.4,95.8,89.53,89.03,60.6,89.18,85.81,134.8,94.65,90.55,203.81,71.29,82.59,86.6,93.88,69.5,63.28,70.03,71.38,111.15,98.7,176.34,61.8,77.72,78.16,100.61,87.21,69.24,96.25,65.47,87.98,60.37,62.57,95.29,63.98,81.26,99.07,83.41,96.82,70.07,86.06,100.54,89.31,84.04,65.96,89.0,102.34,76.35,98.85,102.0,99.97,214.77,119.58,73.36,104.35,100.96,200.66,93.72,106.41,77.52,106.85,116.64,96.1,70.54,110.71,91.57,77.52,88.83,73.98,68.76,65.41,92.24,77.08,96.94,90.65,72.17,101.61,82.25,80.47,73.36,95.08,88.51,89.61,93.15,83.57,88.65,80.63,69.99,74.15,89.28,100.16,114.34,60.98,91.05,90.46,78.16,96.01,97.06,87.94,87.92,93.97,91.85,164.67,70.53,65.15,63.57,60.74,87.17,103.46,83.26,107.41,93.51,56.48,83.79,87.24,61.51,227.24,82.3,103.43,152.56,71.06,103.37,100.16,94.96,99.67,91.68,99.76,90.22,82.41,81.71,86.74,87.72,84.12,90.37,65.04,85.86,57.3,99.49,108.48,75.53,99.07,71.92,74.19,114.66,89.61,79.62,101.53,77.95,102.08,88.2,104.47,60.09,111.47,86.24,79.11,62.66,103.76,97.78,84.48,61.78,64.47,102.51,103.08,78.03,111.96,83.93,62.55,62.52,59.91,102.5,73.27,85.82,84.09,112.25,96.68,73.07,94.07,173.19,103.81,97.16,67.96,57.56,89.53,73.92,98.07,59.67,61.94,87.54,84.03,80.47,112.98,84.85,84.09,84.3,101.52,85.0,76.11,107.83,71.15,113.4,95.27,78.59,77.66,76.42,110.36,97.24,82.4,97.28,94.39,107.68,78.99,57.87,78.24,99.1,100.47,86.21,83.27,124.49,75.88,105.55,112.35,87.88,86.07,103.45,72.56,57.52,78.94,72.1,98.91,73.36,97.24,66.2,73.27,92.14,78.09,82.64,86.0,90.35,76.34,95.84,96.84,86.06,99.44,82.85,74.5,85.0,98.14,91.35,112.94,112.17,70.53,70.3,102.0,58.09,88.0,87.08,146.08,72.71,82.34,96.06,93.88,73.29,77.12,79.91,77.59,76.63,93.77,111.02,81.54,115.04,84.42,81.77,78.35,99.58,78.11,71.77,87.98,93.74,82.83,100.08,72.61,102.77,86.1,69.88,106.18,90.19,98.05,108.63,77.88,90.52,63.57,93.62,97.06,96.2,74.98,111.84,106.53,104.21,103.37,85.88,73.05,97.34,99.87,76.63,87.96,94.75,61.25,101.06,82.44,80.72,92.81,112.34,83.12,82.27,90.0,95.08,83.33,95.04,101.43,88.53,82.08,81.31,100.47,90.26,73.06,87.86,88.63,97.92,86.84,84.18,109.03,92.65,82.08,89.96,90.21,86.4,60.37,74.63,101.53,84.21,86.11,101.52,93.89,86.94,208.26,96.74,183.87,94.12,98.05,85.84,77.52,82.64,101.19,83.17,63.6,86.67,76.08,99.83,106.97,73.72,74.11,87.08,85.19,84.49,75.96,101.5,82.24,79.59,105.49,75.41,71.3,75.64,86.36,75.06,99.15,84.06,99.44,75.28,89.77,94.27,91.21,72.28,74.2,80.93,90.0,103.5,82.27,91.63,81.96,58.55,60.05,83.33,74.42,79.17,73.2,69.22,74.98,73.24,82.81,83.16,72.55,77.12,81.64,94.96,56.07,124.6,60.99,85.82,102.1,98.55,80.84,60.91,85.82,70.02,88.69,96.3,73.75,82.09,78.9,87.1,63.8,80.07,86.36,56.51,81.42,71.32,70.55,72.49,96.85,84.4,69.47,84.03,57.26,82.32,90.43,72.49,109.52,75.86,123.83,90.77,80.72,69.24,98.55,82.27,80.81,82.81,89.72,91.48,57.56,62.57,57.6,65.33,86.0,104.0,109.65,68.61,83.84,76.26,92.37,89.77,61.34,77.28,73.66,80.82,67.8,72.94,73.67,74.9,82.64,200.66,114.41,111.08,72.12,74.55,83.79,74.16,105.74,60.32,84.06,93.28,83.44,89.22,72.54,65.47,78.94,95.01,93.6,63.32,88.99,192.16,80.13,64.15,65.79,79.18,101.92,113.05,90.0,94.29,69.8,66.7,69.38,103.76,78.96,110.69,57.42,84.59,66.67,107.52,103.72,79.89,91.85,87.27,74.2,81.41,70.58,72.81,76.85,95.62,116.2,76.08,123.74,123.94,92.12,92.3,65.44,64.45,76.28,80.27,87.26,82.41,95.08,78.3,68.66,92.14,112.98,93.51,106.8,96.29,142.57,112.09,90.51,94.14,104.34,115.23,111.76,65.41,76.0,92.21,100.09,88.19,102.13,97.95,65.36,82.36,69.29,102.76,93.12,70.56,120.06,56.84,83.7,69.34,82.2,102.06,153.34,101.81,56.11,76.19,95.04,75.18,89.11,90.66,72.6,72.79,63.71,115.19,79.79,83.4,89.11,87.54,99.83,89.96,123.04,110.1,228.7,65.98,85.28,138.07,93.17,89.41,73.48,57.56,74.5,72.09,95.01,85.66,73.32,73.02,91.61,86.0,73.78,65.09,103.0,69.38,76.12,70.73,91.05,73.56,199.38,87.06,82.39,98.75,65.96,98.84,128.72,75.09,77.12,110.89,84.1,95.16,71.94,114.32,115.12,86.08,108.51,83.16,85.84,78.32,97.26,90.77,100.31,90.16,80.92,84.31,90.01,88.38,92.82,80.44,93.28,73.62,124.64,80.06,59.61,89.31,120.05,80.38,68.8,87.71,96.01,204.92,65.99,62.48,78.24,75.09,83.41,84.46,110.1,64.04,73.8,86.92,91.28,69.24,74.65,218.66,100.16,95.08,56.93,87.88,89.16,95.52,206.53,101.45,213.8,71.16,93.55,93.74,111.38,80.63,93.4,89.03,85.23,93.76,84.59,70.33,79.33,93.68,81.03,85.6,57.27,80.81,67.29,76.74,62.68,112.96,85.77,74.35,86.39,84.13,93.97,94.65,77.82,92.14,101.45,104.48,87.26,83.57,69.74,96.69,93.55,83.88,104.12,65.34,73.72,88.02,72.49,73.33,100.88,69.38,70.96,59.62,58.39,99.76,94.96,69.24,104.23,168.15,68.53,78.32,91.68,70.66,76.3,98.05,106.4,65.36,70.88,86.36,86.51,76.7,95.37,75.19,55.62,64.84,61.84,85.29,63.4,59.67,90.43,59.2,78.05,86.3,76.55,97.6,99.58,72.18,104.03,88.41,68.6,84.18,92.35,82.18,83.6,63.78,83.16,93.88,88.83,115.46,103.62,94.23,100.65,84.7,65.42,68.24,95.12,80.77,68.13,85.15,65.98,75.93,76.51,94.06,77.49,78.0,63.32,92.96,103.78,142.68,102.08,87.88,84.84,57.43,108.38,91.61,84.19,77.29,76.55,95.8,65.15,71.16,75.42,95.87,190.13,97.55,86.93,95.05,101.05,111.04,70.22,66.67,91.34,91.9,77.55,92.51,78.94,110.41,57.15,94.62,103.43,66.55,64.3,85.22,125.89,80.73,87.06,73.2,184.25,231.56,84.06,74.34,77.4,83.15,89.26,87.24,79.79,76.58,153.38,87.72,84.9,75.91,75.4,74.28,77.55,79.84,81.32,98.42,78.0,67.45,61.37,82.57,231.71,84.88,56.07,85.97,65.29,94.61,91.68,90.11,82.39,84.62,102.47,82.83,98.55,69.2,116.62,112.09,68.41,112.24,67.97,77.48,95.75,81.0,97.37,89.68,62.49,95.47,77.82,70.55,72.1,77.57,56.11,102.39,65.22,95.89,63.73,87.91,94.67,93.62,68.42,124.31,124.48,83.17,84.79,105.99,81.26,82.95,76.09,82.08,61.68,94.24,72.02,73.02,97.06,79.9,62.0,83.09,105.63,82.85,86.04,106.24,82.36,80.0,77.55,101.09,80.92,65.08,99.14,110.68,81.9,63.94,79.26,112.16,77.59,73.27,90.0,96.25,73.56,86.36,96.35,92.44,99.01,58.23,62.57,75.09,83.13,109.1,85.81,85.04,104.42,83.56,89.68,75.43,72.5,87.49,79.53,83.16,87.53,68.38,65.98,56.85,102.93,97.26,75.34,100.32,68.66,76.08,77.82,111.48,125.29,68.84,67.56,93.24,74.11,193.61,95.62,60.74,96.62,79.54,102.02,81.68,67.06,76.19,99.36,77.91,111.08,92.86,95.36,93.74,74.63,80.05,67.27,93.55,98.02,74.42,112.98,56.48,83.16,83.51,104.09,76.3,98.12,58.7,80.82,88.51,92.3,118.81,113.25,82.41,90.65,94.62,78.29,86.06,59.74,94.67,126.32,90.43,104.21,105.59,103.51,91.68,91.94,56.85,64.84,67.97,79.82,76.47,69.06,99.44,100.74,81.76,86.09,60.94,71.25,98.55,98.84,83.83,85.29,87.3,98.57,81.26,90.42,62.99,79.3,107.92,87.24,84.03,58.67,97.94,86.86,61.11,68.7,98.55,80.24,97.16,91.65,68.84,95.37,89.18,124.26,110.89,56.48,90.78,99.71,88.63,178.33,70.53,115.43,68.34,83.26,106.51,74.32,72.49,90.26,82.66,81.59,102.91,149.8,60.7,77.19,75.4,75.53,89.3,70.07,98.71,84.12,67.81,58.32,95.58,104.4,75.22,83.88,110.92,116.98,56.64,87.44,82.91,92.26,84.14,90.18,99.68,74.06,92.23,80.57,85.84,80.07,68.66,82.07,84.99,82.37,88.75,93.68,76.73,78.57,65.4,72.2,78.09,99.78,89.3,99.8,71.18,58.34,267.6,82.61,77.55,80.07,90.77,61.94,75.42,96.26,134.33,74.35,106.53,77.16,97.95,162.3,82.41,82.43,70.55,87.17,73.69,94.39,99.9,160.94,62.99,77.99,84.86,84.1,63.78,58.35,107.4,59.82,77.44,97.23,58.29,87.92,80.1,66.11,72.79,71.5,70.25,84.04,108.65,97.39,70.0,84.3,71.93,100.93,95.08,81.54,81.42,111.22,94.23,82.56,79.96,68.68,79.35,111.33,92.23,87.69,82.73,75.19,83.84,99.83,89.11,70.67,90.01,65.49,86.95,99.07,197.79,97.81,90.01,88.47,91.28,70.0,112.09,72.79,200.25,83.1,228.5,75.1,80.01,82.71,72.26,78.88,92.11,100.39,108.08,124.31,80.83,82.9,91.05,89.17,83.26,131.41,93.13,95.16,74.2,61.07,108.43,107.5,63.85,80.72,101.52,84.93,57.28,91.0,57.89,74.5,68.48,64.6,108.53,75.92,103.55,57.76,81.21,59.93,56.51,101.37,85.81,70.0,94.21,68.04,58.65,102.5,62.48,60.9,97.24,77.91,102.9,80.16,84.41,79.33,90.6,60.6,85.26,95.62,82.07,79.93,85.38,71.06,77.93,84.13,91.63,93.51,94.15,96.02,104.02,86.11,80.92,83.52,115.43,91.32,71.58,90.0,80.0,123.49,150.35,77.32,57.89,95.18,80.59,74.24,74.02,82.44,79.55,170.88,56.33,82.56,91.95,80.72,77.57,92.82,123.41,78.28,86.25,59.93,70.04,83.84,92.14,65.52,81.15,91.23,93.72,63.95,81.64,65.66,85.27,88.97,112.38,69.26,99.29,82.19,65.47,90.95,99.0,95.23,77.49,95.79,73.87,75.92,91.73,100.8,126.09,82.48,83.8,93.21,81.05,94.67,102.47,62.21,235.45,92.23,78.24,78.73,65.45,112.83,94.15,83.81,72.64,72.56,91.68,102.4,56.43,87.92,111.02,84.86,56.42,98.44,90.66,67.84,84.85,102.66,60.17,95.06,73.39,80.85,58.81,86.11,98.35,62.63,103.72,82.62,95.57,68.38,61.98,78.24,90.07,131.89,65.12,58.47,91.85,87.0,83.43,99.76,111.08,85.99,67.06,57.15,87.09,90.71,91.58,90.42,81.76,77.77,61.85,73.75,58.96,101.87,80.0,93.55,101.15,74.1,112.39,94.25,78.24,99.21,75.28,102.77,81.59,72.29,78.94,78.23,84.31,100.66,65.45,106.8,65.77,63.42,97.41,83.37,77.55,85.55,56.2,62.68,93.6,68.72,93.88,84.84,80.92,90.16,82.64,81.99,99.0,85.81,87.5,100.54,113.11,73.1,92.3,79.89,96.69,86.86,99.97,73.94,103.08,92.34,123.79,99.79,83.6,89.84,101.31,82.21,122.43,82.27,89.28,84.07,106.51,71.91,77.57,82.81,73.87,95.84,89.98,77.55,58.57,82.57,73.18,97.93,90.43,95.62,75.22,77.16,80.54,82.14,92.86,78.34,83.62,73.71,107.52,71.5,91.57,60.41,102.3,87.03,123.94,64.66,72.28,92.86,65.48,87.78,79.51,79.83,105.9,102.77,88.06,74.5,82.21,93.24,83.89,103.58,68.18,69.7,78.68,74.81,86.25,89.95,110.97,75.88,62.89,106.23,64.17,98.53,102.35,91.58,85.93,89.25,85.58,90.22,87.16,79.94,87.96,84.7,111.71,86.49,79.89,56.87,94.62,197.69,83.12,80.57,95.47,102.91,65.33,75.78,87.1,88.29,80.43,55.86,75.12,65.01,103.06,79.17,101.61,71.29,76.79,89.53,77.99,73.27,102.41,81.3,80.3,79.33,81.13,96.86,86.25,84.4,103.44,108.53,69.49,68.91,90.51,82.91,69.34,78.24,55.67,62.56,55.34,72.63,92.74,99.07,96.98,106.65,56.07,92.73,88.49,95.88,101.53,93.89,110.96,101.46,67.29,89.29,94.96,56.99,78.3,103.37,99.4,204.63,87.7,94.75,88.32,55.35,69.01,87.62,56.09,118.66,82.33,74.8,68.88,86.61,69.01,83.06,98.92,84.59,74.51,81.85,56.72,103.46,86.62,82.02,108.2,70.73,98.03,75.42,95.8,72.75,68.37,76.35,115.47,107.33,95.44,100.41,110.42,74.62,85.62,70.91,60.22,103.08,162.3,101.55,102.21,76.64,94.22,85.62,79.3,128.72,65.12,84.4,93.15,106.13,78.98,84.6,101.95,67.79,97.24,73.01,68.38,75.06,68.48,142.02,85.29,73.29,85.92,87.81,96.02,66.55,82.81,101.09,90.77,95.25,83.15,97.01,78.93,104.12,124.64,84.11,80.7,85.17,83.94,85.13,77.95,70.73,80.81,101.26,73.87,114.76,57.46,104.37,80.89,89.11,69.28,97.37,79.39,76.08,84.91,87.81,73.5,89.62,92.82,104.21,87.06,82.92,100.09,104.12,86.11,80.72,77.46,95.4,83.3,90.31,61.42,60.41,63.73,60.91,109.3,75.82,100.81,81.39,62.85,90.66,71.3,81.78,94.64,90.54,71.59,87.06,86.09,110.66,67.08,60.39,82.35,90.03,76.66,92.24,57.27,95.2,110.6,82.19,74.64,76.46,91.04,68.6,79.35,85.81,100.85,211.35,105.95,58.63,59.52,204.86,126.57,57.1,55.42,70.15,101.98,85.66,89.96,77.44,69.84,87.49,109.03,91.52,247.87,111.27,88.85,71.73,60.7,74.44,79.33,84.68,76.2,77.67,89.52,103.68,77.52,88.65,65.66,62.69,72.09,72.2,83.91,95.49,89.68,111.68,75.87,69.88,85.35,219.39,91.96,106.51,76.57,107.22,83.06,70.73,72.2,78.93,124.61,65.34,91.92,74.99,72.49,98.47,60.91,91.68,83.88,124.66,102.64,59.61,75.88,74.08,56.67,84.69,95.4,97.87,73.29,94.39,82.07,101.35,70.16,64.84,92.59,91.25,72.36,95.87,131.43,78.09,56.32,103.08,62.48,80.21,76.98,84.16,69.12,87.92,97.24,100.05,60.39,99.15,107.29,90.77,94.11,107.18,68.37,78.42,92.86,122.74,89.68,80.88,70.19,94.96,78.43,81.12,84.02,84.03,92.86,62.57,79.35,85.18,95.19,98.09,111.65,83.91,91.68,86.21,96.06,82.3,68.43,90.35,75.5,86.21,74.66,88.57,69.98,59.76,75.07,77.19,71.32,84.9,83.43,81.13,75.22,58.26,85.0,87.62,203.04,83.4,91.85,86.36,75.12,96.79,81.99,87.81,87.1,111.27,94.6,66.36,78.79,89.23,91.34,92.86,84.2,86.58,92.82,80.0,79.81,84.54,66.55,106.68,65.98,99.0,76.12,71.25,73.94,110.15,69.23,105.22,90.36,67.99,74.44,67.97,56.33,102.55,79.39,99.0,123.1,92.81,79.0,69.94,103.94,65.47,90.58,92.99,72.19,104.12,81.25,58.65,82.32,62.13,80.28,90.0,90.58,84.63,67.06,73.26,70.52,55.68,79.33,100.54,75.62,92.81,88.06,74.72,71.34,102.07,89.31,104.48,78.32,78.45,88.1,57.91,79.92,104.45,94.63,97.92,77.46,82.36,80.85,76.88,77.77,71.92,98.99,68.17,144.1,56.85,221.08,84.21,67.87,88.34,73.6,79.2,95.37,122.31,83.76,85.81,79.44,84.88,91.35,79.18,226.28,65.01,75.54,82.4,111.41,88.2,86.54,99.6,69.42,88.65,100.16,112.87,111.88,99.49,81.13,63.18,81.51,109.59,78.94,92.21,86.36,74.16,81.54,76.55,74.0,82.13,63.98,92.27,95.36,79.92,90.84,88.07,71.26,94.67,88.33,79.2,90.11,85.68,59.82,83.13,106.27,81.76,67.02,77.55,112.09,90.0,82.4,78.68,206.54,98.05,92.32,83.86,85.74,100.85,57.3,182.52,102.58,106.24,72.04,82.91,93.98,69.37,112.99,101.26,84.06,83.4,89.15,96.21,77.86,67.91,125.43,121.04,84.1,56.1,82.63,135.63,97.58,65.32,124.5,85.08,90.65,91.73,86.0,83.83,91.28,88.51,90.01,135.19,61.34,85.12,84.39,67.92,85.16,85.81,70.75,60.94,111.1,84.66,65.71,74.92,90.43,76.63,123.31,83.26,95.1,72.04,82.34,84.18,102.1,78.04,71.81,56.51,90.9,77.04,113.26,95.08,114.21,122.25,87.98,111.08,92.71,80.24,73.94,75.86,86.86,71.3,62.57,85.0,77.52,67.02,123.1,82.13,92.22,85.79,82.72,96.86,62.52,81.76,73.01,195.43,85.12,98.07,105.72,79.85,78.09,73.89,101.19,91.08,75.22,104.66,83.12,79.18,80.54,65.66,83.55,97.95,69.15,108.08,74.5,85.97,85.77,80.83,57.89,107.47,60.22,81.21,89.98,77.52,82.39,63.57,119.67,99.12,56.64,72.88,90.12,102.13,79.95,60.39,80.08,76.79,86.25,74.26,76.47,81.96,107.91,140.28,92.24,58.63,90.77,114.21,74.02,74.1,107.29,93.8,93.24,173.96,92.74,101.26,83.3,94.77,65.04,95.01,70.43,65.29,91.95,95.07,100.03,99.68,57.76,90.31,102.21,90.56,101.75,99.49,67.84,95.1,69.24,86.1,89.32,103.76,77.67,57.42,72.49,65.16,92.56,85.81,79.25,205.77,58.47,89.61,242.52,107.29,62.66,103.08,101.56,73.48,112.25,79.05,63.84,82.02,90.3,101.52,83.55,65.67,77.87,56.64,86.3,221.79,69.17,111.08,112.06,74.49,70.0,68.37,95.3,111.94,90.44,221.23,70.0,90.07,86.5,66.3,79.98,69.12,98.12,73.2,68.8,67.06,56.96,65.36,74.64,96.69,92.2,77.96,71.86,73.49,70.96,82.58,107.18,75.77,87.25,107.59,93.58,85.33,110.33,103.43,79.03,68.34,79.79,67.33,66.2,84.44,81.42,70.96,116.04,56.48,87.29,78.43,104.55,85.07,60.49,90.07,92.72,67.99,99.0,196.33,70.91,71.5,72.61,74.08,87.81,106.98,102.5,103.22,104.02,75.09,244.28,99.23,60.73,254.95,73.51,93.04,71.26,91.21,93.76,75.42,96.35,93.67,63.71,75.35,109.02,71.32,104.12,79.27,102.1,72.06,84.79,79.53,90.0,69.99,83.16,82.44,56.12,84.51,86.58,102.61,72.01,70.51,72.88,77.75,64.85,100.54,76.62,83.24,62.69,94.36,79.02,89.23,103.08,101.65,84.46,91.96,80.94,70.08,74.51,84.92,83.91,103.37,86.99,100.42,91.95,78.55,92.81,94.89,70.15,63.56,63.73,83.3,111.08,106.74,103.25,68.79,79.87,135.75,90.28,87.7,59.62,105.72,102.37,70.16,68.52,112.96,103.48,107.5,71.4,80.0,91.85,76.13,81.31,76.47,109.02,107.47,72.49,86.96,102.37,85.07,115.29,90.07,124.62,114.32,83.16,114.1,94.96,92.86,86.11,81.92,102.48,97.25,67.87,77.12,97.64,73.19,72.79,57.39,196.33,79.03,67.08,96.06,232.12,67.1,92.71,65.41,109.3,73.87,101.31,90.6,78.24,60.98,115.99,83.91,76.26,92.86,97.53,93.51,65.46,91.44,90.42,82.27,100.12,80.07,75.91,96.69,74.92,73.0,83.3,90.22,111.22,102.91,78.43,74.09,83.26,70.28,94.34,79.62,97.06,83.84,92.0,96.04,78.05,65.63,100.93,97.89,112.79,82.9,114.71,221.29,93.88,91.63,88.24,84.35,110.33,80.08,106.8,87.95,71.43,110.13,57.57,77.89,65.01,69.35,79.61,75.32,114.32,92.81,83.52,87.94,113.87,101.31,89.37,97.89,93.88,81.94,89.22,111.81,84.47,57.27,91.15,78.68,121.31,92.86,78.05,99.13,97.24,98.58,85.82,86.0,67.06,73.2,106.23,83.13,98.44,85.07,68.99,89.96,91.57,93.02,61.42,80.05,69.37,95.2,79.58,76.35,88.6,81.59,82.41,80.63,90.31,101.57,88.66,90.16,74.24,68.62,90.77,68.17,87.92,92.19,87.62,96.01,84.1,80.08,112.24,91.61,69.16,90.35,93.88,56.33,88.56,58.57,211.49,92.99,67.99,79.98,70.78,88.6,101.81,96.24,99.23,78.26,85.02,72.12,163.82,83.91,67.97,82.35,102.05,80.93,101.45,90.0,65.59,90.0,92.4,112.92,85.33,89.81,80.93,92.34,93.67,114.99,94.39,107.46,71.37,59.59,86.26,91.45,75.6,60.07,91.89,74.26,85.52,98.99,71.22,90.66,77.67,81.15,93.67,97.39,68.72,75.87,92.72,85.17,89.4,102.11,102.05,60.7,63.98,84.43,87.16,81.68,98.76,87.5,82.31,99.47,110.18,97.06,92.82,99.83,67.92,95.2,221.89,63.18,92.15,86.36,61.32,84.03,89.11,81.36,69.2,57.56,100.09,75.53,96.84,68.37,104.21,208.05,141.24,93.21,88.39,81.39,111.21,97.32,85.28,84.13,102.13,65.96,103.58,122.22,73.27,88.57,110.14,96.29,60.22,98.07,85.86,200.46,56.34,92.97,107.29,71.79,90.52,106.85,98.65,104.4,83.75,112.69,82.33,61.8,65.3,97.59,102.92,90.35,97.6,84.21,108.61,80.98,62.08,88.65,93.72,93.21,65.85,91.47,81.59,87.81,87.2,84.24,74.06,70.56,105.52,62.69,70.07,90.54,58.38,87.94,90.28,129.19,101.05,95.82,96.35,75.25,64.68,57.15,90.01,81.94,113.26,89.68,69.17,79.15,87.68,100.52,96.06,72.49,84.46,79.4,80.08,85.03,69.17,78.48,112.16,69.94,76.08,79.81,69.72,95.8,69.38,84.59,88.65,107.33,72.49,58.65,83.16,62.6,100.09,104.55,108.03,82.37,108.65,75.18,58.01,103.76,77.91,204.77,80.98,97.46,96.42,71.42,56.93,91.54,90.66,83.95,186.95,65.98,85.16,111.81,80.91,148.91,91.96,90.06,227.72,90.35,102.93,84.85,99.44,75.52,72.61,60.37,98.01,94.12,106.08,95.06,97.55,111.1,62.81,81.73,67.96,120.56,84.35,90.11,68.53,88.0,77.2,85.81,92.65,71.8,77.55,158.93,74.63,75.62,111.02,87.41,80.44,78.96,142.31,57.89,88.9,60.7,95.1,75.3,88.79,96.82,65.04,74.53,70.87,68.01,99.96,103.73,79.89,90.54,79.05,88.49,101.52,60.7,110.51,61.94,95.87,67.6,83.16,77.55,71.06,77.55,90.65,86.86,106.23,107.69,96.16,84.14,96.84,92.56,65.77,89.68,211.06,82.91,80.4,62.48,84.09,210.78,82.57,82.39,112.02,65.41,123.98,78.42,83.03,85.12,76.08,80.55,61.54,82.57,93.97,85.28,83.5,88.69,56.72,88.89,125.3,75.78,62.51,82.91,89.42,97.55,68.16,92.14,87.78,73.48,82.91,101.13,96.84,85.84,59.92,94.96,79.84,111.38,78.19,85.91,99.1,73.18,82.38,112.41,99.76,87.25,84.02,103.15,72.04,87.73,95.37,78.46,74.25,62.63,91.85,76.32,57.43,106.43,106.35,78.8,60.34,76.55,101.89,61.81,73.49,61.43,91.23,85.33,110.92,77.12,97.89,82.57,89.17,67.07,106.23,62.57,99.44,82.43,81.31,91.98,78.36,67.29,79.89,99.76,80.28,72.36,90.16,84.2,71.96,79.79,80.18,57.37,83.86,65.43,107.43,85.92,91.63,67.06,84.12,78.3,79.58,58.7,114.25,56.87,77.93,70.51,112.09,110.73,229.73,65.6,61.98,105.19,72.36,76.25,90.19,71.2,77.43,95.19,96.58,90.0,104.37,99.0,95.43,87.39,80.08,82.48,84.03,99.76,97.32,110.73,82.83,82.57,69.06,82.85,82.09,58.09,107.47,71.08,62.67,64.21,86.67,95.81,62.96,79.89,65.46,83.6,84.79,111.2,72.76,84.03,112.37,86.21,89.68,89.11,74.02,73.71,101.31,79.99,85.55,90.34,61.42,79.33,72.42,77.16,83.26,85.77,65.33,95.86,106.24,77.93,104.21,86.04,69.2,102.97,111.79,81.77,89.28,72.81,93.57,66.25,92.34,75.87,70.93,85.29,63.57,78.91,85.12,87.4,114.25,96.86,81.54,84.79,59.32,73.75,98.44,91.85,91.72,59.91,108.56,70.56,107.54,68.42,91.05,73.58,71.88,83.5,91.65,233.71,71.5,68.34,86.36,95.36,74.19,77.12,57.6,80.72,87.23,85.84,63.61,96.25,57.2,74.98,84.68,86.95,124.37,91.13,67.92,80.58,84.96,92.15,97.32,91.41,85.99,85.84,69.25,65.15,83.42,65.82,84.81,84.69,95.2,93.4,97.46,84.1,58.88,94.37,82.91,92.75,83.56,93.97,70.55,83.7,89.85,91.89,217.66,68.48,56.33,85.6,99.87,77.93,72.29,70.52,84.18,68.52,73.08,102.64,89.53,78.18,65.09,81.21,81.31,66.47,88.18,196.12,80.54,73.72,95.08,80.47,85.84,85.88,91.98,69.34,76.75,90.26,90.66,99.92,82.39,68.66,73.0,67.87,88.82,74.63,90.96,97.94,56.33,71.06,89.88,78.05,74.7,86.0,98.39,70.09,88.56,81.18,73.73,95.18,84.18,78.96,56.75,57.3,68.96,68.53,94.39,79.3,73.08,84.43,57.42,94.71,99.87,86.7,99.92,85.0,112.92,68.16,60.74,71.96,94.37,106.41,80.02,82.19,65.34,80.83,89.61,80.35,81.39,89.61,68.42,69.72,97.35,86.04,78.59,111.41,86.93,88.69,88.82,88.69,75.77,82.24,94.75,99.34,92.32,111.98,96.84,83.14,85.91,69.35,96.21,203.87,84.9,120.25,71.25,77.52,78.48,118.89,98.02,73.0,77.99,91.54,106.51,62.66,112.44,95.01,76.0,116.04,81.51,77.56,86.34,65.06,86.36,101.89,111.71,76.58,80.82,105.52,92.62,95.31,94.39,77.34,102.0,89.11,63.34,63.28,97.92,98.76,79.16,84.49,78.04,70.56,88.65,92.14,79.8,79.89,64.44,94.15,84.08,76.66,58.09,146.97,86.15,71.8,102.88,91.85,88.83,104.21,62.6,73.0,75.23,94.89,103.58,60.34,110.42,100.85,74.8,100.97,86.03,89.52,203.81,80.08,69.53,84.08,111.73,111.32,65.6,97.46,56.96,105.19,67.92,108.08,94.61,97.04,71.4,102.25,80.57,92.73,102.0,88.43,64.45,102.5,73.87,107.18,76.51,98.91,84.07,58.88,68.09,73.87,98.01,83.37,101.13,63.65,90.58,59.87,80.0,87.98,57.93,92.0,83.82,65.36,74.58,97.22,81.06,77.16,91.44,76.48,67.55,93.55,116.14,81.2,74.1,86.96,84.43,77.16,57.43,94.63,108.63,99.36,100.08,101.13,81.11,62.57,83.41,73.87,75.13,114.5,68.46,83.51,86.66,68.7,75.88,91.05,62.56,73.0,97.89,86.21,94.12,75.1,67.76,72.42,65.12,61.12,103.61,73.5,84.84,75.29,74.86,65.46,83.52,229.92,62.56,74.0,97.95,74.11,68.35,99.75,73.2,191.47,82.37,103.65,83.3,84.03,67.92,103.01,90.43,74.99,98.74,85.84,56.21,98.85,215.64,107.42,82.81,99.83,88.51,78.34,87.69,80.63,94.62,152.07,87.25,86.67,77.95,83.91,57.8,71.3,80.08,103.35,78.44,75.05,94.15,77.66,92.97,103.85,106.13,82.68,75.11,56.12,77.25,98.55,57.1,156.7,90.58,84.84,81.0,234.82,90.54,92.62,102.51,86.06,107.99,95.69,62.62,78.98,204.77,89.93,102.51,99.0,80.76,69.02,87.28,92.71,77.67,85.27,96.02,79.0,110.42,92.48,77.16,112.46,97.6,90.07,88.13,88.04,91.08,73.24,95.49,99.76,78.79,88.97,82.33,112.68,85.59,71.5,96.06,69.43,77.52,75.87,91.36,146.01,87.98,89.11,79.76,69.15,83.16,72.17,124.98,87.72,107.69,88.38,100.85,104.36,65.61,113.26,61.85,161.57,77.91,103.43,99.4,104.48,90.68,104.45,84.1,68.34,92.98,90.58,93.52,64.84,97.46,91.89,75.08,70.28,84.46,107.25,81.96,76.5,104.06,102.98,69.91,75.06,97.47,88.0,84.49,91.53,77.47,102.08,85.0,83.84,84.2,74.88,104.55,88.65,109.22,91.85,91.45,86.11,97.52,65.4,89.32,110.25,173.9,78.44,93.73,72.84,84.46,92.21,100.8,88.97,69.5,92.64,57.89,105.59,90.44,87.24,76.11,112.38,99.3,69.72,106.02,70.78,102.64,93.93,74.64,101.87,87.24,78.45,86.07,62.89,96.04,69.67,100.61,101.51,87.96,86.86,227.73,96.66,74.32,85.06,73.75,88.98,80.08,71.8,102.5,97.49,105.9,77.55,93.78,81.31,104.08,72.49,70.15,90.27,78.24,73.67,189.88,82.18,82.64,67.92,94.92,77.93,90.77,70.72,85.0,92.82,107.72,93.05,143.45,73.66,76.63,87.88,71.88,93.47,92.77,106.59,65.32,68.65,112.44,83.26,65.42,93.52,107.44,94.3,107.41,76.31,89.14,76.08,124.6,101.89,85.81,55.89,84.18,227.16,111.33,73.2,179.12,63.98,93.97,65.01,97.24,92.3,65.22,67.27,91.98,77.52,84.59,93.99,88.02,90.07,78.24,106.12,83.13,60.05,82.59,198.33,131.81,71.22,85.12,82.85,63.56,71.06,70.0,69.97,85.27,56.99,83.65,56.85,90.35,100.85,89.03,65.09,92.98,97.58,92.97,89.53,102.84,95.5,93.67,94.3,78.16,72.71,93.7,62.99,59.67,107.47,93.9,94.75,104.48,116.66,99.72,57.42,70.98,77.45,60.25,84.68,91.34,81.72,83.8,77.55,57.46,76.21,122.25,98.45,76.0,206.59,110.17,92.74,77.94,102.87,93.52,79.81,83.33,56.94,71.63,92.82,112.66,110.25,79.8,83.12,91.85,87.26,70.0,61.1,227.94,227.68,127.4,79.27,88.3,65.84,185.71,82.58,61.94,77.52,92.96,101.47,67.91,82.44,131.43,75.41,112.19,88.39,75.74,69.74,63.28,74.09,91.68,95.5,173.9,75.87,58.02,79.33,76.12,72.07,101.31,88.39,96.01,76.72,100.16,60.2,98.39,206.72,77.91,65.71,94.67,109.51,67.9,68.3,87.1,76.53,62.89,90.01,96.84,85.86,79.79,98.92,70.03,74.08,85.84,86.0,82.06,81.77,85.06,94.89,80.08,73.89,94.44,88.97,77.32,205.84,70.54,86.06,73.28,96.02,97.26,85.52,73.87,130.61,79.73,65.08,94.3,97.37,124.51,90.16,101.3,81.78,78.85,97.34,110.36,100.06,78.59,59.49,69.24,83.85,86.11,243.52,89.13,81.15,65.88,88.68,85.58,79.33,82.81,95.62,80.0,79.44,108.08,78.12,119.96,102.37,84.43,87.74,84.85,58.37,70.16,95.59,65.1,76.04,83.41,65.69,70.67,78.24,82.62,86.21,86.95,78.88,63.8,96.82,95.92,56.47,68.68,72.34,95.28,99.15,111.08,78.18,70.21,62.0,101.6,67.75,83.16,80.63,96.77,94.88,77.08,90.42,96.42,95.52,56.84,60.35,86.1,95.82,81.72,76.12,74.39,73.27,79.25,73.5,124.16,99.91,96.04,225.6,75.02,81.81,83.62,99.49,99.96,77.24,55.22,94.67,62.68,102.26,106.97,83.83,84.12,98.92,82.64,81.51,90.68,86.96,75.15,97.96,92.49,70.71,108.63,98.35,93.58,92.95,93.15,93.67,78.18,92.71,98.23,76.12,79.44,57.7,101.37,92.27,78.45,89.32,81.31,86.57,106.23,88.65,93.28,91.65,101.15,102.34,99.75,97.64,102.97,75.73,87.77,59.78,100.85,97.31,82.99,74.24,57.93,73.87,76.21,62.56,109.33,111.81,97.39,89.02,80.57,68.66,92.49,76.34,73.73,110.96,101.65,89.05,144.33,90.68,72.54,84.47,101.32,65.3,56.87,109.03,79.39,76.32,88.43,95.08,82.28,95.87,99.0,97.93,73.02,55.42,111.94,106.97,72.36,97.04,90.22,110.15,75.77,87.7,106.22,109.4,79.63,64.66,80.43,85.52,63.78,84.59,71.12,83.55,89.17,87.17,65.01,83.43,78.05,70.53,82.3,56.08,130.0,64.47,84.59,109.68,87.86,92.82,67.1,66.55,61.81,106.54,77.87,80.42,95.01,83.12,78.79,79.77,78.43,91.02,94.04,92.74,99.49,85.55,76.03,84.16,85.79,62.89,156.57,70.94,78.24,75.08,78.24,90.68,71.75,65.12,56.07,58.57,72.03,100.31,73.01,80.02,84.1,76.03,65.78,75.09,83.02,74.09,61.1,72.88,96.0,105.22,69.88,107.73,83.85,113.63,79.44,256.74,80.0,64.18,92.95,97.04,65.05,80.57,94.24,68.38,116.08,97.31,81.21,71.31,90.77,75.12,88.27,88.38,109.68,89.61,89.31,84.08,112.75,74.36,90.44,86.0,106.43,89.13,97.5,112.92,110.38,93.88,93.55,92.04,94.45,92.85,62.69,125.74,93.34,92.19,97.61,74.36,74.5,57.57,94.67,81.73,71.81,95.36,84.48,80.92,74.35,103.51,95.84,72.52,83.26,67.33,111.35,102.71,69.24,100.08,99.16,67.7,91.72,94.39,85.66,121.43,77.92,68.12,70.87,99.65,89.68,57.67,82.44,88.55,75.1,80.0,76.7,69.88,77.55,60.99,88.27,83.7,83.83,70.88,72.65,89.88,93.51,112.07,85.92,92.82,97.59,84.12,85.16,80.96,99.06,82.62,80.98,58.19,104.12,92.74,58.38,71.4,74.62,82.02,81.24,79.92,70.01,84.27,66.3,89.06,101.65,85.15,91.45,79.59,70.23,75.74,63.32,93.97,131.05,80.22,102.61,97.26,83.5,106.41,101.81,80.09,75.43,111.32,82.64,65.42,222.58,104.36,116.84,65.44,90.22,67.92,92.32,65.42,96.96,68.66,219.53,99.0,82.93,74.34,73.74,91.54,82.21,82.59,69.72,76.08,56.79,101.99,100.16,62.6,95.32,89.44,87.81,71.25,99.36,100.02,60.01,79.17,80.72,85.84,57.86,109.82,144.48,100.41,80.96,83.55,72.54,103.45,93.73,73.37,79.57,90.42,98.22,88.43,68.38,90.26,254.95,227.1,62.44,83.4,101.83,81.26,73.0,56.89,58.37,85.81,81.92,85.06,82.32,85.07,68.88,84.4,70.59,78.99,102.97,75.19,76.62,70.13,112.77,90.94,83.44,93.53,106.52,124.08,86.24,59.05,76.79,102.5,96.02,77.67,98.74,70.98,89.31,56.94,170.93,102.27,97.39,78.23,110.16,84.03,114.32,71.46,103.65,98.73,82.93,77.52,87.96,80.08,86.21,81.42,80.34,81.84,93.88,62.66,76.77,111.04,86.4,75.78,86.25,92.16,93.74,106.41,83.75,96.84,67.2,100.85,106.47,77.23,77.82,82.19,56.32,104.64,92.65,101.99,84.86,71.88,93.21,71.26,95.36,101.5,56.23,95.36,76.11,95.19,102.34,88.83,68.17,87.38,178.76,78.85,83.3,91.34,67.55,89.57,75.78,112.17,95.86,88.81,82.24,104.12,58.86,77.08,79.3,94.18,62.57,82.85,90.65,98.03,73.83,92.49,94.39,94.39,79.05,71.43,97.12,146.97,66.46,66.55,85.04,84.86,77.79,87.71,62.48,73.0,70.45,77.92,117.92,79.18,73.0,97.59,95.58,92.2,94.64,83.07,83.6,99.07,99.73,102.0,56.79,58.55,65.36,104.3,78.08,79.7,81.1,67.55,75.25,75.86,73.27,87.88,88.79,70.51,69.24,57.43,85.97,65.15,82.81,83.64,116.38,104.07,82.91,90.69,94.77,198.79,76.66,119.62,63.22,95.58,82.94,86.05,84.0,102.51,100.41,88.85,86.56,89.11,70.0,88.51,79.92,102.97,59.76,112.54,89.45,92.13,56.11,90.69,83.44,111.15,98.35,74.04,84.94,89.37,69.26,92.08,73.58,76.93,93.55,79.35,78.24,82.57,70.07,72.02,85.81,85.0,85.16,92.11,73.69,113.21,99.07,96.3,73.27,84.21,103.43,78.86,78.05,90.92,82.39,72.58,72.79,98.12,87.78,87.6,62.98,90.73,97.26,96.84,58.38,100.19,62.49,106.95,99.13,74.21,89.74,79.02,87.68,90.16,86.96,100.85,101.75,100.22,162.72,106.41,256.74,103.43,80.77,72.28,74.36,76.92,79.93,84.8,109.12,65.6,73.0,81.92,120.31,72.02,97.49,84.07,59.52,77.57,74.29,77.55,76.63,211.12,88.49,83.88,92.97,83.78,113.63,146.44,114.46,87.72,79.34,79.53,129.97,69.52,88.32,80.63,68.4,89.77,71.2,66.67,111.02,97.65,82.91,110.38,80.57,71.26,62.47,99.76,90.57,79.99,102.89,98.09,79.44,100.6,91.08,73.27,115.12,70.13,109.23,99.16,86.1,235.85,98.92,92.24,62.71,101.92,84.91,86.11,87.1,97.89,90.54,89.19,88.19,73.18,74.82,72.94,95.12,112.12,68.6,90.52,104.04,70.48,91.61,73.27,83.26,67.97,57.98,87.4,76.7,60.3,73.36,122.46,89.61,63.98,78.46,79.33,83.41,73.56,69.4,78.8,76.51,83.37,99.44,87.21,89.11,104.35,78.78,98.35,111.13,99.07,79.81,89.22,93.67,68.38,80.06,109.81,68.35,135.79,65.29,79.62,76.58,77.91,81.42,70.23,85.79,101.37,70.87,80.0,82.3,93.93,69.72,82.42,97.61,90.65,80.55,84.4,96.25,98.07,81.17,69.12,71.63,85.54,96.86,74.2,78.04,96.63,84.3,97.47,93.4,84.79,62.6,121.43,89.0,87.16,60.91,81.32,90.42,95.86,77.49,70.53,86.24,119.88,75.74,131.4,111.27,112.42,80.34,69.66,100.35,84.9,69.5,80.63,91.85,189.44,86.3,89.18,78.32,103.42,94.49,88.66,97.37,56.51,108.51,86.26,78.43,73.65,65.08,78.46,80.86,60.02,97.92,79.17,85.62,72.18,90.31,58.96,90.29,71.79,95.57,90.4,87.25,90.51,58.63,80.44,56.48,103.89,84.13,79.73,69.42,91.54,83.14,104.79,92.17,88.2,89.06,106.18,82.38,76.98,113.2,64.5,74.7,91.04,70.87,70.55,86.06,69.22,75.4,63.98,112.19,91.28,109.51,90.44,112.24,80.93,78.11,91.05,81.51,80.44,86.55,89.86,70.51,84.69,85.16,77.94,100.61,128.72,198.25,80.92,78.72,101.79,97.34,85.55,84.09,70.87,76.74,70.96,107.52,82.15,69.97,57.3,71.15,73.6,71.81,84.91,69.5,106.56,79.81,56.55,79.91,61.25,65.93,78.75,110.34,85.81,104.55,121.8,79.87,83.2,95.49,86.23,99.83,92.39,80.0,62.29,95.01,58.19,78.93,88.78,91.08,78.32,102.07,68.78,103.78,88.79,84.04,72.09,93.04,73.27,84.93,67.38,101.31,102.97,90.4,85.18,106.13,101.56,58.19,56.34,97.78,88.59,77.53,55.96,93.48,112.19,80.08,70.51,84.46,84.49,57.38,93.81,112.94,87.4,74.53,92.13,79.51,111.1,68.07,86.32,75.04,95.29,92.71,57.94,95.9,99.92,104.75,81.25,147.5,89.03,75.77,73.0,66.16,102.77,81.21,88.79,76.56,94.08,85.28,68.01,65.15,77.83,89.68,91.54,73.2,63.63,70.32,173.43,100.31,231.61,68.48,125.29,94.12,73.68,69.24,93.0,77.74,107.17,63.78,82.0,107.29,100.31,95.16,69.34,73.0,110.42,85.86,96.24,123.89,73.02,77.12,96.22,99.44,97.69,72.61,95.26,80.43,77.67,71.12,70.07,62.47,106.49,86.6,81.77,88.83,99.96,95.04,88.2,71.06,174.12,92.65,91.08,73.02,56.11,94.3,80.48,86.11,68.48,62.68,90.68,69.12,68.52,67.84,90.57,104.21,83.78,79.05,78.16,90.0,57.5,84.46,115.42,82.07,72.71,97.24,58.37,88.82,88.63,101.6,81.11,112.22,95.01,73.48,93.76,77.07,78.43,68.44,118.03,81.59,85.81,70.55,100.33,107.49,81.8,84.19,62.4,56.47,104.07,94.77,79.56,83.79,87.78,63.28,90.44,107.17,175.74,108.71,85.0,80.12,83.93,74.9,75.92,101.31,83.86,77.96,103.51,110.68,86.91,69.77,69.21,89.42,69.88,91.68,69.15,96.02,83.2,87.72,104.33,83.84,75.73,65.47,107.74,91.05,205.27,91.85,106.54,91.73,77.43,60.22,79.05,91.68,94.09,95.85,77.55,70.96,73.54,76.71,81.26,110.89,100.29,60.98,62.57,59.83,84.12,89.81,78.33,99.79,81.14,76.35,55.29,69.01,84.41,76.63,82.18,97.24,81.05,72.36,83.56,96.86,71.34,68.34,80.81,81.95,86.07,92.56,78.78,85.84,97.44,70.23,90.6,112.43,99.44,81.25,97.46,95.87,90.92,91.0,77.82,81.36,56.07,59.26,75.53,115.23,78.94,101.61,80.88,92.86,107.22,91.62,111.15,74.36,67.08,95.81,88.49,67.97,114.54,56.9,77.67,86.0,72.01,114.32,99.92,80.82,85.93,92.86,74.17,79.89,79.16,75.08,111.1,101.65,80.48,97.87,97.34,70.03,98.9,126.34,99.0,242.94,83.24,73.29,98.09,97.39,56.1,73.56,57.95,79.83,89.63,112.11,85.59,87.69,58.65,118.55,81.77,65.32,78.26,78.74,75.42,83.3,80.3,87.72,76.62,111.68,95.1,82.18,76.55,196.71,88.75,72.09,79.79,80.98,61.36,106.88,127.21,176.48,93.55,89.43,78.93,80.08,70.55,65.7,88.65,83.83,90.11,89.45,60.4,97.52,83.12,77.93,242.56,108.03,82.26,112.08,78.28,77.29,104.55,75.15,86.96,79.59,73.02,87.0,62.47,77.99,65.41,86.75,109.33,97.61,98.73,101.79,107.74,90.22,85.92,61.81,99.16,90.73,76.12,97.64,81.76,72.07,62.48,81.64,111.27,91.96,104.51,101.43,56.95,87.12,89.61,70.54,219.67,101.46,63.98,77.12,73.57,68.13,82.26,91.45,93.97,75.53,73.29,56.25,81.76,78.63,80.74,91.02,110.38,111.08,87.15,118.82,69.94,98.43,89.61,84.1,121.39,74.63,96.47,74.42,74.54,111.21,72.75,94.66,81.31,73.78,106.02,101.66,72.42,79.39,82.64,79.73,65.78,84.18,65.61,93.62,75.12,92.68,72.96,111.41,60.98,101.53,70.13,92.44,218.46,89.73,80.89,69.42,72.2,117.28,112.19,70.16,125.32,100.33,80.93,60.57,83.6,72.12,86.25,56.21,106.41,84.75,77.1,87.77,115.23,111.38,86.03,79.59,58.09,87.94,58.42,84.19,91.28,101.35,86.96,87.72,78.8,86.05,82.44,123.81,87.95,97.24,141.37,117.98,56.12,100.88,79.39,59.76,95.29,90.9,95.87,116.21,106.41,79.03,84.62,73.29,86.25,74.01,78.39,94.69,74.2,85.16,92.24,106.05,93.74,87.54,82.61,95.57,93.88,112.08,123.89,82.59,104.21,69.25,95.94,65.32,58.87,75.46,95.36,58.02,90.47,106.74,118.14,101.46,104.03,94.12,96.03,88.51,73.2,58.19,67.55,87.06,80.87,152.84,61.94,123.98,95.87,85.08,201.38,71.37,85.9,71.46,94.09,112.12,102.51,114.99,90.4,72.64,81.66,92.14,77.53,90.0,103.45,98.55,103.58,74.34,96.69,114.02,76.25,82.19,74.32,92.87,76.19,90.35,81.53,63.33,89.06,73.0,82.08,86.0,105.22,79.16,111.92,73.72,84.4,74.11,65.22,168.15,86.34,228.2,134.24,89.32,80.63,87.15,89.53,100.91,78.29,107.5,125.43,97.69,84.46,56.13,72.79,96.59,104.05,101.46,77.86,76.75,75.94,107.47,77.96,78.99,86.36,76.36,96.57,59.74,94.18,57.26,80.57,77.82,79.63,69.7,104.66,86.6,60.39,96.06,93.13,72.71,79.33,84.08,121.8,216.71,113.26,77.82,62.81,90.3,73.66,70.97,109.78,79.26,89.68,219.72,133.13,93.67,66.96,62.0,100.61,89.95,149.8,56.29,97.24,60.2,61.32,93.55,73.5,92.65,96.14,75.84,108.03,114.45,77.44,84.06,70.52,84.47,86.24,72.2,97.27,61.88,77.16,88.35,100.16,84.44,73.08,76.2,98.52,61.61,103.85,90.05,90.35,106.56,79.92,82.09,89.3,93.85,91.02,68.88,72.67,214.51,63.42,91.05,89.3,101.22,62.41,73.73,112.47,77.91,87.21,99.07,83.16,99.48,75.08,70.96,57.42,83.16,85.88,69.26,82.35,101.45,87.95,96.28,72.19,79.05,104.04,76.68,82.24,76.06,107.54,82.57,97.96,227.08,84.12,73.56,103.26,76.66,96.3,84.86,70.25,62.48,87.21,62.48,111.48,72.55,57.94,108.63,75.84,108.62,66.11,98.58,96.28,69.2,80.96,81.96,92.24,63.27,86.06,101.98,75.91,90.26,90.07,80.81,94.37,73.75,75.77,110.87,86.6,78.85,72.71,129.16,68.35,96.35,75.91,102.27,96.47,77.93,84.78,96.62,85.84,85.57,80.59,75.06,85.84,97.37,96.01,75.6,106.74,69.4,88.97,81.54,103.55,208.85,71.08,73.29,82.62,81.66,78.68,72.02,87.74,72.2,62.63,59.62,79.53,77.57,102.97,70.55,93.21,91.82,60.22,100.01,75.05,97.32,86.03,83.57,92.22,70.07,91.65,97.37,101.97,74.04,84.4,88.53,82.1,70.57,111.76,83.37,58.7,107.92,70.16,77.67,80.07,112.08,97.39,80.63,76.19,77.55,66.08,60.98,56.11,73.78,113.84,86.51,79.6,80.63,57.93,93.68,87.25,64.45,84.31,56.42,134.29,95.01,72.81,87.23,67.92,87.21,62.6,97.28,84.1,97.95,94.61,100.31,112.69,100.98,167.41,81.77,95.28,61.81,112.02,100.15,79.16,124.37,75.74,122.73,75.29,70.03,87.15,78.8,61.78,56.33,60.67,63.41,119.4,76.72,78.54,60.35,111.94,89.77,111.98,65.42,97.05,88.57,92.23,84.93,101.98,82.3,98.07,76.86,82.16,178.89,72.55,98.58,79.96,90.39,78.99,106.35,94.96,74.64,62.67,97.57,73.08,102.21,92.73,100.65,68.35,100.84,67.5,91.65,56.3,68.35,84.4,75.16,87.66,98.22,112.11,133.13,71.96,64.53,79.27,72.06,78.94,77.94,88.06,74.32,83.59,89.8,68.88,83.89,93.97,83.75,84.86,83.56,81.99,85.51,94.11,79.47,103.44,76.88,92.82,111.22,83.51,62.08,74.5,73.78,88.2,79.05,100.98,80.15,112.95,62.61,94.63,106.65,86.06,77.82,91.65,90.06,121.27,94.18,73.29,67.68,78.43,87.96,88.63,66.11,76.26,67.07,68.37,85.53,70.91,93.2,96.63,86.05,95.01,75.91,70.63,68.98,86.95,65.98,93.04,77.82,82.37,90.11,106.69,75.08,65.48,81.32,97.47,77.01,96.02,94.77,65.85,92.14,108.64,56.67,94.69,202.66,78.18,93.7,99.06,76.62,92.24,93.74,92.71,111.02,214.43,103.01,56.11,102.97,86.85,90.1,91.01,78.16,77.49,71.5,65.48,90.35,77.12,80.08,87.62,72.34,73.6,91.82,98.44,74.63,107.91,73.78,87.2,157.57,77.55,60.61,55.28,83.93,111.64,107.18,84.31,92.04,87.62,70.61,56.74,83.16,87.74,95.01,94.26,71.13,114.59,86.0,97.59,146.01,92.23,89.68,103.73,83.3,71.06,102.06,96.3,79.2,73.7,74.01,99.83,78.93,75.82,112.7,103.37,85.59,79.89,97.92,58.51,77.55,84.2,92.22,76.52,88.2,74.01,90.41,79.16,90.74,83.8,85.81,84.1,81.8,56.71,86.96,111.81,106.8,68.42,70.09,81.13,88.97,69.88,89.04,71.91,55.27,208.05,90.71,101.29,112.02,87.62,72.99,75.09,117.63,57.46,101.98,101.35,87.7,70.09,75.53,110.27,91.68,63.78,70.28,86.25,89.31,88.79,67.92,85.66,84.59,102.51,74.24,69.24,97.86,110.38,94.06,84.03,80.42,102.16,80.0,109.22,87.74,89.68,90.42,65.29,76.12,77.51,74.15,73.4,110.18,62.93,137.96,78.24,63.78,74.43,73.02,80.07,87.74,73.66,76.56,101.33,70.59,93.88,83.12,99.97,65.78,75.93,97.47,86.96,56.79,75.22,104.7,62.48,56.96,84.18,75.06,70.13,58.63,88.65,97.32,83.13,83.75,77.94,95.37,87.7,94.39,76.1,85.0,103.78,67.92,58.27,66.32,85.62,74.26,87.94,68.37,90.65,81.77,112.55,89.81,65.36,78.03,91.16,97.46,82.57,82.19,83.33,74.96,112.12,86.25,82.21,65.49,84.13,113.65,91.28,83.56,58.96,101.12,104.12,102.47,114.34,83.2,74.63,81.42,72.52,62.61,89.16,89.3,73.73,218.64,84.49,83.16,81.9,64.02,100.85,84.79,87.77,69.7,101.35,92.97,89.32,69.24,105.34,65.88,80.88,74.98,75.43,87.16,65.72,85.81,72.56,89.43,91.05,76.55,66.12,57.92,112.19,74.43,82.48,56.6,88.04,104.92,90.43,78.9,77.29,81.05,60.32,92.39,83.91,96.82,78.98,106.35,108.23,95.4,108.62,90.04,204.05,72.79,93.73,56.71,102.0,81.25,104.09,116.84,83.82,95.85,85.81,80.96,84.7,73.0,87.93,85.81,99.76,72.5,67.99,80.19,79.12,68.98,101.79,94.18,57.42,82.93,74.02,101.61,59.82,68.02,97.57,107.74,73.71,86.75,94.66,68.35,78.94,107.17,83.16,89.11,88.1,114.79,84.12,67.06,83.1,81.25,91.96,70.87,97.89,81.94,84.3,78.94,58.28,61.42,100.05,85.36,63.4,58.72,85.27,86.95,86.06,77.55,82.1,90.12,68.56,102.89,109.56,92.87,67.75,83.26,74.0,85.62,84.17,65.36,104.02,75.4,89.18,68.35,97.76,66.29,97.95,99.83,82.41,79.13,76.11,80.42,66.16,57.07,93.97,111.81,78.16,82.19,88.51,58.28,83.66,95.47,102.91,96.28,82.0,110.42,73.4,84.9,73.87,77.67,69.52,72.08,72.84,80.98,68.01,85.82,76.54,96.75,99.49,85.83,79.99,77.33,99.65,84.44,76.79,87.72,101.35,114.08,97.97,93.14,82.44,122.74,93.52,83.14,93.55,93.74,69.91,69.2,68.66,84.62,73.06,118.82,90.65,76.43,65.22,75.4,116.49,126.67,75.06,99.23,108.72,84.4,98.37,70.13,85.84,77.46,71.23,92.82,94.75,87.79,97.86,92.95,71.75,89.22,82.81,83.86,80.05,85.16,58.89,85.92,88.68,73.33,82.64,103.15,95.01,85.84,97.04,73.49,92.97,87.79,77.52,72.09,89.24,68.37,77.77,71.88,87.98,101.93,91.34,84.4,99.01,99.48,128.97,87.72,77.29,98.02,206.09,70.91,82.81,69.68,73.65,112.19,104.86,77.88,67.29,85.02,75.22,71.24,62.25,69.24,96.77,84.2,76.42,78.73,100.49,99.3,111.08,94.24,84.03,73.66,91.95,69.23,64.55,82.64,221.88,110.76,91.34,82.27,84.41,96.35,68.12,105.63,68.27,95.43,79.13,60.69,105.28,108.62,91.85,55.39,104.21,91.26,95.52,106.35,70.21,75.84,112.35,93.3,70.01,58.99,71.98,72.5,88.51,70.01,106.35,91.68,94.24,90.26,99.23,86.65,81.96,76.19,73.27,60.98,79.79,81.96,70.02,88.85,76.7,111.36,87.15,87.66,96.02,62.6,93.3,79.63,95.47,91.85,99.44,88.83,75.12,102.51,56.47,182.86,248.24,81.26,94.24,75.27,93.04,94.14,78.26,106.65,103.47,71.61,104.03,70.23,124.49,67.51,124.06,106.54,90.29,100.54,96.92,75.91,55.67,100.83,123.61,87.84,77.92,100.52,100.54,65.92,100.74,69.24,75.07,112.98,66.55,88.78,56.51,65.95,86.21,85.84,80.43,58.63,84.11,89.45,101.31,84.9,99.29,95.36,93.7,84.1,88.83,77.12,110.18,80.51,60.94,70.96,77.51,72.29,75.84,84.03,106.35,86.21,72.91,76.74,65.36,107.18,89.59,76.05,102.88,113.64,131.19,96.84,163.02,84.3,56.34,86.99,76.21,96.6,97.94,115.52,127.23,93.95,60.57,84.18,82.56,79.57,79.82,79.11,107.47,93.55,83.23,94.89,85.66,57.57,56.67,63.64,63.69,80.28,93.21,202.67,82.24,93.55,97.95,110.18,65.33,98.14,111.68,90.07,74.08,68.07,81.73,75.4,61.96,78.04,86.67,83.15,68.44,73.71,81.33,70.16,95.49,82.0,102.34,99.0,70.18,86.86,70.34,78.79,69.24,70.73,105.93,78.48,94.99,103.75,168.15,101.32,66.72,56.48,71.5,98.1,86.21,74.93,73.75,61.89,86.49,101.28,93.72,92.82,94.12,62.6,83.14,82.18,63.25,105.29,93.24,69.12,65.77,118.82,69.92,98.69,85.18,89.96,80.16,216.2,82.68,196.69,61.94,84.4,82.44,86.93,114.5,88.85,92.04,107.18,81.31,100.05,105.58,62.91,95.4,83.62,91.08,223.26,101.3,79.82,84.1,84.06,78.94,65.42,84.35,99.96,92.86,114.32,68.34,65.41,84.49,69.77,81.76,101.52,86.96,90.0,85.66,97.92,89.72,72.52,90.28,96.84,76.58,102.54,112.75,89.17,92.34,86.3,83.75,56.13,62.44,80.28,91.95,83.56,160.83,75.92,75.77,60.4,76.42,70.05,73.29,79.59,79.88,105.29,234.31,67.53,68.6,100.83,95.44,77.99,94.98,90.12,62.55,62.69,61.54,71.98,101.87,75.93,60.69,94.13,69.34,108.14,80.72,106.18,80.55,97.39,78.59,73.04,89.18,81.03,109.56,86.04,91.85,91.85,107.82,80.0,86.25,69.88,101.13,77.82,60.77,82.64,96.02,92.82,79.2,83.64,60.6,95.88,67.1,80.63,72.49,94.09,109.4,96.92,80.24,76.26,107.33,83.33,89.96,70.55,96.74,93.88,86.94,82.41,106.78,112.02,81.26,70.22,78.49,69.24,77.92,95.24,86.99,63.28,76.7,90.43,88.1,100.98,86.36,65.47,84.85,93.89,75.09,68.37,89.77,82.91,86.86,85.92,56.89,88.79,111.37,69.37,111.48,92.5,110.42,87.54,99.1,97.65,84.03,98.3,99.16,71.2,65.46,86.73,95.01,72.49,111.73,114.32,111.92,78.44,73.41,86.05,81.68,71.5,93.55,83.12,79.16,89.24,134.23,99.1,82.62,90.29,98.51,91.88,69.34,71.22,103.81,70.51,70.32,89.59,61.54,82.9,85.62,110.16,76.5,75.04,79.62,85.6,79.96,87.09,100.74,93.88,78.18,78.93,102.5,70.78,81.76,79.55,158.9,87.62,95.08,80.93,194.53,83.83,102.25,112.96,76.54,81.54,68.35,82.21,96.1,67.75,77.54,83.79,71.06,68.52,76.79,56.07,89.23,60.57,92.49,85.6,97.24,80.88,128.61,90.22,87.98,99.96,114.32,98.45,70.87,78.04,98.37,88.24,101.25,78.93,95.4,65.84,99.44,92.04,85.58,63.78,72.49,106.84,86.95,87.06,82.07,85.12,59.2,81.54,76.5,97.23,68.53,95.08,81.96,75.05,86.04,65.36,112.39,99.47,57.93,67.07,108.72,84.06,91.73,82.57,83.55,82.64,97.66,86.3,68.72,69.88,77.67,74.11,102.08,92.87,85.96,56.96,89.32,56.37,82.57,97.07,97.26,79.73,65.44,82.44,103.44,65.3,88.38,90.16,92.0,92.67,60.6,82.08,84.13,87.77,92.86,105.19,92.64,202.98,65.42,67.21,103.15,112.41,81.36,88.24,111.64,81.53,74.01,60.01,80.28,64.18,99.01,101.4,77.87,69.52,99.13,99.01,59.07,106.51,99.16,104.37,77.75,80.82,92.16,97.95,84.16,112.24,97.23,90.65,75.79,78.98,90.22,71.26,90.87,112.61,87.96,72.71,110.38,107.18,92.16,88.3,89.68,90.58,91.81,90.68,80.63,94.34,144.1,103.68,106.61,95.01,98.29,78.59,77.98,82.21,83.06,110.78,77.87,85.68,69.47,83.51,82.21,110.68,81.87,85.92,83.88,90.26,90.28,98.24,77.87,74.0,84.3,67.51,62.91,79.58,59.49,99.36,68.4,92.21,111.02,91.85,85.82,79.03,93.0,88.66,91.23,95.49,110.89,74.35,111.02,62.47,83.14,79.63,79.13,110.72,61.88,57.15,80.7,85.27,81.96,84.19,67.97,81.77,77.46,80.88,67.1,78.96,79.96,60.7,73.0,129.01,231.71,95.87,92.14,77.55,97.24,89.81,100.54,112.08,108.33,219.7,98.44,88.79,85.84,107.25,58.24,97.22,95.16,79.16,83.14,78.93,69.91,104.39,93.28,73.0,99.07,75.73,91.35,60.36,110.96,75.54,83.12,82.59,79.7,58.37,158.33,81.96,98.12,86.53,73.29,57.92,97.46,59.0,100.85,71.91,127.25,62.6,69.38,86.25,84.7,87.71,96.84,231.5,90.68,69.24,102.51,70.66,102.03,196.8,104.07,74.0,72.56,89.45,81.76,92.41,101.05,83.85,99.96,108.83,68.46,88.65,94.14,71.18,103.43,58.39,79.39,73.56,68.19,111.65,80.93,103.68,99.13,73.49,72.09,65.92,88.29,125.38,100.19,234.82,191.78,77.12,93.74,83.68,64.25,80.0,77.79,80.76,98.57,98.37,65.16,83.42,83.3,63.28,124.01,82.81,80.02,73.36,86.67,76.03,81.44,112.08,99.76,111.48,93.97,73.27,123.08,88.03,110.33,71.5,84.08,73.62,97.69,83.43,83.56,85.79,66.22,75.16,92.72,97.32,81.54,57.42,87.41,80.57,69.12,99.76,68.34,72.29,79.63,111.36,80.72,103.08,92.24,57.3,109.84,57.93,91.82,80.93,69.88,89.44,95.81,60.99,90.0,83.13,116.76,77.12,77.4,56.3,69.01,90.21,74.4,105.63,62.67,81.32,92.77,200.28,64.66,99.48,57.77,91.05,60.98,78.86,106.54,111.81,124.39,67.55,73.73,79.89,77.55,76.98,102.0,97.65,100.22,78.44,59.2,87.95,79.89,66.46,58.19,87.47,84.4,60.67,72.49,68.19,112.96,107.4,76.53,56.11,78.88,97.28,74.02,90.36,100.71,101.43,80.84,70.96,98.39,78.78,85.07,68.4,96.3,87.47,87.87,80.55,71.15,96.85,94.09,84.1,83.26,82.84,57.46,62.62,78.24,78.12,89.98,78.24,78.8,83.8,65.47,101.46,70.93,79.6,97.65,83.1,96.86,80.08,189.44,81.59,84.03,71.06,100.88,65.41,73.2,107.33,99.0,68.99,69.88,98.54,92.22,102.97,90.91,98.44,103.43,84.04,81.28,104.11,74.06,56.74,84.38,91.97,112.19,96.82,79.18,86.46,81.51,79.95,72.29,85.81,111.94,84.93,77.12,76.59,77.45,95.01,82.42,90.35,93.88,80.86,80.72,82.44,80.89,94.48,82.56,206.52,95.12,97.43,92.21,74.09,78.18,92.22,62.64,99.91,77.74,66.3,87.72,87.0,239.52,81.26,96.97,81.54,102.41,89.11,99.79,81.39,86.87,69.24,78.93,94.44,104.0,85.96,79.92,104.21,88.78,90.01,71.2,91.25,67.28,66.25,67.55,81.0,56.12,96.84,82.26,72.35,65.47,82.41,83.59,57.33,95.46,74.21,111.92,79.92,70.15,79.99,78.43,83.24,58.96,116.64,89.99,84.6,70.37,76.66,57.37,73.89,113.87,127.4,68.08,99.76,99.29,99.47,77.67,84.7,81.42,78.32,98.23,79.81,90.9,92.49,56.71,86.85,73.48,79.51,62.61,63.08,85.52,82.05,203.76,92.65,62.69,73.78,98.35,101.52,81.15,79.0,123.49,70.0,56.48,85.84,86.0,77.16,80.72,81.05,88.89,60.22,69.37,71.34,86.68,76.55,96.15,84.14,65.47,109.69,84.4,118.55,94.75,87.15,76.74,70.73,88.23,97.78,70.22,100.33,86.87,70.96,93.24,67.75,82.41,108.62,101.3,192.5,56.83,75.23,59.74,109.4,68.66,71.18,79.6,92.98,74.5,69.38,67.87,111.02,88.63,91.23,72.18,79.22,72.76,72.61,84.45,72.36,62.78,87.95,94.29,70.0,105.05,78.28,78.53,93.58,59.49,102.39,77.26,77.32,100.75,80.98,60.98,71.42,102.27,85.91,64.02,93.74,111.88,94.12,90.73,96.42,114.88,70.07,92.81,83.83,75.08,78.46,74.63,95.87,86.36,90.66,84.46,58.01,80.73,70.0,78.98,102.64,97.95,84.88,109.52,104.7,84.3,86.96,68.66,94.49,163.02,85.03,104.37,104.92,112.33,78.24,79.83,92.21,93.88,77.77,75.28,86.33,105.76,82.85,58.63,73.67,75.04,99.96,62.0,59.74,62.68,112.01,59.76,88.0,100.65,100.05,82.61,65.29,83.84,102.99,95.86,66.08,112.75,69.45,91.6,83.37,106.41,73.83,65.06,85.33,79.1,61.78,95.75,78.49,93.23,56.79,69.94,228.26,84.86,64.14,72.2,58.09,100.52,194.99,70.13,107.49,72.49,93.76,110.16,96.98,81.41,70.59,86.24,62.48,75.08,74.98,70.67,69.17,95.87,75.08,72.66,196.01,94.75,92.32,93.14,75.77,106.85,62.49,74.98,77.94,76.49,90.51,99.0,70.43,83.86,75.96,84.31,60.35,87.29,70.52,69.24,93.04,81.38,111.08,79.94,69.77,80.83,75.08,105.62,65.77,61.61,69.11,70.15,79.55,74.85,85.79,82.67,199.74,102.39,76.11,101.37,98.02,70.96,95.29,82.89,92.76,88.78,106.8,112.16,79.88,107.41,84.1,84.37,112.41,101.65,107.72,56.93,106.51,102.01,69.67,128.97,67.76,86.91,68.24,228.7,71.08,89.61,102.4,101.93,101.37,111.81,57.02,74.0,66.55,90.28,89.68,94.23,78.24,70.01,106.24,101.3,107.59,84.86,61.88,65.12,91.08,122.32,86.21,88.51,95.04,107.84,84.12,68.68,86.86,60.13,71.86,82.94,110.41,82.28,84.08,98.92,81.21,85.12,106.52,60.53,62.13,95.16,57.46,84.4,65.29,72.61,108.65,82.37,75.85,90.07,99.0,99.0,82.64,87.43,84.4,83.07,84.91,69.88,90.35,80.57,79.53,104.75,83.07,101.57,88.83,95.2,84.44,78.9,95.25,82.89,58.96,57.07,78.88,112.11,124.01,124.31,91.94,90.42,75.73,62.46,73.0,72.71,80.0,82.81,83.03,100.47,96.84,91.68,92.32,76.3,90.54,74.0,67.29,92.65,79.35,94.04,69.25,87.18,88.65,103.62,70.15,84.3,96.62,112.47,91.98,85.77,95.89,70.03,97.27,118.87,110.63,101.02,83.13,90.0,81.39,69.01,76.63,93.0,92.23,65.42,83.75,92.32,79.35,110.17,206.53,78.43,63.78,63.78,72.84,92.99,73.33,92.82,56.11,87.15,73.74,93.93,70.56,95.87,85.82,60.22,59.17,83.64,89.11,80.82,80.57,69.94,80.72,203.04,92.88,56.64,108.08,77.12,80.97,86.25,65.09,91.32,75.52,205.5,100.74,68.61,62.48,74.86,74.32,95.62,92.62,63.01,76.35,80.96,148.37,69.24,93.6,105.28,112.99,90.57,112.19,73.27,70.13,59.54,90.06,56.48,92.87,78.9,57.02,85.83,102.27,86.99,87.0,68.53,112.18,96.26,101.56,71.12,79.33,73.27,91.05,99.31,70.55,102.77,111.77,90.92,80.92,67.92,81.09,65.08,100.09,68.52,118.41,69.12,158.9,103.89,70.31,68.28,104.21,80.93,111.99,98.02,69.36,111.24,80.72,67.3,82.34,66.67,70.15,96.01,80.07,91.88,158.93,76.57,103.68,85.98,90.74,88.97,62.67,107.18,84.1,83.79,81.42,106.69,107.59,94.2,74.34,102.03,111.15,110.28,102.05,97.57,83.52,91.46,84.3,85.84,71.04,67.84,91.09,59.09,79.36,118.88,103.26,70.33,86.09,57.93,101.6,74.51,64.94,112.22,96.26,85.57,86.25,84.03,80.75,95.38,97.06,93.71,95.92,74.89,99.23,99.49,98.71,69.94,73.29,76.57,111.81,67.92,93.0,84.18,77.46,121.19,76.34,99.73,57.4,83.16,86.33,88.49,90.77,100.54,62.13,102.47,113.41,100.71,89.18,71.43,142.31,117.64,79.16,60.56,84.86,98.85,92.95,90.96,56.13,91.95,56.77,112.38,92.21,62.67,58.27,110.53,78.03,74.34,82.07,90.01,91.68,90.58,95.4,93.71,69.32,100.22,99.84,102.09,96.62,68.19,98.73,110.33,87.09,65.51,65.98,96.3,70.28,62.13,97.76,108.68,133.63,225.35,114.56,96.78,70.57,95.49,82.31,95.16,110.07,76.74,90.54,111.38,95.46,95.87,73.0,82.41,65.96,80.4,110.15,87.06,74.2,100.85,71.29,79.77,77.93,86.4,68.7,96.14,88.44,74.36,77.33,84.96,90.6,107.41,74.17,78.05,63.42,60.22,78.08,69.18,62.46,82.59,97.58,77.08,89.3,82.2,105.76,87.16,87.52,95.04,227.74,67.2,86.24,90.31,93.96,60.6,91.61,87.69,78.28,108.35,82.32,98.01,65.78,109.32,85.53,127.75,97.64,91.01,96.02,84.9,55.34,85.33,85.83,208.3,64.44,58.65,85.82,55.58,94.12,90.77,96.04,213.01,106.43,109.3,118.55,82.44,70.07,92.71,104.37,83.97,101.89,78.79,98.02,101.65,89.77,75.74,95.02,56.85,71.2,96.04,112.19,65.6,79.89,77.55,107.29,99.83,71.81,66.24,82.94,104.51,93.21,69.92,93.14,68.52,58.81,91.13,92.76,105.63,68.99,90.36,88.02,62.48,69.88,79.2,73.92,79.11,110.89,94.67,74.11,95.84,71.96,84.68,92.95,113.11,67.92,87.24,74.01,94.77,87.24,105.28,77.59,96.62,83.4,98.76,106.35,56.85,60.32,74.11,84.18,60.84,89.14,77.59,131.19,145.5,140.1,106.41,77.42,66.47,96.63,102.1,93.74,104.44,79.13,102.5,106.78,94.27,94.67,79.39,104.36,85.29,104.03,90.42,90.43,84.41,79.02,86.06,61.13,93.88,93.97,84.3,62.55,86.99,82.41,61.88,75.88,104.08,63.98,94.96,90.51,93.51,78.93,106.52,104.33,77.57,91.93,85.92,79.33,75.09,84.46,61.67,81.15,100.31,105.36,81.64,77.94,104.3,68.8,101.56,101.97,84.79,58.41,96.68,91.73,78.04,88.85,107.49,103.55,67.8,75.07,104.02,247.69,95.37,77.93,85.65,86.06,85.92,82.44,105.22,95.36,79.7,87.52,99.49,89.53,87.26,73.19,81.78,72.96,93.96,111.02,76.15,104.8,74.12,95.89,71.12,79.92,94.71,90.19,65.38,79.18,86.36,59.17,75.74,82.08,84.3,60.67,93.55,91.96,73.2,100.51,65.88,73.67,82.09,88.38,93.81,92.49,99.78,97.24,75.73,140.96,114.32,91.85,83.14,93.51,80.43,89.32,74.24,93.03,86.04,57.51,64.45,82.47,89.41,95.37,79.83,64.15,104.47,110.18,76.12,112.08,93.97,125.29,140.96,86.36,99.0,58.27,72.63,84.94,90.61,61.51,104.42,97.05,76.1,95.25,228.7,93.88,70.03,98.55,95.24,77.87,103.46,79.35,109.56,88.33,175.92,90.43,77.16,70.37,81.78,84.85,59.05,103.58,98.05,249.31,60.27,81.68,78.34,82.68,98.34,74.42,89.3,83.5,104.55,98.45,111.1,83.91,61.88,82.2,81.96,141.84,70.55,70.65,74.36,75.77,70.34,91.95,75.74,62.57,84.6,58.02,91.81,90.54,92.86,114.01,84.44,98.12,90.0,101.19,111.22,116.38,90.07,122.41,92.98,79.35,84.03,83.79,95.5,72.75,112.77,75.88,73.0,60.32,76.2,102.1,92.21,107.91,102.47,95.47,85.81,103.0,135.74,94.11,91.82,97.57,96.04,70.07,100.1,108.8,107.45,59.14,69.77,83.27,66.01,111.01,102.05,86.93,97.94,91.98,84.4,76.63,87.0,66.13,70.96,65.4,76.56,68.8,82.07,106.41,90.43,97.46,87.94,95.12,111.99,92.37,80.83,69.17,104.21,115.47,74.96,72.88,96.69,82.89,73.65,96.85,80.92,86.11,82.34,56.94,82.34,90.0,67.07,121.81,67.87,65.38,87.0,105.23,124.48,70.19,101.05,67.3,85.0,81.38,69.06,114.54,85.62,73.76,77.93,76.46,86.73,74.86,82.35,60.37,101.34,77.83,70.3,102.91,76.79,99.64,96.62,87.92,85.03,108.65,99.0,82.31,110.18,70.34,85.81,99.07,83.26,65.47,88.04,74.02,82.59,90.4,57.02,87.25,89.32,71.88,80.7,92.0,91.93,100.52,57.89,72.29,82.08,56.11,93.47,110.91,70.54,91.85,83.62,110.68,76.25,65.71,60.6,80.96,92.23,111.84,95.27,68.34,97.76,56.75,83.16,73.6,58.81,90.11,65.24,115.99,83.06,98.65,104.75,99.37,71.93,144.14,79.96,85.52,95.88,83.12,96.69,77.46,99.68,102.54,87.1,69.22,200.68,77.46,69.36,73.0,83.62,69.01,76.19,70.63,106.59,82.38,97.51,67.09,77.73,82.19,75.69,87.77,64.4,89.61,77.16,91.28,80.06,80.88,71.88,108.51,71.98,91.85,95.04,89.44,156.43,102.07,120.03,98.65,88.57,67.68,106.61,133.13,89.53,84.03,96.84,170.88,72.56,96.01,91.04,103.44,81.21,69.8,99.23,78.93,79.54,201.07,86.96,198.29,70.58,61.54,77.28,98.59,74.55,106.01,107.02,70.92,86.78,79.5,118.55,86.87,64.09,73.69,89.62,90.97,84.99,83.51,91.44,95.47,75.09,80.08,88.34,100.81,83.24,96.01,60.77,83.94,75.06,72.64,80.13,121.04,84.91,83.94,108.8,91.68,79.93,69.4,96.43,99.79,82.2,82.93,106.69,105.59,90.22,62.37,86.24,69.37,83.8,68.53,65.84,80.93,141.15,87.12,98.07,90.35,86.96,91.28,88.34,76.78,80.33,219.96,92.87,69.38,75.22,83.51,84.12,104.1,75.86,86.97,80.42,56.67,82.57,103.43,101.31,106.98,83.26,68.34,58.39,104.75,74.05,108.63,81.08,86.05,85.33,85.16,71.06,70.0,123.66,83.14,93.89,92.18,85.12,77.73,80.98,100.09,134.39,74.82,112.29,81.68,80.84,93.13,104.42,97.04,82.57,77.57,81.81,107.74,95.12,88.04,73.63,60.53,96.21,60.98,65.49,80.07,69.88,93.13,78.7,125.43,70.16,116.49,84.86,89.01,75.78,86.9,137.91,92.23,85.07,111.38,227.98,80.35,98.74,109.52,58.38,89.72,108.63,76.55,78.42,76.6,73.69,83.76,95.37,65.21,93.21,104.12,58.26,55.35,77.13,74.85,76.19,85.58,91.34,75.34,83.07,70.87,56.11,65.38,92.59,66.11,82.57,106.53,85.18,68.18,70.28,84.85,87.15,86.06,94.14,87.06,89.16,82.81,64.06,114.54,78.05,93.88,95.88,100.47,101.26,88.41,94.2,96.04,73.1,94.0,98.44,89.61,66.16,60.98,79.83,84.21,87.23,95.87,92.65,84.11,65.48,62.6,85.63,94.67,70.53,204.63,82.06,87.73,77.67,83.64,110.84,80.96,97.58,97.04,134.45,97.46,71.25,84.12,90.0,77.63,95.46,82.18,79.09,90.95,84.85,110.38,93.85,97.89,56.67,228.7,69.12,221.83,81.93,92.04,79.66,101.02,99.47,79.63,78.79,77.42,104.03,69.34,70.15,101.52,60.09,115.86,111.84,89.68,69.7,105.22,76.04,125.38,84.06,60.77,84.4,78.24,70.94,112.35,66.3,88.34,95.93,215.07,106.27,87.95,98.12,110.42,83.14,63.42,114.32,102.97,96.04,88.81,89.06,97.46,81.68,76.51,87.94,111.77,77.53,95.44,63.54,82.67,79.05,111.71,65.09,102.47,226.11,74.84,72.36,64.41,90.53,113.23,110.68,81.59,69.79,68.94,78.19,99.0,71.16,85.6,80.96,93.88,68.35,73.27,69.77,102.28,74.88,84.85,110.84,88.62,83.83,100.8,92.72,70.15,97.12,75.77,79.35,104.23,97.89,61.94,138.51,55.51,95.01,110.89,98.39,61.1,57.08,87.51,106.84,93.74,91.32,202.67,65.77,69.17,70.16,86.24,91.85,123.21,118.55,82.83,80.83,82.57,97.59,81.05,197.58,104.3,79.9,97.16,69.01,93.55,127.75,72.49,65.41,100.71,88.47,80.86,68.38,69.99,93.77,85.54,91.63,91.85,79.43,112.2,205.77,74.66,69.81,89.32,56.9,74.53,126.34,72.76,59.83,73.69,100.34,95.1,89.29,111.37,71.12,92.67,129.19,87.85,78.16,100.33,58.88,84.41,97.05,85.62,60.2,113.21,100.85,89.26,109.09,56.11,90.97,73.36,85.86,69.28,104.75,82.47,90.28,83.56,108.53,65.71,90.1,90.31,112.26,95.57,69.18,94.61,94.11,88.83,80.08,74.64,99.44,59.28,82.64,106.31,83.86,147.5,82.61,61.61,73.57,65.47,78.93,83.86,81.51,73.0,65.91,97.39,103.06,93.13,107.99,97.37,103.61,109.85,72.37,81.73,79.03,102.34,111.81,81.58,98.03,76.85,86.36,99.07,68.53,79.02,94.63,87.51,65.43,79.66,82.44,108.75,77.55,70.08,85.07,106.65,116.38,102.09,83.4,84.59,95.61,60.13,73.08,104.07,95.57,82.39,56.11,87.88,97.95,120.07,99.48,106.74,90.6,68.42,89.68,70.59,102.84,91.65,109.77,78.06,91.09,86.57,68.89,70.94,111.33,72.56,68.42,104.48,90.51,111.71,69.01,79.13,82.39,58.79,95.08,83.55,61.42,96.47,94.39,68.07,83.16,99.23,74.34,83.84,103.68,98.69,76.34,74.19,76.36,99.07,88.49,104.45,102.81,100.33,102.05,110.53,58.19,85.17,94.77,56.07,86.06,78.11,64.68,68.46,104.64,62.61,110.38,98.55,84.42,71.93,83.41,85.98,70.38,78.36,78.29,78.45,83.6,87.72,65.59,92.23,89.4,74.09,221.06,90.26,83.03,77.13,91.85,115.46,67.92,98.07,105.63,96.25,79.03,86.04,78.47,87.6,60.96,60.98,78.85,91.82,93.67,91.16,95.4,105.26,111.1,75.19,87.11,82.08,77.67,74.49,73.73,77.92,105.22,86.57,95.12,84.43,108.33,61.67,81.13,118.66,73.69,104.7,100.74,226.88,108.38,56.3,82.9,207.95,95.47,89.58,84.4,86.78,68.99,58.25,63.67,89.61,84.98,104.79,58.95,67.97,83.13,67.3,104.35,94.71,81.94,75.19,96.29,147.74,83.03,80.54,102.9,74.11,106.18,123.94,82.41,90.0,112.17,145.37,89.68,62.48,78.19,56.95,95.36,93.73,68.38,74.08,92.81,74.29,73.78,96.84,67.7,56.33,63.82,70.3,61.29,81.15,57.57,80.15,69.88,110.41,228.86,97.06,82.41,55.85,94.09,99.58,57.42,112.06,96.01,79.2,112.98,97.5,81.54,135.19,97.5,80.08,62.69,107.06,68.12,131.85,106.24,99.47,99.44,100.35,60.67,71.5,124.09,96.35,82.18,69.68,72.79,109.56,111.81,87.72,70.07,84.5,93.78,102.39,99.64,97.39,93.62,78.45,72.49,57.51,110.84,101.46,58.85,98.05,90.3,71.92,90.0,96.21,90.87,67.73,59.82,96.19,81.92,70.11,58.35,112.06,94.74,84.03,72.81,89.88,149.15,80.34,92.81,191.61,75.6,80.51,74.05,104.21,101.58,69.88,80.92,96.85,101.43,75.84,75.03,59.62,117.92,74.05,57.3,100.54,70.07,74.2,60.64,68.34,87.54,82.07,85.29,85.57,78.85,78.43,96.06,95.15,231.31,89.95,71.25,110.47,192.47,67.29,66.46,82.35,82.06,101.19,89.68,83.8,73.75,106.23,104.55,98.57,81.92,95.13,92.97,99.87,73.58,59.26,111.98,100.85,115.23,89.06,100.98,65.71,77.35,102.11,72.6,65.6,82.62,92.98,110.38,90.73,138.02,141.23,55.35,83.75,85.84,76.3,67.29,91.65,73.76,112.62,74.16,55.32,92.14,83.26,107.42,102.21,86.36,73.28,92.14,67.92,125.63,88.79,93.88,68.09,71.96,97.89,90.36,78.09,76.79,60.35,103.78,102.5,82.34,70.01,77.87,104.12,94.77,71.16,88.97,97.05,182.2,112.85,65.66,104.22,173.9,75.42,85.57,77.96,81.77,99.76,83.1,65.79,90.61,110.84,92.21,98.39,84.44,71.25,194.04,101.96,123.04,60.02,99.84,100.54,93.52,104.02,99.71,77.1,63.98,99.34,106.54,101.93,91.21,81.77,79.58,93.97,89.68,64.08,78.05,84.54,77.66,100.33,62.57,98.49,112.96,82.57,99.64,122.23,100.96,73.75,74.43,80.57,85.93,85.92,72.19,91.28,83.13,102.89,86.84,76.43,78.48,72.19,57.94,85.08,60.02,98.37,101.75,88.04,69.94,97.39,94.99,76.7,77.67,69.7,84.4,85.08,68.68,76.58,96.34,222.66,91.08,81.05,78.34,89.03,83.64,68.34,90.22,98.58,119.58,86.06,87.72,76.26,93.6,71.5,76.51,95.4,68.76,73.94,83.27,80.43,97.6,92.71,60.99,77.92,61.67,76.77,80.93,98.4,112.09,56.3,77.35,85.88,76.04,76.7,98.24,74.35,87.81,81.96,76.42,82.08,83.91,85.92,65.29,80.28,68.49,97.69,76.43,75.62,90.35,73.56,103.51,129.54,110.91,79.58,81.25,69.4,92.81,76.31,85.12,76.74,99.67,62.62,112.33,118.87,81.96,112.55,234.35,80.98,94.36,75.22,56.87,111.22,83.76,75.43,111.24,63.41,95.01,96.35,79.9,78.34,112.01,65.52,80.57,77.44,99.36,89.11,111.64,81.68,92.82,72.09,70.51,88.19,85.04,75.79,77.52,98.05,97.57,84.6,101.46,80.09,95.21,75.06,89.53,87.69,86.87,158.93,90.78,80.33,74.44,88.97,83.4,83.81,76.78,102.97,100.96,93.04,116.64,65.96,112.06,91.48,95.01,105.76,68.13,80.74,85.07,56.87,70.73,82.19,103.76,76.2,104.23,92.34,104.21,111.41,65.29,106.69,71.26,92.87,106.01,92.65,72.88,70.93,90.67,106.24,60.61,88.83,78.99,106.56,56.11,85.79,81.66,100.29,84.86,79.16,115.47,86.11,65.87,91.08,82.86,98.14,111.48,205.35,77.93,90.04,56.42,89.52,67.29,89.22,82.09,79.11,66.2,103.29,76.51,144.48,110.38,109.88,71.06,107.73,62.62,108.68,87.54,78.94,73.26,81.0,77.59,86.57,88.19,84.7,91.57,80.67,65.87,72.62,98.35,93.58,89.13,236.14,110.47,59.49,63.49,219.53,101.87,71.89,75.28,134.24,93.88,85.84,89.11,88.18,101.24,78.94,66.24,76.43,88.47,56.42,96.03,92.68,85.84,77.88,75.08,83.7,89.31,86.46,87.24,88.0,78.79,65.96,94.34,82.93,70.31,78.09,73.89,93.51,72.49,83.16,74.28,85.6,74.43,83.16,74.29,87.79,68.51,77.59,89.04,89.11,95.49,93.6,100.22,84.43,95.19,140.08,96.02,67.84,73.07,87.41,70.43,93.85,59.68,75.77,92.16,112.22,96.17,71.08,82.31,77.34,65.67,83.13,95.46,62.61,88.88,69.26,81.51,100.81,81.31,74.42,71.94,98.57,69.61,66.67,73.33,82.07,82.21,86.0,112.43,78.29,89.43,81.31,76.36,86.99,78.79,103.08,88.23,82.59,65.51,69.5,60.5,85.23,67.94,77.12,79.0,89.11,90.28,69.91,81.51,74.91,79.9,102.07,96.35,80.08,65.66,62.48,96.17,65.07,80.82,97.24,87.95,89.21,100.01,70.07,92.95,77.29,58.56,118.87,65.12,97.12,98.54,66.1,99.01,91.98,86.86,82.64,96.62,71.81,66.3,95.82,62.55,88.39,71.71,59.67,62.94,93.67,91.68,96.04,113.65,98.42,103.21,91.44,77.74,87.72,98.09,88.34,74.28,103.22,93.02,82.1,106.5,106.08,58.38,85.66,97.37,89.17,102.9,65.29,199.38,84.96,78.8,92.11,112.19,74.17,88.2,105.63,65.67,87.16,70.56,99.01,87.98,89.04,99.44,140.08,79.13,112.47,64.45,93.28,69.46,72.72,90.43,65.51,61.21,70.25,111.37,91.44,98.61,89.61,56.87,60.22,99.35,75.26,93.3,91.93,88.11,64.94,68.38,96.4,78.48,74.49,82.57,93.25,90.95,107.42,56.85,80.22,73.87,88.17,69.35,69.12,78.16,102.1,112.21,56.48,75.22,118.55,90.06,84.6,62.67,93.99,77.29,93.74,71.81,78.24,79.89,84.14,80.0,94.19,94.12,92.3,111.43,81.53,92.98,92.08,97.32,91.98,207.79,134.24,89.26,106.35,95.01,95.36,80.4,69.24,114.32,82.93,102.37,94.11,82.34,78.42,74.26,83.4,91.89,82.38,73.0,86.49,80.92,71.5,90.92,71.73,86.96,89.18,60.22,76.04,116.62,81.54,90.35,60.7,88.2,116.68,81.44,80.82,101.6,90.91,70.45,93.88,95.46,134.45,62.64,81.64,80.79,69.3,99.14,95.62,108.64,60.61,103.26,66.29,68.24,80.08,97.59,90.22,76.31,78.93,95.16,89.03,111.98,221.08,102.58,77.29,70.98,69.2,97.58,92.3,114.33,84.86,87.51,86.25,104.24,97.57,88.57,82.72,78.23,114.32,82.21,96.92,66.12,71.93,90.73,92.11,69.17,79.2,88.3,83.5,71.08,86.11,65.61,77.42,94.04,74.32,67.97,62.56,87.81,104.08,78.53,89.21,80.34,85.99,71.93,80.24,56.08,69.37,81.77,100.09,111.61,101.93,87.77,100.54,77.28,100.33,100.54,81.18,86.34,72.49,88.79,56.84,71.77,69.81,90.77,82.79,111.64,76.72,91.13,62.6,78.96,69.52,89.86,185.17,85.82,87.72,64.55,68.37,88.81,108.3,95.44,219.67,80.0,93.55,94.61,108.62,99.16,92.72,90.92,118.93,112.32,65.46,81.73,97.12,111.22,123.83,75.23,73.26,78.46,85.04,91.35,78.8,111.71,69.72,84.4,94.77,86.99,73.0,85.27,200.49,72.79,110.41,69.88,81.51,106.02,78.88,58.09,160.76,106.03,80.85,120.31,83.41,102.34,112.64,83.44,82.06,110.7,84.4,75.1,74.44,76.59,101.61,83.51,112.39,111.61,107.18,57.28,102.76,96.63,226.7,89.16,92.23,80.81,105.45,69.34,91.28,77.3,96.01,57.27,76.35,60.3,84.1,92.0,81.73,88.65,69.88,86.57,88.35,84.19,92.14,74.33,219.5,89.03,60.7,77.42,81.25,116.23,102.89,75.06,83.55,95.28,94.18,81.73,74.12,86.24,101.65,92.0,83.85,70.16,65.48,92.67,84.19,89.61,84.1,65.98,74.81,85.04,84.63,67.66,80.0,97.28,87.21,75.19,75.73,71.8,81.96,112.09,74.96,67.92,97.87,100.6,70.29,124.31,124.5,56.79,89.61,77.6,78.93,70.56,63.32,94.04,123.0,67.76,87.43,84.09,80.08,89.45,76.42,85.7,65.21,79.98,62.68,77.55,111.48,80.0,71.06,108.65,104.66,113.96,79.99,64.4,95.04,72.81,81.71,67.06,63.33,76.53,85.87,73.65,94.63,110.7,99.3,104.02,86.62,106.18,65.94,89.62,108.38,75.16,82.0,96.74,91.69,65.59,107.18,228.7,69.53,118.81,101.97,124.08,67.97,84.4,78.99,104.07,80.77,92.0,73.27,93.89,79.33,75.5,85.78,73.49,83.1,80.07,71.4,101.65,95.01,103.69,94.39,94.22,69.15,61.54,81.39,81.25,92.87,80.82,99.16,112.95,134.61,80.07,123.66,82.62,98.51,74.8,77.43,100.15,83.91,70.15,73.87,82.61,63.33,86.0,118.88,111.27,110.77,104.07,99.83,82.88,85.48,101.97,105.63,94.05,68.34,63.78,65.33,110.33,93.55,104.08,69.42,104.71,94.12,95.01,91.3,218.46,89.61,94.65,69.72,63.98,102.1,90.74,73.2,89.3,56.9,83.15,69.2,61.94,93.04,68.12,79.63,100.26,82.39,108.79,89.57,87.98,75.4,112.98,99.87,84.06,116.78,59.17,97.6,104.3,76.55,89.11,82.46,104.55,110.55,78.82,78.04,65.84,62.57,59.28,74.44,65.41,77.52,92.04,75.08,97.32,77.29,75.1,63.41,83.16,73.31,76.35,93.55,79.59,81.0,101.19,91.58,69.3,91.35,76.2,75.22,104.48,89.53,84.46,73.04,109.12,85.84,60.3,75.88,77.54,67.84,76.19,67.92,65.94,93.14,75.22,81.31,101.43,106.58,207.96,95.2,107.03,87.72,80.08,96.21,83.8,98.44,221.24,84.4,75.22,93.3,84.08,91.98,104.37,86.25,130.07,74.05,69.42,72.76,71.63,108.08,73.5,90.42,99.83,69.87,100.85,102.04,65.66,62.48,121.04,86.26,82.81,102.64,69.74,104.9,65.87,71.81,102.48,99.67,79.81,70.02,68.84,64.42,59.43,70.55,87.18,59.39,101.53,96.78,76.34,83.75,87.16,109.3,83.78,85.82,107.29,80.42,116.62,79.91,68.52,97.41,87.71,111.33,73.0,90.58,65.12,63.01,108.33,84.42,96.04,85.62,80.85,102.5,94.03,89.53,95.55,87.98,60.39,99.68,70.33,102.5,93.88,86.34,93.52,62.48,73.27,102.73,92.65,92.82,95.62,103.72,102.39,83.56,80.96,65.82,85.16,90.57,98.65,112.68,75.46,100.02,105.22,86.09,84.39,77.02,80.72,110.66,72.62,65.29,95.12,87.81,94.69,74.6,87.62,74.63,60.95,72.35,90.84,72.17,82.43,89.24,91.46,88.79,83.51,83.41,205.77,101.53,69.82,102.1,101.64,70.87,68.96,81.96,89.11,80.83,81.76,84.03,72.71,87.86,63.78,77.1,70.98,123.87,82.58,100.88,92.11,57.1,219.92,71.92,122.23,111.33,102.11,92.87,66.22,112.41,91.02,59.61,73.62,99.2,94.67,85.62,84.4,108.1,85.84,85.81,77.37,74.92,85.91,115.23,111.02,83.1,81.72,65.48,78.11,65.01,90.91,74.11,84.09,72.65,93.58,85.33,111.38,97.73,102.96,65.48,87.72,92.65,71.2,80.72,90.31,92.95,74.29,114.32,82.41,93.24,106.11,101.37,71.18,97.37,62.47,86.78,102.0,90.12,79.54,97.23,72.49,71.08,58.41,123.04,72.96,74.7,88.02,68.53,79.63,56.31,75.22,89.21,74.5,80.83,84.86,89.03,70.28,80.74,96.1,94.39,98.46,73.37,89.77,105.43,123.1,92.95,77.92,71.08,83.3,100.52,88.81,69.42,94.19,70.09,98.22,106.1,87.15,94.05,98.34,85.29,95.8,86.96,200.28,93.52,84.16,95.98,89.81,78.9,162.16,85.92,111.04,62.63,78.34,84.75,87.62,99.82,84.27,84.1,81.31,86.07,99.44,87.06,82.16,84.31,80.76,95.23,88.21,86.43,72.62,90.35,89.68,88.17,114.21,97.46,90.77,67.79,79.13,87.39,83.3,70.38,69.36,104.02,68.99,72.71,93.55,99.07,84.79,200.46,100.16,111.08,96.1,200.28,107.17,85.84,84.14,98.12,63.32,83.13,85.55,92.32,82.83,199.42,93.74,67.82,81.32,111.02,118.81,229.94,87.98,93.58,106.78,65.48,209.5,87.47,81.38,58.02,98.44,97.73,94.62,57.02,70.19,72.09,93.96,87.87,72.18,89.96,70.51,82.44,70.53,62.62,63.73,97.46,207.35,60.67,87.98,95.04,101.02,101.98,77.86,99.64,68.4,100.31,66.46,82.57,58.37,57.32,94.89,63.71,84.04,97.68,83.74,100.29,57.47,96.06,99.44,85.86,95.94,72.81,83.95,107.4,100.98,89.68,69.38,77.12,70.15,185.31,80.57,70.96,58.01,91.63,82.72,76.35,87.74,82.0,87.62,66.55,69.16,103.0,100.83,87.25,86.33,69.92,61.83,56.75,74.06,82.3,89.04,72.49,95.01,88.85,112.09,86.78,69.4,71.73,76.44,74.7,87.81,74.86,72.08,87.74,102.05,69.12,72.99,74.63,71.08,84.59,72.09,71.88,112.08,82.85,71.63,80.43,80.82,65.41,97.59,75.46,70.53,71.22,78.98,94.3,69.18,96.84,74.96,176.37,59.0,140.08,104.33,91.44,56.3,81.94,83.75,65.19,82.34,70.95,68.35,69.01,84.96,67.06,88.88,206.59,55.46,67.06,60.06,102.99,66.32,102.54,60.22,85.07,73.48,64.51,77.92,90.39,112.31,69.77,69.34,57.47,106.95,72.49,108.51,73.27,94.12,100.12,103.34,102.97,68.7,116.04,85.59,64.92,65.9,106.33,115.47,99.67,89.93,89.22,75.04,66.51,65.71,103.5,92.04,98.44,114.05,79.58,87.71,76.03,70.07,77.08,80.91,84.18,106.4,62.99,90.47,80.43,99.36,74.01,62.52,98.44,56.85,78.05,67.07,87.25,92.22,115.98,80.44,76.34,100.16,96.86,94.27,100.16,110.69,103.78,96.85,70.01,80.42,82.08,83.44,127.75,122.81,84.49,66.54,84.24,76.51,100.54,81.77,207.28,70.15,88.65,83.75,77.95,92.71,90.42,104.72,108.51,84.1,76.77,91.65,80.08,101.13,112.02,69.42,77.82,78.93,88.6,70.28,98.57,74.08,82.38,94.92,61.27,81.64,82.1,86.95,72.76,82.59,96.02,85.65,98.07,65.12,70.32,82.39,116.64,111.61,77.32,60.01,67.97,99.49,75.11,114.69,82.91,75.74,66.59,114.76,62.44,99.92,94.3,86.97,71.92,112.08,74.34,110.7,91.34,84.26,85.33,87.98,62.61,101.46,83.93,91.85,98.12,82.44,62.47,80.03,69.35,88.68,76.25,80.15,98.12,56.63,97.23,103.25,60.53,80.67,113.23,110.27,94.09,216.0,71.06,65.42,82.81,56.45,70.07,98.42,115.98,61.27,102.51,74.86,58.41,92.77,57.77,93.67,78.11,90.4,111.04,93.85,73.67,81.21,95.06,72.42,72.75,91.85,95.58,75.74,65.7,84.86,76.25,96.79,80.07,106.69,74.2,111.98,85.04,131.19,84.13,57.51,67.03,84.41,101.06,65.32,91.97,83.12,94.78,67.06,96.77,65.79,86.11,78.46,87.5,90.7,81.68,102.28,83.75,101.3,74.86,78.16,67.8,90.0,91.68,57.96,70.03,96.35,106.53,86.0,103.12,105.63,59.2,77.12,105.79,82.84,75.86,79.34,85.84,65.77,95.49,68.48,97.44,76.55,116.98,56.12,102.05,84.08,62.66,89.34,104.34,83.3,80.72,62.66,59.61,69.53,78.05,99.82,100.81,62.48,75.04,74.14,100.16,93.52,58.51,94.39,104.86,70.06,88.75,95.52,68.61,78.53,55.62,110.65,62.6,67.41,76.35,70.07,90.6,94.89,85.92,68.98,67.97,97.9,77.26,86.6,113.95,101.87,79.63,81.36,98.43,109.02,86.0,64.18,85.52,74.16,99.0,110.91,73.62,106.02,69.45,121.46,94.03,99.78,71.5,198.84,67.55,69.2,83.55,79.96,93.68,90.42,65.01,79.92,104.38,84.75,123.34,95.77,62.48,59.2,90.42,74.02,94.77,83.75,58.41,97.22,85.97,84.85,81.21,89.24,94.2,111.33,95.32,100.52,85.29,63.82,129.49,56.37,98.12,68.12,100.85,98.53,76.98,81.26,104.55,80.08,185.47,81.68,74.08,60.35,86.36,99.92,83.12,70.87,95.29,74.51,103.12,112.98,83.1,69.34,70.32,93.3,87.26,88.19,91.95,80.22,65.67,102.61,61.36,76.66,110.2,56.64,145.15,81.68,103.21,75.22,100.85,110.54,217.11,78.35,88.38,86.74,67.51,126.57,80.93,99.12,253.86,91.63,78.04,88.44,60.5,98.73,73.5,83.03,89.53,75.13,68.24,65.45,85.57,70.55,102.07,64.68,84.46,103.45,94.39,146.44,60.73,97.87,76.42,72.05,106.56,87.79,84.07,112.19,75.5,93.64,73.67,74.96,90.0,108.87,68.66,95.01,74.29,74.34,69.37,96.74,61.94,97.95,90.77,62.47,103.68,80.1,92.62,78.38,170.88,77.46,93.74,75.25,76.74,84.86,91.21,95.47,108.51,93.74,55.57,59.52,88.78,58.63,85.92,67.73,70.58,68.66,82.38,91.68,78.59,80.85,104.64,68.48,78.26,67.07,77.52,72.81,60.99,70.07,92.82,76.11,92.71,104.77,69.79,81.0,96.37,68.7,91.98,97.46,84.99,84.03,92.87,106.95,83.07,84.3,86.84,95.49,91.68,96.3,96.15,106.85,60.93,86.11,73.32,83.16,59.52,83.53,75.22,112.88,68.52,83.09,78.24,89.32,88.72,84.46,101.46,93.67,88.15,79.7,60.22,64.68,73.2,70.15,98.23,97.92,111.24,116.77,90.74,105.9,112.54,100.54,56.85,86.39,92.26,95.58,70.48,110.97,62.56,84.2,112.25,87.06,104.21,67.06,89.53,76.93,65.87,73.87,84.93,95.1,72.63,94.39,96.98,75.04,102.08,90.52,79.59,77.93,91.82,72.52,78.3,69.12,100.49,84.3,103.76,76.5,92.68,72.52,91.95,104.48,200.66,85.03,82.18,97.89,91.2,65.29,73.87,90.77,64.44,67.97,110.33,76.04,56.85,93.58,101.3,103.37,91.01,74.29,57.83,83.14,74.51,79.43,96.06,70.16,77.19,86.53,76.27,65.33,73.08,61.54,70.87,62.99,75.74,86.0,58.64,89.06,82.59,91.72,74.11,84.6,71.8,95.87,112.62,96.92,65.6,86.97,90.65,103.37,102.51,79.17,92.21,89.38,82.18,81.78,58.66,80.07,68.35,98.09,87.72,86.1,82.0,73.56,81.16,83.52,93.68,91.68,68.12,80.93,99.13,92.13,63.18,101.93,140.96,102.0,131.63,97.23,80.72,89.42,82.3,87.0,107.29,87.43,79.81,78.3,104.48,67.78,94.67,101.02,92.86,97.86,113.63,79.16,103.44,59.87,78.36,83.12,86.09,90.58,62.56,80.35,84.86,106.47,85.17,97.28,85.77,197.09,88.27,95.44,74.49,81.25,99.01,58.38,71.06,138.29,112.23,69.52,97.95,80.79,80.98,111.99,69.49,83.2,95.04,102.07,75.29,103.08,77.52,83.56,88.38,104.23,93.67,101.66,90.78,69.77,91.68,91.34,70.67,102.97,100.85,63.98,82.41,89.32,95.12,95.08,70.3,87.98,89.01,68.44,63.28,97.49,72.49,104.36,65.09,98.06,85.79,67.75,87.72,59.28,79.16,83.83,61.34,76.72,81.68,99.01,65.36,95.43,81.21,81.21,59.61,95.49,95.4,96.02,81.3,108.79,84.21,100.33,106.58,140.93,92.2,71.08,68.48,90.46,88.47,227.1,76.43,97.46,78.73,98.14,96.23,60.93,93.04,105.63,56.43,85.66,123.83,97.08,81.36,90.19,102.89,88.47,87.78,58.65,80.63,74.26,70.5,95.46,89.58,65.98,96.2,110.82,91.98,68.4,143.45,62.41,102.41,99.76,108.64,104.24,73.27,91.35,77.06,86.67,112.06,95.06,87.72,84.03,91.96,94.23,119.52,59.28,65.71,112.34,75.87,102.97,87.94,78.36,71.38,90.3,200.28,93.96,84.03,105.52,60.77,87.15,66.3,87.94,92.51,79.92,81.95,88.6,72.08,82.85,86.78,101.51,73.02,74.19,109.12,89.21,110.42,82.3,102.39,91.72,73.29,62.56,109.51,78.94,104.2,78.29,98.74,86.75,99.12,93.51,77.67,74.16,75.09,87.81,71.14,92.35,82.44,91.85,95.88,61.88,93.73,98.12,90.07,89.59,68.96,79.79,86.06,77.6,88.81,90.01,94.12,61.18,81.42,81.0,91.0,60.39,103.16,112.54,72.04,89.53,77.01,87.78,103.76,104.26,106.22,110.76,83.62,83.4,106.24,80.3,55.36,78.0,111.27,83.2,86.06,70.15,113.85,86.03,91.88,101.61,74.49,94.14,75.46,105.92,80.17,85.16,98.9,102.34,68.12,93.23,80.72,69.4,106.41,163.02,79.59,75.69,73.57,82.64,87.06,89.11,74.12,107.41,110.38,76.85,76.99,91.58,57.89,112.88,96.73,97.66,65.41,103.75,112.04,102.13,65.51,132.41,96.98,107.94,93.88,72.79,87.06,85.33,103.45,98.42,81.68,75.67,70.19,68.61,76.81,60.22,80.0,86.39,102.0,108.47,86.97,74.35,71.06,96.02,92.04,65.01,76.03,75.98,83.14,71.38,76.15,70.25,68.55,103.45,74.4,86.37,77.63,80.27,84.41,89.11,74.53,120.22,58.19,135.82,74.64,80.57,82.39,102.07,93.97,87.38,61.57,89.06,75.29,82.08,85.29,67.29,85.17,82.61,94.24,72.19,100.83,84.3,96.85,77.91,101.31,99.79,89.18,94.2,59.62,98.02,77.55,78.58,92.14,78.48,73.58,58.01,108.47,91.93,104.02,83.07,100.31,56.64,70.03,83.3,101.31,98.34,85.6,84.59,81.66,82.27,69.88,104.4,90.73,86.07,75.77,82.19,92.14,102.39,75.5,67.97,91.65,86.78,80.0,56.11,80.57,85.52,81.27,71.5,83.91,100.88,92.78,90.06,75.43,77.73,103.61,78.93,102.34,62.47,63.32,89.11,99.4,160.64,84.44,64.67,84.46,99.0,87.41,73.71,101.3,90.3,96.29,93.6,73.02,68.53,96.03,107.84,70.58,186.95,73.73,73.32,84.14,68.88,94.19,76.57,58.26,83.84,107.22,79.63,78.32,90.34,83.88,112.92,81.92,77.52,104.48,74.36,101.43,82.49,108.72,65.54,78.05,83.16,90.52,112.08,94.3,94.19,67.02,85.84,75.43,73.0,76.42,78.18,69.52,104.86,87.52,60.7,60.91,65.51,108.03,83.13,93.13,69.38,93.55,82.81,56.96,85.17,74.32,97.24,72.93,69.96,83.1,99.29,87.5,103.08,86.21,90.12,86.68,106.69,82.72,108.64,97.41,94.12,106.35,108.8,85.05,95.44,95.44,86.24,66.47,91.0,266.59,65.36,90.92,68.46,95.87,85.81,73.39,74.05,88.79,97.47,112.95,101.34,89.22,82.59,68.66,76.82,76.19,110.92,92.65,90.54,67.94,108.33,203.57,88.03,189.44,89.45,69.24,88.49,67.92,96.2,72.01,78.12,116.49,72.84,76.34,98.99,107.42,84.42,77.19,79.62,93.04,85.85,110.84,101.81,57.83,82.39,79.8,102.47,85.02,108.23,55.84,92.14,92.14,84.04,73.75,85.84,98.56,74.92,74.63,93.88,106.24,63.18,77.04,69.17,65.66,88.38,84.54,80.74,106.13,69.99,87.16,92.59,84.79,100.21,79.55,88.55,78.32,73.0,99.16,78.04,107.29,90.4,65.01,77.93,94.53,85.02,103.26,112.04,70.85,87.06,68.94,78.68,65.69,99.35,67.5,81.51,100.6,85.17,56.12,101.13,101.66,88.88,71.8,80.74,78.93,222.85,121.14,73.07,76.62,56.63,95.24,98.58,102.97,93.74,101.93,93.72,103.78,72.18,83.16,78.57,196.81,65.56,98.14,81.59,97.25,59.28,90.57,73.28,101.06,84.6,55.25,69.5,70.53,77.55,61.94,138.29,86.57,73.62,83.83,111.24,74.09,69.26,79.36,77.49,85.17,89.98,82.85,71.72,74.35,63.28,80.0,88.38,73.67,99.44,101.05,227.04,67.96,102.61,71.88,99.07,82.35,112.09,81.92,72.89,97.57,98.9,72.0,95.44,88.79,70.08,86.93,56.85,110.14,69.01,149.62,96.69,88.88,77.12,108.34,106.61,84.46,91.02,82.07,80.44,90.36,65.96,84.14,107.02,62.49,101.96,86.78,100.8,74.9,103.61,97.24,70.03,83.72,92.86,71.32,62.81,78.34,73.43,90.53,66.16,82.44,205.77,106.65,100.52,220.47,98.24,91.97,82.1,120.94,106.24,123.89,95.1,80.34,102.54,78.04,78.29,70.13,83.9,87.52,56.85,82.59,81.21,87.47,112.25,99.13,63.43,96.97,82.59,72.36,98.23,102.89,86.15,103.12,69.32,77.08,77.55,93.47,83.51,83.51,96.19,80.55,104.7,79.75,66.16,79.33,77.42,57.96,82.42,101.58,92.32,83.44,74.43,101.53,74.51,56.85,80.79,70.35,96.1,77.52,103.44,60.7,101.12,110.99,93.21,65.16,87.62,108.23,66.04,86.25,93.88,110.33,76.35,86.0,62.78,75.47,91.89,155.23,68.27,89.57,101.31,85.18,87.6,78.43,82.66,85.23,70.25,79.33,102.47,84.86,74.35,89.98,115.03,95.01,65.78,81.78,83.51,72.93,108.47,58.41,62.93,84.79,146.44,71.57,96.86,80.72,60.69,90.07,108.8,70.71,80.88,190.32,78.17,101.95,81.42,92.26,57.38,92.87,97.58,84.4,82.08,74.81,91.68,73.0,81.66,77.82,88.56,88.82,83.88,92.37,70.15,70.57,78.18,83.16,80.93,96.17,93.74,140.39,90.61,89.74,106.56,77.87,64.44,100.96,75.92,87.92,66.32,82.07,69.42,80.73,104.37,89.68,76.22,96.82,76.82,60.22,100.41,58.65,80.77,87.96,79.94,78.24,85.26,60.77,110.42,81.26,87.93,56.94,88.18,80.85,115.92,82.57,76.04,90.4,77.99,98.61,105.28,56.84,64.2,98.02,90.92,83.03,98.69,111.1,88.65,74.7,92.14,84.14,63.22,83.66,89.81,78.59,110.18,79.2,87.52,84.16,86.73,73.18,93.87,78.04,88.27,106.4,89.33,110.14,70.52,110.22,106.69,110.18,95.46,99.0,88.52,82.51,73.0,202.21,82.38,87.98,74.09,109.43,78.96,111.08,93.07,60.32,94.96,88.03,76.79,77.06,69.53,99.68,92.26,98.57,75.77,83.16,83.57,63.56,74.22,56.89,191.48,77.91,80.22,103.08,62.13,95.37,93.13,113.34,65.36,65.45,76.54,85.53,81.54,108.32,57.93,79.15,80.22,77.52,69.05,79.03,92.87,91.05,93.7,65.45,106.58,77.44,81.51,75.19,60.32,89.06,94.75,65.78,60.34,72.93,74.22,73.25,77.59,80.97,107.74,93.51,76.25,78.38,70.34,79.58,87.96,90.0,72.09,99.72,106.52,75.93,83.3,62.57,222.85,98.14,70.63,88.97,116.49,112.96,79.05,98.44,80.93,73.5,77.55,77.25,80.72,91.85,95.52,75.06,68.35,80.85,65.84,111.64,74.43,82.21,86.88,123.27,75.0,78.59,111.04,92.48,82.42,114.32,82.93,57.47,88.27,99.04,87.49,86.11,72.61,86.54,98.53,62.54,109.56,78.24,86.62,82.68,124.38,79.64,90.22,95.58,87.52,91.68,76.34,93.74,72.19,91.08,82.81,82.12,72.49,56.33,68.01,79.73,83.62,111.23,100.47,91.36,61.94,98.41,102.54,103.61,62.91,98.03,81.36,125.3,93.76,72.96,115.07,72.08,204.57,116.2,91.61,81.21,86.61,68.29,83.17,90.6,95.12,90.3,77.82,106.56,92.73,86.06,79.55,95.36,57.02,99.23,97.57,111.81,66.22,90.1,55.39,89.31,82.1,81.92,103.94,62.93,93.48,112.41,65.4,83.27,90.36,92.49,88.79,83.16,92.82,76.43,76.12,87.11,96.69,94.15,76.26,79.92,204.05,105.63,114.16,94.88,84.13,95.01,93.21,207.96,56.33,80.63,82.44,67.27,116.12,93.55,97.24,75.25,73.99,100.31,87.06,56.11,73.72,103.59,99.87,76.5,91.95,107.41,81.68,98.57,91.57,84.4,84.46,84.42,89.22,88.83,64.08,80.88,92.74,68.24,104.9,86.73,104.51,76.12,100.61,87.98,99.96,99.49,75.53,68.37,87.85,82.39,89.11,82.57,99.83,92.26,89.35,91.05,98.99,70.82,102.54,76.42,85.84,205.77,92.62,65.12,77.77,69.94,81.11,85.96,92.78,94.15,98.1,60.01,104.12,90.4,77.93,89.88,112.03,126.39,82.16,88.39,77.99,74.28,69.24,77.59,76.11,89.93,108.03,89.57,101.34,87.94,79.82,97.34,84.13,101.52,70.53,74.64,89.38,88.98,72.79,79.58,86.3,98.99,91.88,109.56,104.34,77.06,72.49,81.81,95.47,90.67,77.55,74.08,85.82,104.03,60.56,205.43,68.34,80.08,90.42,98.09,95.4,80.81,117.37,88.47,77.87,65.22,99.33,79.94,91.95,100.98,79.53,104.55,108.18,97.12,90.22,99.44,93.88,92.34,96.26,97.46,110.56,112.26,85.06,84.18,86.23,86.96,88.65,90.9,94.33,97.53,55.28,90.4,58.46,89.04,203.36,69.78,73.92,75.06,77.65,72.63,101.19,87.69,101.13,85.12],\"xaxis\":\"x\",\"yaxis\":\"y\",\"type\":\"histogram\"},{\"alignmentgroup\":\"True\",\"bingroup\":\"x\",\"hovertemplate\":\"avg_glucose_level=%{x}\\u003cbr\\u003ecount=%{y}\\u003cextra\\u003e\\u003c\\u002fextra\\u003e\",\"legendgroup\":\"\",\"marker\":{\"color\":\"black\",\"pattern\":{\"shape\":\"\"}},\"name\":\"\",\"offsetgroup\":\"\",\"orientation\":\"v\",\"showlegend\":false,\"x\":[97.57,182.9,64.92,80.63,95.58,60.98,100.1,78.11,102.61,74.03,82.42,78.92,97.06,105.52,95.49,219.73,259.63,89.28,205.26,93.52,105.58,56.95,73.32,70.51,112.25,73.71,80.99,86.43,97.51,109.56,110.69,240.71,101.96,87.24,78.68,86.93,94.11,92.11,70.02,60.49,92.72,180.93,66.01,72.53,57.56,93.6,100.71,60.98,87.62,78.16,198.69,71.2,90.43,60.94,56.11,217.83,97.06,81.64,62.52,98.09,221.24,197.51,98.65,93.62,91.02,78.46,198.21,196.98,90.3,93.02,83.02,79.79,78.7,78.96,101.23,191.61,102.11,203.04,58.38,114.71,208.3,105.55,228.2,72.99,91.01,56.11,78.28,62.98,86.62,93.23,75.0,78.68,82.31,98.42,78.44,86.01,229.73,93.24,74.09,111.81,103.68,80.03,65.42,221.6,75.0,78.46,86.67,87.95,101.31,96.02,74.99,74.9,97.92,77.59,228.69,123.49,77.48,80.88,93.62,228.2,91.02,75.27,56.98,71.3,82.63,94.44,98.14,84.62,102.23,109.47,111.71,106.51,201.38,228.92,74.9,77.16,75.19,78.96,218.46,116.62,70.28,95.62,101.31,72.61,74.96,77.59,84.31,93.28,68.38,60.94,213.43,93.48,221.43,254.63,79.2,75.19,213.33,116.1,85.83,87.1,199.84,56.11,81.54,208.3,74.64,74.26,76.12,225.6,110.38,92.06,109.56,73.72,74.17,239.19,90.73,72.81,76.11,102.87,102.96,105.61,59.62,116.44,90.55,78.09,98.9,82.94,97.04,59.52,100.98,74.1,110.56,91.32,91.32,78.16,98.14,148.24,80.86,217.74,97.47,228.42,97.24,68.52,104.51,207.63,97.95,74.36,80.83,68.94,98.02,93.88,94.06,59.89,198.3,106.41,59.53,81.77,68.28,58.09,81.76,75.98,196.92,81.68,74.0,91.02,116.04,101.02,174.54,228.69,162.14,219.5,75.0,76.11,91.25,85.12,197.69,211.03,228.2,210.94,97.89,110.82,70.94,78.03,213.33,78.16,102.48,78.99,62.02,62.48,69.88,74.0,116.65,89.93,60.94,78.16,105.22,82.81,129.97,89.85,220.24,90.91,72.24,73.73,74.12,74.12,67.02,88.4,72.72,216.33,101.85,74.44,77.04,142.63,106.43,98.14,116.44,97.76,90.57,240.71,87.0,105.29,94.69,97.43,105.29,76.03,77.57,103.43,94.23,219.81,95.12,228.92,87.77,217.94,106.47,203.81,82.85,74.5,86.92,195.23,95.44,116.5,102.34,90.98,79.02,58.28,68.12,229.3,79.2,78.14,231.56,82.72,79.79,71.93,65.71,84.21,90.6,185.0,88.27,77.82,219.71,57.02,98.55,74.36,86.5,73.36,84.03,80.42,86.06,97.37,81.0,93.4,116.66,84.4,71.06,57.92,70.51,240.59,84.03,104.36,84.9,102.3,59.62,190.32,88.34,58.17,57.51,78.7,74.9,82.27,58.66,84.31,73.29,77.06,90.23,99.27,228.71,202.38,56.21,231.61,96.0,96.23,71.81,196.71,106.83,97.6,70.09,81.26,79.73,98.91,243.73,90.43,64.44,109.56,249.31,80.98,83.07,70.09,78.91,112.24,56.33,91.88,74.03,79.79,186.54,81.95,88.78,84.93,75.06,101.3,211.83,116.66,91.92,88.51,95.01,105.92,78.24,60.22,211.63,89.54,70.73,88.02,94.01,105.22,239.28,77.94,67.06,86.96,196.91,59.61,64.17,95.86,93.3,78.68,103.44,223.35,233.29,92.26,197.51,213.54,207.96,211.78,101.32,170.05,96.02,82.56,228.7,77.98,71.29,107.52,102.1,88.62,76.7,102.39,90.01,68.09,112.66,76.12,83.89,201.01,84.88,69.29,75.22,130.34,80.63,80.77,59.26,101.22,201.07,96.16,58.55,75.0,111.15,95.31,101.19,202.67,124.37,59.26,78.68,94.98,101.05,67.55,87.92,106.54,72.99,82.1,98.45,231.15,110.47,104.7,92.82,58.42,206.53,77.16,217.78,96.77,70.13,69.84,78.68,219.81,196.71,82.71,91.05,59.62,218.46,84.17,92.98,95.82,90.77,80.63,82.21,86.78,102.92,79.63,59.11,123.95,211.83,90.41,87.2,116.43,97.57,88.78,206.09,93.74,74.11,83.76,74.63,95.25,170.05,89.2,124.49,102.53,82.59,227.1,243.58,70.3,101.43,198.33,92.62,60.34,77.46,110.17,235.54,78.16,78.03,75.46,69.84,267.6,109.46,86.21,74.05,82.31,78.07,240.86,221.79,85.62,85.81,77.32,75.94,75.09,96.02,85.84,77.67,93.13,68.56,62.47,86.68,68.12,59.86,68.79,95.16,216.88,72.67,82.59,75.29,91.68,92.99,70.94,97.73,66.32,202.38,107.43,84.4,196.81,93.61,243.73,162.14,101.05,112.07,227.28,207.95,95.49,93.05,91.72,80.43,74.17,57.82,79.3,70.23,82.57,100.61,83.34,77.92,101.3,79.28,244.28,91.68,56.79,111.96,60.34,101.58,77.04,75.95,73.0,206.59,75.19,120.77,186.32,91.02,68.8,66.2,74.9,107.29,86.04,96.26,76.51,73.56,70.11,76.08,114.01,144.9,83.91,71.07,70.0,83.51,92.21,82.09,82.85,91.02,72.54,74.28,76.63,124.37,59.28,69.94,87.77,68.8,90.42,85.79,60.98,95.84,98.39,99.1,60.98],\"xaxis\":\"x2\",\"yaxis\":\"y2\",\"type\":\"histogram\"}],                        {\"template\":{\"data\":{\"histogram2dcontour\":[{\"type\":\"histogram2dcontour\",\"colorbar\":{\"outlinewidth\":0,\"ticks\":\"\"},\"colorscale\":[[0.0,\"#0d0887\"],[0.1111111111111111,\"#46039f\"],[0.2222222222222222,\"#7201a8\"],[0.3333333333333333,\"#9c179e\"],[0.4444444444444444,\"#bd3786\"],[0.5555555555555556,\"#d8576b\"],[0.6666666666666666,\"#ed7953\"],[0.7777777777777778,\"#fb9f3a\"],[0.8888888888888888,\"#fdca26\"],[1.0,\"#f0f921\"]]}],\"choropleth\":[{\"type\":\"choropleth\",\"colorbar\":{\"outlinewidth\":0,\"ticks\":\"\"}}],\"histogram2d\":[{\"type\":\"histogram2d\",\"colorbar\":{\"outlinewidth\":0,\"ticks\":\"\"},\"colorscale\":[[0.0,\"#0d0887\"],[0.1111111111111111,\"#46039f\"],[0.2222222222222222,\"#7201a8\"],[0.3333333333333333,\"#9c179e\"],[0.4444444444444444,\"#bd3786\"],[0.5555555555555556,\"#d8576b\"],[0.6666666666666666,\"#ed7953\"],[0.7777777777777778,\"#fb9f3a\"],[0.8888888888888888,\"#fdca26\"],[1.0,\"#f0f921\"]]}],\"heatmap\":[{\"type\":\"heatmap\",\"colorbar\":{\"outlinewidth\":0,\"ticks\":\"\"},\"colorscale\":[[0.0,\"#0d0887\"],[0.1111111111111111,\"#46039f\"],[0.2222222222222222,\"#7201a8\"],[0.3333333333333333,\"#9c179e\"],[0.4444444444444444,\"#bd3786\"],[0.5555555555555556,\"#d8576b\"],[0.6666666666666666,\"#ed7953\"],[0.7777777777777778,\"#fb9f3a\"],[0.8888888888888888,\"#fdca26\"],[1.0,\"#f0f921\"]]}],\"heatmapgl\":[{\"type\":\"heatmapgl\",\"colorbar\":{\"outlinewidth\":0,\"ticks\":\"\"},\"colorscale\":[[0.0,\"#0d0887\"],[0.1111111111111111,\"#46039f\"],[0.2222222222222222,\"#7201a8\"],[0.3333333333333333,\"#9c179e\"],[0.4444444444444444,\"#bd3786\"],[0.5555555555555556,\"#d8576b\"],[0.6666666666666666,\"#ed7953\"],[0.7777777777777778,\"#fb9f3a\"],[0.8888888888888888,\"#fdca26\"],[1.0,\"#f0f921\"]]}],\"contourcarpet\":[{\"type\":\"contourcarpet\",\"colorbar\":{\"outlinewidth\":0,\"ticks\":\"\"}}],\"contour\":[{\"type\":\"contour\",\"colorbar\":{\"outlinewidth\":0,\"ticks\":\"\"},\"colorscale\":[[0.0,\"#0d0887\"],[0.1111111111111111,\"#46039f\"],[0.2222222222222222,\"#7201a8\"],[0.3333333333333333,\"#9c179e\"],[0.4444444444444444,\"#bd3786\"],[0.5555555555555556,\"#d8576b\"],[0.6666666666666666,\"#ed7953\"],[0.7777777777777778,\"#fb9f3a\"],[0.8888888888888888,\"#fdca26\"],[1.0,\"#f0f921\"]]}],\"surface\":[{\"type\":\"surface\",\"colorbar\":{\"outlinewidth\":0,\"ticks\":\"\"},\"colorscale\":[[0.0,\"#0d0887\"],[0.1111111111111111,\"#46039f\"],[0.2222222222222222,\"#7201a8\"],[0.3333333333333333,\"#9c179e\"],[0.4444444444444444,\"#bd3786\"],[0.5555555555555556,\"#d8576b\"],[0.6666666666666666,\"#ed7953\"],[0.7777777777777778,\"#fb9f3a\"],[0.8888888888888888,\"#fdca26\"],[1.0,\"#f0f921\"]]}],\"mesh3d\":[{\"type\":\"mesh3d\",\"colorbar\":{\"outlinewidth\":0,\"ticks\":\"\"}}],\"scatter\":[{\"fillpattern\":{\"fillmode\":\"overlay\",\"size\":10,\"solidity\":0.2},\"type\":\"scatter\"}],\"parcoords\":[{\"type\":\"parcoords\",\"line\":{\"colorbar\":{\"outlinewidth\":0,\"ticks\":\"\"}}}],\"scatterpolargl\":[{\"type\":\"scatterpolargl\",\"marker\":{\"colorbar\":{\"outlinewidth\":0,\"ticks\":\"\"}}}],\"bar\":[{\"error_x\":{\"color\":\"#2a3f5f\"},\"error_y\":{\"color\":\"#2a3f5f\"},\"marker\":{\"line\":{\"color\":\"#E5ECF6\",\"width\":0.5},\"pattern\":{\"fillmode\":\"overlay\",\"size\":10,\"solidity\":0.2}},\"type\":\"bar\"}],\"scattergeo\":[{\"type\":\"scattergeo\",\"marker\":{\"colorbar\":{\"outlinewidth\":0,\"ticks\":\"\"}}}],\"scatterpolar\":[{\"type\":\"scatterpolar\",\"marker\":{\"colorbar\":{\"outlinewidth\":0,\"ticks\":\"\"}}}],\"histogram\":[{\"marker\":{\"pattern\":{\"fillmode\":\"overlay\",\"size\":10,\"solidity\":0.2}},\"type\":\"histogram\"}],\"scattergl\":[{\"type\":\"scattergl\",\"marker\":{\"colorbar\":{\"outlinewidth\":0,\"ticks\":\"\"}}}],\"scatter3d\":[{\"type\":\"scatter3d\",\"line\":{\"colorbar\":{\"outlinewidth\":0,\"ticks\":\"\"}},\"marker\":{\"colorbar\":{\"outlinewidth\":0,\"ticks\":\"\"}}}],\"scattermapbox\":[{\"type\":\"scattermapbox\",\"marker\":{\"colorbar\":{\"outlinewidth\":0,\"ticks\":\"\"}}}],\"scatterternary\":[{\"type\":\"scatterternary\",\"marker\":{\"colorbar\":{\"outlinewidth\":0,\"ticks\":\"\"}}}],\"scattercarpet\":[{\"type\":\"scattercarpet\",\"marker\":{\"colorbar\":{\"outlinewidth\":0,\"ticks\":\"\"}}}],\"carpet\":[{\"aaxis\":{\"endlinecolor\":\"#2a3f5f\",\"gridcolor\":\"white\",\"linecolor\":\"white\",\"minorgridcolor\":\"white\",\"startlinecolor\":\"#2a3f5f\"},\"baxis\":{\"endlinecolor\":\"#2a3f5f\",\"gridcolor\":\"white\",\"linecolor\":\"white\",\"minorgridcolor\":\"white\",\"startlinecolor\":\"#2a3f5f\"},\"type\":\"carpet\"}],\"table\":[{\"cells\":{\"fill\":{\"color\":\"#EBF0F8\"},\"line\":{\"color\":\"white\"}},\"header\":{\"fill\":{\"color\":\"#C8D4E3\"},\"line\":{\"color\":\"white\"}},\"type\":\"table\"}],\"barpolar\":[{\"marker\":{\"line\":{\"color\":\"#E5ECF6\",\"width\":0.5},\"pattern\":{\"fillmode\":\"overlay\",\"size\":10,\"solidity\":0.2}},\"type\":\"barpolar\"}],\"pie\":[{\"automargin\":true,\"type\":\"pie\"}]},\"layout\":{\"autotypenumbers\":\"strict\",\"colorway\":[\"#636efa\",\"#EF553B\",\"#00cc96\",\"#ab63fa\",\"#FFA15A\",\"#19d3f3\",\"#FF6692\",\"#B6E880\",\"#FF97FF\",\"#FECB52\"],\"font\":{\"color\":\"#2a3f5f\"},\"hovermode\":\"closest\",\"hoverlabel\":{\"align\":\"left\"},\"paper_bgcolor\":\"white\",\"plot_bgcolor\":\"#E5ECF6\",\"polar\":{\"bgcolor\":\"#E5ECF6\",\"angularaxis\":{\"gridcolor\":\"white\",\"linecolor\":\"white\",\"ticks\":\"\"},\"radialaxis\":{\"gridcolor\":\"white\",\"linecolor\":\"white\",\"ticks\":\"\"}},\"ternary\":{\"bgcolor\":\"#E5ECF6\",\"aaxis\":{\"gridcolor\":\"white\",\"linecolor\":\"white\",\"ticks\":\"\"},\"baxis\":{\"gridcolor\":\"white\",\"linecolor\":\"white\",\"ticks\":\"\"},\"caxis\":{\"gridcolor\":\"white\",\"linecolor\":\"white\",\"ticks\":\"\"}},\"coloraxis\":{\"colorbar\":{\"outlinewidth\":0,\"ticks\":\"\"}},\"colorscale\":{\"sequential\":[[0.0,\"#0d0887\"],[0.1111111111111111,\"#46039f\"],[0.2222222222222222,\"#7201a8\"],[0.3333333333333333,\"#9c179e\"],[0.4444444444444444,\"#bd3786\"],[0.5555555555555556,\"#d8576b\"],[0.6666666666666666,\"#ed7953\"],[0.7777777777777778,\"#fb9f3a\"],[0.8888888888888888,\"#fdca26\"],[1.0,\"#f0f921\"]],\"sequentialminus\":[[0.0,\"#0d0887\"],[0.1111111111111111,\"#46039f\"],[0.2222222222222222,\"#7201a8\"],[0.3333333333333333,\"#9c179e\"],[0.4444444444444444,\"#bd3786\"],[0.5555555555555556,\"#d8576b\"],[0.6666666666666666,\"#ed7953\"],[0.7777777777777778,\"#fb9f3a\"],[0.8888888888888888,\"#fdca26\"],[1.0,\"#f0f921\"]],\"diverging\":[[0,\"#8e0152\"],[0.1,\"#c51b7d\"],[0.2,\"#de77ae\"],[0.3,\"#f1b6da\"],[0.4,\"#fde0ef\"],[0.5,\"#f7f7f7\"],[0.6,\"#e6f5d0\"],[0.7,\"#b8e186\"],[0.8,\"#7fbc41\"],[0.9,\"#4d9221\"],[1,\"#276419\"]]},\"xaxis\":{\"gridcolor\":\"white\",\"linecolor\":\"white\",\"ticks\":\"\",\"title\":{\"standoff\":15},\"zerolinecolor\":\"white\",\"automargin\":true,\"zerolinewidth\":2},\"yaxis\":{\"gridcolor\":\"white\",\"linecolor\":\"white\",\"ticks\":\"\",\"title\":{\"standoff\":15},\"zerolinecolor\":\"white\",\"automargin\":true,\"zerolinewidth\":2},\"scene\":{\"xaxis\":{\"backgroundcolor\":\"#E5ECF6\",\"gridcolor\":\"white\",\"linecolor\":\"white\",\"showbackground\":true,\"ticks\":\"\",\"zerolinecolor\":\"white\",\"gridwidth\":2},\"yaxis\":{\"backgroundcolor\":\"#E5ECF6\",\"gridcolor\":\"white\",\"linecolor\":\"white\",\"showbackground\":true,\"ticks\":\"\",\"zerolinecolor\":\"white\",\"gridwidth\":2},\"zaxis\":{\"backgroundcolor\":\"#E5ECF6\",\"gridcolor\":\"white\",\"linecolor\":\"white\",\"showbackground\":true,\"ticks\":\"\",\"zerolinecolor\":\"white\",\"gridwidth\":2}},\"shapedefaults\":{\"line\":{\"color\":\"#2a3f5f\"}},\"annotationdefaults\":{\"arrowcolor\":\"#2a3f5f\",\"arrowhead\":0,\"arrowwidth\":1},\"geo\":{\"bgcolor\":\"white\",\"landcolor\":\"#E5ECF6\",\"subunitcolor\":\"white\",\"showland\":true,\"showlakes\":true,\"lakecolor\":\"white\"},\"title\":{\"x\":0.05},\"mapbox\":{\"style\":\"light\"}}},\"xaxis\":{\"anchor\":\"y\",\"domain\":[0.0,0.45],\"title\":{\"text\":\"Average Glucose Level\"}},\"yaxis\":{\"anchor\":\"x\",\"domain\":[0.0,1.0],\"title\":{\"text\":\"Count\"}},\"xaxis2\":{\"anchor\":\"y2\",\"domain\":[0.55,1.0],\"title\":{\"text\":\"Average Glucose Level\"}},\"yaxis2\":{\"anchor\":\"x2\",\"domain\":[0.0,1.0],\"title\":{\"text\":\"Count\"}},\"annotations\":[{\"font\":{\"size\":16},\"showarrow\":false,\"text\":\"No Stroke\",\"x\":0.225,\"xanchor\":\"center\",\"xref\":\"paper\",\"y\":1.0,\"yanchor\":\"bottom\",\"yref\":\"paper\"},{\"font\":{\"size\":16},\"showarrow\":false,\"text\":\"Yes Stroke\",\"x\":0.775,\"xanchor\":\"center\",\"xref\":\"paper\",\"y\":1.0,\"yanchor\":\"bottom\",\"yref\":\"paper\"}],\"title\":{\"text\":\"Average Glucose Level Distribution by Stroke\",\"x\":0.5}},                        {\"responsive\": true}                    ).then(function(){\n",
              "                            \n",
              "var gd = document.getElementById('e4180b25-0c6e-47a1-9bd0-17dfbf64382a');\n",
              "var x = new MutationObserver(function (mutations, observer) {{\n",
              "        var display = window.getComputedStyle(gd).display;\n",
              "        if (!display || display === 'none') {{\n",
              "            console.log([gd, 'removed!']);\n",
              "            Plotly.purge(gd);\n",
              "            observer.disconnect();\n",
              "        }}\n",
              "}});\n",
              "\n",
              "// Listen for the removal of the full notebook cells\n",
              "var notebookContainer = gd.closest('#notebook-container');\n",
              "if (notebookContainer) {{\n",
              "    x.observe(notebookContainer, {childList: true});\n",
              "}}\n",
              "\n",
              "// Listen for the clearing of the current output cell\n",
              "var outputEl = gd.closest('.output');\n",
              "if (outputEl) {{\n",
              "    x.observe(outputEl, {childList: true});\n",
              "}}\n",
              "\n",
              "                        })                };                            </script>        </div>\n",
              "</body>\n",
              "</html>"
            ]
          },
          "metadata": {}
        }
      ]
    },
    {
      "cell_type": "code",
      "source": [
        "fig = custom_historgram('age', ['Age Distribution by stroke', 'Age'])\n",
        "# fig.show('svg')\n",
        "fig.show()"
      ],
      "metadata": {
        "colab": {
          "base_uri": "https://localhost:8080/",
          "height": 542
        },
        "id": "4csJIMelW-p3",
        "outputId": "331e55a9-7d5c-46ce-d5de-d02bc72ba4e8"
      },
      "execution_count": null,
      "outputs": [
        {
          "output_type": "display_data",
          "data": {
            "text/html": [
              "<html>\n",
              "<head><meta charset=\"utf-8\" /></head>\n",
              "<body>\n",
              "    <div>            <script src=\"https://cdnjs.cloudflare.com/ajax/libs/mathjax/2.7.5/MathJax.js?config=TeX-AMS-MML_SVG\"></script><script type=\"text/javascript\">if (window.MathJax && window.MathJax.Hub && window.MathJax.Hub.Config) {window.MathJax.Hub.Config({SVG: {font: \"STIX-Web\"}});}</script>                <script type=\"text/javascript\">window.PlotlyConfig = {MathJaxConfig: 'local'};</script>\n",
              "        <script charset=\"utf-8\" src=\"https://cdn.plot.ly/plotly-2.35.2.min.js\"></script>                <div id=\"3984949c-c9b7-4089-9cfb-81f84e07efb4\" class=\"plotly-graph-div\" style=\"height:525px; width:100%;\"></div>            <script type=\"text/javascript\">                                    window.PLOTLYENV=window.PLOTLYENV || {};                                    if (document.getElementById(\"3984949c-c9b7-4089-9cfb-81f84e07efb4\")) {                    Plotly.newPlot(                        \"3984949c-c9b7-4089-9cfb-81f84e07efb4\",                        [{\"alignmentgroup\":\"True\",\"bingroup\":\"x\",\"hovertemplate\":\"age=%{x}\\u003cbr\\u003ecount=%{y}\\u003cextra\\u003e\\u003c\\u002fextra\\u003e\",\"legendgroup\":\"\",\"marker\":{\"color\":\"#008080\",\"pattern\":{\"shape\":\"\"}},\"name\":\"\",\"offsetgroup\":\"\",\"orientation\":\"v\",\"showlegend\":false,\"x\":[28.0,33.0,42.0,56.0,24.0,34.0,53.0,78.0,45.0,62.0,51.0,45.0,4.0,23.0,36.0,59.0,42.0,40.0,47.0,31.0,31.0,2.0,71.0,50.0,59.0,38.0,57.0,12.0,61.0,4.0,48.0,17.0,58.0,26.0,56.0,24.0,51.0,8.0,38.0,2.0,39.0,39.0,52.0,19.0,54.0,72.0,42.0,42.0,15.0,71.0,59.0,11.0,42.0,39.0,42.0,76.0,82.0,28.0,18.0,74.0,52.0,43.0,21.0,65.0,9.0,45.0,68.0,31.0,52.0,38.0,48.0,44.0,42.0,32.0,26.0,7.0,25.0,28.0,54.0,47.0,32.0,79.0,63.0,40.0,17.0,5.0,59.0,54.0,55.0,81.0,79.0,42.0,5.0,10.0,50.0,3.0,60.0,59.0,19.0,49.0,1.0,63.0,38.0,5.0,2.0,55.0,54.0,19.0,49.0,17.0,51.0,26.0,25.0,6.0,47.0,39.0,4.0,50.0,70.0,73.0,15.0,20.0,61.0,46.0,26.0,78.0,45.0,56.0,55.0,54.0,34.0,76.0,12.0,49.0,49.0,55.0,48.0,45.0,34.0,8.0,31.0,25.0,70.0,48.0,17.0,9.0,37.0,45.0,34.0,67.0,29.0,29.0,55.0,39.0,21.0,43.0,50.0,38.0,59.0,78.0,28.0,57.0,32.0,38.0,28.0,78.0,7.0,61.0,2.0,38.0,30.0,26.0,78.0,30.0,14.0,63.0,50.0,52.0,82.0,63.0,45.0,79.0,62.0,50.0,7.0,11.0,78.0,57.0,54.0,3.0,11.0,36.0,75.0,12.0,53.0,26.0,32.0,2.0,52.0,37.0,61.0,63.0,52.0,49.0,79.0,17.0,61.0,51.0,10.0,30.0,53.0,54.0,51.0,44.0,33.0,56.0,2.0,22.0,20.0,31.0,30.0,49.0,3.0,20.0,50.0,43.0,55.0,74.0,32.0,50.0,51.0,5.0,26.0,27.0,77.0,35.0,9.0,61.0,66.0,55.0,23.0,54.0,45.0,37.0,65.0,39.0,42.0,2.0,2.0,21.0,20.0,58.0,19.0,44.0,43.0,18.0,53.0,78.0,57.0,59.0,1.0,24.0,13.0,49.0,2.0,54.0,63.0,54.0,78.0,34.0,39.0,42.0,20.0,63.0,31.0,35.0,30.0,45.0,28.0,39.0,44.0,2.0,47.0,14.0,50.0,61.0,13.0,32.0,48.0,51.0,23.0,17.0,37.0,32.0,47.0,43.0,61.0,80.0,2.0,25.0,21.0,44.0,66.0,22.0,52.0,51.0,55.0,27.0,59.0,41.0,26.0,60.0,57.0,62.0,12.0,52.0,78.0,31.0,24.0,32.0,44.0,19.0,55.0,57.0,40.0,57.0,19.0,12.0,58.0,76.0,56.0,19.0,37.0,54.0,29.0,19.0,52.0,57.0,59.0,25.0,54.0,57.0,44.0,27.0,52.0,61.0,6.0,60.0,66.0,30.0,34.0,39.0,59.0,23.0,11.0,55.0,39.0,57.0,41.0,25.0,47.0,69.0,52.0,3.0,21.0,24.0,49.0,46.0,57.0,37.0,27.0,53.0,31.0,47.0,64.0,40.0,53.0,44.0,51.0,2.0,52.0,53.0,55.0,38.0,54.0,49.0,18.0,17.0,61.0,59.0,46.0,29.0,49.0,73.0,31.0,12.0,26.0,51.0,5.0,56.0,55.0,1.0,37.0,39.0,2.0,79.0,55.0,3.0,8.0,5.0,43.0,31.0,74.0,37.0,42.0,25.0,24.0,56.0,61.0,32.0,34.0,45.0,53.0,37.0,79.0,26.0,34.0,62.0,50.0,34.0,67.0,5.0,29.0,46.0,23.0,33.0,53.0,38.0,31.0,42.0,45.0,57.0,49.0,1.0,50.0,51.0,44.0,37.0,23.0,34.0,57.0,56.0,59.0,14.0,50.0,71.0,56.0,55.0,16.0,52.0,76.0,80.0,79.0,20.0,32.0,61.0,73.0,81.0,22.0,16.0,55.0,54.0,48.0,62.0,50.0,65.0,49.0,20.0,2.0,59.0,30.0,37.0,67.0,46.0,47.0,57.0,55.0,34.0,23.0,33.0,52.0,2.0,22.0,53.0,79.0,26.0,5.0,79.0,19.0,32.0,39.0,13.0,43.0,25.0,75.0,61.0,53.0,8.0,57.0,17.0,47.0,29.0,62.0,48.0,54.0,47.0,17.0,11.0,39.0,60.0,46.0,62.0,37.0,42.0,68.0,3.0,36.0,10.0,35.0,74.0,60.0,2.0,2.0,59.0,82.0,58.0,44.0,43.0,65.0,39.0,29.0,20.0,47.0,60.0,21.0,34.0,44.0,38.0,43.0,51.0,63.0,50.0,62.0,61.0,78.0,57.0,23.0,56.0,58.0,43.0,67.0,79.0,31.0,26.0,40.0,31.0,4.0,63.0,32.0,57.0,18.0,51.0,33.0,39.0,17.0,41.0,56.0,45.0,54.0,31.0,32.0,40.0,50.0,15.0,2.0,32.0,40.0,58.0,8.0,45.0,37.0,59.0,29.0,39.0,48.0,78.0,80.0,52.0,37.0,45.0,21.0,13.0,50.0,37.0,5.0,61.0,55.0,42.0,4.0,80.0,34.0,11.0,69.0,38.0,33.0,50.0,26.0,60.0,79.0,2.0,44.0,63.0,13.0,57.0,41.0,9.0,70.0,13.0,35.0,82.0,52.0,46.0,64.0,6.0,65.0,44.0,49.0,49.0,33.0,8.0,79.0,25.0,40.0,14.0,45.0,57.0,69.0,17.0,18.0,27.0,30.0,20.0,32.0,43.0,50.0,45.0,38.0,54.0,41.0,81.0,23.0,32.0,47.0,52.0,76.0,55.0,10.0,41.0,72.0,39.0,58.0,26.0,61.0,56.0,32.0,37.0,32.0,17.0,78.0,15.0,4.0,60.0,52.0,17.0,30.0,6.0,51.0,48.0,38.0,79.0,19.0,52.0,54.0,52.0,25.0,43.0,58.0,66.0,64.0,34.0,42.0,52.0,42.0,28.0,34.0,38.0,28.0,8.0,52.0,2.0,7.0,47.0,27.0,37.0,21.0,38.0,50.0,52.0,56.0,29.0,18.0,21.0,12.0,67.0,26.0,63.0,18.0,79.0,42.0,32.0,2.0,25.0,2.0,19.0,62.0,66.0,51.0,39.0,51.0,39.0,54.0,56.0,78.0,64.0,55.0,27.0,35.0,32.0,53.0,56.0,25.0,79.0,56.0,45.0,55.0,8.0,73.0,19.0,63.0,29.0,54.0,75.0,22.0,8.0,65.0,3.0,38.0,60.0,38.0,38.0,22.0,12.0,19.0,68.0,60.0,54.0,24.0,25.0,32.0,38.0,23.0,44.0,41.0,62.0,54.0,33.0,75.0,44.0,20.0,46.0,26.0,36.0,4.0,33.0,78.0,60.0,26.0,30.0,50.0,50.0,75.0,33.0,27.0,27.0,20.0,49.0,33.0,57.0,23.0,21.0,61.0,66.0,45.0,60.0,23.0,37.0,57.0,50.0,36.0,53.0,20.0,31.0,10.0,62.0,38.0,18.0,29.0,36.0,7.0,79.0,21.0,48.0,38.0,36.0,28.0,75.0,18.0,53.0,7.0,80.0,38.0,24.0,39.0,13.0,46.0,37.0,36.0,14.0,13.0,63.0,52.0,31.0,82.0,55.0,26.0,68.0,42.0,53.0,77.0,39.0,46.0,2.0,5.0,28.0,20.0,59.0,53.0,24.0,30.0,40.0,78.0,14.0,57.0,48.0,42.0,8.0,26.0,2.0,39.0,79.0,31.0,53.0,43.0,48.0,8.0,38.0,44.0,54.0,62.0,59.0,36.0,16.0,30.0,32.0,11.0,55.0,59.0,14.0,1.0,57.0,27.0,55.0,60.0,60.0,62.0,54.0,64.0,55.0,20.0,50.0,40.0,41.0,20.0,35.0,13.0,3.0,57.0,12.0,2.0,39.0,60.0,42.0,1.0,58.0,68.0,21.0,38.0,49.0,47.0,65.0,18.0,48.0,27.0,35.0,78.0,44.0,39.0,46.0,15.0,45.0,28.0,81.0,30.0,59.0,43.0,4.0,52.0,24.0,40.0,41.0,38.0,32.0,29.0,5.0,13.0,23.0,50.0,53.0,5.0,56.0,48.0,18.0,32.0,58.0,43.0,26.0,39.0,55.0,44.0,54.0,52.0,54.0,8.0,37.0,2.0,44.0,41.0,49.0,27.0,48.0,79.0,2.0,5.0,8.0,19.0,13.0,5.0,27.0,20.0,58.0,39.0,43.0,61.0,20.0,39.0,64.0,78.0,21.0,2.0,59.0,17.0,63.0,23.0,18.0,30.0,55.0,12.0,26.0,59.0,80.0,47.0,66.0,61.0,41.0,43.0,57.0,79.0,20.0,46.0,37.0,2.0,64.0,58.0,53.0,55.0,31.0,51.0,33.0,61.0,45.0,2.0,37.0,65.0,31.0,12.0,13.0,23.0,18.0,78.0,44.0,2.0,8.0,54.0,15.0,65.0,37.0,74.0,78.0,31.0,21.0,54.0,54.0,31.0,2.0,81.0,50.0,48.0,32.0,15.0,34.0,45.0,34.0,78.0,78.0,19.0,63.0,62.0,55.0,38.0,65.0,60.0,33.0,32.0,20.0,56.0,51.0,53.0,56.0,3.0,56.0,5.0,5.0,59.0,61.0,31.0,42.0,76.0,16.0,41.0,50.0,18.0,52.0,58.0,8.0,58.0,74.0,4.0,49.0,66.0,48.0,45.0,33.0,31.0,39.0,2.0,47.0,47.0,71.0,34.0,5.0,35.0,5.0,57.0,11.0,18.0,31.0,55.0,52.0,49.0,5.0,49.0,34.0,56.0,37.0,52.0,2.0,50.0,8.0,57.0,2.0,58.0,15.0,58.0,13.0,32.0,23.0,53.0,3.0,17.0,30.0,78.0,50.0,23.0,40.0,50.0,71.0,71.0,30.0,61.0,53.0,57.0,26.0,46.0,31.0,43.0,66.0,51.0,6.0,26.0,38.0,2.0,61.0,38.0,37.0,37.0,71.0,41.0,23.0,62.0,22.0,65.0,37.0,5.0,44.0,16.0,74.0,49.0,57.0,24.0,34.0,27.0,38.0,37.0,57.0,49.0,60.0,62.0,14.0,31.0,41.0,29.0,12.0,50.0,40.0,2.0,40.0,57.0,47.0,54.0,20.0,50.0,2.0,16.0,57.0,51.0,42.0,51.0,4.0,32.0,56.0,27.0,62.0,23.0,69.0,13.0,49.0,69.0,56.0,54.0,78.0,54.0,39.0,49.0,20.0,49.0,43.0,16.0,40.0,9.0,55.0,35.0,51.0,26.0,48.0,5.0,30.0,51.0,62.0,47.0,1.0,60.0,33.0,34.0,5.0,41.0,2.0,22.0,67.0,21.0,31.0,78.0,51.0,33.0,37.0,41.0,14.0,15.0,25.0,28.0,39.0,47.0,14.0,10.0,47.0,17.0,54.0,55.0,29.0,38.0,44.0,65.0,45.0,8.0,62.0,38.0,54.0,71.0,62.0,44.0,64.0,53.0,74.0,74.0,49.0,28.0,66.0,43.0,13.0,57.0,24.0,57.0,20.0,52.0,36.0,14.0,49.0,41.0,54.0,24.0,17.0,44.0,59.0,79.0,43.0,38.0,54.0,40.0,54.0,30.0,30.0,66.0,24.0,13.0,9.0,47.0,36.0,42.0,45.0,41.0,40.0,48.0,21.0,2.0,42.0,61.0,58.0,37.0,33.0,50.0,56.0,18.0,43.0,42.0,20.0,76.0,32.0,38.0,37.0,51.0,75.0,38.0,80.0,3.0,13.0,50.0,46.0,2.0,22.0,27.0,50.0,54.0,33.0,75.0,23.0,5.0,20.0,63.0,5.0,46.0,59.0,53.0,23.0,35.0,17.0,2.0,56.0,32.0,55.0,24.0,36.0,80.0,59.0,56.0,53.0,23.0,33.0,57.0,62.0,50.0,9.0,70.0,46.0,31.0,62.0,35.0,64.0,43.0,34.0,42.0,49.0,18.0,42.0,18.0,49.0,47.0,69.0,32.0,18.0,61.0,71.0,28.0,43.0,57.0,33.0,52.0,2.0,55.0,50.0,6.0,80.0,62.0,49.0,51.0,8.0,7.0,50.0,11.0,44.0,58.0,41.0,31.0,25.0,37.0,79.0,4.0,61.0,49.0,58.0,13.0,59.0,31.0,11.0,55.0,25.0,33.0,34.0,49.0,55.0,32.0,54.0,46.0,49.0,45.0,52.0,43.0,70.0,38.0,43.0,44.0,45.0,5.0,59.0,30.0,2.0,51.0,17.0,20.0,39.0,3.0,78.0,19.0,54.0,15.0,3.0,57.0,23.0,7.0,49.0,79.0,2.0,33.0,41.0,51.0,49.0,68.0,27.0,9.0,5.0,7.0,25.0,8.0,14.0,21.0,56.0,40.0,11.0,66.0,75.0,57.0,39.0,43.0,78.0,55.0,33.0,79.0,62.0,32.0,12.0,80.0,43.0,1.0,27.0,8.0,79.0,38.0,5.0,17.0,37.0,25.0,2.0,55.0,9.0,53.0,59.0,5.0,19.0,48.0,64.0,5.0,26.0,47.0,34.0,30.0,65.0,16.0,49.0,46.0,62.0,65.0,50.0,32.0,64.0,36.0,79.0,27.0,55.0,24.0,55.0,22.0,12.0,35.0,77.0,53.0,44.0,56.0,38.0,73.0,21.0,21.0,32.0,49.0,55.0,2.0,34.0,56.0,74.0,48.0,5.0,21.0,78.0,55.0,48.0,52.0,16.0,80.0,48.0,47.0,14.0,14.0,29.0,61.0,29.0,52.0,66.0,47.0,58.0,36.0,59.0,24.0,27.0,43.0,54.0,27.0,2.0,52.0,31.0,5.0,2.0,45.0,62.0,38.0,28.0,49.0,56.0,42.0,50.0,45.0,52.0,34.0,16.0,32.0,23.0,28.0,44.0,37.0,49.0,62.0,26.0,43.0,63.0,9.0,37.0,79.0,55.0,32.0,55.0,47.0,64.0,13.0,58.0,42.0,15.0,32.0,34.0,56.0,82.0,31.0,37.0,2.0,65.0,67.0,57.0,66.0,2.0,25.0,53.0,38.0,8.0,78.0,65.0,26.0,35.0,66.0,58.0,62.0,25.0,1.0,45.0,80.0,11.0,1.0,2.0,32.0,20.0,3.0,22.0,23.0,61.0,32.0,13.0,18.0,7.0,78.0,18.0,54.0,18.0,11.0,43.0,28.0,39.0,23.0,50.0,55.0,79.0,55.0,41.0,54.0,20.0,20.0,52.0,40.0,30.0,21.0,35.0,45.0,50.0,73.0,8.0,61.0,39.0,18.0,61.0,41.0,30.0,22.0,2.0,61.0,60.0,59.0,66.0,45.0,51.0,38.0,54.0,17.0,58.0,49.0,39.0,45.0,29.0,47.0,80.0,33.0,1.0,42.0,41.0,41.0,60.0,32.0,44.0,58.0,2.0,15.0,64.0,49.0,61.0,62.0,78.0,34.0,66.0,50.0,31.0,26.0,52.0,26.0,46.0,78.0,79.0,5.0,47.0,48.0,54.0,56.0,51.0,17.0,2.0,60.0,62.0,80.0,78.0,41.0,41.0,39.0,25.0,55.0,25.0,50.0,31.0,59.0,44.0,13.0,62.0,2.0,38.0,37.0,80.0,18.0,52.0,45.0,62.0,47.0,79.0,65.0,79.0,65.0,61.0,27.0,78.0,3.0,2.0,13.0,66.0,34.0,79.0,2.0,54.0,22.0,35.0,32.0,28.0,77.0,1.0,78.0,55.0,6.0,27.0,25.0,82.0,48.0,9.0,13.0,79.0,32.0,36.0,56.0,23.0,11.0,57.0,66.0,17.0,35.0,46.0,65.0,47.0,49.0,2.0,38.0,12.0,62.0,50.0,17.0,81.0,41.0,48.0,34.0,81.0,56.0,55.0,78.0,57.0,37.0,10.0,52.0,20.0,28.0,28.0,1.0,52.0,41.0,58.0,5.0,56.0,42.0,22.0,46.0,50.0,39.0,55.0,24.0,31.0,44.0,37.0,52.0,59.0,19.0,47.0,19.0,63.0,56.0,50.0,58.0,31.0,55.0,38.0,27.0,14.0,78.0,29.0,31.0,1.0,2.0,43.0,8.0,57.0,16.0,29.0,13.0,62.0,44.0,36.0,35.0,66.0,48.0,14.0,82.0,45.0,38.0,55.0,12.0,7.0,32.0,17.0,63.0,39.0,40.0,53.0,62.0,31.0,78.0,37.0,59.0,31.0,39.0,42.0,52.0,5.0,50.0,78.0,57.0,53.0,37.0,9.0,47.0,78.0,54.0,3.0,42.0,2.0,51.0,14.0,50.0,44.0,39.0,61.0,32.0,19.0,51.0,55.0,62.0,24.0,13.0,52.0,49.0,23.0,43.0,46.0,7.0,53.0,21.0,65.0,64.0,21.0,61.0,69.0,44.0,8.0,61.0,28.0,39.0,42.0,56.0,61.0,30.0,55.0,1.0,38.0,60.0,78.0,51.0,33.0,45.0,54.0,16.0,38.0,60.0,6.0,80.0,2.0,57.0,72.0,8.0,59.0,60.0,82.0,50.0,34.0,43.0,79.0,79.0,34.0,71.0,50.0,66.0,69.0,40.0,48.0,8.0,69.0,8.0,17.0,34.0,39.0,40.0,28.0,18.0,65.0,33.0,78.0,35.0,6.0,66.0,43.0,49.0,51.0,54.0,17.0,49.0,49.0,40.0,12.0,4.0,59.0,73.0,53.0,80.0,25.0,33.0,34.0,53.0,18.0,32.0,78.0,41.0,45.0,46.0,13.0,41.0,26.0,53.0,42.0,56.0,37.0,23.0,46.0,61.0,49.0,5.0,65.0,57.0,24.0,3.0,67.0,57.0,28.0,63.0,16.0,42.0,44.0,20.0,61.0,81.0,59.0,59.0,37.0,60.0,51.0,26.0,63.0,10.0,53.0,2.0,10.0,14.0,53.0,47.0,30.0,35.0,26.0,40.0,59.0,52.0,25.0,20.0,12.0,79.0,43.0,51.0,35.0,37.0,31.0,17.0,2.0,47.0,56.0,78.0,42.0,79.0,53.0,62.0,13.0,41.0,10.0,66.0,79.0,78.0,56.0,57.0,1.0,14.0,33.0,33.0,52.0,5.0,55.0,13.0,57.0,5.0,2.0,34.0,78.0,42.0,79.0,70.0,61.0,32.0,20.0,40.0,50.0,73.0,67.0,48.0,82.0,46.0,2.0,2.0,26.0,23.0,38.0,38.0,41.0,6.0,51.0,39.0,79.0,7.0,21.0,81.0,47.0,45.0,13.0,2.0,2.0,59.0,5.0,41.0,27.0,66.0,54.0,38.0,47.0,41.0,48.0,39.0,55.0,34.0,27.0,45.0,25.0,61.0,42.0,2.0,69.0,27.0,26.0,32.0,35.0,46.0,53.0,64.0,30.0,40.0,51.0,52.0,31.0,31.0,57.0,47.0,52.0,61.0,79.0,61.0,53.0,51.0,43.0,63.0,13.0,3.0,70.0,26.0,3.0,53.0,20.0,32.0,33.0,31.0,32.0,11.0,49.0,41.0,21.0,56.0,47.0,34.0,9.0,78.0,47.0,5.0,8.0,3.0,62.0,57.0,28.0,45.0,75.0,28.0,45.0,2.0,12.0,30.0,8.0,54.0,75.0,5.0,46.0,16.0,13.0,31.0,61.0,52.0,20.0,69.0,23.0,23.0,19.0,16.0,43.0,22.0,73.0,51.0,50.0,59.0,21.0,67.0,31.0,44.0,54.0,40.0,2.0,13.0,60.0,55.0,47.0,27.0,5.0,19.0,59.0,45.0,18.0,51.0,13.0,43.0,56.0,42.0,79.0,75.0,58.0,61.0,45.0,70.0,17.0,14.0,28.0,56.0,44.0,57.0,51.0,2.0,58.0,10.0,36.0,40.0,19.0,27.0,71.0,51.0,37.0,53.0,67.0,64.0,14.0,40.0,26.0,25.0,67.0,5.0,31.0,3.0,60.0,40.0,24.0,37.0,43.0,25.0,50.0,51.0,5.0,63.0,32.0,70.0,41.0,38.0,38.0,17.0,42.0,46.0,34.0,50.0,49.0,79.0,39.0,35.0,54.0,57.0,21.0,42.0,43.0,2.0,19.0,33.0,67.0,39.0,57.0,21.0,52.0,62.0,3.0,51.0,81.0,50.0,63.0,28.0,62.0,29.0,42.0,8.0,39.0,37.0,6.0,33.0,2.0,54.0,47.0,3.0,28.0,39.0,21.0,43.0,1.0,28.0,45.0,23.0,61.0,80.0,78.0,18.0,79.0,59.0,35.0,5.0,3.0,42.0,20.0,46.0,56.0,27.0,41.0,81.0,36.0,39.0,48.0,3.0,27.0,27.0,57.0,30.0,63.0,56.0,26.0,46.0,60.0,50.0,18.0,39.0,46.0,53.0,35.0,32.0,78.0,47.0,35.0,5.0,36.0,55.0,2.0,23.0,28.0,10.0,2.0,58.0,71.0,13.0,53.0,63.0,58.0,42.0,43.0,2.0,14.0,15.0,49.0,55.0,57.0,8.0,56.0,2.0,81.0,70.0,2.0,10.0,39.0,60.0,50.0,68.0,40.0,44.0,58.0,38.0,12.0,57.0,43.0,71.0,47.0,61.0,9.0,32.0,37.0,49.0,10.0,79.0,6.0,40.0,49.0,1.0,38.0,56.0,41.0,52.0,19.0,22.0,65.0,35.0,25.0,44.0,19.0,22.0,37.0,28.0,57.0,31.0,42.0,43.0,50.0,20.0,41.0,8.0,50.0,20.0,44.0,5.0,14.0,23.0,24.0,52.0,34.0,8.0,55.0,12.0,40.0,18.0,46.0,14.0,8.0,45.0,5.0,17.0,51.0,41.0,57.0,20.0,52.0,60.0,44.0,78.0,47.0,58.0,67.0,36.0,45.0,39.0,45.0,56.0,67.0,30.0,78.0,27.0,65.0,73.0,61.0,2.0,24.0,10.0,74.0,2.0,14.0,56.0,52.0,41.0,2.0,20.0,48.0,47.0,4.0,71.0,19.0,47.0,25.0,16.0,57.0,39.0,3.0,2.0,14.0,14.0,66.0,8.0,8.0,42.0,5.0,73.0,56.0,59.0,21.0,49.0,37.0,26.0,78.0,64.0,46.0,43.0,47.0,60.0,72.0,54.0,56.0,61.0,62.0,39.0,33.0,44.0,9.0,77.0,24.0,28.0,48.0,47.0,31.0,78.0,59.0,28.0,34.0,5.0,72.0,50.0,57.0,80.0,18.0,12.0,80.0,79.0,55.0,20.0,61.0,34.0,47.0,45.0,40.0,50.0,51.0,6.0,61.0,50.0,51.0,14.0,44.0,8.0,53.0,26.0,37.0,13.0,17.0,4.0,24.0,25.0,62.0,31.0,55.0,49.0,57.0,55.0,45.0,5.0,50.0,10.0,5.0,3.0,28.0,75.0,5.0,31.0,52.0,49.0,22.0,41.0,13.0,35.0,38.0,39.0,53.0,32.0,66.0,58.0,57.0,43.0,45.0,78.0,20.0,57.0,14.0,37.0,31.0,45.0,52.0,66.0,48.0,40.0,2.0,32.0,1.0,49.0,71.0,50.0,1.0,79.0,52.0,54.0,52.0,3.0,78.0,42.0,32.0,52.0,1.0,26.0,22.0,22.0,32.0,65.0,14.0,7.0,11.0,49.0,42.0,37.0,33.0,39.0,57.0,60.0,60.0,56.0,48.0,18.0,44.0,53.0,8.0,44.0,52.0,32.0,68.0,31.0,80.0,2.0,45.0,14.0,55.0,60.0,29.0,63.0,23.0,50.0,47.0,2.0,58.0,46.0,49.0,38.0,26.0,65.0,17.0,49.0,60.0,10.0,79.0,23.0,29.0,55.0,24.0,2.0,39.0,32.0,49.0,72.0,79.0,69.0,62.0,45.0,14.0,9.0,27.0,19.0,59.0,1.0,41.0,50.0,54.0,23.0,52.0,12.0,56.0,17.0,48.0,41.0,58.0,2.0,16.0,42.0,19.0,15.0,19.0,51.0,81.0,45.0,21.0,23.0,46.0,82.0,46.0,23.0,62.0,34.0,79.0,18.0,14.0,8.0,40.0,53.0,80.0,63.0,74.0,44.0,16.0,47.0,33.0,61.0,40.0,31.0,37.0,37.0,2.0,65.0,43.0,27.0,49.0,18.0,39.0,18.0,3.0,39.0,60.0,34.0,12.0,37.0,82.0,12.0,28.0,61.0,25.0,54.0,32.0,78.0,58.0,37.0,39.0,50.0,5.0,31.0,74.0,22.0,23.0,10.0,24.0,43.0,1.0,73.0,28.0,5.0,68.0,68.0,66.0,12.0,41.0,24.0,18.0,13.0,2.0,37.0,23.0,50.0,36.0,8.0,32.0,54.0,31.0,67.0,46.0,37.0,41.0,5.0,64.0,78.0,33.0,57.0,73.0,9.0,31.0,81.0,5.0,65.0,48.0,44.0,49.0,38.0,43.0,23.0,50.0,44.0,58.0,76.0,66.0,47.0,37.0,58.0,56.0,53.0,61.0,44.0,20.0,43.0,23.0,48.0,48.0,49.0,66.0,52.0,79.0,53.0,42.0,39.0,71.0,53.0,52.0,52.0,20.0,24.0,53.0,22.0,52.0,45.0,49.0,29.0,20.0,3.0,20.0,79.0,52.0,63.0,16.0,17.0,39.0,17.0,17.0,32.0,52.0,22.0,48.0,56.0,5.0,2.0,21.0,31.0,53.0,5.0,60.0,37.0,49.0,30.0,77.0,37.0,12.0,49.0,57.0,47.0,78.0,1.0,21.0,2.0,59.0,62.0,17.0,27.0,51.0,60.0,44.0,26.0,51.0,46.0,42.0,23.0,80.0,28.0,8.0,55.0,34.0,65.0,26.0,33.0,53.0,23.0,4.0,81.0,11.0,48.0,35.0,53.0,35.0,78.0,80.0,44.0,7.0,48.0,22.0,14.0,69.0,55.0,54.0,30.0,38.0,27.0,7.0,58.0,55.0,49.0,8.0,18.0,46.0,43.0,9.0,13.0,38.0,46.0,46.0,62.0,68.0,2.0,40.0,1.0,55.0,49.0,21.0,40.0,34.0,39.0,55.0,34.0,49.0,36.0,5.0,48.0,37.0,80.0,32.0,45.0,47.0,48.0,3.0,51.0,53.0,16.0,64.0,53.0,62.0,44.0,8.0,53.0,1.0,51.0,10.0,43.0,16.0,20.0,21.0,31.0,63.0,23.0,28.0,49.0,13.0,9.0,28.0,59.0,58.0,28.0,20.0,78.0,57.0,51.0,63.0,34.0,49.0,26.0,67.0,3.0,61.0,69.0,48.0,67.0,31.0,40.0,35.0,78.0,54.0,43.0,20.0,39.0,78.0,79.0,64.0,37.0,59.0,36.0,37.0,75.0,31.0,26.0,15.0,14.0,33.0,56.0,3.0,60.0,12.0,45.0,80.0,16.0,51.0,2.0,46.0,20.0,37.0,33.0,17.0,5.0,45.0,26.0,32.0,47.0,65.0,31.0,34.0,63.0,46.0,28.0,47.0,45.0,42.0,48.0,62.0,9.0,38.0,49.0,58.0,79.0,58.0,31.0,9.0,18.0,54.0,12.0,66.0,32.0,40.0,39.0,39.0,44.0,62.0,57.0,23.0,8.0,42.0,18.0,2.0,69.0,53.0,39.0,38.0,45.0,63.0,40.0,55.0,45.0,34.0,61.0,38.0,57.0,49.0,36.0,40.0,2.0,59.0,55.0,3.0,1.0,46.0,58.0,50.0,59.0,34.0,58.0,28.0,16.0,34.0,55.0,40.0,55.0,57.0,55.0,61.0,2.0,61.0,78.0,12.0,32.0,17.0,53.0,77.0,42.0,61.0,62.0,24.0,46.0,56.0,16.0,23.0,50.0,67.0,5.0,50.0,43.0,48.0,60.0,48.0,39.0,55.0,35.0,33.0,41.0,40.0,3.0,16.0,2.0,61.0,22.0,30.0,29.0,23.0,30.0,37.0,50.0,44.0,70.0,26.0,14.0,52.0,39.0,71.0,40.0,48.0,57.0,46.0,9.0,2.0,8.0,27.0,62.0,2.0,60.0,53.0,19.0,53.0,40.0,51.0,75.0,32.0,63.0,55.0,45.0,42.0,47.0,78.0,32.0,47.0,12.0,68.0,16.0,37.0,32.0,28.0,22.0,58.0,44.0,38.0,56.0,23.0,42.0,46.0,29.0,52.0,62.0,81.0,40.0,62.0,42.0,47.0,59.0,40.0,47.0,47.0,66.0,13.0,23.0,77.0,34.0,43.0,60.0,17.0,54.0,54.0,2.0,49.0,73.0,48.0,77.0,41.0,75.0,4.0,65.0,34.0,80.0,57.0,59.0,7.0,66.0,81.0,45.0,27.0,42.0,49.0,79.0,53.0,49.0,41.0,45.0,9.0,38.0,43.0,81.0,32.0,36.0,27.0,54.0,14.0,45.0,56.0,55.0,44.0,12.0,59.0,66.0,18.0,47.0,51.0,38.0,16.0,50.0,59.0,81.0,13.0,76.0,20.0,14.0,49.0,67.0,3.0,43.0,28.0,55.0,59.0,54.0,67.0,24.0,38.0,65.0,45.0,34.0,26.0,35.0,17.0,66.0,50.0,30.0,2.0,23.0,55.0,53.0,78.0,38.0,63.0,64.0,75.0,31.0,69.0,37.0,34.0,80.0,57.0,2.0,13.0,47.0,9.0,30.0,38.0,63.0,52.0,20.0,2.0,79.0,17.0,81.0,13.0,62.0,49.0,79.0,18.0,54.0,9.0,8.0,78.0,52.0,72.0,49.0,49.0,24.0,45.0,57.0,48.0,75.0,35.0,72.0,42.0,13.0,33.0,57.0,62.0,35.0,33.0,52.0,8.0,33.0,14.0,62.0,46.0,3.0,31.0,27.0,47.0,45.0,44.0,8.0,50.0,17.0,58.0,2.0,51.0,4.0,8.0,32.0,42.0,42.0,62.0,78.0,2.0,43.0,40.0,59.0,1.0,47.0,20.0,16.0,26.0,63.0,62.0,32.0,61.0,69.0,34.0,13.0,63.0,57.0,19.0,67.0,26.0,31.0,49.0,31.0,8.0,52.0,75.0,12.0,5.0,26.0,71.0,43.0,24.0,27.0,41.0,35.0,19.0,37.0,8.0,79.0,57.0,31.0,4.0,45.0,54.0,38.0,39.0,27.0,21.0,61.0,30.0,39.0,4.0,63.0,78.0,78.0,19.0,16.0,61.0,20.0,2.0,30.0,5.0,1.0,78.0,19.0,22.0,13.0,51.0,17.0,51.0,53.0,39.0,60.0,36.0,31.0,57.0,40.0,31.0,45.0,72.0,62.0,1.0,59.0,79.0,53.0,17.0,52.0,19.0,2.0,18.0,53.0,36.0,20.0,49.0,28.0,29.0,32.0,39.0,27.0,41.0,51.0,46.0,61.0,68.0,49.0,57.0,53.0,58.0,28.0,48.0,65.0,20.0,41.0,79.0,62.0,44.0,24.0,47.0,60.0,7.0,15.0,41.0,55.0,68.0,23.0,60.0,33.0,56.0,63.0,63.0,46.0,27.0,59.0,20.0,65.0,40.0,49.0,31.0,17.0,2.0,33.0,79.0,57.0,9.0,60.0,40.0,65.0,16.0,14.0,4.0,52.0,46.0,37.0,29.0,14.0,34.0,5.0,56.0,1.0,55.0,4.0,2.0,40.0,5.0,37.0,42.0,49.0,79.0,51.0,5.0,72.0,60.0,37.0,29.0,73.0,78.0,26.0,63.0,58.0,2.0,20.0,16.0,52.0,78.0,33.0,15.0,5.0,74.0,39.0,2.0,1.0,60.0,5.0,57.0,46.0,39.0,56.0,73.0,31.0,63.0,56.0,22.0,66.0,79.0,3.0,52.0,49.0,18.0,31.0,45.0,31.0,25.0,5.0,1.0,64.0,5.0,47.0,37.0,56.0,79.0,58.0,16.0,31.0,8.0,31.0,31.0,55.0,49.0,16.0,62.0,26.0,46.0,42.0,53.0,60.0,81.0,31.0,14.0,18.0,57.0,31.0,26.0,55.0,43.0,45.0,55.0,37.0,34.0,16.0,35.0,35.0,25.0,32.0,39.0,40.0,30.0,2.0,48.0,41.0,30.0,23.0,31.0,68.0,5.0,39.0,78.0,62.0,61.0,63.0,79.0,53.0,21.0,43.0,18.0,12.0,39.0,32.0,42.0,31.0,65.0,57.0,8.0,71.0,62.0,33.0,74.0,78.0,26.0,49.0,82.0,30.0,15.0,4.0,65.0,7.0,32.0,26.0,42.0,52.0,13.0,25.0,21.0,36.0,52.0,48.0,56.0,58.0,42.0,5.0,54.0,51.0,44.0,55.0,26.0,35.0,51.0,5.0,2.0,17.0,14.0,60.0,14.0,38.0,60.0,40.0,17.0,21.0,53.0,55.0,51.0,2.0,44.0,55.0,53.0,20.0,59.0,17.0,61.0,79.0,43.0,27.0,35.0,18.0,67.0,19.0,78.0,50.0,23.0,57.0,67.0,53.0,62.0,58.0,47.0,20.0,55.0,62.0,56.0,54.0,55.0,49.0,12.0,39.0,3.0,52.0,26.0,14.0,41.0,45.0,47.0,40.0,2.0,40.0,34.0,57.0,44.0,34.0,12.0,1.0,63.0,48.0,14.0,47.0,23.0,3.0,41.0,40.0,41.0,44.0,57.0,59.0,16.0,20.0,75.0,38.0,49.0,56.0,10.0,61.0,50.0,30.0,79.0,3.0,31.0,32.0,60.0,26.0,4.0,37.0,24.0,67.0,31.0,31.0,53.0,40.0,47.0,45.0,3.0,54.0,43.0,33.0,39.0,42.0,18.0,57.0,62.0,65.0,46.0,36.0,28.0,25.0,55.0,43.0,49.0,22.0,50.0,54.0,30.0,39.0,8.0,28.0,49.0,66.0,81.0,19.0,54.0,53.0,17.0,23.0,41.0,57.0,31.0,44.0,61.0,58.0,44.0,27.0,40.0,38.0,4.0,17.0,43.0,17.0,42.0,52.0,51.0,55.0,78.0,75.0,59.0,23.0,51.0,11.0,78.0,54.0,39.0,40.0,43.0,24.0,55.0,44.0,24.0,23.0,8.0,35.0,54.0,75.0,26.0,45.0,27.0,31.0,72.0,40.0,68.0,52.0,41.0,50.0,51.0,13.0,63.0,25.0,64.0,50.0,22.0,31.0,59.0,61.0,2.0,13.0,34.0,30.0,44.0,37.0,2.0,5.0,44.0,2.0,2.0,56.0,22.0,66.0,41.0,52.0,52.0,1.0,47.0,42.0,7.0,29.0,23.0,63.0,53.0,45.0,33.0,51.0,47.0,79.0,58.0,9.0,52.0,16.0,9.0,46.0,75.0,60.0,56.0,26.0,22.0,37.0,50.0,47.0,44.0,39.0,49.0,60.0,52.0,62.0,70.0,64.0,37.0,55.0,40.0,67.0,32.0,81.0,56.0,36.0,26.0,63.0,29.0,5.0,37.0,48.0,41.0,20.0,40.0,22.0,24.0,18.0,23.0,8.0,60.0,76.0,28.0,46.0,53.0,64.0,27.0,64.0,34.0,26.0,38.0,17.0,45.0,41.0,53.0,54.0,41.0,29.0,15.0,19.0,40.0,59.0,42.0,27.0,6.0,61.0,39.0,59.0,79.0,4.0,25.0,30.0,69.0,66.0,32.0,25.0,45.0,47.0,20.0,57.0,32.0,50.0,52.0,46.0,34.0,31.0,77.0,15.0,48.0,42.0,36.0,15.0,44.0,34.0,17.0,11.0,12.0,37.0,60.0,69.0,8.0,54.0,50.0,50.0,40.0,78.0,25.0,52.0,28.0,23.0,46.0,57.0,53.0,27.0,53.0,25.0,34.0,8.0,19.0,59.0,52.0,50.0,63.0,34.0,24.0,2.0,26.0,55.0,35.0,44.0,31.0,32.0,71.0,30.0,57.0,2.0,70.0,1.0,48.0,2.0,13.0,20.0,49.0,46.0,6.0,39.0,58.0,82.0,45.0,43.0,66.0,37.0,79.0,59.0,36.0,50.0,48.0,65.0,60.0,75.0,20.0,31.0,16.0,59.0,55.0,43.0,53.0,31.0,17.0,34.0,27.0,51.0,39.0,50.0,57.0,42.0,54.0,78.0,13.0,27.0,18.0,15.0,24.0,14.0,61.0,13.0,62.0,49.0,26.0,78.0,61.0,28.0,39.0,7.0,18.0,46.0,13.0,32.0,25.0,61.0,31.0,54.0,56.0,34.0,50.0,59.0,59.0,44.0,59.0,49.0,3.0,43.0,17.0,24.0,32.0,2.0,17.0,48.0,58.0,49.0,2.0,38.0,59.0,52.0,2.0,2.0,75.0,53.0,23.0,10.0,31.0,43.0,48.0,54.0,18.0,58.0,14.0,56.0,8.0,60.0,49.0,38.0,45.0,14.0,7.0,36.0,60.0,46.0,5.0,56.0,76.0,76.0,43.0,8.0,80.0,28.0,43.0,56.0,59.0,60.0,50.0,43.0,38.0,58.0,60.0,35.0,28.0,44.0,5.0,6.0,58.0,43.0,56.0,36.0,8.0,2.0,44.0,55.0,57.0,35.0,64.0,2.0,33.0,56.0,38.0,17.0,53.0,35.0,53.0,51.0,18.0,27.0,44.0,49.0,11.0,40.0,26.0,37.0,79.0,37.0,43.0,28.0,40.0,13.0,7.0,1.0,33.0,27.0,37.0,40.0,78.0,36.0,35.0,4.0,28.0,48.0,2.0,34.0,76.0,54.0,2.0,16.0,20.0,13.0,31.0,13.0,53.0,13.0,58.0,16.0,63.0,59.0,32.0,2.0,56.0,14.0,46.0,65.0,23.0,56.0,50.0,29.0,80.0,33.0,57.0,57.0,41.0,39.0,31.0,78.0,47.0,23.0,25.0,46.0,60.0,23.0,34.0,20.0,59.0,61.0,5.0,58.0,38.0,57.0,44.0,8.0,5.0,51.0,14.0,13.0,1.0,35.0,31.0,27.0,56.0,22.0,43.0,53.0,32.0,61.0,8.0,36.0,2.0,42.0,22.0,56.0,17.0,50.0,61.0,39.0,47.0,79.0,37.0,58.0,62.0,59.0,33.0,56.0,51.0,10.0,63.0,16.0,17.0,47.0,25.0,51.0,41.0,64.0,58.0,48.0,55.0,60.0,31.0,79.0,32.0,10.0,16.0,50.0,60.0,54.0,73.0,2.0,65.0,3.0,2.0,27.0,43.0,5.0,37.0,5.0,66.0,61.0,40.0,33.0,52.0,46.0,46.0,2.0,25.0,8.0,18.0,2.0,51.0,45.0,61.0,31.0,4.0,45.0,2.0,51.0,54.0,60.0,45.0,19.0,41.0,5.0,32.0,28.0,17.0,41.0,77.0,40.0,24.0,1.0,74.0,45.0,52.0,43.0,11.0,56.0,38.0,22.0,2.0,28.0,20.0,13.0,28.0,57.0,36.0,50.0,11.0,29.0,50.0,22.0,50.0,27.0,46.0,63.0,51.0,16.0,67.0,56.0,55.0,55.0,50.0,45.0,38.0,12.0,42.0,51.0,34.0,46.0,46.0,69.0,27.0,14.0,17.0,16.0,81.0,50.0,2.0,35.0,60.0,14.0,43.0,50.0,6.0,17.0,33.0,67.0,45.0,31.0,39.0,55.0,50.0,57.0,24.0,29.0,44.0,78.0,3.0,42.0,19.0,1.0,54.0,54.0,7.0,48.0,24.0,5.0,21.0,61.0,46.0,40.0,34.0,32.0,24.0,59.0,39.0,1.0,54.0,12.0,52.0,52.0,32.0,14.0,21.0,8.0,31.0,55.0,56.0,35.0,43.0,55.0,55.0,26.0,33.0,40.0,20.0,30.0,62.0,51.0,34.0,58.0,8.0,5.0,11.0,13.0,44.0,45.0,52.0,25.0,44.0,58.0,25.0,41.0,38.0,37.0,34.0,62.0,71.0,57.0,16.0,64.0,29.0,61.0,5.0,64.0,20.0,46.0,78.0,79.0,35.0,16.0,58.0,30.0,48.0,49.0,52.0,43.0,63.0,40.0,2.0,15.0,51.0,78.0,25.0,3.0,7.0,39.0,28.0,56.0,7.0,21.0,82.0,31.0,72.0,57.0,57.0,57.0,33.0,80.0,55.0,78.0,31.0,5.0,6.0,54.0,49.0,61.0,63.0,34.0,46.0,25.0,49.0,55.0,20.0,38.0,47.0,62.0,39.0,54.0,19.0,1.0,20.0,52.0,79.0,79.0,38.0,14.0,44.0,58.0,40.0,20.0,54.0,20.0,8.0,34.0,52.0,5.0,38.0,54.0,63.0,16.0,44.0,51.0,78.0,31.0,60.0,3.0,58.0,50.0,2.0,44.0,59.0,16.0,28.0,13.0,57.0,51.0,22.0,14.0,35.0,17.0,47.0,32.0,49.0,34.0,79.0,61.0,32.0,57.0,17.0,31.0,27.0,55.0,24.0,34.0,60.0,38.0,45.0,11.0,9.0,28.0,63.0,47.0,79.0,66.0,2.0,29.0,81.0,53.0,39.0,50.0,30.0,20.0,61.0,18.0,62.0,55.0,79.0,52.0,71.0,34.0,53.0,34.0,55.0,45.0,57.0,47.0,30.0,61.0,47.0,31.0,39.0,54.0,3.0,27.0,11.0,52.0,66.0,33.0,25.0,6.0,37.0,52.0,45.0,5.0,19.0,34.0,49.0,62.0,38.0,32.0,78.0,40.0,57.0,45.0,34.0,17.0,38.0,43.0,40.0,55.0,55.0,33.0,49.0,16.0,48.0,7.0,56.0,40.0,61.0,43.0,2.0,49.0,78.0,12.0,54.0,30.0,28.0,11.0,62.0,62.0,10.0,62.0,20.0,37.0,46.0,6.0,80.0,55.0,13.0,73.0,26.0,59.0,57.0,38.0,39.0,25.0,53.0,36.0,17.0,3.0,78.0,54.0,78.0,44.0,54.0,32.0,18.0,19.0,8.0,22.0,79.0,48.0,77.0,48.0,18.0,11.0,35.0,57.0,65.0,42.0,61.0,75.0,47.0,35.0,40.0,26.0,78.0,78.0,58.0,19.0,33.0,52.0,66.0,47.0,8.0,61.0,68.0,45.0,35.0,17.0,71.0,56.0,59.0,46.0,9.0,11.0,30.0,24.0,44.0,55.0,61.0,27.0,52.0,73.0,1.0,58.0,39.0,67.0,16.0,7.0,35.0,33.0,60.0,3.0,27.0,35.0,35.0,18.0,43.0,3.0,25.0,33.0,32.0,10.0,17.0,2.0,5.0,50.0,45.0,59.0,33.0,33.0,39.0,37.0,80.0,58.0,46.0,13.0,39.0,22.0,39.0,32.0,54.0,49.0,42.0,54.0,35.0,23.0,63.0,46.0,43.0,34.0,33.0,38.0,27.0,48.0,19.0,68.0,36.0,34.0,58.0,14.0,10.0,19.0,59.0,56.0,22.0,47.0,2.0,32.0,66.0,61.0,5.0,53.0,36.0,25.0,67.0,51.0,56.0,38.0,34.0,66.0,55.0,16.0,26.0,27.0,45.0,50.0,74.0,43.0,5.0,25.0,30.0,45.0,34.0,40.0,47.0,78.0,39.0,5.0,14.0,34.0,17.0,43.0,58.0,71.0,31.0,66.0,5.0,61.0,54.0,20.0,37.0,67.0,13.0,32.0,46.0,44.0,48.0,22.0,13.0,25.0,45.0,41.0,47.0,39.0,23.0,50.0,2.0,52.0,56.0,14.0,40.0,66.0,80.0,13.0,59.0,70.0,24.0,57.0,17.0,78.0,23.0,13.0,19.0,41.0,45.0,47.0,66.0,35.0,49.0,61.0,80.0,8.0,26.0,50.0,20.0,78.0,10.0,32.0,2.0,5.0,33.0,44.0,79.0,63.0,24.0,13.0,4.0,19.0,33.0,56.0,5.0,23.0,37.0,21.0,51.0,61.0,29.0,40.0,38.0,39.0,46.0,54.0,48.0,61.0,2.0,24.0,29.0,55.0,33.0,34.0,15.0,4.0,2.0,55.0,49.0,2.0,54.0,61.0,5.0,49.0,13.0,53.0,66.0,43.0,2.0,25.0,13.0,40.0,2.0,67.0,16.0,63.0,30.0,38.0,43.0,46.0,40.0,31.0,37.0,52.0,6.0,69.0,27.0,66.0,39.0,8.0,16.0,47.0,36.0,68.0,45.0,40.0,28.0,39.0,45.0,49.0,39.0,37.0,57.0,37.0,54.0,66.0,38.0,30.0,2.0,51.0,49.0,81.0,32.0,44.0,57.0,16.0,28.0,54.0,21.0,65.0,36.0,48.0,32.0,24.0,49.0,60.0,41.0,33.0,44.0,31.0,56.0,32.0,59.0,62.0,7.0,79.0,50.0,79.0,50.0,34.0,65.0,27.0,16.0,19.0,50.0,68.0,55.0,18.0,5.0,47.0,60.0,71.0,34.0,17.0,54.0,39.0,54.0,52.0,47.0,80.0,61.0,53.0,28.0,77.0,57.0,69.0,63.0,11.0,41.0,51.0,6.0,5.0,69.0,62.0,31.0,13.0,43.0,23.0,46.0,44.0,69.0,60.0,36.0,5.0,46.0,63.0,48.0,19.0,39.0,47.0,2.0,3.0,55.0,39.0,24.0,41.0,26.0,26.0,52.0,6.0,78.0,79.0,65.0,80.0,14.0,24.0,17.0,16.0,45.0,61.0,42.0,68.0,47.0,57.0,20.0,44.0,63.0,8.0,43.0,50.0,66.0,2.0,65.0,13.0,2.0,78.0,68.0,57.0,27.0,39.0,62.0,69.0,42.0,36.0,39.0,31.0,53.0,57.0,39.0,37.0,33.0,47.0,70.0,55.0,34.0,63.0,35.0,39.0,56.0,58.0,14.0,75.0,81.0,56.0,81.0,18.0,49.0,78.0,42.0,46.0,9.0,34.0,23.0,55.0,20.0,32.0,54.0,59.0,43.0,78.0,17.0,22.0,50.0,33.0,66.0,34.0,46.0,12.0,18.0,14.0,80.0,58.0,26.0,42.0,40.0,6.0,2.0,33.0,29.0,57.0,34.0,14.0,18.0,49.0,56.0,19.0,25.0,29.0,16.0,34.0,41.0,49.0,47.0,73.0,59.0,57.0,2.0,31.0,30.0,15.0,46.0,65.0,45.0,53.0,55.0,53.0,79.0,34.0,57.0,12.0,32.0,25.0,26.0,8.0,33.0,13.0,41.0,28.0,45.0,20.0,41.0,79.0,51.0,54.0,5.0,55.0,62.0,79.0,56.0,5.0,28.0,37.0,53.0,68.0,38.0,30.0,23.0,43.0,51.0,56.0,58.0,2.0,5.0,79.0,29.0,79.0,51.0,36.0,60.0,54.0,2.0,8.0,57.0,45.0,52.0,37.0,40.0,33.0,40.0,34.0,27.0,18.0,25.0,42.0,42.0,34.0,20.0,46.0,34.0,55.0,1.0,69.0,41.0,48.0,31.0,2.0,13.0,60.0,60.0,49.0,42.0,55.0,44.0,49.0,74.0,20.0,57.0,44.0,59.0,11.0,63.0,53.0,52.0,26.0,2.0,55.0,57.0,34.0,1.0,48.0,79.0,31.0,56.0,15.0,16.0,37.0,12.0,23.0,79.0,31.0,35.0,61.0,14.0,52.0,57.0,78.0,69.0,63.0,58.0,13.0,56.0,40.0,36.0,45.0,38.0,52.0,42.0,58.0,56.0,62.0,40.0,69.0,54.0,48.0,5.0,43.0,12.0,55.0,49.0,75.0,1.0,34.0,34.0,17.0,46.0,16.0,21.0,60.0,77.0,22.0,14.0,80.0,54.0,61.0,27.0,27.0,51.0,2.0,8.0,55.0,66.0,63.0,56.0,34.0,10.0,25.0,52.0,78.0,77.0,68.0,26.0,1.0,40.0,54.0,36.0,39.0,44.0,22.0,26.0,29.0,56.0,21.0,33.0,25.0,39.0,20.0,78.0,69.0,47.0,47.0,18.0,41.0,32.0,20.0,48.0,79.0,16.0,79.0,31.0,1.0,50.0,40.0,45.0,14.0,33.0,65.0,19.0,61.0,50.0,52.0,38.0,47.0,63.0,48.0,15.0,44.0,53.0,53.0,13.0,31.0,60.0,73.0,59.0,35.0,79.0,8.0,49.0,33.0,31.0,50.0,60.0,47.0,40.0,67.0,5.0,58.0,35.0,38.0,38.0,48.0,49.0,81.0,34.0,69.0,22.0,80.0,38.0,62.0,63.0,35.0,33.0,44.0,60.0,52.0,66.0,56.0,4.0,48.0,40.0,62.0,81.0,51.0,57.0,78.0,37.0,78.0,38.0,19.0,16.0,2.0,77.0,72.0,38.0,22.0,60.0,48.0,35.0,38.0,31.0,9.0,56.0,49.0,27.0,33.0,45.0,5.0,28.0,1.0,39.0,48.0,78.0,28.0,73.0,8.0,22.0,75.0,31.0,39.0,34.0,40.0,53.0,32.0,38.0,45.0,30.0,46.0,59.0,59.0,43.0,56.0,45.0,40.0,45.0,9.0,64.0,71.0,58.0,56.0,53.0,12.0,15.0,78.0,43.0,26.0,24.0,40.0,82.0,73.0,2.0,50.0,50.0,35.0,34.0,25.0,46.0,41.0,23.0,33.0,14.0,39.0,1.0,18.0,34.0,23.0,66.0,57.0,53.0,66.0,50.0,57.0,43.0,65.0,26.0,61.0,30.0,27.0,47.0,29.0,19.0,8.0,4.0,26.0,57.0,1.0,34.0,40.0,27.0,2.0,53.0,70.0,27.0,82.0,46.0,24.0,69.0,2.0,31.0,63.0,40.0,5.0,5.0,39.0,13.0,49.0,16.0,56.0,53.0,7.0,37.0,8.0,24.0,54.0,35.0,49.0,2.0,17.0,76.0,25.0,46.0,31.0,66.0,43.0,8.0,46.0,12.0,34.0,23.0,49.0,49.0,52.0,47.0,52.0,32.0,16.0,20.0,76.0,62.0,60.0,49.0,26.0,23.0,60.0,43.0,42.0,39.0,36.0,63.0,76.0,18.0,63.0,13.0,5.0,52.0,50.0,5.0,74.0,78.0,43.0,79.0,43.0,36.0,1.0,31.0,64.0,2.0,62.0,17.0,63.0,11.0,57.0,22.0,12.0,27.0,8.0,54.0,27.0,14.0,72.0,71.0,44.0,43.0,2.0,57.0,42.0,45.0,65.0,18.0,78.0,53.0,2.0,43.0,29.0,26.0,63.0,23.0,32.0,65.0,26.0,16.0,56.0,79.0,80.0,50.0,44.0,60.0,13.0,30.0,50.0,46.0,30.0,2.0,1.0,16.0,71.0,8.0,2.0,38.0,11.0,50.0,19.0,81.0,29.0,56.0,46.0,48.0,65.0,23.0,40.0,2.0,60.0,51.0,2.0,78.0,32.0,2.0,50.0,44.0,66.0,64.0,66.0,52.0,57.0,37.0,40.0,71.0,3.0,27.0,50.0,39.0,55.0,41.0,40.0,55.0,45.0,80.0,25.0,9.0,1.0,38.0,42.0,13.0,33.0,9.0,12.0,35.0,27.0,55.0,71.0,52.0,32.0,53.0,34.0,16.0,47.0,31.0,73.0,58.0,27.0,27.0,45.0,25.0,3.0,50.0,53.0,33.0,31.0,36.0,61.0,16.0,27.0,49.0,14.0,48.0,60.0,78.0,50.0,20.0,37.0,64.0,73.0,34.0,32.0,43.0,50.0,56.0,5.0,45.0,13.0,61.0,39.0,52.0,20.0,30.0,71.0,67.0,58.0,69.0,65.0,43.0,60.0,41.0,8.0,74.0,61.0,38.0,37.0,53.0,31.0,54.0,1.0,31.0,48.0,31.0,72.0,81.0,41.0,68.0,52.0,15.0,10.0,24.0,2.0,76.0,21.0,22.0,52.0,37.0,50.0,55.0,32.0,69.0,61.0,54.0,53.0,1.0,78.0,62.0,49.0,42.0,7.0,72.0,31.0,78.0,80.0,30.0,16.0,57.0,44.0,51.0,18.0,78.0,27.0,5.0,12.0,8.0,57.0,50.0,44.0,35.0,39.0,12.0,50.0,81.0,2.0,21.0,47.0,26.0,79.0,50.0,58.0,56.0,44.0,36.0,29.0,31.0,52.0,47.0,22.0,9.0,56.0,29.0,46.0,39.0,57.0,76.0,34.0,63.0,30.0,78.0,15.0,42.0,24.0,2.0,57.0,41.0,8.0,45.0,78.0,56.0,61.0,12.0,65.0,60.0,3.0,45.0,25.0,43.0,31.0,75.0,43.0,75.0,15.0,5.0,61.0,30.0,7.0,20.0,39.0,49.0,31.0,32.0,75.0,42.0,10.0,59.0,79.0,31.0,3.0,61.0,24.0,55.0,65.0,13.0,58.0,1.0,79.0,63.0,39.0,73.0,2.0,54.0,59.0,32.0,44.0,17.0,19.0,51.0,36.0,32.0,80.0,76.0,16.0,37.0,45.0,13.0,50.0,53.0,27.0,57.0,29.0,34.0,46.0,9.0,27.0,56.0,78.0,70.0,78.0,60.0,14.0,39.0,57.0,57.0,52.0,82.0,17.0,19.0,53.0,78.0,39.0,37.0,24.0,3.0,20.0,42.0,65.0,53.0,40.0,46.0,34.0,30.0,3.0,23.0,33.0,31.0,16.0,78.0,27.0,5.0,39.0,17.0,52.0,82.0,62.0,2.0,35.0,44.0,53.0,40.0,59.0,63.0,2.0,17.0,17.0,2.0,51.0,16.0,51.0,10.0,30.0,69.0,50.0,48.0,56.0,29.0,39.0,41.0,12.0,10.0,33.0,52.0,36.0,49.0,31.0,49.0,58.0,63.0,60.0,52.0,49.0,26.0,46.0,3.0,14.0,34.0,45.0,23.0,33.0,78.0,13.0,1.0,15.0,40.0,51.0,66.0,53.0,53.0,46.0,79.0,63.0,55.0,42.0,50.0,16.0,10.0,23.0,59.0,50.0,29.0,35.0,26.0,44.0,6.0,78.0,80.0,23.0,41.0,1.0,45.0,25.0,49.0,45.0,80.0,43.0,53.0,23.0,27.0,14.0,2.0,37.0,53.0,60.0,29.0,34.0,43.0,21.0,34.0,47.0,50.0,27.0,4.0,18.0,78.0,44.0,21.0,34.0,49.0,34.0,37.0,60.0,52.0,9.0,38.0,5.0,15.0,8.0,28.0,2.0,50.0,27.0,59.0,30.0,28.0,63.0,31.0,48.0,67.0,79.0,14.0,27.0,48.0,53.0,52.0,63.0,52.0,66.0,67.0,65.0,51.0,64.0,43.0,56.0,43.0,5.0,12.0,57.0,33.0,43.0,38.0,57.0,23.0,50.0,29.0,55.0,64.0,67.0,65.0,65.0,8.0,66.0,78.0,61.0,37.0,53.0,60.0,77.0,51.0,10.0,16.0,16.0,40.0,72.0,44.0,41.0,34.0,13.0,6.0,23.0,34.0,57.0,81.0,23.0,18.0,37.0,31.0,67.0,9.0,49.0,64.0,65.0,63.0,8.0,51.0,56.0,78.0,5.0,56.0,47.0,52.0,80.0,25.0,47.0,18.0,72.0,59.0,49.0,41.0,31.0,37.0,26.0,55.0,35.0,34.0,2.0,78.0,59.0,37.0,34.0,49.0,81.0,80.0,53.0,28.0,67.0,56.0,58.0,42.0,46.0,38.0,58.0,44.0,44.0,18.0,16.0,25.0,50.0,14.0,45.0,40.0,47.0,38.0,78.0,2.0,33.0,32.0,53.0,19.0,60.0,2.0,56.0,62.0,71.0,28.0,46.0,20.0,21.0,57.0,49.0,37.0,37.0,13.0,73.0,49.0,62.0,45.0,57.0,61.0,35.0,78.0,67.0,50.0,37.0,52.0,41.0,56.0,55.0,16.0,31.0,61.0,72.0,65.0,27.0,32.0,28.0,57.0,60.0,45.0,40.0,47.0,79.0,48.0,33.0,24.0,39.0,39.0,22.0,39.0,8.0,3.0,62.0,23.0,67.0,67.0,8.0,39.0,49.0,36.0,34.0,79.0,74.0,51.0,51.0,45.0,7.0,58.0,74.0,76.0,15.0,32.0,46.0,33.0,34.0,21.0,56.0,41.0,45.0,79.0,79.0,44.0,63.0,82.0,50.0,9.0,56.0,47.0,28.0,45.0,56.0,26.0,58.0,28.0,17.0,57.0,37.0,15.0,27.0,27.0,55.0,38.0,16.0,32.0,67.0,20.0,57.0,59.0,50.0,47.0,66.0,56.0,13.0,62.0,72.0,49.0,52.0,43.0,20.0,51.0,51.0,39.0,18.0,51.0,37.0,45.0,57.0,65.0,7.0,72.0,5.0,59.0,82.0,8.0,39.0,42.0,46.0,5.0,27.0,49.0,61.0,55.0,21.0,56.0,34.0,41.0,78.0,64.0,51.0,78.0,55.0,2.0,46.0,18.0,52.0,15.0,29.0,18.0,44.0,59.0,28.0,63.0,28.0,41.0,31.0,37.0,5.0,33.0,8.0,7.0,78.0,46.0,66.0,2.0,43.0,78.0,24.0,55.0,53.0,31.0,39.0,47.0,35.0,33.0,59.0,53.0,57.0,61.0,37.0,50.0,80.0,17.0,48.0,12.0,35.0,33.0,19.0,26.0,62.0,2.0,52.0,42.0,42.0,42.0,2.0,26.0,4.0,78.0,18.0,11.0,51.0,21.0,27.0,54.0,50.0,79.0,57.0,65.0,60.0,8.0,75.0,70.0,50.0,25.0,13.0,4.0,51.0,8.0,9.0,56.0,24.0,26.0,55.0,14.0,5.0,17.0,43.0,60.0,49.0,27.0,30.0,72.0,49.0,79.0,44.0,51.0,41.0,79.0,69.0,42.0,34.0,31.0,29.0,26.0,40.0,18.0,45.0,67.0,31.0,71.0,2.0,2.0,57.0,34.0,9.0,53.0,48.0,53.0,3.0,79.0,51.0,42.0,36.0,62.0,14.0,40.0,48.0,64.0,33.0,80.0,21.0,2.0,82.0,50.0,25.0,48.0,41.0,45.0,13.0,37.0,7.0,2.0,55.0,79.0,1.0,43.0,45.0,61.0,38.0,41.0,28.0,14.0,53.0,14.0,47.0,12.0,8.0,26.0,2.0,59.0,22.0,28.0,26.0,41.0,73.0,19.0,61.0,57.0,37.0,43.0,7.0,64.0,73.0,79.0,59.0,43.0,45.0,43.0,3.0,52.0,56.0,53.0,79.0,81.0,33.0,16.0,38.0,53.0,14.0,36.0,42.0,18.0,37.0,58.0,39.0,58.0,45.0,49.0,24.0,18.0,62.0,63.0,31.0,37.0,37.0,47.0,16.0,48.0,34.0,20.0,76.0,53.0,24.0,23.0,26.0,40.0,79.0,44.0,40.0,27.0,35.0,45.0,11.0,77.0,61.0,38.0,58.0,2.0,32.0,25.0,72.0,26.0,57.0,12.0,55.0,36.0,32.0,18.0,1.0,63.0,32.0,16.0,16.0,32.0,57.0,24.0,53.0,62.0,37.0,15.0,45.0,17.0,55.0,20.0,3.0,45.0,61.0,19.0,70.0,9.0,44.0,42.0,41.0,48.0,18.0,7.0,50.0,47.0,21.0,80.0,48.0,11.0,17.0,34.0,38.0,18.0,79.0,35.0,51.0,34.0,31.0,53.0,76.0,38.0,27.0,16.0,25.0,57.0,61.0,41.0,79.0,26.0,60.0,32.0,61.0,2.0,28.0,8.0,65.0,69.0,62.0,11.0,66.0,44.0,35.0,61.0,14.0,27.0,62.0,34.0,3.0,24.0,59.0,21.0,4.0,14.0,51.0,2.0,40.0,31.0,43.0,38.0,1.0,57.0,31.0,37.0,39.0,40.0,5.0,41.0,43.0,53.0,56.0,48.0,2.0,69.0,33.0,57.0,25.0,39.0,80.0,8.0,62.0,30.0,61.0,25.0,78.0,78.0,59.0,51.0,59.0,49.0,47.0,20.0,54.0,65.0,24.0,37.0,47.0,42.0,57.0,24.0,53.0,32.0,38.0,54.0,75.0,62.0,56.0,8.0,2.0,42.0,20.0,47.0,53.0,59.0,31.0,28.0,13.0,42.0,54.0,47.0,37.0,37.0,78.0,8.0,34.0,78.0,53.0,51.0,19.0,26.0,32.0,22.0,64.0,61.0,77.0,2.0,60.0,43.0,25.0,60.0,41.0,45.0,18.0,17.0,51.0,58.0,27.0,59.0,78.0,53.0,43.0,26.0,30.0,60.0,80.0,45.0,37.0,3.0,73.0,45.0,50.0,37.0,49.0,15.0,43.0,60.0,79.0,53.0,60.0,42.0,60.0,2.0,30.0,66.0,2.0,31.0,30.0,58.0,66.0,27.0,42.0,26.0,47.0,68.0,53.0,78.0,30.0,78.0,5.0,30.0,24.0,37.0,37.0,43.0,78.0,79.0,32.0,53.0,25.0,20.0,50.0,21.0,61.0,45.0,42.0,22.0,47.0,43.0,26.0,23.0,43.0,80.0,79.0,44.0,25.0,1.0,27.0,43.0,32.0,20.0,62.0,27.0,8.0,43.0,61.0,39.0,44.0,23.0,54.0,42.0,20.0,26.0,48.0,24.0,65.0,81.0,7.0,2.0,54.0,38.0,27.0,13.0,24.0,17.0,56.0,56.0,34.0,31.0,13.0,45.0,59.0,45.0,8.0,37.0,45.0,22.0,52.0,41.0,54.0,34.0,52.0,14.0,75.0,63.0,24.0,75.0,8.0,62.0,67.0,3.0,43.0,57.0,82.0,73.0,55.0,21.0,59.0,32.0,37.0,50.0,5.0,4.0,43.0,38.0,3.0,79.0,50.0,30.0,20.0,49.0,34.0,55.0,66.0,55.0,23.0,61.0,31.0,41.0,54.0,54.0,81.0,78.0,8.0,28.0,71.0,79.0,68.0,42.0,49.0,19.0,11.0,66.0,23.0,40.0,38.0,53.0,2.0,37.0,37.0,49.0,5.0,45.0,44.0,59.0,40.0,79.0,44.0,2.0,57.0,36.0,63.0,2.0,7.0,64.0,18.0,37.0,58.0,40.0,37.0,15.0,8.0,49.0,12.0,63.0,62.0,78.0,78.0,23.0,5.0,12.0,65.0,48.0,54.0,67.0,16.0,67.0,27.0,17.0,40.0,59.0,74.0,41.0,59.0,27.0,38.0,47.0,42.0,48.0,31.0,80.0,32.0,45.0,23.0,45.0,37.0,2.0,32.0,1.0,52.0,44.0,55.0,37.0,33.0,33.0,31.0,52.0,1.0,14.0,35.0,8.0,57.0,56.0,65.0,45.0,26.0,5.0,13.0,65.0,56.0,30.0,53.0,30.0,58.0,59.0,60.0,59.0,3.0,34.0,54.0,64.0,36.0,50.0,26.0,53.0,18.0,80.0,56.0,31.0,43.0,56.0,2.0,31.0,12.0,57.0,49.0,40.0,82.0,54.0,22.0,34.0,51.0,38.0,79.0,51.0,45.0,47.0,2.0,43.0,78.0,23.0,47.0,8.0,45.0,34.0,15.0,37.0,61.0,21.0,35.0,43.0,15.0,37.0,61.0,24.0,27.0,19.0,61.0,40.0,14.0,80.0,27.0,48.0,12.0,81.0,56.0,54.0,1.0,52.0,15.0,81.0,78.0,2.0,81.0,3.0,32.0,60.0,75.0,43.0,29.0,33.0,53.0,37.0,41.0,52.0,34.0,2.0,38.0,57.0,24.0,61.0,42.0,26.0,63.0,46.0,65.0,37.0,16.0,3.0,80.0,44.0,61.0,55.0,5.0,59.0,1.0,2.0,33.0,18.0,5.0,34.0,70.0,27.0,65.0,37.0,16.0,70.0,65.0,54.0,12.0,63.0,20.0,8.0,29.0,31.0,54.0,60.0,52.0,54.0,5.0,44.0,7.0,2.0,57.0,27.0,48.0,39.0,48.0,61.0,46.0,19.0,62.0,47.0,5.0,37.0,81.0,79.0,59.0,61.0,78.0,29.0,38.0,74.0,22.0,42.0,32.0,54.0,44.0,65.0,7.0,26.0,5.0,55.0,37.0,23.0,5.0,44.0,4.0,53.0,21.0,26.0,39.0,73.0,32.0,8.0,29.0,38.0,69.0,62.0,58.0,15.0,54.0,69.0,22.0,65.0,51.0,34.0,62.0,25.0,3.0,32.0,39.0,32.0,43.0,22.0,26.0,58.0,44.0,79.0,61.0,49.0,54.0,40.0,52.0,35.0,24.0,13.0,51.0,78.0,24.0,19.0,23.0,82.0,18.0,52.0,2.0,80.0,42.0,57.0,75.0,2.0,55.0,76.0,31.0,69.0,55.0,32.0,5.0,45.0,52.0,5.0,25.0,38.0,55.0,53.0,17.0,43.0,71.0,8.0,50.0,29.0,17.0,52.0,35.0,31.0,11.0,54.0,23.0,26.0,45.0,57.0,49.0,29.0,67.0,65.0,52.0,69.0,46.0,3.0,23.0,53.0,36.0,2.0,34.0,38.0,34.0,29.0,64.0,2.0,2.0,30.0,54.0,2.0,2.0,1.0,53.0,75.0,2.0,3.0,5.0,60.0,78.0,30.0,2.0,18.0,26.0,48.0,37.0,7.0,9.0,32.0,37.0,36.0,40.0,55.0,16.0,31.0,61.0,2.0,26.0,19.0,21.0,79.0,56.0,66.0,31.0,38.0,56.0,57.0,9.0,56.0,41.0,56.0,17.0,62.0,38.0,77.0,37.0,55.0,32.0,20.0,2.0,45.0,1.0,39.0,28.0,48.0,19.0,41.0,55.0,31.0,38.0,12.0,62.0,50.0,4.0,23.0,40.0,12.0,34.0,11.0,26.0,50.0,63.0,14.0,3.0,54.0,51.0,40.0,3.0,78.0,57.0,36.0,41.0,9.0,49.0,38.0,20.0,41.0,44.0,28.0,12.0,23.0,14.0,13.0,63.0,79.0,33.0,20.0,4.0,44.0,14.0,18.0,42.0,23.0,64.0,45.0,42.0,69.0,45.0,52.0,56.0,39.0,24.0,15.0,41.0,34.0,50.0,2.0,9.0,52.0,24.0,57.0,43.0,59.0,61.0,78.0,41.0,55.0,17.0,79.0,36.0,61.0,15.0,51.0,74.0,51.0,40.0,62.0,32.0,46.0,5.0,35.0,30.0,58.0,10.0,27.0,64.0,66.0,52.0,56.0,32.0,23.0,8.0,66.0,34.0,1.0,57.0,57.0,16.0,65.0,45.0,46.0,29.0,43.0,42.0,22.0,49.0,10.0,50.0,60.0,82.0,14.0,3.0,20.0,50.0,22.0,52.0,55.0,57.0,56.0,19.0,78.0,69.0,31.0,35.0,49.0,33.0,3.0,3.0,5.0,15.0,52.0,20.0,77.0,8.0,75.0,42.0,49.0,53.0,43.0,81.0,43.0,75.0,2.0,48.0,50.0,32.0,52.0,41.0,33.0,75.0,33.0,60.0,2.0,57.0,27.0,20.0,50.0,20.0,15.0,47.0,23.0,9.0,37.0,43.0,31.0,38.0,2.0,30.0,34.0,54.0,24.0,14.0,47.0,1.0,31.0,17.0,38.0,64.0,3.0,57.0,58.0,53.0,7.0,34.0,64.0,7.0,82.0,82.0,51.0,27.0,57.0,39.0,44.0,44.0,42.0,52.0,23.0,34.0,13.0,35.0,2.0,66.0,51.0,68.0,40.0,43.0,53.0,53.0,56.0,71.0,50.0,80.0,33.0,49.0,49.0,32.0,2.0,29.0,49.0,73.0,13.0,49.0,76.0,28.0,53.0,45.0,50.0,48.0,62.0,31.0,1.0,78.0,26.0,32.0,14.0,17.0,19.0,61.0,78.0,57.0,65.0,28.0,39.0,63.0,27.0,13.0,67.0,28.0,27.0,24.0,52.0,34.0,19.0,47.0,2.0,32.0,42.0,48.0,62.0,42.0,41.0,61.0,80.0,32.0,18.0,62.0,40.0,58.0,30.0,39.0,11.0,47.0,53.0,65.0,2.0,30.0,33.0,38.0,57.0,40.0,57.0,52.0,81.0,18.0,42.0,42.0,55.0,43.0,2.0,5.0,81.0,20.0,81.0,37.0,46.0,59.0,46.0,23.0,38.0,40.0,52.0,65.0,41.0,30.0,50.0,77.0,10.0,46.0,62.0,80.0,52.0,56.0,33.0,23.0,50.0,39.0,35.0,64.0,64.0,56.0,58.0,56.0,30.0,28.0,52.0,56.0,37.0,2.0,2.0,52.0,14.0,72.0,52.0,33.0,63.0,78.0,25.0,30.0,52.0,48.0,58.0,33.0,82.0,79.0,59.0,51.0,55.0,35.0,35.0,2.0,60.0,1.0,1.0,52.0,26.0,45.0,43.0,57.0,60.0,2.0,21.0,7.0,65.0,49.0,38.0,62.0,56.0,3.0,25.0,35.0,3.0,61.0,44.0,5.0,62.0,67.0,62.0,57.0,26.0,38.0,50.0,48.0,60.0,7.0,62.0,81.0,55.0,66.0,62.0,50.0,20.0,51.0,54.0,2.0,40.0,32.0,51.0,56.0,53.0,41.0,31.0,55.0,45.0,48.0,53.0,57.0,25.0,31.0,79.0,9.0,64.0,37.0,61.0,32.0,11.0,66.0,45.0,78.0,12.0,57.0,56.0,69.0,20.0,14.0,52.0,66.0,20.0,31.0,13.0,37.0,3.0,51.0,56.0,51.0,3.0,21.0,41.0,28.0,53.0,32.0,44.0,22.0,34.0,31.0,38.0,38.0,45.0,2.0,47.0,54.0,55.0,71.0,47.0,57.0,27.0,18.0,42.0,26.0,61.0,53.0,34.0,38.0,25.0,5.0,24.0,8.0,5.0,43.0,45.0,50.0,48.0,45.0,37.0,63.0,44.0,75.0,45.0,29.0,48.0,52.0,55.0,2.0,53.0,43.0,59.0,24.0,42.0,43.0,15.0,73.0,27.0,45.0,60.0,48.0,79.0,66.0,38.0,19.0,4.0,2.0,25.0,2.0,17.0,3.0,54.0,62.0,16.0,46.0,13.0,3.0,55.0,31.0,60.0,2.0,81.0,37.0,43.0,16.0,49.0,18.0,32.0,63.0,31.0,78.0,58.0,36.0,27.0,30.0,17.0,79.0,12.0,28.0,11.0,57.0,63.0,5.0,59.0,25.0,35.0,39.0,54.0,15.0,38.0,63.0,31.0,42.0,13.0,45.0,79.0,24.0,35.0,65.0,79.0,33.0,40.0,3.0,50.0,39.0,8.0,52.0,45.0,61.0,49.0,24.0,2.0,48.0,43.0,16.0,32.0,33.0,8.0,65.0,63.0,55.0,55.0,76.0,19.0,5.0,23.0,44.0,26.0,75.0,38.0,47.0,26.0,39.0,72.0,34.0,33.0,68.0,78.0,2.0,33.0,31.0,61.0,25.0,2.0,81.0,43.0,33.0,54.0,47.0,31.0,30.0,81.0,26.0,46.0,10.0,62.0,37.0,60.0,63.0,21.0,51.0,44.0,53.0,65.0,20.0,27.0,67.0,8.0,41.0,43.0,2.0,78.0,53.0,56.0,36.0,35.0,45.0,50.0,55.0,60.0,57.0,28.0,66.0,78.0,53.0,46.0,40.0,58.0,31.0,78.0,47.0,56.0,5.0,20.0,53.0,4.0,49.0,53.0,32.0,78.0,59.0,2.0,5.0,37.0,67.0,27.0,7.0,62.0,47.0,13.0,53.0,2.0,51.0,52.0,62.0,78.0,64.0,30.0,47.0,44.0,4.0,19.0,13.0,62.0,37.0,17.0,59.0,21.0,31.0,58.0,79.0,66.0,41.0,37.0,29.0,79.0,46.0,51.0,65.0,10.0,80.0,6.0,2.0,58.0,31.0,2.0,62.0,78.0,47.0,47.0,32.0,65.0,39.0,61.0,51.0,26.0,5.0,30.0,30.0,19.0,58.0,37.0,66.0,42.0,58.0,49.0,1.0,59.0,41.0,28.0,27.0,47.0,5.0,34.0,63.0,35.0,35.0,30.0,64.0,56.0,5.0,10.0,32.0,30.0,46.0,45.0,32.0,52.0,50.0,40.0,29.0,27.0,3.0,57.0,80.0,2.0,15.0,34.0,58.0,40.0,44.0,8.0,25.0,14.0,40.0,21.0,52.0,58.0,43.0,32.0,24.0,56.0,66.0,41.0,66.0,47.0,55.0,79.0,25.0,60.0,41.0,32.0,37.0,46.0,31.0,49.0,42.0,43.0,43.0,29.0,44.0,45.0,7.0,31.0,29.0,77.0,65.0,18.0,34.0,53.0,53.0,13.0,39.0,65.0,2.0,40.0,21.0,5.0,57.0,43.0,12.0,19.0,59.0,53.0,15.0,56.0,41.0,58.0,4.0,54.0,29.0,74.0,30.0,47.0,46.0,25.0,60.0,31.0,49.0,14.0,56.0,30.0,39.0,80.0,30.0,82.0,23.0,53.0,44.0,51.0,41.0,2.0,25.0,45.0,40.0,20.0,21.0,59.0,65.0,79.0,38.0,81.0,71.0,68.0,14.0,55.0,7.0,45.0,2.0,67.0,24.0,65.0,18.0,45.0,28.0,4.0,23.0,42.0,40.0,61.0,34.0,36.0,5.0,47.0,69.0,18.0,31.0,22.0,65.0,78.0,3.0,12.0,10.0,27.0,55.0,61.0,13.0,45.0,56.0,2.0,78.0,60.0,82.0,63.0,45.0,23.0,65.0,13.0,52.0,46.0,34.0,47.0,19.0,34.0,16.0,21.0,23.0,78.0,51.0,23.0,16.0,35.0,52.0,43.0,4.0,78.0,14.0,23.0,29.0,24.0,31.0,17.0,15.0,31.0,30.0,19.0,24.0,73.0,20.0,79.0,5.0,2.0,39.0,48.0,16.0,42.0,38.0,32.0,45.0,54.0,50.0,55.0,28.0,53.0,60.0,30.0,46.0,79.0,48.0,49.0,16.0,55.0,27.0,50.0,39.0,20.0,4.0,59.0,39.0,10.0,71.0,48.0,20.0,35.0,56.0,55.0,18.0,63.0,10.0,26.0,54.0,32.0,38.0,63.0,41.0,63.0,58.0,8.0,39.0,52.0,31.0,44.0,26.0,39.0,18.0,27.0,21.0,45.0,5.0,18.0,4.0,39.0,30.0,4.0,69.0,66.0,66.0,48.0,45.0,49.0,59.0,53.0,32.0,54.0,42.0,39.0,48.0,69.0,67.0,1.0,5.0,60.0,48.0,39.0,61.0,79.0,24.0,56.0,15.0,56.0,62.0,8.0,78.0,62.0,24.0,57.0,30.0,36.0,5.0,51.0,54.0,65.0,5.0,56.0,70.0,29.0,18.0,62.0,5.0,10.0,47.0,66.0,26.0,53.0,31.0,1.0,45.0,34.0,53.0,5.0,3.0,42.0,77.0,51.0,48.0,39.0,2.0,8.0,31.0,31.0,29.0,29.0,53.0,75.0,55.0,36.0,50.0,40.0,48.0,26.0,56.0,58.0,60.0,53.0,5.0,30.0,40.0,50.0,44.0,43.0,41.0,48.0,45.0,37.0,12.0,28.0,81.0,50.0,66.0,34.0,45.0,69.0,63.0,39.0,28.0,72.0,8.0,48.0,22.0,18.0,41.0,45.0,78.0,53.0,39.0,54.0,59.0,4.0,5.0,5.0,29.0,56.0,79.0,42.0,80.0,71.0,35.0,39.0,44.0,2.0,42.0,25.0,55.0,51.0,49.0,52.0,73.0,62.0,60.0,80.0,82.0,32.0,28.0,28.0,33.0,35.0,57.0,60.0,57.0,53.0,15.0,78.0,28.0,36.0,2.0,31.0,80.0,57.0,19.0,39.0,55.0,27.0,44.0,63.0,40.0,2.0,56.0,72.0,34.0,82.0,45.0,43.0,36.0,33.0,26.0,40.0,79.0,39.0,42.0,39.0,25.0,36.0,61.0,2.0,24.0,62.0,27.0,73.0,38.0,38.0,42.0,37.0,50.0,9.0,12.0,50.0,8.0,2.0,19.0,80.0,78.0,63.0,39.0,61.0,47.0,56.0,56.0,65.0,29.0,9.0,2.0,60.0,67.0,12.0,79.0,61.0,44.0,49.0,17.0,41.0,5.0,58.0,52.0,20.0,39.0,51.0,43.0,35.0,52.0,3.0,57.0,31.0,27.0,26.0,44.0,34.0,46.0,78.0,23.0,79.0,55.0,79.0,42.0,44.0,57.0,51.0,63.0,32.0,41.0,40.0,29.0,4.0,79.0,42.0,46.0,39.0,55.0,66.0,29.0,14.0,20.0,65.0,25.0,47.0,11.0,54.0,46.0,42.0,13.0,62.0,66.0,53.0,80.0,78.0,26.0,2.0,47.0,26.0,77.0,34.0,64.0,48.0,13.0,40.0,18.0,56.0,47.0,55.0,16.0,36.0,35.0,34.0,5.0,62.0,57.0,38.0,13.0,73.0,58.0,51.0,37.0,51.0,53.0,15.0,79.0,21.0,8.0,51.0,46.0,33.0,38.0,2.0,73.0,18.0,5.0,46.0,8.0,16.0,52.0,57.0,31.0,33.0,37.0,39.0,74.0,5.0,31.0,52.0,52.0,11.0,23.0,47.0,64.0,43.0,54.0,17.0,53.0,17.0,27.0,2.0,27.0,33.0,57.0,8.0,16.0,59.0,39.0,74.0,28.0,54.0,37.0,59.0,18.0,78.0,53.0,59.0,58.0,62.0,50.0,79.0,21.0,79.0,26.0,73.0,43.0,44.0,39.0,25.0,2.0,29.0,39.0,34.0,52.0,62.0,53.0,13.0,58.0,47.0,51.0,29.0,44.0,38.0,18.0,61.0,45.0,53.0,19.0,13.0,37.0,26.0,78.0,59.0,8.0,42.0,78.0,27.0,26.0,25.0,57.0,55.0,25.0,61.0,64.0,49.0,55.0,54.0,41.0,38.0,66.0,32.0,39.0,65.0,36.0,61.0,66.0,49.0,73.0,2.0,78.0,32.0,59.0,32.0,61.0,76.0,43.0,2.0,59.0,42.0,57.0,19.0,14.0,80.0,50.0,48.0,71.0,58.0,53.0,13.0,31.0,51.0,46.0,60.0,57.0,13.0,54.0,23.0,54.0,50.0,71.0,45.0,26.0,45.0,17.0,37.0,18.0,57.0,31.0,34.0,45.0,30.0,79.0,17.0,24.0,17.0,17.0,42.0,77.0,38.0,45.0,60.0,22.0,61.0,23.0,32.0,29.0,24.0,62.0,16.0,31.0,57.0,2.0,2.0,33.0,30.0,27.0,60.0,66.0,43.0,61.0,43.0,65.0,33.0,68.0,46.0,65.0,74.0,65.0,40.0,31.0,37.0,56.0,5.0,43.0,13.0,32.0,79.0,43.0,14.0,60.0,45.0,35.0,50.0,41.0,18.0,32.0,30.0,61.0,28.0,2.0,32.0,79.0,26.0,18.0,9.0,32.0,5.0,78.0,47.0,64.0,5.0,71.0,51.0,20.0,45.0,44.0,38.0,42.0,48.0,57.0,1.0,55.0,63.0,82.0,58.0,19.0,50.0,63.0,44.0,68.0,81.0,78.0,60.0,59.0,57.0,3.0,32.0,58.0,53.0,47.0,26.0,5.0,58.0,47.0,38.0,76.0,50.0,14.0,16.0,62.0,41.0,75.0,54.0,14.0,37.0,4.0,32.0,49.0,65.0,61.0,9.0,31.0,41.0,49.0,53.0,20.0,2.0,51.0,4.0,43.0,29.0,57.0,46.0,78.0,34.0,52.0,60.0,39.0,14.0,36.0,13.0,32.0,5.0,80.0,44.0,43.0,28.0,57.0,7.0,52.0,60.0,81.0,49.0,54.0,61.0,17.0,54.0,30.0,19.0,52.0,34.0,53.0,42.0,27.0,36.0,43.0,59.0,12.0,52.0,34.0,63.0,11.0,52.0,43.0,60.0,44.0,69.0,15.0,54.0,8.0,33.0,2.0,17.0,60.0,25.0,3.0,21.0,31.0,45.0,60.0,26.0,40.0,20.0,52.0,30.0,42.0,16.0,35.0,57.0,43.0,14.0,14.0,43.0,51.0,30.0,45.0,80.0,5.0,57.0,51.0,42.0,18.0,3.0,43.0,57.0,27.0,72.0,37.0,17.0,6.0,53.0,45.0,50.0,37.0,79.0,59.0,73.0,40.0,48.0,3.0,25.0,55.0,26.0,31.0,52.0,67.0,23.0,61.0,14.0,80.0,79.0,2.0,26.0,55.0,54.0,80.0,81.0,64.0,47.0,56.0,60.0,58.0,31.0,32.0,71.0,7.0,34.0,3.0,55.0,34.0,72.0,59.0,9.0,17.0,5.0,52.0,39.0,13.0,80.0,37.0,63.0,59.0,55.0,57.0,56.0,49.0,24.0,8.0,13.0,2.0,51.0,62.0,5.0,61.0,13.0,47.0,41.0,32.0,49.0,45.0,2.0,25.0,41.0,78.0,54.0,49.0,74.0,75.0,60.0,47.0,51.0,61.0,52.0,49.0,61.0,2.0,66.0,59.0,37.0,27.0,54.0,81.0,44.0,24.0,46.0,80.0,30.0,56.0,3.0,9.0,57.0,70.0,3.0,35.0,20.0,5.0,57.0,35.0,45.0,43.0,2.0,12.0,11.0,24.0,18.0,32.0,57.0,46.0,10.0,44.0,58.0,20.0,28.0,39.0,24.0,51.0,19.0,59.0,31.0,24.0,31.0,28.0,74.0,39.0,16.0,61.0,56.0,28.0,14.0,17.0,5.0,30.0,44.0,59.0,55.0,45.0,16.0,13.0,43.0,25.0,26.0,43.0,45.0,32.0,23.0,45.0,74.0,13.0,42.0,28.0,23.0,79.0,56.0,55.0,52.0,60.0,50.0,33.0,58.0,27.0,60.0,55.0,52.0,59.0,51.0,42.0,79.0,35.0,61.0,58.0,56.0,54.0,2.0,50.0,22.0,44.0,57.0,22.0,8.0,38.0,37.0,8.0,30.0,58.0,40.0,19.0,8.0,55.0,48.0,71.0,72.0,58.0,69.0,20.0,35.0,4.0,39.0,75.0,50.0,77.0,57.0,47.0,45.0,56.0,78.0,57.0,64.0,73.0,24.0,71.0,17.0,16.0,61.0,77.0,48.0,58.0,10.0,51.0,63.0,45.0,50.0,19.0,29.0,62.0,17.0,2.0,43.0,31.0,42.0,25.0,79.0,53.0,79.0,38.0,34.0,68.0,54.0,62.0,67.0,35.0,56.0,28.0,66.0,27.0,16.0,33.0,31.0,58.0,37.0,13.0,42.0,49.0,33.0,78.0,43.0,32.0,75.0,12.0,12.0,62.0,24.0,55.0,51.0,52.0,13.0,28.0,23.0,81.0,46.0,53.0,79.0,31.0,4.0,81.0,32.0,16.0,37.0,39.0,24.0,63.0,20.0,43.0,55.0,5.0,17.0,50.0,19.0,50.0,38.0,25.0,47.0,8.0,39.0,35.0,51.0,38.0,4.0,43.0,65.0,23.0,60.0,48.0,20.0,21.0,2.0,21.0,60.0,63.0,5.0,31.0,54.0,20.0,43.0,31.0,78.0,37.0,42.0,46.0,32.0,3.0,2.0,34.0,42.0,61.0,9.0,23.0,9.0,32.0,62.0,33.0,44.0,3.0,25.0,26.0,53.0,33.0,44.0,42.0,33.0,37.0,31.0,33.0,3.0,18.0,2.0,64.0,81.0,47.0,56.0,82.0,40.0,32.0,42.0,59.0,42.0,33.0,8.0,50.0,23.0,65.0,44.0,66.0,40.0,64.0,47.0,63.0,35.0,46.0,79.0,20.0,26.0,62.0,31.0,60.0,26.0,31.0,46.0,44.0,37.0,36.0,1.0,63.0,14.0,18.0,56.0,7.0,52.0,55.0,80.0,30.0,65.0,24.0,78.0,37.0,42.0,54.0,17.0,45.0,77.0,42.0,17.0,73.0,9.0,57.0,35.0,78.0,52.0,29.0,71.0,5.0,38.0,29.0,21.0,60.0,60.0,63.0,18.0,54.0,41.0,75.0,12.0,55.0,52.0,1.0,37.0,5.0,47.0,2.0,13.0,50.0,57.0,72.0,23.0,40.0,50.0,43.0,3.0,18.0,13.0,49.0,54.0,27.0,1.0,20.0,2.0,9.0,3.0,60.0,45.0,49.0,48.0,78.0,62.0,52.0,42.0,58.0,79.0,46.0,13.0,37.0,19.0,71.0,32.0,46.0,66.0,3.0,23.0,57.0,43.0,51.0,64.0,33.0,22.0,51.0,78.0,36.0,71.0,17.0,18.0,74.0,51.0,62.0,73.0,14.0,46.0,56.0,18.0,16.0,8.0,47.0,32.0,40.0,51.0,9.0,39.0,3.0,43.0,43.0,52.0,51.0,34.0,5.0,55.0,62.0,70.0,63.0,10.0,37.0,38.0,33.0,78.0,28.0,37.0,18.0,45.0,53.0,63.0,24.0,65.0,46.0,5.0,61.0,31.0,5.0,78.0,27.0,8.0,25.0,26.0,51.0,56.0,31.0,61.0,46.0,33.0,17.0,43.0,2.0,78.0,45.0,65.0,54.0,27.0,42.0,2.0,39.0,38.0,7.0,54.0,41.0,56.0,34.0,31.0,34.0,66.0,35.0,5.0,25.0,36.0,43.0,10.0,6.0,78.0,50.0,80.0,56.0,50.0,10.0,49.0,24.0,18.0,53.0,54.0,3.0,31.0,45.0,11.0,52.0,25.0,22.0,51.0,57.0,28.0,32.0,20.0,14.0,17.0,55.0,44.0,28.0,81.0,44.0,1.0,16.0,80.0,49.0,63.0,2.0,22.0,45.0,9.0,31.0,59.0,62.0,52.0,7.0,5.0,49.0,59.0,30.0,37.0,45.0,57.0,52.0,47.0,49.0,51.0,42.0,44.0,42.0,65.0,66.0,63.0,10.0,57.0,2.0,31.0,74.0,41.0,76.0,51.0,42.0,34.0,34.0,35.0,33.0,56.0,39.0,17.0,28.0,35.0,18.0,19.0,4.0,32.0,79.0,26.0,47.0,28.0,20.0,50.0,14.0,45.0,81.0,31.0,69.0,17.0,33.0,45.0,1.0,75.0,63.0,29.0,25.0,48.0,2.0,40.0,49.0,47.0,4.0,39.0,41.0,34.0,59.0,14.0,25.0,40.0,37.0,24.0,21.0,58.0,57.0,82.0,51.0,44.0,2.0,24.0,59.0,2.0,48.0,50.0,36.0,11.0,12.0,17.0,19.0,9.0,2.0,53.0,2.0,49.0,21.0,2.0,64.0,4.0,16.0,8.0,29.0,63.0,40.0,18.0,44.0,8.0,2.0,49.0,59.0,14.0,31.0,53.0,55.0,23.0,66.0,80.0,65.0,50.0,53.0,42.0,21.0,48.0,49.0,61.0,15.0,13.0,38.0,25.0,31.0,30.0,61.0,14.0,78.0,45.0,31.0,81.0,54.0,37.0,2.0,14.0,49.0,23.0,28.0,13.0,44.0,20.0,24.0,64.0,78.0,56.0,7.0,6.0,4.0,32.0,26.0,32.0,38.0,51.0,78.0,26.0,79.0,15.0,38.0,24.0,39.0,59.0,65.0,80.0,44.0,56.0,49.0,21.0,53.0,2.0,3.0,3.0,57.0,20.0,55.0,17.0,32.0,25.0,31.0,54.0,27.0,18.0,44.0,2.0,46.0,79.0,15.0,29.0,52.0,2.0,51.0,58.0,48.0,2.0,54.0,49.0,66.0,5.0,17.0,75.0,2.0,55.0,37.0,71.0,52.0,43.0,60.0,32.0,14.0,43.0,54.0,44.0,8.0,58.0,56.0,48.0,23.0,20.0,79.0,44.0,79.0,14.0,26.0,55.0,50.0,14.0,40.0,59.0,49.0,16.0,31.0,78.0,10.0,28.0,25.0,62.0,40.0,38.0,14.0,38.0,34.0,79.0,40.0,35.0,44.0,61.0,37.0,8.0,72.0,29.0,56.0,3.0,72.0,30.0,41.0,50.0,14.0,38.0,4.0,79.0,38.0,40.0,78.0,8.0,38.0,7.0,42.0,59.0,76.0,14.0,49.0,33.0,56.0,21.0,54.0,3.0,34.0,2.0,35.0,39.0,30.0,54.0,25.0,36.0,39.0,76.0,80.0,41.0,58.0,20.0,57.0,30.0,50.0,56.0,18.0,5.0,17.0,37.0,56.0,18.0,43.0,34.0,44.0,55.0,63.0,61.0,53.0,16.0,60.0,19.0,56.0,31.0,2.0,25.0,35.0,2.0,82.0,82.0,35.0,59.0,53.0,78.0,42.0,45.0,36.0,69.0,49.0,80.0,47.0,51.0,53.0,52.0,71.0,50.0,61.0,50.0,5.0,79.0,81.0,27.0,39.0,14.0,62.0,33.0,51.0,78.0,52.0,4.0,65.0,28.0,37.0,33.0,4.0,42.0,26.0,40.0,43.0,78.0,37.0,50.0,45.0,2.0,81.0,51.0,47.0,43.0,16.0,51.0,33.0,30.0,42.0,16.0,16.0,25.0,29.0,62.0,67.0,25.0,56.0,32.0,61.0,31.0,47.0,75.0,54.0,41.0,65.0,24.0,28.0,52.0,15.0,48.0,16.0,2.0,49.0,29.0,30.0,55.0,38.0,57.0,2.0,80.0,74.0,54.0,8.0,2.0,33.0,2.0,8.0,63.0,59.0,17.0,3.0,27.0,18.0,53.0,55.0,27.0,20.0,18.0,51.0,19.0,38.0,14.0,50.0,33.0,39.0,25.0,51.0,18.0,79.0,41.0,52.0,37.0,14.0,7.0,62.0,61.0,49.0,48.0,64.0,45.0,16.0,16.0,60.0,44.0,63.0,59.0,52.0,44.0,39.0,30.0,2.0,42.0,14.0,38.0,59.0,47.0,44.0,60.0,49.0,48.0,41.0,33.0,71.0,54.0,63.0,1.0,32.0,48.0,2.0,32.0,35.0,56.0,63.0,57.0,5.0,73.0,33.0,69.0,61.0,39.0,25.0,42.0,41.0,18.0,2.0,69.0,5.0,63.0,52.0,50.0,55.0,54.0,68.0,39.0,42.0,78.0,50.0,31.0,26.0,40.0,26.0,61.0,13.0,27.0,81.0,80.0,63.0,62.0,45.0,54.0,67.0,37.0,25.0,56.0,62.0,43.0,56.0,45.0,74.0,63.0,58.0,2.0,25.0,53.0,55.0,45.0,51.0,54.0,79.0,50.0,38.0,44.0,51.0,59.0,64.0,35.0,23.0,17.0,65.0,40.0,38.0,34.0,51.0,21.0,21.0,38.0,41.0,79.0,11.0,49.0,40.0,12.0,2.0,18.0,30.0,48.0,14.0,42.0,13.0,7.0,57.0,8.0,47.0,55.0,56.0,68.0,30.0,74.0,26.0,17.0,61.0,16.0,78.0,41.0,53.0,57.0,40.0,32.0,65.0,57.0,29.0,78.0,71.0,56.0,24.0,54.0,59.0,18.0,57.0,44.0,58.0,48.0,60.0,52.0,28.0,40.0,2.0,58.0,14.0,59.0,8.0,82.0,2.0,2.0,5.0,40.0,65.0,2.0,59.0,75.0,79.0,29.0,50.0,23.0,31.0,56.0,71.0,51.0,6.0,65.0,3.0,30.0,32.0,69.0,35.0,2.0,12.0,8.0,57.0,61.0,78.0,17.0,27.0,54.0,33.0,65.0,63.0,14.0,61.0,37.0,11.0,18.0,45.0,52.0,60.0,61.0,15.0,54.0,51.0,26.0,17.0,34.0,79.0,42.0,37.0,55.0,78.0,53.0,41.0,25.0,34.0,44.0,10.0,16.0,24.0,52.0,55.0,50.0,2.0,43.0,49.0,76.0,19.0,48.0,31.0,59.0,48.0,48.0,64.0,54.0,3.0,50.0,27.0,20.0,35.0,58.0,51.0,53.0,20.0,32.0,22.0,47.0,18.0,55.0,46.0,20.0,43.0,24.0,64.0,49.0,33.0,32.0,80.0,30.0,25.0,40.0,58.0,23.0,50.0,62.0,25.0,39.0,43.0,22.0,67.0,30.0,78.0,21.0,65.0,22.0,73.0,1.0,61.0,32.0,31.0,52.0,43.0,60.0,8.0,80.0,81.0,18.0,45.0,61.0,9.0,46.0,46.0,53.0,14.0,27.0,22.0,63.0,73.0,75.0,55.0,66.0,65.0,49.0,3.0,53.0,27.0,36.0,21.0,18.0,26.0,73.0,2.0,29.0,41.0,61.0,8.0,24.0,73.0,50.0,13.0,62.0,49.0,57.0,78.0,8.0,28.0,4.0,2.0,70.0,58.0,63.0,38.0,24.0,20.0,39.0,18.0,59.0,49.0,49.0,75.0,35.0,8.0,2.0,55.0,80.0,46.0,27.0,44.0,12.0,17.0,42.0,35.0,60.0,55.0,39.0,57.0,45.0,34.0,55.0,53.0,43.0,1.0,38.0,49.0,28.0,61.0,66.0,5.0,17.0,64.0,37.0,33.0,1.0,39.0,31.0,31.0,23.0,53.0,43.0,18.0,41.0,63.0,1.0,47.0,37.0,56.0,25.0,52.0,39.0,60.0,29.0,18.0,28.0,35.0,18.0,40.0,53.0,42.0,81.0,50.0,23.0,51.0,21.0,54.0,58.0,37.0,18.0,60.0,50.0,33.0,45.0,10.0,40.0,62.0,53.0,2.0,17.0,40.0,47.0,57.0,54.0,66.0,51.0,15.0,47.0,63.0,53.0,6.0,5.0,59.0,56.0,24.0,27.0,78.0,78.0,41.0,37.0,56.0,69.0,78.0,32.0,12.0,61.0,67.0,74.0,45.0,42.0,58.0,1.0,31.0,15.0,5.0,33.0,9.0,74.0,4.0,79.0,57.0,81.0,78.0,54.0,14.0,47.0,24.0,1.0,57.0,14.0,32.0,62.0,45.0,67.0,13.0,55.0,3.0,19.0,44.0,1.0,29.0,21.0,57.0,29.0,41.0,18.0,10.0,41.0,48.0,33.0,2.0,59.0,57.0,31.0,24.0,11.0,9.0,30.0,78.0,24.0,78.0,57.0,61.0,27.0,11.0,31.0,63.0,23.0,20.0,40.0,80.0,41.0,45.0,31.0,78.0,12.0,1.0,59.0,47.0,53.0,54.0,57.0,45.0,65.0,22.0,33.0,58.0,51.0,53.0,34.0,70.0,37.0,14.0,39.0,17.0,60.0,44.0,50.0,50.0,69.0,17.0,31.0,43.0,40.0,62.0,57.0,34.0,33.0,27.0,47.0,57.0,54.0,59.0,56.0,69.0,54.0,23.0,48.0,55.0,51.0,79.0,48.0,49.0,57.0,28.0,47.0,64.0,79.0,72.0,32.0,54.0,41.0,43.0,59.0,23.0,5.0,34.0,8.0,53.0,41.0,82.0,26.0,32.0,45.0,78.0,50.0,45.0,41.0,74.0,80.0,16.0,8.0,66.0,39.0,18.0,63.0,62.0,28.0,79.0,26.0,74.0,24.0,70.0,46.0,62.0,63.0,32.0,38.0,4.0,34.0,35.0,73.0,53.0,38.0,35.0,5.0,65.0,41.0,79.0,55.0,41.0,53.0,44.0,59.0,23.0,24.0,55.0,68.0,78.0,78.0,43.0,37.0,51.0,79.0,14.0,51.0,17.0,26.0,6.0,46.0,61.0,26.0,79.0,80.0,53.0,46.0,37.0,6.0,60.0,47.0,8.0,52.0,51.0,63.0,47.0,64.0,25.0,22.0,1.0,41.0,3.0,52.0,13.0,64.0,54.0,54.0,53.0,37.0,55.0,4.0,43.0,29.0,55.0,19.0,7.0,34.0,43.0,32.0,43.0,44.0,10.0,57.0,8.0,18.0,26.0,20.0,64.0,46.0,30.0,31.0,31.0,65.0,39.0,52.0,30.0,59.0,36.0,51.0,66.0,50.0,48.0,54.0,32.0,43.0,3.0,49.0,20.0,38.0,35.0,59.0,5.0,18.0,78.0,44.0,51.0,46.0,10.0,53.0,40.0,20.0,26.0,55.0,37.0,52.0,48.0,62.0,53.0,37.0,23.0,68.0,51.0,28.0,44.0,1.0,59.0,8.0,45.0,16.0,59.0,8.0,57.0,18.0,18.0,58.0,53.0,26.0,31.0,35.0,20.0,7.0,75.0,11.0,79.0,29.0,49.0,46.0,34.0,26.0,51.0,26.0,65.0,60.0,23.0,2.0,52.0,45.0,54.0,71.0,81.0,41.0,55.0,56.0,28.0,14.0,71.0,16.0,41.0,69.0,37.0,67.0,5.0,25.0,61.0,74.0,55.0,31.0,45.0,18.0,8.0,56.0,33.0,8.0,25.0,42.0,47.0,26.0,20.0,57.0,5.0,31.0,24.0,21.0,52.0,26.0,56.0,80.0,35.0,37.0,23.0,38.0,27.0,5.0,59.0,33.0,82.0,9.0,74.0,38.0,51.0,38.0,42.0,42.0,31.0,50.0,66.0,39.0,27.0,18.0,41.0,27.0,3.0,8.0,69.0,57.0,30.0,5.0,17.0,50.0,54.0,41.0,47.0,34.0,53.0,70.0,57.0,40.0,17.0,57.0,41.0,20.0,67.0,5.0,49.0,4.0,40.0,80.0,37.0,75.0,28.0,20.0,34.0,32.0,63.0,37.0,45.0,2.0,9.0,82.0,58.0,47.0,38.0,18.0,32.0,57.0,52.0,16.0,50.0,5.0,62.0,8.0,39.0,51.0,54.0,5.0,5.0,46.0,26.0,43.0,4.0,66.0,13.0,53.0,44.0,21.0,8.0,48.0,55.0,31.0,30.0,41.0,37.0,14.0,41.0,48.0,50.0,7.0,21.0,59.0,38.0,35.0,2.0,5.0,26.0,3.0,55.0,10.0,2.0,14.0,2.0,2.0,50.0,2.0,34.0,4.0,2.0,44.0,79.0,14.0,17.0,34.0,44.0,10.0,20.0,28.0,44.0,55.0,63.0,25.0,57.0,32.0,47.0,63.0,41.0,43.0,37.0,34.0,62.0,50.0,24.0,55.0,40.0,74.0,35.0,49.0,35.0,17.0,41.0,34.0,27.0,53.0,44.0,69.0,65.0,37.0,76.0,69.0,39.0,70.0,8.0,52.0,49.0,15.0,37.0,25.0,58.0,58.0,54.0,49.0,54.0,53.0,17.0,43.0,28.0,47.0,40.0,64.0,23.0,47.0,55.0,52.0,5.0,26.0,18.0,31.0,13.0,59.0,65.0,2.0,31.0,57.0,12.0,62.0,5.0,63.0,49.0,52.0,49.0,17.0,2.0,53.0,2.0,78.0,50.0,12.0,8.0,2.0,19.0,31.0,56.0,62.0,34.0,43.0,40.0,44.0,60.0,57.0,20.0,39.0,25.0,59.0,58.0,53.0,37.0,50.0,61.0,66.0,36.0,53.0,27.0,53.0,39.0,81.0,35.0,45.0,23.0,40.0,62.0,16.0,33.0,7.0,27.0,5.0,22.0,81.0,14.0,58.0,57.0,60.0,50.0,59.0,43.0,2.0,2.0,15.0,57.0,65.0,70.0,28.0,51.0,58.0,17.0,48.0,51.0,37.0,24.0,57.0,50.0,30.0,45.0,61.0,27.0,77.0,76.0,49.0,6.0,8.0,41.0,29.0,62.0,45.0,57.0,47.0,78.0,26.0,40.0,29.0,31.0,2.0,26.0,45.0,80.0,21.0,60.0,38.0,51.0,32.0,21.0,51.0,62.0,54.0,38.0,27.0,47.0,1.0,32.0,24.0,45.0,27.0,81.0,42.0,50.0,32.0,31.0,41.0,24.0,45.0,62.0,55.0,48.0,13.0,55.0,49.0,66.0,7.0,45.0,52.0,56.0,51.0,17.0,52.0,53.0,44.0,51.0,66.0,37.0,48.0,43.0,30.0,46.0,38.0,31.0,78.0,50.0,49.0,50.0,52.0,8.0,4.0,20.0,2.0,59.0,69.0,27.0,35.0,56.0,41.0,10.0,40.0,26.0,58.0,44.0,14.0,42.0,14.0,78.0,35.0,57.0,61.0,37.0,5.0,41.0,18.0,31.0,24.0,64.0,55.0,5.0,2.0,23.0,34.0,45.0,50.0,78.0,4.0,55.0,18.0,51.0,43.0,40.0,40.0,8.0,43.0,54.0,2.0,50.0,56.0,24.0,30.0,38.0,50.0,55.0,17.0,61.0,15.0,49.0,43.0,47.0,43.0,65.0,44.0,26.0,65.0,64.0,10.0,23.0,29.0,13.0,48.0,81.0,78.0,63.0,50.0,51.0,55.0,10.0,58.0,44.0,8.0,5.0,19.0,44.0,55.0,1.0,39.0,32.0,55.0,47.0,53.0,22.0,79.0,21.0,51.0,43.0,61.0,23.0,13.0,53.0,60.0,7.0,2.0,2.0,2.0,41.0,63.0,37.0,10.0,56.0,53.0,40.0,28.0,59.0,45.0,49.0,5.0,60.0,51.0,65.0,46.0,30.0,31.0,61.0,50.0,60.0,39.0,17.0,33.0,47.0,36.0,8.0,43.0,62.0,64.0,27.0,18.0,1.0,78.0,58.0,81.0,5.0,38.0,7.0,43.0,71.0,70.0,6.0,17.0,57.0,2.0,49.0,29.0,37.0,32.0,30.0,22.0,43.0,48.0,54.0,55.0,68.0,54.0,59.0,53.0,47.0,52.0,2.0,70.0,47.0,2.0,20.0,38.0,23.0,69.0,46.0,34.0,55.0,45.0,40.0,39.0,49.0,31.0,51.0,34.0,70.0,2.0,10.0,21.0,5.0,13.0,61.0,57.0,76.0,56.0,41.0,35.0,44.0,18.0,26.0,51.0,16.0,34.0,57.0,59.0,41.0,17.0,16.0,20.0,63.0,41.0,15.0,34.0,58.0,66.0,20.0,57.0,34.0,43.0,17.0,53.0,18.0,44.0,62.0,5.0,51.0,26.0,13.0,2.0,14.0,32.0,34.0,56.0,57.0,69.0,57.0,37.0,59.0,41.0,60.0,48.0,35.0,16.0,20.0,56.0,55.0,59.0,75.0,52.0,64.0,34.0,50.0,23.0,47.0,46.0,31.0,10.0,26.0,5.0,44.0,27.0,5.0,56.0,59.0,40.0,51.0,79.0,79.0,80.0,65.0,79.0,26.0,60.0,39.0,5.0,39.0,60.0,59.0,25.0,29.0,56.0,40.0,58.0,22.0,70.0,60.0,62.0,38.0,34.0,63.0,53.0,6.0,2.0,39.0,78.0,59.0,66.0,32.0,15.0,2.0,28.0,45.0,40.0,58.0,6.0,5.0,28.0,72.0,38.0,60.0,61.0,19.0,13.0,45.0,57.0,79.0,48.0,26.0,71.0,57.0,43.0,17.0,37.0,61.0,60.0,8.0,39.0,31.0,54.0,59.0,24.0,24.0,18.0,29.0,25.0,55.0,67.0,44.0,50.0,32.0,53.0,40.0,3.0,57.0,31.0,50.0,43.0,18.0,34.0,59.0,59.0,51.0,81.0,38.0,31.0,79.0,56.0,49.0,5.0,8.0,29.0,45.0,51.0,46.0,51.0,52.0,8.0,26.0,63.0,45.0,62.0,40.0,52.0,39.0,57.0,32.0,42.0,45.0,34.0,8.0,42.0,1.0,65.0,46.0,20.0,70.0,41.0,57.0,44.0,52.0,17.0,37.0,67.0,34.0,81.0,1.0,5.0,29.0,82.0,37.0,5.0,67.0,64.0,58.0,75.0,5.0,23.0,57.0,53.0,67.0,82.0,27.0,34.0,55.0,45.0,53.0,55.0,77.0,79.0,38.0,29.0,46.0,73.0,50.0,58.0,45.0,79.0,78.0,8.0,25.0,48.0,40.0,52.0,65.0,45.0,60.0,76.0,24.0,17.0,35.0,53.0,42.0,82.0,51.0,2.0,38.0,54.0,34.0,12.0,49.0,29.0,61.0,59.0,55.0,23.0,52.0,60.0,46.0,81.0,46.0,3.0,80.0,78.0,49.0,54.0,42.0,2.0,53.0,62.0,55.0,2.0,79.0,8.0,12.0,56.0,5.0,16.0,9.0,8.0,30.0,35.0,5.0,11.0,36.0,33.0,18.0,8.0,2.0,48.0,16.0,32.0,17.0,78.0,34.0,23.0,20.0,54.0,58.0,5.0,30.0,31.0,50.0,22.0,55.0,76.0,1.0,39.0,5.0,54.0,2.0,63.0,53.0,52.0,32.0,78.0,34.0,66.0,37.0,14.0,57.0,57.0,53.0,15.0,45.0,43.0,29.0,74.0,38.0,9.0,45.0,8.0,58.0,57.0,2.0,54.0,60.0,27.0,9.0,54.0,41.0,80.0,59.0,79.0,58.0,26.0,20.0,50.0,14.0,53.0,61.0,48.0,40.0,26.0,3.0,61.0,21.0,31.0,47.0,62.0,11.0,30.0,11.0,55.0,37.0,31.0,55.0,42.0,44.0,54.0,79.0,3.0,41.0,50.0,82.0,62.0,79.0,32.0,39.0,37.0,41.0,79.0,16.0,50.0,27.0,39.0,18.0,44.0,54.0,65.0,55.0,80.0,39.0,48.0,79.0,38.0,57.0,40.0,62.0,37.0,34.0,56.0,64.0,13.0,52.0,59.0,80.0,47.0,39.0,63.0,46.0,37.0,45.0,2.0,14.0,71.0,54.0,55.0,42.0,43.0,7.0,15.0,18.0,51.0,70.0,21.0,1.0,7.0,20.0,1.0,48.0,50.0,31.0,67.0,24.0,30.0,54.0,46.0,52.0,1.0,54.0,43.0,60.0,27.0,60.0,46.0,56.0,59.0,79.0,37.0,1.0,56.0,33.0,40.0,37.0,20.0,24.0,21.0,5.0,60.0,38.0,32.0,37.0,42.0,55.0,65.0,47.0,52.0,4.0,2.0,56.0,17.0,32.0,21.0,25.0,58.0,39.0,18.0,59.0,51.0,26.0,26.0,59.0,37.0,71.0,78.0,49.0,18.0,78.0,70.0,58.0,58.0,77.0,26.0,13.0,41.0,82.0,27.0,23.0,19.0,16.0,20.0,57.0,2.0,32.0,24.0,37.0,45.0,41.0,44.0,11.0,60.0,60.0,45.0,62.0,58.0,48.0,78.0,36.0,2.0,58.0,78.0,34.0,39.0,52.0,23.0,17.0,17.0,34.0,19.0,58.0,41.0,51.0,56.0,57.0,18.0,61.0,43.0,50.0,56.0,31.0,57.0,53.0,50.0,30.0,17.0,42.0,57.0,19.0,80.0,41.0,57.0,51.0,40.0,54.0,45.0,4.0,2.0,33.0,49.0,24.0,25.0,80.0,2.0,19.0,2.0,20.0,44.0,57.0,37.0,31.0,47.0,26.0,19.0,68.0,31.0,34.0,32.0,14.0,38.0,15.0,80.0,60.0,37.0,51.0,46.0,33.0,39.0,31.0,26.0,55.0,47.0,1.0,45.0,51.0,45.0,57.0,44.0,59.0,67.0,75.0,15.0,9.0,13.0,60.0,32.0,56.0,59.0,2.0,58.0,37.0,27.0,45.0,27.0,56.0,49.0,45.0,50.0,32.0,53.0,31.0,40.0,44.0,63.0,19.0,61.0,41.0,64.0,35.0,70.0,35.0,44.0,82.0,56.0,60.0,48.0,40.0,2.0,13.0,2.0,2.0,1.0,11.0,44.0,44.0,52.0,57.0,2.0,26.0,42.0,19.0,60.0,40.0,30.0,8.0,43.0,65.0,41.0,24.0,30.0,25.0,21.0,18.0,70.0,49.0,62.0,17.0,24.0,41.0,37.0,22.0,27.0,53.0,53.0,14.0,49.0,28.0,45.0,57.0,29.0,20.0,37.0,75.0,65.0,57.0,24.0,78.0,42.0,30.0,54.0,32.0,43.0,28.0,45.0,16.0,78.0,19.0,40.0,35.0,42.0,46.0,18.0,25.0,41.0,21.0,14.0,32.0,2.0,31.0,4.0,45.0,57.0,1.0,10.0,39.0,27.0,45.0,12.0,47.0,66.0,48.0,43.0,22.0,11.0,58.0,33.0,10.0,28.0,41.0,40.0,63.0,60.0,2.0,34.0,39.0,48.0,30.0,51.0,32.0,49.0,39.0,37.0,31.0,51.0,25.0,54.0,56.0,23.0,34.0,47.0,6.0,2.0,76.0,42.0,61.0,24.0,57.0,60.0,80.0,2.0,11.0,24.0,8.0,66.0,2.0,29.0,35.0,27.0,41.0,57.0,66.0,80.0,55.0,76.0,77.0,24.0,55.0,8.0,54.0,23.0,45.0,71.0,37.0,2.0,41.0,23.0,26.0,2.0,16.0,44.0,2.0,62.0,11.0,70.0,40.0,41.0,49.0,52.0,48.0,26.0,2.0,57.0,44.0,5.0,54.0,45.0,62.0,17.0,29.0,71.0,53.0,69.0,42.0,31.0,50.0,78.0,39.0,56.0,20.0,53.0,26.0,78.0,47.0,8.0,65.0,19.0,10.0,54.0,66.0,60.0,82.0,76.0,38.0,16.0,49.0,35.0,38.0,38.0,8.0,30.0,23.0,31.0,40.0,47.0,63.0,43.0,38.0,16.0,27.0,71.0,16.0,53.0,72.0,42.0,45.0,53.0,62.0,14.0,58.0,68.0,19.0,8.0,2.0,69.0,50.0,79.0,53.0,42.0,78.0,15.0,50.0,13.0,51.0,58.0,71.0,82.0,76.0,59.0,79.0,54.0,80.0,10.0,58.0,29.0,57.0,29.0,36.0,42.0,43.0,76.0,56.0,31.0,49.0,43.0,52.0,17.0,43.0,38.0,53.0,72.0,61.0,52.0,23.0,59.0,63.0,60.0,58.0,43.0,43.0,67.0,23.0,80.0,19.0,40.0,37.0,77.0,45.0,48.0,38.0,59.0,3.0,66.0,2.0,13.0,58.0,41.0,58.0,79.0,46.0,44.0,25.0,2.0,37.0,59.0,37.0,5.0,42.0,46.0,63.0,54.0,26.0,5.0,30.0,21.0,24.0,52.0,45.0,61.0,48.0,5.0,62.0,79.0,63.0,31.0,55.0,51.0,55.0,80.0,61.0,13.0,13.0,49.0,2.0,31.0,19.0,78.0,56.0,40.0,77.0,4.0,78.0,26.0,52.0,48.0,60.0,28.0,6.0,32.0,47.0,54.0,35.0,43.0,15.0,57.0,65.0,2.0,63.0,17.0,46.0,9.0,54.0,16.0,23.0,57.0,36.0,54.0,43.0,15.0,9.0,10.0,42.0,33.0,58.0,2.0,39.0,49.0,80.0,28.0,5.0,52.0,5.0,27.0,34.0,79.0,15.0,16.0,44.0,51.0,21.0,14.0,53.0,26.0,3.0,18.0,52.0,82.0,17.0,77.0,26.0,51.0,54.0,66.0,65.0,53.0,2.0,55.0,23.0,3.0,42.0,44.0,23.0,44.0,42.0,26.0,62.0,24.0,41.0,17.0,25.0,41.0,57.0,13.0,30.0,43.0,41.0,38.0,53.0,62.0,34.0,45.0,65.0,26.0,37.0,61.0,48.0,73.0,52.0,54.0,26.0,59.0,76.0,58.0,46.0,51.0,37.0,40.0,22.0,13.0,58.0,61.0,68.0,13.0,30.0,56.0,3.0,23.0,25.0,32.0,43.0,3.0,79.0,31.0,79.0,78.0,79.0,57.0,74.0,48.0,16.0,54.0,37.0,59.0,19.0,40.0,79.0,59.0,36.0,34.0,14.0,56.0,24.0,53.0,38.0,14.0,47.0,40.0,30.0,43.0,47.0,40.0,28.0,52.0,50.0,45.0,40.0,27.0,33.0,43.0,38.0,39.0,75.0,79.0,16.0,46.0,53.0,2.0,28.0,11.0,19.0,70.0,54.0,59.0,7.0,17.0,60.0,42.0,16.0,26.0,38.0,31.0,56.0,78.0,52.0,82.0,41.0,58.0,62.0,3.0,53.0,75.0,2.0,70.0,47.0,50.0,45.0,26.0,27.0,25.0,16.0,37.0,30.0,1.0,20.0,26.0,27.0,37.0,14.0,40.0,26.0,22.0,58.0,23.0,55.0,35.0,5.0,39.0,64.0,27.0,7.0,8.0,60.0,44.0,1.0,57.0,61.0,15.0,32.0,49.0,17.0,37.0,30.0,62.0,62.0,63.0,42.0,16.0,49.0,2.0,53.0,66.0,35.0,44.0,56.0,30.0,13.0,47.0,41.0,63.0,52.0,42.0,49.0,65.0,42.0,34.0,24.0,44.0,54.0,26.0,7.0,52.0,31.0,14.0,57.0,58.0,59.0,61.0,10.0,31.0,69.0,37.0,54.0,15.0,45.0,53.0,12.0,13.0,20.0,16.0,61.0,2.0,48.0,58.0,57.0,2.0,19.0,6.0,69.0,57.0,31.0,65.0,27.0,44.0,53.0,18.0,80.0,44.0,54.0,54.0,27.0,39.0,62.0,55.0,65.0,22.0,36.0,35.0,51.0,18.0,27.0,5.0,16.0,19.0,53.0,54.0,58.0,24.0,43.0,39.0,3.0,43.0,24.0,65.0,1.0,44.0,46.0,14.0,18.0,72.0,54.0,56.0,59.0,50.0,76.0,13.0,14.0,8.0,65.0,39.0,24.0,50.0,13.0,52.0,1.0,35.0,42.0,60.0,42.0,33.0,1.0,48.0,36.0,40.0,27.0,24.0,17.0,77.0,8.0,37.0,54.0,52.0,55.0,38.0,18.0,1.0,43.0,13.0,6.0,80.0,14.0,21.0,2.0,42.0,47.0,58.0,57.0,39.0,41.0,17.0,26.0,57.0,39.0,2.0,41.0,43.0,8.0,20.0,39.0,38.0,21.0,31.0,41.0,41.0,81.0,45.0,50.0,44.0,30.0,31.0,53.0,34.0,48.0,33.0,2.0,44.0,8.0,63.0,26.0,2.0,15.0,49.0,51.0,2.0,53.0,55.0,18.0,31.0,51.0,61.0,5.0,71.0,32.0,38.0,11.0,45.0,55.0,14.0,78.0,52.0,58.0,26.0,44.0,78.0,34.0,8.0,51.0,35.0,36.0,44.0,38.0,39.0,42.0,51.0,11.0,33.0,57.0,24.0,45.0,28.0,34.0,47.0,20.0,55.0,62.0,9.0,19.0,37.0,45.0,33.0,45.0,3.0,57.0,20.0,32.0,44.0,57.0,60.0,76.0,49.0,59.0,52.0,44.0,76.0,27.0,32.0,17.0,80.0,17.0,46.0,54.0,5.0,44.0,78.0,63.0,7.0,47.0,32.0,5.0,49.0,41.0,25.0,81.0,50.0,48.0,9.0,27.0,55.0,25.0,34.0,12.0,62.0,61.0,50.0,41.0,40.0,5.0,42.0,32.0,78.0,35.0,39.0,55.0,56.0,25.0,62.0,26.0,28.0,49.0,40.0,68.0,50.0,23.0,16.0,79.0,5.0,63.0,22.0,51.0,5.0,20.0,42.0,24.0,23.0,49.0,16.0,42.0,30.0,14.0,9.0,14.0,37.0,36.0,8.0,8.0,19.0,66.0,4.0,29.0,39.0,32.0,56.0,17.0,50.0,36.0,29.0,27.0,65.0,49.0,43.0,21.0,23.0,26.0,12.0,2.0,9.0,79.0,65.0,1.0,60.0,44.0,35.0,36.0,20.0,42.0,50.0,78.0,46.0,39.0,39.0,59.0,64.0,56.0,12.0,37.0,53.0,32.0,17.0,57.0,27.0,4.0,50.0,5.0,34.0,40.0,54.0,8.0,32.0,65.0,56.0,44.0,79.0,64.0,20.0,53.0,61.0,41.0,53.0,35.0,21.0,24.0,73.0,33.0,78.0,45.0,55.0,16.0,48.0,2.0,37.0,39.0,6.0,2.0,11.0,65.0,60.0,32.0,30.0,77.0,61.0,37.0,53.0,57.0,2.0,80.0,15.0,5.0,44.0,79.0,78.0,51.0,2.0,73.0,73.0,15.0,10.0,56.0,46.0,18.0,26.0,82.0,12.0,34.0,26.0,53.0,16.0,47.0,45.0,58.0,13.0,16.0,51.0,51.0,37.0,56.0,24.0,41.0,78.0,45.0,41.0,19.0,5.0,18.0,10.0,34.0,26.0,27.0,60.0,67.0,45.0,57.0,2.0,32.0,66.0,7.0,13.0,2.0,44.0,32.0,56.0,27.0,47.0,70.0,53.0,31.0,78.0,26.0,37.0,79.0,42.0,36.0,52.0,16.0,2.0,25.0,36.0,55.0,47.0,52.0,40.0,2.0,61.0,50.0,71.0,56.0,35.0,60.0,13.0,13.0,38.0,16.0,63.0,22.0,5.0,28.0,38.0,43.0,42.0,15.0,52.0,62.0,56.0,78.0,81.0,25.0,58.0,12.0,43.0,3.0,33.0,78.0,51.0,49.0,2.0,23.0,3.0,65.0,16.0,58.0,27.0,29.0,63.0,44.0,48.0,41.0,74.0,37.0,26.0,45.0,59.0,7.0,37.0,37.0,55.0,54.0,51.0,26.0,51.0,30.0,70.0,49.0,44.0,44.0,26.0,42.0,8.0,5.0,53.0,14.0,78.0,62.0,54.0,10.0,62.0,80.0,53.0,37.0,10.0,15.0,52.0,31.0,79.0,58.0,38.0,5.0,65.0,41.0,15.0,70.0,41.0,80.0,80.0,65.0,72.0,49.0,50.0,54.0,65.0,50.0,18.0,36.0,49.0,2.0,80.0,38.0,22.0,13.0,54.0,29.0,17.0,2.0,77.0,74.0,37.0,69.0,35.0,7.0,38.0,43.0,12.0,19.0,58.0,8.0,40.0,38.0,57.0,18.0,20.0,6.0,44.0,58.0,11.0,45.0,78.0,19.0,31.0,60.0,36.0,30.0,54.0,79.0,56.0,25.0,18.0,56.0,45.0,52.0,43.0,33.0,61.0,23.0,5.0,61.0,49.0,28.0,61.0,80.0,42.0,60.0,55.0,58.0,79.0,48.0,18.0,13.0,35.0,49.0,37.0,61.0,53.0,56.0,40.0,8.0,66.0,56.0,5.0,52.0,19.0,13.0,46.0,20.0,55.0,70.0,54.0,55.0,6.0,48.0,40.0,30.0,55.0,55.0,2.0,21.0,52.0,39.0,33.0,49.0,41.0,25.0,24.0,72.0,60.0,24.0,43.0,5.0,21.0,18.0,32.0,45.0,38.0,17.0,19.0,26.0,27.0,63.0,59.0,79.0,71.0,30.0,71.0,72.0,14.0,60.0,36.0,24.0,31.0,14.0,44.0,39.0,30.0,38.0,32.0,55.0,45.0,26.0,50.0,18.0,14.0,8.0,37.0,2.0,16.0,54.0,48.0,64.0,38.0,12.0,45.0,18.0,18.0,61.0,3.0,32.0,62.0,16.0,33.0,34.0,33.0,82.0,20.0,47.0,32.0,25.0,10.0,6.0,16.0,20.0,21.0,34.0,61.0,1.0,24.0,23.0,41.0,18.0,31.0,47.0,79.0,66.0,63.0,45.0,45.0,63.0,42.0,20.0,22.0,42.0,2.0,52.0,27.0,35.0,57.0,29.0,38.0,39.0,75.0,53.0,32.0,41.0,35.0,16.0,50.0,6.0,2.0,61.0,53.0,32.0,52.0,18.0,56.0,30.0,69.0,43.0,50.0,47.0,52.0,66.0,43.0,42.0,49.0,45.0,42.0,32.0,80.0,34.0,28.0,54.0,37.0,60.0,75.0,34.0,58.0,10.0,79.0,66.0,56.0,22.0,44.0,33.0,51.0,19.0,73.0,2.0,49.0,31.0,32.0,28.0,12.0,30.0,37.0,11.0,67.0,1.0,64.0,56.0,41.0,31.0,53.0,1.0,17.0,1.0,43.0,9.0,25.0,58.0,35.0,54.0,56.0,32.0,50.0,32.0,21.0,17.0,32.0,22.0,45.0,20.0,78.0,43.0,31.0,5.0,34.0,52.0,43.0,67.0,27.0,39.0,72.0,34.0,2.0,78.0,59.0,49.0,62.0,80.0,34.0,79.0,24.0,31.0,47.0,31.0,12.0,63.0,8.0,59.0,16.0,47.0,10.0,77.0,54.0,14.0,11.0,48.0,65.0,17.0,45.0,68.0,5.0,56.0,74.0,30.0,3.0,25.0,4.0,64.0,55.0,52.0,7.0,65.0,46.0,41.0,56.0,64.0,2.0,57.0,53.0,78.0,47.0,27.0,52.0,47.0,63.0,24.0,41.0,2.0,9.0,1.0,27.0,47.0,5.0,7.0,32.0,13.0,4.0,36.0,71.0,25.0,40.0,53.0,31.0,20.0,60.0,68.0,33.0,79.0,45.0,43.0,34.0,69.0,55.0,30.0,34.0,23.0,59.0,22.0,47.0,50.0,53.0,10.0,34.0,52.0,78.0,66.0,43.0,5.0,79.0,57.0,42.0,59.0,27.0,53.0,80.0,23.0,30.0,80.0,16.0,47.0,12.0,35.0,54.0,4.0,52.0,40.0,21.0,56.0,51.0,38.0,42.0,28.0,23.0,58.0,17.0,56.0,20.0,57.0,34.0,5.0,40.0,32.0,52.0,21.0,79.0,31.0,14.0,45.0,13.0,23.0,57.0,54.0,62.0,50.0,78.0,34.0,78.0,28.0,41.0,37.0,11.0,44.0,14.0,18.0,2.0,78.0,37.0,49.0,64.0,30.0,69.0,20.0,52.0,55.0,43.0,62.0,40.0,12.0,71.0,20.0,20.0,16.0,32.0,24.0,42.0,61.0,33.0,14.0,40.0,44.0,38.0,42.0,42.0,44.0,29.0,74.0,32.0,77.0,18.0,25.0,69.0,33.0,41.0,52.0,46.0,25.0,61.0,32.0,70.0,31.0,57.0,17.0,71.0,53.0,48.0,70.0,45.0,31.0,20.0,54.0,45.0,50.0,46.0,82.0,53.0,46.0,19.0,61.0,2.0,27.0,59.0,57.0,61.0,15.0,60.0,39.0,51.0,36.0,20.0,16.0,56.0,59.0,80.0,50.0,27.0,39.0,20.0,60.0,48.0,61.0,5.0,78.0,49.0,13.0,75.0,71.0,61.0,34.0,38.0,80.0,5.0,25.0,26.0,56.0,37.0,3.0,13.0,31.0,19.0,30.0,53.0,10.0,31.0,57.0,57.0,69.0,41.0,65.0,16.0,53.0,56.0,50.0,31.0,45.0,39.0,60.0,23.0,54.0,55.0,47.0,46.0,28.0,38.0,26.0,41.0,1.0,44.0,42.0,44.0,32.0,60.0,47.0,27.0,9.0,3.0,45.0,12.0,61.0,35.0,57.0,61.0,14.0,48.0,7.0,23.0,61.0,30.0,14.0,78.0,54.0,38.0,43.0,61.0,80.0,17.0,48.0,4.0,12.0,41.0,2.0,16.0,52.0,45.0,17.0,34.0,46.0,60.0,60.0,43.0,59.0,46.0,17.0,5.0,42.0,3.0,44.0,31.0,62.0,62.0,38.0,25.0,10.0,49.0,52.0,2.0,57.0,54.0,37.0,78.0,53.0,21.0,15.0,37.0,54.0,62.0,55.0,26.0,41.0,44.0,57.0,10.0,47.0,32.0,58.0,16.0,53.0,45.0,2.0,11.0,11.0,12.0,71.0,64.0,79.0,69.0,62.0,55.0,49.0,2.0,57.0,39.0,21.0,39.0,57.0,82.0,44.0,79.0,60.0,57.0,46.0,2.0,62.0,49.0,14.0,2.0,49.0,34.0,77.0,68.0,34.0,75.0,53.0,27.0,32.0,56.0,21.0,34.0,34.0,43.0,10.0,27.0,69.0,45.0,51.0,5.0,46.0,35.0,56.0,33.0,53.0,78.0,18.0,52.0,36.0,76.0,44.0,3.0,53.0,12.0,5.0,56.0,67.0,58.0,49.0,27.0,73.0,2.0,18.0,47.0,6.0,69.0,49.0,65.0,26.0,56.0,80.0,30.0,47.0,22.0,37.0,2.0,50.0,50.0,54.0,27.0,59.0,44.0,18.0,81.0,42.0,2.0,77.0,1.0,39.0,2.0,25.0,36.0,65.0,28.0,38.0,32.0,59.0,37.0,47.0,19.0,3.0,48.0,31.0,78.0,50.0,65.0,41.0,5.0,51.0,31.0,28.0,50.0,18.0,57.0,24.0,27.0,36.0,80.0,60.0,39.0,72.0,38.0,50.0,1.0,16.0,32.0,21.0,4.0,13.0,1.0,26.0,58.0,40.0,1.0,55.0,62.0,25.0,31.0,10.0,12.0,41.0,62.0,51.0,44.0,31.0,51.0,13.0,45.0,8.0,47.0,2.0,43.0,42.0,37.0,34.0,37.0,78.0,3.0,38.0,66.0,17.0,74.0,60.0,40.0,5.0,44.0,14.0,58.0,80.0,24.0,20.0,59.0,37.0,42.0,42.0,31.0,59.0,63.0,61.0,50.0,47.0,44.0,41.0,37.0,42.0,3.0,52.0,8.0,78.0,18.0,5.0,2.0,80.0,42.0,42.0,24.0,49.0,60.0,45.0,48.0,62.0,51.0,34.0,24.0,31.0,45.0,13.0,53.0,46.0,25.0,39.0,40.0,47.0,1.0,76.0,61.0,48.0,54.0,52.0,31.0,8.0,66.0,48.0,17.0,41.0,25.0,38.0,15.0,56.0,10.0,54.0,81.0,26.0,38.0,78.0,50.0,53.0,37.0,43.0,71.0,47.0,40.0,9.0,4.0,68.0,29.0,74.0,31.0,33.0,58.0,29.0,39.0,60.0,2.0,34.0,37.0,55.0,15.0,52.0,1.0,23.0,16.0,61.0,38.0,63.0,43.0,46.0,56.0,49.0,32.0,42.0,29.0,24.0,5.0,59.0,59.0,55.0,62.0,67.0,46.0,63.0,18.0,46.0,31.0,54.0,55.0,50.0,55.0,78.0,40.0,32.0,13.0,63.0,30.0,27.0,78.0,79.0,31.0,56.0,50.0,55.0,15.0,33.0,2.0,63.0,50.0,48.0,19.0,3.0,60.0,45.0,40.0,51.0,19.0,31.0,41.0,68.0,46.0,41.0,82.0,68.0,14.0,48.0,65.0,44.0,60.0,1.0,53.0,36.0,52.0,78.0,24.0,57.0,23.0,23.0,74.0,55.0,79.0,5.0,40.0,15.0,12.0,47.0,45.0,56.0,25.0,34.0,45.0,16.0,51.0,39.0,82.0,47.0,11.0,26.0,78.0,29.0,50.0,31.0,49.0,64.0,42.0,58.0,23.0,39.0,74.0,21.0,46.0,56.0,1.0,66.0,57.0,80.0,2.0,3.0,26.0,20.0,47.0,2.0,2.0,6.0,18.0,43.0,57.0,48.0,37.0,59.0,26.0,44.0,54.0,79.0,77.0,42.0,4.0,34.0,26.0,33.0,28.0,57.0,78.0,50.0,53.0,38.0,57.0,13.0,32.0,42.0,51.0,18.0,45.0,51.0,46.0,12.0,58.0,11.0,56.0,37.0,59.0,5.0,55.0,27.0,30.0,79.0,51.0,60.0,43.0,46.0,57.0,53.0,57.0,40.0,8.0,26.0,80.0,37.0,46.0,63.0,23.0,41.0,8.0,47.0,8.0,23.0,9.0,8.0,59.0,56.0,40.0,5.0,66.0,18.0,80.0,22.0,54.0,77.0,20.0,2.0,56.0,79.0,1.0,18.0,55.0,49.0,58.0,76.0,27.0,12.0,62.0,2.0,46.0,3.0,28.0,42.0,41.0,77.0,54.0,53.0,54.0,55.0,73.0,50.0,78.0,60.0,23.0,56.0,5.0,52.0,55.0,32.0,17.0,55.0,57.0,32.0,18.0,8.0,22.0,27.0,50.0,50.0,39.0,25.0,71.0,72.0,12.0,51.0,25.0,26.0,53.0,25.0,61.0,31.0,66.0,76.0,43.0,56.0,57.0,40.0,8.0,76.0,2.0,49.0,51.0,9.0,25.0,38.0,15.0,35.0,32.0,55.0,33.0,1.0,35.0,66.0,51.0,58.0,25.0,52.0,35.0,78.0,55.0,1.0,61.0,63.0,63.0,56.0,14.0,41.0,1.0,56.0,28.0,42.0,8.0,38.0,14.0,24.0,47.0,52.0,48.0,34.0,54.0,47.0,37.0,44.0,31.0,49.0,37.0,51.0,79.0,46.0,26.0,8.0,34.0,64.0,43.0,50.0,25.0,33.0,35.0,57.0,45.0,63.0,18.0,62.0,17.0,59.0,39.0,57.0,44.0,78.0,60.0,25.0,58.0,49.0,57.0,62.0,47.0,52.0,45.0,42.0,21.0,42.0,51.0,3.0,43.0,44.0,34.0,2.0,66.0,73.0,58.0,55.0,52.0,31.0,47.0,2.0,62.0,77.0,56.0,78.0,34.0,40.0,61.0,57.0,53.0,47.0,23.0,66.0,72.0,49.0,61.0,40.0,45.0,53.0,54.0,13.0,1.0,64.0,81.0,36.0,59.0,3.0,79.0,2.0,1.0,32.0,57.0,46.0,63.0,46.0,33.0,14.0,51.0,14.0,59.0,37.0,59.0,53.0,29.0,38.0,5.0,54.0,55.0,56.0,32.0,1.0,78.0,12.0,5.0,32.0,17.0,22.0,46.0,75.0,46.0,14.0],\"xaxis\":\"x\",\"yaxis\":\"y\",\"type\":\"histogram\"},{\"alignmentgroup\":\"True\",\"bingroup\":\"x\",\"hovertemplate\":\"age=%{x}\\u003cbr\\u003ecount=%{y}\\u003cextra\\u003e\\u003c\\u002fextra\\u003e\",\"legendgroup\":\"\",\"marker\":{\"color\":\"black\",\"pattern\":{\"shape\":\"\"}},\"name\":\"\",\"offsetgroup\":\"\",\"orientation\":\"v\",\"showlegend\":false,\"x\":[55.0,78.0,80.0,79.0,57.0,81.0,32.0,69.0,73.0,80.0,68.0,61.0,54.0,80.0,70.0,73.0,80.0,79.0,78.0,54.0,78.0,52.0,78.0,78.0,52.0,52.0,78.0,81.0,66.0,62.0,73.0,72.0,82.0,42.0,79.0,52.0,79.0,69.0,78.0,78.0,80.0,65.0,61.0,81.0,82.0,79.0,52.0,52.0,54.0,75.0,78.0,60.0,25.0,78.0,78.0,82.0,67.0,54.0,79.0,72.0,71.0,82.0,56.0,72.0,70.0,48.0,76.0,57.0,54.0,82.0,81.0,64.0,57.0,50.0,71.0,64.0,51.0,69.0,76.0,42.0,78.0,51.0,69.0,80.0,64.0,78.0,73.0,75.0,73.0,52.0,82.0,72.0,82.0,46.0,69.0,81.0,69.0,75.0,78.0,57.0,72.0,78.0,38.0,75.0,52.0,78.0,72.0,78.0,67.0,74.0,70.0,49.0,72.0,81.0,67.0,80.0,80.0,52.0,63.0,63.0,79.0,47.0,59.0,81.0,82.0,81.0,71.0,82.0,62.0,78.0,76.0,71.0,79.0,67.0,52.0,64.0,79.0,71.0,78.0,55.0,81.0,70.0,77.0,79.0,81.0,54.0,79.0,10.0,63.0,81.0,71.0,58.0,70.0,67.0,69.0,56.0,80.0,51.0,61.0,37.0,63.0,49.0,78.0,73.0,53.0,64.0,82.0,76.0,81.0,64.0,67.0,78.0,65.0,75.0,82.0,81.0,69.0,51.0,57.0,81.0,66.0,59.0,71.0,79.0,80.0,69.0,67.0,81.0,71.0,75.0,57.0,79.0,81.0,78.0,81.0,61.0,78.0,68.0,79.0,81.0,73.0,82.0,49.0,75.0,66.0,72.0,78.0,58.0,81.0,62.0,79.0,80.0,73.0,79.0,59.0,78.0,82.0,80.0,37.0,82.0,78.0,80.0,80.0,80.0,78.0,54.0,81.0,67.0,77.0,76.0,59.0,62.0,82.0,60.0,72.0,80.0,63.0,81.0,71.0,69.0,80.0,75.0,60.0,81.0,72.0,82.0,79.0,77.0,81.0,59.0,58.0,54.0,69.0,73.0,71.0,64.0,57.0,78.0,71.0,71.0,51.0,80.0,52.0,80.0,74.0,76.0,79.0,71.0,53.0,81.0,59.0,66.0,78.0,67.0,54.0,67.0,57.0,82.0,82.0,70.0,79.0,57.0,32.0,52.0,53.0,77.0,71.0,72.0,70.0,82.0,81.0,73.0,57.0,68.0,46.0,81.0,78.0,68.0,58.0,78.0,78.0,78.0,69.0,82.0,76.0,78.0,72.0,63.0,54.0,62.0,50.0,62.0,55.0,78.0,58.0,60.0,60.0,68.0,58.0,57.0,52.0,74.0,78.0,73.0,55.0,65.0,61.0,68.0,57.0,34.0,44.0,81.0,81.0,34.0,54.0,57.0,52.0,53.0,55.0,80.0,46.0,77.0,73.0,80.0,53.0,78.0,80.0,74.0,32.0,80.0,82.0,64.0,80.0,81.0,76.0,69.0,63.0,82.0,57.0,74.0,78.0,58.0,65.0,57.0,48.0,69.0,81.0,51.0,78.0,78.0,80.0,58.0,56.0,60.0,79.0,79.0,55.0,61.0,76.0,79.0,82.0,59.0,71.0,77.0,54.0,50.0,54.0,61.0,70.0,56.0,72.0,80.0,81.0,45.0,60.0,49.0,71.0,64.0,70.0,80.0,77.0,81.0,51.0,80.0,78.0,51.0,61.0,72.0,45.0,81.0,71.0,76.0,71.0,76.0,52.0,59.0,72.0,52.0,76.0,81.0,34.0,60.0,78.0,76.0,82.0,68.0,55.0,54.0,68.0,49.0,66.0,55.0,82.0,80.0,45.0,80.0,74.0,60.0,53.0,51.0,72.0,79.0,63.0,31.0,75.0,52.0,78.0,82.0,79.0,80.0,58.0,79.0,71.0,62.0,61.0,70.0,82.0,67.0,78.0,80.0,80.0,75.0,54.0,54.0,71.0,82.0,81.0,68.0,53.0,71.0,59.0,66.0,57.0,53.0,59.0,52.0,76.0,69.0,78.0,50.0,79.0,81.0,79.0,81.0,64.0,68.0,74.0,78.0,72.0,62.0,60.0,79.0,78.0,61.0,76.0,82.0,58.0,63.0,70.0,76.0,68.0,46.0,79.0,76.0,68.0,64.0,60.0,78.0,77.0,52.0,67.0,78.0,76.0,71.0,38.0,73.0,63.0,75.0,78.0,57.0,80.0,58.0,78.0,44.0,61.0,76.0,66.0,78.0,59.0,79.0,80.0,63.0,72.0,58.0,81.0,82.0,80.0,49.0,82.0,72.0,79.0,80.0,80.0,52.0,70.0,79.0,62.0,66.0,53.0,53.0,80.0,59.0,59.0,52.0,62.0,81.0,72.0,82.0,69.0,81.0,53.0,78.0,81.0,80.0,77.0,47.0,61.0,76.0,57.0,81.0,70.0,79.0,42.0,72.0,81.0,57.0,82.0,72.0,62.0,74.0,75.0,80.0,78.0,67.0,56.0,55.0,52.0,69.0,82.0,62.0,79.0,62.0,78.0,78.0,80.0,71.0,80.0,77.0,57.0,80.0,52.0,73.0,59.0,59.0,51.0,56.0,80.0,72.0,82.0,75.0,67.0,61.0,60.0,59.0,80.0,60.0,80.0,79.0,63.0,79.0,62.0,75.0,63.0,75.0,82.0,80.0,79.0,76.0,81.0,67.0,69.0,79.0],\"xaxis\":\"x2\",\"yaxis\":\"y2\",\"type\":\"histogram\"}],                        {\"template\":{\"data\":{\"histogram2dcontour\":[{\"type\":\"histogram2dcontour\",\"colorbar\":{\"outlinewidth\":0,\"ticks\":\"\"},\"colorscale\":[[0.0,\"#0d0887\"],[0.1111111111111111,\"#46039f\"],[0.2222222222222222,\"#7201a8\"],[0.3333333333333333,\"#9c179e\"],[0.4444444444444444,\"#bd3786\"],[0.5555555555555556,\"#d8576b\"],[0.6666666666666666,\"#ed7953\"],[0.7777777777777778,\"#fb9f3a\"],[0.8888888888888888,\"#fdca26\"],[1.0,\"#f0f921\"]]}],\"choropleth\":[{\"type\":\"choropleth\",\"colorbar\":{\"outlinewidth\":0,\"ticks\":\"\"}}],\"histogram2d\":[{\"type\":\"histogram2d\",\"colorbar\":{\"outlinewidth\":0,\"ticks\":\"\"},\"colorscale\":[[0.0,\"#0d0887\"],[0.1111111111111111,\"#46039f\"],[0.2222222222222222,\"#7201a8\"],[0.3333333333333333,\"#9c179e\"],[0.4444444444444444,\"#bd3786\"],[0.5555555555555556,\"#d8576b\"],[0.6666666666666666,\"#ed7953\"],[0.7777777777777778,\"#fb9f3a\"],[0.8888888888888888,\"#fdca26\"],[1.0,\"#f0f921\"]]}],\"heatmap\":[{\"type\":\"heatmap\",\"colorbar\":{\"outlinewidth\":0,\"ticks\":\"\"},\"colorscale\":[[0.0,\"#0d0887\"],[0.1111111111111111,\"#46039f\"],[0.2222222222222222,\"#7201a8\"],[0.3333333333333333,\"#9c179e\"],[0.4444444444444444,\"#bd3786\"],[0.5555555555555556,\"#d8576b\"],[0.6666666666666666,\"#ed7953\"],[0.7777777777777778,\"#fb9f3a\"],[0.8888888888888888,\"#fdca26\"],[1.0,\"#f0f921\"]]}],\"heatmapgl\":[{\"type\":\"heatmapgl\",\"colorbar\":{\"outlinewidth\":0,\"ticks\":\"\"},\"colorscale\":[[0.0,\"#0d0887\"],[0.1111111111111111,\"#46039f\"],[0.2222222222222222,\"#7201a8\"],[0.3333333333333333,\"#9c179e\"],[0.4444444444444444,\"#bd3786\"],[0.5555555555555556,\"#d8576b\"],[0.6666666666666666,\"#ed7953\"],[0.7777777777777778,\"#fb9f3a\"],[0.8888888888888888,\"#fdca26\"],[1.0,\"#f0f921\"]]}],\"contourcarpet\":[{\"type\":\"contourcarpet\",\"colorbar\":{\"outlinewidth\":0,\"ticks\":\"\"}}],\"contour\":[{\"type\":\"contour\",\"colorbar\":{\"outlinewidth\":0,\"ticks\":\"\"},\"colorscale\":[[0.0,\"#0d0887\"],[0.1111111111111111,\"#46039f\"],[0.2222222222222222,\"#7201a8\"],[0.3333333333333333,\"#9c179e\"],[0.4444444444444444,\"#bd3786\"],[0.5555555555555556,\"#d8576b\"],[0.6666666666666666,\"#ed7953\"],[0.7777777777777778,\"#fb9f3a\"],[0.8888888888888888,\"#fdca26\"],[1.0,\"#f0f921\"]]}],\"surface\":[{\"type\":\"surface\",\"colorbar\":{\"outlinewidth\":0,\"ticks\":\"\"},\"colorscale\":[[0.0,\"#0d0887\"],[0.1111111111111111,\"#46039f\"],[0.2222222222222222,\"#7201a8\"],[0.3333333333333333,\"#9c179e\"],[0.4444444444444444,\"#bd3786\"],[0.5555555555555556,\"#d8576b\"],[0.6666666666666666,\"#ed7953\"],[0.7777777777777778,\"#fb9f3a\"],[0.8888888888888888,\"#fdca26\"],[1.0,\"#f0f921\"]]}],\"mesh3d\":[{\"type\":\"mesh3d\",\"colorbar\":{\"outlinewidth\":0,\"ticks\":\"\"}}],\"scatter\":[{\"fillpattern\":{\"fillmode\":\"overlay\",\"size\":10,\"solidity\":0.2},\"type\":\"scatter\"}],\"parcoords\":[{\"type\":\"parcoords\",\"line\":{\"colorbar\":{\"outlinewidth\":0,\"ticks\":\"\"}}}],\"scatterpolargl\":[{\"type\":\"scatterpolargl\",\"marker\":{\"colorbar\":{\"outlinewidth\":0,\"ticks\":\"\"}}}],\"bar\":[{\"error_x\":{\"color\":\"#2a3f5f\"},\"error_y\":{\"color\":\"#2a3f5f\"},\"marker\":{\"line\":{\"color\":\"#E5ECF6\",\"width\":0.5},\"pattern\":{\"fillmode\":\"overlay\",\"size\":10,\"solidity\":0.2}},\"type\":\"bar\"}],\"scattergeo\":[{\"type\":\"scattergeo\",\"marker\":{\"colorbar\":{\"outlinewidth\":0,\"ticks\":\"\"}}}],\"scatterpolar\":[{\"type\":\"scatterpolar\",\"marker\":{\"colorbar\":{\"outlinewidth\":0,\"ticks\":\"\"}}}],\"histogram\":[{\"marker\":{\"pattern\":{\"fillmode\":\"overlay\",\"size\":10,\"solidity\":0.2}},\"type\":\"histogram\"}],\"scattergl\":[{\"type\":\"scattergl\",\"marker\":{\"colorbar\":{\"outlinewidth\":0,\"ticks\":\"\"}}}],\"scatter3d\":[{\"type\":\"scatter3d\",\"line\":{\"colorbar\":{\"outlinewidth\":0,\"ticks\":\"\"}},\"marker\":{\"colorbar\":{\"outlinewidth\":0,\"ticks\":\"\"}}}],\"scattermapbox\":[{\"type\":\"scattermapbox\",\"marker\":{\"colorbar\":{\"outlinewidth\":0,\"ticks\":\"\"}}}],\"scatterternary\":[{\"type\":\"scatterternary\",\"marker\":{\"colorbar\":{\"outlinewidth\":0,\"ticks\":\"\"}}}],\"scattercarpet\":[{\"type\":\"scattercarpet\",\"marker\":{\"colorbar\":{\"outlinewidth\":0,\"ticks\":\"\"}}}],\"carpet\":[{\"aaxis\":{\"endlinecolor\":\"#2a3f5f\",\"gridcolor\":\"white\",\"linecolor\":\"white\",\"minorgridcolor\":\"white\",\"startlinecolor\":\"#2a3f5f\"},\"baxis\":{\"endlinecolor\":\"#2a3f5f\",\"gridcolor\":\"white\",\"linecolor\":\"white\",\"minorgridcolor\":\"white\",\"startlinecolor\":\"#2a3f5f\"},\"type\":\"carpet\"}],\"table\":[{\"cells\":{\"fill\":{\"color\":\"#EBF0F8\"},\"line\":{\"color\":\"white\"}},\"header\":{\"fill\":{\"color\":\"#C8D4E3\"},\"line\":{\"color\":\"white\"}},\"type\":\"table\"}],\"barpolar\":[{\"marker\":{\"line\":{\"color\":\"#E5ECF6\",\"width\":0.5},\"pattern\":{\"fillmode\":\"overlay\",\"size\":10,\"solidity\":0.2}},\"type\":\"barpolar\"}],\"pie\":[{\"automargin\":true,\"type\":\"pie\"}]},\"layout\":{\"autotypenumbers\":\"strict\",\"colorway\":[\"#636efa\",\"#EF553B\",\"#00cc96\",\"#ab63fa\",\"#FFA15A\",\"#19d3f3\",\"#FF6692\",\"#B6E880\",\"#FF97FF\",\"#FECB52\"],\"font\":{\"color\":\"#2a3f5f\"},\"hovermode\":\"closest\",\"hoverlabel\":{\"align\":\"left\"},\"paper_bgcolor\":\"white\",\"plot_bgcolor\":\"#E5ECF6\",\"polar\":{\"bgcolor\":\"#E5ECF6\",\"angularaxis\":{\"gridcolor\":\"white\",\"linecolor\":\"white\",\"ticks\":\"\"},\"radialaxis\":{\"gridcolor\":\"white\",\"linecolor\":\"white\",\"ticks\":\"\"}},\"ternary\":{\"bgcolor\":\"#E5ECF6\",\"aaxis\":{\"gridcolor\":\"white\",\"linecolor\":\"white\",\"ticks\":\"\"},\"baxis\":{\"gridcolor\":\"white\",\"linecolor\":\"white\",\"ticks\":\"\"},\"caxis\":{\"gridcolor\":\"white\",\"linecolor\":\"white\",\"ticks\":\"\"}},\"coloraxis\":{\"colorbar\":{\"outlinewidth\":0,\"ticks\":\"\"}},\"colorscale\":{\"sequential\":[[0.0,\"#0d0887\"],[0.1111111111111111,\"#46039f\"],[0.2222222222222222,\"#7201a8\"],[0.3333333333333333,\"#9c179e\"],[0.4444444444444444,\"#bd3786\"],[0.5555555555555556,\"#d8576b\"],[0.6666666666666666,\"#ed7953\"],[0.7777777777777778,\"#fb9f3a\"],[0.8888888888888888,\"#fdca26\"],[1.0,\"#f0f921\"]],\"sequentialminus\":[[0.0,\"#0d0887\"],[0.1111111111111111,\"#46039f\"],[0.2222222222222222,\"#7201a8\"],[0.3333333333333333,\"#9c179e\"],[0.4444444444444444,\"#bd3786\"],[0.5555555555555556,\"#d8576b\"],[0.6666666666666666,\"#ed7953\"],[0.7777777777777778,\"#fb9f3a\"],[0.8888888888888888,\"#fdca26\"],[1.0,\"#f0f921\"]],\"diverging\":[[0,\"#8e0152\"],[0.1,\"#c51b7d\"],[0.2,\"#de77ae\"],[0.3,\"#f1b6da\"],[0.4,\"#fde0ef\"],[0.5,\"#f7f7f7\"],[0.6,\"#e6f5d0\"],[0.7,\"#b8e186\"],[0.8,\"#7fbc41\"],[0.9,\"#4d9221\"],[1,\"#276419\"]]},\"xaxis\":{\"gridcolor\":\"white\",\"linecolor\":\"white\",\"ticks\":\"\",\"title\":{\"standoff\":15},\"zerolinecolor\":\"white\",\"automargin\":true,\"zerolinewidth\":2},\"yaxis\":{\"gridcolor\":\"white\",\"linecolor\":\"white\",\"ticks\":\"\",\"title\":{\"standoff\":15},\"zerolinecolor\":\"white\",\"automargin\":true,\"zerolinewidth\":2},\"scene\":{\"xaxis\":{\"backgroundcolor\":\"#E5ECF6\",\"gridcolor\":\"white\",\"linecolor\":\"white\",\"showbackground\":true,\"ticks\":\"\",\"zerolinecolor\":\"white\",\"gridwidth\":2},\"yaxis\":{\"backgroundcolor\":\"#E5ECF6\",\"gridcolor\":\"white\",\"linecolor\":\"white\",\"showbackground\":true,\"ticks\":\"\",\"zerolinecolor\":\"white\",\"gridwidth\":2},\"zaxis\":{\"backgroundcolor\":\"#E5ECF6\",\"gridcolor\":\"white\",\"linecolor\":\"white\",\"showbackground\":true,\"ticks\":\"\",\"zerolinecolor\":\"white\",\"gridwidth\":2}},\"shapedefaults\":{\"line\":{\"color\":\"#2a3f5f\"}},\"annotationdefaults\":{\"arrowcolor\":\"#2a3f5f\",\"arrowhead\":0,\"arrowwidth\":1},\"geo\":{\"bgcolor\":\"white\",\"landcolor\":\"#E5ECF6\",\"subunitcolor\":\"white\",\"showland\":true,\"showlakes\":true,\"lakecolor\":\"white\"},\"title\":{\"x\":0.05},\"mapbox\":{\"style\":\"light\"}}},\"xaxis\":{\"anchor\":\"y\",\"domain\":[0.0,0.45],\"title\":{\"text\":\"Age\"}},\"yaxis\":{\"anchor\":\"x\",\"domain\":[0.0,1.0],\"title\":{\"text\":\"Count\"}},\"xaxis2\":{\"anchor\":\"y2\",\"domain\":[0.55,1.0],\"title\":{\"text\":\"Age\"}},\"yaxis2\":{\"anchor\":\"x2\",\"domain\":[0.0,1.0],\"title\":{\"text\":\"Count\"}},\"annotations\":[{\"font\":{\"size\":16},\"showarrow\":false,\"text\":\"No Stroke\",\"x\":0.225,\"xanchor\":\"center\",\"xref\":\"paper\",\"y\":1.0,\"yanchor\":\"bottom\",\"yref\":\"paper\"},{\"font\":{\"size\":16},\"showarrow\":false,\"text\":\"Yes Stroke\",\"x\":0.775,\"xanchor\":\"center\",\"xref\":\"paper\",\"y\":1.0,\"yanchor\":\"bottom\",\"yref\":\"paper\"}],\"title\":{\"text\":\"Age Distribution by stroke\",\"x\":0.5}},                        {\"responsive\": true}                    ).then(function(){\n",
              "                            \n",
              "var gd = document.getElementById('3984949c-c9b7-4089-9cfb-81f84e07efb4');\n",
              "var x = new MutationObserver(function (mutations, observer) {{\n",
              "        var display = window.getComputedStyle(gd).display;\n",
              "        if (!display || display === 'none') {{\n",
              "            console.log([gd, 'removed!']);\n",
              "            Plotly.purge(gd);\n",
              "            observer.disconnect();\n",
              "        }}\n",
              "}});\n",
              "\n",
              "// Listen for the removal of the full notebook cells\n",
              "var notebookContainer = gd.closest('#notebook-container');\n",
              "if (notebookContainer) {{\n",
              "    x.observe(notebookContainer, {childList: true});\n",
              "}}\n",
              "\n",
              "// Listen for the clearing of the current output cell\n",
              "var outputEl = gd.closest('.output');\n",
              "if (outputEl) {{\n",
              "    x.observe(outputEl, {childList: true});\n",
              "}}\n",
              "\n",
              "                        })                };                            </script>        </div>\n",
              "</body>\n",
              "</html>"
            ]
          },
          "metadata": {}
        }
      ]
    },
    {
      "cell_type": "code",
      "source": [
        "stroke_data['bmi'].mean()"
      ],
      "metadata": {
        "colab": {
          "base_uri": "https://localhost:8080/"
        },
        "id": "o_7JfkTFXGo_",
        "outputId": "235472ec-ca8d-423d-bf6c-fbf36f865a7b"
      },
      "execution_count": null,
      "outputs": [
        {
          "output_type": "execute_result",
          "data": {
            "text/plain": [
              "30.230696202531643"
            ]
          },
          "metadata": {},
          "execution_count": 91
        }
      ]
    },
    {
      "cell_type": "code",
      "source": [
        "no_stroke_data['bmi'].mean()"
      ],
      "metadata": {
        "colab": {
          "base_uri": "https://localhost:8080/"
        },
        "id": "AOs57iIvXKCX",
        "outputId": "d01d447c-9d7d-4011-ee9e-b85a7a3c7d6b"
      },
      "execution_count": null,
      "outputs": [
        {
          "output_type": "execute_result",
          "data": {
            "text/plain": [
              "28.02217163110899"
            ]
          },
          "metadata": {},
          "execution_count": 92
        }
      ]
    },
    {
      "cell_type": "code",
      "source": [
        "fig = px.violin(train_df, y = 'bmi', x='stroke', box=True, width=700, height=500, color_discrete_sequence=plot_color,\n",
        "                   title='BMI & Stroke Status',\n",
        "               labels={'stroke': 'Stroke Status', 'bmi': 'BMI'})\n",
        "fig.update_layout(title_x = 0.3, title_y = 0.9)\n",
        "# fig.show('svg')\n",
        "fig.show()"
      ],
      "metadata": {
        "colab": {
          "base_uri": "https://localhost:8080/",
          "height": 517
        },
        "id": "vs2uJjhnXLfn",
        "outputId": "b5b86da1-a048-4fde-9df9-1ee4d6f58e38"
      },
      "execution_count": null,
      "outputs": [
        {
          "output_type": "display_data",
          "data": {
            "text/html": [
              "<html>\n",
              "<head><meta charset=\"utf-8\" /></head>\n",
              "<body>\n",
              "    <div>            <script src=\"https://cdnjs.cloudflare.com/ajax/libs/mathjax/2.7.5/MathJax.js?config=TeX-AMS-MML_SVG\"></script><script type=\"text/javascript\">if (window.MathJax && window.MathJax.Hub && window.MathJax.Hub.Config) {window.MathJax.Hub.Config({SVG: {font: \"STIX-Web\"}});}</script>                <script type=\"text/javascript\">window.PlotlyConfig = {MathJaxConfig: 'local'};</script>\n",
              "        <script charset=\"utf-8\" src=\"https://cdn.plot.ly/plotly-2.35.2.min.js\"></script>                <div id=\"22a3ff24-4f5f-449e-ad46-80bb13ba5000\" class=\"plotly-graph-div\" style=\"height:500px; width:700px;\"></div>            <script type=\"text/javascript\">                                    window.PLOTLYENV=window.PLOTLYENV || {};                                    if (document.getElementById(\"22a3ff24-4f5f-449e-ad46-80bb13ba5000\")) {                    Plotly.newPlot(                        \"22a3ff24-4f5f-449e-ad46-80bb13ba5000\",                        [{\"alignmentgroup\":\"True\",\"box\":{\"visible\":true},\"hovertemplate\":\"Stroke Status=%{x}\\u003cbr\\u003eBMI=%{y}\\u003cextra\\u003e\\u003c\\u002fextra\\u003e\",\"legendgroup\":\"\",\"marker\":{\"color\":\"#008080\"},\"name\":\"\",\"offsetgroup\":\"\",\"orientation\":\"v\",\"scalegroup\":\"True\",\"showlegend\":false,\"x\":[0,0,0,0,0,0,0,0,0,0,0,0,0,0,0,0,0,0,0,0,0,0,0,0,0,1,0,0,0,0,0,0,0,0,0,0,0,0,0,0,0,0,0,0,0,0,0,0,0,0,0,0,0,0,0,0,0,0,0,0,0,1,0,0,0,0,0,1,0,0,0,0,0,0,0,0,0,0,0,0,0,0,0,0,0,0,1,0,0,0,0,0,0,0,0,0,0,0,0,0,0,0,0,0,0,0,0,0,0,0,0,0,0,0,1,0,0,0,0,0,0,0,0,0,0,0,0,0,0,0,0,0,0,0,0,0,0,0,0,0,0,0,0,0,0,0,0,0,0,0,0,0,0,0,0,1,0,0,1,0,0,0,0,0,0,0,0,0,0,0,0,0,0,0,0,1,0,0,0,0,0,0,0,0,0,0,0,0,0,0,0,0,0,0,0,0,0,0,0,0,0,0,0,0,0,0,0,0,0,0,0,1,0,0,0,0,0,0,0,1,0,0,0,0,1,0,0,0,0,0,0,0,0,0,0,0,0,0,0,0,0,0,0,1,0,0,0,0,0,0,0,0,0,0,0,0,0,0,0,0,0,0,0,0,0,0,0,0,0,0,0,0,0,0,0,0,0,0,0,0,0,0,0,0,0,0,0,0,0,0,0,0,0,0,0,0,1,0,0,0,0,0,0,0,0,0,0,0,0,0,0,0,0,0,0,0,0,0,0,0,1,0,0,0,0,0,0,0,0,0,0,0,0,0,0,0,0,0,0,0,0,0,0,0,0,0,1,0,0,0,0,0,0,0,0,0,1,0,1,0,0,0,0,0,0,0,0,0,0,0,0,0,0,0,0,0,0,0,0,0,0,0,0,0,0,1,0,1,0,0,0,0,0,0,0,1,0,0,0,0,0,0,0,0,0,0,0,1,0,0,0,0,0,0,0,0,0,0,0,0,0,0,0,0,0,0,0,0,0,0,1,0,0,0,0,0,0,0,0,0,0,0,0,0,0,1,0,1,0,0,0,0,0,0,0,0,0,0,0,0,0,0,0,0,0,0,0,0,0,0,0,0,0,0,0,0,0,0,0,0,0,1,0,0,0,0,0,0,0,0,0,1,0,0,0,0,0,0,0,0,0,0,0,0,0,0,0,0,0,0,0,0,0,0,1,0,0,0,0,0,0,0,0,0,0,0,0,0,0,0,0,0,0,0,0,1,0,0,0,0,0,0,1,0,0,0,0,0,0,1,0,0,1,0,0,0,0,0,0,0,0,0,0,0,0,0,0,0,0,0,0,0,0,0,0,0,0,0,0,0,0,0,0,0,0,0,0,0,0,0,1,0,0,0,0,0,0,0,0,0,0,0,0,0,0,0,0,1,0,0,0,0,0,0,0,0,0,0,0,0,0,0,0,0,0,0,0,0,0,0,0,1,0,0,0,0,0,0,0,0,0,0,0,0,0,0,0,0,0,0,0,0,1,0,0,0,1,0,0,0,0,0,0,1,0,0,0,0,0,0,0,0,0,0,0,0,0,0,0,0,0,0,0,0,0,0,0,0,0,0,0,0,0,0,0,0,0,0,0,0,0,0,0,0,0,0,0,0,0,0,0,0,0,0,0,0,0,0,0,0,0,0,0,0,0,0,0,0,0,0,0,0,0,0,0,0,0,0,0,0,0,0,0,0,0,0,0,0,0,0,0,0,0,0,0,0,0,0,0,0,0,0,0,0,0,0,0,0,0,0,0,0,0,0,0,0,0,0,0,0,0,0,0,0,0,0,0,0,0,0,0,0,0,0,0,0,0,0,0,0,0,0,0,0,1,0,0,0,0,0,1,0,0,0,0,0,0,0,0,0,0,0,0,0,0,0,0,0,0,1,0,0,0,0,0,1,0,0,0,0,0,0,0,0,0,0,0,0,0,0,0,0,0,0,0,0,0,0,0,0,0,0,0,0,1,0,0,0,0,0,0,0,0,0,0,0,0,0,0,0,0,0,0,1,0,0,0,0,0,0,0,0,0,0,0,0,0,0,0,0,0,1,0,0,0,0,0,0,0,0,0,0,0,0,0,0,0,0,0,0,0,0,0,0,0,0,0,0,0,0,0,0,0,0,0,0,0,0,0,0,0,0,0,0,0,0,0,0,0,0,0,0,0,0,0,1,0,0,0,0,0,0,0,0,0,0,0,0,0,0,1,0,0,0,0,0,0,0,1,0,0,1,0,0,0,0,0,0,0,1,0,0,0,0,0,0,0,0,0,0,0,0,0,0,0,0,0,0,0,0,0,1,0,0,0,0,0,0,0,0,0,0,0,0,0,0,0,0,0,0,0,0,0,0,0,0,0,0,0,0,0,1,0,0,0,0,0,0,0,0,0,0,0,0,0,0,0,0,0,0,0,0,1,0,0,1,0,0,0,0,0,0,0,0,0,1,0,0,0,0,0,0,0,0,0,0,0,0,0,0,1,0,0,0,0,0,0,0,0,0,0,1,0,0,0,0,0,1,0,0,0,0,0,0,0,0,1,0,0,0,0,0,0,0,0,0,0,0,0,0,0,0,0,0,0,0,0,0,0,0,0,0,0,0,0,0,0,0,0,0,0,0,0,0,0,0,0,0,0,0,0,0,0,0,0,0,0,0,0,0,0,0,0,0,0,0,0,0,0,0,0,0,0,0,0,0,0,1,0,0,0,0,0,0,1,0,0,0,0,0,0,0,0,0,0,0,0,0,0,0,0,0,0,0,1,1,0,1,0,0,0,0,0,0,0,0,0,0,0,0,0,0,0,0,0,0,0,0,0,0,0,0,0,0,0,0,0,0,0,0,0,0,0,0,0,1,0,0,0,0,0,0,0,0,0,0,0,0,0,0,0,0,0,1,1,0,0,0,0,0,0,0,0,0,0,0,0,0,0,0,0,0,0,0,0,0,0,0,0,0,0,0,0,0,0,0,0,0,0,0,0,0,0,0,0,0,0,0,0,0,0,0,0,0,0,0,0,0,0,0,0,0,0,0,0,0,0,0,0,0,0,1,0,0,0,0,0,0,0,0,0,0,0,0,0,0,0,0,0,0,0,0,0,0,0,0,0,0,0,0,0,0,0,0,0,0,0,0,0,0,0,0,0,0,0,0,0,0,0,0,0,0,0,0,0,0,0,0,0,0,0,0,0,0,0,0,0,0,0,0,0,0,0,0,0,0,0,0,0,0,0,0,0,0,0,0,0,0,0,0,0,0,0,0,0,0,0,0,0,0,0,0,0,0,0,0,0,0,0,0,0,0,0,0,0,1,0,0,0,0,0,0,0,0,0,0,1,0,0,0,0,0,0,0,0,0,0,0,0,0,0,0,0,0,0,0,0,0,0,0,0,0,0,0,0,0,0,0,0,0,0,0,0,0,0,0,0,0,0,0,0,0,0,0,0,0,0,0,0,0,0,0,0,0,0,0,0,0,0,0,0,0,0,0,0,0,0,0,0,0,0,0,0,0,0,0,0,0,0,0,0,0,0,0,0,0,0,0,0,0,0,0,0,0,0,0,0,0,0,0,0,0,0,0,0,0,0,0,0,0,0,0,0,0,0,0,0,0,0,0,0,0,0,0,0,0,0,0,0,0,0,0,0,0,1,0,1,0,0,0,0,0,0,0,0,0,0,0,0,0,0,0,0,0,1,0,0,0,0,0,0,0,0,0,0,0,0,0,0,0,0,0,0,0,0,0,0,0,0,0,0,0,0,0,0,0,0,0,0,0,0,0,0,0,0,0,0,0,0,0,0,0,0,1,0,0,0,0,0,0,0,0,0,0,0,0,0,0,0,0,0,0,0,0,0,0,0,0,0,1,0,0,0,0,0,0,0,0,0,0,0,0,0,0,0,0,0,0,0,0,0,0,0,0,0,0,0,0,0,0,0,0,0,0,0,0,0,0,0,0,0,0,0,0,0,0,0,0,0,0,0,0,0,1,0,0,0,0,0,0,0,0,0,0,0,0,0,0,0,1,0,0,0,0,0,0,0,0,0,0,0,0,0,0,0,0,0,0,0,0,0,0,0,0,0,0,0,0,0,0,0,0,0,0,0,0,0,0,0,0,0,0,0,0,0,0,0,0,0,0,0,0,0,0,0,1,0,0,0,0,0,0,0,0,0,0,0,0,0,0,0,0,0,0,0,0,0,0,0,0,0,0,0,0,0,1,0,0,0,0,0,0,0,0,0,0,0,0,0,0,0,0,0,0,0,0,0,0,0,0,0,0,0,0,1,0,0,0,0,0,0,0,0,0,0,0,0,0,0,0,0,0,1,0,0,0,0,0,0,0,0,0,1,0,0,0,0,0,0,1,0,0,1,0,0,0,0,0,0,0,0,0,0,0,0,0,0,0,0,0,0,0,0,0,0,0,0,0,0,0,0,0,0,0,0,0,0,0,0,0,1,0,0,0,0,0,0,1,0,0,0,0,0,0,0,0,0,1,0,0,0,0,0,0,0,0,0,0,0,0,1,0,1,0,0,0,0,0,0,0,0,0,1,0,0,0,0,0,0,0,0,1,0,0,0,0,0,0,0,0,0,0,0,0,0,0,0,0,0,1,0,0,0,0,0,0,0,0,0,0,0,0,0,0,0,0,0,0,0,0,0,0,0,0,0,1,0,0,0,0,0,0,1,0,0,0,0,0,1,0,0,0,0,0,0,0,0,0,0,0,0,0,0,0,0,0,0,0,0,0,0,0,0,0,1,0,0,0,0,0,0,1,0,0,0,0,0,0,0,0,0,0,0,0,0,1,0,1,0,0,0,0,0,0,0,0,0,0,0,0,0,0,0,0,0,0,0,0,0,0,0,0,0,0,0,0,0,0,0,0,0,0,0,0,0,0,0,0,0,0,0,0,0,1,0,0,0,0,0,1,0,0,1,0,0,0,0,0,0,0,0,0,0,0,0,0,0,0,0,0,0,0,0,0,0,0,0,1,0,0,0,0,0,0,0,0,0,0,0,0,0,0,0,0,0,0,0,0,0,0,0,0,0,0,0,0,0,0,0,0,0,0,0,0,0,0,0,0,0,0,1,0,0,0,0,0,0,0,0,0,0,0,0,0,0,0,0,0,1,0,0,0,0,0,0,0,0,0,0,0,0,0,0,0,0,0,0,0,1,0,1,0,0,0,0,0,1,0,0,0,0,0,0,0,0,0,0,0,0,0,0,0,0,0,0,0,0,0,0,0,0,0,0,0,0,0,0,0,0,0,0,0,0,0,0,0,1,0,0,0,0,0,0,0,0,0,0,0,0,0,0,0,0,0,0,0,0,0,0,0,0,0,0,0,0,0,0,0,0,0,0,0,0,0,0,0,0,0,0,0,0,0,0,0,0,0,0,0,0,0,0,0,1,0,0,0,0,0,0,0,0,0,1,0,0,0,0,0,0,0,0,0,0,0,0,0,0,0,0,0,0,0,0,0,1,0,0,0,0,0,0,0,0,0,0,0,0,0,0,0,0,0,0,0,0,0,0,0,0,0,0,0,0,0,0,0,0,0,0,0,0,0,0,0,0,0,0,0,0,0,0,0,0,0,0,0,0,0,0,0,0,0,0,0,0,0,0,0,0,0,0,0,1,0,0,0,0,0,0,0,0,0,0,0,0,0,0,0,0,0,0,0,0,0,0,0,0,0,0,0,0,0,0,0,0,0,0,0,0,0,0,0,0,0,1,0,0,0,0,0,0,0,0,0,0,0,0,0,0,0,0,0,0,0,0,1,0,0,0,0,0,0,0,0,0,0,0,1,0,0,0,0,0,0,0,0,0,0,0,0,0,0,0,0,0,0,0,0,1,0,0,0,0,0,0,0,0,0,0,0,1,0,0,0,0,0,0,0,0,0,1,0,0,0,0,0,0,0,0,0,0,0,0,0,0,0,1,0,0,0,0,0,0,0,0,0,0,0,0,0,0,0,0,0,0,0,0,0,0,0,0,0,0,0,0,0,0,0,0,0,0,0,0,0,1,0,0,0,0,0,0,0,0,0,0,0,0,0,0,0,0,0,0,0,0,0,0,0,0,0,0,0,0,0,0,0,0,1,0,0,0,0,0,0,1,1,0,0,0,0,0,0,0,0,0,0,0,0,0,0,0,0,0,0,0,0,0,0,0,0,0,0,0,0,0,0,0,0,0,0,0,0,1,0,0,0,0,0,0,0,0,0,0,0,0,0,0,0,0,0,0,0,0,0,0,0,0,0,0,0,0,0,0,0,0,0,0,0,0,0,0,0,0,0,0,0,0,0,0,0,0,0,0,0,0,0,0,0,0,0,0,0,0,0,0,0,0,0,0,0,0,0,0,0,0,0,0,0,0,0,0,0,0,0,0,0,0,0,0,0,0,0,1,0,1,0,0,0,0,0,0,0,0,0,0,0,0,0,0,0,0,0,0,0,0,0,0,0,0,0,0,0,0,0,1,0,0,0,0,0,0,0,0,0,0,0,0,0,0,0,1,0,0,0,0,0,0,0,0,0,0,0,1,0,0,0,0,0,0,0,0,0,0,0,0,0,0,0,0,0,1,0,0,0,0,0,0,0,0,0,0,0,0,0,0,0,0,1,0,0,0,1,0,0,0,0,0,0,0,0,0,0,1,0,0,0,0,0,0,0,0,0,0,0,0,0,0,0,0,0,0,0,0,0,0,0,0,0,0,0,0,0,1,0,0,0,0,0,0,0,0,0,0,0,0,0,0,0,0,0,0,0,0,0,0,0,1,0,0,0,0,0,0,0,0,0,0,0,0,0,0,0,0,0,0,0,1,0,0,0,0,0,0,0,0,0,0,0,0,0,0,0,0,0,1,0,0,0,1,0,0,0,0,0,0,0,0,0,0,0,0,0,0,1,0,0,0,0,0,0,0,0,0,0,0,0,0,0,0,0,0,0,0,0,0,0,0,0,0,0,0,0,0,0,0,0,0,0,0,0,0,0,0,0,1,0,0,0,0,0,0,0,0,0,0,1,0,0,0,0,0,0,0,0,0,0,0,0,0,0,0,0,0,0,0,0,0,0,0,0,0,0,0,0,0,0,1,0,0,0,1,0,0,0,0,0,0,0,0,0,0,0,0,0,0,0,0,0,0,0,0,0,0,0,0,0,0,0,0,0,0,0,0,0,0,0,0,0,0,0,0,0,0,0,0,0,0,0,0,1,0,0,0,1,0,0,0,0,0,0,0,0,0,0,0,0,0,0,0,0,0,0,0,0,0,0,0,1,0,0,0,0,0,0,0,0,0,0,0,0,0,1,0,0,0,0,1,0,0,0,0,0,0,0,0,0,1,0,0,0,0,0,0,0,0,0,0,0,0,0,0,0,0,0,0,0,0,0,0,0,1,0,0,0,0,1,0,0,0,0,0,0,0,0,0,0,0,0,0,0,0,0,0,0,0,0,0,0,0,0,0,0,0,0,0,0,0,0,0,0,0,1,0,0,0,0,0,0,0,0,0,0,0,1,0,0,0,0,0,0,0,0,0,0,0,0,0,0,0,0,0,1,0,1,0,0,0,0,0,0,0,0,0,0,0,0,0,0,0,0,0,0,0,0,0,0,0,0,0,0,0,0,0,0,0,0,0,0,0,1,0,0,0,0,1,1,0,0,0,0,0,0,0,0,0,0,0,0,0,0,0,0,0,1,0,0,0,0,0,0,0,0,0,0,0,0,0,0,0,0,0,0,0,0,0,0,0,0,0,0,0,0,0,0,0,1,0,0,0,0,0,0,0,0,0,0,0,0,0,0,0,1,0,0,1,0,0,0,0,0,0,0,0,0,0,0,0,0,0,0,0,0,0,0,0,0,0,0,0,0,1,0,0,0,0,1,0,0,0,0,0,0,0,0,0,0,0,0,0,0,0,0,0,0,0,0,0,0,0,0,0,0,0,0,0,1,0,0,0,0,0,0,0,0,0,0,0,0,0,0,0,0,0,0,0,0,0,0,0,0,1,0,0,0,0,0,0,1,0,0,0,0,0,0,0,0,0,0,1,0,0,0,0,0,0,0,0,0,0,1,0,1,0,0,0,0,0,0,0,0,0,1,0,0,0,0,0,0,0,0,0,0,0,0,0,0,0,0,0,0,0,0,1,0,0,0,0,0,0,0,0,0,0,0,0,1,0,0,0,0,0,0,0,0,0,0,1,0,0,0,0,0,0,0,0,0,0,0,0,0,0,0,0,0,0,0,0,1,0,0,0,0,0,0,0,0,1,0,0,0,0,0,0,0,0,0,0,0,0,0,0,0,0,0,0,0,0,0,0,0,0,0,0,0,0,0,0,0,0,0,0,0,0,0,0,0,1,0,0,0,0,0,0,0,0,0,0,0,0,0,0,0,0,0,0,1,1,0,0,0,0,0,0,0,0,0,0,1,0,0,0,0,0,0,0,0,0,1,0,0,0,0,0,0,0,0,0,0,0,0,0,0,0,0,0,0,0,0,0,0,0,0,0,0,0,0,0,0,0,0,0,0,0,0,1,0,0,0,0,0,0,0,0,0,0,0,0,0,0,0,0,0,1,0,0,0,0,0,0,0,0,0,1,0,0,0,0,0,0,0,0,0,0,0,0,0,0,0,0,0,0,0,0,0,0,0,0,0,0,0,0,0,0,0,0,0,0,0,0,0,0,0,0,0,0,0,0,0,0,0,0,0,0,0,0,0,1,0,0,0,0,0,0,0,0,0,0,0,0,0,0,0,0,0,0,1,0,0,0,0,0,0,0,0,1,0,0,0,0,0,0,0,0,0,0,0,0,0,0,0,0,0,0,0,0,0,0,0,0,0,0,0,0,0,0,0,0,0,0,0,0,0,0,0,0,0,1,0,0,0,0,0,1,0,0,0,0,0,0,0,0,0,0,0,0,0,0,1,0,0,0,0,0,0,0,0,0,0,0,0,0,0,0,0,0,0,0,0,0,0,1,0,0,0,0,0,0,0,0,0,0,0,1,0,0,0,0,0,0,0,0,0,0,0,0,0,0,0,0,0,0,0,0,0,0,0,0,0,0,0,0,0,0,0,0,0,0,0,0,0,0,0,0,0,0,0,0,0,0,0,0,0,0,0,0,0,0,0,0,0,0,0,0,0,0,0,0,0,0,0,0,0,0,0,0,0,0,0,0,0,1,0,0,0,0,1,1,0,0,0,0,0,0,0,0,0,0,1,0,0,0,0,0,0,0,0,0,0,0,0,0,0,0,0,0,0,1,0,0,0,0,1,0,0,0,0,0,0,0,0,0,0,0,0,0,0,0,0,0,1,0,0,1,0,0,0,0,0,0,0,0,0,0,0,0,1,0,0,0,0,0,0,0,0,0,0,0,0,0,0,0,0,0,0,0,0,0,0,0,0,0,0,0,0,0,0,0,0,0,0,0,0,0,0,0,0,0,0,0,0,0,0,0,0,0,0,0,0,0,0,0,0,0,0,0,0,0,0,0,0,0,0,0,0,0,0,0,0,0,0,0,0,0,0,0,0,0,0,0,0,0,0,0,0,0,0,0,0,0,0,0,0,0,0,0,0,1,0,0,0,0,0,0,0,0,0,0,0,0,0,0,0,0,0,0,0,0,0,0,0,0,0,1,0,0,0,0,0,0,0,0,0,0,0,0,0,0,0,0,0,0,0,0,0,0,0,0,0,0,0,0,0,0,0,0,1,0,0,0,0,0,0,0,0,0,0,0,0,0,0,0,0,0,0,0,0,0,0,0,0,0,0,0,0,0,0,0,0,0,0,0,0,0,0,0,0,1,0,1,0,0,0,0,0,1,0,0,0,0,0,0,0,0,0,0,0,0,0,0,0,0,0,0,0,0,0,0,0,0,0,0,0,0,0,0,0,0,0,0,0,0,0,0,0,0,0,0,0,0,0,0,0,0,0,0,0,0,0,0,0,0,0,0,0,0,0,0,0,0,0,0,0,0,0,0,0,0,0,0,0,0,0,0,0,1,1,0,0,0,0,0,0,0,0,0,0,0,0,0,0,0,0,0,0,0,0,0,0,0,0,0,0,0,0,0,0,0,0,0,0,0,0,0,0,0,0,0,0,0,0,0,0,0,0,0,0,0,0,0,0,0,0,0,0,0,0,0,0,0,0,0,0,0,0,0,0,0,0,0,0,0,0,0,0,0,0,0,0,0,0,0,0,0,0,0,0,0,0,0,0,0,0,0,0,0,0,0,0,0,0,0,0,0,0,0,0,0,0,0,0,0,0,0,0,0,0,0,0,0,0,0,0,0,0,0,0,0,0,0,0,0,0,0,0,0,0,0,0,1,0,0,0,0,0,0,0,0,0,0,0,0,0,0,0,0,0,0,0,0,0,0,0,0,0,0,0,0,0,0,0,0,0,0,0,0,0,0,0,0,0,0,0,0,0,0,0,0,0,0,0,0,0,1,0,0,0,0,0,0,0,0,0,0,0,0,0,0,0,0,0,0,0,1,0,0,0,1,0,1,0,0,0,0,0,0,0,0,0,0,0,0,0,0,0,1,0,0,0,0,0,0,0,0,0,0,0,0,0,0,0,0,0,0,0,0,0,1,0,0,0,0,0,0,0,0,0,0,0,0,0,0,0,0,0,0,0,0,0,0,0,0,0,0,0,0,0,0,0,0,0,0,0,0,0,0,0,0,0,0,0,0,0,1,0,0,0,0,0,0,0,1,0,0,0,0,0,0,0,0,0,0,0,0,0,0,0,0,0,0,0,0,0,0,0,0,0,0,0,0,0,0,0,0,0,0,0,0,0,0,0,0,0,0,0,0,0,0,0,0,0,0,0,0,0,0,0,0,0,0,0,0,0,0,0,0,0,0,0,0,0,0,0,0,0,0,0,0,0,0,0,0,0,0,0,0,0,0,0,0,0,0,0,0,0,0,0,1,0,0,0,0,0,0,0,0,0,0,0,0,1,0,0,0,0,1,0,0,0,0,0,0,0,0,0,0,0,0,0,0,0,0,0,1,0,1,0,0,0,0,0,0,0,0,0,1,0,0,1,0,0,0,0,0,0,0,0,1,0,0,0,0,0,0,0,0,0,0,0,0,0,0,0,0,0,0,0,0,0,1,0,0,0,0,0,0,0,0,0,0,0,0,0,0,0,0,1,0,0,0,0,0,0,0,0,0,0,0,0,0,0,0,0,0,0,0,0,0,0,0,0,0,0,0,0,0,0,0,0,0,0,0,0,0,0,0,0,0,0,0,1,0,0,0,0,0,0,0,0,0,0,0,0,0,0,0,0,0,0,0,0,0,0,0,0,0,0,0,0,0,0,0,0,0,0,0,0,0,0,0,0,0,0,0,0,0,0,0,0,0,1,0,0,0,0,0,0,0,0,0,0,0,0,0,0,1,0,0,0,0,0,0,0,0,0,0,0,0,0,0,0,0,0,0,0,0,0,0,0,0,0,0,0,0,0,0,0,0,0,0,0,0,0,0,0,0,0,0,0,0,0,0,0,0,0,0,0,0,0,0,0,0,0,0,0,0,0,0,0,0,1,0,0,0,0,0,0,0,0,0,0,0,1,0,0,0,0,0,0,0,0,0,0,0,0,0,0,0,0,0,0,0,0,0,0,0,0,0,0,0,0,0,0,0,0,0,0,0,0,0,0,0,0,0,0,0,0,0,0,0,0,0,0,0,0,0,0,0,0,0,0,0,0,0,0,0,0,0,0,0,1,0,0,0,0,0,0,0,0,0,0,0,0,0,0,0,0,0,0,0,0,0,1,0,0,0,0,0,0,0,0,0,0,0,0,0,0,0,0,0,0,0,0,0,0,0,0,0,0,0,0,0,0,0,0,0,0,0,0,0,0,0,0,0,0,0,0,0,0,0,0,0,0,0,0,0,0,0,0,0,0,1,0,0,0,0,0,0,0,0,0,0,1,1,0,0,0,0,0,0,0,0,0,0,0,0,1,0,0,0,0,0,0,0,0,0,0,0,0,0,0,0,0,0,0,0,0,0,0,0,0,0,0,0,0,0,0,1,0,0,0,0,0,0,0,0,0,0,0,0,0,0,0,0,0,0,1,0,0,0,0,0,0,1,0,0,0,0,0,0,0,0,0,0,0,0,0,0,0,0,0,0,0,0,0,0,0,0,0,0,0,0,0,0,0,0,0,0,0,0,0,0,0,0,0,0,1,0,0,0,0,0,0,0,0,0,0,0,0,0,0,0,0,0,0,0,0,0,0,0,0,0,0,0,0,0,0,0,0,0,0,0,0,0,0,0,0,0,0,0,0,0,0,0,0,0,0,0,0,0,1,1,0,0,0,0,0,0,0,0,0,0,0,0,0,0,0,0,0,0,0,0,0,0,0,0,0,1,0,1,0,0,0,0,0,1,0,0,0,0,0,1,0,0,0,0,0,0,0,0,0,0,0,0,0,0,0,0,0,0,0,0,0,0,0,0,0,0,0,0,0,0,0,0,0,0,0,0,0,0,0,0,0,0,0,0,0,0,0,0,0,0,0,0,0,0,0,0,0,0,1,0,0,1,0,0,1,0,1,0,0,0,0,0,0,0,0,0,0,1,0,0,0,0,0,0,0,0,0,0,0,0,0,0,0,0,0,0,0,0,0,0,0,0,0,0,0,0,0,0,0,0,0,0,0,0,0,0,0,0,0,0,0,0,0,0,0,0,0,0,0,0,1,0,0,0,1,0,0,1,0,0,0,0,0,0,0,0,0,0,0,0,0,0,0,0,0,0,0,0,0,0,0,0,0,0,0,0,0,0,0,0,0,0,0,0,0,0,0,0,0,0,0,0,0,0,0,0,0,0,0,0,0,0,0,0,0,0,0,0,0,0,0,0,0,0,0,0,0,0,0,0,0,0,0,0,0,0,0,0,0,1,0,0,0,0,0,0,0,0,0,0,0,0,0,0,0,0,0,0,0,0,0,0,0,0,0,0,0,0,0,0,0,0,0,0,0,0,0,0,0,1,0,0,0,0,0,1,0,0,0,0,0,1,0,0,0,0,0,0,0,0,0,0,0,0,0,0,0,0,0,0,0,1,1,0,0,1,0,0,0,0,0,0,0,0,0,0,0,0,0,0,0,0,1,0,0,0,0,0,0,0,0,0,1,0,0,0,0,0,0,0,0,0,0,0,0,1,0,0,0,0,0,0,0,0,0,0,0,0,1,0,0,0,0,0,0,0,0,0,0,0,0,0,0,0,0,0,0,0,0,0,0,0,0,0,0,0,0,0,1,1,0,0,0,0,0,1,0,0,0,0,0,0,0,0,0,0,0,0,0,0,0,0,0,0,0,0,0,0,0,0,0,0,0,0,0,0,0,0,0,0,0,0,0,0,0,0,0,0,0,0,0,1,0,0,0,0,0,0,0,0,0,1,0,0,0,0,0,0,0,0,0,0,0,0,0,0,0,1,0,0,0,0,0,0,0,0,0,0,0,0,0,0,0,0,0,0,0,0,0,0,0,0,0,0,0,0,0,0,0,0,0,0,0,0,0,0,0,0,0,0,0,0,0,0,0,0,1,0,0,0,0,0,0,0,0,0,0,0,0,0,0,0,0,0,0,0,0,1,0,0,0,0,0,0,0,0,0,0,0,0,0,0,0,0,0,0,0,0,0,0,0,0,0,0,0,0,0,0,0,0,0,0,0,0,0,0,0,0,0,0,0,0,0,0,0,0,0,0,0,0,0,0,0,1,0,0,1,0,0,0,0,0,0,0,0,0,0,0,0,0,0,0,1,0,0,0,0,0,0,1,0,0,0,0,0,0,0,0,0,0,0,0,0,0,0,0,0,0,0,0,0,0,0,0,0,0,0,0,0,0,0,0,0,0,0,0,0,0,0,0,0,1,0,0,0,0,0,0,0,0,0,0,0,0,0,0,0,0,0,0,0,0,0,0,0,0,0,0,0,1,0,0,0,0,0,0,0,0,0,0,0,0,0,0,0,0,0,0,0,0,0,0,0,0,0,0,0,0,0,0,0,0,0,0,0,1,0,0,0,0,0,0,0,0,0,0,0,0,1,0,0,0,0,0,0,0,0,0,0,0,0,0,0,0,0,0,0,0,0,0,0,0,0,0,0,0,0,0,0,0,0,0,0,0,0,0,0,0,0,0,0,0,0,0,0,0,0,0,0,0,0,0,1,0,0,0,0,1,0,0,0,0,0,0,0,0,0,0,0,0,0,0,0,0,0,0,0,0,0,0,0,0,0,0,0,0,0,0,0,0,0,0,0,0,0,0,0,0,0,0,0,0,0,0,0,0,0,0,0,0,0,0,0,0,0,0,0,0,0,0,0,0,0,0,0,0,0,0,0,0,0,0,0,0,0,0,0,0,1,0,0,0,0,1,0,0,0,0,0,0,0,0,0,0,0,1,0,0,0,0,0,0,0,0,0,0,0,0,0,0,0,0,0,0,0,0,0,0,0,0,0,0,0,0,0,0,0,0,0,0,0,0,0,0,0,0,0,0,0,0,0,0,0,0,0,0,0,1,0,0,0,0,0,0,0,0,0,0,1,0,0,0,0,0,0,0,0,0,0,0,0,0,0,0,0,0,0,0,0,0,0,0,0,0,0,0,0,1,0,0,0,0,0,0,0,0,1,0,0,0,0,0,0,0,0,0,0,0,0,0,0,0,0,0,0,0,0,0,1,0,0,0,0,0,0,0,0,0,0,0,0,0,1,0,0,0,0,1,0,0,0,1,0,0,0,0,0,0,0,0,0,0,0,0,0,0,0,0,0,0,0,0,0,0,0,0,0,0,0,0,0,0,0,0,0,0,0,0,0,0,0,0,0,0,0,0,0,1,0,0,0,0,0,0,0,0,0,0,0,0,0,0,0,0,0,0,0,0,0,0,0,0,0,0,0,0,0,0,0,0,0,0,0,0,0,0,0,0,0,0,0,0,0,0,0,0,0,0,0,0,0,1,0,0,0,0,0,0,0,0,0,0,0,1,0,0,0,1,0,0,0,1,1,0,0,0,0,0,1,0,0,0,0,0,0,0,0,0,0,0,0,0,0,0,0,0,0,0,0,0,0,0,0,0,0,0,0,0,0,0,0,0,0,0,0,0,0,0,0,0,0,0,0,0,0,0,0,0,0,0,0,0,0,0,0,0,0,0,0,0,0,0,0,0,0,0,0,0,0,0,0,0,0,0,0,0,0,0,0,0,0,0,0,0,0,0,0,0,0,0,0,0,0,0,0,0,0,0,0,0,0,0,0,0,0,0,0,0,0,0,0,0,0,0,0,0,0,0,0,0,0,0,0,0,0,0,0,0,0,0,0,0,0,0,0,0,0,0,0,0,0,0,0,0,0,0,0,0,0,0,0,0,0,0,0,0,0,0,0,0,0,0,0,0,0,0,0,0,0,0,0,0,0,0,0,0,0,0,0,0,0,0,0,0,0,0,0,0,0,0,0,0,0,0,0,0,0,0,0,0,0,0,0,0,1,0,0,0,0,0,0,0,0,1,0,1,0,0,0,0,0,0,0,0,0,0,0,1,0,0,0,0,0,0,0,1,0,0,0,0,0,0,0,0,0,0,0,0,0,0,0,0,0,0,0,0,0,0,0,0,0,0,0,0,0,0,0,0,0,0,0,0,0,0,0,0,0,0,0,1,0,0,0,0,0,0,0,1,0,0,0,0,1,0,0,0,0,0,0,0,0,0,0,0,0,0,0,0,0,0,0,0,0,0,0,1,0,0,0,0,0,0,0,0,0,0,0,0,0,0,0,0,0,0,0,0,0,0,0,0,0,0,0,0,0,0,0,0,0,0,0,0,0,0,0,0,0,0,0,0,0,0,0,0,0,0,0,0,0,0,0,0,0,0,0,0,0,0,0,0,0,0,0,0,0,0,0,0,0,0,0,0,0,0,0,0,0,0,0,0,0,0,0,0,0,0,0,0,1,0,0,0,0,0,0,0,0,0,0,0,0,0,0,0,0,0,0,0,0,0,1,0,0,0,0,0,0,0,0,0,0,0,0,0,0,0,0,0,0,0,0,0,0,0,0,1,0,0,0,0,1,0,0,0,0,0,0,0,0,0,0,0,0,0,0,0,0,0,0,0,0,0,0,0,0,0,0,0,0,0,0,0,0,0,0,0,0,0,0,0,0,0,0,0,1,0,0,0,0,0,0,0,0,0,1,0,0,0,0,0,0,0,0,0,0,0,0,0,0,0,0,0,0,0,0,0,0,0,0,0,0,0,0,0,0,0,0,0,0,0,0,0,0,0,0,0,0,0,1,0,0,0,0,0,0,0,0,0,0,0,0,0,0,0,0,0,0,0,0,0,0,0,0,0,0,0,0,0,1,0,0,0,0,0,0,0,0,0,0,0,0,0,0,0,0,0,0,0,0,0,0,0,0,0,0,0,0,0,0,0,0,0,0,0,0,0,0,0,0,0,0,0,0,0,0,0,0,0,0,0,0,0,0,0,1,0,0,0,0,0,0,1,0,0,0,0,0,0,0,0,0,0,0,0,0,0,0,0,0,0,0,0,0,0,0,0,0,0,0,0,0,0,0,0,0,1,0,0,0,0,0,0,0,0,0,0,0,0,0,0,0,0,0,0,0,0,0,0,0,0,0,0,0,0,0,0,0,0,0,0,0,0,0,0,0,1,0,0,0,0,0,0,0,0,0,0,0,0,0,0,0,0,1,0,0,0,0,0,0,0,0,0,0,0,0,1,0,0,0,0,0,0,0,0,0,0,0,0,1,0,0,0,0,0,0,0,0,0,0,0,0,1,0,0,0,0,0,0,0,0,0,0,0,0,0,0,0,0,0,0,0,0,0,0,0,0,0,0,0,0,0,0,0,0,0,0,0,0,0,0,0,0,0,0,0,0,1,0,0,0,0,0,0,0,0,0,0,0,0,0,0,0,0,0,0,0,0,0,0,0,0,0,0,0,0,0,0,0,0,0,0,0,0,1,0,0,0,0,0,0,0,0,0,0,0,0,0,0,0,0,0,0,0,0,0,1,0,0,0,0,0,0,0,0,0,0,0,0,0,0,0,0,0,0,0,0,0,0,0,0,0,0,0,0,0,0,0,0,0,0,0,0,0,0,0,0,0,0,0,1,0,0,0,0,0,0,0,0,0,0,0,0,0,0,0,0,0,0,0,0,0,0,0,0,0,0,1,0,0,0,0,0,0,0,0,0,0,0,0,1,0,1,0,0,0,0,0,0,0,0,0,0,0,0,0,0,0,0,0,0,0,0,0,0,0,0,0,0,0,0,0,0,0,0,0,0,0,0,0,0,0,0,0,0,0,1,0,0,0,0,0,0,0,0,0,0,0,0,0,0,0,0,0,0,0,0,0,0,0,0,0,0,0,0,0,0,0,0,0,0,0,0,0,1,0,0,0,0,0,0,0,0,0,0,0,0,0,0,0,1,0,0,0,0,0,0,0,0,0,0,0,0,0,0,0,0,0,0,0,0,0,0,0,0,0,0,0,0,0,0,0,0,0,0,0,0,0,0,0,0,0,0,0,0,0,0,0,0,0,0,0,1,0,0,0,0,0,0,0,0,0,0,0,0,0,0,0,0,0,0,0,0,0,0,1,0,0,0,0,1,0,0,0,0,0,0,0,0,0,0,0,0,0,0,0,0,0,0,0,0,0,0,0,0,0,0,0,1,0,0,0,0,0,0,0,0,0,0,0,0,0,1,0,0,0,0,0,0,0,0,0,0,0,0,0,0,0,0,0,0,0,0,0,0,0,0,0,0,0,0,0,0,0,0,0,0,0,0,0,0,0,0,0,0,0,0,0,0,0,0,0,0,0,0,0,0,0,0,0,0,1,0,0,0,1,0,0,0,0,0,0,0,0,0,0,0,0,0,0,0,0,0,0,0,0,0,1,0,0,0,0,0,0,0,0,0,0,0,0,0,0,0,0,0,0,0,0,0,0,0,0,0,0,0,0,0,0,0,0,0,0,0,0,1,0,0,0,0,0,0,0,0,0,0,0,0,0,0,1,0,0,0,0,0,0,0,0,0,0,0,0,0,0,0,0,1,0,0,0,0,1,0,0,0,0,0,0,0,0,1,0,0,0,0,0,0,0,0,0,0,0,0,0,0,0,0,0,1,0,0,1,0,0,0,0,0,0,0,0,0,0,0,0,0,0,0,0,0,0,0,0,0,0,0,0,0,0,1,0,0,0,0,0,0,0,0,0,0,0,0,0,0,0,0,0,0,0,0,0,0,0,0,0,0,0,0,0,0,0,0,0,0,0,0,0,0,0,0,0,0,0,0,0,0,0,0,0,0,0,0,0,0,0,0,0,0,0,0,0,0,0,0,0,0,0,0,1,0,0,0,0,0,1,0,0,1,0,0,0,0,0,0,0,0,0,0,0,0,0,0,0,0,0,0,0,0,0,0,0,0,0,1,0,0,0,0,0,0,0,0,0,0,0,0,0,0,0,0,0,0,0,0,0,0,0,0,0,0,0,0,0,0,0,0,0,0,0,0,0,0,0,0,0,0,0,0,0,0,0,0,0,0,0,0,0,0,0,0,0,0,0,0,0,0,0,0,0,0,0,0,0,0,0,0,0,0,0,0,0,0,0,0,0,0,0,0,0,0,0,0,0,0,0,1,0,0,0,0,0,0,0,0,0,0,0,0,0,0,0,0,0,0,0,0,0,0,0,0,0,0,0,0,0,0,0,0,0,0,0,0,0,0,0,0,0,1,0,0,0,0,0,0,1,0,0,0,0,0,1,0,0,0,0,0,0,0,0,0,0,1,0,0,0,0,0,0,0,0,0,0,0,0,0,0,0,0,0,0,0,0,0,0,0,0,0,0,0,0,0,0,0,0,1,0,0,0,0,0,0,0,0,0,0,0,0,0,0,0,0,0,0,0,0,0,0,0,0,0,0,0,0,0,0,0,1,0,0,0,0,0,0,0,0,0,0,0,0,0,0,0,1,0,0,0,0,1,0,0,0,0,0,0,0,0,0,0,0,0,0,0,0,0,1,1,0,0,0,0,0,0,0,0,0,0,0,0,0,0,0,0,0,0,0,0,0,0,0,0,1,0,0,0,0,0,0,0,0,0,0,0,0,0,0,0,0,0,0,0,0,0,0,0,0,0,0,0,0,0,0,0,0,0,0,0,0,0,0,0,0,0,0,0,0,0,0,0,0,0,0,0,0,0,0,0,1,0,0,0,0,0,0,0,0,0,0,0,0,0,0,0,0,0,0,0,0,0,0,0,0,0,0,0,0,0,0,1,1,0,0,0,1,0,0,0,0,0,0,0,0,0,0,0,0,0,0,0,0,0,0,0,0,0,0,0,0,0,0,0,0,0,0,0,0,0,0,0,0,0,1,0,0,0,0,0,0,0,0,0,0,0,0,0,0,0,0,0,0,0,0,0,0,0,0,0,0,0,0,0,0,0,0,0,0,0,0,0,0,0,0,0,0,0,0,0,0,0,0,0,0,0,0,0,0,0,0,0,0,0,0,0,0,0,0,0,0,0,0,0,0,0,0,0,0,0,0,0,0,0,0,0,0,1,0,0,0,0,0,0,0,0,0,0,0,0,0,0,0,0,0,0,0,0,0,0,0,0,0,0,0,0,0,0,0,0,0,0,0,0,0,0,0,0,0,0,0,0,0,0,0,0,1,0,0,0,0,0,0,0,0,0,0,0,0,0,0,0,0,0,0,0,0,0,0,0,0,0,0,0,0,0,0,0,0,0,1,0,0,0,0,0,0,0,0,0,0,1,0,0,1,0,0,0,0,0,0,0,0,0,0,1,0,0,0,0,0,0,0,0,0,0,0,0,0,0,0,0,0,0,0,0,0,0,0,0,0,1,0,0,0,0,0,0,0,0,0,0,0,0,0,0,0,0,0,0,0,0,0,0,0,0,0,0,0,0,0,0,0,0,0,0,0,0,0,0,0,0,0,0,0,0,0,0,0,0,0,0,0,0,0,0,0,0,0,0,0,0,0,0,0,0,0,0,0,0,0,0,0,0,0,0,1,0,0,0,0,1,0,0,0,0,0,0,0,0,0,0,0,0,0,0,0,0,0,1,0,0,0,0,0,0,0,0,0,0,0,0,0,0,0,0,0,0,0,0,0,0,0,0,0,0,0,0,1,0,0,0,0,0,0,0,0,0,0,0,0,0,0,0,0,0,0,0,0,0,0,0,0,0,0,0,0,0,0,0,0,1,0,0,0,0,0,0,0,0,0,0,0,0,0,0,0,0,0,0,0,0,1,0,0,0,0,0,0,0,0,0,0,0,0,0,0,0,1,0,0,0,0,0,0,0,0,0,0,0,0,0,0,0,0,0,0,0,0,0,0,0,0,0,0,0,0,0,1,0,0,0,0,0,0,0,0,0,0,0,0,1,0,0,0,0,0,0,0,0,0,0,0,0,0,0,0,0,0,0,0,0,0,0,0,0,0,0,0,0,0,0,0,0,0,0,0,0,0,0,0,0,0,0,0,0,0,0,0,0,0,0,1,0,0,0,0,0,0,0,0,0,0,0,0,0,0,0,0,0,0,0,0,0,0,0,0,0,0,0,0,0,0,0,0,0,0,0,0,0,0,0,0,0,0,0,0,0,0,0,0,0,0,0,0,0,0,0,0,0,0,0,0,0,0,0,0,0,0,0,0,0,0,0,0,0,0,0,0,0,0,0,0,0,0,0,0,0,0,0,0,0,0,0,0,0,0,0,0,0,0,0,0,0,0,0,0,0,0,0,0,0,0,0,0,0,0,0,1,0,0,0,0,0,0,0,0,0,0,0,0,0,0,0,0,0,0,0,0,0,0,0,0,0,0,0,0,0,0,0,0,1,0,0,0,0,0,0,0,0,0,1,0,0,0,0,0,0,0,0,0,0,0,0,0,0,0,0,0,0,1,1,0,0,0,0,0,0,0,0,0,0,0,0,0,0,0,0,0,0,0,0,0,0,0,0,0,0,0,0,0,0,0,0,0,0,0,0,0,0,0,0,0,0,0,0,0,0,0,0,0,0,0,0,0,0,1,0,0,0,0,0,0,0,0,0,0,0,0,0,0,0,0,0,0,0,0,0,0,0,0,0,0,1,0,0,0,0,0,1,0,0,0,0,0,0,0,0,0,0,0,0,0,0,0,0,0,0,1,0,0,0,0,0,0,0,0,0,0,0,0,0,0,0,0,0,0,0,1,0,0,0,0,0,0,0,0,0,0,0,0,0,0,0,0,0,0,0,0,0,0,1,0,0,0,0,0,0,0,0,0,0,0,0,0,0,0,0,0,0,0,0,0,0,0,0,0,0,1,0,0,1,0,0,0,0,0,1,0,0,1,0,0,0,0,0,0,0,0,0,0,0,0,0,0,0,1,0,0,0,0,0,0,0,0,0,0,0,0,0,0,0,0,0,0,0,0,0,0,0,0,0,0,0,0,0,0,0,0,0,0,0,0,0,0,0,0,0,0,0,0,0,0,0,0,0,0,0,0,0,0,0,0,0,0,0,0,0,1,0,0,0,0,0,0,0,0,0,0,0,0,0,1,0,0,0,0,0,0,0,0,0,0,0,0,0,0,0,0,0,1,0,0,0,0,0,0,0,0,0,0,0,0,0,0,0,0,0,0,1,0,0,0,0,0,0,0,0,0,0,0,0,0,0,0,0,0,0,0,0,0,0,0,0,0,0,0,0,0,0,0,0,1,0,0,0,0,0,0,0,0,0,0,0,0,0,0,0,0,0,0,0,0,0,0,0,0,0,0,0,0,0,0,0,0,0,0,0,0,0,0,0,0,0,0,0,0,0,0,0,0,0,0,0,0,0,0,0,0,0,0,0,0,0,0,0,0,0,0,0,0,0,0,0,0,0,0,0,0,0,0,0,0,0,0,0,0,0,0,0,0,0,0,0,0,0,0,0,0,0,0,0,0,0,0,0,1,0,0,0,0,0,0,0,0,0,0,0,0,0,0,0,0,0,0,0,0,0,0,0,0,0,0,0,0,0,0,0,0,1,0,0,0,0,0,0,0,0,0,0,0,0,0,0,0,0,0,0,0,1,0,0,0,0,0,0,0,0,0,0,0,0,0,0,0,0,0,0,0,0,0,0,0,0,0,0,1,0,0,0,0,0,0,0,0,0,0,0,0,0,0,0,0,0,0,0,0,0,1,0,1,0,0,0,0,0,0,0,0,0,0,0,0,0,0,0,0,0,0,0,0,0,0,0,0,0,0,0,1,0,0,1,0,0,0,0,0,0,1,0,0,0,0,0,0,0,0,0,0,0,0,0,0,1,0,0,0,0,0,0,0,0,0,0,0,0,0,0,0,0,1,0,0,0,0,1,0,0,0,0,0,0,0,0,0,0,0,0,0,0,0,0,0,0,0,0,0,0,0,0,0,0,0,0,0,1,0,0,0,0,0,0,0,0,0,0,1,0,0,0,0,0,0,0,0,0,0,0,0,0,0,0,0,0,0,0,0,0,0,0,0,0,0,0,0,0,0,0,0,0,0,0,0,0,0,0,0,0,0,0,0,0,0,0,0,0,0,0,0,0,0,0,0,0,0,0,0,0,1,0,0,0,0,0,0,0,0,0,0,0,0,0,0,0,0,0,0,1,0,0,0,0,1,0,0,0,0,0,0,0,0,0,0,0,0,0,0,0,0,0,0,0,0,0,0,0,0,0,0,0,0,0,0,0,0,0,0,0,0,0,0,1,0,0,0,0,0,0,0,1,1,0,0,0,0,0,0,0,0,0,0,0,1,0,0,0,0,0,0,0,0,0,0,0,0,0,0,0,0,0,0,0,0,0,0,0,0,0,0,0,0,0,0,1,0,0,0,0,0,0,0,0,0,0,0,0,0,0,0,0,0,0,0,0,0,0,0,0,0,0,0,0,0,0,0,0,0,0,0,0,0,0,0,0,0,0,0,0,0,0,0,0,0,0,0,0,0,0,0,0,0,0,0,0,0,1,0,0,0,0,1,0,0,0,0,0,0,0,0,0,0,0,0,0,0,0,0,0,0,0,0,0,0,0,0,0,0,0,0,0,0,0,0,0,0,0,0,0,0,0,0,0,0,1,0,0,0,0,0,0,0,0,0,0,0,0,0,0,0,0,0,0,0,0,0,0,0,0,0,0,0,0,0,0,0,0,0,0,0,0,0,0,0,0,0,1,0,0,0,0,0,0,0,0,0,0,0,0,0,0,0,0,0,0,0,0,0,0,0,0,0,1,0,0,0,0,0,0,0,1,0,0,0,0,0,0,0,0,0,0,0,0,0,0,1,0,0,0,1,0,0,0,0,0,0,0,0,0,0,0,0,0,0,0,0,0,0,0,0,0,0,0,0,0,0,0,1,0,0,0,0,0,0,0,0,0,0,0,0,0,0,0,0,0,0,0,0,1,0,0,0,0,0,0,1,0,0,0,0,0,0,0,0,0,0,0,0,0,0,0,0,0,1,0,0,0,0,0,0,0,0,0,0,0,0,0,0,0,0,0,0,0,0,0,0,0,0,0,0,0,0,0,0,0,0,0,0,0,0,0,0,0,0,0,0,0,0,0,0,0,0,0,0,0,0,0,0,1,0,0,0,0,0,0,0,0,0,0,0,0,0,0,0,0,0,0,0,0,0,1,0,0,0,0,0,0,0,0,0,0,0,0,0,0,0,0,0,0,0,1,0,0,0,0,0,0,0,0,0,0,0,0,0,0,0,0,0,0,0,0,0,0,0,0,0,0,0,0,0,0,0,0,0,0,0,0,0,0,0,0,0,1,0,0,0,0,0,0,0,0,0,0,0,0,0,0,0,0,0,0,0,0,0,0,0,0,0,0,0,1,0,0,0,0,0,0,0,0,0,0,0,0,0,0,0,0,0,0,0,0,0,0,0,0,0,0,0,1,0,0,0,0,0,0,0,0,0,0,0,0,0,0,0,0,0,0,0,0,0,0,0,0,0,0,0,0,0,0,0,0,0,0,0,0,0,0,0,0,1,0,0,0,0,1,0,0,0,0,0,0,0,0,0,0,0,0,0,0,0,0,0,0,0,0,0,0,0,0,1,0,0,0,0,0,0,0,0,0,0,0,0,0,0,0,0,0,0,0,0,0,0,0,0,0,0,0,0,0,0,0,0,0,0,0,0,0,0,0,0,0,0,0,0,0,0,0,0,0,0,0,0,0,0,0,1,0,0,0,0,0,0,0,0,0,0,0,0,0,1,0,0,0,0,0,0,0,0,0,0,0,0,1,0,0,0,0,0,0,0,0,0,0,0,0,0,0,1,0,0,0,0,0,0,0,0,0,0,0,0,0,0,0,0,0,1,0,0,0,0,0,0,0,0,0,0,0,0,0,1,0,0,0,0,0,0,1,0,1,0,0,0,1,0,0,0,0,0,0,0,0,0,0,0,0,0,0,0,0,0,0,1,0,0,0,0,0,0,0,0,0,0,0,0,0,0,0,0,0,0,0,0,0,0,0,0,0,0,0,0,0,0,0,0,0,0,0,0,0,0,0,0,0,0,0,1,0,0,0,0,0,1,0,0,0,1,0,0,0,0,0,0,0,0,0,0,0,0,0,0,1,0,0,0,0,0,0,1,0,0,0,0,0,0,0,0,0,0,0,0,0,0,0,0,0,0,0,0,0,0,0,0,0,0,0,0,0,0,0,0,0,0,0,0,0,0,0,0,0,0,0,0,0,0,0,0,0,0,0,1,1,0,0,0,0,0,0,0,0,0,0,0,0,0,0,0,0,0,0,0,0,0,0,0,0,0,0,0,0,0,0,0,0,0,0,0,0,0,0,0,0,0,0,0,0,0,0,0,0,0,0,0,0,0,0,0,0,0,0,0,0,0,0,0,1,0,0,0,0,0,0,0,0,0,0,0,0,0,0,0,0,0,0,0,0,0,0,0,0,0,0,0,0,1,0,0,0,0,0,0,0,0,0,0,0,0,0,0,0,0,0,0,0,0,0,0,0,0,0,0,0,0,1,0,0,0,0,0,0,0,0,0,0,0,0,0,0,0,0,1,0,0,0,0,0,0,0,0,0,0,0,0,0,0,0,0,0,0,0,1,0,0,0,0,0,0,0,0,0,0,0,0,0,0,0,0,0,0,0,1,0,0,0,0,0,0,0,0,0,0,0,0,0,0,0,0,0,0,0,0,0,0,0,0,0,0,0,0,0,0,0,0,0,0,1,0,0,1,0,0,0,0,0,0,0,0,0,0,0,0,0,0,0,0,0,0,0,0,0,0,0,0,0,0,0,0,0,0,0,0,0,0,0,0,0,1,0,0,0,0,0,0,0,0,0,0,0,0,0,0,0,0,0,0,0,0,0,0,0,0,0,0,0,0,0,0,0,0,0,0,1,0,0,0,0,0,0,1,0,0,0,0,0,0,0,0,0,0,0,0,0,0,0,0,0,0,0,0,0,0,0,0,0,0,0,0,0,0,0,0,0,0,0,0,0,0,0,0,0,0,1,0,0,0,0,0,0,0,0,0,0,0,0,0,0,0,0,0,0,0,1,0,1,0,0,0,0,0,1,0,0,0,0,0,0,0,0,0,0,0,0,0,0,0,0,0,0,1,0,0,0,0,0,0,0,0,0,0,0,0,0,1,1,0,0,0,0,0,0,0,0,0,0,0,0,0,0,1,0,0,0,0,0,0,0,0,1,0,0,0,0,0,0,0,0,1,0,0,0,0,1,0,0,0,0,0,0,0,0,0,0,0,0,0,0,0,0,0,0,0,0,0,0,0,0,0,0,0,0,0,0,0,0,0,0,0,0,0,0,0,0,0,1,0,0,0,0,0,0,0,0,0,0,0,0,0,0,0,0,0,0,0,0,0,0,0,0,1,0,0,0,0,0,0,0,0,0,0,0,0,0,0,0,0,0,0,0,0,0,0,0,0,0,0,0,0,0,0,0,0,0,0,0,1,1,0,0,0,0,0,0,0,0,0,0,1,0,0,0,0,0,0,0,0,0,0,0,0,0,0,0,0,0,0,0,0,0,0,0,0,0,0,0,0,0,0,0,0,0,0,0,0,0,0,0,0,0,0,0,0,0,0,0,0,0,0,0,0,0,0,0,0,0,0,0,0,1,0,0,0,0,0,0,0,0,0,0,0,0,0,0,0,0,0,0,0,0,0,0,0,0,0,0,0,0,0,0,0,0,0,0,0,0,0,0,0,0,0,0,0,0,1,0,0,0,0,0,0,0,0,0,0,0,1,0,0,0,0,0,0,0,0,0,0,0,0,0,0,0,0,1,0,0,0,0,0,0,0,0,0,0,0,0,0,0,0,0,0,0,0,0,0,0,0,0,0,0,0,0,0,0,0,0,0,0,0,0,0,0,1,0,0,0,0,0,0,0,0,0,1,0,0,0,0,0,0,0,0,0,0,0,0,0,0,0,0,0,0,0,0,0,0,0,0,0,1,0,0,0,0,0,0,0,0,0,0,0,0,0,0,0,0,0,0,0,0,0,0,0,0,0,0,0,0,0,0,0,0,0,0,0,0,0,0,0,0,0,0,0,0,0,0,0,0,0,0,0,0,0,0,0,0,0,0,0,0,0,0,0,0,0,0,0,0,0,0,1,0,0,0,0,0,0,0,0,0,0,0,0,0,0,0,0,0,0,0,0,0,0,0,0,0,0,0,0,0,0,0,0,0,0,0,0,0,0,0,0,0,0,0,0,0,0,0,0,0,0,0,0,0,0,0,0,0,0,0,0,0,0,0,0,0,0,0,0,0,0,0,1,0,0,0,0,0,0,0,0,0,0,0,0,0,0,0,0,0,0,0,0,0,0,0,0,0,0,0,0,0,0,0,0,1,0,0,0,0,0,0,0,0,0,0,0,0,0,0,0,0,0,0,0,0,0,0,0,0,0,0,0,0,0,0,0,0,0,0,0,0,0,0,0,0,0,0,0,0,0,0,0,0,0,0,0,0,0,0,0,0,0,0,0,0,0,0,0,0,0,0,0,0,0,0,0,0,0,0,0,0,0,0,0,0,0,0,0,0,0,0,1,0,0,0,0,0,0,0,0,0,0,0,0,0,1,0,0,0,0,0,0,0,0,0,0,0,1,0,0,0,0,0,0,0,0,0,0,0,0,0,0,0,0,0,0,0,0,0,0,0,0,0,0,0,0,0,0,0,0,0,0,0,0,0,0,0,0,0,0,0,0,0,0,0,0,0,0,0,0,0,0,0,0,0,0,0,0,0,0,1,0,0,0,1,0,0,0,0,0,0,0,0,0,0,0,0,0,0,0,0,0,0,0,0,0,0,0,0,0,0,0,0,0,0,0,0,0,0,1,0,0,0,0,0,0,0,0,0,0,0,0,0,0,0,0,0,0,0,0,0,0,0,0,0,0,0,0,0,0,0,0,0,0,0,0,0,0,0,0,0,0,0,0,0,0,0,0,1,0,0,0,0,0,0,0,0,0,0,0,0,0,0,0,1,0,0,0,0,0,1,0,0,0,0,0,0,0,0,0,0,0,0,0,0,0,0,0,0,0,0,0,0,0,0,0,0,0,0,0,0,0,0,0,0,0,0,0,0,0,0,0,0,0,0,0,0,0,0,0,0,0,0,0,0,0,0,0,0,0,0,0,0,0,0,0,0,0,0,0,1,0,0,0,0,0,0,0,0,0,0,0,0,0,0,0,0,0,0,0,0,0,0,0,0,0,0,0,0,0,0,0,0,0,0,0,0,0,0,0,0,0,0,0,0,0,0,0,0,0,0,0,0,0,0,0,0,0,0,0,0,0,0,0,0,0,0,0,0,0,0,0,0,0,0,0,0,0,1,1,1,0,0,0,0,0,0,0,0,0,0,0,0,0,0,0,0,0,0,0,0,0,0,0,0,1,1,0,0,0,0,0,0,0,0,0,0,0,0,0,0,0,0,0,0,0,0,0,0,0,0,0,0,0,0,0,0,0,0,0,0,0,0,0,0,0,0,0,0,0,0,0,0,0,0,0,0,0,0,0,0,0,0,0,0,0,0,0,0,0,0,0,0,0,0,0,0,0,0,0,0,0,0,0,0,0,0,0,0,0,0,0,0,0,0,0,0,0,0,0,0,0,0,0,0,0,1,0,0,0,0,0,0,0,0,0,0,0,0,0,0,0,0,1,0,1,1,0,1,0,0,0,0,0,0,1,0,0,0,0,0,0,0,0,0,0,0,0,0,0,0,0,0,0,0,0,0,0,0,0,1,0,0,0,0,0,0,0,0,1,0,0,0,0,0,0,0,0,0,0,0,0,0,0,0,0,0,0,0,0,0,0,0,0,0,0,0,0,1,0,0,0,0,0,0,0,0,0,0,0,0,0,0,0,0,1,0,0,0,0,0,0,0,0,0,0,0,0,0,0,0,0,0,0,0,0,0,0,1,0,0,0,0,0,0,0,0,0,0,0,0,0,0,0,0,0,0,0,0,0,0,1,0,0,0,0,0,0,0,0,0,0,0,0,0,0,0,0,0,0,0,0,0,0,0,0,0,0,0,0,0,0,0,0,0,1,0,0,0,0,0,0,0,0,0,0,0,0,0,0,0,0,0,0,0,0,0,0,0,0,0,0,0,0,0,0,0,0,0,0,0,0,0,0,0,0,0,0,0,0,0,0,0,0,0,0,0,0,0,0,0,0,0,0,0,0,0,0,0,0,0,0,0,0,0,0,0,1,0,0,0,0,0,0,0,0,0,0,0,0,0,0,0,0,0,1,0,0,0,0,0,0,0,0,0,0,0,0,0,0,0,0,0,0,0,0,0,0,0,0,0,0,0,0,0,0,0,0,0,0,0,0,0,0,0,0,0,0,0,0,0,0,0,0,0,0,0,0,0,0,0,0,0,0,0,0,0,0,0,0,0,0,1,0,0,0,0,0,0,0,0,0,0,1,0,0,0,0,0,0,0,0,0,0,0,0,0,0,0,0,0,0,0,0,0,0,0,0,0,0,0,0,0,0,0,0,0,0,0,0,0,0,0,0,0,0,0,0,0,0,0,0,0,0,0,0,0,0,0,0,0,0,0,0,0,0,0,0,0,0,0,0,0,0,0,0,0,0,0,0,0,0,0,0,1,0,0,0,0,0,0,0,0,0,0,0,0,0,0,0,0,0,0,0,0,0,0,0,0,0,0,0,0,0,0,0,0,0,0,0,1,0,0,0,0,0,0,0,0,0,0,0,0,0,0,0,0,0,0,0,0,0,0,0,0,0,0,0,0,0,0,0,0,0,0,0,0,0,0,0,0,0,0,0,0,0,0,0,0,0,0,0,0,0,0,0,0,0,0,0,0,0,0,0,0,0,0,0,0,0,0,0,0,0,0,0,0,0,0,0,0,0,0,0,0,0,0,0,0,0,0,0,0,0,0,0,0,0,0,0,0,0,0,0,0,0,0,0,0,0,0,0,0,0,0,0,0,0,0,0,0,0,0,0,0,0,0,0,0,0,0,0,0,0,0,0,0,0,0,0,0,0,0,0,0,0,1,0,0,0,0,0,0,0,0,0,0,0,0,0,0,0,0,0,0,0,0,0,0,0,0,1,0,0,0,0,0,0,0,0,1,0,0,0,0,0,0,1,0,1,0,0,0,0,0,0,0,0,0,0,0,0,0,0,0,0,0,1,0,1,0,0,0,0,0,0,0,0,0,0,0,0,0,0,0,0,0,0,0,0,0,0,0,0,0,0,0,0,0,0,0,0,0,0,0,0,0,0,0,0,0,0,0,0,0,0,0,0,1,0,0,0,0,1,0,0,0,0,0,0,0,0,0,0,0,0,0,0,0,0,0,0,0,1,0,0,0,0,0,0,0,0,0,1,0,0,0,0,0,0,0,0,0,0,0,0,0,0,1,0,0,0,0,0,0,0,0,0,0,0,0,0,0,0,0,0,0,0,0,0,0,0,0,0,0,0,0,0,0,0,0,0,0,0,0,0,0,0,0,1,0,0,0,0,0,0,0,0,0,0,0,0,0,0,0,0,0,0,0,0,0,0,0,0,0,0,0,0,0,0,0,0,1,0,0,0,0,0,0,0,0,0,0,0,0,0,0,0,0,0,0,0,0,0,0,0,0,0,0,0,0,0,0,0,0,0,0,0,0,0,0,0,0,0,0,0,0,0,0,0,0,0,0,0,0,0,0,0,0,0,0,0,0,0,0,0,0,0,0,0,0,0,1,0,0,0,0,0,0,0,0,0,0,0,0,0,0,0,0,0,0,0,0,1,0,0,0,0,0,0,0,0,0,0,0,0,0,0,0,0,1,0,0,0,0,0,0,0,0,0,0,0,0,0,0,0,0,0,0,0,0,0,0,0,0,0,0,0,0,0,0,0,0,0,0,0,0,0,0,0,0,0,0,0,1,0,0,0,0,0,0,0,0,0,0,0,0,0,0,0,0,0,0,0,0,0,0,0,0,0,0,0,0,0,0,0,0,0,0,0,0,0,0,0,0,0,0,0,0,0,0,1,0,0,1,0,0,0,0,0,0,0,0,0,0,0,0,0,0,0,0,0,0,0,0,0,0,0,0,0,0,0,0,0,0,0,0,0,0,0,0,0,0,0,0,0,0,0,0,0,0,0,0,0,0,0,0,0,0,0,0,1,0,0,0,0,0,0,0,0,0,0,0,0,0,0,0,0,0,0,0,1,0,1,0,0,0,0,0,0,0,0,0,0,0,0,0,0,0,0,0,0,0,0,0,0,0,0,0,1,0,0,0,0,0,0,0,0,0,0,0,0,0,1,0,0,0,0,0,0,0,0,0,0,1,0,0,0,0,0,0,0,0,0,0,0,0,0,0,0,0,1,0,0,0,0,0,0,0,0,0,0,0,0,0,0,0,0,0,0,0,0,0,0,0,0,0,0,1,0,0,0,0,0,0,0,0,0,0,0,0,0,0,0,0,0,0,0,0,0,0,0,0,0,0,0,0,0,0,0,0,0,0,0,0,0,0,0,0,0,0,0,0,0,0,0,0,0,0,0,0,0,0,0,0,0,0,0,0,0,0,0,0,0,0,0,0,0,0,0,0,0,0,0,0,0,1,0,0,0,0,0,0,0,0,0,0,0,0,0,0,0,0,0,0,0,0,0,0,0,0,0,0,0,0,0,0,0,0,0,0,0,0,0,0,0,0,1,0,0,0,0,0,0,0,0,0,0,0,0,0,0,0,0,0,0,0,1,0,0,0,0,0,0,0,0,0,0,0,0,0,0,0,0,0,0,0,0,0,0,0,0,0,0,0,0,0,0,0,0,0,0,0,0,0,0,0,0,0,0,0,0,1,0,0,0,0,0,0,1,0,0,0,0,0,0,0,0,0,0,0,0,0,0,0,0,0,0,0,0,0,1,0,0,0,0,0,0,0,0,0,0,0,0,0,0,0,0,0,0,0,0,0,0,0,0,0,0,1,0,0,0,0,0,0,0,0,0,0,0,0,0,0,0,1,0,0,0,0,0,0,0,0,0,0,0,0,0,0,0,0,0,0,0,0,0,0,0,0,0,0,0,0,0,0,0,0,0,0,0,0,0,0,0,0,0,0,0,0,0,0,0,0,0,0,0,0,0,0,0,0,0,0,0,0,0,0,0,0,0,0,0,0,0,0,0,0,0,0,0,0,0,1,0,0,0,0,0,0,0,0,0,0,0,0,0,0,0,0,0,1,0,0,0,0,0,0,0,0,0,1,0,0,0,0,0,0,0,0,0,0,0,0,0,0,0,0,0,0,0,1,0,0,0,0,0,0,0,0,0,0,0,0,0,0,0,0,0,0,0,0,0,1,0,0,0,0,0,0,0,0,0,0,0,0,0,0,0,0,0,0,0,0,0,1,0,0,0,0,0,0,0,0,0,0,0,0,0,0,0,0,0,0,0,0,0,0,0,0,0,0,0,1,0,0,0,0,0,0,0,0,0,0,0,0,1,0,0,0,0,0,0,0,0,0,0,0,0,0,0,1,0,0,0,0,0,0,0,0,0,0,0,0,0,0,0,0,0,0,0,0,0,0,0,0,0,0,0,0,0,0,0,0,0,0,0,0,0,0,0,0,0,0,0,0,0,0,0,0,0,0,0,0,0,0,0,0,0,0,1,0,0,0,1,0,0,1,0,0,1,0,0,0,0,0,0,0,0,0,1,0,0,0,1,0,0,1,0,0,0,0,0,0,0,0,0,0,0,0,0,0,0,0,0,0,0,0,0,0,0,1,0,0,0,0,0,0,0,0,0,0,0,0,0,0,0,0,0,0,0,0,0,0,0,0,0,0,0,0,0,0,1,0,0,0,0,0,0,0,0,0,0,0,0,0,0,0,0,0,0,0,0,0,0,0,0,0,0,0,0,0,0,0,0,0,0,0,0,0,0,0,0,0,0,0,0,0,0,0,0,0,0,0,0,0,0,0,0,0,0,0,0,1,0,0,0,0,0,0,0,0,0,0,0,0,0,0,0,0,0,0,0,0,0,0,1,0,0,0,0,0,0,0,0,0,0,0,0,0,0,1,0,1,0,0,0,0,1,0,0,0,0,0,0,0,0,0,0,0,0,0,0,0,0,0,0,0,0,0,0,0,0,0,0,0,1,0,0,0,0,0,0,0,0,0,0,0,0,0,0,0,0,0,0,0,0,0,0,0,0,0,0,0,0,0,0,0,0,0,0,0,0,0,0,0,0,0,0,0,0,0,0,0,0,0,0,0,0,0,0,0,0,0,0,0,0,0,0,0,0,0,0,0,0,0,0,0,0,0,0,1,0,0,0,0,0,0,0,0,0,0,0,0,0,0,0,0,0,0,0,0,0,0,0,0,0,0,0,0,0,0,0,0,0,0,0,0,0,0,0,0,0,0,0,0,0,0,0,0,0,0,0,0,0,0,0,0,0,0,0,0,0,0,0,0,0,0,0,0,0,0,0,0,0,0,0,0,0,0,0,0,0,0,0,0,0,0,0,0,0,0,0,0,0,1,1,0,0,0,0,0,0,0,0,0,0,0,0,0,0,0,0,0,0,0,0,0,0,0,0,0,0,0,0,0,0,0,0,0,0,0,0,0,0,0,0,0,0,0,0,0,0,0,0,0,0,0,0,0,0,0,0,1,0,0,0,0,0,0,0,0,0,0,0,0,0,1,0,0,0,0,0,0,0,0,0,0,0,1,0,0,0,0,0,0,0,0,0,0,0,0,0,0,0,0,0,0,0,0,0,0,0,0,0,0,0,0,0,0,0,0,0,0,0,0,0,0,0,0,0,0,0,0,0,0,0,0,0,0,0,0,0,0,0,0,0,0,0,0,0,0,0,0,0,0,0,0,0,0,0,0,0,0,0,0,0,0,0,0,0,0,0,0,0,1,0,0,0,0,0,0,0,0,0,0,0,0,0,1,0,0,0,0,0,0,0,0,0,0,0,0,0,0,0,0,0,0,0,0,0,0,0,0,0,0,0,0,0,0,0,0,0,0,0,0,0,0,0,0,0,0,0,0,0,0,0,0,0,0,0,0,0,0,0,0,0,0,0,0,0,0,0,0,0,0,0,0,0,0,0,0,0,0,0,0,0,0,0,0,0,0,0,0,0,0,0,0,0,0,0,0,0,0,0,0,1,0,0,0,0,0,0,0,0,0,0,0,0,0,0,0,0,0,0,0,0,0,0,0,0,0,0,1,0,0,0,0,0,0,0,0,0,0,0,0,0,0,0,0,0,0,0,0,0,0,0,0,0,0,0,0,0,0,0,0,0,0,0,0,0,0,0,1,0,0,0,0,1,0,0,0,0,0,0,0,0,0,0,0,1,0,0,0,0,0,0,0,0,0,0,0,0,0,0,0,0,0,0,0,0,0,0,0,0,0,0,0,0,0,1,0,0,0,0,0,0,0,0,0,0,0,0,0,0,0,0,0,0,0,0,0,0,0,0,0,0,0,0,0,0,0,0,0,0,0,0,0,0,0,0,0,0,0,0,0,0,0,0,0,0,0,0,0,0,0,0,0,0,0,0,0,0,0,0,0,0,0,1,0,1,0,0,0,0,0,0,1,0,0,0,0,0,0,0,0,0,0,0,0,0,0,0,0,0,0,0,0,0,0,0,0,0,0,0,0,0,0,0,0,0,0,0,0,0,0,0,0,0,0,0,1,0,0,0,0,0,0,0,0,0,0,0,0,0,0,0,0,0,0,0,0,0,0,0,0,0,0,0,0,0,0,0,0,0,0,0,0,0,0,0,0,0,0,0,0,0,1,0,0,0,1,0,1,0,0,0,0,0,0,0,0,0,0,0,0,0,0,0,0,0,0,0,0,0,0,0,0,0,0,0,0,0,1,0,0,0,0,0,0,0,0,0,0,0,0,0,0,0,0,0,0,0,0,1,0,0,0,0,0,0,0,0,0,0,0,0,0,0,0,0,0,0,0,0,1,0,0,0,1,0,0,0,0,0,0,0,0,0,0,0,0,0,0,0,0,0,0,0,0,0,0,0,0,1,0,0,0,0,0,0,0,0,0,0,0,0,0,0,0,0,0,0,1,0,0,0,0,0,0,0,0,0],\"x0\":\" \",\"xaxis\":\"x\",\"y\":[31.1,23.9,40.3,28.8,28.8,22.2,25.3,24.8,34.1,18.4,20.1,23.5,14.1,37.3,29.6,28.1,27.7,28.4,32.5,28.2,28.4,20.8,33.5,36.7,26.9,28.1,27.0,28.7,23.5,27.6,18.0,26.4,41.0,33.2,23.3,35.8,20.7,27.7,18.3,29.7,18.9,25.8,25.9,35.6,17.1,32.7,27.5,24.8,29.0,17.6,29.9,27.3,19.8,23.9,27.8,29.2,24.3,33.5,23.0,24.5,30.1,32.9,32.3,21.1,24.6,26.8,17.4,30.0,23.1,34.8,35.7,31.7,35.6,39.1,41.3,31.4,25.1,22.6,16.4,31.3,29.4,31.9,34.9,26.1,35.0,26.2,21.9,22.5,27.3,21.5,38.0,32.6,27.8,26.0,23.6,40.5,15.9,21.9,25.7,16.1,37.0,25.6,24.7,29.6,16.2,30.7,31.9,17.4,18.0,23.4,33.2,20.2,27.3,21.3,40.7,38.7,35.9,25.1,17.4,27.0,28.7,17.6,31.7,24.4,25.6,22.0,20.7,48.2,41.8,26.1,24.0,30.9,23.9,28.7,24.3,25.1,32.3,27.9,27.4,23.9,27.8,28.0,33.1,32.8,20.3,26.0,26.5,37.3,33.0,31.6,15.8,39.5,17.1,28.4,24.0,26.7,39.1,27.9,41.5,24.8,41.8,24.1,28.4,21.6,34.6,32.5,26.3,22.8,22.1,32.9,31.4,24.7,24.6,18.2,26.5,34.7,22.9,23.0,37.8,29.6,30.1,37.0,28.7,19.8,23.8,39.0,24.3,32.8,22.5,32.5,26.7,32.3,20.1,20.5,33.6,31.4,26.5,18.2,18.7,26.4,34.2,21.8,29.2,22.9,31.2,22.8,29.3,25.5,28.2,28.4,35.8,24.6,35.9,29.0,20.3,26.0,24.2,16.9,29.8,25.7,39.0,36.2,33.5,17.7,27.6,23.0,36.6,20.0,22.4,21.9,26.3,19.8,31.0,22.1,27.4,20.0,29.6,32.8,24.2,35.8,32.8,26.4,14.2,27.7,33.4,24.1,26.0,20.4,24.6,41.7,32.5,25.2,40.1,26.4,22.5,30.3,33.8,26.0,26.9,17.2,22.7,25.9,25.3,34.8,31.7,35.8,31.7,32.8,21.2,35.9,41.7,29.8,18.3,19.8,21.6,31.2,17.2,30.3,37.8,27.4,20.0,25.3,35.5,28.2,27.1,28.6,33.1,25.6,21.3,25.0,36.6,28.1,30.5,18.4,30.3,22.2,28.5,26.6,28.7,24.2,21.6,28.8,29.5,23.8,30.5,38.5,25.8,31.1,31.4,29.5,26.7,24.8,26.3,36.6,22.6,34.8,39.8,32.5,32.1,29.4,24.1,25.5,30.7,31.5,29.7,31.9,23.6,31.1,18.3,25.3,30.9,39.6,28.3,23.9,22.7,21.7,35.2,27.1,37.8,26.9,24.9,20.4,28.9,29.3,26.6,28.6,31.6,28.4,29.2,30.9,23.4,28.1,34.8,32.8,36.9,39.8,33.6,21.0,31.5,26.2,22.3,30.0,26.6,20.6,34.2,23.1,22.6,32.4,39.6,30.1,27.1,25.1,30.4,40.0,35.8,38.5,24.8,28.5,28.9,37.1,18.7,38.0,24.5,24.3,37.8,34.4,30.0,28.0,42.2,24.9,33.0,26.9,32.1,28.4,33.6,31.6,38.9,33.5,33.5,18.9,32.7,26.0,31.4,24.2,28.7,29.6,29.9,25.3,28.3,30.9,28.1,27.3,24.1,21.4,31.7,34.7,20.8,27.5,20.8,15.0,36.2,24.5,20.8,22.4,38.7,19.9,25.3,30.5,15.7,20.1,20.5,16.8,30.1,32.2,35.0,24.7,35.4,38.4,24.4,25.3,43.8,27.1,32.8,28.1,22.1,26.0,37.4,32.7,28.0,35.9,25.0,40.2,35.9,35.5,31.9,19.5,28.2,20.2,29.0,43.8,36.4,33.7,24.3,31.2,28.1,32.0,34.4,15.1,23.4,23.5,32.2,45.2,22.1,27.5,30.2,34.1,30.0,22.8,26.4,25.9,29.8,19.4,18.1,25.1,29.0,36.4,36.0,30.0,26.7,26.5,26.7,28.0,28.4,33.9,20.3,23.5,31.3,31.9,28.3,28.5,32.8,29.0,24.7,23.0,18.7,29.0,29.9,35.9,26.4,33.8,36.7,35.8,34.6,24.1,28.9,24.1,43.7,23.6,17.7,23.5,24.5,28.7,20.7,20.8,28.1,22.0,41.9,29.6,21.4,34.1,26.2,25.8,20.6,27.1,16.4,39.7,28.8,23.4,25.8,25.3,34.7,22.1,21.9,29.4,40.8,23.9,18.0,35.5,34.5,39.1,24.7,31.8,32.9,28.9,24.7,41.2,16.8,21.3,16.2,34.3,24.0,48.8,15.1,19.5,30.1,23.0,23.0,26.7,26.9,35.5,28.5,28.4,28.6,27.5,28.3,26.4,31.2,44.4,31.5,44.0,31.4,31.2,28.7,26.3,29.4,26.0,31.5,21.6,26.5,42.2,36.4,24.2,32.6,28.7,25.3,35.2,34.3,26.1,18.6,38.8,31.1,26.2,21.0,37.7,34.1,32.4,25.7,25.5,31.8,28.3,30.0,40.1,23.2,27.7,30.0,32.1,25.3,19.7,25.1,24.2,25.1,15.4,33.7,27.9,27.7,26.8,28.7,29.1,21.1,26.2,23.7,24.9,23.6,28.7,25.2,18.0,33.7,32.3,18.6,32.5,29.1,29.7,19.1,31.6,31.8,17.4,23.9,21.4,21.6,29.5,26.2,28.7,15.5,17.3,15.0,32.8,28.2,29.2,15.2,36.7,23.9,17.0,25.3,23.6,18.6,30.4,26.3,21.5,21.7,29.5,17.7,25.8,35.8,28.5,31.0,23.4,18.2,35.0,26.8,28.6,20.1,33.8,28.6,30.0,31.7,23.0,26.5,21.7,28.5,39.4,32.2,32.5,31.6,50.1,30.7,29.1,26.9,21.8,25.5,31.6,38.1,24.9,29.6,14.6,26.7,33.4,24.7,32.3,24.1,30.7,27.3,25.6,33.3,26.7,28.1,28.0,31.1,16.2,35.8,32.0,43.1,29.5,17.1,25.1,31.9,28.0,35.7,30.9,24.4,35.6,35.8,25.0,30.4,27.0,34.2,37.4,26.9,32.2,20.1,37.9,25.7,20.5,27.7,23.5,20.3,31.1,18.4,19.4,21.6,33.9,36.6,22.4,18.6,27.7,36.3,27.6,34.2,22.9,28.9,19.8,26.4,36.9,33.2,25.7,30.5,25.1,35.7,16.1,28.6,18.6,29.8,36.9,32.4,32.3,23.1,34.8,25.5,46.3,36.9,27.3,28.1,30.4,28.2,42.2,30.4,29.8,30.9,21.4,31.6,29.4,37.4,26.9,18.8,26.7,37.2,28.6,37.9,30.3,24.7,27.6,19.1,23.5,20.3,21.5,23.9,33.5,30.0,41.8,21.6,20.9,34.8,23.4,34.5,30.0,38.6,22.6,30.2,37.0,25.0,47.1,45.5,25.1,23.4,29.6,26.4,31.5,25.1,27.9,32.5,31.2,31.1,38.6,18.0,26.6,29.8,28.9,20.5,20.6,24.2,32.0,28.4,26.1,45.3,22.7,28.7,23.5,27.6,31.4,28.2,30.3,23.8,25.7,39.4,25.4,29.5,22.6,26.4,28.1,37.6,31.7,31.1,28.3,24.7,18.4,31.9,30.1,35.6,21.4,28.6,44.8,21.0,25.5,23.4,27.1,21.2,19.1,28.4,30.7,25.0,37.5,19.7,30.9,33.3,26.3,27.9,27.7,21.5,34.4,23.9,36.1,25.3,22.7,40.0,26.4,22.8,31.8,26.3,28.4,36.2,34.0,26.0,27.3,32.0,24.8,34.0,16.2,16.3,28.1,22.8,23.4,38.1,23.3,24.9,24.9,29.6,27.3,36.6,22.1,20.5,15.3,26.4,20.7,22.2,28.9,30.9,40.1,21.8,33.5,23.9,46.9,30.6,34.2,32.4,36.6,34.1,23.0,32.2,24.9,21.2,25.8,61.8,23.6,18.8,25.8,29.8,24.8,41.2,32.6,33.8,21.4,34.3,40.9,27.8,28.9,21.8,33.1,23.5,27.4,30.5,22.5,22.8,23.9,20.1,25.1,30.2,27.7,27.3,17.1,26.5,29.8,28.9,37.6,23.0,23.5,39.2,22.7,24.2,31.4,26.1,26.2,36.7,25.1,26.9,26.1,30.1,26.1,27.7,54.7,21.1,29.5,29.4,33.4,28.8,25.5,18.1,38.2,37.6,27.3,41.8,38.1,24.1,32.4,18.6,23.2,26.8,25.8,33.7,21.2,37.9,23.6,23.4,34.5,30.6,31.9,28.7,21.3,34.0,26.7,32.5,26.4,57.2,27.5,21.5,25.0,16.9,28.2,29.6,25.6,30.3,32.5,27.3,38.4,18.6,20.4,24.3,26.2,17.6,22.7,28.7,21.8,36.3,31.4,26.8,35.2,27.7,39.7,30.6,29.4,24.3,16.8,29.1,18.3,30.9,27.8,21.5,23.5,27.5,20.0,47.5,36.9,30.3,25.9,24.9,31.2,27.1,26.1,22.5,27.9,41.8,23.8,27.6,43.6,31.9,16.6,21.9,41.8,26.5,28.8,46.9,24.1,33.4,23.4,31.4,34.1,26.9,36.3,28.9,41.6,18.8,30.9,28.1,25.3,26.8,30.8,22.7,20.8,16.1,32.4,18.1,18.5,31.1,27.9,32.0,19.6,26.7,20.0,21.4,30.7,31.6,38.9,19.7,26.8,29.1,35.0,29.5,24.2,28.5,31.6,32.5,34.2,29.0,25.7,33.0,24.0,30.3,23.4,35.8,27.4,31.3,22.4,32.3,27.3,23.4,34.2,41.1,28.2,16.0,40.4,15.8,15.9,28.1,26.2,31.1,27.2,27.0,21.3,27.8,25.7,19.8,25.1,28.4,19.6,32.7,23.1,18.7,28.7,22.9,33.7,25.5,44.0,29.3,37.9,22.8,27.8,53.9,28.3,32.4,16.2,32.8,17.9,30.2,28.4,28.8,40.2,33.1,36.9,37.4,18.6,26.1,36.6,28.4,34.7,32.9,19.8,28.7,23.1,35.1,19.5,18.0,30.4,37.4,22.0,19.7,40.0,32.2,24.2,30.6,16.4,33.2,28.6,29.3,22.7,39.4,24.9,27.5,31.8,28.3,28.9,36.3,29.2,36.1,22.2,21.4,43.3,24.2,28.6,27.0,31.2,29.6,57.1,17.9,31.5,22.4,16.9,50.1,27.0,24.0,35.8,28.3,26.9,42.6,32.8,21.7,24.7,20.0,16.1,41.5,23.9,23.9,25.2,26.4,36.4,25.6,21.0,26.6,36.0,39.4,32.2,29.8,30.3,22.8,32.6,23.6,24.1,20.8,31.5,37.9,36.8,17.0,23.8,36.4,26.5,27.7,22.7,25.9,20.4,21.4,26.2,30.5,33.4,26.1,20.8,23.3,40.5,28.3,29.5,25.9,25.3,21.7,25.0,16.1,34.3,27.5,28.2,37.0,24.5,33.9,41.7,21.0,30.7,28.3,33.1,17.7,28.1,23.3,49.5,35.5,28.7,24.9,53.4,15.5,44.4,29.7,57.7,21.5,17.9,25.5,31.5,32.0,20.7,23.0,18.5,29.7,27.7,28.9,29.4,23.6,25.2,29.4,37.5,37.3,25.3,23.2,24.4,32.4,37.8,22.2,22.7,19.4,30.3,40.9,37.6,23.7,40.8,31.4,26.1,28.0,32.1,19.8,27.5,25.0,27.6,26.5,27.1,32.7,28.3,32.8,39.6,35.9,26.3,30.8,32.6,28.1,35.1,21.5,38.0,24.1,30.0,28.7,30.3,27.1,31.2,23.6,22.2,37.2,20.7,22.1,30.4,26.1,25.6,43.6,20.1,42.3,37.1,35.8,27.3,31.1,31.0,23.8,19.5,20.1,28.7,28.8,28.3,23.4,38.5,43.3,36.3,21.8,22.8,33.0,27.0,33.9,24.0,25.1,29.6,26.8,23.6,33.1,43.8,23.4,37.4,28.8,36.7,38.8,33.1,22.4,26.6,37.4,15.1,16.2,29.2,32.2,16.9,41.9,35.8,24.1,25.5,50.9,31.2,21.5,17.4,21.5,25.6,18.8,37.3,29.1,31.4,24.7,22.1,22.8,21.4,23.4,28.3,24.5,20.5,32.6,31.1,36.4,40.1,29.8,24.6,21.7,29.6,31.0,27.0,20.4,27.5,27.3,40.5,30.9,28.1,31.2,25.0,24.1,32.2,30.9,32.3,23.9,27.1,23.7,29.6,24.0,32.2,29.9,24.0,35.7,24.4,27.6,21.5,27.8,23.5,23.7,34.4,19.5,23.0,32.7,19.8,26.7,20.3,27.3,32.8,22.2,17.7,39.5,33.8,38.6,26.5,40.5,41.7,27.8,24.4,19.2,19.3,22.7,33.0,45.5,23.4,27.0,34.0,20.0,27.6,26.8,27.0,27.0,53.4,29.7,42.2,35.8,26.7,29.7,24.5,36.3,32.8,28.8,23.1,31.5,24.4,33.1,16.4,34.4,24.6,18.2,29.5,38.2,26.2,33.5,24.4,41.3,24.7,32.3,28.3,15.1,20.4,22.2,16.5,30.1,35.0,19.0,26.1,37.7,34.1,22.2,30.5,22.2,17.6,19.6,17.2,31.0,18.6,17.6,20.8,37.4,31.2,14.1,31.3,23.5,32.4,34.4,32.5,28.4,30.0,26.5,27.6,29.1,43.7,18.9,27.6,30.0,17.5,23.4,18.2,25.5,26.1,16.6,24.4,25.1,21.0,18.3,40.8,18.0,25.5,25.5,20.4,23.4,54.3,28.9,18.2,29.8,35.4,36.7,25.1,21.0,25.9,33.8,25.6,23.4,37.2,38.1,22.1,26.2,28.7,26.5,22.3,40.5,29.0,29.9,35.8,38.3,31.8,20.2,25.2,24.3,25.6,25.6,31.5,27.7,34.7,21.5,23.0,30.9,32.5,34.4,17.0,31.2,21.4,28.3,27.6,28.2,17.2,22.4,49.3,38.2,33.5,26.6,25.8,26.5,41.4,26.1,24.7,26.2,29.9,24.1,39.2,31.5,25.4,32.9,41.2,43.9,29.4,29.5,21.5,25.8,27.1,28.9,17.4,29.8,37.9,19.5,20.4,22.1,31.8,38.7,32.8,31.5,34.6,35.8,24.0,24.0,37.8,22.9,22.2,32.6,31.0,35.0,27.4,23.4,26.3,23.1,27.9,33.1,33.6,36.8,22.0,32.7,32.3,28.7,32.8,25.2,26.5,26.6,19.4,38.6,23.1,21.5,34.5,30.1,39.0,27.1,41.5,31.0,23.1,17.4,26.2,28.1,23.5,31.2,19.4,22.6,21.4,27.5,18.8,21.5,33.0,24.2,28.4,28.5,23.3,36.1,24.7,16.2,22.8,24.3,18.6,16.8,16.8,27.2,27.1,15.8,22.1,24.6,21.3,32.7,23.9,22.6,21.5,28.0,26.5,29.3,32.1,20.5,37.0,24.5,30.0,23.3,49.9,35.7,22.9,28.4,29.9,26.5,23.7,21.9,25.3,23.8,24.9,37.4,23.6,29.6,45.2,21.0,27.2,24.8,37.8,30.9,19.2,31.8,34.6,27.5,28.9,23.2,21.0,17.3,33.4,27.1,30.8,25.8,23.5,35.2,40.1,25.0,28.1,22.3,29.2,18.1,25.1,26.5,26.5,32.3,19.7,26.0,29.8,26.3,40.8,35.0,38.0,35.5,19.9,23.9,32.0,32.3,44.7,30.5,30.3,28.4,31.7,22.4,31.1,23.4,34.4,25.4,30.8,31.4,34.4,17.6,43.4,25.6,43.9,26.7,31.3,22.6,19.4,17.9,34.8,27.6,30.9,26.8,44.0,29.4,27.4,27.7,30.1,33.5,23.5,27.4,30.8,23.7,21.9,41.5,19.9,26.7,40.1,33.1,34.4,32.0,23.3,36.1,29.4,27.7,28.9,25.7,26.1,28.4,22.3,27.2,34.5,17.6,14.4,22.4,30.8,28.8,34.9,15.3,31.8,27.0,41.8,30.0,22.7,39.7,19.7,21.8,35.6,18.6,21.2,28.0,29.4,42.3,24.8,29.9,29.6,25.7,30.0,25.6,39.8,28.1,23.0,34.5,54.7,17.0,22.3,30.3,20.7,20.9,43.4,22.7,40.3,20.4,47.5,30.1,23.0,26.5,35.2,32.6,25.7,23.4,25.0,25.3,25.1,45.0,32.3,24.1,17.9,26.9,33.3,32.9,34.6,33.1,16.6,25.6,31.5,25.7,30.0,34.7,20.6,27.6,33.5,25.4,30.3,32.7,24.7,26.5,22.6,26.9,31.1,24.3,31.9,31.9,27.6,27.7,21.3,32.1,23.5,28.2,29.4,32.0,24.4,21.8,38.5,37.6,37.9,22.7,24.5,16.3,10.3,33.5,21.5,26.4,22.5,26.8,22.7,37.5,22.1,24.0,53.8,45.4,26.3,32.6,25.3,21.9,27.0,25.3,41.8,29.3,18.3,23.6,22.5,23.7,24.3,32.3,29.0,27.8,31.5,32.3,28.5,33.2,34.8,25.3,26.1,24.2,25.3,39.1,27.2,29.8,22.7,34.3,26.2,29.0,28.5,25.0,16.4,25.1,27.1,28.5,22.1,19.5,22.4,19.5,22.1,23.0,26.9,27.8,28.1,35.8,29.1,40.4,19.5,36.0,31.2,25.4,25.1,24.3,28.7,26.8,37.2,45.3,25.7,33.1,22.8,21.1,29.3,23.0,30.3,38.0,24.6,26.4,28.9,18.4,34.1,32.7,32.6,51.9,29.5,26.7,21.0,34.3,18.2,33.7,30.3,26.6,22.0,31.4,27.3,32.1,22.3,27.2,34.1,37.5,21.4,26.2,16.4,35.7,22.7,20.4,23.8,29.6,27.7,27.5,27.1,31.0,29.8,51.9,26.4,24.5,34.5,33.3,35.0,30.9,23.4,46.4,34.2,25.3,28.7,17.5,21.4,33.1,23.9,46.9,25.1,20.0,30.1,24.5,32.2,26.9,16.5,34.3,30.4,20.5,32.8,29.7,28.3,21.8,30.9,34.9,29.9,39.6,35.1,15.8,25.2,26.2,25.1,30.0,34.7,32.1,23.4,31.7,26.1,27.5,28.1,24.1,26.3,29.3,26.2,24.9,25.3,28.3,27.6,25.3,34.4,25.3,30.7,27.0,38.6,33.6,29.1,17.1,31.2,32.4,29.7,20.5,27.3,28.3,24.9,32.3,26.2,31.6,38.1,23.8,26.3,33.3,30.1,31.7,39.8,29.0,14.1,34.0,36.4,15.5,38.2,18.6,15.3,42.4,31.3,28.9,26.5,33.3,23.1,24.4,23.2,30.5,27.9,27.2,29.9,29.1,32.4,18.4,22.2,30.9,28.9,44.5,30.9,32.3,33.6,19.9,33.9,34.7,28.8,23.4,26.5,37.8,23.7,16.7,29.1,25.7,23.5,25.1,42.0,30.1,20.1,32.0,16.0,20.5,20.4,33.9,29.3,12.8,33.1,21.6,35.7,16.9,22.6,29.1,30.9,30.5,22.0,35.7,28.5,28.4,29.7,30.1,28.4,26.9,30.7,29.4,25.3,35.3,17.5,16.7,40.1,38.0,24.4,26.3,23.0,20.0,35.3,34.9,26.4,44.7,24.7,20.6,28.9,32.0,26.5,22.4,16.8,20.1,29.3,16.3,28.6,37.8,29.0,36.0,26.0,37.2,29.7,38.1,34.4,28.9,23.6,33.3,24.5,30.9,34.0,27.6,32.8,20.1,34.4,31.8,29.7,23.4,23.9,40.4,33.5,22.0,26.4,29.3,26.8,22.9,26.6,37.0,37.2,27.8,37.4,22.1,27.3,32.2,31.1,28.5,34.6,23.5,34.7,28.9,37.7,23.0,19.1,29.0,24.1,16.7,52.8,36.9,33.1,31.3,45.7,24.2,20.5,32.5,39.4,24.5,22.7,22.7,39.1,20.0,26.0,30.1,17.2,15.5,19.7,28.3,26.4,34.8,23.4,33.9,22.7,31.0,16.4,16.7,34.3,34.8,22.2,27.2,26.7,18.7,20.2,22.1,14.5,43.4,38.0,32.8,27.2,30.9,24.3,28.5,31.1,23.1,27.2,35.7,26.7,28.4,26.6,33.0,29.2,36.7,21.9,22.3,44.5,29.0,23.2,25.9,30.7,34.6,30.3,26.2,17.4,21.9,25.0,29.1,17.6,31.9,20.8,30.6,20.5,36.3,24.6,29.9,30.0,32.7,23.5,15.0,23.5,17.0,31.3,26.4,33.7,31.2,31.0,32.4,16.8,29.5,21.5,29.6,50.2,21.3,25.4,27.5,28.1,32.4,24.4,35.6,26.8,28.4,33.3,39.2,23.8,28.7,31.6,19.4,28.1,18.1,26.6,30.1,25.1,28.5,27.5,31.3,23.1,32.0,42.3,18.7,29.1,24.7,30.6,32.0,52.3,20.1,31.5,33.8,19.5,22.4,32.1,27.0,29.3,33.8,24.5,31.2,19.6,19.7,35.7,37.3,18.1,23.4,29.6,20.3,24.9,36.2,21.8,35.6,26.4,17.7,30.7,30.1,26.9,23.2,24.1,27.1,24.2,29.9,18.8,38.2,28.1,17.7,26.0,19.4,24.1,28.7,17.1,32.0,27.6,37.5,34.4,17.4,21.2,32.3,28.0,26.9,27.7,24.1,24.0,27.4,28.4,24.3,19.5,21.0,28.3,21.4,37.2,21.3,27.6,22.8,30.0,22.7,39.1,26.6,35.0,16.4,28.1,35.3,33.2,41.5,29.1,32.3,22.2,37.8,31.8,24.0,26.0,26.8,27.6,36.6,25.4,32.1,26.7,27.5,22.0,17.2,24.2,30.7,20.3,63.6,31.0,18.6,20.8,35.8,26.3,23.9,23.4,26.9,26.6,30.2,18.5,26.4,19.5,19.2,35.2,31.7,24.8,27.9,20.1,30.8,23.5,29.5,31.1,17.6,24.1,27.6,23.3,26.6,19.6,26.2,32.6,22.5,33.1,21.6,29.1,27.3,27.0,28.3,23.8,33.0,25.0,19.6,25.1,41.1,26.1,28.9,27.2,19.4,32.6,30.5,17.7,38.7,24.3,24.0,25.7,23.3,37.5,32.2,29.7,28.6,29.6,27.5,28.6,30.1,21.8,22.1,20.2,28.7,32.7,29.3,35.6,23.2,29.9,32.7,16.9,20.0,21.1,23.4,18.6,24.4,21.8,24.5,30.2,29.4,26.4,22.3,31.5,27.9,27.0,21.5,23.8,27.1,16.5,23.4,18.0,22.8,36.7,30.8,34.6,35.9,21.0,26.4,26.1,30.6,28.8,25.3,34.7,26.7,38.0,38.6,22.8,26.0,21.7,29.2,24.1,24.9,21.4,35.0,24.5,20.6,18.6,22.1,16.2,21.5,27.4,23.4,31.7,30.0,44.7,18.3,27.4,30.7,26.3,15.6,31.5,37.3,28.9,37.7,31.5,29.8,24.7,28.3,18.6,16.5,20.9,24.7,29.0,19.5,16.3,26.1,21.1,20.8,35.7,36.9,29.5,27.7,33.0,24.2,30.8,39.2,19.8,49.3,28.5,27.9,28.1,29.8,26.5,23.8,27.9,48.1,32.8,23.5,32.3,17.5,38.0,26.5,33.8,41.8,28.9,29.7,25.3,38.6,32.6,24.2,41.1,27.7,20.7,34.7,30.8,34.1,26.2,31.4,17.1,22.7,31.7,38.6,27.4,25.5,24.8,27.7,33.1,23.0,30.7,22.7,17.8,28.5,34.8,28.2,19.0,27.6,14.2,47.5,20.0,24.1,18.6,33.5,27.5,17.7,18.5,35.7,26.0,29.0,36.9,27.9,38.1,29.3,26.9,20.6,23.2,22.8,24.9,18.6,33.1,25.6,16.6,28.0,35.8,44.5,24.5,35.9,19.0,29.5,24.5,24.9,28.7,34.7,35.0,28.7,39.4,31.3,41.4,29.5,41.1,28.9,18.2,34.4,32.0,24.6,32.3,27.2,30.9,25.1,60.9,31.7,20.5,32.7,31.3,23.1,16.1,26.8,43.6,21.4,23.4,15.7,29.6,27.0,28.8,26.2,22.8,23.9,24.1,26.2,26.5,34.2,16.3,18.7,20.5,37.4,29.5,32.7,31.1,23.4,24.7,33.3,32.0,28.9,28.6,21.5,30.2,23.8,18.4,25.0,30.6,47.5,27.2,23.5,21.7,31.5,25.4,15.8,35.9,18.4,24.1,29.0,24.4,43.6,22.0,27.5,24.4,19.8,28.6,24.3,23.4,29.2,26.5,26.1,23.2,37.9,23.9,28.5,29.5,17.7,28.2,31.9,25.4,15.1,25.8,36.4,25.0,31.0,26.8,25.6,20.3,38.0,29.5,27.6,16.8,22.7,19.4,31.4,20.2,32.4,27.7,25.9,34.5,21.8,45.2,25.5,28.5,23.8,29.2,29.6,33.1,19.4,22.4,28.3,39.3,22.1,22.2,19.4,36.8,27.5,28.0,29.4,24.8,29.7,22.3,29.9,41.9,37.1,24.8,28.7,21.1,21.2,20.4,18.1,32.5,27.7,33.7,39.5,30.3,43.2,25.9,32.8,31.5,30.9,32.2,32.8,21.2,48.2,23.3,16.4,30.3,21.9,28.2,22.8,33.8,19.5,31.4,34.0,23.6,24.0,33.3,32.4,19.1,31.1,33.7,37.2,30.9,26.2,27.3,25.5,30.1,42.3,27.5,36.6,27.4,34.2,43.9,15.1,32.0,31.4,22.1,26.0,21.5,29.5,43.8,17.6,23.7,20.2,15.3,36.7,23.8,26.3,23.1,33.0,20.8,24.6,26.0,23.5,18.4,41.6,25.1,22.7,31.4,30.1,22.1,29.6,27.7,26.3,24.0,29.1,28.8,18.6,31.4,31.3,19.4,44.7,32.4,27.7,40.4,27.1,37.7,19.5,30.6,26.4,22.4,22.4,31.8,30.3,25.8,35.0,43.9,34.8,46.0,27.2,33.2,23.8,38.8,21.2,45.3,26.5,31.0,23.5,25.9,34.5,31.2,32.0,32.8,32.0,30.6,27.1,36.3,38.5,46.0,39.8,30.3,27.5,26.3,50.6,28.8,32.6,24.3,22.4,31.0,20.4,37.6,22.1,25.4,26.2,28.1,18.5,24.4,27.7,39.4,28.5,34.3,19.3,27.4,36.7,29.2,24.0,25.4,27.7,24.0,36.6,23.5,17.7,17.2,35.3,36.4,33.0,19.9,29.0,32.1,40.4,28.4,33.8,40.0,23.5,39.4,43.4,22.7,28.0,17.4,21.3,19.1,35.1,32.8,22.8,28.3,28.3,27.7,25.4,22.7,25.4,31.0,42.8,33.6,21.8,25.4,22.0,18.9,28.8,19.9,25.0,23.1,40.4,36.4,26.2,37.0,16.7,27.6,19.7,22.5,20.4,30.3,45.5,31.6,29.3,20.1,19.1,32.2,24.1,31.5,23.9,28.4,50.2,25.9,38.6,26.0,16.1,29.9,29.8,35.9,18.7,23.4,40.9,34.2,28.5,19.4,21.6,31.8,29.6,25.6,33.5,29.5,27.3,17.8,33.9,14.8,34.7,30.6,30.5,18.9,24.0,26.3,29.5,28.6,29.7,30.5,19.7,23.0,23.5,25.5,21.4,29.8,27.0,24.6,18.1,37.5,24.9,23.0,20.9,37.4,32.3,32.3,15.6,30.1,15.8,53.4,20.1,30.0,25.4,21.3,24.5,30.0,28.6,31.8,24.3,30.8,19.5,26.5,18.3,29.9,41.1,35.9,27.4,33.6,35.8,27.3,34.5,28.0,26.4,22.6,25.5,21.0,28.6,16.1,34.4,21.9,31.9,27.7,28.7,22.2,35.3,26.6,27.3,21.4,43.4,29.4,29.2,28.9,29.5,34.5,27.0,24.0,26.7,24.6,28.4,37.3,27.7,33.1,24.8,31.9,30.3,36.4,22.0,30.6,18.4,20.1,23.5,26.7,19.1,33.4,21.5,25.5,26.6,30.9,23.6,24.8,26.8,23.0,30.0,41.5,23.9,26.2,32.5,40.5,41.4,37.7,37.9,21.1,24.2,39.7,32.0,29.2,30.7,15.5,25.4,29.8,27.6,23.0,27.7,34.7,32.2,27.0,24.7,34.7,27.7,21.8,30.8,25.9,33.1,28.6,32.3,23.8,34.2,32.3,33.2,16.6,30.8,22.0,18.9,28.6,26.2,30.4,23.8,23.4,27.6,32.4,25.3,30.1,30.0,41.5,38.3,32.8,32.5,39.4,21.5,19.5,24.4,33.1,17.8,33.9,20.0,24.4,29.0,36.4,42.1,24.8,31.5,23.4,23.5,26.1,29.6,32.5,27.6,26.4,29.4,22.0,50.1,16.7,39.7,30.4,31.3,35.9,21.7,26.5,32.3,21.4,26.2,25.8,25.7,31.0,24.3,31.2,39.3,23.9,25.4,25.1,31.5,16.4,25.3,25.1,25.1,31.7,33.1,23.5,30.8,38.2,52.7,27.1,29.1,16.7,22.4,20.8,33.8,32.6,29.6,26.8,27.9,26.7,23.8,32.7,40.3,29.1,23.4,25.0,29.4,30.5,30.6,29.4,30.0,41.6,22.5,28.4,30.5,29.0,19.5,18.0,28.5,32.7,33.4,18.9,22.4,29.4,24.1,29.9,27.2,25.5,30.6,40.8,22.1,27.0,26.0,31.5,31.1,29.9,26.1,30.8,26.1,25.3,26.7,40.0,27.6,40.4,36.2,26.7,30.5,31.9,37.5,30.0,31.5,29.8,22.3,27.7,28.9,23.2,29.6,25.0,30.5,33.5,41.8,29.0,33.4,23.8,26.7,28.7,31.8,23.5,48.3,34.7,43.9,27.9,27.2,32.9,35.9,31.4,18.6,35.7,27.3,27.2,26.6,28.0,31.6,29.1,25.5,16.5,29.2,28.4,28.8,23.2,28.3,17.1,27.3,34.8,25.5,21.4,33.6,35.8,22.5,28.4,28.6,25.2,42.4,21.4,25.1,21.7,24.9,41.5,27.7,28.5,32.1,33.1,18.4,37.1,32.5,28.2,30.8,37.1,27.3,32.3,31.7,34.4,26.7,28.5,27.4,25.5,32.3,31.9,25.3,19.4,31.6,19.7,21.1,54.8,26.0,24.6,18.8,25.9,28.7,28.6,34.3,26.1,23.0,31.9,22.8,26.9,25.3,31.2,27.1,39.6,17.4,36.3,27.1,31.8,19.7,21.5,32.6,33.0,28.7,22.8,22.3,31.1,26.2,26.8,37.2,29.1,28.4,24.5,32.0,20.1,28.6,31.7,23.4,33.4,24.6,33.5,36.2,26.2,34.7,24.4,17.1,27.5,26.2,17.8,18.3,21.5,25.4,39.4,30.5,34.5,25.8,19.5,19.2,28.8,35.0,26.1,60.9,37.7,21.8,30.1,27.6,33.6,23.0,33.1,31.6,28.6,28.7,24.9,25.5,20.2,26.5,28.1,24.3,25.0,22.2,52.8,20.4,43.0,20.1,22.2,27.1,16.0,37.0,25.5,34.4,24.2,26.3,19.5,20.2,21.8,28.4,19.5,27.7,34.2,21.6,19.1,22.7,54.0,35.8,26.9,19.8,57.9,24.8,26.6,32.7,35.5,20.7,33.1,27.5,21.6,29.7,25.4,28.4,35.8,25.6,33.0,42.2,37.9,22.8,25.4,41.7,24.5,25.3,21.2,24.2,27.3,29.0,21.4,26.5,31.3,17.4,15.0,28.7,27.6,50.3,24.8,36.1,29.8,20.4,34.9,31.2,35.7,17.6,24.5,25.1,29.2,33.7,16.3,32.0,22.3,37.6,22.2,23.5,24.3,22.1,24.7,33.1,17.6,31.7,31.0,24.1,34.7,19.5,32.5,21.4,16.7,31.1,17.2,14.1,23.5,31.1,25.2,23.9,30.6,30.2,23.8,29.3,21.5,30.0,44.0,29.2,35.8,27.0,27.1,35.2,23.8,34.7,27.4,16.3,33.5,34.6,41.2,27.7,31.2,32.7,18.0,28.8,31.1,26.1,27.6,24.0,25.4,37.4,38.0,21.5,34.9,31.4,23.1,33.5,30.2,29.2,28.5,28.8,27.2,25.9,36.7,24.0,35.2,36.9,26.2,27.1,21.0,28.0,27.6,33.1,26.1,22.2,29.8,31.4,31.1,15.1,25.1,27.7,24.8,32.1,38.9,26.9,19.4,33.5,23.5,34.3,25.5,28.9,25.4,22.5,23.4,27.9,30.5,27.8,43.0,20.2,25.4,28.9,35.6,17.0,30.0,24.4,21.4,23.8,33.1,23.2,35.7,36.7,22.1,30.7,46.4,30.3,22.2,17.6,34.6,17.6,21.7,18.6,17.0,20.9,18.0,27.9,28.2,20.3,26.9,45.4,17.0,23.5,53.9,26.1,46.1,22.1,29.9,29.0,22.0,25.8,22.7,29.8,15.7,26.7,21.9,23.7,26.4,37.7,18.0,28.9,29.7,43.1,19.8,19.1,29.2,18.1,21.4,26.9,23.7,25.9,29.4,20.8,29.6,36.6,28.6,26.7,32.0,18.0,26.3,35.2,24.0,32.5,43.6,23.4,26.1,21.0,21.1,31.5,16.8,27.3,31.7,23.7,22.0,27.1,26.5,30.8,20.9,31.1,36.3,28.8,39.2,22.5,27.9,25.7,30.1,37.6,30.5,26.7,29.6,28.5,25.8,23.7,21.5,36.5,31.3,22.2,31.8,38.6,47.9,28.5,32.1,24.1,21.5,41.7,27.7,18.7,16.9,32.9,24.2,22.1,25.8,16.2,23.2,20.6,25.4,34.6,25.3,26.6,26.5,18.3,22.8,49.3,23.8,27.9,27.5,26.0,31.9,25.1,40.8,22.7,27.0,24.1,21.6,18.5,28.1,27.8,32.2,16.9,31.0,28.7,25.1,27.5,27.5,20.7,27.4,26.9,29.8,18.0,18.6,26.4,18.1,28.7,19.5,33.9,22.8,32.8,23.4,25.3,21.2,24.0,21.4,27.0,19.2,26.4,44.8,29.1,19.2,28.4,23.6,21.6,23.1,22.1,46.0,44.8,18.0,18.6,27.3,25.1,22.7,34.2,17.4,25.5,27.3,21.5,19.2,26.6,24.7,28.7,32.0,17.3,28.4,29.4,29.5,20.1,21.4,35.1,43.3,28.1,23.3,40.1,25.6,34.2,20.5,35.4,29.9,27.6,23.8,21.7,28.5,30.2,41.4,26.3,37.8,36.4,43.4,22.7,34.4,30.6,36.7,31.2,30.0,28.4,25.4,40.0,17.1,27.3,38.6,20.1,25.5,35.2,33.1,30.4,17.6,23.1,30.1,35.8,37.9,26.2,18.6,17.0,38.0,38.5,22.0,29.4,24.0,15.1,23.2,25.5,23.0,48.6,25.3,22.0,19.3,29.7,27.6,27.9,35.1,30.7,26.8,25.5,30.1,20.0,31.0,20.0,34.2,23.1,25.8,28.5,17.7,35.7,26.4,26.5,30.3,20.9,31.4,27.9,22.7,26.2,17.6,21.6,26.8,39.8,23.0,30.7,17.3,27.5,30.6,30.4,22.5,20.0,26.4,24.3,29.9,37.1,32.0,37.2,30.5,37.9,20.3,24.6,31.1,24.2,33.4,17.4,32.3,24.7,32.2,23.0,23.4,24.2,32.8,27.3,23.0,27.6,25.1,35.0,26.4,20.4,33.4,27.5,26.7,39.2,29.3,19.2,18.5,27.4,20.5,32.1,24.0,34.1,25.5,29.2,32.4,33.3,27.6,30.1,33.1,20.1,29.1,27.7,23.8,40.0,33.7,27.1,27.0,28.3,28.7,31.2,28.9,29.3,32.7,37.4,18.0,34.7,25.0,35.4,26.8,28.4,21.4,21.4,35.0,33.0,22.9,28.0,24.4,62.6,36.8,35.3,21.5,28.7,17.0,31.5,25.5,23.0,24.8,30.0,21.2,20.5,28.4,32.6,23.2,46.1,32.2,17.7,13.8,29.6,15.5,18.4,30.7,34.1,27.0,35.8,30.4,35.6,33.2,34.8,27.9,17.3,26.8,18.1,27.5,31.4,46.3,31.0,22.4,23.0,21.1,26.1,20.6,29.6,23.5,14.1,24.8,25.4,28.1,25.9,20.4,25.3,28.5,29.3,24.4,28.4,26.4,39.4,23.9,30.1,40.4,28.5,24.5,27.4,33.2,26.3,18.1,31.6,34.2,25.4,22.2,25.0,30.3,32.6,23.0,22.5,25.4,32.2,24.9,26.8,27.2,22.8,30.7,21.8,25.4,34.5,27.5,25.5,23.9,32.5,30.4,33.7,26.8,24.6,26.2,22.1,38.0,41.6,23.4,21.5,31.6,27.1,28.5,20.6,25.6,23.6,23.9,23.2,29.8,39.0,16.5,30.2,25.7,24.1,22.3,21.8,27.3,30.3,27.2,30.9,25.2,35.2,35.7,31.6,25.1,31.1,26.0,27.0,39.3,39.5,32.5,26.4,29.0,32.8,20.3,28.9,20.1,32.6,28.0,32.6,21.8,31.6,21.2,18.3,28.5,30.6,49.8,21.5,40.1,22.1,34.2,38.6,27.2,21.4,23.4,29.6,20.5,25.1,32.0,31.3,31.0,31.9,29.5,27.3,23.2,20.8,26.2,29.6,80.1,24.8,30.8,27.7,26.9,17.6,25.3,29.0,33.6,23.7,27.4,22.1,27.8,24.7,27.9,17.4,23.6,20.3,32.3,20.9,27.9,36.4,25.5,29.2,16.1,34.5,32.3,25.0,43.8,29.5,32.6,22.2,41.7,27.3,21.4,29.9,31.2,27.7,39.6,34.5,44.6,26.4,26.0,27.6,21.3,38.7,28.1,28.4,30.3,25.5,30.9,25.5,37.0,21.7,32.0,42.4,29.1,32.3,33.2,24.9,33.1,22.4,30.9,23.5,23.3,23.4,24.9,27.4,22.2,32.2,23.5,23.0,26.0,41.8,30.0,39.6,18.6,25.7,27.4,22.9,26.9,24.2,28.2,41.4,28.3,22.8,25.4,30.1,28.5,34.5,30.0,26.4,22.0,20.5,26.0,23.1,30.7,38.1,17.2,26.9,33.1,40.3,29.2,16.7,22.2,45.4,34.3,16.6,15.3,29.0,36.0,30.3,20.0,23.2,35.3,31.9,37.1,21.9,25.3,29.0,25.0,21.8,26.0,19.3,36.9,26.0,29.7,45.4,27.3,23.7,25.5,36.3,28.1,20.7,30.8,23.3,36.7,25.4,23.0,30.9,29.0,21.7,44.5,30.1,31.3,32.3,32.1,28.9,34.7,37.3,27.9,29.9,32.6,17.4,16.2,26.0,32.1,26.6,32.3,19.8,14.2,23.4,28.8,35.2,22.8,23.4,24.4,39.2,31.0,25.8,19.5,28.8,28.5,28.7,33.4,23.5,25.5,29.6,33.1,21.7,24.1,20.6,35.8,29.9,23.6,38.1,23.9,27.7,37.8,17.7,22.8,26.4,24.8,36.9,31.5,30.4,37.9,35.7,15.2,23.2,27.1,17.3,27.6,37.3,22.1,20.3,25.1,27.2,20.1,23.8,23.4,28.6,21.1,41.8,20.1,22.0,38.0,47.2,20.6,22.4,22.7,32.4,33.0,22.2,28.7,33.3,27.1,34.6,32.5,24.2,29.1,44.9,28.1,28.1,29.9,27.0,36.6,23.7,27.0,30.7,29.0,26.1,24.7,32.4,27.7,17.6,24.8,32.1,35.8,32.6,17.3,16.0,30.3,25.0,16.3,18.6,31.8,22.0,33.0,25.4,24.5,34.1,31.7,32.7,40.9,26.7,16.1,22.7,20.8,38.0,21.8,29.3,23.5,28.5,29.4,28.7,35.4,28.7,22.3,27.1,32.2,34.4,32.7,32.2,31.3,19.9,34.3,20.1,23.6,24.8,28.0,20.8,33.4,30.3,40.8,24.3,46.6,28.4,28.9,34.6,22.7,26.4,22.0,27.9,29.3,36.5,33.7,18.3,30.1,17.0,18.6,31.3,28.7,16.6,35.8,15.6,36.6,25.0,22.3,32.1,32.3,24.5,28.9,30.9,18.8,25.9,17.4,19.5,19.8,32.3,35.0,31.2,25.1,18.6,26.3,18.5,30.5,25.6,38.0,35.1,30.4,45.5,21.0,29.9,29.4,20.0,37.8,43.7,37.3,25.5,40.0,38.2,21.6,20.9,28.5,29.4,31.5,20.4,21.6,26.5,26.5,25.3,33.7,19.8,29.0,24.6,23.4,24.8,27.9,25.4,33.9,20.5,23.8,30.0,24.4,28.4,35.9,22.1,35.8,29.7,16.5,25.3,28.1,28.0,32.3,32.3,40.3,31.9,32.5,23.6,36.9,29.4,40.1,22.4,21.1,27.1,21.2,23.6,23.1,24.3,34.9,25.0,19.1,31.3,29.9,27.0,28.0,30.7,19.9,43.4,25.3,31.6,35.9,43.0,35.5,27.4,32.7,20.6,28.1,28.9,26.1,29.1,19.2,40.5,21.2,17.6,28.5,20.4,28.8,13.3,32.4,35.2,23.1,21.6,25.1,22.8,37.3,41.8,28.2,24.5,29.3,30.3,46.9,19.5,30.9,26.7,31.3,36.2,24.8,22.1,24.9,28.7,37.8,33.3,35.9,23.3,28.4,28.8,26.1,25.9,43.9,36.6,28.0,20.1,23.4,27.1,30.7,21.0,14.1,20.7,19.5,22.2,24.2,29.5,30.0,26.9,28.1,20.7,27.3,27.5,35.9,42.6,28.9,52.8,32.8,32.3,19.8,29.0,27.3,30.9,19.2,26.9,18.0,47.6,31.3,30.3,28.1,21.1,33.7,25.9,32.3,55.7,23.8,28.4,36.8,29.8,18.6,18.3,30.7,29.5,29.6,15.7,18.7,27.3,22.9,34.5,18.9,21.4,27.5,28.7,19.1,40.2,25.7,30.1,39.2,28.8,31.8,21.5,31.8,19.8,17.6,38.0,34.7,27.6,34.0,29.3,20.4,25.5,24.0,29.1,22.1,22.6,31.1,27.4,22.3,22.5,27.4,29.2,35.8,28.5,29.9,26.7,31.2,30.7,28.5,28.7,22.8,55.6,22.3,33.0,20.9,25.0,23.0,16.8,25.5,34.3,20.2,25.8,43.8,29.8,27.1,30.4,26.7,26.6,29.0,29.6,37.7,36.4,19.5,36.9,28.7,32.6,26.9,16.1,24.7,39.7,24.9,24.6,19.3,28.5,43.7,44.0,23.3,22.0,26.8,24.5,26.5,20.1,28.6,41.5,24.8,27.5,23.5,26.8,31.5,25.1,22.6,24.8,39.0,21.4,28.3,21.9,33.3,22.4,22.4,15.6,32.2,32.2,23.4,27.0,31.9,14.1,27.2,26.5,29.5,27.8,23.0,23.8,30.7,29.0,35.6,25.4,27.3,33.3,23.4,38.1,31.9,33.7,32.3,25.8,17.7,43.8,30.0,32.9,27.4,32.8,24.2,27.6,43.2,32.2,15.2,20.1,21.7,28.7,31.7,33.8,26.0,18.0,39.2,26.0,30.7,21.8,29.8,24.0,39.8,41.1,31.3,32.1,32.1,21.6,37.0,21.7,22.7,19.4,36.9,40.2,26.7,35.4,26.6,30.3,27.1,43.8,21.1,26.8,18.1,25.9,30.1,28.8,28.4,18.2,38.5,24.6,22.7,29.4,29.9,27.6,20.1,31.8,34.0,16.9,31.7,26.5,35.4,35.2,21.6,29.8,31.3,28.7,28.2,28.3,26.1,40.2,39.1,25.6,35.4,33.1,33.1,28.6,20.3,27.4,23.4,26.7,36.7,32.9,33.9,22.9,25.5,20.4,16.0,23.0,26.9,30.3,31.5,35.8,23.4,22.7,26.6,37.3,33.5,27.8,25.1,32.1,27.9,24.5,24.4,25.0,20.2,21.2,30.5,26.4,25.7,30.3,29.8,30.1,27.9,18.9,32.1,26.3,33.2,27.8,22.7,32.8,28.0,32.6,25.0,16.4,18.2,29.0,25.6,24.3,28.3,44.6,21.4,32.4,27.7,18.1,36.1,33.4,27.3,22.9,18.5,23.5,37.7,32.2,16.7,26.8,21.9,24.3,19.7,28.1,19.3,24.0,40.2,28.9,17.0,30.3,20.3,12.8,29.5,27.5,22.3,33.3,23.2,22.9,28.7,29.0,30.1,41.8,26.4,24.2,39.2,22.8,38.6,31.9,25.6,23.5,25.5,20.9,31.1,26.5,26.7,43.0,34.4,26.7,25.9,29.5,34.3,24.5,34.1,29.9,37.6,22.7,28.0,38.6,15.6,14.8,21.5,27.6,28.6,24.2,20.5,18.7,27.1,22.8,27.7,15.2,28.2,33.4,41.5,25.6,29.0,32.2,32.2,29.1,27.2,29.3,25.1,25.6,23.4,28.3,27.8,30.6,22.7,17.6,24.4,24.6,32.2,28.8,39.7,25.5,24.3,30.5,18.7,20.1,27.8,21.7,24.2,36.1,37.1,20.9,27.5,20.8,27.9,38.9,26.9,19.1,26.6,22.8,26.9,32.5,34.3,26.3,26.6,21.3,18.6,19.2,31.6,37.9,31.4,34.0,21.8,26.2,19.8,32.7,28.4,19.3,41.9,27.1,31.5,25.1,22.4,34.7,32.8,21.0,28.2,30.8,24.4,23.4,22.9,26.5,41.1,40.7,35.9,21.5,23.5,35.9,29.0,29.6,18.0,37.1,29.1,28.2,29.3,18.6,43.0,19.1,18.9,21.6,23.9,34.8,27.9,25.1,21.7,15.1,20.4,64.9,41.0,16.6,22.0,30.1,31.1,39.4,45.0,24.3,28.5,33.7,26.9,32.3,36.1,25.3,22.1,17.1,25.1,55.4,25.5,31.0,32.5,30.3,21.1,17.2,19.5,26.8,26.2,19.6,21.3,32.2,34.7,31.8,18.6,23.6,25.4,28.3,40.1,41.8,16.7,24.2,33.0,54.2,16.7,28.9,26.6,24.2,37.8,35.1,23.3,39.6,25.9,29.4,40.1,27.5,65.9,17.8,27.1,42.6,26.6,27.2,17.1,21.1,25.5,22.8,26.7,27.3,25.2,23.4,37.4,25.6,39.4,39.2,31.4,34.9,29.6,26.5,28.7,25.1,27.9,24.0,18.0,30.9,25.5,29.4,24.5,24.5,29.4,20.6,23.4,32.5,22.2,22.6,33.6,23.5,34.4,28.9,28.8,22.0,24.6,49.3,42.4,27.2,29.1,28.9,29.8,32.9,26.5,31.3,17.6,19.3,28.0,24.1,21.5,30.3,28.7,25.9,20.3,21.6,23.1,30.0,28.9,22.4,17.3,24.7,23.3,26.2,22.1,33.0,29.9,34.0,23.4,34.7,26.4,30.0,29.0,38.0,21.8,29.7,30.7,29.1,19.6,16.1,43.4,27.2,42.7,15.1,17.2,28.7,34.2,30.7,26.1,32.6,27.5,25.2,28.1,42.7,25.7,32.4,20.1,22.6,25.5,25.8,21.6,29.0,29.2,19.2,16.3,27.7,21.5,26.9,32.3,25.5,37.5,33.2,18.8,26.6,24.5,34.5,33.3,27.0,24.6,19.5,22.8,30.0,28.5,31.6,21.7,20.4,23.0,23.7,26.5,26.4,16.7,30.6,24.2,30.0,20.2,26.0,29.6,35.5,22.4,20.2,22.9,25.1,34.6,28.4,30.9,31.6,26.4,23.5,29.9,35.7,31.8,28.0,25.8,24.7,33.2,28.4,26.6,32.3,41.2,35.0,31.1,38.7,29.8,26.3,29.1,34.7,32.5,22.9,28.7,27.2,27.3,21.2,24.7,19.5,29.4,22.9,25.5,32.6,28.1,16.4,31.5,22.6,54.7,21.4,34.7,30.9,23.6,27.6,26.3,23.5,22.5,22.6,24.4,36.1,21.2,24.9,23.4,25.7,22.7,29.4,32.8,20.2,33.5,26.3,17.6,24.3,24.3,36.2,24.7,27.1,33.5,23.2,40.1,27.2,21.3,25.5,45.4,24.3,35.6,30.6,24.5,29.6,29.9,30.6,41.7,17.1,25.4,28.4,21.7,42.4,33.1,37.2,27.3,26.8,40.2,31.1,47.8,27.4,30.1,32.0,28.5,41.5,35.7,23.7,43.8,24.1,18.0,20.8,28.8,33.8,19.8,23.5,24.1,23.3,27.5,27.6,33.0,38.1,17.2,31.3,34.6,24.2,36.1,22.4,20.1,28.4,24.1,27.1,27.9,45.3,24.4,34.7,42.7,31.2,32.0,20.8,20.1,26.3,29.8,24.9,33.0,27.4,30.3,28.5,17.8,16.4,20.0,25.1,27.2,26.1,49.3,28.4,24.2,30.1,22.8,46.0,26.3,22.7,31.5,32.7,28.9,28.7,32.4,33.7,17.1,24.6,33.4,29.4,34.8,25.2,17.4,18.2,31.7,22.1,30.4,32.2,42.3,23.8,26.8,25.7,36.9,23.7,20.1,26.7,45.0,24.8,18.7,28.9,27.0,29.2,30.3,16.5,26.9,27.6,27.8,20.6,20.9,24.4,26.4,48.9,31.5,18.9,29.0,27.8,25.9,30.6,24.9,22.1,32.8,20.2,28.5,27.2,30.0,30.4,30.8,25.1,22.1,48.8,32.5,32.1,28.1,35.0,30.9,23.8,34.8,25.5,42.1,23.1,24.8,23.0,32.2,20.8,28.4,23.6,28.9,29.2,26.3,18.5,22.7,28.9,41.3,22.3,44.4,27.9,34.5,33.9,26.1,19.9,25.1,22.7,29.7,22.4,25.9,20.8,17.1,17.5,33.9,35.0,23.3,35.2,30.1,26.4,18.7,35.8,22.2,26.8,23.4,33.3,29.6,15.0,28.7,27.7,28.5,33.1,37.0,26.6,41.0,33.1,31.4,23.4,23.4,28.4,27.7,24.3,22.2,24.8,31.2,27.4,23.6,28.4,25.1,22.2,44.6,22.6,21.2,24.1,30.1,41.9,17.3,24.7,21.6,17.9,31.3,29.4,29.6,30.9,35.7,17.6,28.9,27.1,32.3,24.1,30.5,29.0,37.0,29.1,38.9,33.3,28.2,18.0,30.0,34.1,28.6,34.2,42.2,26.5,27.4,38.5,43.7,22.2,34.5,37.0,22.7,26.7,35.5,39.7,40.4,25.9,24.6,28.8,28.8,38.8,26.9,27.9,32.9,26.1,36.2,35.4,20.4,26.4,26.7,34.7,29.9,24.4,25.0,25.9,28.3,41.1,34.5,35.5,30.5,31.7,16.2,26.5,45.0,21.4,34.7,25.0,22.4,26.9,20.4,26.1,29.3,41.5,28.4,43.5,12.3,30.3,28.5,34.4,26.3,27.8,26.5,26.1,31.9,24.1,29.6,17.4,31.5,32.5,19.9,32.0,30.1,17.6,24.1,16.4,25.5,23.6,29.1,33.7,34.7,19.8,22.3,30.8,29.2,34.4,22.7,30.2,25.1,33.1,33.7,32.0,28.9,28.6,42.8,32.7,26.1,33.7,32.6,26.8,31.8,29.8,38.0,34.7,18.5,33.5,35.8,27.5,55.7,32.1,27.2,35.9,29.6,28.4,21.1,31.2,26.7,28.7,27.3,14.8,25.3,43.5,51.0,29.7,32.5,26.2,34.4,28.2,24.9,26.2,26.7,19.4,25.4,38.7,31.3,36.0,33.9,23.4,21.0,24.4,28.4,31.5,29.4,23.3,30.6,29.1,22.1,23.8,27.2,34.0,22.4,26.6,15.8,21.0,28.3,19.4,27.6,23.7,28.7,29.5,21.8,28.2,31.4,20.4,23.7,21.0,23.8,29.9,18.8,22.4,26.9,26.9,21.3,15.1,32.2,37.3,26.8,30.0,22.8,28.9,29.5,17.4,25.1,18.0,21.8,26.7,22.9,25.1,19.8,23.9,37.0,25.2,55.1,21.5,32.4,21.9,16.4,34.0,31.4,30.4,19.2,28.4,31.8,23.0,43.4,35.1,33.3,49.5,23.4,23.4,27.3,26.5,28.4,21.0,33.3,27.2,28.4,29.9,29.6,27.1,31.9,20.0,18.3,33.1,43.8,20.3,18.3,20.1,42.7,19.3,27.0,30.9,35.7,26.6,32.9,25.9,14.6,21.8,33.0,18.0,37.3,38.7,26.6,21.5,34.0,26.9,19.4,22.7,27.8,18.3,29.8,27.4,31.1,24.4,33.5,22.2,28.3,18.5,29.7,31.3,34.4,40.4,33.5,29.0,37.9,17.1,26.2,22.6,25.4,26.4,27.5,45.2,24.2,24.8,29.0,31.8,31.8,26.7,29.6,42.0,30.3,18.5,24.4,31.5,30.2,25.5,25.0,18.0,28.2,24.9,15.5,18.4,41.5,23.0,23.3,22.9,26.7,26.7,41.8,20.5,26.1,26.9,26.7,23.6,31.5,25.7,20.9,30.3,28.1,27.6,23.7,16.6,14.3,22.7,29.5,38.0,28.6,28.9,23.4,38.0,22.2,24.1,29.4,26.7,15.9,25.6,26.0,32.1,41.7,38.0,31.0,33.4,26.6,46.1,26.7,36.5,17.4,18.5,21.1,31.4,21.5,27.7,21.1,21.4,33.2,26.1,28.8,26.9,30.0,19.2,26.6,35.3,22.1,35.8,26.1,28.3,27.8,30.0,30.9,25.1,29.8,41.2,26.7,23.9,34.5,24.5,23.4,38.0,31.1,25.4,22.4,37.4,19.5,30.3,30.0,26.6,27.5,20.2,26.7,30.0,26.7,33.5,28.0,31.5,28.2,21.6,20.5,24.3,18.8,27.0,24.7,33.1,33.8,27.6,27.3,28.4,35.8,30.5,26.8,31.7,34.5,35.9,24.4,16.4,26.7,31.0,32.1,30.3,24.3,45.0,38.7,18.9,27.2,28.5,29.9,26.2,24.0,25.1,27.0,36.8,25.3,24.3,34.5,18.9,38.9,23.3,23.0,30.9,29.1,32.8,27.1,22.5,32.0,26.1,29.8,29.6,25.1,19.5,23.6,26.1,29.8,28.6,17.6,32.9,23.6,30.0,41.5,24.8,34.2,23.1,24.5,48.9,30.6,26.7,30.0,31.9,19.8,22.4,20.9,31.5,34.9,37.9,27.5,23.6,16.1,30.4,31.1,16.7,23.5,30.9,20.2,28.9,29.6,33.1,22.7,37.5,29.7,40.8,32.0,55.7,27.8,42.3,19.5,23.0,29.2,28.5,22.4,22.4,27.4,42.6,26.4,24.5,31.2,22.4,36.2,31.1,22.7,31.4,24.1,16.4,23.9,41.7,30.3,26.9,22.2,41.5,18.8,40.1,28.0,19.2,26.1,33.9,28.5,20.1,27.7,31.2,30.7,21.8,16.4,28.4,33.0,21.0,24.7,34.6,26.4,35.8,32.2,29.3,25.5,27.9,25.8,20.1,31.3,20.2,27.3,45.5,31.0,30.5,23.2,32.0,17.4,36.9,28.0,29.7,34.8,20.4,29.0,32.2,32.0,37.8,26.6,23.6,35.9,37.2,22.6,28.6,29.0,28.7,28.7,28.8,23.4,40.2,30.0,27.7,21.3,31.8,35.9,24.1,25.1,21.5,31.8,27.1,27.8,26.7,24.1,23.4,31.3,24.0,24.7,32.0,28.6,35.2,28.1,49.3,24.9,34.7,21.9,45.3,22.3,15.5,38.6,38.2,21.6,26.0,29.4,29.7,27.8,16.9,24.4,17.2,29.5,29.3,28.4,29.5,33.5,28.4,42.0,17.1,23.5,22.2,37.9,27.4,28.6,20.7,24.3,31.5,26.1,25.3,29.8,37.9,15.1,32.8,22.8,19.8,23.0,31.3,30.3,21.5,26.1,25.9,25.1,24.7,29.2,24.6,29.9,26.2,34.4,17.0,34.6,30.1,27.5,34.1,30.6,28.6,30.9,34.3,26.1,22.6,25.5,21.9,27.1,17.1,22.7,32.0,39.0,22.0,25.5,23.0,24.9,18.7,20.3,23.6,27.7,45.3,27.2,29.9,30.8,22.0,36.7,28.6,31.5,35.5,37.0,25.4,27.3,22.5,20.7,27.0,26.9,26.3,23.7,52.8,29.3,17.4,23.6,33.5,37.6,29.0,14.4,28.0,40.4,27.6,30.6,33.7,30.2,28.5,34.3,31.9,28.9,20.7,18.1,23.4,45.9,27.7,25.0,25.4,28.4,26.4,32.9,28.6,31.1,34.6,36.3,18.6,22.7,26.2,23.1,20.6,29.1,30.0,27.4,33.2,27.5,35.9,18.5,39.4,24.8,20.6,24.2,17.1,25.7,19.6,27.1,24.5,31.3,24.5,33.4,31.6,31.5,25.8,40.7,28.4,21.2,21.8,28.7,31.4,26.9,23.2,29.8,30.0,27.9,35.3,27.2,34.7,28.3,30.4,31.4,22.6,23.1,32.7,20.8,25.9,33.2,21.1,23.5,32.3,25.5,27.7,24.1,24.3,25.4,26.3,29.6,31.4,28.4,21.1,32.5,22.2,32.8,43.7,31.3,35.9,28.7,25.0,25.5,28.0,30.8,34.3,29.2,24.7,22.2,20.7,17.7,16.2,38.1,26.1,28.6,26.1,28.1,22.8,23.5,28.6,28.9,26.7,20.0,29.5,31.0,39.7,32.6,23.2,31.1,34.2,29.0,18.3,30.5,31.8,27.7,29.7,26.1,32.0,27.5,35.0,29.4,26.7,41.1,27.3,28.1,24.7,28.2,30.5,28.4,20.2,26.4,34.4,25.3,19.8,33.5,27.3,26.6,36.6,23.2,34.7,23.5,25.2,26.1,36.6,24.4,23.0,24.4,29.6,46.1,27.1,22.4,25.0,19.3,17.5,34.9,28.3,28.9,27.2,27.3,21.5,16.7,21.6,20.8,28.4,26.4,28.6,26.0,27.6,31.1,19.2,31.0,38.2,37.5,23.6,27.5,28.2,28.5,28.7,20.1,33.3,24.2,44.0,35.1,34.4,25.2,39.8,29.6,29.9,35.6,26.6,24.5,28.6,33.1,23.4,47.3,24.4,31.1,21.8,18.8,36.2,31.8,33.1,33.1,34.4,38.0,34.4,37.5,27.5,29.0,31.6,23.9,23.6,57.3,28.4,24.0,34.0,27.0,29.8,49.8,18.7,17.1,27.0,19.4,35.0,25.4,18.0,26.3,33.9,27.6,23.8,26.0,31.1,29.8,34.0,21.6,17.0,30.3,21.5,29.4,26.2,32.7,28.4,44.7,29.9,41.7,22.2,38.7,22.7,34.7,28.5,44.9,28.8,21.5,28.2,16.3,35.3,24.8,20.1,24.4,29.2,23.8,35.3,26.9,23.3,35.9,33.0,21.7,28.0,20.1,36.7,30.8,23.4,23.7,32.8,20.4,33.1,30.5,26.2,42.7,37.4,31.5,27.3,32.0,35.9,29.5,24.3,26.7,20.7,28.8,28.7,23.4,24.8,32.5,22.6,37.0,28.6,23.4,15.9,31.5,13.5,29.7,27.1,18.0,31.5,24.8,33.7,32.8,33.1,27.7,24.2,22.1,28.3,25.2,32.2,39.4,24.1,45.2,32.0,32.8,21.5,18.9,32.4,16.2,19.1,21.3,29.2,23.6,20.3,28.9,28.0,24.5,27.0,23.8,40.1,40.1,20.6,43.6,22.2,17.1,39.1,30.8,29.0,23.1,35.2,27.0,32.7,30.4,27.5,41.6,31.7,45.0,23.3,54.7,25.9,27.6,32.8,30.5,23.9,32.8,28.6,25.3,35.9,23.6,31.4,22.3,23.0,24.8,24.7,28.9,43.6,39.4,23.9,32.5,16.4,21.8,27.2,33.4,21.3,29.2,23.0,60.9,43.7,35.7,29.3,26.4,29.4,30.1,29.8,33.0,27.5,16.4,44.5,23.4,35.3,40.9,36.6,15.6,18.4,29.8,24.7,18.8,25.9,20.1,32.7,27.1,27.5,14.0,17.8,24.9,30.6,42.6,44.6,28.7,23.4,27.7,23.4,28.7,23.5,24.8,35.0,26.6,36.7,26.6,26.9,33.1,36.2,29.4,24.4,33.1,22.6,31.2,22.7,32.4,33.9,18.7,20.5,31.0,24.8,17.3,28.0,21.1,33.8,17.7,28.7,29.2,28.2,30.7,34.1,19.3,37.8,39.2,29.6,36.4,27.6,21.0,26.2,19.4,35.3,21.5,22.6,23.4,40.8,40.4,26.4,17.7,35.7,17.7,21.2,26.4,26.3,26.2,19.1,31.0,22.8,28.0,41.9,27.7,27.3,26.0,30.8,25.1,35.6,17.4,20.7,28.3,18.9,25.2,20.6,32.0,22.3,28.6,29.0,34.7,24.5,33.2,27.7,36.1,24.6,17.3,30.0,30.8,30.4,28.5,22.5,30.8,29.8,15.2,43.7,30.8,42.3,22.8,27.2,43.3,33.4,23.7,34.0,20.1,40.1,33.5,21.5,28.4,25.8,28.7,36.6,28.4,24.9,35.8,20.8,28.3,26.1,48.9,21.8,26.4,34.0,21.3,29.3,31.3,26.6,29.0,26.1,25.2,27.6,44.8,23.0,22.0,27.9,27.2,23.1,34.4,20.2,15.5,27.6,28.1,33.4,27.1,20.4,21.0,41.8,25.0,23.5,36.2,23.4,32.2,27.7,29.0,22.1,16.8,28.3,25.9,17.7,22.0,20.1,25.5,41.5,29.2,36.0,32.4,27.1,39.7,48.4,27.2,31.1,21.6,23.3,26.1,22.4,29.8,35.7,23.5,23.5,27.7,35.9,32.5,31.8,17.0,26.7,32.1,25.2,34.8,34.2,26.4,25.8,32.9,26.7,24.4,26.9,28.2,27.5,39.0,31.9,26.0,26.0,28.5,30.7,28.3,25.5,27.9,26.7,34.8,32.1,33.2,33.7,26.0,30.0,35.8,23.3,24.1,22.8,28.7,25.9,30.5,33.0,25.1,35.9,28.4,28.1,31.0,45.0,26.9,27.9,29.0,39.2,15.5,22.6,32.0,32.9,18.7,23.5,25.0,18.0,28.1,30.8,28.9,33.8,19.4,30.7,25.1,21.9,33.3,30.2,16.6,20.1,27.6,28.2,25.4,32.2,20.4,25.7,41.1,25.8,34.3,38.8,32.7,18.8,24.4,30.0,27.9,55.1,38.7,23.6,27.5,33.1,31.4,38.6,37.8,23.9,22.7,21.5,26.7,18.6,45.4,20.9,30.8,38.2,29.7,23.1,29.1,25.7,26.7,27.7,27.2,27.9,38.7,20.2,21.8,47.0,33.7,27.7,22.8,29.3,21.4,22.3,21.4,28.9,35.1,28.7,33.9,33.7,19.6,18.1,42.1,30.5,26.4,31.4,23.4,28.8,26.9,33.1,39.4,32.6,39.1,17.9,25.0,26.7,32.9,23.4,32.8,43.0,20.6,30.4,21.5,28.5,30.6,27.9,25.6,35.2,31.6,40.0,27.0,30.1,24.3,19.8,26.7,30.8,19.5,34.2,34.3,25.2,28.7,35.7,18.0,35.9,28.7,24.9,39.8,29.2,28.9,23.6,24.8,19.4,28.7,26.6,14.3,35.4,26.4,29.3,16.7,34.3,35.9,24.2,24.7,22.7,35.8,22.0,25.8,23.4,18.5,55.2,26.2,28.5,22.3,38.9,35.6,27.6,22.6,28.6,34.0,36.4,26.6,25.3,29.7,24.8,29.9,46.1,21.2,34.4,37.1,29.1,23.1,24.3,25.5,29.6,18.6,16.6,30.3,42.8,22.5,23.5,26.3,20.8,28.6,19.1,33.4,28.3,34.0,28.3,25.1,27.7,37.7,27.3,25.2,24.4,27.1,28.1,26.2,24.5,17.6,19.8,39.6,43.8,24.3,25.9,20.5,25.0,22.7,31.4,39.9,32.9,19.8,32.4,41.2,35.0,15.5,30.1,28.5,41.7,28.1,31.9,30.5,29.0,26.2,21.0,26.5,30.4,28.6,25.1,30.1,17.5,44.6,28.0,23.0,27.0,23.6,30.3,28.9,29.4,21.9,31.2,28.4,37.4,21.7,18.3,16.7,23.9,28.4,20.0,22.7,34.3,24.7,23.3,28.7,34.2,40.4,28.7,29.9,28.3,26.3,36.9,31.8,29.3,31.6,27.0,22.9,25.7,13.8,22.2,34.4,27.6,26.1,36.3,36.0,31.8,21.5,30.6,26.1,31.9,30.3,29.4,28.0,18.5,33.3,30.4,27.6,18.6,33.2,24.8,40.2,27.2,34.2,41.2,17.7,39.2,29.5,30.8,26.3,20.5,18.5,26.4,28.7,25.2,30.9,50.4,31.3,18.4,27.8,16.7,28.7,41.0,28.8,33.9,28.6,32.8,28.9,31.4,32.1,26.7,35.5,26.9,24.1,30.8,20.4,31.2,24.1,24.1,41.7,33.1,22.1,35.3,30.1,20.1,30.6,27.1,37.2,28.0,29.9,43.9,33.3,28.5,20.1,27.8,26.7,18.9,28.4,20.8,24.5,21.8,29.0,21.5,29.9,22.2,32.6,36.4,17.1,28.7,26.8,16.3,24.4,26.7,33.4,28.5,26.2,19.1,38.8,23.4,28.2,29.4,29.7,27.9,21.1,26.7,30.0,40.9,23.9,18.1,24.1,27.7,28.6,29.6,30.1,23.7,28.4,21.5,26.5,54.6,35.5,26.4,22.7,17.9,26.8,16.7,21.7,39.8,28.6,26.1,20.9,21.3,33.7,31.9,32.3,24.1,26.4,54.3,24.9,34.9,18.7,23.9,23.9,20.5,26.1,21.3,29.7,34.1,29.2,24.6,35.2,20.8,30.3,30.1,20.7,23.5,34.3,25.2,24.7,24.8,27.1,22.7,31.0,24.3,34.5,28.3,26.3,23.4,23.4,41.2,32.9,19.2,27.5,24.4,44.8,27.5,19.3,24.2,16.7,26.1,25.4,28.9,28.6,22.0,32.3,28.4,38.0,33.3,26.3,32.0,20.5,29.4,28.2,29.6,35.4,27.9,26.7,36.0,32.1,30.8,29.5,27.2,20.9,18.2,36.0,33.8,24.5,46.2,17.7,26.4,18.1,20.9,27.6,41.3,17.9,23.6,30.1,24.6,50.2,25.4,23.0,27.5,28.2,25.8,19.0,34.5,24.6,15.5,32.1,23.0,26.3,27.1,26.1,32.6,28.1,25.8,45.1,20.5,18.7,36.0,21.0,27.2,29.6,36.5,29.1,30.6,23.8,30.8,25.6,21.4,30.4,17.0,32.1,25.5,22.2,37.1,29.7,24.9,35.2,27.0,26.6,22.1,27.3,41.1,35.7,24.4,26.0,18.6,23.6,15.1,27.0,25.8,29.4,17.7,26.4,18.4,34.3,27.6,27.7,23.8,27.6,23.2,16.8,29.0,26.3,30.1,31.3,34.1,23.8,20.7,33.2,29.3,27.8,33.8,29.4,37.0,31.8,20.6,18.0,43.8,24.9,23.8,27.3,21.5,33.1,26.7,26.2,28.4,31.0,29.2,25.8,28.2,31.8,23.7,24.2,16.9,20.6,26.9,24.3,23.1,24.3,32.1,21.9,22.1,16.8,25.2,32.9,35.3,25.3,27.7,17.6,38.0,18.8,29.8,34.0,21.4,27.1,18.8,28.7,29.7,18.8,28.2,23.9,30.8,24.6,23.9,22.4,43.2,40.4,18.0,32.0,28.4,35.6,35.2,23.2,34.5,20.0,22.1,30.9,32.3,34.4,35.5,29.8,29.1,34.6,30.9,27.0,29.6,29.3,15.8,19.5,27.9,33.1,16.5,27.4,34.0,22.8,34.6,31.1,21.3,18.2,35.9,41.1,17.2,18.4,24.1,32.9,24.7,16.8,17.3,18.6,35.6,34.2,26.5,28.3,19.2,29.8,26.4,35.7,26.1,17.4,27.7,23.1,32.7,33.6,32.4,41.8,25.9,29.0,38.8,10.3,21.1,24.0,23.3,24.1,53.4,32.3,34.6,26.4,28.1,30.1,31.4,29.9,17.3,30.9,33.4,28.7,39.3,43.3,24.5,25.9,26.6,28.1,30.5,27.9,16.5,28.0,15.8,27.9,21.7,28.5,22.2,46.1,25.9,25.8,27.2,16.3,33.4,21.4,24.5,16.4,31.9,41.1,21.8,43.0,15.5,22.9,30.8,28.8,28.9,17.0,16.1,32.4,30.8,26.2,17.6,30.1,31.5,32.2,29.8,18.4,29.0,27.9,28.4,29.5,29.2,28.8,26.8,19.6,23.8,18.3,26.3,26.0,40.0,54.3,16.3,24.0,20.1,26.0,34.6,19.5,31.0,31.0,34.1,30.9,19.4,41.9,23.9,25.0,24.5,32.3,41.2,27.3,26.5,20.8,20.6,38.7,36.9,23.6,39.6,26.1,54.7,23.6,34.7,25.1,23.6,16.9,37.8,25.9,22.2,34.7,25.5,34.7,23.7,27.0,26.1,19.4,33.1,37.6,17.9,24.2,24.0,31.3,20.0,32.7,22.8,29.9,33.4,26.0,43.4,21.5,20.8,31.8,28.7,16.9,26.2,39.6,15.4,30.4,25.0,29.4,49.9,25.3,31.4,38.0,22.4,39.5,32.3,26.1,42.1,30.0,24.8,24.0,21.2,26.9,24.3,26.3,29.9,34.7,29.5,27.7,22.1,33.0,33.0,24.8,25.4,23.6,17.5,16.9,20.4,26.0,23.5,27.1,31.7,15.8,36.0,31.5,29.3,29.9,28.5,34.4,36.9,25.9,33.8,16.3,26.1,40.9,39.7,36.6,32.8,37.7,31.8,22.4,41.8,27.9,23.5,32.3,25.9,21.5,37.3,28.7,29.1,29.2,36.9,17.7,40.0,36.1,24.4,35.0,27.3,19.8,21.9,28.8,33.5,29.4,23.4,24.0,22.3,18.0,20.1,27.1,29.6,33.2,33.9,18.5,30.6,41.6,30.7,18.3,24.9,35.7,15.1,26.3,32.4,30.4,26.9,38.7,31.3,23.5,25.0,26.7,33.8,23.4,34.2,29.8,39.6,24.8,20.6,27.8,32.2,33.7,26.1,28.1,26.4,55.0,28.5,19.8,29.9,25.6,27.0,32.1,35.2,25.5,25.9,19.7,24.9,29.0,28.3,20.0,36.7,21.8,22.1,34.5,42.8,31.4,32.7,26.5,28.3,24.8,16.3,30.1,32.6,22.9,24.8,18.7,27.2,29.4,21.3,28.9,21.9,29.3,32.5,28.9,32.2,21.3,26.6,45.0,28.7,21.4,28.9,32.6,23.4,22.2,25.2,31.4,39.5,27.3,32.8,21.9,27.9,33.1,21.7,34.7,19.4,28.6,24.1,26.9,30.7,46.5,23.0,32.1,32.2,27.4,33.6,27.9,48.8,39.5,29.4,21.5,34.8,36.7,23.2,17.1,34.1,24.3,26.9,38.6,17.8,34.6,20.1,24.5,20.4,26.9,29.1,25.4,34.8,32.3,25.5,29.7,24.4,32.2,32.6,28.0,29.0,23.7,29.7,23.4,27.0,26.0,24.7,27.5,25.5,33.0,25.6,40.8,20.8,20.7,26.1,36.7,32.8,29.1,23.6,25.5,34.2,30.1,24.2,22.0,34.1,21.2,39.7,18.0,17.6,30.1,20.5,33.4,29.4,23.4,27.3,31.0,23.3,29.1,29.6,38.5,26.4,33.0,19.5,28.0,23.0,23.9,27.2,25.5,29.2,18.1,28.4,18.6,23.2,29.2,26.5,24.8,28.3,28.8,26.1,21.7,27.3,16.1,28.5,27.0,44.3,39.0,39.3,16.2,24.2,31.2,17.6,29.5,25.0,17.6,23.0,28.7,29.7,20.0,28.6,24.8,30.2,24.9,27.6,18.6,26.0,27.7,30.9,25.0,32.4,30.0,20.1,37.7,26.1,19.9,30.1,23.4,39.7,23.5,38.6,24.9,35.8,28.4,28.7,28.7,33.5,27.6,21.9,31.3,30.1,17.3,24.7,25.8,25.2,29.5,23.8,27.7,38.1,23.0,24.2,23.7,36.0,29.4,28.6,27.6,26.1,39.4,29.1,23.5,30.6,24.1,27.6,20.6,32.2,36.0,25.6,20.1,35.4,28.8,20.4,30.9,26.9,25.1,31.4,28.4,25.7,32.7,24.1,29.9,19.8,21.6,25.9,32.4,30.0,27.3,35.5,32.0,33.4,26.5,25.4,20.0,28.9,36.5,34.7,20.1,29.1,23.7,16.0,33.1,38.5,18.0,22.7,22.7,32.0,25.8,19.8,26.0,25.4,24.8,24.0,28.1,30.3,26.0,26.0,36.1,27.5,28.3,18.8,31.4,20.8,29.0,22.0,24.3,34.1,26.5,26.5,21.1,44.5,27.5,24.1,26.6,30.0,24.2,26.2,19.4,17.4,24.9,14.8,29.2,20.3,36.7,27.9,27.4,22.6,24.9,13.7,16.8,42.2,32.5,24.4,15.1,21.4,37.1,33.3,29.3,38.6,36.2,43.4,20.1,26.8,21.5,23.4,34.5,26.1,28.1,25.2,23.8,23.5,22.8,21.3,31.1,25.9,15.5,25.7,33.7,31.9,41.2,27.5,27.6,20.0,29.2,34.2,28.4,27.5,25.0,35.8,29.3,24.1,25.1,28.7,27.5,26.4,34.8,24.0,18.2,34.2,41.0,30.1,16.2,29.9,26.1,26.1,25.3,20.6,20.3,28.1,19.9,26.2,23.4,23.4,19.3,27.5,27.7,29.1,43.7,38.7,30.9,29.4,30.8,18.3,21.4,28.7,25.9,25.6,26.5,40.1,29.3,21.6,32.7,38.5,27.9,28.8,30.5,20.7,32.0,40.5,35.8,22.8,26.9,18.1,34.2,26.1,32.2,29.0,24.3,20.9,26.7,23.3,22.2,27.6,35.4,27.7,24.7,29.5,32.6,29.3,22.2,22.8,29.3,25.3,20.1,22.2,38.8,16.3,32.6,45.3,13.4,27.4,30.3,32.7,28.4,28.7,33.5,34.6,32.6,23.9,25.4,22.6,30.5,33.5,44.7,22.8,27.0,30.0,38.6,25.5,27.7,30.7,16.1,28.6,28.4,20.5,29.1,23.9,19.1,25.3,29.0,36.3,17.7,14.3,32.7,25.0,28.4,15.5,36.8,26.8,24.7,21.5,19.1,24.8,42.1,25.3,31.8,36.0,29.6,25.8,24.0,13.1,25.4,24.9,32.1,26.4,20.1,29.4,21.8,35.8,29.9,28.7,23.5,22.9,26.3,30.0,33.2,27.2,27.5,31.8,30.9,25.0,28.8,23.5,22.0,19.3,18.7,22.2,21.5,18.1,26.5,35.3,23.3,34.5,26.5,26.9,32.4,27.7,29.7,36.4,17.1,33.4,40.9,25.2,32.8,34.1,28.4,31.3,27.4,28.2,22.1,28.1,19.5,30.3,21.0,32.0,43.4,19.8,37.4,31.1,24.9,22.1,29.8,32.0,30.1,16.1,17.3,32.4,24.5,29.1,23.3,22.4,30.4,31.0,26.6,26.9,29.4,18.0,30.9,26.4,16.8,23.0,28.3,34.1,33.6,33.2,16.5,28.7,28.7,33.4,24.9,23.1,27.7,30.7,31.1,25.5,26.0,31.4,21.4,33.8,36.7,26.9,29.2,23.4,38.1,37.0,29.0,30.8,25.0,33.9,28.7,32.7,27.1,32.7,26.5,26.2,29.6,17.0,37.5,24.8,20.6,37.0,27.7,40.2,36.2,27.7,23.4,26.9,29.6,19.2,23.0,20.5,15.5,26.4,32.3,40.9,18.3,28.7,23.0,30.2,29.8,39.6,32.6,30.3,20.8,28.4,23.3,29.1,23.8,34.8,27.2,22.1,30.5,20.4,32.5,30.3,23.4,27.3,22.6,23.6,27.8,26.4,24.3,30.1,29.2,24.8,25.3,18.0,39.7,24.5,23.9,16.1,27.0,31.8,35.6,34.1,24.2,25.5,35.8,23.9,48.8,27.4,19.1,31.3,37.4,21.9,26.9,23.0,24.9,33.2,44.5,41.7,16.7,39.2,25.7,24.5,35.5,34.0,29.9,20.2,23.8,33.5,19.3,32.0,30.9,29.1,26.7,20.1,22.8,23.2,22.3,33.4,19.8,22.7,25.1,24.2,23.9,34.6,32.4,33.7,26.9,20.5,53.4,24.8,23.9,20.7,27.4,30.1,29.2,29.4,34.5,28.7,27.0,35.0,30.6,24.6,41.8,28.4,24.7,23.9,27.6,28.6,38.1,44.8,34.6,17.0,23.4,29.5,26.3,24.6,25.1,30.7,21.1,23.2,29.9,38.1,23.2,31.5,26.6,19.3,29.0,19.9,14.4,31.3,34.0,26.1,37.0,27.9,31.7,34.7,36.9,36.7,28.4,30.4,22.4,25.1,28.5,22.8,29.7,28.0,30.1,32.3,17.4,34.8,28.1,34.5,27.4,21.4,16.9,28.8,23.2,20.1,27.0,26.8,25.9,23.8,55.7,30.9,26.8,31.5,14.3,27.6,38.9,32.1,23.0,27.6,35.3,35.7,25.8,18.4,29.9,31.9,26.6,20.8,27.0,29.3,23.9,24.4,24.6,21.1,19.2,25.2,16.7,41.1,31.9,18.8,32.0,28.2,26.6,34.4,26.1,39.8,24.8,21.2,24.6,28.5,29.9,23.8,26.7,25.4,26.7,18.3,16.2,24.5,32.6,48.9,34.1,25.9,29.5,33.0,24.4,28.5,21.5,27.4,29.8,17.2,31.6,35.8,20.1,38.1,23.6,24.7,16.4,22.3,30.9,28.2,18.5,24.0,32.7,26.3,28.3,27.2,31.9,16.7,19.1,30.1,30.1,28.4,26.5,24.6,20.1,28.0,24.1,29.4,18.0,17.9,27.7,32.0,30.3,27.9,33.8,17.6,19.9,30.2,28.9,34.5,35.6,40.2,35.2,27.8,40.4,42.4,30.3,28.3,30.3,35.7,32.6,39.8,28.4,34.0,20.5,25.5,30.3,23.0,32.2,22.7,32.1,38.9,34.1,45.5,23.6,21.8,28.7,26.0,33.3,23.4,32.0,24.2,28.6,28.4,27.1,25.8,29.5,35.8,32.4,32.7,23.0,29.6,23.6,25.5,20.8,23.4,25.8,44.7,20.1,19.7,17.4,22.8,31.4,26.7,41.9,25.4,32.2,23.3,37.3,30.8,22.3,17.7,34.8,23.6,29.4,33.2,33.8,23.8,24.8,27.6,37.6,41.3,24.4,34.5,45.0,32.1,24.3,31.1,31.1,32.8,23.1,32.5,33.1,33.1,22.7,29.8,31.4,16.4,26.4,25.4,36.6,26.1,43.3,31.3,31.3,27.7,38.2,23.4,19.5,31.3,32.1,27.7,30.5,24.4,30.0,26.0,29.4,28.9,22.7,28.6,29.1,44.2,26.4,23.8,43.7,20.1,28.1,40.8,21.2,23.7,28.9,28.1,24.5,27.0,38.6,28.2,31.3,27.6,17.7,16.5,27.0,16.3,20.22,22.2,29.5,27.4,31.7,26.7,27.3,21.8,32.5,30.3,26.8,25.8,16.4,19.9,38.7,25.0,25.3,25.0,32.1,32.8,20.4,26.9,38.1,23.1,23.5,34.5,34.0,22.7,28.8,35.8,21.6,35.1,21.8,21.9,23.9,36.0,32.8,22.2,44.8,32.4,27.7,23.8,24.8,37.0,30.0,25.7,23.8,29.1,38.7,26.4,28.8,26.1,17.6,25.8,27.4,20.8,25.3,28.6,39.4,26.4,22.6,30.3,35.6,21.0,32.4,25.8,22.0,40.8,19.5,31.3,24.6,32.2,20.7,30.0,34.7,28.9,26.1,29.6,23.7,18.7,28.9,25.1,28.0,29.6,28.3,26.7,21.3,34.4,40.2,34.0,28.7,21.6,21.3,22.9,34.7,14.1,18.5,33.2,25.2,25.2,18.1,27.0,25.5,30.5,28.9,29.3,27.9,25.0,26.2,29.4,18.7,27.7,23.9,29.1,29.6,23.8,30.4,19.8,20.3,30.8,16.1,20.4,36.9,33.2,25.4,27.6,27.6,32.2,27.5,21.5,24.5,25.4,27.5,15.3,22.1,33.5,28.4,38.5,29.5,24.4,28.9,21.7,21.2,18.0,26.3,44.7,37.4,18.3,32.5,24.8,26.0,30.3,26.0,30.5,20.0,36.9,39.5,22.6,26.3,23.4,27.4,43.1,39.1,28.4,25.9,30.1,26.5,25.4,23.4,22.7,25.0,23.6,28.5,17.6,23.2,22.7,26.1,31.5,24.5,22.8,26.9,31.8,30.9,24.4,29.7,27.5,36.3,27.2,21.5,29.4,29.7,24.2,42.2,19.7,19.1,30.0,35.2,32.8,32.1,19.4,29.8,27.3,28.0,20.0,33.1,26.5,31.8,28.0,28.4,31.2,33.1,27.2,38.5,28.5,28.3,48.9,26.3,30.2,22.4,28.0,29.2,22.2,29.0,36.0,22.8,30.1,19.2,26.1,30.1,36.7,32.0,24.2,37.4,26.6,16.1,26.8,41.0,28.4,26.6,20.4,27.8,25.6,20.8,32.9,30.9,25.0,24.4,22.8,28.7,20.2,35.7,24.7,32.6,28.8,24.1,33.0,31.0,32.3,27.7,21.8,21.0,24.8,32.3,25.9,31.5,33.5,34.4,20.0,29.1,24.8,27.4,25.5,33.3,22.0,41.2,34.2,24.0,21.5,30.9,44.2,25.8,43.7,27.5,26.0,24.6,37.5,26.2,26.6,22.0,29.0,16.3,20.9,33.1,26.0,34.3,34.2,30.1,33.0,31.1,31.7,27.6,33.4,20.7,38.6,28.2,42.9,34.7,30.9,27.9,51.9,32.3,25.1,29.8,25.5,43.6,14.1,32.8,31.0,30.3,25.9,23.5,34.9,24.1,26.4,25.5,42.8,27.9,32.5,46.3,33.2,32.0,17.6,22.8,29.6,21.6,24.8,18.0,22.2,38.9,16.1,41.8,25.3,29.8,20.3,25.9,26.0,29.9,33.9,32.0,22.4,35.3,30.5,25.5,20.0,27.0,34.4,22.7,25.1,25.4,26.1,38.8,26.5,26.7,35.5,34.7,26.7,31.2,27.5,31.5,18.1,20.9,28.1,34.8,23.5,27.9,17.2,42.4,40.4,27.5,25.8,34.0,23.2,21.9,34.9,15.1,35.2,24.5,27.9,26.1,38.1,10.3,32.1,20.0,28.1,39.4,21.2,31.9,37.7,29.7,28.9,34.7,30.3,39.7,45.0,17.3,30.7,22.4,28.5,29.4,28.4,42.3,26.6,35.5,29.1,36.6,34.5,41.5,15.6,29.2,21.4,22.7,20.8,25.6,45.9,43.2,24.6,32.3,18.6,28.2,30.7,24.2,38.0,40.4,35.8,32.3,25.0,26.4,22.8,34.8,23.5,28.2,38.5,24.8,26.4,31.6,32.1,31.8,23.0,36.6,20.3,17.4,27.2,35.3,27.0,24.0,29.5,19.8,29.1,17.3,22.2,16.7,25.6,30.3,28.0,20.5,16.7,20.3,23.4,51.8,24.9,44.2,32.6,27.3,43.4,25.8,21.6,39.8,25.5,30.2,22.0,32.0,20.5,28.7,31.0,31.0,34.3,37.5,34.3,35.6,23.3,50.3,24.9,34.7,23.4,30.4,23.6,23.5,26.9,29.5,21.7,16.4,26.7,31.7,22.2,28.3,28.5,43.9,33.4,46.9,27.6,30.3,16.9,37.9,20.1,32.6,23.7,29.5,24.5,22.6,40.1,17.1,30.0,24.3,18.4,28.5,30.4,30.5,35.5,24.9,30.1,29.3,24.8,55.1,27.3,27.9,39.3,40.1,32.9,18.6,21.0,14.1,25.3,30.5,27.4,33.2,23.4,22.5,16.6,35.7,22.8,20.5,25.8,37.3,26.1,40.0,28.4,21.4,27.1,32.3,41.8,18.0,23.4,31.0,17.9,26.2,43.2,19.4,30.7,25.1,27.7,22.0,30.1,37.9,28.1,17.1,20.4,34.4,26.5,29.2,28.7,25.4,26.7,29.8,23.9,34.5,31.8,32.1,26.5,21.3,20.5,22.2,31.8,30.5,21.8,28.1,26.6,28.4,27.6,29.7,28.7,25.1,33.3,17.8,15.5,26.4,37.2,18.1,25.9,40.4,20.5,28.2,26.0,28.6,29.4,17.4,24.5,14.2,21.9,31.6,20.4,35.8,31.6,16.3,28.3,34.5,24.4,26.5,31.4,24.4,26.9,22.4,26.5,20.7,35.1,31.1,29.6,30.9,32.9,22.7,20.7,29.7,23.0,23.4,24.6,20.2,28.3,25.5,31.5,30.8,23.9,18.5,22.9,30.3,26.1,21.4,39.4,34.0,37.6,24.6,38.1,30.5,22.8,28.2,21.5,26.1,31.2,45.2,25.4,41.6,38.0,26.4,35.2,38.2,36.5,25.3,27.2,30.9,43.7,23.1,25.0,24.7,25.9,26.5,29.1,36.9,41.9,29.4,17.3,22.7,31.1,32.3,40.7,34.2,19.5,37.0,24.2,19.4,35.8,28.4,23.4,27.1,31.5,16.8,27.4,43.4,26.1,24.5,27.1,47.5,22.5,30.0,17.5,24.8,31.5,28.4,28.4,25.9,43.9,24.1,40.5,34.3,23.5,28.4,29.7,21.4,24.4,32.0,21.5,18.5,30.0,19.8,29.9,22.5,25.6,30.8,27.7,27.7,24.6,36.3,29.9,36.2,52.8,21.2,27.1,24.5,39.6,32.0,41.7,26.4,37.8,42.2,37.4,29.7,23.9,47.9,27.7,33.0,25.9,26.6,27.9,34.3,25.0,25.4,25.7,26.2,33.3,29.0,18.3,34.5,27.0,24.0,30.9,32.8,26.0,35.5,22.6,38.6,22.7,17.1,23.4,25.1,31.6,33.5,38.9,23.4,26.3,27.9,28.0,55.0,29.8,24.7,22.2,18.0,28.5,24.8,19.7,23.2,29.8,36.9,27.9,41.7,41.2,27.4,27.4,28.9,20.0,24.8,34.5,25.1,46.3,26.6,42.3,32.3,25.8,20.5,37.4,26.2,33.2,30.8,16.9,30.8,39.7,24.5,31.9,35.9,34.3,30.2,35.6,20.6,41.9,24.0,35.2,17.6,22.8,39.1,41.1,27.1,29.6,29.9,30.0,29.2,28.7,23.0,23.8,16.2,22.8,17.4,28.4,35.9,23.2,27.4,21.1,26.6,23.4,29.9,32.6,45.3,18.3,48.1,20.2,26.2,28.7,25.1,26.7,21.6,28.1,39.9,32.8,17.4,19.4,15.5,25.0,42.8,27.6,29.6,28.3,26.5,31.4,22.6,42.8,36.7,37.2,30.1,16.8,21.7,38.0,32.1,29.6,33.1,27.6,23.4,29.2,29.7,28.4,25.1,28.8,28.9,31.3,38.0,37.3,32.0,29.1,26.1,22.7,25.2,32.9,30.9,33.2,20.0,30.3,23.9,24.4,28.9,16.6,25.5,32.8,31.0,25.8,37.0,35.9,30.2,28.0,43.0,36.9,29.9,32.5,27.5,25.4,22.7,32.8,18.1,26.7,36.3,26.2,30.0,22.6,28.9,20.0,23.4,32.7,28.4,30.6,33.5,38.7,21.5,37.6,39.3,26.1,27.7,23.1,26.7,32.0,19.5,40.1,20.4,39.6,17.7,20.5,28.5,31.9,26.7,23.6,34.8,36.6,50.4,22.4,31.5,41.0,16.3,32.8,25.0,22.7,29.7,18.3,20.9,16.3,17.4,19.8,29.8,23.4,32.2,38.5,23.5,27.9,26.7,29.0,29.2,34.5,24.2,21.9,24.4,24.8,31.0,28.1,40.4,25.2,20.2,33.7,32.9,47.3,34.4,23.0,21.1,23.5,42.3,27.1,40.2,23.5,34.4,23.5,33.7,33.1,26.1,33.1,30.1,24.9,31.4,20.2,46.5,22.6,29.0,28.5,26.3,25.0,26.8,35.7,31.5,14.2,33.1,16.2,29.2,26.9,28.2,34.7,27.2,30.7,19.1,30.0,22.4,26.9,32.8,14.3,24.1,22.7,21.5,21.5,36.6,35.9,28.7,29.3,21.7,20.5,32.1,33.2,25.0,15.9,25.0,35.9,20.7,24.8,23.0,17.1,28.3,20.3,37.5,32.8,35.6,25.8,27.6,24.5,32.1,25.0,36.7,17.6,25.0,26.1,35.8,26.8,26.7,29.0,20.6,32.1,26.9,19.8,28.5,29.7,31.5,26.0,31.5,29.0,21.1,31.8,18.5,22.0,31.4,27.4,17.5,18.8,35.3,31.3,24.0,28.7,23.0,18.5,32.4,23.8,31.3,34.5,29.4,18.8,34.4,28.4,17.1,27.6,30.4,24.6,28.1,31.4,35.8,29.1,22.2,20.6,22.3,16.4,42.0,27.2,24.8,25.3,43.1,19.2,28.1,22.3,25.9,32.4,32.2,19.9,24.1,31.9,23.0,31.9,23.1,17.1,43.0,14.4,20.7,41.0,29.1,26.9,33.5,38.5,34.5,26.7,24.0,28.8,26.9,34.8,34.2,33.1,29.9,29.5,29.2,20.3,29.4,20.4,28.7,28.5,26.0,21.5,55.9,28.6,23.7,19.6,24.5,34.7,43.7,28.5,33.3,25.2,34.5,41.3,29.9,22.1,17.7,26.9,31.0,29.7,22.1,21.6,26.1,32.1,23.6,36.3,18.8,30.6,26.2,31.0,36.6,26.6,18.8,35.6,33.2,22.7,24.9,34.3,20.8,23.8,47.3,43.4,17.8,44.4,30.1,27.6,29.6,32.9,25.4,27.0,20.0,32.1,26.1,21.4,32.4,22.5,35.9,27.1,22.2,18.1,23.1,39.5,18.5,43.8,34.4,33.4,18.1,17.1,23.9,21.4,18.8,18.9,20.1,20.3,24.1,27.1,23.0,20.8,31.9,17.6,21.5,25.5,29.9,22.0,33.2,47.3,23.0,30.5,16.0,20.4,24.7,28.1,28.4,37.4,28.6,29.5,24.4,30.7,30.9,29.4,26.7,28.3,35.6,28.9,32.7,29.9,35.9,28.2,23.5,27.0,19.0,28.3,35.2,24.7,29.4,34.3,26.9,25.5,22.6,38.8,25.9,34.3,28.5,15.6,26.9,28.7,25.7,22.1,25.3,27.5,30.0,21.8,26.4,26.4,27.7,31.0,18.6,19.3,17.4,36.9,27.8,33.1,29.5,27.4,29.1,21.7,29.0,22.1,26.8,22.6,29.8,30.9,27.3,26.1,32.7,31.0,33.9,27.9,21.8,26.2,32.4,17.8,15.8,16.3,35.2,28.8,27.0,21.4,27.6,25.8,32.3,32.3,33.7,21.5,25.6,22.8,24.8,31.5,31.6,27.3,40.3,35.8,19.7,45.2,25.4,31.6,19.5,24.8,36.3,26.2,19.2,23.6,36.7,18.8,35.8,29.7,25.3,26.4,21.2,25.6,33.3,21.4,32.8,23.5,32.8,19.2,25.5,29.1,30.6,22.8,20.6,22.3,29.8,31.4,21.7,37.1,23.1,30.8,20.3,20.6,29.9,34.1,21.5,21.8,26.9,20.2,23.4,23.6,35.4,32.6,22.3,22.5,23.6,20.6,26.9,35.6,48.3,22.8,32.3,19.5,25.8,35.9,28.3,25.4,27.5,19.5,31.9,30.9,46.7,30.9,23.5,29.0,20.0,34.4,27.4,22.8,42.4,33.4,20.1,20.8,18.3,28.0,32.2,30.7,24.5,30.6,23.8,27.9,21.4,32.2,16.0,27.9,18.4,27.3,24.1,23.4,34.6,31.3,27.1,21.4,32.2,38.0,45.0,32.2,31.8,29.4,32.9,38.2,25.5,35.1,19.5,16.4,35.8,29.0,21.7,24.1,22.0,40.2,30.4,36.1,29.5,33.4,27.7,23.4,26.4,24.9,29.0,23.8,19.2,37.4,27.0,20.4,22.1,30.3,23.4,24.8,27.0,32.8,26.9,40.2,23.9,22.8,33.7,30.8,37.5,30.3,32.6,29.4,34.8,19.7,29.5,26.0,39.3,17.2,26.6,22.1,41.4,27.5,23.6,25.3,29.5,50.2,19.9,28.3,27.2,14.8,28.9,23.0,44.0,25.1,20.1,26.5,24.6,36.9,26.5,26.4,30.9,23.1,21.5,20.5,21.1,35.9,42.6,31.6,21.3,38.5,26.4,26.9,28.7,27.1,23.2,36.2,28.8,34.0,30.3,24.4,19.5,31.7,28.8,29.4,33.6,44.3,26.5,40.9,33.9,35.2,20.6,24.6,30.3,20.0,25.8,28.0,19.1,29.5,29.8,32.8,29.3,36.8,44.4,18.6,24.4,27.0,27.7,25.1,18.6,33.7,18.8,18.6,35.9,29.7,60.9,16.7,25.3,20.5,18.3,32.4,34.0,27.5,30.7,29.2,32.3,37.5,24.7,30.1,33.9,29.8,24.8,28.3,26.1,25.6,23.8,33.0,29.4,35.1,35.9,20.1,17.4,41.2,23.9,28.7,32.1,26.5,23.3,37.4,22.9,22.0,31.1,24.4,24.5,26.7,30.4,31.2,36.7,33.1,17.6,26.6,17.9,28.3,32.8,34.3,26.8,28.8,24.8,32.1,29.8,34.9,29.1,29.2,28.6,17.7,24.9,28.9,23.3,44.6,21.5,35.7,35.8,27.5,22.2,29.3,40.3,34.7,26.0,27.3,28.3,27.7,30.5,26.2,18.8,26.7,20.2,34.3,19.2,28.9,33.1,38.1,27.0,36.8,33.4,26.5,30.6,26.6,31.5,22.1,23.6,37.0,31.5,20.1,23.1,27.3,27.5,20.3,30.4,31.4,25.6,37.6,34.0,29.1,24.4,34.5,43.3,29.2,23.0,40.2,26.0,27.1,34.3,30.0,17.4,20.0,32.0,28.7,28.5,29.9,35.1,24.2,32.7,35.8,24.8,56.6,30.1,29.5,34.8,28.7,25.6,23.0,28.7,28.1,33.1,21.8,24.3,20.9,32.3,24.3,28.9,26.2,24.3,27.7,33.4,37.3,27.9,16.3,24.2,30.8,28.8,18.0,27.0,18.1,15.9,12.2,17.0,30.3,35.4,24.5,34.5,28.5,24.8,28.5,20.2,27.8,29.6,29.7,36.3,23.3,23.6,26.4,22.4,24.1,30.3,31.8,27.3,26.4,29.3,27.3,19.4,26.1,41.6,25.2,38.4,36.6,35.7,20.2,32.2,29.9,27.3,32.3,30.5,32.4,24.5,28.2,17.7,35.1,15.1,28.0,23.1,21.1,17.9,19.2,14.4,30.8,24.4,18.4,22.8,25.9,31.2,24.1,27.9,34.1,29.2,32.5,30.3,36.6,21.2,21.8,18.0,29.2,32.7,21.6,23.5,16.4,23.6,18.3,28.0,26.1,26.7,24.6,25.1,26.6,43.6,28.2,35.6,28.0,32.0,38.9,35.9,26.1,23.4,23.6,27.0,25.2,30.9,28.1,34.7,21.7,26.5,31.4,24.8,17.6,29.0,34.5,46.2,24.9,30.2,34.3,29.5,28.1,25.6,34.5,24.5,23.1,37.5,18.6,20.2,27.4,26.8,25.9,28.1,19.5,35.9,22.4,38.6,23.6,23.5,23.2,27.8,22.1,22.3,31.5,34.5,19.5,42.6,26.9,21.9,32.4,28.1,31.3,37.8,21.8,33.5,29.0,23.3,25.5,34.4,28.3,28.0,28.7,23.5,31.8,40.8,32.4,29.6,27.1,35.8,32.8,42.8,27.3,19.8,39.6,35.6,24.9,20.3,30.5,30.9,28.5,22.1,30.1,32.5,20.7,23.8,23.3,23.5,34.5,18.8,29.5,26.3,26.5,30.8,29.3,23.6,19.8,28.7,26.8,19.3,29.8,27.5,18.2,27.9,35.8,24.1,23.6,22.0,20.1,30.3,26.3,32.0,29.6,24.4,29.5,32.4,17.9,30.9,37.4,31.4,35.8,24.0,27.7,27.9,17.2,28.4,25.1,38.0,18.4,27.0,30.3,38.7,17.1,27.6,23.8,32.8,23.1,19.2,41.1,17.9,20.8,30.4,33.8,27.0,31.5,28.5,28.6,30.9,26.1,23.8,32.9,28.1,31.4,28.3,22.1,18.5,17.1,33.1,34.4,30.8,27.5,34.5,23.5,23.5,46.2,43.2,27.3,24.2,32.9,27.2,36.0,26.4,33.7,28.0,33.0,22.7,16.4,30.5,27.3,32.7,29.1,35.4,18.2,23.5,34.4,28.4,28.4,23.4,24.8,33.3,26.4,41.7,25.8,45.0,22.7,22.0,31.0,16.0,30.2,26.7,28.6,35.7,23.3,26.9,28.0,30.6,29.3,24.8,28.6,23.0,38.8,28.1,28.5,27.0,34.5,29.4,28.7,42.3,37.0,28.2,27.0,43.8,48.2,21.6,27.7,18.5,23.2,28.5,18.8,34.3,36.9,38.1,17.7,32.9,34.5,28.3,27.6,26.6,22.5,36.5,30.0,17.3,46.6,26.5,38.7,18.6,23.8,29.1,41.6,25.5,33.0,27.1,27.6,27.6,22.7,25.4,32.2,23.0,27.1,23.4,17.8,29.8,26.9,24.3,31.5,31.2,28.6,18.0,34.2,26.5,17.4,23.5,16.6,28.8,20.3,29.4,37.4,25.5,32.2,30.9,24.8,28.3,37.4,18.3,30.9,41.8,25.1,24.8,21.8,43.4,36.5,26.1,15.9,21.3,26.1,32.1,16.3,34.7,29.8,24.4,26.2,24.6,23.1,24.8,15.6,33.3,27.7,22.0,17.5,26.2,27.3,24.9,24.0,35.8,20.1,24.4,22.7,21.2,28.7,19.2,24.2,19.5,17.5,37.4,32.2,21.5,29.0,29.4,27.1,28.1,30.0,22.6,28.8,16.4,15.1,26.6,32.2,26.7,29.5,32.4,35.9,19.8,27.7,31.4,28.1,32.8,35.2,29.4,39.1,36.4,27.5,31.5,31.4,39.2,30.2,43.9,21.6,28.5,33.1,24.6,26.4,29.1,30.7,30.6,30.7,30.8,25.1,25.3,33.1,34.7,27.6,29.2,31.4,25.2,32.3,26.5,19.5,45.4,38.0,31.6,29.1,26.8,24.9,23.3,29.1,25.5,24.4,47.8,29.0,40.1,22.5,32.7,24.6,29.2,33.1,21.0,18.8,22.0,19.4,40.2,33.1,24.2,27.5,25.3,30.0,32.7,24.2,28.8,29.3,25.6,35.4,23.7,18.7,28.4,32.3,21.6,29.2,27.8,21.1,30.0,27.5,33.1,38.9,29.6,30.2,30.7,29.7,32.8,30.9,35.6,17.6,23.4,25.6,23.3,31.9,29.5,25.1,15.9,25.5,34.7,28.4,27.0,31.8,30.2,39.2,24.2,23.4,34.2,36.3,26.5,27.0,29.6,30.1,27.4,22.8,28.2,22.1,32.0,31.6,25.7,25.1,23.7,22.7,17.7,35.3,33.1,23.2,25.5,28.8,25.2,24.7,25.3,24.8,17.2,30.6,26.0,21.8,29.2,28.8,34.8,23.8,26.8,21.7,17.2,31.4,24.3,17.0,28.6,18.7,26.8,21.6,23.8,40.9,29.9,28.4,28.7,31.4,22.2,15.1,30.0,22.7,38.7,22.8,15.5,43.4,28.4,30.9,28.5,26.5,25.1,18.7,32.3,18.5,24.2,22.2,19.5,21.0,30.9,30.1,26.7,39.1,39.8,32.4,29.3,27.7,24.4,31.5,29.9,45.5,35.3,27.3,22.2,33.0,43.9,31.4,23.8,17.2,25.7,26.6,27.9,24.0,25.0,18.6,21.2,20.4,35.7,38.1,37.3,18.4,30.6,22.7,20.1,27.9,25.4,41.4,22.1,29.9,26.0,27.6,32.1,24.6,26.3,24.0,32.5,29.7,26.7,18.3,26.0,23.4,33.3,29.7,29.0,19.4,29.2,32.7,26.5,32.2,27.9,22.8,26.6,22.1,37.5,17.2,30.4,19.9,29.8,20.4,30.8,31.9,38.1,28.3,24.7,27.2,22.8,33.3,28.8,35.5,17.9,30.0,22.2,42.7,35.8,17.2,26.6,24.8,34.2,27.9,24.1,34.0,40.4,39.6,26.1,34.5,30.3,17.8,24.5,24.5,24.8,36.9,23.5,33.1,23.8,15.1,30.9,27.6,33.5,27.3,26.9,23.0,24.4,24.0,20.3,19.8,21.0,20.5,26.7,39.6,25.8,20.0,26.6,25.5,36.8,21.3,33.8,31.6,19.8,26.4,27.3,17.4,35.9,33.2,20.2,22.4,24.6,27.0,32.4,25.8,27.5,26.6,41.3,27.6,29.7,29.3,24.3,20.1,39.2,22.5,18.3,16.1,34.9,31.5,25.2,15.8,30.3,36.4,31.0,28.3,24.7,41.9,32.1,34.5,37.7,28.7,24.9,29.4,40.1,31.8,35.9,21.4,26.8,15.8,26.8,28.8,26.5,27.4,26.6,34.3,30.3,35.3,31.3,35.8,32.4,25.3,20.1,21.9,27.5,26.8,25.4,27.1,24.9,22.0,24.4,42.1,40.1,37.5,16.3,35.3,20.0,35.6,41.5,35.1,18.7,18.5,24.9,29.6,29.6,17.6,26.4,24.1,26.7,34.6,25.4,20.5,22.1,25.2,24.8,25.4,34.6,49.9,23.9,31.5,30.3,22.3,33.5,18.6,23.8,30.6,27.5,23.0,18.6,16.4,29.8,18.9,31.1,27.0,18.8,13.2,17.2,14.1,24.8,19.3,18.5,33.4,14.1,20.3,24.9,33.5,26.9,23.4,34.5,28.7,25.5,23.7,24.0,30.9,27.0,24.8,24.1,24.6,29.8,32.0,26.7,23.6,29.6,41.2,36.6,25.4,26.4,27.6,24.9,26.2,19.8,25.6,28.0,37.3,34.2,28.6,35.3,24.1,28.7,29.2,35.4,23.2,28.3,40.2,29.0,25.8,34.7,24.8,32.6,16.4,30.9,33.7,40.0,36.2,24.0,26.9,27.7,26.9,40.2,26.7,29.6,31.7,23.9,26.3,27.5,42.4,20.1,19.3,26.5,32.2,28.7,20.1,18.6,28.0,23.6,37.8,29.5,25.3,30.1,20.6,43.2,34.3,20.4,39.7,21.9,17.0,28.5,25.4,20.7,28.9,23.5,13.0,26.0,14.1,29.9,38.7,21.8,14.9,16.0,27.5,35.9,22.7,34.5,37.2,38.9,28.3,24.8,30.0,26.0,28.0,27.0,50.1,33.2,35.5,30.8,36.9,26.7,29.7,29.8,31.0,27.9,27.0,17.2,22.6,19.8,28.8,42.0,21.7,24.9,24.8,41.4,23.5,16.2,33.7,25.3,24.8,33.5,38.8,21.0,29.3,33.4,33.4,30.5,29.1,23.0,20.0,25.3,29.7,30.5,23.8,23.4,28.0,26.5,24.2,48.4,35.2,23.0,24.0,22.7,31.7,24.4,28.3,24.7,43.8,23.3,21.2,34.9,40.8,21.6,18.3,41.4,28.3,31.0,18.9,29.6,34.6,24.6,27.3,30.5,29.8,32.0,24.9,26.9,28.0,34.8,31.8,26.4,32.7,23.1,22.7,23.0,28.2,28.6,27.6,24.3,28.3,23.8,16.6,44.5,24.8,30.7,22.6,28.5,24.9,33.7,28.1,39.6,27.7,24.0,29.7,32.6,32.1,35.6,23.2,30.0,19.4,34.9,20.3,25.0,27.5,26.6,36.6,25.4,34.0,28.4,30.3,25.5,38.1,30.9,40.0,32.2,32.6,25.9,40.5,27.2,42.4,30.5,36.3,23.5,18.4,35.5,16.4,18.7,27.3,16.3,26.0,26.6,25.3,26.9,23.4,33.1,18.1,18.6,28.3,35.7,30.5,23.5,29.4,25.4,23.9,30.4,46.5,30.8,23.1,34.8,16.3,23.2,20.5,25.5,21.3,15.9,29.0,14.2,15.0,38.3,23.3,31.1,26.1,26.4,16.8,27.9,22.2,39.9,26.1,30.7,37.7,25.8,40.2,30.9,17.6,33.6,34.9,23.5,35.8,38.2,32.0,22.3,31.8,22.7,40.1,21.0,40.2,26.9,26.7,30.2,36.2,32.8,18.1,30.7,33.5,27.3,21.3,16.3,33.2,27.5,28.5,37.0,27.9,23.2,30.0,18.5,31.0,29.9,18.7,18.8,24.8,39.5,24.8,20.0,31.6,31.3,34.7,23.3,40.4,24.8,21.2,24.2,36.9,30.5,33.4,27.4,26.9,33.4,23.2,18.2,19.5,17.9,31.7,23.0,30.5,30.3,23.7,22.1,36.7,48.8,25.2,20.4,28.9,42.2,27.3,16.8,41.6,32.7,29.3,19.0,24.8,43.4,29.9,40.5,30.9,35.9,18.9,23.3,25.0,41.8,33.7,29.0,18.5,26.7,17.9,34.7,23.1,23.2,14.2,22.7,32.1,34.3,19.7,39.2,18.8,28.9,29.6,30.2,18.3,42.7,28.0,17.7,25.3,26.1,25.1,31.2,25.0,22.2,20.4,41.7,30.0,32.8,28.8,22.6,30.8,23.5,32.2,35.2,17.9,27.8,37.2,18.5,33.5,34.0,21.7,19.2,23.6,34.2,43.7,43.4,31.9,32.4,25.0,31.1,26.7,23.9,32.1,18.7,18.5,25.0,19.0,29.1,17.1,30.0,31.0,55.0,34.2,32.3,43.4,33.1,28.8,37.6,23.4,27.7,19.8,27.7,22.4,25.0,42.4,23.7,21.2,28.4,27.5,22.8,21.6,23.4,40.1,31.0,23.8,22.7,31.4,23.9,21.9,31.9,21.5,27.6,25.8,17.2,26.5,28.4,32.5,23.2,21.8,20.6,25.1,28.4,27.0,34.2,37.0,54.3,30.1,28.7,23.4,32.7,26.4,42.8,17.4,20.0,37.6,28.4,29.0,31.6,23.9,32.6,23.4,26.7,31.9,31.5,38.1,38.8,17.0,25.7,16.1,20.9,28.8,16.6,28.6,29.8,32.2,34.0,27.2,21.0,24.3,27.1,28.0,22.5,30.1,39.5,20.3,28.0,30.5,48.3,28.8,28.4,30.7,34.1,26.6,26.5,19.4,33.5,32.1,28.1,38.0,27.0,23.8,26.3,35.6,17.8,18.7,28.9,29.9,25.8,30.5,34.5,22.4,22.1,18.8,39.3,38.6,25.8,28.0,16.2,15.1,25.4,27.8,24.2,23.5,24.7,26.8,20.0,25.5,35.1,24.2,27.8,24.6,34.9,33.7,34.9,27.4,28.0,34.7,24.5,22.7,26.8,45.2,33.4,29.9,55.7,21.7,28.2,21.4,22.1,26.3,20.6,31.3,26.2,38.0,38.0,25.9,15.7,28.9,23.8,25.8,34.7,21.4,30.3,29.1,36.6,29.5,27.3,28.6,20.8,39.9,54.6,31.2,20.2,16.9,29.8,35.3,34.2,41.5,32.4,24.9,26.2,16.7,22.7,28.7,49.3,27.3,21.1,35.9,24.7,31.6,22.2,30.6,37.5,35.6,17.6,23.4,17.2,33.6,29.2,27.1,28.0,40.0,35.1,26.3,37.8,23.1,23.3,36.2,32.5,29.0,16.3,17.2,28.4,26.9,32.2,25.5,34.0,35.4,30.6,40.1,23.8,24.7,28.6,34.2,33.5,27.3,25.5,27.2,27.4,21.2,30.3,24.8,21.6,21.4,22.9,25.9,27.6,30.9,32.9,35.7,20.0,25.2,29.2,18.0,27.4,26.5,40.1,26.5,32.3,28.2,26.2,29.0,18.5,28.2,37.7,36.8,32.6,23.9,30.0,29.6,31.9,25.0,17.4,29.7,21.5,40.0,26.1,37.8,24.0,32.4,30.5,34.2,26.6,29.2,35.6,39.1,26.1,27.1,23.1,28.3,28.1,23.1,31.4,24.4,26.7,24.3,18.7,31.4,25.2,30.3,15.7,28.8,16.7,27.2,35.3,21.5,22.8,15.1,17.9,24.3,24.6,22.8,20.8,22.8,34.7,25.3,18.8,21.4,29.2,32.2,39.7,28.4,28.1,29.2,23.6,29.9,27.7,36.1,16.4,27.3,41.5,36.7,21.3,27.2,28.2,35.0,25.1,18.5,29.2,18.5,32.5,27.7,29.7,23.3,28.7,28.8,33.8,41.7,25.3,26.7,30.9,26.7,28.7,29.4,41.6,27.1,30.9,41.4,18.8,26.6,22.4,30.1,28.3,18.1,32.5,35.1,21.5,17.6,25.1,31.0,34.8,29.7,34.8,25.7,25.9,32.1,24.7,18.8,39.8,29.8,34.1,24.5,23.0,14.6,27.2,29.7,18.6,28.2,29.7,20.3,26.7,22.2,28.6,45.4,31.5,18.1,28.8,32.2,36.7,31.5,28.7,15.5,31.1,26.2,24.1,34.4,27.5,37.9,32.7,26.1,28.3,29.1,26.2,26.7,27.0,21.1,23.6,32.7,51.5,29.7,22.0,23.8,25.5,40.8,29.1,29.2,23.2,27.7,31.0,32.7,26.1,38.0,32.9,28.6,27.8,32.6,30.2,31.0,28.7,26.4,27.8,26.1,41.9,33.9,32.4,32.3,31.2,26.6,30.0,19.8,20.9,29.2,28.0,34.7,28.6,31.5,19.0,39.6,31.5,23.1,41.6,32.1,31.0,14.4,15.1,28.9,18.5,27.7,33.5,41.2,36.0,21.3,27.7,31.1,38.1,29.7,16.7,26.9,21.7,30.4,19.2,30.9,24.4,30.9,30.2,30.4,20.8,22.3,17.7,33.5,33.1,42.8,33.4,24.2,35.9,27.8,19.1,25.5,23.1,32.2,22.6,28.2,33.2,27.9,28.7,29.2,26.5,17.2,20.1,22.7,23.5,41.2,23.7,20.2,34.0,24.6,30.2,25.4,32.6,25.9,24.0,39.7,23.9,33.5,27.9,33.8,29.2,24.6,23.4,30.1,39.5,40.1,33.8,22.2,18.6,29.6,26.4,30.0,28.4,24.3,22.4,36.1,28.4,19.6,44.7,44.2,40.3,30.0,26.4,28.0,24.5,20.3,26.5,38.7,28.1,27.8,33.2,24.1,19.8,22.8,18.6,25.9,23.3,28.3,27.7,27.7,27.1,25.3,43.0,26.7,36.0,32.6,28.3,26.9,53.8,33.8,20.5,21.4,31.3,27.3,26.1,25.5,30.8,28.0,30.3,30.5,25.2,23.4,34.8,38.5,28.6,28.3,29.7,36.4,39.8,42.3,29.4,21.0,17.9,17.6,35.8,29.2,32.1,24.0,22.8,15.1,33.7,19.4,28.3,26.5,27.6,32.8,26.6,31.0,25.1,24.2,33.4,26.4,22.4,32.2,18.9,23.0,31.9,33.0,25.4,27.5,31.4,26.1,35.9,31.0,30.3,31.2,29.7,21.3,14.4,39.2,32.9,26.5,37.0,33.1,21.2,24.1,33.5,22.1,17.8,20.0,27.1,37.6,31.2,28.9,17.2,26.6,21.4,22.1,29.1,31.1,23.1,26.4,35.4,20.1,24.3,24.7,28.4,24.4,26.9,32.1,28.3,25.5,36.9,33.1,37.6,29.4,31.6,26.6,31.3,29.7,26.4,33.7,25.2,38.0,23.2,20.3,23.0,19.5,17.5,16.4,18.5,23.7,32.7,38.9,28.4,15.5,39.7,22.2,24.6,37.3,29.9,40.8,18.6,27.0,45.7,29.2,22.5,23.3,27.4,20.1,22.2,29.4,26.3,30.6,21.8,23.4,25.8,25.5,30.5,28.7,22.5,29.4,25.3,31.9,24.8,18.2,26.2,29.4,23.4,35.1,28.2,54.0,33.1,23.8,22.8,30.7,24.8,28.7,40.2,27.4,28.3,24.1,22.1,26.9,23.4,24.1,34.7,26.0,28.9,24.2,20.4,28.9,24.9,23.9,26.5,27.1,26.5,18.0,35.9,17.4,27.5,27.3,24.4,21.0,30.1,38.5,32.6,19.0,36.3,34.1,31.2,43.9,27.3,20.1,34.5,32.9,18.8,41.5,26.4,24.0,29.5,27.0,19.5,21.7,23.5,26.7,22.7,36.5,30.2,35.6,37.0,30.7,35.9,42.6,24.1,24.8,29.6,26.2,38.1,29.4,15.7,18.7,28.6,34.3,26.4,22.4,40.1,23.7,22.8,18.3,21.2,26.8,17.5,32.5,16.9,21.1,30.1,25.6,21.0,29.4,34.7,27.5,31.2,34.5,21.5,28.3,30.6,15.9,35.1,21.4,28.1,24.2,31.6,22.5,23.7,28.6,26.5,29.3,19.5,23.7,26.0,20.3,23.8,17.0,27.8,31.0,29.6,29.7,28.9,23.9,24.7,16.7,28.1,31.7,18.6,23.9,35.9,26.4,36.2,21.5,26.6,22.0,30.2,25.1,32.8,38.8,30.9,31.5,32.2,32.0,26.7,41.7,41.8,24.5,29.7,18.8,25.8,28.1,20.8,24.1,28.8,29.5,30.5,33.0,26.5,18.2,28.3,22.9,27.0,20.6,16.6,23.5,29.4,20.4,27.5,29.2,39.2,39.8,31.9,28.2,49.5,32.3,22.4,25.5,26.4,31.3,30.4,33.0,32.3,32.5,25.5,33.5,20.1,17.5,16.0,31.0,20.8,26.1,28.5,22.8,29.4,25.5,28.3,20.1,30.4,26.3,32.4,17.0,28.3,28.5,17.8,27.9,23.5,24.2,30.3,20.1,27.1,28.4,20.1,30.0,26.7,26.0,25.9,31.9,24.2,26.4,24.0,23.4,22.9,24.0,29.8,31.4,41.1,31.7,30.1,28.3,31.5,30.6,34.5,25.5,43.7,36.4,27.4,34.3,19.0,25.9,35.7,26.3,29.7,23.8,31.8,22.4,17.7,47.5,19.5,20.6,29.6,24.9,27.4,35.8,38.4,24.2,21.8,20.8,28.0,33.5,32.3,16.4,33.5,27.8,35.6,22.8,25.1,24.8,28.2,24.9,25.9,28.7,21.5,31.8,23.4,26.8,31.9,27.0,27.0,32.6,20.8,33.8,26.5,26.7,32.8,18.6,25.9,45.4,17.4,31.4,24.1,26.1,22.5,35.2,26.2,25.2,13.9,24.1,21.8,26.5,31.2,35.5,28.2,16.0,25.1,26.7,24.5,28.2,36.4,17.9,36.6,28.6,19.1,29.9,31.8,25.2,18.7,28.8,33.1,21.8,23.8,31.0,30.0,49.4,28.4,20.1,31.1,16.8,17.7,27.3,33.7,27.6,20.5,27.4,41.3,31.4,43.3,27.2,35.4,16.7,30.1,15.9,22.3,34.4,29.2,21.3,23.4,23.2,27.4,36.7,25.1,38.2,24.1,28.9,19.2,29.6,26.5,23.6,31.2,26.7,31.0,24.4,28.7,28.4,36.0,21.4,29.2,17.8,38.2,28.7,22.8,31.2,29.9,43.4,25.3,35.2,28.9,38.1,24.3,31.4,25.0,26.6,39.4,23.5,29.7,32.3,37.8,24.8,25.7,30.4,29.5,24.3,24.1,29.0,24.9,31.6,26.6,19.1,24.7,25.0,29.4,24.0,31.8,30.0,27.0,26.1,37.3,26.9,27.5,22.0,29.4,21.7,20.9,27.5,31.5,22.1,23.4,26.4,34.2,20.3,20.8,23.5,22.2,38.0,18.5,27.1,39.6,28.1,27.7,33.3,26.7,25.8,23.6,31.5,24.1,32.1,34.7,26.8,21.8,36.4,25.2,34.7,35.2,33.8,24.1,20.3,26.2,22.1,38.9,30.4,19.2,28.7,24.2,23.2,32.7,26.8,26.1,34.0,40.2,26.7,26.8,33.0,30.5,24.6,32.6,30.6,21.8,29.2,30.5,24.0,21.6,23.0,27.0,23.6,21.8,18.6,28.7,29.4,30.6,31.4,17.7,23.6,39.2,27.5,31.9,16.3,37.2,31.0,30.1,30.3,37.7,23.1,40.2,24.9,29.2,22.6,18.0,20.9,27.7,17.8,31.3,23.8,29.6,34.4,28.3,36.2,21.5,19.5,40.4,30.7,18.3,24.7,25.4,32.8,27.4,17.9,21.4,15.9,21.7,28.3,30.0,33.8,41.2,17.7,24.1,24.7,23.0,19.2,27.3,16.3,27.3,39.1,17.6,31.3,29.3,27.3,26.8,28.7,31.8,24.6,24.7,27.9,60.7,34.0,47.5,18.1,31.6,18.0,38.2,23.9,20.4,29.5,29.6,20.4,37.0,24.3,28.0,29.5,39.4,25.9,28.5,30.9,32.4,23.4,35.2,18.0,25.8,23.4,19.5,26.4,22.7,23.8,28.5,33.7,25.1,29.0,16.4,20.4,31.4,27.5,33.3,18.7,24.0,29.3,23.6,25.9,22.7,22.4,36.2,20.3,23.3,44.5,34.6,18.4,29.2,18.3,35.0,33.5,34.7,27.7,27.7,22.2,24.9,27.5,26.6,29.5,25.6,27.0,20.7,27.6,29.0,25.9,23.8,32.7,31.2,34.2,25.2,29.0,29.0,34.2,44.3,16.1,17.3,21.7,28.5,27.2,29.4,17.2,44.7,39.6,16.1,22.4,24.5,29.4,16.8,26.7,28.0,30.5,29.3,22.7,28.7,54.9,28.4,30.1,33.8,34.9,22.1,21.5,16.2,34.8,25.4,22.2,19.8,15.8,36.5,17.6,28.2,21.0,43.9,26.4,26.0,18.6,25.6,29.8,25.2,24.5,28.6,24.9,23.5,20.2,25.8,27.3,31.1,29.6,27.2,24.3,17.3,26.1,29.1,18.8,28.8,30.8,18.8,24.1,18.3,26.0,24.2,32.8,32.8,28.8,24.7,33.0,21.7,22.1,22.1,17.3,27.3,27.1,18.6,21.3,24.1,39.1,24.1,24.9,28.6,36.8,31.0,26.9,30.6,29.3,29.8,27.0,35.4,19.8,45.6,34.9,20.1,29.0,17.7,24.8,22.7,21.4,24.1,28.6,24.9,17.3,28.4,30.8,36.0,28.0,32.6,35.0,21.5,28.7,20.8,29.7,26.7,24.3,21.4,43.2,27.7,23.5,31.0,31.3,34.7,25.0,48.8,29.6,28.4,26.7,19.3,43.7,22.2,22.4,31.5,37.0,29.1,28.3,22.1,28.2,29.8,29.8,25.0,24.0,27.5,28.3,18.3,29.9,31.6,17.6,25.1,28.0,29.1,23.4,25.6,18.3,39.5,28.4,40.0,20.0,35.4,29.9,31.7,31.9,17.1,26.3,29.5,29.4,30.4,23.3,26.5,28.6,27.3,23.1,32.1,27.4,18.6,26.5,32.5,34.8,18.6,33.4,31.2,20.0,32.1,23.4,23.7,32.1,29.0,35.9,33.1,38.2,18.1,26.0,23.4,28.7,21.2,15.2,27.3,29.6,22.1,26.9,28.4,17.6,26.7,31.3,34.7,22.3,22.2,34.2,36.0,21.5,38.2,23.4,22.2,40.1,25.9,34.8,29.8,31.4,20.0,20.1,23.5,17.2,33.7,23.5,29.9,18.5,24.3,31.6,32.2,24.1,25.9,23.9,29.8,32.2,25.2,30.3,17.4,27.3,24.2,36.1,24.0,19.2,16.3,28.6,32.0,20.5,23.3,30.7,34.4,26.0,27.6,31.6,30.2,22.7,25.0,24.0,28.2,28.3,33.6,31.2,26.5,28.0,22.5,17.1,22.4,26.7,21.4,17.3,33.6,23.4,27.7,24.4,20.8,30.5,27.5,21.0,37.5,34.1,27.5,34.4,31.9,24.5,45.2,27.3,27.6,26.4,27.1,40.7,30.2,30.1,14.3,36.4,20.0,23.6,23.5,28.6,15.6,32.8,28.5,23.7,28.2,25.9,29.4,28.3,34.5,23.0,33.3,34.5,29.9,35.3,42.5,26.5,23.5,30.7,32.1,28.5,24.3,40.2,13.8,26.4,21.8,17.7,20.9,20.3,28.9,27.1,28.1,30.9,31.8,35.1,46.0,32.6,23.7,19.9,23.5,32.7,20.1,29.5,37.3,33.5,23.6,17.0,26.4,25.9,26.9,18.6,34.1,25.0,37.8,28.7,21.8,23.4,28.3,23.3,31.5,25.1,26.5,23.5,21.3,19.9,24.5,21.6,33.3,37.2,41.9,31.1,27.3,26.0,27.1,24.8,33.9,25.8,18.7,22.4,21.7,25.3,27.7,26.9,28.9,31.4,27.0,31.8,18.3,40.7,33.0,20.5,25.9,17.3,22.9,27.9,24.3,49.4,21.6,36.0,21.4,26.7,31.4,20.0,44.7,31.6,27.5,28.1,38.5,27.0,25.6,15.1,26.9,31.4,35.3,28.4,24.2,33.4,23.1,31.0,35.8,26.3,31.8,24.8,30.2,20.2,36.9,32.4,26.5,28.9,34.5,24.0,15.5,34.2,25.0,23.0,31.4,28.6,34.1,29.8,21.4,30.3,29.3,33.1,21.4,17.4,35.9,18.5,31.8,26.4,28.3,31.9,19.3,22.5,21.9,39.2,18.8,28.6,28.6,27.2,26.7,23.9,32.9,31.7,40.0,24.2,25.9,28.4,25.4,18.8,37.3,41.6,32.8,38.7,33.9,38.8,33.1,39.6,24.5,25.8,25.3,35.7,24.1,33.5,43.0,25.6,16.2,17.2,28.4,22.2,23.9,30.5,27.5,32.6,27.7,25.5,27.3,30.1,43.0,21.8,29.8,33.4,33.4,39.5,43.7,32.1,18.3,35.2,32.8,21.1,29.9,30.0,29.7,18.6,29.0,32.8,38.9,30.3,30.8,32.1,26.4,37.2,26.4,30.9,17.6,22.0,32.5,30.4,25.5,28.9,29.0,24.2,27.7,25.9,26.1,32.5,20.7,24.3,23.4,24.4,44.9,32.2,18.3,28.4,22.0,24.2,20.3,37.0,43.4,35.7,23.4,21.2,24.2,32.5,16.2,22.6,24.0,24.1,20.6,29.5,26.1,32.1,22.4,25.0,27.0,42.2,25.7,21.8,26.6,43.8,32.5,23.4,25.0,26.7,20.3,18.1,24.0,30.3,27.7,35.5,27.2,43.0,25.9,23.1,25.2,34.1,31.4,29.8,21.0,21.5,22.3,28.7,19.7,30.0,31.1,39.8,19.8,23.7,31.1,16.6,28.1,24.1,23.6,26.8,27.9,28.3,28.3,26.5,41.0,19.1,25.5,31.9,24.9,26.0,27.0,18.6,32.3,25.2,29.1,23.1,25.4,27.7,27.7,25.1,26.1,32.1,34.0,24.9,30.7,17.4,32.4,25.5,29.3,31.9,27.3,26.9,22.2,21.3,21.7,30.6,24.2,29.8,31.0,22.3,30.2,32.6,30.3,18.3,24.9,36.6,33.3,24.0,28.0,20.3,35.4,24.8,23.2,42.8,25.5,21.1,30.1,30.8,31.0,32.8,20.2,18.1,41.2,20.8,27.7,32.4,33.3,28.2,36.2,26.9,28.0,27.6,22.9,41.5,28.6,15.9,19.2,27.7,28.2,26.7,34.3,29.1,29.2,23.5,32.3,29.2,37.9,20.0,31.2,17.7,23.0,25.8,23.4,30.5,38.2,18.1,24.0,50.6,31.6,24.4,28.1,24.3,23.5,27.0,33.5,31.5,22.7,16.4,42.0,27.5,28.5,22.9,48.1,18.1,29.5,28.3,22.5,35.2,23.4,37.5,22.4,34.5,26.4,23.6,25.1,29.6,24.0,29.5,18.6,19.5,32.2,31.0,21.4,31.2,32.0,33.4,22.1,26.4,27.7,32.0,31.3,28.4,23.4,28.0,26.7,38.2,29.6,34.8,31.4,54.4,34.8,25.6,25.6,28.7,27.7,24.3,29.5,24.4,24.4,28.5,17.9,26.5,31.3,30.1,38.7,27.7,33.8,28.9,42.4,29.4,21.7,18.9,22.4,31.2,30.4,43.7,20.3,23.5,26.2,20.7,35.8,18.9,44.4,28.7,28.3,22.9,37.9,14.1,21.1,19.9,22.6,17.3,26.6,38.6,28.4,30.8,38.0,32.3,52.9,38.0,24.0,65.36,39.8,31.4,30.0,27.0,32.3,26.9,29.1,17.0,35.3,28.3,43.0,33.7,22.1,26.5,32.4,27.6,16.0,20.5,35.3,28.3,28.7,30.3,22.4,24.4,29.4,23.3,31.3,28.9,27.0,21.1,34.2,25.9,16.7,27.1,18.6,33.1,18.3,35.9,18.1,27.0,31.4,19.2,19.1,29.9,24.4,26.3,23.4,39.9,47.8,31.1,30.0,33.1,27.8,29.0,39.3,19.3,27.9,17.4,23.4,29.4,38.0,18.6,28.8,32.4,27.2,29.6,34.4,17.7,31.4,29.1,30.0,26.4,31.0,30.3,28.6,31.1,25.8,29.0,32.1,17.3,18.8,18.5,21.8,33.2,24.7,19.7,32.3,24.0,15.2,24.3,25.5,24.3,24.9,25.9,25.9,25.1,29.0,30.5,43.3,34.4,29.3,20.2,28.7,31.9,35.8,36.7,23.4,30.4,18.7,38.6,21.6,24.4,30.4,26.4,18.9,29.7,28.4,38.9,34.1,29.8,16.4,22.5,28.0,34.9,34.2,21.3,29.9,25.1,30.2,25.2,18.6,30.3,25.6,21.7,38.4,33.0,24.5,22.8,27.6,28.4,26.1,23.4,22.6,34.7,32.1,45.2,26.6,21.5,24.3,37.8,24.4,33.7,20.0,32.9,31.5,23.7,28.5,30.9,28.9,24.0,29.3,25.3,29.6,32.9,20.1,32.7,26.7,29.5,34.0,28.4,25.5,28.3,32.0,23.6,31.2,33.4,24.6,25.5,21.6,19.8,29.0,33.5,28.1,20.8,42.7,32.0,29.5,38.8,27.9,32.2,30.5,23.5,20.6,23.5,22.7,28.3,19.4,29.8,27.3,26.2,30.0,32.7,24.5,34.7,28.7,25.3,45.7,27.9,36.3,20.7,28.6,29.8,24.8,26.1,27.4,26.2,21.8,24.8,35.9,35.7,36.9,33.1,29.6,24.8,28.5,27.7,29.0,29.2,29.7,25.5,29.1,29.2,25.8,27.8,21.7,33.1,27.5,27.7,23.2,28.3,29.1,37.4,27.3,30.9,35.0,27.3,30.5,17.5,21.2,33.6,29.2,30.0,28.7,33.5,25.3,23.0,24.0,23.0,20.1,26.6,25.1,29.0,29.6,23.0,24.9,20.1,27.1,28.7,25.1,17.4,30.0,32.5,18.3,37.7,26.7,27.1,41.3,36.8,26.8,22.2,28.4,22.5,33.0,35.8,20.2,23.0,29.7,27.7,22.2,28.4,18.3,29.4,30.0,29.6,26.1,19.9,23.4,21.1,23.9,27.3,26.1,33.0,24.0,30.1,25.5,22.2,23.3,33.5,24.6,30.8,30.8,44.8,21.5,27.7,34.8,19.4,25.3,34.4,34.4,20.1,25.4,22.3,25.9,17.5,20.2,28.4,17.1,43.4,33.3,36.4,35.7,31.5,21.4,18.6,21.5,33.4,26.4,18.6,36.7,32.7,31.2,26.9,34.3,22.3,21.6,25.6,20.9,23.5,21.4,18.7,24.8,35.0,26.4,24.1,25.3,27.8,22.1,33.8,30.6,27.0,24.1,23.6,16.2,33.2,18.0,32.3,26.7,29.9,40.2,22.0,39.1,13.2,30.3,26.9,20.5,26.1,30.3,29.9,31.0,30.0,27.5,27.5,32.1,26.6,32.3,35.1,33.0,28.7,38.7,24.1,18.1,40.1,32.6,26.9,22.8,31.3,28.0,17.9,19.1,27.7,23.6,31.8,29.2,21.0,28.8,36.8,28.4,35.1,25.0,27.3,18.4,23.7,43.8,23.0,26.8,22.3,32.8,30.1,29.1,32.7,23.2,31.2,24.0,32.2,36.7,26.1,22.7,25.5,34.4,27.3,25.2,21.4,37.8,29.2,26.7,28.3,25.2,24.3,29.0,39.2,30.6,16.5,27.3,26.2,25.2,24.7,17.1,35.0,23.5,25.5,29.8,37.3,33.8,46.9,28.7,24.3,27.0,26.4,18.5,21.5,26.7,19.5,41.8,23.1,26.6,25.2,26.4,24.8,25.3,18.0,32.2,29.1,17.8,29.5,33.7,25.5,38.1,39.3,23.1,26.7,31.7,30.5,34.9,25.1,17.4,24.8,28.4,30.3,29.0,19.9,29.1,29.2,31.3,32.8,27.9,17.7,38.7,19.8,43.8,18.3,29.5,31.8,28.2,32.7,32.1,19.6,39.0,28.7,26.1,35.8,18.6,28.7,37.4,22.1,38.9,28.9,28.0,17.7,36.3,38.2,23.3,26.4,23.0,32.2,24.1,21.4,30.7,31.4,32.3,31.0,30.6,23.5,28.3,15.0,18.8,32.1,23.4,20.1,22.8,19.9,24.2,32.6,38.1,21.1,25.5,32.9,27.9,21.4,21.8,20.5,39.8,29.8,32.3,31.0,32.9,29.4,31.6,44.7,16.1,19.8,20.4,41.1,43.1,34.4,32.0,24.0,24.1,18.7,21.1,30.2,20.1,31.4,24.1,25.5,17.6,27.5,21.0,28.7,29.9,27.0,21.6,17.0,30.8,34.9,25.8,30.7,26.7,29.7,24.5,25.5,25.5,34.2,27.6,21.9,22.6,24.9,27.4,20.3,30.7,17.0,31.1,29.0,15.0,18.1,33.9,32.7,22.7,23.4,32.4,21.8,28.3,27.1,33.4,30.4,36.4,28.0,29.9,21.5,24.3,26.7,30.1,23.8,28.8,20.1,25.4,20.8,57.2,29.8,22.7,38.0,20.4,42.8,18.3,38.8,27.1,27.6,37.7,38.7,28.1,25.5,30.7,18.3,29.8,23.7,24.2,34.3,31.0,28.7,24.5,22.7,35.2,36.2,30.3,39.2,17.1,16.8,29.0,28.9,26.7,23.9,35.5,39.4,40.3,27.8,34.3,19.8,23.2,24.2,37.4,16.2,29.0,20.5,32.0,21.0,32.3,21.8,32.9,43.8,23.5,27.1,31.6,20.6,25.2,32.7,22.2,16.4,27.5,30.9,36.0,27.5,28.1,31.6,22.4,26.0,21.5,34.7,29.7,25.6,29.9,26.1,18.1,29.6,23.6,25.4,22.9,36.0,37.2,26.2,26.6,28.7,33.7,32.9,25.5,32.5,24.9,32.2,34.0,21.2,29.0,31.5,30.5,28.0,23.6,22.3,31.4,28.7,40.5,20.7,39.4,25.2,31.5,26.9,24.4,33.7,35.8,27.2,27.6,27.0,35.6,34.5,18.1,26.6,36.6,29.1,23.3,28.3,35.6,37.7,23.4,25.0,29.9,28.1,22.0,27.9,22.5,26.6,27.6,29.8,21.3,31.4,21.4,34.1,27.4,24.7,25.1,24.8,30.3,28.4,25.5,25.6,26.2,30.8,29.5,22.1,36.5,28.8,27.1,31.1,27.5,32.1,31.4,31.9,32.7,37.6,34.0,32.8,14.4,30.9,23.9,24.6,16.3,20.7,24.8,24.9,35.1,14.5,20.4,14.1,24.2,27.3,30.0,24.2,39.4,30.9,41.2,23.5,25.1,21.5,26.2,31.4,22.8,16.6,36.1,21.3,40.2,24.0,24.8,31.6,34.4,38.0,37.1,23.5,21.4,33.3,28.3,32.3,23.4,21.5,31.7,40.2,22.7,31.9,17.6,19.8,35.2,32.0,18.0,31.9,28.1,29.4,35.6,33.1,23.6,41.7,37.0,37.7,27.7,35.7,36.3,22.4,33.9,27.7,26.7,22.4,26.7,39.7,22.1,37.3,28.9,16.4,35.1,23.4,18.8,32.8,32.5,25.9,33.1,33.5,26.9,34.7,28.0,28.7,30.9,28.3,38.8,29.1,19.2,40.8,24.4,19.5,28.6,25.7,30.7,28.7,27.1,36.0,27.7,16.7,35.2,17.9,32.2,27.9,24.8,24.1,30.9,26.7,33.2,29.4,36.1,31.0,28.8,34.0,21.1,21.5,18.0,22.1,15.9,22.8,38.8,32.7,22.2,25.8,19.7,24.8,21.5,23.4,22.9,53.9,26.7,27.5,41.8,22.2,28.1,33.8,33.2,22.3,22.3,28.3,37.3,30.9,28.6,35.8,37.8,30.5,29.8,23.3,41.8,26.1,28.4,21.0,34.5,21.6,24.8,32.5,18.6,24.3,43.9,20.2,29.4,27.5,22.9,26.9,19.4,28.0,30.5,24.8,34.8,37.6,32.0,30.7,18.4,21.2,19.2,23.7,38.1,37.8,39.6,23.2,32.1,18.9,30.5,33.7,23.1,47.1,26.8,20.9,27.7,38.2,27.4,19.3,25.4,42.8,41.9,39.2,29.4,29.8,27.0,24.9,25.8,26.6,33.4,44.3,22.2,20.1,33.1,18.6,25.0,43.7,25.9,26.7,31.9,43.1,32.7,26.6,32.3,28.6,20.6,21.7,29.8,21.8,30.2,39.2,35.8,37.3,21.3,32.4,24.6,30.4,27.9,29.9,25.0,31.4,26.2,24.3,30.8,32.2,31.0,29.1,33.2,16.8,31.1,27.5,39.2,18.0,55.7,20.6,26.2,22.2,28.8,24.9,31.2,19.1,27.6,16.0,27.2,32.5,32.1,32.1,23.4,29.7,29.9,28.4,44.1,33.3,22.1,26.3,32.3,27.6,39.9,25.2,29.8,28.2,27.5,25.4,18.4,33.0,27.7,37.2,25.1,18.0,32.9,18.9,19.1,22.2,28.7,35.3,29.2,22.7,25.1,33.2,31.6,27.5,23.0,26.7,34.4,26.3,32.8,29.3,30.3,18.2,28.1,31.5,26.7,23.4,17.8,28.7,24.7,14.3,13.5,32.4,24.8,19.5,32.1,26.2,22.5,24.7],\"y0\":\" \",\"yaxis\":\"y\",\"type\":\"violin\"}],                        {\"template\":{\"data\":{\"histogram2dcontour\":[{\"type\":\"histogram2dcontour\",\"colorbar\":{\"outlinewidth\":0,\"ticks\":\"\"},\"colorscale\":[[0.0,\"#0d0887\"],[0.1111111111111111,\"#46039f\"],[0.2222222222222222,\"#7201a8\"],[0.3333333333333333,\"#9c179e\"],[0.4444444444444444,\"#bd3786\"],[0.5555555555555556,\"#d8576b\"],[0.6666666666666666,\"#ed7953\"],[0.7777777777777778,\"#fb9f3a\"],[0.8888888888888888,\"#fdca26\"],[1.0,\"#f0f921\"]]}],\"choropleth\":[{\"type\":\"choropleth\",\"colorbar\":{\"outlinewidth\":0,\"ticks\":\"\"}}],\"histogram2d\":[{\"type\":\"histogram2d\",\"colorbar\":{\"outlinewidth\":0,\"ticks\":\"\"},\"colorscale\":[[0.0,\"#0d0887\"],[0.1111111111111111,\"#46039f\"],[0.2222222222222222,\"#7201a8\"],[0.3333333333333333,\"#9c179e\"],[0.4444444444444444,\"#bd3786\"],[0.5555555555555556,\"#d8576b\"],[0.6666666666666666,\"#ed7953\"],[0.7777777777777778,\"#fb9f3a\"],[0.8888888888888888,\"#fdca26\"],[1.0,\"#f0f921\"]]}],\"heatmap\":[{\"type\":\"heatmap\",\"colorbar\":{\"outlinewidth\":0,\"ticks\":\"\"},\"colorscale\":[[0.0,\"#0d0887\"],[0.1111111111111111,\"#46039f\"],[0.2222222222222222,\"#7201a8\"],[0.3333333333333333,\"#9c179e\"],[0.4444444444444444,\"#bd3786\"],[0.5555555555555556,\"#d8576b\"],[0.6666666666666666,\"#ed7953\"],[0.7777777777777778,\"#fb9f3a\"],[0.8888888888888888,\"#fdca26\"],[1.0,\"#f0f921\"]]}],\"heatmapgl\":[{\"type\":\"heatmapgl\",\"colorbar\":{\"outlinewidth\":0,\"ticks\":\"\"},\"colorscale\":[[0.0,\"#0d0887\"],[0.1111111111111111,\"#46039f\"],[0.2222222222222222,\"#7201a8\"],[0.3333333333333333,\"#9c179e\"],[0.4444444444444444,\"#bd3786\"],[0.5555555555555556,\"#d8576b\"],[0.6666666666666666,\"#ed7953\"],[0.7777777777777778,\"#fb9f3a\"],[0.8888888888888888,\"#fdca26\"],[1.0,\"#f0f921\"]]}],\"contourcarpet\":[{\"type\":\"contourcarpet\",\"colorbar\":{\"outlinewidth\":0,\"ticks\":\"\"}}],\"contour\":[{\"type\":\"contour\",\"colorbar\":{\"outlinewidth\":0,\"ticks\":\"\"},\"colorscale\":[[0.0,\"#0d0887\"],[0.1111111111111111,\"#46039f\"],[0.2222222222222222,\"#7201a8\"],[0.3333333333333333,\"#9c179e\"],[0.4444444444444444,\"#bd3786\"],[0.5555555555555556,\"#d8576b\"],[0.6666666666666666,\"#ed7953\"],[0.7777777777777778,\"#fb9f3a\"],[0.8888888888888888,\"#fdca26\"],[1.0,\"#f0f921\"]]}],\"surface\":[{\"type\":\"surface\",\"colorbar\":{\"outlinewidth\":0,\"ticks\":\"\"},\"colorscale\":[[0.0,\"#0d0887\"],[0.1111111111111111,\"#46039f\"],[0.2222222222222222,\"#7201a8\"],[0.3333333333333333,\"#9c179e\"],[0.4444444444444444,\"#bd3786\"],[0.5555555555555556,\"#d8576b\"],[0.6666666666666666,\"#ed7953\"],[0.7777777777777778,\"#fb9f3a\"],[0.8888888888888888,\"#fdca26\"],[1.0,\"#f0f921\"]]}],\"mesh3d\":[{\"type\":\"mesh3d\",\"colorbar\":{\"outlinewidth\":0,\"ticks\":\"\"}}],\"scatter\":[{\"fillpattern\":{\"fillmode\":\"overlay\",\"size\":10,\"solidity\":0.2},\"type\":\"scatter\"}],\"parcoords\":[{\"type\":\"parcoords\",\"line\":{\"colorbar\":{\"outlinewidth\":0,\"ticks\":\"\"}}}],\"scatterpolargl\":[{\"type\":\"scatterpolargl\",\"marker\":{\"colorbar\":{\"outlinewidth\":0,\"ticks\":\"\"}}}],\"bar\":[{\"error_x\":{\"color\":\"#2a3f5f\"},\"error_y\":{\"color\":\"#2a3f5f\"},\"marker\":{\"line\":{\"color\":\"#E5ECF6\",\"width\":0.5},\"pattern\":{\"fillmode\":\"overlay\",\"size\":10,\"solidity\":0.2}},\"type\":\"bar\"}],\"scattergeo\":[{\"type\":\"scattergeo\",\"marker\":{\"colorbar\":{\"outlinewidth\":0,\"ticks\":\"\"}}}],\"scatterpolar\":[{\"type\":\"scatterpolar\",\"marker\":{\"colorbar\":{\"outlinewidth\":0,\"ticks\":\"\"}}}],\"histogram\":[{\"marker\":{\"pattern\":{\"fillmode\":\"overlay\",\"size\":10,\"solidity\":0.2}},\"type\":\"histogram\"}],\"scattergl\":[{\"type\":\"scattergl\",\"marker\":{\"colorbar\":{\"outlinewidth\":0,\"ticks\":\"\"}}}],\"scatter3d\":[{\"type\":\"scatter3d\",\"line\":{\"colorbar\":{\"outlinewidth\":0,\"ticks\":\"\"}},\"marker\":{\"colorbar\":{\"outlinewidth\":0,\"ticks\":\"\"}}}],\"scattermapbox\":[{\"type\":\"scattermapbox\",\"marker\":{\"colorbar\":{\"outlinewidth\":0,\"ticks\":\"\"}}}],\"scatterternary\":[{\"type\":\"scatterternary\",\"marker\":{\"colorbar\":{\"outlinewidth\":0,\"ticks\":\"\"}}}],\"scattercarpet\":[{\"type\":\"scattercarpet\",\"marker\":{\"colorbar\":{\"outlinewidth\":0,\"ticks\":\"\"}}}],\"carpet\":[{\"aaxis\":{\"endlinecolor\":\"#2a3f5f\",\"gridcolor\":\"white\",\"linecolor\":\"white\",\"minorgridcolor\":\"white\",\"startlinecolor\":\"#2a3f5f\"},\"baxis\":{\"endlinecolor\":\"#2a3f5f\",\"gridcolor\":\"white\",\"linecolor\":\"white\",\"minorgridcolor\":\"white\",\"startlinecolor\":\"#2a3f5f\"},\"type\":\"carpet\"}],\"table\":[{\"cells\":{\"fill\":{\"color\":\"#EBF0F8\"},\"line\":{\"color\":\"white\"}},\"header\":{\"fill\":{\"color\":\"#C8D4E3\"},\"line\":{\"color\":\"white\"}},\"type\":\"table\"}],\"barpolar\":[{\"marker\":{\"line\":{\"color\":\"#E5ECF6\",\"width\":0.5},\"pattern\":{\"fillmode\":\"overlay\",\"size\":10,\"solidity\":0.2}},\"type\":\"barpolar\"}],\"pie\":[{\"automargin\":true,\"type\":\"pie\"}]},\"layout\":{\"autotypenumbers\":\"strict\",\"colorway\":[\"#636efa\",\"#EF553B\",\"#00cc96\",\"#ab63fa\",\"#FFA15A\",\"#19d3f3\",\"#FF6692\",\"#B6E880\",\"#FF97FF\",\"#FECB52\"],\"font\":{\"color\":\"#2a3f5f\"},\"hovermode\":\"closest\",\"hoverlabel\":{\"align\":\"left\"},\"paper_bgcolor\":\"white\",\"plot_bgcolor\":\"#E5ECF6\",\"polar\":{\"bgcolor\":\"#E5ECF6\",\"angularaxis\":{\"gridcolor\":\"white\",\"linecolor\":\"white\",\"ticks\":\"\"},\"radialaxis\":{\"gridcolor\":\"white\",\"linecolor\":\"white\",\"ticks\":\"\"}},\"ternary\":{\"bgcolor\":\"#E5ECF6\",\"aaxis\":{\"gridcolor\":\"white\",\"linecolor\":\"white\",\"ticks\":\"\"},\"baxis\":{\"gridcolor\":\"white\",\"linecolor\":\"white\",\"ticks\":\"\"},\"caxis\":{\"gridcolor\":\"white\",\"linecolor\":\"white\",\"ticks\":\"\"}},\"coloraxis\":{\"colorbar\":{\"outlinewidth\":0,\"ticks\":\"\"}},\"colorscale\":{\"sequential\":[[0.0,\"#0d0887\"],[0.1111111111111111,\"#46039f\"],[0.2222222222222222,\"#7201a8\"],[0.3333333333333333,\"#9c179e\"],[0.4444444444444444,\"#bd3786\"],[0.5555555555555556,\"#d8576b\"],[0.6666666666666666,\"#ed7953\"],[0.7777777777777778,\"#fb9f3a\"],[0.8888888888888888,\"#fdca26\"],[1.0,\"#f0f921\"]],\"sequentialminus\":[[0.0,\"#0d0887\"],[0.1111111111111111,\"#46039f\"],[0.2222222222222222,\"#7201a8\"],[0.3333333333333333,\"#9c179e\"],[0.4444444444444444,\"#bd3786\"],[0.5555555555555556,\"#d8576b\"],[0.6666666666666666,\"#ed7953\"],[0.7777777777777778,\"#fb9f3a\"],[0.8888888888888888,\"#fdca26\"],[1.0,\"#f0f921\"]],\"diverging\":[[0,\"#8e0152\"],[0.1,\"#c51b7d\"],[0.2,\"#de77ae\"],[0.3,\"#f1b6da\"],[0.4,\"#fde0ef\"],[0.5,\"#f7f7f7\"],[0.6,\"#e6f5d0\"],[0.7,\"#b8e186\"],[0.8,\"#7fbc41\"],[0.9,\"#4d9221\"],[1,\"#276419\"]]},\"xaxis\":{\"gridcolor\":\"white\",\"linecolor\":\"white\",\"ticks\":\"\",\"title\":{\"standoff\":15},\"zerolinecolor\":\"white\",\"automargin\":true,\"zerolinewidth\":2},\"yaxis\":{\"gridcolor\":\"white\",\"linecolor\":\"white\",\"ticks\":\"\",\"title\":{\"standoff\":15},\"zerolinecolor\":\"white\",\"automargin\":true,\"zerolinewidth\":2},\"scene\":{\"xaxis\":{\"backgroundcolor\":\"#E5ECF6\",\"gridcolor\":\"white\",\"linecolor\":\"white\",\"showbackground\":true,\"ticks\":\"\",\"zerolinecolor\":\"white\",\"gridwidth\":2},\"yaxis\":{\"backgroundcolor\":\"#E5ECF6\",\"gridcolor\":\"white\",\"linecolor\":\"white\",\"showbackground\":true,\"ticks\":\"\",\"zerolinecolor\":\"white\",\"gridwidth\":2},\"zaxis\":{\"backgroundcolor\":\"#E5ECF6\",\"gridcolor\":\"white\",\"linecolor\":\"white\",\"showbackground\":true,\"ticks\":\"\",\"zerolinecolor\":\"white\",\"gridwidth\":2}},\"shapedefaults\":{\"line\":{\"color\":\"#2a3f5f\"}},\"annotationdefaults\":{\"arrowcolor\":\"#2a3f5f\",\"arrowhead\":0,\"arrowwidth\":1},\"geo\":{\"bgcolor\":\"white\",\"landcolor\":\"#E5ECF6\",\"subunitcolor\":\"white\",\"showland\":true,\"showlakes\":true,\"lakecolor\":\"white\"},\"title\":{\"x\":0.05},\"mapbox\":{\"style\":\"light\"}}},\"xaxis\":{\"anchor\":\"y\",\"domain\":[0.0,1.0],\"title\":{\"text\":\"Stroke Status\"}},\"yaxis\":{\"anchor\":\"x\",\"domain\":[0.0,1.0],\"title\":{\"text\":\"BMI\"}},\"legend\":{\"tracegroupgap\":0},\"title\":{\"text\":\"BMI & Stroke Status\",\"x\":0.3,\"y\":0.9},\"violinmode\":\"group\",\"height\":500,\"width\":700},                        {\"responsive\": true}                    ).then(function(){\n",
              "                            \n",
              "var gd = document.getElementById('22a3ff24-4f5f-449e-ad46-80bb13ba5000');\n",
              "var x = new MutationObserver(function (mutations, observer) {{\n",
              "        var display = window.getComputedStyle(gd).display;\n",
              "        if (!display || display === 'none') {{\n",
              "            console.log([gd, 'removed!']);\n",
              "            Plotly.purge(gd);\n",
              "            observer.disconnect();\n",
              "        }}\n",
              "}});\n",
              "\n",
              "// Listen for the removal of the full notebook cells\n",
              "var notebookContainer = gd.closest('#notebook-container');\n",
              "if (notebookContainer) {{\n",
              "    x.observe(notebookContainer, {childList: true});\n",
              "}}\n",
              "\n",
              "// Listen for the clearing of the current output cell\n",
              "var outputEl = gd.closest('.output');\n",
              "if (outputEl) {{\n",
              "    x.observe(outputEl, {childList: true});\n",
              "}}\n",
              "\n",
              "                        })                };                            </script>        </div>\n",
              "</body>\n",
              "</html>"
            ]
          },
          "metadata": {}
        }
      ]
    },
    {
      "cell_type": "code",
      "source": [
        "train_df.columns"
      ],
      "metadata": {
        "colab": {
          "base_uri": "https://localhost:8080/"
        },
        "id": "ut2Cfz-7XNiP",
        "outputId": "19f8654c-28e0-4699-8d69-f24fc68dde70"
      },
      "execution_count": null,
      "outputs": [
        {
          "output_type": "execute_result",
          "data": {
            "text/plain": [
              "Index(['id', 'gender', 'age', 'hypertension', 'heart_disease', 'ever_married',\n",
              "       'work_type', 'Residence_type', 'avg_glucose_level', 'bmi',\n",
              "       'smoking_status', 'stroke'],\n",
              "      dtype='object')"
            ]
          },
          "metadata": {},
          "execution_count": 95
        }
      ]
    },
    {
      "cell_type": "code",
      "source": [
        "x_values = ['smoking_status', 'hypertension', 'heart_disease','Residence_type','gender', 'ever_married']\n",
        "fig, axis = plt.subplots(nrows = 3, ncols = 2, figsize=(12, 10))\n",
        "\n",
        "for ax, x_value in zip(axis.flat, x_values):\n",
        "    sns.countplot(data = train_df, x = x_value, hue='stroke', ax = ax)\n",
        "    ax.set_title(f'{x_value.capitalize()} and smoking status')\n",
        "\n",
        "plt.tight_layout()\n",
        "plt.show()"
      ],
      "metadata": {
        "colab": {
          "base_uri": "https://localhost:8080/",
          "height": 1000
        },
        "id": "DAF4tT2AXS9X",
        "outputId": "4bd5a496-6894-465d-e26c-14762b1422de"
      },
      "execution_count": null,
      "outputs": [
        {
          "output_type": "display_data",
          "data": {
            "text/plain": [
              "<Figure size 1200x1000 with 6 Axes>"
            ],
            "image/png": "[encoded data removed]"
          },
          "metadata": {}
        }
      ]
    },
    {
      "cell_type": "code",
      "source": [
        "# Data Preparation & Preprocessing\n",
        "from sklearn.preprocessing import OneHotEncoder, OrdinalEncoder\n",
        "from sklearn.pipeline import Pipeline\n",
        "from sklearn.compose import ColumnTransformer\n",
        "from sklearn import set_config\n",
        "\n",
        "set_config(display = 'diagram')"
      ],
      "metadata": {
        "id": "OX9KvoCgXVG3"
      },
      "execution_count": null,
      "outputs": []
    },
    {
      "cell_type": "code",
      "source": [
        "train_df.columns"
      ],
      "metadata": {
        "colab": {
          "base_uri": "https://localhost:8080/"
        },
        "id": "NLQSYUi2XaJX",
        "outputId": "69f93a36-5a45-4f58-82c3-b61f369dbbd2"
      },
      "execution_count": null,
      "outputs": [
        {
          "output_type": "execute_result",
          "data": {
            "text/plain": [
              "Index(['id', 'gender', 'age', 'hypertension', 'heart_disease', 'ever_married',\n",
              "       'work_type', 'Residence_type', 'avg_glucose_level', 'bmi',\n",
              "       'smoking_status', 'stroke'],\n",
              "      dtype='object')"
            ]
          },
          "metadata": {},
          "execution_count": 98
        }
      ]
    },
    {
      "cell_type": "code",
      "source": [
        "input_cols = list(train_df.columns)[1:-1]"
      ],
      "metadata": {
        "id": "PzyrxyL4XcB_"
      },
      "execution_count": null,
      "outputs": []
    },
    {
      "cell_type": "code",
      "source": [
        "target_col = 'stroke'"
      ],
      "metadata": {
        "id": "Kg3GEODTXeEW"
      },
      "execution_count": null,
      "outputs": []
    },
    {
      "cell_type": "code",
      "source": [
        "input_cols"
      ],
      "metadata": {
        "colab": {
          "base_uri": "https://localhost:8080/"
        },
        "id": "4d7jjPKoXiE_",
        "outputId": "5b4b26ce-acee-437b-e67f-242774bf7776"
      },
      "execution_count": null,
      "outputs": [
        {
          "output_type": "execute_result",
          "data": {
            "text/plain": [
              "['gender',\n",
              " 'age',\n",
              " 'hypertension',\n",
              " 'heart_disease',\n",
              " 'ever_married',\n",
              " 'work_type',\n",
              " 'Residence_type',\n",
              " 'avg_glucose_level',\n",
              " 'bmi',\n",
              " 'smoking_status']"
            ]
          },
          "metadata": {},
          "execution_count": 102
        }
      ]
    },
    {
      "cell_type": "code",
      "source": [
        "train_inputs = train_df[input_cols].copy()\n",
        "train_target = train_df[target_col].copy()\n",
        "\n",
        "test_inputs = test_df[input_cols].copy()"
      ],
      "metadata": {
        "id": "9jEsFf--Xju3"
      },
      "execution_count": null,
      "outputs": []
    },
    {
      "cell_type": "code",
      "source": [
        "numerical_cols = train_inputs.select_dtypes(include=np.number).columns.to_list()"
      ],
      "metadata": {
        "id": "Zxb1mxTWXlmP"
      },
      "execution_count": null,
      "outputs": []
    },
    {
      "cell_type": "code",
      "source": [
        "numerical_cols"
      ],
      "metadata": {
        "colab": {
          "base_uri": "https://localhost:8080/"
        },
        "id": "TER0ADzMXssQ",
        "outputId": "2540c73e-fd98-41b3-f055-ec994b914aac"
      },
      "execution_count": null,
      "outputs": [
        {
          "output_type": "execute_result",
          "data": {
            "text/plain": [
              "['age', 'hypertension', 'heart_disease', 'avg_glucose_level', 'bmi']"
            ]
          },
          "metadata": {},
          "execution_count": 105
        }
      ]
    },
    {
      "cell_type": "code",
      "source": [
        "categorical_cols = train_inputs.select_dtypes(include='object').columns.to_list()"
      ],
      "metadata": {
        "id": "mvjJsfBQXuJP"
      },
      "execution_count": null,
      "outputs": []
    },
    {
      "cell_type": "code",
      "source": [
        "categorical_cols"
      ],
      "metadata": {
        "colab": {
          "base_uri": "https://localhost:8080/"
        },
        "id": "ETRsirBOXviv",
        "outputId": "64b1d0a9-c570-445d-ebe0-62d6ebb0815a"
      },
      "execution_count": null,
      "outputs": [
        {
          "output_type": "execute_result",
          "data": {
            "text/plain": [
              "['gender', 'ever_married', 'work_type', 'Residence_type', 'smoking_status']"
            ]
          },
          "metadata": {},
          "execution_count": 108
        }
      ]
    },
    {
      "cell_type": "code",
      "source": [
        "categorical_cols.remove('smoking_status')"
      ],
      "metadata": {
        "id": "StdPMhI9Xy_g"
      },
      "execution_count": null,
      "outputs": []
    },
    {
      "cell_type": "code",
      "source": [
        "train_df['smoking_status'].unique()"
      ],
      "metadata": {
        "colab": {
          "base_uri": "https://localhost:8080/"
        },
        "id": "lHcgG_wwX0pf",
        "outputId": "61e41af1-ed48-4028-c4aa-39995d3464c9"
      },
      "execution_count": null,
      "outputs": [
        {
          "output_type": "execute_result",
          "data": {
            "text/plain": [
              "array(['never smoked', 'formerly smoked', 'Unknown', 'smokes'],\n",
              "      dtype=object)"
            ]
          },
          "metadata": {},
          "execution_count": 110
        }
      ]
    },
    {
      "cell_type": "code",
      "source": [
        "ordinal_enc = OrdinalEncoder(categories=[['Unknown','never smoked', 'formerly smoked','smokes']])"
      ],
      "metadata": {
        "id": "Uh8FOyOWX2U2"
      },
      "execution_count": null,
      "outputs": []
    },
    {
      "cell_type": "code",
      "source": [
        "onehot_enc = OneHotEncoder(handle_unknown='ignore')"
      ],
      "metadata": {
        "id": "VMoqDUrmX4A3"
      },
      "execution_count": null,
      "outputs": []
    },
    {
      "cell_type": "code",
      "source": [
        "preprocessor = ColumnTransformer([\n",
        "    ('Ordinal_Encode', ordinal_enc,['smoking_status']),\n",
        "    ('OneHot_Encode', onehot_enc,categorical_cols)\n",
        "]\n",
        ")"
      ],
      "metadata": {
        "id": "oorS1TWkX51f"
      },
      "execution_count": null,
      "outputs": []
    },
    {
      "cell_type": "code",
      "source": [
        "preprocessor.fit(train_inputs)"
      ],
      "metadata": {
        "colab": {
          "base_uri": "https://localhost:8080/",
          "height": 338
        },
        "id": "v3LEq8DeX7SG",
        "outputId": "0e7a3ab4-5705-4dc4-df11-82dc8e9e2e1d"
      },
      "execution_count": null,
      "outputs": [
        {
          "output_type": "execute_result",
          "data": {
            "text/plain": [
              "ColumnTransformer(transformers=[('Ordinal_Encode',\n",
              "                                 OrdinalEncoder(categories=[['Unknown',\n",
              "                                                             'never smoked',\n",
              "                                                             'formerly smoked',\n",
              "                                                             'smokes']]),\n",
              "                                 ['smoking_status']),\n",
              "                                ('OneHot_Encode',\n",
              "                                 OneHotEncoder(handle_unknown='ignore'),\n",
              "                                 ['gender', 'ever_married', 'work_type',\n",
              "                                  'Residence_type'])])"
            ],
            "text/html": [
              "<style>#sk-container-id-2 {\n",
              "  /* Definition of color scheme common for light and dark mode */\n",
              "  --sklearn-color-text: black;\n",
              "  --sklearn-color-line: gray;\n",
              "  /* Definition of color scheme for unfitted estimators */\n",
              "  --sklearn-color-unfitted-level-0: #fff5e6;\n",
              "  --sklearn-color-unfitted-level-1: #f6e4d2;\n",
              "  --sklearn-color-unfitted-level-2: #ffe0b3;\n",
              "  --sklearn-color-unfitted-level-3: chocolate;\n",
              "  /* Definition of color scheme for fitted estimators */\n",
              "  --sklearn-color-fitted-level-0: #f0f8ff;\n",
              "  --sklearn-color-fitted-level-1: #d4ebff;\n",
              "  --sklearn-color-fitted-level-2: #b3dbfd;\n",
              "  --sklearn-color-fitted-level-3: cornflowerblue;\n",
              "\n",
              "  /* Specific color for light theme */\n",
              "  --sklearn-color-text-on-default-background: var(--sg-text-color, var(--theme-code-foreground, var(--jp-content-font-color1, black)));\n",
              "  --sklearn-color-background: var(--sg-background-color, var(--theme-background, var(--jp-layout-color0, white)));\n",
              "  --sklearn-color-border-box: var(--sg-text-color, var(--theme-code-foreground, var(--jp-content-font-color1, black)));\n",
              "  --sklearn-color-icon: #696969;\n",
              "\n",
              "  @media (prefers-color-scheme: dark) {\n",
              "    /* Redefinition of color scheme for dark theme */\n",
              "    --sklearn-color-text-on-default-background: var(--sg-text-color, var(--theme-code-foreground, var(--jp-content-font-color1, white)));\n",
              "    --sklearn-color-background: var(--sg-background-color, var(--theme-background, var(--jp-layout-color0, #111)));\n",
              "    --sklearn-color-border-box: var(--sg-text-color, var(--theme-code-foreground, var(--jp-content-font-color1, white)));\n",
              "    --sklearn-color-icon: #878787;\n",
              "  }\n",
              "}\n",
              "\n",
              "#sk-container-id-2 {\n",
              "  color: var(--sklearn-color-text);\n",
              "}\n",
              "\n",
              "#sk-container-id-2 pre {\n",
              "  padding: 0;\n",
              "}\n",
              "\n",
              "#sk-container-id-2 input.sk-hidden--visually {\n",
              "  border: 0;\n",
              "  clip: rect(1px 1px 1px 1px);\n",
              "  clip: rect(1px, 1px, 1px, 1px);\n",
              "  height: 1px;\n",
              "  margin: -1px;\n",
              "  overflow: hidden;\n",
              "  padding: 0;\n",
              "  position: absolute;\n",
              "  width: 1px;\n",
              "}\n",
              "\n",
              "#sk-container-id-2 div.sk-dashed-wrapped {\n",
              "  border: 1px dashed var(--sklearn-color-line);\n",
              "  margin: 0 0.4em 0.5em 0.4em;\n",
              "  box-sizing: border-box;\n",
              "  padding-bottom: 0.4em;\n",
              "  background-color: var(--sklearn-color-background);\n",
              "}\n",
              "\n",
              "#sk-container-id-2 div.sk-container {\n",
              "  /* jupyter's `normalize.less` sets `[hidden] { display: none; }`\n",
              "     but bootstrap.min.css set `[hidden] { display: none !important; }`\n",
              "     so we also need the `!important` here to be able to override the\n",
              "     default hidden behavior on the sphinx rendered scikit-learn.org.\n",
              "     See: https://github.com/scikit-learn/scikit-learn/issues/21755 */\n",
              "  display: inline-block !important;\n",
              "  position: relative;\n",
              "}\n",
              "\n",
              "#sk-container-id-2 div.sk-text-repr-fallback {\n",
              "  display: none;\n",
              "}\n",
              "\n",
              "div.sk-parallel-item,\n",
              "div.sk-serial,\n",
              "div.sk-item {\n",
              "  /* draw centered vertical line to link estimators */\n",
              "  background-image: linear-gradient(var(--sklearn-color-text-on-default-background), var(--sklearn-color-text-on-default-background));\n",
              "  background-size: 2px 100%;\n",
              "  background-repeat: no-repeat;\n",
              "  background-position: center center;\n",
              "}\n",
              "\n",
              "/* Parallel-specific style estimator block */\n",
              "\n",
              "#sk-container-id-2 div.sk-parallel-item::after {\n",
              "  content: \"\";\n",
              "  width: 100%;\n",
              "  border-bottom: 2px solid var(--sklearn-color-text-on-default-background);\n",
              "  flex-grow: 1;\n",
              "}\n",
              "\n",
              "#sk-container-id-2 div.sk-parallel {\n",
              "  display: flex;\n",
              "  align-items: stretch;\n",
              "  justify-content: center;\n",
              "  background-color: var(--sklearn-color-background);\n",
              "  position: relative;\n",
              "}\n",
              "\n",
              "#sk-container-id-2 div.sk-parallel-item {\n",
              "  display: flex;\n",
              "  flex-direction: column;\n",
              "}\n",
              "\n",
              "#sk-container-id-2 div.sk-parallel-item:first-child::after {\n",
              "  align-self: flex-end;\n",
              "  width: 50%;\n",
              "}\n",
              "\n",
              "#sk-container-id-2 div.sk-parallel-item:last-child::after {\n",
              "  align-self: flex-start;\n",
              "  width: 50%;\n",
              "}\n",
              "\n",
              "#sk-container-id-2 div.sk-parallel-item:only-child::after {\n",
              "  width: 0;\n",
              "}\n",
              "\n",
              "/* Serial-specific style estimator block */\n",
              "\n",
              "#sk-container-id-2 div.sk-serial {\n",
              "  display: flex;\n",
              "  flex-direction: column;\n",
              "  align-items: center;\n",
              "  background-color: var(--sklearn-color-background);\n",
              "  padding-right: 1em;\n",
              "  padding-left: 1em;\n",
              "}\n",
              "\n",
              "\n",
              "/* Toggleable style: style used for estimator/Pipeline/ColumnTransformer box that is\n",
              "clickable and can be expanded/collapsed.\n",
              "- Pipeline and ColumnTransformer use this feature and define the default style\n",
              "- Estimators will overwrite some part of the style using the `sk-estimator` class\n",
              "*/\n",
              "\n",
              "/* Pipeline and ColumnTransformer style (default) */\n",
              "\n",
              "#sk-container-id-2 div.sk-toggleable {\n",
              "  /* Default theme specific background. It is overwritten whether we have a\n",
              "  specific estimator or a Pipeline/ColumnTransformer */\n",
              "  background-color: var(--sklearn-color-background);\n",
              "}\n",
              "\n",
              "/* Toggleable label */\n",
              "#sk-container-id-2 label.sk-toggleable__label {\n",
              "  cursor: pointer;\n",
              "  display: block;\n",
              "  width: 100%;\n",
              "  margin-bottom: 0;\n",
              "  padding: 0.5em;\n",
              "  box-sizing: border-box;\n",
              "  text-align: center;\n",
              "}\n",
              "\n",
              "#sk-container-id-2 label.sk-toggleable__label-arrow:before {\n",
              "  /* Arrow on the left of the label */\n",
              "  content: \"▸\";\n",
              "  float: left;\n",
              "  margin-right: 0.25em;\n",
              "  color: var(--sklearn-color-icon);\n",
              "}\n",
              "\n",
              "#sk-container-id-2 label.sk-toggleable__label-arrow:hover:before {\n",
              "  color: var(--sklearn-color-text);\n",
              "}\n",
              "\n",
              "/* Toggleable content - dropdown */\n",
              "\n",
              "#sk-container-id-2 div.sk-toggleable__content {\n",
              "  max-height: 0;\n",
              "  max-width: 0;\n",
              "  overflow: hidden;\n",
              "  text-align: left;\n",
              "  /* unfitted */\n",
              "  background-color: var(--sklearn-color-unfitted-level-0);\n",
              "}\n",
              "\n",
              "#sk-container-id-2 div.sk-toggleable__content.fitted {\n",
              "  /* fitted */\n",
              "  background-color: var(--sklearn-color-fitted-level-0);\n",
              "}\n",
              "\n",
              "#sk-container-id-2 div.sk-toggleable__content pre {\n",
              "  margin: 0.2em;\n",
              "  border-radius: 0.25em;\n",
              "  color: var(--sklearn-color-text);\n",
              "  /* unfitted */\n",
              "  background-color: var(--sklearn-color-unfitted-level-0);\n",
              "}\n",
              "\n",
              "#sk-container-id-2 div.sk-toggleable__content.fitted pre {\n",
              "  /* unfitted */\n",
              "  background-color: var(--sklearn-color-fitted-level-0);\n",
              "}\n",
              "\n",
              "#sk-container-id-2 input.sk-toggleable__control:checked~div.sk-toggleable__content {\n",
              "  /* Expand drop-down */\n",
              "  max-height: 200px;\n",
              "  max-width: 100%;\n",
              "  overflow: auto;\n",
              "}\n",
              "\n",
              "#sk-container-id-2 input.sk-toggleable__control:checked~label.sk-toggleable__label-arrow:before {\n",
              "  content: \"▾\";\n",
              "}\n",
              "\n",
              "/* Pipeline/ColumnTransformer-specific style */\n",
              "\n",
              "#sk-container-id-2 div.sk-label input.sk-toggleable__control:checked~label.sk-toggleable__label {\n",
              "  color: var(--sklearn-color-text);\n",
              "  background-color: var(--sklearn-color-unfitted-level-2);\n",
              "}\n",
              "\n",
              "#sk-container-id-2 div.sk-label.fitted input.sk-toggleable__control:checked~label.sk-toggleable__label {\n",
              "  background-color: var(--sklearn-color-fitted-level-2);\n",
              "}\n",
              "\n",
              "/* Estimator-specific style */\n",
              "\n",
              "/* Colorize estimator box */\n",
              "#sk-container-id-2 div.sk-estimator input.sk-toggleable__control:checked~label.sk-toggleable__label {\n",
              "  /* unfitted */\n",
              "  background-color: var(--sklearn-color-unfitted-level-2);\n",
              "}\n",
              "\n",
              "#sk-container-id-2 div.sk-estimator.fitted input.sk-toggleable__control:checked~label.sk-toggleable__label {\n",
              "  /* fitted */\n",
              "  background-color: var(--sklearn-color-fitted-level-2);\n",
              "}\n",
              "\n",
              "#sk-container-id-2 div.sk-label label.sk-toggleable__label,\n",
              "#sk-container-id-2 div.sk-label label {\n",
              "  /* The background is the default theme color */\n",
              "  color: var(--sklearn-color-text-on-default-background);\n",
              "}\n",
              "\n",
              "/* On hover, darken the color of the background */\n",
              "#sk-container-id-2 div.sk-label:hover label.sk-toggleable__label {\n",
              "  color: var(--sklearn-color-text);\n",
              "  background-color: var(--sklearn-color-unfitted-level-2);\n",
              "}\n",
              "\n",
              "/* Label box, darken color on hover, fitted */\n",
              "#sk-container-id-2 div.sk-label.fitted:hover label.sk-toggleable__label.fitted {\n",
              "  color: var(--sklearn-color-text);\n",
              "  background-color: var(--sklearn-color-fitted-level-2);\n",
              "}\n",
              "\n",
              "/* Estimator label */\n",
              "\n",
              "#sk-container-id-2 div.sk-label label {\n",
              "  font-family: monospace;\n",
              "  font-weight: bold;\n",
              "  display: inline-block;\n",
              "  line-height: 1.2em;\n",
              "}\n",
              "\n",
              "#sk-container-id-2 div.sk-label-container {\n",
              "  text-align: center;\n",
              "}\n",
              "\n",
              "/* Estimator-specific */\n",
              "#sk-container-id-2 div.sk-estimator {\n",
              "  font-family: monospace;\n",
              "  border: 1px dotted var(--sklearn-color-border-box);\n",
              "  border-radius: 0.25em;\n",
              "  box-sizing: border-box;\n",
              "  margin-bottom: 0.5em;\n",
              "  /* unfitted */\n",
              "  background-color: var(--sklearn-color-unfitted-level-0);\n",
              "}\n",
              "\n",
              "#sk-container-id-2 div.sk-estimator.fitted {\n",
              "  /* fitted */\n",
              "  background-color: var(--sklearn-color-fitted-level-0);\n",
              "}\n",
              "\n",
              "/* on hover */\n",
              "#sk-container-id-2 div.sk-estimator:hover {\n",
              "  /* unfitted */\n",
              "  background-color: var(--sklearn-color-unfitted-level-2);\n",
              "}\n",
              "\n",
              "#sk-container-id-2 div.sk-estimator.fitted:hover {\n",
              "  /* fitted */\n",
              "  background-color: var(--sklearn-color-fitted-level-2);\n",
              "}\n",
              "\n",
              "/* Specification for estimator info (e.g. \"i\" and \"?\") */\n",
              "\n",
              "/* Common style for \"i\" and \"?\" */\n",
              "\n",
              ".sk-estimator-doc-link,\n",
              "a:link.sk-estimator-doc-link,\n",
              "a:visited.sk-estimator-doc-link {\n",
              "  float: right;\n",
              "  font-size: smaller;\n",
              "  line-height: 1em;\n",
              "  font-family: monospace;\n",
              "  background-color: var(--sklearn-color-background);\n",
              "  border-radius: 1em;\n",
              "  height: 1em;\n",
              "  width: 1em;\n",
              "  text-decoration: none !important;\n",
              "  margin-left: 1ex;\n",
              "  /* unfitted */\n",
              "  border: var(--sklearn-color-unfitted-level-1) 1pt solid;\n",
              "  color: var(--sklearn-color-unfitted-level-1);\n",
              "}\n",
              "\n",
              ".sk-estimator-doc-link.fitted,\n",
              "a:link.sk-estimator-doc-link.fitted,\n",
              "a:visited.sk-estimator-doc-link.fitted {\n",
              "  /* fitted */\n",
              "  border: var(--sklearn-color-fitted-level-1) 1pt solid;\n",
              "  color: var(--sklearn-color-fitted-level-1);\n",
              "}\n",
              "\n",
              "/* On hover */\n",
              "div.sk-estimator:hover .sk-estimator-doc-link:hover,\n",
              ".sk-estimator-doc-link:hover,\n",
              "div.sk-label-container:hover .sk-estimator-doc-link:hover,\n",
              ".sk-estimator-doc-link:hover {\n",
              "  /* unfitted */\n",
              "  background-color: var(--sklearn-color-unfitted-level-3);\n",
              "  color: var(--sklearn-color-background);\n",
              "  text-decoration: none;\n",
              "}\n",
              "\n",
              "div.sk-estimator.fitted:hover .sk-estimator-doc-link.fitted:hover,\n",
              ".sk-estimator-doc-link.fitted:hover,\n",
              "div.sk-label-container:hover .sk-estimator-doc-link.fitted:hover,\n",
              ".sk-estimator-doc-link.fitted:hover {\n",
              "  /* fitted */\n",
              "  background-color: var(--sklearn-color-fitted-level-3);\n",
              "  color: var(--sklearn-color-background);\n",
              "  text-decoration: none;\n",
              "}\n",
              "\n",
              "/* Span, style for the box shown on hovering the info icon */\n",
              ".sk-estimator-doc-link span {\n",
              "  display: none;\n",
              "  z-index: 9999;\n",
              "  position: relative;\n",
              "  font-weight: normal;\n",
              "  right: .2ex;\n",
              "  padding: .5ex;\n",
              "  margin: .5ex;\n",
              "  width: min-content;\n",
              "  min-width: 20ex;\n",
              "  max-width: 50ex;\n",
              "  color: var(--sklearn-color-text);\n",
              "  box-shadow: 2pt 2pt 4pt #999;\n",
              "  /* unfitted */\n",
              "  background: var(--sklearn-color-unfitted-level-0);\n",
              "  border: .5pt solid var(--sklearn-color-unfitted-level-3);\n",
              "}\n",
              "\n",
              ".sk-estimator-doc-link.fitted span {\n",
              "  /* fitted */\n",
              "  background: var(--sklearn-color-fitted-level-0);\n",
              "  border: var(--sklearn-color-fitted-level-3);\n",
              "}\n",
              "\n",
              ".sk-estimator-doc-link:hover span {\n",
              "  display: block;\n",
              "}\n",
              "\n",
              "/* \"?\"-specific style due to the `<a>` HTML tag */\n",
              "\n",
              "#sk-container-id-2 a.estimator_doc_link {\n",
              "  float: right;\n",
              "  font-size: 1rem;\n",
              "  line-height: 1em;\n",
              "  font-family: monospace;\n",
              "  background-color: var(--sklearn-color-background);\n",
              "  border-radius: 1rem;\n",
              "  height: 1rem;\n",
              "  width: 1rem;\n",
              "  text-decoration: none;\n",
              "  /* unfitted */\n",
              "  color: var(--sklearn-color-unfitted-level-1);\n",
              "  border: var(--sklearn-color-unfitted-level-1) 1pt solid;\n",
              "}\n",
              "\n",
              "#sk-container-id-2 a.estimator_doc_link.fitted {\n",
              "  /* fitted */\n",
              "  border: var(--sklearn-color-fitted-level-1) 1pt solid;\n",
              "  color: var(--sklearn-color-fitted-level-1);\n",
              "}\n",
              "\n",
              "/* On hover */\n",
              "#sk-container-id-2 a.estimator_doc_link:hover {\n",
              "  /* unfitted */\n",
              "  background-color: var(--sklearn-color-unfitted-level-3);\n",
              "  color: var(--sklearn-color-background);\n",
              "  text-decoration: none;\n",
              "}\n",
              "\n",
              "#sk-container-id-2 a.estimator_doc_link.fitted:hover {\n",
              "  /* fitted */\n",
              "  background-color: var(--sklearn-color-fitted-level-3);\n",
              "}\n",
              "</style><div id=\"sk-container-id-2\" class=\"sk-top-container\"><div class=\"sk-text-repr-fallback\"><pre>ColumnTransformer(transformers=[(&#x27;Ordinal_Encode&#x27;,\n",
              "                                 OrdinalEncoder(categories=[[&#x27;Unknown&#x27;,\n",
              "                                                             &#x27;never smoked&#x27;,\n",
              "                                                             &#x27;formerly smoked&#x27;,\n",
              "                                                             &#x27;smokes&#x27;]]),\n",
              "                                 [&#x27;smoking_status&#x27;]),\n",
              "                                (&#x27;OneHot_Encode&#x27;,\n",
              "                                 OneHotEncoder(handle_unknown=&#x27;ignore&#x27;),\n",
              "                                 [&#x27;gender&#x27;, &#x27;ever_married&#x27;, &#x27;work_type&#x27;,\n",
              "                                  &#x27;Residence_type&#x27;])])</pre><b>In a Jupyter environment, please rerun this cell to show the HTML representation or trust the notebook. <br />On GitHub, the HTML representation is unable to render, please try loading this page with nbviewer.org.</b></div><div class=\"sk-container\" hidden><div class=\"sk-item sk-dashed-wrapped\"><div class=\"sk-label-container\"><div class=\"sk-label fitted sk-toggleable\"><input class=\"sk-toggleable__control sk-hidden--visually\" id=\"sk-estimator-id-6\" type=\"checkbox\" ><label for=\"sk-estimator-id-6\" class=\"sk-toggleable__label fitted sk-toggleable__label-arrow fitted\">&nbsp;&nbsp;ColumnTransformer<a class=\"sk-estimator-doc-link fitted\" rel=\"noreferrer\" target=\"_blank\" href=\"https://scikit-learn.org/1.5/modules/generated/sklearn.compose.ColumnTransformer.html\">?<span>Documentation for ColumnTransformer</span></a><span class=\"sk-estimator-doc-link fitted\">i<span>Fitted</span></span></label><div class=\"sk-toggleable__content fitted\"><pre>ColumnTransformer(transformers=[(&#x27;Ordinal_Encode&#x27;,\n",
              "                                 OrdinalEncoder(categories=[[&#x27;Unknown&#x27;,\n",
              "                                                             &#x27;never smoked&#x27;,\n",
              "                                                             &#x27;formerly smoked&#x27;,\n",
              "                                                             &#x27;smokes&#x27;]]),\n",
              "                                 [&#x27;smoking_status&#x27;]),\n",
              "                                (&#x27;OneHot_Encode&#x27;,\n",
              "                                 OneHotEncoder(handle_unknown=&#x27;ignore&#x27;),\n",
              "                                 [&#x27;gender&#x27;, &#x27;ever_married&#x27;, &#x27;work_type&#x27;,\n",
              "                                  &#x27;Residence_type&#x27;])])</pre></div> </div></div><div class=\"sk-parallel\"><div class=\"sk-parallel-item\"><div class=\"sk-item\"><div class=\"sk-label-container\"><div class=\"sk-label fitted sk-toggleable\"><input class=\"sk-toggleable__control sk-hidden--visually\" id=\"sk-estimator-id-7\" type=\"checkbox\" ><label for=\"sk-estimator-id-7\" class=\"sk-toggleable__label fitted sk-toggleable__label-arrow fitted\">Ordinal_Encode</label><div class=\"sk-toggleable__content fitted\"><pre>[&#x27;smoking_status&#x27;]</pre></div> </div></div><div class=\"sk-serial\"><div class=\"sk-item\"><div class=\"sk-estimator fitted sk-toggleable\"><input class=\"sk-toggleable__control sk-hidden--visually\" id=\"sk-estimator-id-8\" type=\"checkbox\" ><label for=\"sk-estimator-id-8\" class=\"sk-toggleable__label fitted sk-toggleable__label-arrow fitted\">&nbsp;OrdinalEncoder<a class=\"sk-estimator-doc-link fitted\" rel=\"noreferrer\" target=\"_blank\" href=\"https://scikit-learn.org/1.5/modules/generated/sklearn.preprocessing.OrdinalEncoder.html\">?<span>Documentation for OrdinalEncoder</span></a></label><div class=\"sk-toggleable__content fitted\"><pre>OrdinalEncoder(categories=[[&#x27;Unknown&#x27;, &#x27;never smoked&#x27;, &#x27;formerly smoked&#x27;,\n",
              "                            &#x27;smokes&#x27;]])</pre></div> </div></div></div></div></div><div class=\"sk-parallel-item\"><div class=\"sk-item\"><div class=\"sk-label-container\"><div class=\"sk-label fitted sk-toggleable\"><input class=\"sk-toggleable__control sk-hidden--visually\" id=\"sk-estimator-id-9\" type=\"checkbox\" ><label for=\"sk-estimator-id-9\" class=\"sk-toggleable__label fitted sk-toggleable__label-arrow fitted\">OneHot_Encode</label><div class=\"sk-toggleable__content fitted\"><pre>[&#x27;gender&#x27;, &#x27;ever_married&#x27;, &#x27;work_type&#x27;, &#x27;Residence_type&#x27;]</pre></div> </div></div><div class=\"sk-serial\"><div class=\"sk-item\"><div class=\"sk-estimator fitted sk-toggleable\"><input class=\"sk-toggleable__control sk-hidden--visually\" id=\"sk-estimator-id-10\" type=\"checkbox\" ><label for=\"sk-estimator-id-10\" class=\"sk-toggleable__label fitted sk-toggleable__label-arrow fitted\">&nbsp;OneHotEncoder<a class=\"sk-estimator-doc-link fitted\" rel=\"noreferrer\" target=\"_blank\" href=\"https://scikit-learn.org/1.5/modules/generated/sklearn.preprocessing.OneHotEncoder.html\">?<span>Documentation for OneHotEncoder</span></a></label><div class=\"sk-toggleable__content fitted\"><pre>OneHotEncoder(handle_unknown=&#x27;ignore&#x27;)</pre></div> </div></div></div></div></div></div></div></div></div>"
            ]
          },
          "metadata": {},
          "execution_count": 166
        }
      ]
    },
    {
      "cell_type": "code",
      "source": [
        "encoded_cols = list(preprocessor.get_feature_names_out())"
      ],
      "metadata": {
        "id": "qbMMgCQoX85Q"
      },
      "execution_count": null,
      "outputs": []
    },
    {
      "cell_type": "code",
      "source": [
        "encoded_cols"
      ],
      "metadata": {
        "colab": {
          "base_uri": "https://localhost:8080/"
        },
        "id": "2boNAQpIYELR",
        "outputId": "c76fe643-14d1-4bc2-c915-c181b74a0b9c"
      },
      "execution_count": null,
      "outputs": [
        {
          "output_type": "execute_result",
          "data": {
            "text/plain": [
              "['Ordinal_Encode__smoking_status',\n",
              " 'OneHot_Encode__gender_Female',\n",
              " 'OneHot_Encode__gender_Male',\n",
              " 'OneHot_Encode__ever_married_No',\n",
              " 'OneHot_Encode__ever_married_Yes',\n",
              " 'OneHot_Encode__work_type_Govt_job',\n",
              " 'OneHot_Encode__work_type_Never_worked',\n",
              " 'OneHot_Encode__work_type_Private',\n",
              " 'OneHot_Encode__work_type_Self-employed',\n",
              " 'OneHot_Encode__work_type_children',\n",
              " 'OneHot_Encode__Residence_type_Rural',\n",
              " 'OneHot_Encode__Residence_type_Urban']"
            ]
          },
          "metadata": {},
          "execution_count": 116
        }
      ]
    },
    {
      "cell_type": "code",
      "source": [
        "train_inputs[encoded_cols] = preprocessor.transform(train_inputs)\n",
        "test_inputs[encoded_cols] = preprocessor.transform(test_inputs)"
      ],
      "metadata": {
        "id": "JetnImscYFmP"
      },
      "execution_count": null,
      "outputs": []
    },
    {
      "cell_type": "code",
      "source": [
        "X_train = train_inputs[numerical_cols + encoded_cols]\n",
        "y_train = train_df[target_col]\n",
        "\n",
        "X_test = test_inputs[numerical_cols + encoded_cols]"
      ],
      "metadata": {
        "id": "GZVZKap5YHZH"
      },
      "execution_count": null,
      "outputs": []
    },
    {
      "cell_type": "code",
      "source": [
        "X_train.head()"
      ],
      "metadata": {
        "colab": {
          "base_uri": "https://localhost:8080/",
          "height": 244
        },
        "id": "2onXD0lFYJBX",
        "outputId": "5b5817ed-9b6a-4a29-f02f-1f3534ef4031"
      },
      "execution_count": null,
      "outputs": [
        {
          "output_type": "execute_result",
          "data": {
            "text/plain": [
              "    age  hypertension  heart_disease  avg_glucose_level   bmi  \\\n",
              "0  28.0             0              0              79.53  31.1   \n",
              "1  33.0             0              0              78.44  23.9   \n",
              "2  42.0             0              0             103.00  40.3   \n",
              "3  56.0             0              0              64.87  28.8   \n",
              "4  24.0             0              0              73.36  28.8   \n",
              "\n",
              "   Ordinal_Encode__smoking_status  OneHot_Encode__gender_Female  \\\n",
              "0                             1.0                           0.0   \n",
              "1                             2.0                           0.0   \n",
              "2                             0.0                           1.0   \n",
              "3                             1.0                           0.0   \n",
              "4                             1.0                           1.0   \n",
              "\n",
              "   OneHot_Encode__gender_Male  OneHot_Encode__ever_married_No  \\\n",
              "0                         1.0                             0.0   \n",
              "1                         1.0                             0.0   \n",
              "2                         0.0                             0.0   \n",
              "3                         1.0                             0.0   \n",
              "4                         0.0                             1.0   \n",
              "\n",
              "   OneHot_Encode__ever_married_Yes  OneHot_Encode__work_type_Govt_job  \\\n",
              "0                              1.0                                0.0   \n",
              "1                              1.0                                0.0   \n",
              "2                              1.0                                0.0   \n",
              "3                              1.0                                0.0   \n",
              "4                              0.0                                0.0   \n",
              "\n",
              "   OneHot_Encode__work_type_Never_worked  OneHot_Encode__work_type_Private  \\\n",
              "0                                    0.0                               1.0   \n",
              "1                                    0.0                               1.0   \n",
              "2                                    0.0                               1.0   \n",
              "3                                    0.0                               1.0   \n",
              "4                                    0.0                               1.0   \n",
              "\n",
              "   OneHot_Encode__work_type_Self-employed  OneHot_Encode__work_type_children  \\\n",
              "0                                     0.0                                0.0   \n",
              "1                                     0.0                                0.0   \n",
              "2                                     0.0                                0.0   \n",
              "3                                     0.0                                0.0   \n",
              "4                                     0.0                                0.0   \n",
              "\n",
              "   OneHot_Encode__Residence_type_Rural  OneHot_Encode__Residence_type_Urban  \n",
              "0                                  0.0                                  1.0  \n",
              "1                                  1.0                                  0.0  \n",
              "2                                  1.0                                  0.0  \n",
              "3                                  0.0                                  1.0  \n",
              "4                                  1.0                                  0.0  "
            ],
            "text/html": [
              "\n",
              "  <div id=\"df-bb9bf474-b52a-409e-9dbf-ac1c6da8ee7d\" class=\"colab-df-container\">\n",
              "    <div>\n",
              "<style scoped>\n",
              "    .dataframe tbody tr th:only-of-type {\n",
              "        vertical-align: middle;\n",
              "    }\n",
              "\n",
              "    .dataframe tbody tr th {\n",
              "        vertical-align: top;\n",
              "    }\n",
              "\n",
              "    .dataframe thead th {\n",
              "        text-align: right;\n",
              "    }\n",
              "</style>\n",
              "<table border=\"1\" class=\"dataframe\">\n",
              "  <thead>\n",
              "    <tr style=\"text-align: right;\">\n",
              "      <th></th>\n",
              "      <th>age</th>\n",
              "      <th>hypertension</th>\n",
              "      <th>heart_disease</th>\n",
              "      <th>avg_glucose_level</th>\n",
              "      <th>bmi</th>\n",
              "      <th>Ordinal_Encode__smoking_status</th>\n",
              "      <th>OneHot_Encode__gender_Female</th>\n",
              "      <th>OneHot_Encode__gender_Male</th>\n",
              "      <th>OneHot_Encode__ever_married_No</th>\n",
              "      <th>OneHot_Encode__ever_married_Yes</th>\n",
              "      <th>OneHot_Encode__work_type_Govt_job</th>\n",
              "      <th>OneHot_Encode__work_type_Never_worked</th>\n",
              "      <th>OneHot_Encode__work_type_Private</th>\n",
              "      <th>OneHot_Encode__work_type_Self-employed</th>\n",
              "      <th>OneHot_Encode__work_type_children</th>\n",
              "      <th>OneHot_Encode__Residence_type_Rural</th>\n",
              "      <th>OneHot_Encode__Residence_type_Urban</th>\n",
              "    </tr>\n",
              "  </thead>\n",
              "  <tbody>\n",
              "    <tr>\n",
              "      <th>0</th>\n",
              "      <td>28.0</td>\n",
              "      <td>0</td>\n",
              "      <td>0</td>\n",
              "      <td>79.53</td>\n",
              "      <td>31.1</td>\n",
              "      <td>1.0</td>\n",
              "      <td>0.0</td>\n",
              "      <td>1.0</td>\n",
              "      <td>0.0</td>\n",
              "      <td>1.0</td>\n",
              "      <td>0.0</td>\n",
              "      <td>0.0</td>\n",
              "      <td>1.0</td>\n",
              "      <td>0.0</td>\n",
              "      <td>0.0</td>\n",
              "      <td>0.0</td>\n",
              "      <td>1.0</td>\n",
              "    </tr>\n",
              "    <tr>\n",
              "      <th>1</th>\n",
              "      <td>33.0</td>\n",
              "      <td>0</td>\n",
              "      <td>0</td>\n",
              "      <td>78.44</td>\n",
              "      <td>23.9</td>\n",
              "      <td>2.0</td>\n",
              "      <td>0.0</td>\n",
              "      <td>1.0</td>\n",
              "      <td>0.0</td>\n",
              "      <td>1.0</td>\n",
              "      <td>0.0</td>\n",
              "      <td>0.0</td>\n",
              "      <td>1.0</td>\n",
              "      <td>0.0</td>\n",
              "      <td>0.0</td>\n",
              "      <td>1.0</td>\n",
              "      <td>0.0</td>\n",
              "    </tr>\n",
              "    <tr>\n",
              "      <th>2</th>\n",
              "      <td>42.0</td>\n",
              "      <td>0</td>\n",
              "      <td>0</td>\n",
              "      <td>103.00</td>\n",
              "      <td>40.3</td>\n",
              "      <td>0.0</td>\n",
              "      <td>1.0</td>\n",
              "      <td>0.0</td>\n",
              "      <td>0.0</td>\n",
              "      <td>1.0</td>\n",
              "      <td>0.0</td>\n",
              "      <td>0.0</td>\n",
              "      <td>1.0</td>\n",
              "      <td>0.0</td>\n",
              "      <td>0.0</td>\n",
              "      <td>1.0</td>\n",
              "      <td>0.0</td>\n",
              "    </tr>\n",
              "    <tr>\n",
              "      <th>3</th>\n",
              "      <td>56.0</td>\n",
              "      <td>0</td>\n",
              "      <td>0</td>\n",
              "      <td>64.87</td>\n",
              "      <td>28.8</td>\n",
              "      <td>1.0</td>\n",
              "      <td>0.0</td>\n",
              "      <td>1.0</td>\n",
              "      <td>0.0</td>\n",
              "      <td>1.0</td>\n",
              "      <td>0.0</td>\n",
              "      <td>0.0</td>\n",
              "      <td>1.0</td>\n",
              "      <td>0.0</td>\n",
              "      <td>0.0</td>\n",
              "      <td>0.0</td>\n",
              "      <td>1.0</td>\n",
              "    </tr>\n",
              "    <tr>\n",
              "      <th>4</th>\n",
              "      <td>24.0</td>\n",
              "      <td>0</td>\n",
              "      <td>0</td>\n",
              "      <td>73.36</td>\n",
              "      <td>28.8</td>\n",
              "      <td>1.0</td>\n",
              "      <td>1.0</td>\n",
              "      <td>0.0</td>\n",
              "      <td>1.0</td>\n",
              "      <td>0.0</td>\n",
              "      <td>0.0</td>\n",
              "      <td>0.0</td>\n",
              "      <td>1.0</td>\n",
              "      <td>0.0</td>\n",
              "      <td>0.0</td>\n",
              "      <td>1.0</td>\n",
              "      <td>0.0</td>\n",
              "    </tr>\n",
              "  </tbody>\n",
              "</table>\n",
              "</div>\n",
              "    <div class=\"colab-df-buttons\">\n",
              "\n",
              "  <div class=\"colab-df-container\">\n",
              "    <button class=\"colab-df-convert\" onclick=\"convertToInteractive('df-bb9bf474-b52a-409e-9dbf-ac1c6da8ee7d')\"\n",
              "            title=\"Convert this dataframe to an interactive table.\"\n",
              "            style=\"display:none;\">\n",
              "\n",
              "  <svg xmlns=\"http://www.w3.org/2000/svg\" height=\"24px\" viewBox=\"0 -960 960 960\">\n",
              "    <path d=\"M120-120v-720h720v720H120Zm60-500h600v-160H180v160Zm220 220h160v-160H400v160Zm0 220h160v-160H400v160ZM180-400h160v-160H180v160Zm440 0h160v-160H620v160ZM180-180h160v-160H180v160Zm440 0h160v-160H620v160Z\"/>\n",
              "  </svg>\n",
              "    </button>\n",
              "\n",
              "  <style>\n",
              "    .colab-df-container {\n",
              "      display:flex;\n",
              "      gap: 12px;\n",
              "    }\n",
              "\n",
              "    .colab-df-convert {\n",
              "      background-color: #E8F0FE;\n",
              "      border: none;\n",
              "      border-radius: 50%;\n",
              "      cursor: pointer;\n",
              "      display: none;\n",
              "      fill: #1967D2;\n",
              "      height: 32px;\n",
              "      padding: 0 0 0 0;\n",
              "      width: 32px;\n",
              "    }\n",
              "\n",
              "    .colab-df-convert:hover {\n",
              "      background-color: #E2EBFA;\n",
              "      box-shadow: 0px 1px 2px rgba(60, 64, 67, 0.3), 0px 1px 3px 1px rgba(60, 64, 67, 0.15);\n",
              "      fill: #174EA6;\n",
              "    }\n",
              "\n",
              "    .colab-df-buttons div {\n",
              "      margin-bottom: 4px;\n",
              "    }\n",
              "\n",
              "    [theme=dark] .colab-df-convert {\n",
              "      background-color: #3B4455;\n",
              "      fill: #D2E3FC;\n",
              "    }\n",
              "\n",
              "    [theme=dark] .colab-df-convert:hover {\n",
              "      background-color: #434B5C;\n",
              "      box-shadow: 0px 1px 3px 1px rgba(0, 0, 0, 0.15);\n",
              "      filter: drop-shadow(0px 1px 2px rgba(0, 0, 0, 0.3));\n",
              "      fill: #FFFFFF;\n",
              "    }\n",
              "  </style>\n",
              "\n",
              "    <script>\n",
              "      const buttonEl =\n",
              "        document.querySelector('#df-bb9bf474-b52a-409e-9dbf-ac1c6da8ee7d button.colab-df-convert');\n",
              "      buttonEl.style.display =\n",
              "        google.colab.kernel.accessAllowed ? 'block' : 'none';\n",
              "\n",
              "      async function convertToInteractive(key) {\n",
              "        const element = document.querySelector('#df-bb9bf474-b52a-409e-9dbf-ac1c6da8ee7d');\n",
              "        const dataTable =\n",
              "          await google.colab.kernel.invokeFunction('convertToInteractive',\n",
              "                                                    [key], {});\n",
              "        if (!dataTable) return;\n",
              "\n",
              "        const docLinkHtml = 'Like what you see? Visit the ' +\n",
              "          '<a target=\"_blank\" href=https://colab.research.google.com/notebooks/data_table.ipynb>data table notebook</a>'\n",
              "          + ' to learn more about interactive tables.';\n",
              "        element.innerHTML = '';\n",
              "        dataTable['output_type'] = 'display_data';\n",
              "        await google.colab.output.renderOutput(dataTable, element);\n",
              "        const docLink = document.createElement('div');\n",
              "        docLink.innerHTML = docLinkHtml;\n",
              "        element.appendChild(docLink);\n",
              "      }\n",
              "    </script>\n",
              "  </div>\n",
              "\n",
              "\n",
              "<div id=\"df-4c40d1c6-4a69-46e7-99d6-2cb3f6c420b7\">\n",
              "  <button class=\"colab-df-quickchart\" onclick=\"quickchart('df-4c40d1c6-4a69-46e7-99d6-2cb3f6c420b7')\"\n",
              "            title=\"Suggest charts\"\n",
              "            style=\"display:none;\">\n",
              "\n",
              "<svg xmlns=\"http://www.w3.org/2000/svg\" height=\"24px\"viewBox=\"0 0 24 24\"\n",
              "     width=\"24px\">\n",
              "    <g>\n",
              "        <path d=\"M19 3H5c-1.1 0-2 .9-2 2v14c0 1.1.9 2 2 2h14c1.1 0 2-.9 2-2V5c0-1.1-.9-2-2-2zM9 17H7v-7h2v7zm4 0h-2V7h2v10zm4 0h-2v-4h2v4z\"/>\n",
              "    </g>\n",
              "</svg>\n",
              "  </button>\n",
              "\n",
              "<style>\n",
              "  .colab-df-quickchart {\n",
              "      --bg-color: #E8F0FE;\n",
              "      --fill-color: #1967D2;\n",
              "      --hover-bg-color: #E2EBFA;\n",
              "      --hover-fill-color: #174EA6;\n",
              "      --disabled-fill-color: #AAA;\n",
              "      --disabled-bg-color: #DDD;\n",
              "  }\n",
              "\n",
              "  [theme=dark] .colab-df-quickchart {\n",
              "      --bg-color: #3B4455;\n",
              "      --fill-color: #D2E3FC;\n",
              "      --hover-bg-color: #434B5C;\n",
              "      --hover-fill-color: #FFFFFF;\n",
              "      --disabled-bg-color: #3B4455;\n",
              "      --disabled-fill-color: #666;\n",
              "  }\n",
              "\n",
              "  .colab-df-quickchart {\n",
              "    background-color: var(--bg-color);\n",
              "    border: none;\n",
              "    border-radius: 50%;\n",
              "    cursor: pointer;\n",
              "    display: none;\n",
              "    fill: var(--fill-color);\n",
              "    height: 32px;\n",
              "    padding: 0;\n",
              "    width: 32px;\n",
              "  }\n",
              "\n",
              "  .colab-df-quickchart:hover {\n",
              "    background-color: var(--hover-bg-color);\n",
              "    box-shadow: 0 1px 2px rgba(60, 64, 67, 0.3), 0 1px 3px 1px rgba(60, 64, 67, 0.15);\n",
              "    fill: var(--button-hover-fill-color);\n",
              "  }\n",
              "\n",
              "  .colab-df-quickchart-complete:disabled,\n",
              "  .colab-df-quickchart-complete:disabled:hover {\n",
              "    background-color: var(--disabled-bg-color);\n",
              "    fill: var(--disabled-fill-color);\n",
              "    box-shadow: none;\n",
              "  }\n",
              "\n",
              "  .colab-df-spinner {\n",
              "    border: 2px solid var(--fill-color);\n",
              "    border-color: transparent;\n",
              "    border-bottom-color: var(--fill-color);\n",
              "    animation:\n",
              "      spin 1s steps(1) infinite;\n",
              "  }\n",
              "\n",
              "  @keyframes spin {\n",
              "    0% {\n",
              "      border-color: transparent;\n",
              "      border-bottom-color: var(--fill-color);\n",
              "      border-left-color: var(--fill-color);\n",
              "    }\n",
              "    20% {\n",
              "      border-color: transparent;\n",
              "      border-left-color: var(--fill-color);\n",
              "      border-top-color: var(--fill-color);\n",
              "    }\n",
              "    30% {\n",
              "      border-color: transparent;\n",
              "      border-left-color: var(--fill-color);\n",
              "      border-top-color: var(--fill-color);\n",
              "      border-right-color: var(--fill-color);\n",
              "    }\n",
              "    40% {\n",
              "      border-color: transparent;\n",
              "      border-right-color: var(--fill-color);\n",
              "      border-top-color: var(--fill-color);\n",
              "    }\n",
              "    60% {\n",
              "      border-color: transparent;\n",
              "      border-right-color: var(--fill-color);\n",
              "    }\n",
              "    80% {\n",
              "      border-color: transparent;\n",
              "      border-right-color: var(--fill-color);\n",
              "      border-bottom-color: var(--fill-color);\n",
              "    }\n",
              "    90% {\n",
              "      border-color: transparent;\n",
              "      border-bottom-color: var(--fill-color);\n",
              "    }\n",
              "  }\n",
              "</style>\n",
              "\n",
              "  <script>\n",
              "    async function quickchart(key) {\n",
              "      const quickchartButtonEl =\n",
              "        document.querySelector('#' + key + ' button');\n",
              "      quickchartButtonEl.disabled = true;  // To prevent multiple clicks.\n",
              "      quickchartButtonEl.classList.add('colab-df-spinner');\n",
              "      try {\n",
              "        const charts = await google.colab.kernel.invokeFunction(\n",
              "            'suggestCharts', [key], {});\n",
              "      } catch (error) {\n",
              "        console.error('Error during call to suggestCharts:', error);\n",
              "      }\n",
              "      quickchartButtonEl.classList.remove('colab-df-spinner');\n",
              "      quickchartButtonEl.classList.add('colab-df-quickchart-complete');\n",
              "    }\n",
              "    (() => {\n",
              "      let quickchartButtonEl =\n",
              "        document.querySelector('#df-4c40d1c6-4a69-46e7-99d6-2cb3f6c420b7 button');\n",
              "      quickchartButtonEl.style.display =\n",
              "        google.colab.kernel.accessAllowed ? 'block' : 'none';\n",
              "    })();\n",
              "  </script>\n",
              "</div>\n",
              "\n",
              "    </div>\n",
              "  </div>\n"
            ],
            "application/vnd.google.colaboratory.intrinsic+json": {
              "type": "dataframe",
              "variable_name": "X_train",
              "summary": "{\n  \"name\": \"X_train\",\n  \"rows\": 15303,\n  \"fields\": [\n    {\n      \"column\": \"age\",\n      \"properties\": {\n        \"dtype\": \"number\",\n        \"std\": 21.420410542366728,\n        \"min\": 1.0,\n        \"max\": 82.0,\n        \"num_unique_values\": 82,\n        \"samples\": [\n          8.0,\n          28.0,\n          38.0\n        ],\n        \"semantic_type\": \"\",\n        \"description\": \"\"\n      }\n    },\n    {\n      \"column\": \"hypertension\",\n      \"properties\": {\n        \"dtype\": \"number\",\n        \"std\": 0,\n        \"min\": 0,\n        \"max\": 1,\n        \"num_unique_values\": 2,\n        \"samples\": [\n          1,\n          0\n        ],\n        \"semantic_type\": \"\",\n        \"description\": \"\"\n      }\n    },\n    {\n      \"column\": \"heart_disease\",\n      \"properties\": {\n        \"dtype\": \"number\",\n        \"std\": 0,\n        \"min\": 0,\n        \"max\": 1,\n        \"num_unique_values\": 2,\n        \"samples\": [\n          1,\n          0\n        ],\n        \"semantic_type\": \"\",\n        \"description\": \"\"\n      }\n    },\n    {\n      \"column\": \"avg_glucose_level\",\n      \"properties\": {\n        \"dtype\": \"number\",\n        \"std\": 25.476871562723257,\n        \"min\": 55.22,\n        \"max\": 267.6,\n        \"num_unique_values\": 3740,\n        \"samples\": [\n          123.21,\n          99.3\n        ],\n        \"semantic_type\": \"\",\n        \"description\": \"\"\n      }\n    },\n    {\n      \"column\": \"bmi\",\n      \"properties\": {\n        \"dtype\": \"number\",\n        \"std\": 6.722037944313512,\n        \"min\": 10.3,\n        \"max\": 80.1,\n        \"num_unique_values\": 407,\n        \"samples\": [\n          31.3,\n          44.4\n        ],\n        \"semantic_type\": \"\",\n        \"description\": \"\"\n      }\n    },\n    {\n      \"column\": \"Ordinal_Encode__smoking_status\",\n      \"properties\": {\n        \"dtype\": \"number\",\n        \"std\": 0.9956122626916983,\n        \"min\": 0.0,\n        \"max\": 3.0,\n        \"num_unique_values\": 4,\n        \"samples\": [\n          2.0,\n          3.0\n        ],\n        \"semantic_type\": \"\",\n        \"description\": \"\"\n      }\n    },\n    {\n      \"column\": \"OneHot_Encode__gender_Female\",\n      \"properties\": {\n        \"dtype\": \"number\",\n        \"std\": 0.48607042220696106,\n        \"min\": 0.0,\n        \"max\": 1.0,\n        \"num_unique_values\": 2,\n        \"samples\": [\n          1.0,\n          0.0\n        ],\n        \"semantic_type\": \"\",\n        \"description\": \"\"\n      }\n    },\n    {\n      \"column\": \"OneHot_Encode__gender_Male\",\n      \"properties\": {\n        \"dtype\": \"number\",\n        \"std\": 0.48607042220696106,\n        \"min\": 0.0,\n        \"max\": 1.0,\n        \"num_unique_values\": 2,\n        \"samples\": [\n          0.0,\n          1.0\n        ],\n        \"semantic_type\": \"\",\n        \"description\": \"\"\n      }\n    },\n    {\n      \"column\": \"OneHot_Encode__ever_married_No\",\n      \"properties\": {\n        \"dtype\": \"number\",\n        \"std\": 0.4670196184586582,\n        \"min\": 0.0,\n        \"max\": 1.0,\n        \"num_unique_values\": 2,\n        \"samples\": [\n          1.0,\n          0.0\n        ],\n        \"semantic_type\": \"\",\n        \"description\": \"\"\n      }\n    },\n    {\n      \"column\": \"OneHot_Encode__ever_married_Yes\",\n      \"properties\": {\n        \"dtype\": \"number\",\n        \"std\": 0.4670196184586582,\n        \"min\": 0.0,\n        \"max\": 1.0,\n        \"num_unique_values\": 2,\n        \"samples\": [\n          0.0,\n          1.0\n        ],\n        \"semantic_type\": \"\",\n        \"description\": \"\"\n      }\n    },\n    {\n      \"column\": \"OneHot_Encode__work_type_Govt_job\",\n      \"properties\": {\n        \"dtype\": \"number\",\n        \"std\": 0.30024491414669524,\n        \"min\": 0.0,\n        \"max\": 1.0,\n        \"num_unique_values\": 2,\n        \"samples\": [\n          1.0,\n          0.0\n        ],\n        \"semantic_type\": \"\",\n        \"description\": \"\"\n      }\n    },\n    {\n      \"column\": \"OneHot_Encode__work_type_Never_worked\",\n      \"properties\": {\n        \"dtype\": \"number\",\n        \"std\": 0.05231831561238457,\n        \"min\": 0.0,\n        \"max\": 1.0,\n        \"num_unique_values\": 2,\n        \"samples\": [\n          1.0,\n          0.0\n        ],\n        \"semantic_type\": \"\",\n        \"description\": \"\"\n      }\n    },\n    {\n      \"column\": \"OneHot_Encode__work_type_Private\",\n      \"properties\": {\n        \"dtype\": \"number\",\n        \"std\": 0.4808062141375757,\n        \"min\": 0.0,\n        \"max\": 1.0,\n        \"num_unique_values\": 2,\n        \"samples\": [\n          0.0,\n          1.0\n        ],\n        \"semantic_type\": \"\",\n        \"description\": \"\"\n      }\n    },\n    {\n      \"column\": \"OneHot_Encode__work_type_Self-employed\",\n      \"properties\": {\n        \"dtype\": \"number\",\n        \"std\": 0.33265553200298004,\n        \"min\": 0.0,\n        \"max\": 1.0,\n        \"num_unique_values\": 2,\n        \"samples\": [\n          1.0,\n          0.0\n        ],\n        \"semantic_type\": \"\",\n        \"description\": \"\"\n      }\n    },\n    {\n      \"column\": \"OneHot_Encode__work_type_children\",\n      \"properties\": {\n        \"dtype\": \"number\",\n        \"std\": 0.3397059260436188,\n        \"min\": 0.0,\n        \"max\": 1.0,\n        \"num_unique_values\": 2,\n        \"samples\": [\n          1.0,\n          0.0\n        ],\n        \"semantic_type\": \"\",\n        \"description\": \"\"\n      }\n    },\n    {\n      \"column\": \"OneHot_Encode__Residence_type_Rural\",\n      \"properties\": {\n        \"dtype\": \"number\",\n        \"std\": 0.5000157727157529,\n        \"min\": 0.0,\n        \"max\": 1.0,\n        \"num_unique_values\": 2,\n        \"samples\": [\n          1.0,\n          0.0\n        ],\n        \"semantic_type\": \"\",\n        \"description\": \"\"\n      }\n    },\n    {\n      \"column\": \"OneHot_Encode__Residence_type_Urban\",\n      \"properties\": {\n        \"dtype\": \"number\",\n        \"std\": 0.5000157727157529,\n        \"min\": 0.0,\n        \"max\": 1.0,\n        \"num_unique_values\": 2,\n        \"samples\": [\n          0.0,\n          1.0\n        ],\n        \"semantic_type\": \"\",\n        \"description\": \"\"\n      }\n    }\n  ]\n}"
            }
          },
          "metadata": {},
          "execution_count": 119
        }
      ]
    },
    {
      "cell_type": "code",
      "source": [
        "X_train.shape[1] == X_test.shape[1]"
      ],
      "metadata": {
        "colab": {
          "base_uri": "https://localhost:8080/"
        },
        "id": "MECKyZ2vYKTG",
        "outputId": "addcc2c4-8e21-4e1e-ea11-92dd3d46d173"
      },
      "execution_count": null,
      "outputs": [
        {
          "output_type": "execute_result",
          "data": {
            "text/plain": [
              "True"
            ]
          },
          "metadata": {},
          "execution_count": 120
        }
      ]
    },
    {
      "cell_type": "code",
      "source": [
        "# Split Dataset into training and validation set\n",
        "from sklearn.model_selection import train_test_split"
      ],
      "metadata": {
        "id": "Ke9GQYvqYMYG"
      },
      "execution_count": null,
      "outputs": []
    },
    {
      "cell_type": "code",
      "source": [
        "X_train, X_val, y_train, y_val = train_test_split(X_train, y_train, test_size=0.2, random_state=42)"
      ],
      "metadata": {
        "id": "_0HvFgR9YN5O"
      },
      "execution_count": null,
      "outputs": []
    },
    {
      "cell_type": "code",
      "source": [
        "X_train.shape"
      ],
      "metadata": {
        "colab": {
          "base_uri": "https://localhost:8080/"
        },
        "id": "S1PNbYP-YPYf",
        "outputId": "1975b239-373b-4dce-e3c6-3d375b0136e8"
      },
      "execution_count": null,
      "outputs": [
        {
          "output_type": "execute_result",
          "data": {
            "text/plain": [
              "(12242, 17)"
            ]
          },
          "metadata": {},
          "execution_count": 123
        }
      ]
    },
    {
      "cell_type": "code",
      "source": [
        "# Baseline Model\n",
        "from sklearn.linear_model import LogisticRegression\n",
        "from sklearn.tree import DecisionTreeClassifier\n",
        "from sklearn.ensemble import RandomForestClassifier\n",
        "from lightgbm import LGBMClassifier\n",
        "from xgboost import XGBClassifier\n",
        "from imblearn.over_sampling import SMOTE\n",
        "\n",
        "from sklearn.metrics import confusion_matrix, accuracy_score, precision_score, recall_score, f1_score"
      ],
      "metadata": {
        "colab": {
          "base_uri": "https://localhost:8080/"
        },
        "id": "JrGSC_Q7YQvn",
        "outputId": "3efcf43f-a5a0-4e94-85ef-b20414971edf"
      },
      "execution_count": null,
      "outputs": [
        {
          "output_type": "stream",
          "name": "stderr",
          "text": [
            "/usr/local/lib/python3.10/dist-packages/dask/dataframe/__init__.py:42: FutureWarning:\n",
            "\n",
            "\n",
            "Dask dataframe query planning is disabled because dask-expr is not installed.\n",
            "\n",
            "You can install it with `pip install dask[dataframe]` or `conda install dask`.\n",
            "This will raise in a future version.\n",
            "\n",
            "\n"
          ]
        }
      ]
    },
    {
      "cell_type": "code",
      "source": [
        "models = [\n",
        "    (LogisticRegression(), 'LogisticRegression'),\n",
        "    (RandomForestClassifier(), 'RandomForestClassifier'),\n",
        "    (XGBClassifier(), 'XGBClassifier'),\n",
        "    (LGBMClassifier(verbose = 1), 'LightGBM')\n",
        "]"
      ],
      "metadata": {
        "id": "tK6PmJgCYS9n"
      },
      "execution_count": null,
      "outputs": []
    },
    {
      "cell_type": "code",
      "source": [
        "def evalue_model(model, X_train, y_train, X_val, y_val):\n",
        "    y_pred = model.predict(X_val)\n",
        "    confusion_mat = confusion_matrix(y_val, y_pred)\n",
        "    accuracy = accuracy_score(y_val, y_pred)\n",
        "    precision = precision_score(y_val, y_pred)\n",
        "    recall = recall_score(y_val, y_pred)\n",
        "    f1 = f1_score(y_val, y_pred)\n",
        "    return confusion_mat, accuracy, precision, recall, f1"
      ],
      "metadata": {
        "id": "sVLHsBTUYVHO"
      },
      "execution_count": null,
      "outputs": []
    },
    {
      "cell_type": "code",
      "source": [
        "confusion_mats = {}\n",
        "def metric_df(model, model_name):\n",
        "    confusion_mat, *df = evalue_model(model, X_train, y_train, X_val, y_val)\n",
        "    confusion_mats[model_name] = confusion_mat\n",
        "    df = [df]\n",
        "    model_metrics = pd.DataFrame(data = df, columns=['Accuarcy','Precision', 'Recall', 'F1'])\n",
        "    model_metrics.insert(0, 'Model', model_name)\n",
        "\n",
        "    return model_metrics"
      ],
      "metadata": {
        "id": "OGRpCYE9YWqu"
      },
      "execution_count": null,
      "outputs": []
    },
    {
      "cell_type": "code",
      "source": [
        "predictions = []\n",
        "for model, model_name in models:\n",
        "    model.fit(X_train, y_train)\n",
        "    model_metrics = metric_df(model, model_name)\n",
        "    predictions.append(model_metrics)"
      ],
      "metadata": {
        "colab": {
          "base_uri": "https://localhost:8080/"
        },
        "id": "cqZ1oNGAYYU2",
        "outputId": "bd555825-c3e5-47de-d456-3e526dbc4f83"
      },
      "execution_count": null,
      "outputs": [
        {
          "output_type": "stream",
          "name": "stderr",
          "text": [
            "/usr/local/lib/python3.10/dist-packages/sklearn/linear_model/_logistic.py:469: ConvergenceWarning:\n",
            "\n",
            "lbfgs failed to converge (status=1):\n",
            "STOP: TOTAL NO. of ITERATIONS REACHED LIMIT.\n",
            "\n",
            "Increase the number of iterations (max_iter) or scale the data as shown in:\n",
            "    https://scikit-learn.org/stable/modules/preprocessing.html\n",
            "Please also refer to the documentation for alternative solver options:\n",
            "    https://scikit-learn.org/stable/modules/linear_model.html#logistic-regression\n",
            "\n"
          ]
        },
        {
          "output_type": "stream",
          "name": "stdout",
          "text": [
            "[LightGBM] [Info] Number of positive: 498, number of negative: 11744\n",
            "[LightGBM] [Info] Auto-choosing row-wise multi-threading, the overhead of testing was 0.001657 seconds.\n",
            "You can set `force_row_wise=true` to remove the overhead.\n",
            "And if memory is not enough, you can set `force_col_wise=true`.\n",
            "[LightGBM] [Info] Total Bins 623\n",
            "[LightGBM] [Info] Number of data points in the train set: 12242, number of used features: 17\n",
            "[LightGBM] [Info] [binary:BoostFromScore]: pavg=0.040680 -> initscore=-3.160498\n",
            "[LightGBM] [Info] Start training from score -3.160498\n"
          ]
        }
      ]
    },
    {
      "cell_type": "code",
      "source": [
        "predictions"
      ],
      "metadata": {
        "colab": {
          "base_uri": "https://localhost:8080/"
        },
        "id": "yz3dD8iyYaH3",
        "outputId": "1b4bdf25-9be9-45fc-c836-ca4479cfd5d0"
      },
      "execution_count": null,
      "outputs": [
        {
          "output_type": "execute_result",
          "data": {
            "text/plain": [
              "[                Model  Accuarcy  Precision    Recall        F1\n",
              " 0  LogisticRegression  0.955243   0.333333  0.022388  0.041958,\n",
              "                     Model  Accuarcy  Precision    Recall        F1\n",
              " 0  RandomForestClassifier  0.952957       0.25  0.037313  0.064935,\n",
              "            Model  Accuarcy  Precision    Recall        F1\n",
              " 0  XGBClassifier   0.95361   0.388889  0.104478  0.164706,\n",
              "       Model  Accuarcy  Precision    Recall        F1\n",
              " 0  LightGBM   0.95459   0.380952  0.059701  0.103226]"
            ]
          },
          "metadata": {},
          "execution_count": 129
        }
      ]
    },
    {
      "cell_type": "code",
      "source": [
        "oversample = SMOTE()\n",
        "X_train_ns, y_train_ns = oversample.fit_resample(X_train, y_train)"
      ],
      "metadata": {
        "id": "tiK5Xbb3YcPG"
      },
      "execution_count": null,
      "outputs": []
    },
    {
      "cell_type": "code",
      "source": [
        "X_train_ns.shape"
      ],
      "metadata": {
        "colab": {
          "base_uri": "https://localhost:8080/"
        },
        "id": "AWJ9OD_KYeNW",
        "outputId": "cc0e8a70-69fd-4ff9-aa2a-55a5e655aeac"
      },
      "execution_count": null,
      "outputs": [
        {
          "output_type": "execute_result",
          "data": {
            "text/plain": [
              "(23488, 17)"
            ]
          },
          "metadata": {},
          "execution_count": 131
        }
      ]
    },
    {
      "cell_type": "code",
      "source": [
        "lr_with_smote = LogisticRegression()\n",
        "lr_with_smote.fit(X_train_ns, y_train_ns)\n",
        "lr_with_smote_mat = metric_df(lr_with_smote, 'Logistic With SMOTE')\n",
        "predictions.append(lr_with_smote_mat)"
      ],
      "metadata": {
        "colab": {
          "base_uri": "https://localhost:8080/"
        },
        "id": "sDUl7Mq-YflO",
        "outputId": "ed8cf680-2efd-41d6-db2a-690f828efa4f"
      },
      "execution_count": null,
      "outputs": [
        {
          "output_type": "stream",
          "name": "stderr",
          "text": [
            "/usr/local/lib/python3.10/dist-packages/sklearn/linear_model/_logistic.py:469: ConvergenceWarning:\n",
            "\n",
            "lbfgs failed to converge (status=1):\n",
            "STOP: TOTAL NO. of ITERATIONS REACHED LIMIT.\n",
            "\n",
            "Increase the number of iterations (max_iter) or scale the data as shown in:\n",
            "    https://scikit-learn.org/stable/modules/preprocessing.html\n",
            "Please also refer to the documentation for alternative solver options:\n",
            "    https://scikit-learn.org/stable/modules/linear_model.html#logistic-regression\n",
            "\n"
          ]
        }
      ]
    },
    {
      "cell_type": "code",
      "source": [
        "for model_name , confusion_mat in confusion_mats.items():\n",
        "    print(f'Confusion Matrix for {model_name}')\n",
        "    print(confusion_mat)\n",
        "    print()"
      ],
      "metadata": {
        "colab": {
          "base_uri": "https://localhost:8080/"
        },
        "id": "E55_WyFqYhKw",
        "outputId": "327d23d1-3980-4809-ea3a-5f6976b1742a"
      },
      "execution_count": null,
      "outputs": [
        {
          "output_type": "stream",
          "name": "stdout",
          "text": [
            "Confusion Matrix for LogisticRegression\n",
            "[[2921    6]\n",
            " [ 131    3]]\n",
            "\n",
            "Confusion Matrix for RandomForestClassifier\n",
            "[[2912   15]\n",
            " [ 129    5]]\n",
            "\n",
            "Confusion Matrix for XGBClassifier\n",
            "[[2905   22]\n",
            " [ 120   14]]\n",
            "\n",
            "Confusion Matrix for LightGBM\n",
            "[[2914   13]\n",
            " [ 126    8]]\n",
            "\n",
            "Confusion Matrix for Logistic With SMOTE\n",
            "[[2325  602]\n",
            " [  31  103]]\n",
            "\n"
          ]
        }
      ]
    },
    {
      "cell_type": "code",
      "source": [
        "# Voting Classifer . Hard and Soft\n",
        "from sklearn.ensemble import VotingClassifier"
      ],
      "metadata": {
        "id": "lFGE6ZaPYi1f"
      },
      "execution_count": null,
      "outputs": []
    },
    {
      "cell_type": "code",
      "source": [
        "estimator = []\n",
        "estimator.append(('LogisticRegression', LogisticRegression())),\n",
        "estimator.append(('RandomForestClassifier', RandomForestClassifier())),\n",
        "estimator.append(('XGBClassifier', XGBClassifier())),\n",
        "estimator.append(('LightGBM', LGBMClassifier(verbose = 1)))"
      ],
      "metadata": {
        "id": "yWq6nNiRYp6w"
      },
      "execution_count": null,
      "outputs": []
    },
    {
      "cell_type": "code",
      "source": [
        "VC_hard = VotingClassifier(estimators=estimator, voting='hard')\n",
        "VC_hard.fit(X_train, y_train)\n",
        "VC_hard_mat = metric_df(VC_hard, 'VC_HARD')\n",
        "predictions.append(VC_hard_mat)"
      ],
      "metadata": {
        "colab": {
          "base_uri": "https://localhost:8080/"
        },
        "id": "6T8o-1gtYrYX",
        "outputId": "da8eee10-7ee9-4afd-f620-c158e7710b85"
      },
      "execution_count": null,
      "outputs": [
        {
          "output_type": "stream",
          "name": "stderr",
          "text": [
            "/usr/local/lib/python3.10/dist-packages/sklearn/linear_model/_logistic.py:469: ConvergenceWarning:\n",
            "\n",
            "lbfgs failed to converge (status=1):\n",
            "STOP: TOTAL NO. of ITERATIONS REACHED LIMIT.\n",
            "\n",
            "Increase the number of iterations (max_iter) or scale the data as shown in:\n",
            "    https://scikit-learn.org/stable/modules/preprocessing.html\n",
            "Please also refer to the documentation for alternative solver options:\n",
            "    https://scikit-learn.org/stable/modules/linear_model.html#logistic-regression\n",
            "\n"
          ]
        },
        {
          "output_type": "stream",
          "name": "stdout",
          "text": [
            "[LightGBM] [Info] Number of positive: 498, number of negative: 11744\n",
            "[LightGBM] [Info] Auto-choosing row-wise multi-threading, the overhead of testing was 0.001136 seconds.\n",
            "You can set `force_row_wise=true` to remove the overhead.\n",
            "And if memory is not enough, you can set `force_col_wise=true`.\n",
            "[LightGBM] [Info] Total Bins 623\n",
            "[LightGBM] [Info] Number of data points in the train set: 12242, number of used features: 17\n",
            "[LightGBM] [Info] [binary:BoostFromScore]: pavg=0.040680 -> initscore=-3.160498\n",
            "[LightGBM] [Info] Start training from score -3.160498\n"
          ]
        }
      ]
    },
    {
      "cell_type": "code",
      "source": [
        "VC_hard_mat"
      ],
      "metadata": {
        "colab": {
          "base_uri": "https://localhost:8080/",
          "height": 89
        },
        "id": "7Qj7MDuVYs6m",
        "outputId": "53fa5615-2567-4391-d106-7b1afdce4f16"
      },
      "execution_count": null,
      "outputs": [
        {
          "output_type": "execute_result",
          "data": {
            "text/plain": [
              "     Model  Accuarcy  Precision    Recall        F1\n",
              "0  VC_HARD  0.956223        0.5  0.022388  0.042857"
            ],
            "text/html": [
              "\n",
              "  <div id=\"df-a9487e19-0e6d-463d-843d-59a4bf08be4a\" class=\"colab-df-container\">\n",
              "    <div>\n",
              "<style scoped>\n",
              "    .dataframe tbody tr th:only-of-type {\n",
              "        vertical-align: middle;\n",
              "    }\n",
              "\n",
              "    .dataframe tbody tr th {\n",
              "        vertical-align: top;\n",
              "    }\n",
              "\n",
              "    .dataframe thead th {\n",
              "        text-align: right;\n",
              "    }\n",
              "</style>\n",
              "<table border=\"1\" class=\"dataframe\">\n",
              "  <thead>\n",
              "    <tr style=\"text-align: right;\">\n",
              "      <th></th>\n",
              "      <th>Model</th>\n",
              "      <th>Accuarcy</th>\n",
              "      <th>Precision</th>\n",
              "      <th>Recall</th>\n",
              "      <th>F1</th>\n",
              "    </tr>\n",
              "  </thead>\n",
              "  <tbody>\n",
              "    <tr>\n",
              "      <th>0</th>\n",
              "      <td>VC_HARD</td>\n",
              "      <td>0.956223</td>\n",
              "      <td>0.5</td>\n",
              "      <td>0.022388</td>\n",
              "      <td>0.042857</td>\n",
              "    </tr>\n",
              "  </tbody>\n",
              "</table>\n",
              "</div>\n",
              "    <div class=\"colab-df-buttons\">\n",
              "\n",
              "  <div class=\"colab-df-container\">\n",
              "    <button class=\"colab-df-convert\" onclick=\"convertToInteractive('df-a9487e19-0e6d-463d-843d-59a4bf08be4a')\"\n",
              "            title=\"Convert this dataframe to an interactive table.\"\n",
              "            style=\"display:none;\">\n",
              "\n",
              "  <svg xmlns=\"http://www.w3.org/2000/svg\" height=\"24px\" viewBox=\"0 -960 960 960\">\n",
              "    <path d=\"M120-120v-720h720v720H120Zm60-500h600v-160H180v160Zm220 220h160v-160H400v160Zm0 220h160v-160H400v160ZM180-400h160v-160H180v160Zm440 0h160v-160H620v160ZM180-180h160v-160H180v160Zm440 0h160v-160H620v160Z\"/>\n",
              "  </svg>\n",
              "    </button>\n",
              "\n",
              "  <style>\n",
              "    .colab-df-container {\n",
              "      display:flex;\n",
              "      gap: 12px;\n",
              "    }\n",
              "\n",
              "    .colab-df-convert {\n",
              "      background-color: #E8F0FE;\n",
              "      border: none;\n",
              "      border-radius: 50%;\n",
              "      cursor: pointer;\n",
              "      display: none;\n",
              "      fill: #1967D2;\n",
              "      height: 32px;\n",
              "      padding: 0 0 0 0;\n",
              "      width: 32px;\n",
              "    }\n",
              "\n",
              "    .colab-df-convert:hover {\n",
              "      background-color: #E2EBFA;\n",
              "      box-shadow: 0px 1px 2px rgba(60, 64, 67, 0.3), 0px 1px 3px 1px rgba(60, 64, 67, 0.15);\n",
              "      fill: #174EA6;\n",
              "    }\n",
              "\n",
              "    .colab-df-buttons div {\n",
              "      margin-bottom: 4px;\n",
              "    }\n",
              "\n",
              "    [theme=dark] .colab-df-convert {\n",
              "      background-color: #3B4455;\n",
              "      fill: #D2E3FC;\n",
              "    }\n",
              "\n",
              "    [theme=dark] .colab-df-convert:hover {\n",
              "      background-color: #434B5C;\n",
              "      box-shadow: 0px 1px 3px 1px rgba(0, 0, 0, 0.15);\n",
              "      filter: drop-shadow(0px 1px 2px rgba(0, 0, 0, 0.3));\n",
              "      fill: #FFFFFF;\n",
              "    }\n",
              "  </style>\n",
              "\n",
              "    <script>\n",
              "      const buttonEl =\n",
              "        document.querySelector('#df-a9487e19-0e6d-463d-843d-59a4bf08be4a button.colab-df-convert');\n",
              "      buttonEl.style.display =\n",
              "        google.colab.kernel.accessAllowed ? 'block' : 'none';\n",
              "\n",
              "      async function convertToInteractive(key) {\n",
              "        const element = document.querySelector('#df-a9487e19-0e6d-463d-843d-59a4bf08be4a');\n",
              "        const dataTable =\n",
              "          await google.colab.kernel.invokeFunction('convertToInteractive',\n",
              "                                                    [key], {});\n",
              "        if (!dataTable) return;\n",
              "\n",
              "        const docLinkHtml = 'Like what you see? Visit the ' +\n",
              "          '<a target=\"_blank\" href=https://colab.research.google.com/notebooks/data_table.ipynb>data table notebook</a>'\n",
              "          + ' to learn more about interactive tables.';\n",
              "        element.innerHTML = '';\n",
              "        dataTable['output_type'] = 'display_data';\n",
              "        await google.colab.output.renderOutput(dataTable, element);\n",
              "        const docLink = document.createElement('div');\n",
              "        docLink.innerHTML = docLinkHtml;\n",
              "        element.appendChild(docLink);\n",
              "      }\n",
              "    </script>\n",
              "  </div>\n",
              "\n",
              "\n",
              "  <div id=\"id_70458d17-6783-4366-baff-2bb8c2a4f78a\">\n",
              "    <style>\n",
              "      .colab-df-generate {\n",
              "        background-color: #E8F0FE;\n",
              "        border: none;\n",
              "        border-radius: 50%;\n",
              "        cursor: pointer;\n",
              "        display: none;\n",
              "        fill: #1967D2;\n",
              "        height: 32px;\n",
              "        padding: 0 0 0 0;\n",
              "        width: 32px;\n",
              "      }\n",
              "\n",
              "      .colab-df-generate:hover {\n",
              "        background-color: #E2EBFA;\n",
              "        box-shadow: 0px 1px 2px rgba(60, 64, 67, 0.3), 0px 1px 3px 1px rgba(60, 64, 67, 0.15);\n",
              "        fill: #174EA6;\n",
              "      }\n",
              "\n",
              "      [theme=dark] .colab-df-generate {\n",
              "        background-color: #3B4455;\n",
              "        fill: #D2E3FC;\n",
              "      }\n",
              "\n",
              "      [theme=dark] .colab-df-generate:hover {\n",
              "        background-color: #434B5C;\n",
              "        box-shadow: 0px 1px 3px 1px rgba(0, 0, 0, 0.15);\n",
              "        filter: drop-shadow(0px 1px 2px rgba(0, 0, 0, 0.3));\n",
              "        fill: #FFFFFF;\n",
              "      }\n",
              "    </style>\n",
              "    <button class=\"colab-df-generate\" onclick=\"generateWithVariable('VC_hard_mat')\"\n",
              "            title=\"Generate code using this dataframe.\"\n",
              "            style=\"display:none;\">\n",
              "\n",
              "  <svg xmlns=\"http://www.w3.org/2000/svg\" height=\"24px\"viewBox=\"0 0 24 24\"\n",
              "       width=\"24px\">\n",
              "    <path d=\"M7,19H8.4L18.45,9,17,7.55,7,17.6ZM5,21V16.75L18.45,3.32a2,2,0,0,1,2.83,0l1.4,1.43a1.91,1.91,0,0,1,.58,1.4,1.91,1.91,0,0,1-.58,1.4L9.25,21ZM18.45,9,17,7.55Zm-12,3A5.31,5.31,0,0,0,4.9,8.1,5.31,5.31,0,0,0,1,6.5,5.31,5.31,0,0,0,4.9,4.9,5.31,5.31,0,0,0,6.5,1,5.31,5.31,0,0,0,8.1,4.9,5.31,5.31,0,0,0,12,6.5,5.46,5.46,0,0,0,6.5,12Z\"/>\n",
              "  </svg>\n",
              "    </button>\n",
              "    <script>\n",
              "      (() => {\n",
              "      const buttonEl =\n",
              "        document.querySelector('#id_70458d17-6783-4366-baff-2bb8c2a4f78a button.colab-df-generate');\n",
              "      buttonEl.style.display =\n",
              "        google.colab.kernel.accessAllowed ? 'block' : 'none';\n",
              "\n",
              "      buttonEl.onclick = () => {\n",
              "        google.colab.notebook.generateWithVariable('VC_hard_mat');\n",
              "      }\n",
              "      })();\n",
              "    </script>\n",
              "  </div>\n",
              "\n",
              "    </div>\n",
              "  </div>\n"
            ],
            "application/vnd.google.colaboratory.intrinsic+json": {
              "type": "dataframe",
              "variable_name": "VC_hard_mat",
              "summary": "{\n  \"name\": \"VC_hard_mat\",\n  \"rows\": 1,\n  \"fields\": [\n    {\n      \"column\": \"Model\",\n      \"properties\": {\n        \"dtype\": \"string\",\n        \"num_unique_values\": 1,\n        \"samples\": [\n          \"VC_HARD\"\n        ],\n        \"semantic_type\": \"\",\n        \"description\": \"\"\n      }\n    },\n    {\n      \"column\": \"Accuarcy\",\n      \"properties\": {\n        \"dtype\": \"number\",\n        \"std\": null,\n        \"min\": 0.9562234563868017,\n        \"max\": 0.9562234563868017,\n        \"num_unique_values\": 1,\n        \"samples\": [\n          0.9562234563868017\n        ],\n        \"semantic_type\": \"\",\n        \"description\": \"\"\n      }\n    },\n    {\n      \"column\": \"Precision\",\n      \"properties\": {\n        \"dtype\": \"number\",\n        \"std\": null,\n        \"min\": 0.5,\n        \"max\": 0.5,\n        \"num_unique_values\": 1,\n        \"samples\": [\n          0.5\n        ],\n        \"semantic_type\": \"\",\n        \"description\": \"\"\n      }\n    },\n    {\n      \"column\": \"Recall\",\n      \"properties\": {\n        \"dtype\": \"number\",\n        \"std\": null,\n        \"min\": 0.022388059701492536,\n        \"max\": 0.022388059701492536,\n        \"num_unique_values\": 1,\n        \"samples\": [\n          0.022388059701492536\n        ],\n        \"semantic_type\": \"\",\n        \"description\": \"\"\n      }\n    },\n    {\n      \"column\": \"F1\",\n      \"properties\": {\n        \"dtype\": \"number\",\n        \"std\": null,\n        \"min\": 0.04285714285714286,\n        \"max\": 0.04285714285714286,\n        \"num_unique_values\": 1,\n        \"samples\": [\n          0.04285714285714286\n        ],\n        \"semantic_type\": \"\",\n        \"description\": \"\"\n      }\n    }\n  ]\n}"
            }
          },
          "metadata": {},
          "execution_count": 139
        }
      ]
    },
    {
      "cell_type": "code",
      "source": [
        "VC_soft = VotingClassifier(estimators=estimator, voting='soft')\n",
        "VC_soft.fit(X_train, y_train)\n",
        "VC_soft_mat = metric_df(VC_soft, 'VC_soft')\n",
        "predictions.append(VC_soft_mat)"
      ],
      "metadata": {
        "colab": {
          "base_uri": "https://localhost:8080/"
        },
        "id": "OX5nGJYQYvAy",
        "outputId": "c26cfc8f-4ebf-44ef-c05b-ec5103fb4f79"
      },
      "execution_count": null,
      "outputs": [
        {
          "output_type": "stream",
          "name": "stderr",
          "text": [
            "/usr/local/lib/python3.10/dist-packages/sklearn/linear_model/_logistic.py:469: ConvergenceWarning:\n",
            "\n",
            "lbfgs failed to converge (status=1):\n",
            "STOP: TOTAL NO. of ITERATIONS REACHED LIMIT.\n",
            "\n",
            "Increase the number of iterations (max_iter) or scale the data as shown in:\n",
            "    https://scikit-learn.org/stable/modules/preprocessing.html\n",
            "Please also refer to the documentation for alternative solver options:\n",
            "    https://scikit-learn.org/stable/modules/linear_model.html#logistic-regression\n",
            "\n"
          ]
        },
        {
          "output_type": "stream",
          "name": "stdout",
          "text": [
            "[LightGBM] [Info] Number of positive: 498, number of negative: 11744\n",
            "[LightGBM] [Info] Auto-choosing row-wise multi-threading, the overhead of testing was 0.001243 seconds.\n",
            "You can set `force_row_wise=true` to remove the overhead.\n",
            "And if memory is not enough, you can set `force_col_wise=true`.\n",
            "[LightGBM] [Info] Total Bins 623\n",
            "[LightGBM] [Info] Number of data points in the train set: 12242, number of used features: 17\n",
            "[LightGBM] [Info] [binary:BoostFromScore]: pavg=0.040680 -> initscore=-3.160498\n",
            "[LightGBM] [Info] Start training from score -3.160498\n"
          ]
        }
      ]
    },
    {
      "cell_type": "code",
      "source": [
        "VC_soft_mat"
      ],
      "metadata": {
        "colab": {
          "base_uri": "https://localhost:8080/",
          "height": 89
        },
        "id": "zKBofoLxYw_f",
        "outputId": "6e76c19d-3fb5-4885-853a-efa85b45f3f2"
      },
      "execution_count": null,
      "outputs": [
        {
          "output_type": "execute_result",
          "data": {
            "text/plain": [
              "     Model  Accuarcy  Precision    Recall        F1\n",
              "0  VC_soft  0.955243        0.4  0.044776  0.080537"
            ],
            "text/html": [
              "\n",
              "  <div id=\"df-84fa4808-9bcb-4309-bf0d-8187f40098c3\" class=\"colab-df-container\">\n",
              "    <div>\n",
              "<style scoped>\n",
              "    .dataframe tbody tr th:only-of-type {\n",
              "        vertical-align: middle;\n",
              "    }\n",
              "\n",
              "    .dataframe tbody tr th {\n",
              "        vertical-align: top;\n",
              "    }\n",
              "\n",
              "    .dataframe thead th {\n",
              "        text-align: right;\n",
              "    }\n",
              "</style>\n",
              "<table border=\"1\" class=\"dataframe\">\n",
              "  <thead>\n",
              "    <tr style=\"text-align: right;\">\n",
              "      <th></th>\n",
              "      <th>Model</th>\n",
              "      <th>Accuarcy</th>\n",
              "      <th>Precision</th>\n",
              "      <th>Recall</th>\n",
              "      <th>F1</th>\n",
              "    </tr>\n",
              "  </thead>\n",
              "  <tbody>\n",
              "    <tr>\n",
              "      <th>0</th>\n",
              "      <td>VC_soft</td>\n",
              "      <td>0.955243</td>\n",
              "      <td>0.4</td>\n",
              "      <td>0.044776</td>\n",
              "      <td>0.080537</td>\n",
              "    </tr>\n",
              "  </tbody>\n",
              "</table>\n",
              "</div>\n",
              "    <div class=\"colab-df-buttons\">\n",
              "\n",
              "  <div class=\"colab-df-container\">\n",
              "    <button class=\"colab-df-convert\" onclick=\"convertToInteractive('df-84fa4808-9bcb-4309-bf0d-8187f40098c3')\"\n",
              "            title=\"Convert this dataframe to an interactive table.\"\n",
              "            style=\"display:none;\">\n",
              "\n",
              "  <svg xmlns=\"http://www.w3.org/2000/svg\" height=\"24px\" viewBox=\"0 -960 960 960\">\n",
              "    <path d=\"M120-120v-720h720v720H120Zm60-500h600v-160H180v160Zm220 220h160v-160H400v160Zm0 220h160v-160H400v160ZM180-400h160v-160H180v160Zm440 0h160v-160H620v160ZM180-180h160v-160H180v160Zm440 0h160v-160H620v160Z\"/>\n",
              "  </svg>\n",
              "    </button>\n",
              "\n",
              "  <style>\n",
              "    .colab-df-container {\n",
              "      display:flex;\n",
              "      gap: 12px;\n",
              "    }\n",
              "\n",
              "    .colab-df-convert {\n",
              "      background-color: #E8F0FE;\n",
              "      border: none;\n",
              "      border-radius: 50%;\n",
              "      cursor: pointer;\n",
              "      display: none;\n",
              "      fill: #1967D2;\n",
              "      height: 32px;\n",
              "      padding: 0 0 0 0;\n",
              "      width: 32px;\n",
              "    }\n",
              "\n",
              "    .colab-df-convert:hover {\n",
              "      background-color: #E2EBFA;\n",
              "      box-shadow: 0px 1px 2px rgba(60, 64, 67, 0.3), 0px 1px 3px 1px rgba(60, 64, 67, 0.15);\n",
              "      fill: #174EA6;\n",
              "    }\n",
              "\n",
              "    .colab-df-buttons div {\n",
              "      margin-bottom: 4px;\n",
              "    }\n",
              "\n",
              "    [theme=dark] .colab-df-convert {\n",
              "      background-color: #3B4455;\n",
              "      fill: #D2E3FC;\n",
              "    }\n",
              "\n",
              "    [theme=dark] .colab-df-convert:hover {\n",
              "      background-color: #434B5C;\n",
              "      box-shadow: 0px 1px 3px 1px rgba(0, 0, 0, 0.15);\n",
              "      filter: drop-shadow(0px 1px 2px rgba(0, 0, 0, 0.3));\n",
              "      fill: #FFFFFF;\n",
              "    }\n",
              "  </style>\n",
              "\n",
              "    <script>\n",
              "      const buttonEl =\n",
              "        document.querySelector('#df-84fa4808-9bcb-4309-bf0d-8187f40098c3 button.colab-df-convert');\n",
              "      buttonEl.style.display =\n",
              "        google.colab.kernel.accessAllowed ? 'block' : 'none';\n",
              "\n",
              "      async function convertToInteractive(key) {\n",
              "        const element = document.querySelector('#df-84fa4808-9bcb-4309-bf0d-8187f40098c3');\n",
              "        const dataTable =\n",
              "          await google.colab.kernel.invokeFunction('convertToInteractive',\n",
              "                                                    [key], {});\n",
              "        if (!dataTable) return;\n",
              "\n",
              "        const docLinkHtml = 'Like what you see? Visit the ' +\n",
              "          '<a target=\"_blank\" href=https://colab.research.google.com/notebooks/data_table.ipynb>data table notebook</a>'\n",
              "          + ' to learn more about interactive tables.';\n",
              "        element.innerHTML = '';\n",
              "        dataTable['output_type'] = 'display_data';\n",
              "        await google.colab.output.renderOutput(dataTable, element);\n",
              "        const docLink = document.createElement('div');\n",
              "        docLink.innerHTML = docLinkHtml;\n",
              "        element.appendChild(docLink);\n",
              "      }\n",
              "    </script>\n",
              "  </div>\n",
              "\n",
              "\n",
              "  <div id=\"id_0c73bc43-64b7-4a55-af4d-047f6dde148e\">\n",
              "    <style>\n",
              "      .colab-df-generate {\n",
              "        background-color: #E8F0FE;\n",
              "        border: none;\n",
              "        border-radius: 50%;\n",
              "        cursor: pointer;\n",
              "        display: none;\n",
              "        fill: #1967D2;\n",
              "        height: 32px;\n",
              "        padding: 0 0 0 0;\n",
              "        width: 32px;\n",
              "      }\n",
              "\n",
              "      .colab-df-generate:hover {\n",
              "        background-color: #E2EBFA;\n",
              "        box-shadow: 0px 1px 2px rgba(60, 64, 67, 0.3), 0px 1px 3px 1px rgba(60, 64, 67, 0.15);\n",
              "        fill: #174EA6;\n",
              "      }\n",
              "\n",
              "      [theme=dark] .colab-df-generate {\n",
              "        background-color: #3B4455;\n",
              "        fill: #D2E3FC;\n",
              "      }\n",
              "\n",
              "      [theme=dark] .colab-df-generate:hover {\n",
              "        background-color: #434B5C;\n",
              "        box-shadow: 0px 1px 3px 1px rgba(0, 0, 0, 0.15);\n",
              "        filter: drop-shadow(0px 1px 2px rgba(0, 0, 0, 0.3));\n",
              "        fill: #FFFFFF;\n",
              "      }\n",
              "    </style>\n",
              "    <button class=\"colab-df-generate\" onclick=\"generateWithVariable('VC_soft_mat')\"\n",
              "            title=\"Generate code using this dataframe.\"\n",
              "            style=\"display:none;\">\n",
              "\n",
              "  <svg xmlns=\"http://www.w3.org/2000/svg\" height=\"24px\"viewBox=\"0 0 24 24\"\n",
              "       width=\"24px\">\n",
              "    <path d=\"M7,19H8.4L18.45,9,17,7.55,7,17.6ZM5,21V16.75L18.45,3.32a2,2,0,0,1,2.83,0l1.4,1.43a1.91,1.91,0,0,1,.58,1.4,1.91,1.91,0,0,1-.58,1.4L9.25,21ZM18.45,9,17,7.55Zm-12,3A5.31,5.31,0,0,0,4.9,8.1,5.31,5.31,0,0,0,1,6.5,5.31,5.31,0,0,0,4.9,4.9,5.31,5.31,0,0,0,6.5,1,5.31,5.31,0,0,0,8.1,4.9,5.31,5.31,0,0,0,12,6.5,5.46,5.46,0,0,0,6.5,12Z\"/>\n",
              "  </svg>\n",
              "    </button>\n",
              "    <script>\n",
              "      (() => {\n",
              "      const buttonEl =\n",
              "        document.querySelector('#id_0c73bc43-64b7-4a55-af4d-047f6dde148e button.colab-df-generate');\n",
              "      buttonEl.style.display =\n",
              "        google.colab.kernel.accessAllowed ? 'block' : 'none';\n",
              "\n",
              "      buttonEl.onclick = () => {\n",
              "        google.colab.notebook.generateWithVariable('VC_soft_mat');\n",
              "      }\n",
              "      })();\n",
              "    </script>\n",
              "  </div>\n",
              "\n",
              "    </div>\n",
              "  </div>\n"
            ],
            "application/vnd.google.colaboratory.intrinsic+json": {
              "type": "dataframe",
              "variable_name": "VC_soft_mat",
              "summary": "{\n  \"name\": \"VC_soft_mat\",\n  \"rows\": 1,\n  \"fields\": [\n    {\n      \"column\": \"Model\",\n      \"properties\": {\n        \"dtype\": \"string\",\n        \"num_unique_values\": 1,\n        \"samples\": [\n          \"VC_soft\"\n        ],\n        \"semantic_type\": \"\",\n        \"description\": \"\"\n      }\n    },\n    {\n      \"column\": \"Accuarcy\",\n      \"properties\": {\n        \"dtype\": \"number\",\n        \"std\": null,\n        \"min\": 0.9552433845148645,\n        \"max\": 0.9552433845148645,\n        \"num_unique_values\": 1,\n        \"samples\": [\n          0.9552433845148645\n        ],\n        \"semantic_type\": \"\",\n        \"description\": \"\"\n      }\n    },\n    {\n      \"column\": \"Precision\",\n      \"properties\": {\n        \"dtype\": \"number\",\n        \"std\": null,\n        \"min\": 0.4,\n        \"max\": 0.4,\n        \"num_unique_values\": 1,\n        \"samples\": [\n          0.4\n        ],\n        \"semantic_type\": \"\",\n        \"description\": \"\"\n      }\n    },\n    {\n      \"column\": \"Recall\",\n      \"properties\": {\n        \"dtype\": \"number\",\n        \"std\": null,\n        \"min\": 0.04477611940298507,\n        \"max\": 0.04477611940298507,\n        \"num_unique_values\": 1,\n        \"samples\": [\n          0.04477611940298507\n        ],\n        \"semantic_type\": \"\",\n        \"description\": \"\"\n      }\n    },\n    {\n      \"column\": \"F1\",\n      \"properties\": {\n        \"dtype\": \"number\",\n        \"std\": null,\n        \"min\": 0.08053691275167785,\n        \"max\": 0.08053691275167785,\n        \"num_unique_values\": 1,\n        \"samples\": [\n          0.08053691275167785\n        ],\n        \"semantic_type\": \"\",\n        \"description\": \"\"\n      }\n    }\n  ]\n}"
            }
          },
          "metadata": {},
          "execution_count": 141
        }
      ]
    },
    {
      "cell_type": "code",
      "source": [
        "prediction_base = pd.concat(predictions, ignore_index=True, sort =False)\n",
        "prediction_base = prediction_base.sort_values(by=['Recall'], ascending=False).style.hide(axis = 'index')"
      ],
      "metadata": {
        "id": "lL104zELYylu"
      },
      "execution_count": null,
      "outputs": []
    },
    {
      "cell_type": "code",
      "source": [
        "prediction_base"
      ],
      "metadata": {
        "colab": {
          "base_uri": "https://localhost:8080/",
          "height": 269
        },
        "id": "M85A-lKMY0GA",
        "outputId": "34a451d5-d65a-4486-aac2-f8701c09a820"
      },
      "execution_count": null,
      "outputs": [
        {
          "output_type": "execute_result",
          "data": {
            "text/plain": [
              "<pandas.io.formats.style.Styler at 0x79cb074100d0>"
            ],
            "text/html": [
              "<style type=\"text/css\">\n",
              "</style>\n",
              "<table id=\"T_0964a\" class=\"dataframe\">\n",
              "  <thead>\n",
              "    <tr>\n",
              "      <th id=\"T_0964a_level0_col0\" class=\"col_heading level0 col0\" >Model</th>\n",
              "      <th id=\"T_0964a_level0_col1\" class=\"col_heading level0 col1\" >Accuarcy</th>\n",
              "      <th id=\"T_0964a_level0_col2\" class=\"col_heading level0 col2\" >Precision</th>\n",
              "      <th id=\"T_0964a_level0_col3\" class=\"col_heading level0 col3\" >Recall</th>\n",
              "      <th id=\"T_0964a_level0_col4\" class=\"col_heading level0 col4\" >F1</th>\n",
              "    </tr>\n",
              "  </thead>\n",
              "  <tbody>\n",
              "    <tr>\n",
              "      <td id=\"T_0964a_row0_col0\" class=\"data row0 col0\" >Logistic With SMOTE</td>\n",
              "      <td id=\"T_0964a_row0_col1\" class=\"data row0 col1\" >0.793205</td>\n",
              "      <td id=\"T_0964a_row0_col2\" class=\"data row0 col2\" >0.146099</td>\n",
              "      <td id=\"T_0964a_row0_col3\" class=\"data row0 col3\" >0.768657</td>\n",
              "      <td id=\"T_0964a_row0_col4\" class=\"data row0 col4\" >0.245530</td>\n",
              "    </tr>\n",
              "    <tr>\n",
              "      <td id=\"T_0964a_row1_col0\" class=\"data row1 col0\" >XGBClassifier</td>\n",
              "      <td id=\"T_0964a_row1_col1\" class=\"data row1 col1\" >0.953610</td>\n",
              "      <td id=\"T_0964a_row1_col2\" class=\"data row1 col2\" >0.388889</td>\n",
              "      <td id=\"T_0964a_row1_col3\" class=\"data row1 col3\" >0.104478</td>\n",
              "      <td id=\"T_0964a_row1_col4\" class=\"data row1 col4\" >0.164706</td>\n",
              "    </tr>\n",
              "    <tr>\n",
              "      <td id=\"T_0964a_row2_col0\" class=\"data row2 col0\" >LightGBM</td>\n",
              "      <td id=\"T_0964a_row2_col1\" class=\"data row2 col1\" >0.954590</td>\n",
              "      <td id=\"T_0964a_row2_col2\" class=\"data row2 col2\" >0.380952</td>\n",
              "      <td id=\"T_0964a_row2_col3\" class=\"data row2 col3\" >0.059701</td>\n",
              "      <td id=\"T_0964a_row2_col4\" class=\"data row2 col4\" >0.103226</td>\n",
              "    </tr>\n",
              "    <tr>\n",
              "      <td id=\"T_0964a_row3_col0\" class=\"data row3 col0\" >VC_soft</td>\n",
              "      <td id=\"T_0964a_row3_col1\" class=\"data row3 col1\" >0.955243</td>\n",
              "      <td id=\"T_0964a_row3_col2\" class=\"data row3 col2\" >0.400000</td>\n",
              "      <td id=\"T_0964a_row3_col3\" class=\"data row3 col3\" >0.044776</td>\n",
              "      <td id=\"T_0964a_row3_col4\" class=\"data row3 col4\" >0.080537</td>\n",
              "    </tr>\n",
              "    <tr>\n",
              "      <td id=\"T_0964a_row4_col0\" class=\"data row4 col0\" >RandomForestClassifier</td>\n",
              "      <td id=\"T_0964a_row4_col1\" class=\"data row4 col1\" >0.952957</td>\n",
              "      <td id=\"T_0964a_row4_col2\" class=\"data row4 col2\" >0.250000</td>\n",
              "      <td id=\"T_0964a_row4_col3\" class=\"data row4 col3\" >0.037313</td>\n",
              "      <td id=\"T_0964a_row4_col4\" class=\"data row4 col4\" >0.064935</td>\n",
              "    </tr>\n",
              "    <tr>\n",
              "      <td id=\"T_0964a_row5_col0\" class=\"data row5 col0\" >LogisticRegression</td>\n",
              "      <td id=\"T_0964a_row5_col1\" class=\"data row5 col1\" >0.955243</td>\n",
              "      <td id=\"T_0964a_row5_col2\" class=\"data row5 col2\" >0.333333</td>\n",
              "      <td id=\"T_0964a_row5_col3\" class=\"data row5 col3\" >0.022388</td>\n",
              "      <td id=\"T_0964a_row5_col4\" class=\"data row5 col4\" >0.041958</td>\n",
              "    </tr>\n",
              "    <tr>\n",
              "      <td id=\"T_0964a_row6_col0\" class=\"data row6 col0\" >VC_HARD</td>\n",
              "      <td id=\"T_0964a_row6_col1\" class=\"data row6 col1\" >0.956223</td>\n",
              "      <td id=\"T_0964a_row6_col2\" class=\"data row6 col2\" >0.500000</td>\n",
              "      <td id=\"T_0964a_row6_col3\" class=\"data row6 col3\" >0.022388</td>\n",
              "      <td id=\"T_0964a_row6_col4\" class=\"data row6 col4\" >0.042857</td>\n",
              "    </tr>\n",
              "  </tbody>\n",
              "</table>\n"
            ]
          },
          "metadata": {},
          "execution_count": 143
        }
      ]
    },
    {
      "cell_type": "code",
      "source": [
        "models_to_plot = [\n",
        "    'LogisticRegression',\n",
        "    'RandomForestClassifier',\n",
        "    'XGBClassifier',\n",
        "    'Logistic With SMOTE'\n",
        "]"
      ],
      "metadata": {
        "id": "MBjVRtPKY1Yp"
      },
      "execution_count": null,
      "outputs": []
    },
    {
      "cell_type": "code",
      "source": [
        "fig, axes = plt.subplots(nrows = 2, ncols =2, figsize = (9, 7))\n",
        "for ax, model_name in zip(axes.ravel(), models_to_plot):\n",
        "    confusion_mat = confusion_mats[model_name]\n",
        "    sns.heatmap(confusion_mat, annot=True, fmt='d', cmap = 'Blues', ax = ax)\n",
        "    ax.set_title(f'{model_name}')\n",
        "    ax.set_xlabel('Predicted')\n",
        "    ax.set_ylabel('Actual')\n",
        "\n",
        "plt.tight_layout()\n",
        "plt.subplots_adjust(left=0, right = 0.9, top =0.9, bottom = 0)\n",
        "plt.show()"
      ],
      "metadata": {
        "colab": {
          "base_uri": "https://localhost:8080/",
          "height": 732
        },
        "id": "0UKOAm_IY244",
        "outputId": "647aecc8-40be-4270-9dbe-d6d8e74d4ffc"
      },
      "execution_count": null,
      "outputs": [
        {
          "output_type": "display_data",
          "data": {
            "text/plain": [
              "<Figure size 900x700 with 8 Axes>"
            ],
            "image/png": "[encoded data removed]"
          },
          "metadata": {}
        }
      ]
    },
    {
      "cell_type": "code",
      "source": [
        "# AUC - ROC Curve Homework ->\n",
        "from sklearn.metrics import roc_auc_score, roc_curve, auc\n",
        "# Precision - recall curve\n",
        "from sklearn.metrics import PredictionErrorDisplay"
      ],
      "metadata": {
        "id": "coS-yHmzY41n"
      },
      "execution_count": null,
      "outputs": []
    },
    {
      "cell_type": "code",
      "source": [
        "# Retrain & Save Model\n",
        "X_train = train_inputs[numerical_cols + encoded_cols]\n",
        "y_train = train_df[target_col]"
      ],
      "metadata": {
        "id": "3MV0ONYCY8me"
      },
      "execution_count": null,
      "outputs": []
    },
    {
      "cell_type": "code",
      "source": [
        "preds = lr_with_smote.predict(X_test)"
      ],
      "metadata": {
        "id": "0vgero83Y-Nn"
      },
      "execution_count": null,
      "outputs": []
    },
    {
      "cell_type": "code",
      "source": [
        "preds"
      ],
      "metadata": {
        "colab": {
          "base_uri": "https://localhost:8080/"
        },
        "id": "1sBi4wEaY_nG",
        "outputId": "a05ad392-84e4-45fc-92be-855956e4e9e2"
      },
      "execution_count": null,
      "outputs": [
        {
          "output_type": "execute_result",
          "data": {
            "text/plain": [
              "array([0, 0, 0, ..., 0, 0, 0])"
            ]
          },
          "metadata": {},
          "execution_count": 149
        }
      ]
    },
    {
      "cell_type": "code",
      "source": [
        "sub_df = preds"
      ],
      "metadata": {
        "id": "8A8Dj2iIZA4W"
      },
      "execution_count": null,
      "outputs": []
    },
    {
      "cell_type": "code",
      "source": [
        "pd.DataFrame(sub_df).to_csv(\"submission.csv\", index=None)"
      ],
      "metadata": {
        "id": "jJLDBUdRZCCg"
      },
      "execution_count": null,
      "outputs": []
    },
    {
      "cell_type": "code",
      "source": [
        "sub_df = pd.read_csv(\"submission.csv\")"
      ],
      "metadata": {
        "id": "1kGOHjLLZD3A"
      },
      "execution_count": null,
      "outputs": []
    },
    {
      "cell_type": "code",
      "source": [
        "sub_df.head()"
      ],
      "metadata": {
        "colab": {
          "base_uri": "https://localhost:8080/",
          "height": 206
        },
        "id": "n7Ir9z65ZFNW",
        "outputId": "4bd7f750-25d6-428f-871b-06e4fedab424"
      },
      "execution_count": null,
      "outputs": [
        {
          "output_type": "execute_result",
          "data": {
            "text/plain": [
              "   0\n",
              "0  0\n",
              "1  0\n",
              "2  0\n",
              "3  1\n",
              "4  0"
            ],
            "text/html": [
              "\n",
              "  <div id=\"df-b3112b6c-7b7a-4189-b1ab-c03173cfc928\" class=\"colab-df-container\">\n",
              "    <div>\n",
              "<style scoped>\n",
              "    .dataframe tbody tr th:only-of-type {\n",
              "        vertical-align: middle;\n",
              "    }\n",
              "\n",
              "    .dataframe tbody tr th {\n",
              "        vertical-align: top;\n",
              "    }\n",
              "\n",
              "    .dataframe thead th {\n",
              "        text-align: right;\n",
              "    }\n",
              "</style>\n",
              "<table border=\"1\" class=\"dataframe\">\n",
              "  <thead>\n",
              "    <tr style=\"text-align: right;\">\n",
              "      <th></th>\n",
              "      <th>0</th>\n",
              "    </tr>\n",
              "  </thead>\n",
              "  <tbody>\n",
              "    <tr>\n",
              "      <th>0</th>\n",
              "      <td>0</td>\n",
              "    </tr>\n",
              "    <tr>\n",
              "      <th>1</th>\n",
              "      <td>0</td>\n",
              "    </tr>\n",
              "    <tr>\n",
              "      <th>2</th>\n",
              "      <td>0</td>\n",
              "    </tr>\n",
              "    <tr>\n",
              "      <th>3</th>\n",
              "      <td>1</td>\n",
              "    </tr>\n",
              "    <tr>\n",
              "      <th>4</th>\n",
              "      <td>0</td>\n",
              "    </tr>\n",
              "  </tbody>\n",
              "</table>\n",
              "</div>\n",
              "    <div class=\"colab-df-buttons\">\n",
              "\n",
              "  <div class=\"colab-df-container\">\n",
              "    <button class=\"colab-df-convert\" onclick=\"convertToInteractive('df-b3112b6c-7b7a-4189-b1ab-c03173cfc928')\"\n",
              "            title=\"Convert this dataframe to an interactive table.\"\n",
              "            style=\"display:none;\">\n",
              "\n",
              "  <svg xmlns=\"http://www.w3.org/2000/svg\" height=\"24px\" viewBox=\"0 -960 960 960\">\n",
              "    <path d=\"M120-120v-720h720v720H120Zm60-500h600v-160H180v160Zm220 220h160v-160H400v160Zm0 220h160v-160H400v160ZM180-400h160v-160H180v160Zm440 0h160v-160H620v160ZM180-180h160v-160H180v160Zm440 0h160v-160H620v160Z\"/>\n",
              "  </svg>\n",
              "    </button>\n",
              "\n",
              "  <style>\n",
              "    .colab-df-container {\n",
              "      display:flex;\n",
              "      gap: 12px;\n",
              "    }\n",
              "\n",
              "    .colab-df-convert {\n",
              "      background-color: #E8F0FE;\n",
              "      border: none;\n",
              "      border-radius: 50%;\n",
              "      cursor: pointer;\n",
              "      display: none;\n",
              "      fill: #1967D2;\n",
              "      height: 32px;\n",
              "      padding: 0 0 0 0;\n",
              "      width: 32px;\n",
              "    }\n",
              "\n",
              "    .colab-df-convert:hover {\n",
              "      background-color: #E2EBFA;\n",
              "      box-shadow: 0px 1px 2px rgba(60, 64, 67, 0.3), 0px 1px 3px 1px rgba(60, 64, 67, 0.15);\n",
              "      fill: #174EA6;\n",
              "    }\n",
              "\n",
              "    .colab-df-buttons div {\n",
              "      margin-bottom: 4px;\n",
              "    }\n",
              "\n",
              "    [theme=dark] .colab-df-convert {\n",
              "      background-color: #3B4455;\n",
              "      fill: #D2E3FC;\n",
              "    }\n",
              "\n",
              "    [theme=dark] .colab-df-convert:hover {\n",
              "      background-color: #434B5C;\n",
              "      box-shadow: 0px 1px 3px 1px rgba(0, 0, 0, 0.15);\n",
              "      filter: drop-shadow(0px 1px 2px rgba(0, 0, 0, 0.3));\n",
              "      fill: #FFFFFF;\n",
              "    }\n",
              "  </style>\n",
              "\n",
              "    <script>\n",
              "      const buttonEl =\n",
              "        document.querySelector('#df-b3112b6c-7b7a-4189-b1ab-c03173cfc928 button.colab-df-convert');\n",
              "      buttonEl.style.display =\n",
              "        google.colab.kernel.accessAllowed ? 'block' : 'none';\n",
              "\n",
              "      async function convertToInteractive(key) {\n",
              "        const element = document.querySelector('#df-b3112b6c-7b7a-4189-b1ab-c03173cfc928');\n",
              "        const dataTable =\n",
              "          await google.colab.kernel.invokeFunction('convertToInteractive',\n",
              "                                                    [key], {});\n",
              "        if (!dataTable) return;\n",
              "\n",
              "        const docLinkHtml = 'Like what you see? Visit the ' +\n",
              "          '<a target=\"_blank\" href=https://colab.research.google.com/notebooks/data_table.ipynb>data table notebook</a>'\n",
              "          + ' to learn more about interactive tables.';\n",
              "        element.innerHTML = '';\n",
              "        dataTable['output_type'] = 'display_data';\n",
              "        await google.colab.output.renderOutput(dataTable, element);\n",
              "        const docLink = document.createElement('div');\n",
              "        docLink.innerHTML = docLinkHtml;\n",
              "        element.appendChild(docLink);\n",
              "      }\n",
              "    </script>\n",
              "  </div>\n",
              "\n",
              "\n",
              "<div id=\"df-77f6ad20-0eb4-4c2b-8899-5c57bce09353\">\n",
              "  <button class=\"colab-df-quickchart\" onclick=\"quickchart('df-77f6ad20-0eb4-4c2b-8899-5c57bce09353')\"\n",
              "            title=\"Suggest charts\"\n",
              "            style=\"display:none;\">\n",
              "\n",
              "<svg xmlns=\"http://www.w3.org/2000/svg\" height=\"24px\"viewBox=\"0 0 24 24\"\n",
              "     width=\"24px\">\n",
              "    <g>\n",
              "        <path d=\"M19 3H5c-1.1 0-2 .9-2 2v14c0 1.1.9 2 2 2h14c1.1 0 2-.9 2-2V5c0-1.1-.9-2-2-2zM9 17H7v-7h2v7zm4 0h-2V7h2v10zm4 0h-2v-4h2v4z\"/>\n",
              "    </g>\n",
              "</svg>\n",
              "  </button>\n",
              "\n",
              "<style>\n",
              "  .colab-df-quickchart {\n",
              "      --bg-color: #E8F0FE;\n",
              "      --fill-color: #1967D2;\n",
              "      --hover-bg-color: #E2EBFA;\n",
              "      --hover-fill-color: #174EA6;\n",
              "      --disabled-fill-color: #AAA;\n",
              "      --disabled-bg-color: #DDD;\n",
              "  }\n",
              "\n",
              "  [theme=dark] .colab-df-quickchart {\n",
              "      --bg-color: #3B4455;\n",
              "      --fill-color: #D2E3FC;\n",
              "      --hover-bg-color: #434B5C;\n",
              "      --hover-fill-color: #FFFFFF;\n",
              "      --disabled-bg-color: #3B4455;\n",
              "      --disabled-fill-color: #666;\n",
              "  }\n",
              "\n",
              "  .colab-df-quickchart {\n",
              "    background-color: var(--bg-color);\n",
              "    border: none;\n",
              "    border-radius: 50%;\n",
              "    cursor: pointer;\n",
              "    display: none;\n",
              "    fill: var(--fill-color);\n",
              "    height: 32px;\n",
              "    padding: 0;\n",
              "    width: 32px;\n",
              "  }\n",
              "\n",
              "  .colab-df-quickchart:hover {\n",
              "    background-color: var(--hover-bg-color);\n",
              "    box-shadow: 0 1px 2px rgba(60, 64, 67, 0.3), 0 1px 3px 1px rgba(60, 64, 67, 0.15);\n",
              "    fill: var(--button-hover-fill-color);\n",
              "  }\n",
              "\n",
              "  .colab-df-quickchart-complete:disabled,\n",
              "  .colab-df-quickchart-complete:disabled:hover {\n",
              "    background-color: var(--disabled-bg-color);\n",
              "    fill: var(--disabled-fill-color);\n",
              "    box-shadow: none;\n",
              "  }\n",
              "\n",
              "  .colab-df-spinner {\n",
              "    border: 2px solid var(--fill-color);\n",
              "    border-color: transparent;\n",
              "    border-bottom-color: var(--fill-color);\n",
              "    animation:\n",
              "      spin 1s steps(1) infinite;\n",
              "  }\n",
              "\n",
              "  @keyframes spin {\n",
              "    0% {\n",
              "      border-color: transparent;\n",
              "      border-bottom-color: var(--fill-color);\n",
              "      border-left-color: var(--fill-color);\n",
              "    }\n",
              "    20% {\n",
              "      border-color: transparent;\n",
              "      border-left-color: var(--fill-color);\n",
              "      border-top-color: var(--fill-color);\n",
              "    }\n",
              "    30% {\n",
              "      border-color: transparent;\n",
              "      border-left-color: var(--fill-color);\n",
              "      border-top-color: var(--fill-color);\n",
              "      border-right-color: var(--fill-color);\n",
              "    }\n",
              "    40% {\n",
              "      border-color: transparent;\n",
              "      border-right-color: var(--fill-color);\n",
              "      border-top-color: var(--fill-color);\n",
              "    }\n",
              "    60% {\n",
              "      border-color: transparent;\n",
              "      border-right-color: var(--fill-color);\n",
              "    }\n",
              "    80% {\n",
              "      border-color: transparent;\n",
              "      border-right-color: var(--fill-color);\n",
              "      border-bottom-color: var(--fill-color);\n",
              "    }\n",
              "    90% {\n",
              "      border-color: transparent;\n",
              "      border-bottom-color: var(--fill-color);\n",
              "    }\n",
              "  }\n",
              "</style>\n",
              "\n",
              "  <script>\n",
              "    async function quickchart(key) {\n",
              "      const quickchartButtonEl =\n",
              "        document.querySelector('#' + key + ' button');\n",
              "      quickchartButtonEl.disabled = true;  // To prevent multiple clicks.\n",
              "      quickchartButtonEl.classList.add('colab-df-spinner');\n",
              "      try {\n",
              "        const charts = await google.colab.kernel.invokeFunction(\n",
              "            'suggestCharts', [key], {});\n",
              "      } catch (error) {\n",
              "        console.error('Error during call to suggestCharts:', error);\n",
              "      }\n",
              "      quickchartButtonEl.classList.remove('colab-df-spinner');\n",
              "      quickchartButtonEl.classList.add('colab-df-quickchart-complete');\n",
              "    }\n",
              "    (() => {\n",
              "      let quickchartButtonEl =\n",
              "        document.querySelector('#df-77f6ad20-0eb4-4c2b-8899-5c57bce09353 button');\n",
              "      quickchartButtonEl.style.display =\n",
              "        google.colab.kernel.accessAllowed ? 'block' : 'none';\n",
              "    })();\n",
              "  </script>\n",
              "</div>\n",
              "\n",
              "    </div>\n",
              "  </div>\n"
            ],
            "application/vnd.google.colaboratory.intrinsic+json": {
              "type": "dataframe",
              "variable_name": "sub_df",
              "summary": "{\n  \"name\": \"sub_df\",\n  \"rows\": 10203,\n  \"fields\": [\n    {\n      \"column\": \"0\",\n      \"properties\": {\n        \"dtype\": \"number\",\n        \"std\": 0,\n        \"min\": 0,\n        \"max\": 1,\n        \"num_unique_values\": 2,\n        \"samples\": [\n          1,\n          0\n        ],\n        \"semantic_type\": \"\",\n        \"description\": \"\"\n      }\n    }\n  ]\n}"
            }
          },
          "metadata": {},
          "execution_count": 153
        }
      ]
    },
    {
      "cell_type": "code",
      "source": [
        "# Make Prediction on a single input\n",
        "\n",
        "sub_df['stroke'] = preds"
      ],
      "metadata": {
        "id": "20MbHE_TZGeG"
      },
      "execution_count": null,
      "outputs": []
    },
    {
      "cell_type": "code",
      "source": [
        "sub_df"
      ],
      "metadata": {
        "colab": {
          "base_uri": "https://localhost:8080/",
          "height": 424
        },
        "id": "KGmOiGdvZIWg",
        "outputId": "00b0881a-0526-4e94-bea1-d332fec304c3"
      },
      "execution_count": null,
      "outputs": [
        {
          "output_type": "execute_result",
          "data": {
            "text/plain": [
              "       0  stroke\n",
              "0      0       0\n",
              "1      0       0\n",
              "2      0       0\n",
              "3      1       1\n",
              "4      0       0\n",
              "...   ..     ...\n",
              "10198  0       0\n",
              "10199  0       0\n",
              "10200  0       0\n",
              "10201  0       0\n",
              "10202  0       0\n",
              "\n",
              "[10203 rows x 2 columns]"
            ],
            "text/html": [
              "\n",
              "  <div id=\"df-db519197-6fdb-4eed-b53d-e737d492c994\" class=\"colab-df-container\">\n",
              "    <div>\n",
              "<style scoped>\n",
              "    .dataframe tbody tr th:only-of-type {\n",
              "        vertical-align: middle;\n",
              "    }\n",
              "\n",
              "    .dataframe tbody tr th {\n",
              "        vertical-align: top;\n",
              "    }\n",
              "\n",
              "    .dataframe thead th {\n",
              "        text-align: right;\n",
              "    }\n",
              "</style>\n",
              "<table border=\"1\" class=\"dataframe\">\n",
              "  <thead>\n",
              "    <tr style=\"text-align: right;\">\n",
              "      <th></th>\n",
              "      <th>0</th>\n",
              "      <th>stroke</th>\n",
              "    </tr>\n",
              "  </thead>\n",
              "  <tbody>\n",
              "    <tr>\n",
              "      <th>0</th>\n",
              "      <td>0</td>\n",
              "      <td>0</td>\n",
              "    </tr>\n",
              "    <tr>\n",
              "      <th>1</th>\n",
              "      <td>0</td>\n",
              "      <td>0</td>\n",
              "    </tr>\n",
              "    <tr>\n",
              "      <th>2</th>\n",
              "      <td>0</td>\n",
              "      <td>0</td>\n",
              "    </tr>\n",
              "    <tr>\n",
              "      <th>3</th>\n",
              "      <td>1</td>\n",
              "      <td>1</td>\n",
              "    </tr>\n",
              "    <tr>\n",
              "      <th>4</th>\n",
              "      <td>0</td>\n",
              "      <td>0</td>\n",
              "    </tr>\n",
              "    <tr>\n",
              "      <th>...</th>\n",
              "      <td>...</td>\n",
              "      <td>...</td>\n",
              "    </tr>\n",
              "    <tr>\n",
              "      <th>10198</th>\n",
              "      <td>0</td>\n",
              "      <td>0</td>\n",
              "    </tr>\n",
              "    <tr>\n",
              "      <th>10199</th>\n",
              "      <td>0</td>\n",
              "      <td>0</td>\n",
              "    </tr>\n",
              "    <tr>\n",
              "      <th>10200</th>\n",
              "      <td>0</td>\n",
              "      <td>0</td>\n",
              "    </tr>\n",
              "    <tr>\n",
              "      <th>10201</th>\n",
              "      <td>0</td>\n",
              "      <td>0</td>\n",
              "    </tr>\n",
              "    <tr>\n",
              "      <th>10202</th>\n",
              "      <td>0</td>\n",
              "      <td>0</td>\n",
              "    </tr>\n",
              "  </tbody>\n",
              "</table>\n",
              "<p>10203 rows × 2 columns</p>\n",
              "</div>\n",
              "    <div class=\"colab-df-buttons\">\n",
              "\n",
              "  <div class=\"colab-df-container\">\n",
              "    <button class=\"colab-df-convert\" onclick=\"convertToInteractive('df-db519197-6fdb-4eed-b53d-e737d492c994')\"\n",
              "            title=\"Convert this dataframe to an interactive table.\"\n",
              "            style=\"display:none;\">\n",
              "\n",
              "  <svg xmlns=\"http://www.w3.org/2000/svg\" height=\"24px\" viewBox=\"0 -960 960 960\">\n",
              "    <path d=\"M120-120v-720h720v720H120Zm60-500h600v-160H180v160Zm220 220h160v-160H400v160Zm0 220h160v-160H400v160ZM180-400h160v-160H180v160Zm440 0h160v-160H620v160ZM180-180h160v-160H180v160Zm440 0h160v-160H620v160Z\"/>\n",
              "  </svg>\n",
              "    </button>\n",
              "\n",
              "  <style>\n",
              "    .colab-df-container {\n",
              "      display:flex;\n",
              "      gap: 12px;\n",
              "    }\n",
              "\n",
              "    .colab-df-convert {\n",
              "      background-color: #E8F0FE;\n",
              "      border: none;\n",
              "      border-radius: 50%;\n",
              "      cursor: pointer;\n",
              "      display: none;\n",
              "      fill: #1967D2;\n",
              "      height: 32px;\n",
              "      padding: 0 0 0 0;\n",
              "      width: 32px;\n",
              "    }\n",
              "\n",
              "    .colab-df-convert:hover {\n",
              "      background-color: #E2EBFA;\n",
              "      box-shadow: 0px 1px 2px rgba(60, 64, 67, 0.3), 0px 1px 3px 1px rgba(60, 64, 67, 0.15);\n",
              "      fill: #174EA6;\n",
              "    }\n",
              "\n",
              "    .colab-df-buttons div {\n",
              "      margin-bottom: 4px;\n",
              "    }\n",
              "\n",
              "    [theme=dark] .colab-df-convert {\n",
              "      background-color: #3B4455;\n",
              "      fill: #D2E3FC;\n",
              "    }\n",
              "\n",
              "    [theme=dark] .colab-df-convert:hover {\n",
              "      background-color: #434B5C;\n",
              "      box-shadow: 0px 1px 3px 1px rgba(0, 0, 0, 0.15);\n",
              "      filter: drop-shadow(0px 1px 2px rgba(0, 0, 0, 0.3));\n",
              "      fill: #FFFFFF;\n",
              "    }\n",
              "  </style>\n",
              "\n",
              "    <script>\n",
              "      const buttonEl =\n",
              "        document.querySelector('#df-db519197-6fdb-4eed-b53d-e737d492c994 button.colab-df-convert');\n",
              "      buttonEl.style.display =\n",
              "        google.colab.kernel.accessAllowed ? 'block' : 'none';\n",
              "\n",
              "      async function convertToInteractive(key) {\n",
              "        const element = document.querySelector('#df-db519197-6fdb-4eed-b53d-e737d492c994');\n",
              "        const dataTable =\n",
              "          await google.colab.kernel.invokeFunction('convertToInteractive',\n",
              "                                                    [key], {});\n",
              "        if (!dataTable) return;\n",
              "\n",
              "        const docLinkHtml = 'Like what you see? Visit the ' +\n",
              "          '<a target=\"_blank\" href=https://colab.research.google.com/notebooks/data_table.ipynb>data table notebook</a>'\n",
              "          + ' to learn more about interactive tables.';\n",
              "        element.innerHTML = '';\n",
              "        dataTable['output_type'] = 'display_data';\n",
              "        await google.colab.output.renderOutput(dataTable, element);\n",
              "        const docLink = document.createElement('div');\n",
              "        docLink.innerHTML = docLinkHtml;\n",
              "        element.appendChild(docLink);\n",
              "      }\n",
              "    </script>\n",
              "  </div>\n",
              "\n",
              "\n",
              "<div id=\"df-9a6c67c2-7ce1-4f15-9958-421084eb899a\">\n",
              "  <button class=\"colab-df-quickchart\" onclick=\"quickchart('df-9a6c67c2-7ce1-4f15-9958-421084eb899a')\"\n",
              "            title=\"Suggest charts\"\n",
              "            style=\"display:none;\">\n",
              "\n",
              "<svg xmlns=\"http://www.w3.org/2000/svg\" height=\"24px\"viewBox=\"0 0 24 24\"\n",
              "     width=\"24px\">\n",
              "    <g>\n",
              "        <path d=\"M19 3H5c-1.1 0-2 .9-2 2v14c0 1.1.9 2 2 2h14c1.1 0 2-.9 2-2V5c0-1.1-.9-2-2-2zM9 17H7v-7h2v7zm4 0h-2V7h2v10zm4 0h-2v-4h2v4z\"/>\n",
              "    </g>\n",
              "</svg>\n",
              "  </button>\n",
              "\n",
              "<style>\n",
              "  .colab-df-quickchart {\n",
              "      --bg-color: #E8F0FE;\n",
              "      --fill-color: #1967D2;\n",
              "      --hover-bg-color: #E2EBFA;\n",
              "      --hover-fill-color: #174EA6;\n",
              "      --disabled-fill-color: #AAA;\n",
              "      --disabled-bg-color: #DDD;\n",
              "  }\n",
              "\n",
              "  [theme=dark] .colab-df-quickchart {\n",
              "      --bg-color: #3B4455;\n",
              "      --fill-color: #D2E3FC;\n",
              "      --hover-bg-color: #434B5C;\n",
              "      --hover-fill-color: #FFFFFF;\n",
              "      --disabled-bg-color: #3B4455;\n",
              "      --disabled-fill-color: #666;\n",
              "  }\n",
              "\n",
              "  .colab-df-quickchart {\n",
              "    background-color: var(--bg-color);\n",
              "    border: none;\n",
              "    border-radius: 50%;\n",
              "    cursor: pointer;\n",
              "    display: none;\n",
              "    fill: var(--fill-color);\n",
              "    height: 32px;\n",
              "    padding: 0;\n",
              "    width: 32px;\n",
              "  }\n",
              "\n",
              "  .colab-df-quickchart:hover {\n",
              "    background-color: var(--hover-bg-color);\n",
              "    box-shadow: 0 1px 2px rgba(60, 64, 67, 0.3), 0 1px 3px 1px rgba(60, 64, 67, 0.15);\n",
              "    fill: var(--button-hover-fill-color);\n",
              "  }\n",
              "\n",
              "  .colab-df-quickchart-complete:disabled,\n",
              "  .colab-df-quickchart-complete:disabled:hover {\n",
              "    background-color: var(--disabled-bg-color);\n",
              "    fill: var(--disabled-fill-color);\n",
              "    box-shadow: none;\n",
              "  }\n",
              "\n",
              "  .colab-df-spinner {\n",
              "    border: 2px solid var(--fill-color);\n",
              "    border-color: transparent;\n",
              "    border-bottom-color: var(--fill-color);\n",
              "    animation:\n",
              "      spin 1s steps(1) infinite;\n",
              "  }\n",
              "\n",
              "  @keyframes spin {\n",
              "    0% {\n",
              "      border-color: transparent;\n",
              "      border-bottom-color: var(--fill-color);\n",
              "      border-left-color: var(--fill-color);\n",
              "    }\n",
              "    20% {\n",
              "      border-color: transparent;\n",
              "      border-left-color: var(--fill-color);\n",
              "      border-top-color: var(--fill-color);\n",
              "    }\n",
              "    30% {\n",
              "      border-color: transparent;\n",
              "      border-left-color: var(--fill-color);\n",
              "      border-top-color: var(--fill-color);\n",
              "      border-right-color: var(--fill-color);\n",
              "    }\n",
              "    40% {\n",
              "      border-color: transparent;\n",
              "      border-right-color: var(--fill-color);\n",
              "      border-top-color: var(--fill-color);\n",
              "    }\n",
              "    60% {\n",
              "      border-color: transparent;\n",
              "      border-right-color: var(--fill-color);\n",
              "    }\n",
              "    80% {\n",
              "      border-color: transparent;\n",
              "      border-right-color: var(--fill-color);\n",
              "      border-bottom-color: var(--fill-color);\n",
              "    }\n",
              "    90% {\n",
              "      border-color: transparent;\n",
              "      border-bottom-color: var(--fill-color);\n",
              "    }\n",
              "  }\n",
              "</style>\n",
              "\n",
              "  <script>\n",
              "    async function quickchart(key) {\n",
              "      const quickchartButtonEl =\n",
              "        document.querySelector('#' + key + ' button');\n",
              "      quickchartButtonEl.disabled = true;  // To prevent multiple clicks.\n",
              "      quickchartButtonEl.classList.add('colab-df-spinner');\n",
              "      try {\n",
              "        const charts = await google.colab.kernel.invokeFunction(\n",
              "            'suggestCharts', [key], {});\n",
              "      } catch (error) {\n",
              "        console.error('Error during call to suggestCharts:', error);\n",
              "      }\n",
              "      quickchartButtonEl.classList.remove('colab-df-spinner');\n",
              "      quickchartButtonEl.classList.add('colab-df-quickchart-complete');\n",
              "    }\n",
              "    (() => {\n",
              "      let quickchartButtonEl =\n",
              "        document.querySelector('#df-9a6c67c2-7ce1-4f15-9958-421084eb899a button');\n",
              "      quickchartButtonEl.style.display =\n",
              "        google.colab.kernel.accessAllowed ? 'block' : 'none';\n",
              "    })();\n",
              "  </script>\n",
              "</div>\n",
              "\n",
              "  <div id=\"id_bc1c0544-fb8b-437c-a757-de5d2dad1fd2\">\n",
              "    <style>\n",
              "      .colab-df-generate {\n",
              "        background-color: #E8F0FE;\n",
              "        border: none;\n",
              "        border-radius: 50%;\n",
              "        cursor: pointer;\n",
              "        display: none;\n",
              "        fill: #1967D2;\n",
              "        height: 32px;\n",
              "        padding: 0 0 0 0;\n",
              "        width: 32px;\n",
              "      }\n",
              "\n",
              "      .colab-df-generate:hover {\n",
              "        background-color: #E2EBFA;\n",
              "        box-shadow: 0px 1px 2px rgba(60, 64, 67, 0.3), 0px 1px 3px 1px rgba(60, 64, 67, 0.15);\n",
              "        fill: #174EA6;\n",
              "      }\n",
              "\n",
              "      [theme=dark] .colab-df-generate {\n",
              "        background-color: #3B4455;\n",
              "        fill: #D2E3FC;\n",
              "      }\n",
              "\n",
              "      [theme=dark] .colab-df-generate:hover {\n",
              "        background-color: #434B5C;\n",
              "        box-shadow: 0px 1px 3px 1px rgba(0, 0, 0, 0.15);\n",
              "        filter: drop-shadow(0px 1px 2px rgba(0, 0, 0, 0.3));\n",
              "        fill: #FFFFFF;\n",
              "      }\n",
              "    </style>\n",
              "    <button class=\"colab-df-generate\" onclick=\"generateWithVariable('sub_df')\"\n",
              "            title=\"Generate code using this dataframe.\"\n",
              "            style=\"display:none;\">\n",
              "\n",
              "  <svg xmlns=\"http://www.w3.org/2000/svg\" height=\"24px\"viewBox=\"0 0 24 24\"\n",
              "       width=\"24px\">\n",
              "    <path d=\"M7,19H8.4L18.45,9,17,7.55,7,17.6ZM5,21V16.75L18.45,3.32a2,2,0,0,1,2.83,0l1.4,1.43a1.91,1.91,0,0,1,.58,1.4,1.91,1.91,0,0,1-.58,1.4L9.25,21ZM18.45,9,17,7.55Zm-12,3A5.31,5.31,0,0,0,4.9,8.1,5.31,5.31,0,0,0,1,6.5,5.31,5.31,0,0,0,4.9,4.9,5.31,5.31,0,0,0,6.5,1,5.31,5.31,0,0,0,8.1,4.9,5.31,5.31,0,0,0,12,6.5,5.46,5.46,0,0,0,6.5,12Z\"/>\n",
              "  </svg>\n",
              "    </button>\n",
              "    <script>\n",
              "      (() => {\n",
              "      const buttonEl =\n",
              "        document.querySelector('#id_bc1c0544-fb8b-437c-a757-de5d2dad1fd2 button.colab-df-generate');\n",
              "      buttonEl.style.display =\n",
              "        google.colab.kernel.accessAllowed ? 'block' : 'none';\n",
              "\n",
              "      buttonEl.onclick = () => {\n",
              "        google.colab.notebook.generateWithVariable('sub_df');\n",
              "      }\n",
              "      })();\n",
              "    </script>\n",
              "  </div>\n",
              "\n",
              "    </div>\n",
              "  </div>\n"
            ],
            "application/vnd.google.colaboratory.intrinsic+json": {
              "type": "dataframe",
              "variable_name": "sub_df",
              "summary": "{\n  \"name\": \"sub_df\",\n  \"rows\": 10203,\n  \"fields\": [\n    {\n      \"column\": \"0\",\n      \"properties\": {\n        \"dtype\": \"number\",\n        \"std\": 0,\n        \"min\": 0,\n        \"max\": 1,\n        \"num_unique_values\": 2,\n        \"samples\": [\n          1,\n          0\n        ],\n        \"semantic_type\": \"\",\n        \"description\": \"\"\n      }\n    },\n    {\n      \"column\": \"stroke\",\n      \"properties\": {\n        \"dtype\": \"number\",\n        \"std\": 0,\n        \"min\": 0,\n        \"max\": 1,\n        \"num_unique_values\": 2,\n        \"samples\": [\n          1,\n          0\n        ],\n        \"semantic_type\": \"\",\n        \"description\": \"\"\n      }\n    }\n  ]\n}"
            }
          },
          "metadata": {},
          "execution_count": 155
        }
      ]
    },
    {
      "cell_type": "code",
      "source": [
        "train_df.columns"
      ],
      "metadata": {
        "colab": {
          "base_uri": "https://localhost:8080/"
        },
        "id": "gs79j4PGZJi4",
        "outputId": "6546c76f-e6a5-4ff2-b635-f2a0c6c6d128"
      },
      "execution_count": null,
      "outputs": [
        {
          "output_type": "execute_result",
          "data": {
            "text/plain": [
              "Index(['id', 'gender', 'age', 'hypertension', 'heart_disease', 'ever_married',\n",
              "       'work_type', 'Residence_type', 'avg_glucose_level', 'bmi',\n",
              "       'smoking_status', 'stroke'],\n",
              "      dtype='object')"
            ]
          },
          "metadata": {},
          "execution_count": 156
        }
      ]
    },
    {
      "cell_type": "code",
      "source": [
        "single_input = {\n",
        "    'gender': 'Male',\n",
        "    'age': 33,\n",
        "    'hypertension':0,\n",
        "    'heart_disease': 0,\n",
        "    'ever_married':'Yes',\n",
        "    'work_type':'Private',\n",
        "    'Residence_type':'Urban',\n",
        "    'avg_glucose_level':79.53,\n",
        "    'bmi': 31.10,\n",
        "    'smoking_status': 'formerly smoked'\n",
        "}"
      ],
      "metadata": {
        "id": "kqGkVpMFZLce"
      },
      "execution_count": null,
      "outputs": []
    },
    {
      "cell_type": "code",
      "source": [
        "input_df = pd.DataFrame([single_input])"
      ],
      "metadata": {
        "id": "UKTuCe7YZM7f"
      },
      "execution_count": null,
      "outputs": []
    },
    {
      "cell_type": "code",
      "source": [
        "input_df[encoded_cols] = preprocessor.transform(input_df)"
      ],
      "metadata": {
        "id": "uOWz5p1VZimG"
      },
      "execution_count": null,
      "outputs": []
    },
    {
      "cell_type": "code",
      "source": [
        "X = input_df[numerical_cols + encoded_cols]"
      ],
      "metadata": {
        "id": "S5BKkhwYZkU-"
      },
      "execution_count": null,
      "outputs": []
    },
    {
      "cell_type": "code",
      "source": [
        "lr_with_smote.predict(X)"
      ],
      "metadata": {
        "colab": {
          "base_uri": "https://localhost:8080/"
        },
        "id": "wEeOHPd1Zl0-",
        "outputId": "46398f32-5b62-4f81-f260-4078db7ebead"
      },
      "execution_count": null,
      "outputs": [
        {
          "output_type": "execute_result",
          "data": {
            "text/plain": [
              "array([0])"
            ]
          },
          "metadata": {},
          "execution_count": 162
        }
      ]
    },
    {
      "cell_type": "code",
      "source": [
        "import joblib"
      ],
      "metadata": {
        "id": "6hifl5_hZnie"
      },
      "execution_count": null,
      "outputs": []
    },
    {
      "cell_type": "code",
      "source": [
        "model = {\n",
        "    'encoded_cols': encoded_cols,\n",
        "    'numeric_cols':numerical_cols,\n",
        "    'preprocessor': preprocessor,\n",
        "    'model': lr_with_smote\n",
        "}"
      ],
      "metadata": {
        "id": "-1LS8ktpZozH"
      },
      "execution_count": null,
      "outputs": []
    },
    {
      "cell_type": "code",
      "source": [
        "joblib.dump(model, 'model.joblib')"
      ],
      "metadata": {
        "colab": {
          "base_uri": "https://localhost:8080/"
        },
        "id": "6m5uo_nIZrIe",
        "outputId": "e58fa4a5-03cb-41b8-a8c7-c73780038de9"
      },
      "execution_count": null,
      "outputs": [
        {
          "output_type": "execute_result",
          "data": {
            "text/plain": [
              "['model.joblib']"
            ]
          },
          "metadata": {},
          "execution_count": 165
        }
      ]
    },
    {
      "cell_type": "code",
      "source": [],
      "metadata": {
        "id": "-UC4PlNJZspW"
      },
      "execution_count": null,
      "outputs": []
    }
  ]
}